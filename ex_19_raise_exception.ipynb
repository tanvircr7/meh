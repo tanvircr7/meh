{
  "nbformat": 4,
  "nbformat_minor": 0,
  "metadata": {
    "colab": {
      "provenance": [],
      "authorship_tag": "ABX9TyOLEdrsxmjS8Z/ZNHvFPc0O",
      "include_colab_link": true
    },
    "kernelspec": {
      "name": "python3",
      "display_name": "Python 3"
    },
    "language_info": {
      "name": "python"
    }
  },
  "cells": [
    {
      "cell_type": "markdown",
      "metadata": {
        "id": "view-in-github",
        "colab_type": "text"
      },
      "source": [
        "<a href=\"https://colab.research.google.com/github/tanvircr7/meh/blob/master/ex_19_raise_exception.ipynb\" target=\"_parent\"><img src=\"https://colab.research.google.com/assets/colab-badge.svg\" alt=\"Open In Colab\"/></a>"
      ]
    },
    {
      "cell_type": "code",
      "source": [],
      "metadata": {
        "colab": {
          "base_uri": "https://localhost:8080/",
          "height": 141
        },
        "id": "aLZBxVayycFc",
        "outputId": "a8e2a3c5-567e-4eff-9ca9-0cdd6cd9876c"
      },
      "execution_count": 2,
      "outputs": [
        {
          "output_type": "error",
          "ename": "NameError",
          "evalue": "name 'app' is not defined",
          "traceback": [
            "\u001b[0;31m---------------------------------------------------------------------------\u001b[0m",
            "\u001b[0;31mNameError\u001b[0m                                 Traceback (most recent call last)",
            "\u001b[0;32m<ipython-input-2-3b7ef62b1276>\u001b[0m in \u001b[0;36m<cell line: 1>\u001b[0;34m()\u001b[0m\n\u001b[0;32m----> 1\u001b[0;31m \u001b[0mapp\u001b[0m\u001b[0;34m.\u001b[0m\u001b[0mdisable_code_suggestions\u001b[0m \u001b[0;34m=\u001b[0m \u001b[0;32mTrue\u001b[0m\u001b[0;34m\u001b[0m\u001b[0;34m\u001b[0m\u001b[0m\n\u001b[0m",
            "\u001b[0;31mNameError\u001b[0m: name 'app' is not defined"
          ]
        }
      ]
    },
    {
      "cell_type": "code",
      "execution_count": 7,
      "metadata": {
        "colab": {
          "base_uri": "https://localhost:8080/"
        },
        "id": "sQcEriUZwmHQ",
        "outputId": "d8fb7f93-65d2-42ae-d5cf-606a36afb6d2"
      },
      "outputs": [
        {
          "output_type": "stream",
          "name": "stdout",
          "text": [
            "ERROR : Below 18\n",
            "Name: Tanvir, Age: 25\n",
            "Name: Yuji, Age: 16\n"
          ]
        }
      ],
      "source": [
        "# Custom Exceptions\n",
        "# Using custom exceptions with try except block\n",
        "\n",
        "class AdultException(Exception):\n",
        "  def __init__(self, message=\"Minor\"):\n",
        "    self.message = message\n",
        "    super().__init__(self.message)\n",
        "\n",
        "class Person():\n",
        "  def __init__(self, name, age):\n",
        "    self.name = name\n",
        "    self.age = age\n",
        "  def get_minor_age(self):\n",
        "    exp = AdultException(\"Below 18\")\n",
        "    if self.age < 18:\n",
        "      raise exp\n",
        "    else:\n",
        "      return self.age\n",
        "  def display_person(self):\n",
        "    print(f\"Name: {self.name}, Age: {self.age}\")\n",
        "\n",
        "\n",
        "tanvir = Person(\"Tanvir\", 25)\n",
        "yuji = Person(\"Yuji\", 16)\n",
        "\n",
        "try :\n",
        "  tanvir.get_minor_age()\n",
        "except Exception as e:\n",
        "  print(f\"ERROR : {e}\")\n",
        "\n",
        "try :\n",
        "  yuji.get_minor_age()\n",
        "except Exception as e:\n",
        "  print(f\"ERROR : {e}\")\n",
        "\n",
        "tanvir.display_person()\n",
        "yuji.display_person()"
      ]
    },
    {
      "cell_type": "code",
      "source": [
        "pr"
      ],
      "metadata": {
        "id": "oL-riv1Nyaks"
      },
      "execution_count": null,
      "outputs": []
    },
    {
      "cell_type": "code",
      "source": [
        "\n",
        "\n"
      ],
      "metadata": {
        "id": "2h6ukdGqwnrm"
      },
      "execution_count": null,
      "outputs": []
    },
    {
      "cell_type": "code",
      "source": [],
      "metadata": {
        "id": "R-AVYJdjwnpE"
      },
      "execution_count": null,
      "outputs": []
    },
    {
      "cell_type": "code",
      "source": [],
      "metadata": {
        "id": "h9gykhkwwnmc"
      },
      "execution_count": null,
      "outputs": []
    },
    {
      "cell_type": "code",
      "source": [],
      "metadata": {
        "id": "lUhBdkDjwnkA"
      },
      "execution_count": null,
      "outputs": []
    },
    {
      "cell_type": "code",
      "source": [],
      "metadata": {
        "id": "_tpPXNYRwngM"
      },
      "execution_count": null,
      "outputs": []
    }
  ]
}