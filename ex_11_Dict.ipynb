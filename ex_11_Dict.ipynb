{
  "nbformat": 4,
  "nbformat_minor": 0,
  "metadata": {
    "colab": {
      "provenance": [],
      "authorship_tag": "ABX9TyNlSyu1uJKobm7UUegq83DI",
      "include_colab_link": true
    },
    "kernelspec": {
      "name": "python3",
      "display_name": "Python 3"
    },
    "language_info": {
      "name": "python"
    }
  },
  "cells": [
    {
      "cell_type": "markdown",
      "metadata": {
        "id": "view-in-github",
        "colab_type": "text"
      },
      "source": [
        "<a href=\"https://colab.research.google.com/github/tanvircr7/meh/blob/master/ex_11_Dict.ipynb\" target=\"_parent\"><img src=\"https://colab.research.google.com/assets/colab-badge.svg\" alt=\"Open In Colab\"/></a>"
      ]
    },
    {
      "cell_type": "code",
      "execution_count": null,
      "metadata": {
        "id": "7JpqXwoIuRDZ"
      },
      "outputs": [],
      "source": [
        "population = {\n",
        "    'china': 143,\n",
        "    'india': 136,\n",
        "    'usa': 32,\n",
        "    'pakistan': 21\n",
        "}\n",
        "\n",
        "# access clues\n",
        "# for country in population ... country now can loop through all the left values of the dict and population[country] let's it access the right values\n",
        "\n",
        "def add():\n",
        "    country = input('Enter name of country:')\n",
        "    country = country.lower()\n",
        "\n",
        "    if country in population:\n",
        "      print(\"already there\")\n",
        "      return\n",
        "    else :\n",
        "      population[country] = int(input(\"enter population number\"))\n",
        "      print_all()\n",
        "      return\n",
        "\n",
        "def remove():\n",
        "    country = input(\"Enter country name to remove:\")\n",
        "    country = country.lower()\n",
        "    if country not in population:\n",
        "        print(\"Country doesn't exist in our dataset. Terminating\")\n",
        "        return\n",
        "    del population[country]\n",
        "    print_all()\n",
        "\n",
        "def query():\n",
        "    country = input(\"Enter country name to query:\")\n",
        "    country = country.lower()\n",
        "    if country not in population:\n",
        "        print(\"Country doesn't exist in our dataset. Terminating\")\n",
        "        return\n",
        "    print(f\"Population of {country} is: {population[country]} crore\")\n",
        "\n",
        "def print_all():\n",
        "    # for country in population:\n",
        "    #   print(f'{country} - population {population[country]}')\n",
        "    for country, pop in population.items():\n",
        "      print(f'{country} - population {pop}')\n",
        "\n",
        "def main():\n",
        "    op=input(\"Enter operation (add, remove, query or print):\")\n",
        "    if op.lower() == 'add':\n",
        "        add()\n",
        "    elif op.lower() == 'remove':\n",
        "        remove()\n",
        "    elif op.lower() == 'query':\n",
        "        query()\n",
        "    elif op.lower() == 'print':\n",
        "        print_all()\n",
        "\n",
        "if __name__ == '__main__':\n",
        "    main()"
      ]
    },
    {
      "cell_type": "code",
      "source": [],
      "metadata": {
        "id": "PvSmtkP8A1VK"
      },
      "execution_count": null,
      "outputs": []
    }
  ]
}