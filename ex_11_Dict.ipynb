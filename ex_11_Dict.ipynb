{
  "nbformat": 4,
  "nbformat_minor": 0,
  "metadata": {
    "colab": {
      "provenance": [],
      "authorship_tag": "ABX9TyOpnLX3QpulydgMT0hbOake",
      "include_colab_link": true
    },
    "kernelspec": {
      "name": "python3",
      "display_name": "Python 3"
    },
    "language_info": {
      "name": "python"
    }
  },
  "cells": [
    {
      "cell_type": "markdown",
      "metadata": {
        "id": "view-in-github",
        "colab_type": "text"
      },
      "source": [
        "<a href=\"https://colab.research.google.com/github/tanvircr7/meh/blob/master/ex_11_Dict.ipynb\" target=\"_parent\"><img src=\"https://colab.research.google.com/assets/colab-badge.svg\" alt=\"Open In Colab\"/></a>"
      ]
    },
    {
      "cell_type": "code",
      "execution_count": 7,
      "metadata": {
        "colab": {
          "base_uri": "https://localhost:8080/"
        },
        "id": "7JpqXwoIuRDZ",
        "outputId": "6a93b8d1-0d00-41e1-d2b4-12849eac53ad"
      },
      "outputs": [
        {
          "output_type": "stream",
          "name": "stdout",
          "text": [
            "Enter operation (add, remove, query or print):print\n",
            "china - population 143\n",
            "india - population 136\n",
            "usa - population 32\n",
            "pakistan - population 21\n"
          ]
        }
      ],
      "source": [
        "population = {\n",
        "    'china': 143,\n",
        "    'india': 136,\n",
        "    'usa': 32,\n",
        "    'pakistan': 21\n",
        "}\n",
        "\n",
        "# access clues\n",
        "# for country in population ... country now can loop through all the left values of the dict and population[country] let's it access the right values\n",
        "\n",
        "def add():\n",
        "    country = input('Enter name of country:')\n",
        "    country = country.lower()\n",
        "\n",
        "    if country in population:\n",
        "      print(\"already there\")\n",
        "      return\n",
        "    else :\n",
        "      population[country] = int(input(\"enter population number\"))\n",
        "      print_all()\n",
        "      return\n",
        "\n",
        "def remove():\n",
        "    country = input(\"Enter country name to remove:\")\n",
        "    country = country.lower()\n",
        "    if country not in population:\n",
        "        print(\"Country doesn't exist in our dataset. Terminating\")\n",
        "        return\n",
        "    del population[country]\n",
        "    print_all()\n",
        "\n",
        "def query():\n",
        "    country = input(\"Enter country name to query:\")\n",
        "    country = country.lower()\n",
        "    if country not in population:\n",
        "        print(\"Country doesn't exist in our dataset. Terminating\")\n",
        "        return\n",
        "    print(f\"Population of {country} is: {population[country]} crore\")\n",
        "\n",
        "def print_all():\n",
        "    # for country in population:\n",
        "    #   print(f'{country} - population {population[country]}')\n",
        "    for country, pop in population.items():\n",
        "      print(f'{country} - population {pop}')\n",
        "\n",
        "def main():\n",
        "    op=input(\"Enter operation (add, remove, query or print):\")\n",
        "    if op.lower() == 'add':\n",
        "        add()\n",
        "    elif op.lower() == 'remove':\n",
        "        remove()\n",
        "    elif op.lower() == 'query':\n",
        "        query()\n",
        "    elif op.lower() == 'print':\n",
        "        print_all()\n",
        "\n",
        "if __name__ == '__main__':\n",
        "    main()"
      ]
    },
    {
      "cell_type": "code",
      "source": [
        "stocks = {\n",
        "    'info': [600,630,620],\n",
        "    'ril': [1430,1490,1567],\n",
        "    'mtl': [234,180,160],\n",
        "}\n",
        "\n",
        "# access clues\n",
        "# for country in population ... country now can loop through all the left values of the dict and population[country] let's it access the right values\n",
        "\n",
        "def add():\n",
        "    ticker = input('Enter stock ticker:')\n",
        "    ticker = ticker.lower()\n",
        "    price = input(\"enter price: \")\n",
        "    List = list([])\n",
        "    price = List.append(float(price)5)\n",
        "\n",
        "    if ticker in stocks:\n",
        "      print(\"already there\")\n",
        "      stocks[ticker].append(price)\n",
        "      print_all()\n",
        "      return\n",
        "    else :\n",
        "      stocks[ticker] = List\n",
        "      print_all()\n",
        "      return\n",
        "\n",
        "def print_all():\n",
        "    # for country in population:\n",
        "    #   print(f'{country} - population {population[country]}')\n",
        "    for name, values in stocks.items():\n",
        "      print(f'{name} ==> ')\n",
        "      sum = 0\n",
        "      print(values)\n",
        "      for val in values:\n",
        "        print(f'{val}, ')\n",
        "        sum += val\n",
        "      print(f' --> AVG: {sum/len(values)}')\n",
        "\n",
        "def main():\n",
        "    op=input(\"Enter operation (add, remove, query or print):\")\n",
        "    if op.lower() == 'add':\n",
        "        add()\n",
        "    elif op.lower() == 'print':\n",
        "        print_all()\n",
        "\n",
        "if __name__ == '__main__':\n",
        "    main()"
      ],
      "metadata": {
        "colab": {
          "base_uri": "https://localhost:8080/"
        },
        "id": "PvSmtkP8A1VK",
        "outputId": "534bcd01-fe07-4649-e5ce-8b299d822e32"
      },
      "execution_count": 17,
      "outputs": [
        {
          "output_type": "stream",
          "name": "stdout",
          "text": [
            "Enter operation (add, remove, query or print):add\n",
            "Enter stock ticker:apple\n",
            "enter price: 500\n",
            "info ==> \n",
            "[600, 630, 620]\n",
            "600, \n",
            "630, \n",
            "620, \n",
            " --> AVG: 616.6666666666666\n",
            "ril ==> \n",
            "[1430, 1490, 1567]\n",
            "1430, \n",
            "1490, \n",
            "1567, \n",
            " --> AVG: 1495.6666666666667\n",
            "mtl ==> \n",
            "[234, 180, 160]\n",
            "234, \n",
            "180, \n",
            "160, \n",
            " --> AVG: 191.33333333333334\n",
            "apple ==> \n",
            "[500.0]\n",
            "500.0, \n",
            " --> AVG: 500.0\n"
          ]
        }
      ]
    }
  ]
}