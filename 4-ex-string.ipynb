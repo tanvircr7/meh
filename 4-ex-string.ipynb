{
  "nbformat": 4,
  "nbformat_minor": 0,
  "metadata": {
    "colab": {
      "provenance": [],
      "authorship_tag": "ABX9TyND8/ueq0jyipet/Gxnr4VV",
      "include_colab_link": true
    },
    "kernelspec": {
      "name": "python3",
      "display_name": "Python 3"
    },
    "language_info": {
      "name": "python"
    }
  },
  "cells": [
    {
      "cell_type": "markdown",
      "metadata": {
        "id": "view-in-github",
        "colab_type": "text"
      },
      "source": [
        "<a href=\"https://colab.research.google.com/github/tanvircr7/meh/blob/master/4-ex-string.ipynb\" target=\"_parent\"><img src=\"https://colab.research.google.com/assets/colab-badge.svg\" alt=\"Open In Colab\"/></a>"
      ]
    },
    {
      "cell_type": "code",
      "execution_count": 1,
      "metadata": {
        "colab": {
          "base_uri": "https://localhost:8080/"
        },
        "id": "TopgOOpPQFe8",
        "outputId": "346e7340-400a-4174-947f-651230fe0b31"
      },
      "outputs": [
        {
          "output_type": "stream",
          "name": "stdout",
          "text": [
            "revolves\n",
            "sun\n"
          ]
        }
      ],
      "source": [
        "s='Earth revolves around the sun'\n",
        "print(s[6:14]) # [ ) means this basically\n",
        "print(s[-3:]) # [ ) means this but backwards goes from 0 -> 3(not included)"
      ]
    },
    {
      "cell_type": "code",
      "source": [
        "street = \"13 patli gali\"\n",
        "city = \"New Delhi\"\n",
        "country = \"India\"\n",
        "address = street + '\\n' + city + '\\n' + country\n",
        "print(\"Address using + operator:\",address)\n",
        "address = f'{street}\\n{city}\\n{country}'\n",
        "print(\"Address using f-string:\",address)"
      ],
      "metadata": {
        "colab": {
          "base_uri": "https://localhost:8080/"
        },
        "id": "X9aCj-rVQWLb",
        "outputId": "9caf9850-398c-4844-b187-d7b3ad5f036e"
      },
      "execution_count": 4,
      "outputs": [
        {
          "output_type": "stream",
          "name": "stdout",
          "text": [
            "Address using + operator: 13 patli gali\n",
            "New Delhi\n",
            "India\n",
            "Address using f-string: 13 patli gali\n",
            "New Delhi\n",
            "India\n"
          ]
        }
      ]
    },
    {
      "cell_type": "code",
      "source": [
        "num_fruits=10\n",
        "num_veggies=5\n",
        "print(f\"I eat {num_veggies} veggies and {num_fruits} daily\")\n"
      ],
      "metadata": {
        "colab": {
          "base_uri": "https://localhost:8080/"
        },
        "id": "mXHuWCvwQWTT",
        "outputId": "140d9aa6-7bdb-4601-f9ef-dde2c5ceb51c"
      },
      "execution_count": 3,
      "outputs": [
        {
          "output_type": "stream",
          "name": "stdout",
          "text": [
            "I eat 5 veggies and 10 daily\n"
          ]
        }
      ]
    },
    {
      "cell_type": "code",
      "source": [
        "# 4. I have a string variable called s='maine 200 banana khaye'. This of course is a\n",
        "# wrong statement, the correct statement is 'maine 10 samosa khaye'.\n",
        "# Replace incorrect words in original strong with new ones and print the new string.\n",
        "# Also try to do this in one line.\n",
        "s='maine 200 banana khaye'\n",
        "s=s.replace('banana','samosa')\n",
        "s=s.replace('200','10')\n",
        "print(\"Using two line replace:\",s)\n",
        "\n",
        "x='maine 200 banana khaye'\n",
        "x=x.replace('banana','samosa').replace('200','10')\n",
        "print(\"Using single line:\",x)"
      ],
      "metadata": {
        "colab": {
          "base_uri": "https://localhost:8080/"
        },
        "id": "r771huoCQWWK",
        "outputId": "9ca44a8f-e470-4b0b-bd10-9a6811175fc5"
      },
      "execution_count": 6,
      "outputs": [
        {
          "output_type": "stream",
          "name": "stdout",
          "text": [
            "Using two line replace: maine 10 samosa khaye\n",
            "Using single line: maine 10 samosa khaye\n"
          ]
        }
      ]
    },
    {
      "cell_type": "code",
      "source": [
        "s=\"you have built and have been faithful to yourself for something\"\n",
        "s = s.replace('built','destroyed').replace('have been faithful to','betrayed').replace('something','nothing')\n",
        "s"
      ],
      "metadata": {
        "colab": {
          "base_uri": "https://localhost:8080/",
          "height": 35
        },
        "id": "G8xr3N-2QWYi",
        "outputId": "a78fa0af-aecd-4874-dbb1-5bd6b6e0f691"
      },
      "execution_count": 7,
      "outputs": [
        {
          "output_type": "execute_result",
          "data": {
            "text/plain": [
              "'you have destroyed and betrayed yourself for nothing'"
            ],
            "application/vnd.google.colaboratory.intrinsic+json": {
              "type": "string"
            }
          },
          "metadata": {},
          "execution_count": 7
        }
      ]
    },
    {
      "cell_type": "code",
      "source": [
        "s=\"you have built built and have been faithful to yourself for something\"\n",
        "s = s.replace('built','destroyed').replace('have been faithful to','betrayed').replace('something','nothing')\n",
        "s"
      ],
      "metadata": {
        "colab": {
          "base_uri": "https://localhost:8080/",
          "height": 35
        },
        "id": "vfefC8e6QWdB",
        "outputId": "50932b7a-e075-47fa-f1b1-9777d5aa2520"
      },
      "execution_count": 8,
      "outputs": [
        {
          "output_type": "execute_result",
          "data": {
            "text/plain": [
              "'you have destroyed destroyed and betrayed yourself for nothing'"
            ],
            "application/vnd.google.colaboratory.intrinsic+json": {
              "type": "string"
            }
          },
          "metadata": {},
          "execution_count": 8
        }
      ]
    },
    {
      "cell_type": "code",
      "source": [],
      "metadata": {
        "id": "SMrvV03IQWfY"
      },
      "execution_count": null,
      "outputs": []
    },
    {
      "cell_type": "code",
      "source": [],
      "metadata": {
        "id": "i-0H5eZvQWh2"
      },
      "execution_count": null,
      "outputs": []
    },
    {
      "cell_type": "code",
      "source": [],
      "metadata": {
        "id": "n45ZaK2oQWoi"
      },
      "execution_count": null,
      "outputs": []
    },
    {
      "cell_type": "code",
      "source": [],
      "metadata": {
        "id": "gbotYZk1QWra"
      },
      "execution_count": null,
      "outputs": []
    }
  ]
}