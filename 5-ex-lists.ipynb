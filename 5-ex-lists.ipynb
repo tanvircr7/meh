{
  "nbformat": 4,
  "nbformat_minor": 0,
  "metadata": {
    "colab": {
      "provenance": [],
      "authorship_tag": "ABX9TyMKGpb1jTkPwFCo46XNREMv",
      "include_colab_link": true
    },
    "kernelspec": {
      "name": "python3",
      "display_name": "Python 3"
    },
    "language_info": {
      "name": "python"
    }
  },
  "cells": [
    {
      "cell_type": "markdown",
      "metadata": {
        "id": "view-in-github",
        "colab_type": "text"
      },
      "source": [
        "<a href=\"https://colab.research.google.com/github/tanvircr7/meh/blob/master/5-ex-lists.ipynb\" target=\"_parent\"><img src=\"https://colab.research.google.com/assets/colab-badge.svg\" alt=\"Open In Colab\"/></a>"
      ]
    },
    {
      "cell_type": "code",
      "execution_count": 1,
      "metadata": {
        "id": "j-xn-r5gSJYY"
      },
      "outputs": [],
      "source": [
        "# 1. Let us say your expense for every month are listed below,\n",
        "# \t1. January -  2200\n",
        "#  \t2. February - 2350\n",
        "#     3. March - 2600\n",
        "#     4. April - 2130\n",
        "#     5. May - 2190\n",
        "#\n",
        "# Create a list to store these monthly expenses and using that find out,\n",
        "#\n",
        "# 1. In Feb, how many dollars you spent extra compare to January?\n",
        "# 2. Find out your total expense in first quarter (first three months) of the year.\n",
        "# 3. Find out if you spent exactly 2000 dollars in any month\n",
        "# 4. June month just finished and your expense is 1980 dollar. Add this item to our monthly expense list\n",
        "# 5. You returned an item that you bought in a month of April and\n",
        "# got a refund of 200$. Make a correction to your monthly expense list\n",
        "# based on this\n",
        "\n",
        "exp = [2200,2350,2600,2130,2190]"
      ]
    },
    {
      "cell_type": "code",
      "source": [
        "# 1. In Feb, how many dollars you spent extra compare to January?\n",
        "print(\"In feb this much extra was spent compared to jan:\",exp[1]-exp[0]) # 150"
      ],
      "metadata": {
        "colab": {
          "base_uri": "https://localhost:8080/"
        },
        "id": "v-C8Ty6eSXTU",
        "outputId": "1852cd6f-d445-4de0-b394-f84b3b850dd3"
      },
      "execution_count": 2,
      "outputs": [
        {
          "output_type": "stream",
          "name": "stdout",
          "text": [
            "In feb this much extra was spent compared to jan: 150\n"
          ]
        }
      ]
    },
    {
      "cell_type": "code",
      "source": [
        "# 2. Find out your total expense in first quarter (first three months) of the year\n",
        "print(\"Expense for first quarter:\",exp[0]+exp[1]+exp[2]) # 7150"
      ],
      "metadata": {
        "colab": {
          "base_uri": "https://localhost:8080/"
        },
        "id": "Xw7AGxtBSXWE",
        "outputId": "6980d5a8-b934-4950-e558-3a17ffe96626"
      },
      "execution_count": 3,
      "outputs": [
        {
          "output_type": "stream",
          "name": "stdout",
          "text": [
            "Expense for first quarter: 7150\n"
          ]
        }
      ]
    },
    {
      "cell_type": "code",
      "source": [
        "# 3. Find out if you spent exactly 2000 dollars in any month\n",
        "print(\"Did I spent 2000$ in any month? \", 2000 in exp) # False\n",
        "value = 2350 in exp\n",
        "value"
      ],
      "metadata": {
        "colab": {
          "base_uri": "https://localhost:8080/"
        },
        "id": "o30EF5xRSXZB",
        "outputId": "8107ebb9-25fc-4290-ee61-645508a7c55d"
      },
      "execution_count": 8,
      "outputs": [
        {
          "output_type": "stream",
          "name": "stdout",
          "text": [
            "Did I spent 2000$ in any month?  False\n"
          ]
        },
        {
          "output_type": "execute_result",
          "data": {
            "text/plain": [
              "True"
            ]
          },
          "metadata": {},
          "execution_count": 8
        }
      ]
    },
    {
      "cell_type": "code",
      "source": [
        "# 4. June month just finished and your expense is 1980 dollar. Add this item to our monthly expense list\n",
        "exp.append(1980)\n",
        "print(\"Expenses at the end of June:\",exp) # [2200, 2350, 2600, 2130, 2190, 1980]"
      ],
      "metadata": {
        "colab": {
          "base_uri": "https://localhost:8080/"
        },
        "id": "ntgocLntSe4F",
        "outputId": "4eac771d-0a33-4eb6-a681-ab437647f8eb"
      },
      "execution_count": 5,
      "outputs": [
        {
          "output_type": "stream",
          "name": "stdout",
          "text": [
            "Expenses at the end of June: [2200, 2350, 2600, 2130, 2190, 1980]\n"
          ]
        }
      ]
    },
    {
      "cell_type": "code",
      "source": [
        "# 5. You returned an item that you bought in a month of April and\n",
        "# got a refund of 200$. Make a correction to your monthly expense list\n",
        "# based on this\n",
        "exp[3] = exp[3] - 200\n",
        "print(\"Expenses after 200$ return in April:\",exp) # [2200, 2350, 2600, 1930, 2190, 1980]"
      ],
      "metadata": {
        "colab": {
          "base_uri": "https://localhost:8080/"
        },
        "id": "V9foL2eOSe1Q",
        "outputId": "c80e83cb-34cc-4ed1-dd4e-dadeed9aa1eb"
      },
      "execution_count": 6,
      "outputs": [
        {
          "output_type": "stream",
          "name": "stdout",
          "text": [
            "Expenses after 200$ return in April: [2200, 2350, 2600, 1930, 2190, 1980]\n"
          ]
        }
      ]
    },
    {
      "cell_type": "code",
      "source": [
        "# 2. You have a list of your favourite marvel super heros\n",
        "# heros=['spider man','thor','hulk','iron man','captain america']\n",
        "# Using this list\n",
        "\n",
        "heros=['spider man','thor','hulk','iron man','captain america']"
      ],
      "metadata": {
        "id": "n8m7L1LFSexw"
      },
      "execution_count": 9,
      "outputs": []
    },
    {
      "cell_type": "code",
      "source": [
        "# 1. Length of the list\n",
        "print(len(heros))"
      ],
      "metadata": {
        "colab": {
          "base_uri": "https://localhost:8080/"
        },
        "id": "e3nbLav7SXbL",
        "outputId": "f3b1e8b5-6b03-4778-ac57-3a65c928eba6"
      },
      "execution_count": 10,
      "outputs": [
        {
          "output_type": "stream",
          "name": "stdout",
          "text": [
            "5\n"
          ]
        }
      ]
    },
    {
      "cell_type": "code",
      "source": [
        "# 2. Add 'black panther' at the end of this list\n",
        "heros.append('black panther')\n",
        "print(heros)"
      ],
      "metadata": {
        "colab": {
          "base_uri": "https://localhost:8080/"
        },
        "id": "z4J_y_TpSXdF",
        "outputId": "e057875e-4faa-4909-e98d-16f3914c4d3b"
      },
      "execution_count": 11,
      "outputs": [
        {
          "output_type": "stream",
          "name": "stdout",
          "text": [
            "['spider man', 'thor', 'hulk', 'iron man', 'captain america', 'black panther']\n"
          ]
        }
      ]
    },
    {
      "cell_type": "code",
      "source": [
        "# 3. You realize that you need to add 'black panther' after 'hulk',\n",
        "# so remove it from the list first and then add it after 'hulk'\n",
        "heros.remove('black panther')\n",
        "heros.insert(3,'black panther')\n",
        "print(heros)"
      ],
      "metadata": {
        "colab": {
          "base_uri": "https://localhost:8080/"
        },
        "id": "RmNisH1FSXfP",
        "outputId": "4e5dbbdd-9a7a-4e58-aee8-9f0d8f3cef13"
      },
      "execution_count": 12,
      "outputs": [
        {
          "output_type": "stream",
          "name": "stdout",
          "text": [
            "['spider man', 'thor', 'hulk', 'black panther', 'iron man', 'captain america']\n"
          ]
        }
      ]
    },
    {
      "cell_type": "code",
      "source": [
        "# 4. Now you don't like thor and hulk because they get angry easily :)\n",
        "#    So you want to remove thor and hulk from list and replace them with doctor strange (because he is cool).\n",
        "#    Do that with one line of code.\n",
        "heros[1:3]=['doctor strange']\n",
        "# SAME THING with the string [n:m] where [n, m) goes from 1 index up until 2\n",
        "print(heros)\n",
        "# 5. Sort the list in alphabetical order\n",
        "heros.sort()\n",
        "print(heros)"
      ],
      "metadata": {
        "colab": {
          "base_uri": "https://localhost:8080/"
        },
        "id": "7HE4cHIdTEdq",
        "outputId": "c10b949c-3636-40b0-92f5-a190ee985be2"
      },
      "execution_count": 15,
      "outputs": [
        {
          "output_type": "stream",
          "name": "stdout",
          "text": [
            "['black panther', 'doctor strange']\n",
            "['black panther', 'doctor strange']\n"
          ]
        }
      ]
    },
    {
      "cell_type": "code",
      "source": [
        "sugar=input(\"Please enter your fasting sugar level:\")\n",
        "sugar=float(sugar)\n",
        "if sugar<80:\n",
        "    print(\"Your sugar is low, go eat some jalebi :)\")\n",
        "elif sugar>100:\n",
        "    print(\"Your sugar is high, stop eating all mithais..!\")\n",
        "else:\n",
        "    print(\"Your sugar is normal, relax and enjoy your life!\")"
      ],
      "metadata": {
        "colab": {
          "base_uri": "https://localhost:8080/"
        },
        "id": "JkJaHIK7TEZh",
        "outputId": "ae0611f7-5b86-4b12-e49a-9fb23dfa4699"
      },
      "execution_count": 16,
      "outputs": [
        {
          "output_type": "stream",
          "name": "stdout",
          "text": [
            "Please enter your fasting sugar level:60\n",
            "Your sugar is low, go eat some jalebi :)\n"
          ]
        }
      ]
    },
    {
      "cell_type": "code",
      "source": [],
      "metadata": {
        "id": "wMzbGkm3SXhs"
      },
      "execution_count": null,
      "outputs": []
    },
    {
      "cell_type": "code",
      "source": [],
      "metadata": {
        "id": "J-OEK69KSXj6"
      },
      "execution_count": null,
      "outputs": []
    },
    {
      "cell_type": "code",
      "source": [],
      "metadata": {
        "id": "vbbj3p-5SXmQ"
      },
      "execution_count": null,
      "outputs": []
    }
  ]
}