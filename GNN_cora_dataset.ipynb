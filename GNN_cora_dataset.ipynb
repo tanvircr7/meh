{
  "nbformat": 4,
  "nbformat_minor": 0,
  "metadata": {
    "colab": {
      "provenance": [],
      "authorship_tag": "ABX9TyPROY3ngkvocZr0vNqNpcqw",
      "include_colab_link": true
    },
    "kernelspec": {
      "name": "python3",
      "display_name": "Python 3"
    },
    "language_info": {
      "name": "python"
    }
  },
  "cells": [
    {
      "cell_type": "markdown",
      "metadata": {
        "id": "view-in-github",
        "colab_type": "text"
      },
      "source": [
        "<a href=\"https://colab.research.google.com/github/tanvircr7/meh/blob/master/GNN_cora_dataset.ipynb\" target=\"_parent\"><img src=\"https://colab.research.google.com/assets/colab-badge.svg\" alt=\"Open In Colab\"/></a>"
      ]
    },
    {
      "cell_type": "code",
      "execution_count": null,
      "metadata": {
        "colab": {
          "base_uri": "https://localhost:8080/"
        },
        "id": "4mG_jdVoNmnM",
        "outputId": "a645f92c-2505-47fa-b1b4-f29f41cbd51b"
      },
      "outputs": [
        {
          "output_type": "stream",
          "name": "stdout",
          "text": [
            "12.1\n"
          ]
        }
      ],
      "source": [
        "!python -c \"import torch; print(torch.version.cuda)\""
      ]
    },
    {
      "cell_type": "markdown",
      "source": [],
      "metadata": {
        "id": "FE2mSImVOA6d"
      }
    },
    {
      "cell_type": "code",
      "source": [
        "# PyTorch version\n",
        "!python -c \"import torch; print(torch.__version__)\""
      ],
      "metadata": {
        "colab": {
          "base_uri": "https://localhost:8080/"
        },
        "id": "52JDvRoAOBIA",
        "outputId": "faf0d9f9-ef2a-42f0-84b6-431868732be3"
      },
      "execution_count": null,
      "outputs": [
        {
          "output_type": "stream",
          "name": "stdout",
          "text": [
            "2.1.0+cu121\n"
          ]
        }
      ]
    },
    {
      "cell_type": "markdown",
      "source": [],
      "metadata": {
        "id": "i8GZ37U3OBQ4"
      }
    },
    {
      "cell_type": "code",
      "source": [
        "!pip install torch-geometric\n",
        "!pip install torch-sparse -f https://data.pyg.org/whl/torch-2.10.0+cu121.html\n",
        "!pip install torch-scatter -f https://data.pyg.org/whl/torch-2.10.0+cu121.html"
      ],
      "metadata": {
        "colab": {
          "base_uri": "https://localhost:8080/"
        },
        "id": "l6jLK7_8OBYq",
        "outputId": "be7732ee-7013-403c-8d9d-44ecbc4d4018"
      },
      "execution_count": null,
      "outputs": [
        {
          "output_type": "stream",
          "name": "stdout",
          "text": [
            "Requirement already satisfied: torch-geometric in /usr/local/lib/python3.10/dist-packages (2.5.0)\n",
            "Requirement already satisfied: tqdm in /usr/local/lib/python3.10/dist-packages (from torch-geometric) (4.66.2)\n",
            "Requirement already satisfied: numpy in /usr/local/lib/python3.10/dist-packages (from torch-geometric) (1.25.2)\n",
            "Requirement already satisfied: scipy in /usr/local/lib/python3.10/dist-packages (from torch-geometric) (1.11.4)\n",
            "Requirement already satisfied: fsspec in /usr/local/lib/python3.10/dist-packages (from torch-geometric) (2023.6.0)\n",
            "Requirement already satisfied: jinja2 in /usr/local/lib/python3.10/dist-packages (from torch-geometric) (3.1.3)\n",
            "Requirement already satisfied: aiohttp in /usr/local/lib/python3.10/dist-packages (from torch-geometric) (3.9.3)\n",
            "Requirement already satisfied: requests in /usr/local/lib/python3.10/dist-packages (from torch-geometric) (2.31.0)\n",
            "Requirement already satisfied: pyparsing in /usr/local/lib/python3.10/dist-packages (from torch-geometric) (3.1.1)\n",
            "Requirement already satisfied: scikit-learn in /usr/local/lib/python3.10/dist-packages (from torch-geometric) (1.2.2)\n",
            "Requirement already satisfied: psutil>=5.8.0 in /usr/local/lib/python3.10/dist-packages (from torch-geometric) (5.9.5)\n",
            "Requirement already satisfied: aiosignal>=1.1.2 in /usr/local/lib/python3.10/dist-packages (from aiohttp->torch-geometric) (1.3.1)\n",
            "Requirement already satisfied: attrs>=17.3.0 in /usr/local/lib/python3.10/dist-packages (from aiohttp->torch-geometric) (23.2.0)\n",
            "Requirement already satisfied: frozenlist>=1.1.1 in /usr/local/lib/python3.10/dist-packages (from aiohttp->torch-geometric) (1.4.1)\n",
            "Requirement already satisfied: multidict<7.0,>=4.5 in /usr/local/lib/python3.10/dist-packages (from aiohttp->torch-geometric) (6.0.5)\n",
            "Requirement already satisfied: yarl<2.0,>=1.0 in /usr/local/lib/python3.10/dist-packages (from aiohttp->torch-geometric) (1.9.4)\n",
            "Requirement already satisfied: async-timeout<5.0,>=4.0 in /usr/local/lib/python3.10/dist-packages (from aiohttp->torch-geometric) (4.0.3)\n",
            "Requirement already satisfied: MarkupSafe>=2.0 in /usr/local/lib/python3.10/dist-packages (from jinja2->torch-geometric) (2.1.5)\n",
            "Requirement already satisfied: charset-normalizer<4,>=2 in /usr/local/lib/python3.10/dist-packages (from requests->torch-geometric) (3.3.2)\n",
            "Requirement already satisfied: idna<4,>=2.5 in /usr/local/lib/python3.10/dist-packages (from requests->torch-geometric) (3.6)\n",
            "Requirement already satisfied: urllib3<3,>=1.21.1 in /usr/local/lib/python3.10/dist-packages (from requests->torch-geometric) (2.0.7)\n",
            "Requirement already satisfied: certifi>=2017.4.17 in /usr/local/lib/python3.10/dist-packages (from requests->torch-geometric) (2024.2.2)\n",
            "Requirement already satisfied: joblib>=1.1.1 in /usr/local/lib/python3.10/dist-packages (from scikit-learn->torch-geometric) (1.3.2)\n",
            "Requirement already satisfied: threadpoolctl>=2.0.0 in /usr/local/lib/python3.10/dist-packages (from scikit-learn->torch-geometric) (3.3.0)\n",
            "Looking in links: https://data.pyg.org/whl/torch-2.10.0+cu121.html\n",
            "Collecting torch-sparse\n",
            "  Using cached torch_sparse-0.6.18.tar.gz (209 kB)\n",
            "  Preparing metadata (setup.py) ... \u001b[?25l\u001b[?25hdone\n",
            "Requirement already satisfied: scipy in /usr/local/lib/python3.10/dist-packages (from torch-sparse) (1.11.4)\n",
            "Requirement already satisfied: numpy<1.28.0,>=1.21.6 in /usr/local/lib/python3.10/dist-packages (from scipy->torch-sparse) (1.25.2)\n",
            "Building wheels for collected packages: torch-sparse\n",
            "  Building wheel for torch-sparse (setup.py) ... \u001b[?25l\u001b[?25hdone\n",
            "  Created wheel for torch-sparse: filename=torch_sparse-0.6.18-cp310-cp310-linux_x86_64.whl size=1035675 sha256=f4436bf6f29e4ac312618845b5e1503f6801110cd631bf852d8a5359bb9d9f13\n",
            "  Stored in directory: /root/.cache/pip/wheels/c9/dd/0f/a6a16f9f3b0236733d257b4b4ea91b548b984a341ed3b8f38c\n",
            "Successfully built torch-sparse\n",
            "Installing collected packages: torch-sparse\n",
            "Successfully installed torch-sparse-0.6.18\n",
            "Looking in links: https://data.pyg.org/whl/torch-2.10.0+cu121.html\n",
            "Collecting torch-scatter\n",
            "  Using cached torch_scatter-2.1.2.tar.gz (108 kB)\n",
            "  Preparing metadata (setup.py) ... \u001b[?25l\u001b[?25hdone\n",
            "Building wheels for collected packages: torch-scatter\n",
            "  Building wheel for torch-scatter (setup.py) ... \u001b[?25l\u001b[?25hdone\n",
            "  Created wheel for torch-scatter: filename=torch_scatter-2.1.2-cp310-cp310-linux_x86_64.whl size=495091 sha256=b6e90bb9f49384b16136486bf3dcf24861dac888fc785e29bea52a847db5efb6\n",
            "  Stored in directory: /root/.cache/pip/wheels/92/f1/2b/3b46d54b134259f58c8363568569053248040859b1a145b3ce\n",
            "Successfully built torch-scatter\n",
            "Installing collected packages: torch-scatter\n",
            "Successfully installed torch-scatter-2.1.2\n"
          ]
        }
      ]
    },
    {
      "cell_type": "markdown",
      "source": [],
      "metadata": {
        "id": "f8ELlFg5OBhS"
      }
    },
    {
      "cell_type": "code",
      "source": [
        "import torch\n",
        "from torch_geometric.data import Data"
      ],
      "metadata": {
        "id": "13Y0jWAXOBp1"
      },
      "execution_count": null,
      "outputs": []
    },
    {
      "cell_type": "markdown",
      "source": [
        "Common Benchmark Datasets\n",
        "PyG contains a large number of common benchmark datasets, e.g., all Planetoid datasets (Cora, Citeseer, Pubmed), all graph classification datasets from http://graphkernels.cs.tu-dortmund.de and their cleaned versions, the QM7 and QM9 dataset, and a handful of 3D mesh/point cloud datasets like FAUST, ModelNet10/40 and ShapeNet.\n",
        "\n",
        "Initializing a dataset is straightforward. An initialization of a dataset will automatically download its raw files and process them to the previously described Data format. E.g., to load the ENZYMES dataset (consisting of 600 graphs within 6 classes), type:"
      ],
      "metadata": {
        "id": "d8BmgRFlOByo"
      }
    },
    {
      "cell_type": "code",
      "source": [
        "from torch_geometric.datasets import TUDataset\n",
        "dataset = TUDataset(root='/tmp/ENZYMES', name='ENZYMES')"
      ],
      "metadata": {
        "id": "9sNsjEkHOB7j",
        "colab": {
          "base_uri": "https://localhost:8080/"
        },
        "outputId": "3127fa71-691c-4b46-f3ac-68be8d1da69a"
      },
      "execution_count": null,
      "outputs": [
        {
          "output_type": "stream",
          "name": "stderr",
          "text": [
            "Downloading https://www.chrsmrrs.com/graphkerneldatasets/ENZYMES.zip\n",
            "Processing...\n",
            "Done!\n"
          ]
        }
      ]
    },
    {
      "cell_type": "markdown",
      "source": [],
      "metadata": {
        "id": "0u-B-raMh2B1"
      }
    },
    {
      "cell_type": "markdown",
      "source": [],
      "metadata": {
        "id": "7gpGF3ZLOCLc"
      }
    },
    {
      "cell_type": "code",
      "source": [
        "len(dataset)"
      ],
      "metadata": {
        "id": "ScR-_C64OCd2",
        "colab": {
          "base_uri": "https://localhost:8080/"
        },
        "outputId": "ea7b7b16-ab3e-43e1-a529-339ee0677a18"
      },
      "execution_count": null,
      "outputs": [
        {
          "output_type": "execute_result",
          "data": {
            "text/plain": [
              "600"
            ]
          },
          "metadata": {},
          "execution_count": 7
        }
      ]
    },
    {
      "cell_type": "markdown",
      "source": [],
      "metadata": {
        "id": "EkMSHJxcOCs7"
      }
    },
    {
      "cell_type": "code",
      "source": [
        "dataset.num_classes"
      ],
      "metadata": {
        "id": "WOlBp47-OC9e",
        "colab": {
          "base_uri": "https://localhost:8080/"
        },
        "outputId": "94912247-977b-4017-9ba4-f14b900f9b3b"
      },
      "execution_count": null,
      "outputs": [
        {
          "output_type": "execute_result",
          "data": {
            "text/plain": [
              "6"
            ]
          },
          "metadata": {},
          "execution_count": 8
        }
      ]
    },
    {
      "cell_type": "markdown",
      "source": [],
      "metadata": {
        "id": "0F5pubz3ODNL"
      }
    },
    {
      "cell_type": "code",
      "source": [
        "dataset.num_node_features"
      ],
      "metadata": {
        "id": "hKUyJFqyODcf",
        "colab": {
          "base_uri": "https://localhost:8080/"
        },
        "outputId": "e3817888-d64a-4d8b-cc47-33ea37cf4262"
      },
      "execution_count": null,
      "outputs": [
        {
          "output_type": "execute_result",
          "data": {
            "text/plain": [
              "3"
            ]
          },
          "metadata": {},
          "execution_count": 9
        }
      ]
    },
    {
      "cell_type": "markdown",
      "source": [],
      "metadata": {
        "id": "u22wzIXFODqr"
      }
    },
    {
      "cell_type": "code",
      "source": [
        "data = dataset[0]"
      ],
      "metadata": {
        "id": "WDUQIhiiOD7k"
      },
      "execution_count": null,
      "outputs": []
    },
    {
      "cell_type": "markdown",
      "source": [
        "data.x: Node feature matrix with shape [num_nodes, num_node_features]\n",
        "\n",
        "data.edge_index: Graph connectivity in COO format with shape [2, num_edges] and type torch.long\n",
        "\n",
        "data.edge_attr: Edge feature matrix with shape [num_edges, num_edge_features]\n",
        "\n",
        "data.y: Target to train against (may have arbitrary shape), e.g., node-level targets of shape [num_nodes, *] or graph-level targets of shape [1, *]\n",
        "\n",
        "data.pos: Node position matrix with shape [num_nodes, num_dimensions]"
      ],
      "metadata": {
        "id": "qgtcswlKOELI"
      }
    },
    {
      "cell_type": "code",
      "source": [
        "\n",
        "data"
      ],
      "metadata": {
        "id": "XI76PC61OEdk",
        "colab": {
          "base_uri": "https://localhost:8080/"
        },
        "outputId": "55bdaea4-6552-4bfa-8177-b7e05235b333"
      },
      "execution_count": null,
      "outputs": [
        {
          "output_type": "execute_result",
          "data": {
            "text/plain": [
              "Data(edge_index=[2, 168], x=[37, 3], y=[1])"
            ]
          },
          "metadata": {},
          "execution_count": 11
        }
      ]
    },
    {
      "cell_type": "markdown",
      "source": [],
      "metadata": {
        "id": "kqkx9QQOOExG"
      }
    },
    {
      "cell_type": "code",
      "source": [
        "from torch_geometric.utils import to_networkx"
      ],
      "metadata": {
        "id": "4fBwdDTQOFJk"
      },
      "execution_count": null,
      "outputs": []
    },
    {
      "cell_type": "markdown",
      "source": [],
      "metadata": {
        "id": "aOLYlntNUdsE"
      }
    },
    {
      "cell_type": "code",
      "source": [
        "type(data)"
      ],
      "metadata": {
        "colab": {
          "base_uri": "https://localhost:8080/",
          "height": 186
        },
        "id": "U9EqF_q_Udx_",
        "outputId": "ef369d43-5e67-4fe6-de1f-6a5932901f3f"
      },
      "execution_count": null,
      "outputs": [
        {
          "output_type": "execute_result",
          "data": {
            "text/plain": [
              "torch_geometric.data.data.Data"
            ],
            "text/html": [
              "<div style=\"max-width:800px; border: 1px solid var(--colab-border-color);\"><style>\n",
              "      pre.function-repr-contents {\n",
              "        overflow-x: auto;\n",
              "        padding: 8px 12px;\n",
              "        max-height: 500px;\n",
              "      }\n",
              "\n",
              "      pre.function-repr-contents.function-repr-contents-collapsed {\n",
              "        cursor: pointer;\n",
              "        max-height: 100px;\n",
              "      }\n",
              "    </style>\n",
              "    <pre style=\"white-space: initial; background:\n",
              "         var(--colab-secondary-surface-color); padding: 8px 12px;\n",
              "         border-bottom: 1px solid var(--colab-border-color);\"><b>torch_geometric.data.data.Data</b><br/>def __call__(*args: str) -&gt; Iterable</pre><pre class=\"function-repr-contents function-repr-contents-collapsed\" style=\"\"><a class=\"filepath\" style=\"display:none\" href=\"#\">/usr/local/lib/python3.10/dist-packages/torch_geometric/data/data.py</a>A data object describing a homogeneous graph.\n",
              "The data object can hold node-level, link-level and graph-level attributes.\n",
              "In general, :class:`~torch_geometric.data.Data` tries to mimic the\n",
              "behavior of a regular :python:`Python` dictionary.\n",
              "In addition, it provides useful functionality for analyzing graph\n",
              "structures, and provides basic PyTorch tensor functionalities.\n",
              "See `here &lt;https://pytorch-geometric.readthedocs.io/en/latest/get_started/\n",
              "introduction.html#data-handling-of-graphs&gt;`__ for the accompanying\n",
              "tutorial.\n",
              "\n",
              ".. code-block:: python\n",
              "\n",
              "    from torch_geometric.data import Data\n",
              "\n",
              "    data = Data(x=x, edge_index=edge_index, ...)\n",
              "\n",
              "    # Add additional arguments to `data`:\n",
              "    data.train_idx = torch.tensor([...], dtype=torch.long)\n",
              "    data.test_mask = torch.tensor([...], dtype=torch.bool)\n",
              "\n",
              "    # Analyzing the graph structure:\n",
              "    data.num_nodes\n",
              "    &gt;&gt;&gt; 23\n",
              "\n",
              "    data.is_directed()\n",
              "    &gt;&gt;&gt; False\n",
              "\n",
              "    # PyTorch tensor functionality:\n",
              "    data = data.pin_memory()\n",
              "    data = data.to(&#x27;cuda:0&#x27;, non_blocking=True)\n",
              "\n",
              "Args:\n",
              "    x (torch.Tensor, optional): Node feature matrix with shape\n",
              "        :obj:`[num_nodes, num_node_features]`. (default: :obj:`None`)\n",
              "    edge_index (LongTensor, optional): Graph connectivity in COO format\n",
              "        with shape :obj:`[2, num_edges]`. (default: :obj:`None`)\n",
              "    edge_attr (torch.Tensor, optional): Edge feature matrix with shape\n",
              "        :obj:`[num_edges, num_edge_features]`. (default: :obj:`None`)\n",
              "    y (torch.Tensor, optional): Graph-level or node-level ground-truth\n",
              "        labels with arbitrary shape. (default: :obj:`None`)\n",
              "    pos (torch.Tensor, optional): Node position matrix with shape\n",
              "        :obj:`[num_nodes, num_dimensions]`. (default: :obj:`None`)\n",
              "    time (torch.Tensor, optional): The timestamps for each event with shape\n",
              "        :obj:`[num_edges]` or :obj:`[num_nodes]`. (default: :obj:`None`)\n",
              "    **kwargs (optional): Additional attributes.</pre>\n",
              "      <script>\n",
              "      if (google.colab.kernel.accessAllowed && google.colab.files && google.colab.files.view) {\n",
              "        for (const element of document.querySelectorAll('.filepath')) {\n",
              "          element.style.display = 'block'\n",
              "          element.onclick = (event) => {\n",
              "            event.preventDefault();\n",
              "            event.stopPropagation();\n",
              "            google.colab.files.view(element.textContent, 469);\n",
              "          };\n",
              "        }\n",
              "      }\n",
              "      for (const element of document.querySelectorAll('.function-repr-contents')) {\n",
              "        element.onclick = (event) => {\n",
              "          event.preventDefault();\n",
              "          event.stopPropagation();\n",
              "          element.classList.toggle('function-repr-contents-collapsed');\n",
              "        };\n",
              "      }\n",
              "      </script>\n",
              "      </div>"
            ]
          },
          "metadata": {},
          "execution_count": 13
        }
      ]
    },
    {
      "cell_type": "markdown",
      "source": [],
      "metadata": {
        "id": "3bF32T7KUd-C"
      }
    },
    {
      "cell_type": "code",
      "source": [
        "networkX_graph = to_networkx(data)"
      ],
      "metadata": {
        "id": "VL8Qu3OpUeE5"
      },
      "execution_count": null,
      "outputs": []
    },
    {
      "cell_type": "markdown",
      "source": [],
      "metadata": {
        "id": "ARePAAfAUeMn"
      }
    },
    {
      "cell_type": "code",
      "source": [
        "type(networkX_graph)"
      ],
      "metadata": {
        "colab": {
          "base_uri": "https://localhost:8080/",
          "height": 186
        },
        "id": "b_nVccXZUeSf",
        "outputId": "5b2aa02e-552f-4c59-9477-3607362ac159"
      },
      "execution_count": null,
      "outputs": [
        {
          "output_type": "execute_result",
          "data": {
            "text/plain": [
              "networkx.classes.digraph.DiGraph"
            ],
            "text/html": [
              "<div style=\"max-width:800px; border: 1px solid var(--colab-border-color);\"><style>\n",
              "      pre.function-repr-contents {\n",
              "        overflow-x: auto;\n",
              "        padding: 8px 12px;\n",
              "        max-height: 500px;\n",
              "      }\n",
              "\n",
              "      pre.function-repr-contents.function-repr-contents-collapsed {\n",
              "        cursor: pointer;\n",
              "        max-height: 100px;\n",
              "      }\n",
              "    </style>\n",
              "    <pre style=\"white-space: initial; background:\n",
              "         var(--colab-secondary-surface-color); padding: 8px 12px;\n",
              "         border-bottom: 1px solid var(--colab-border-color);\"><b>networkx.classes.digraph.DiGraph</b><br/>def __init__(incoming_graph_data=None, **attr)</pre><pre class=\"function-repr-contents function-repr-contents-collapsed\" style=\"\"><a class=\"filepath\" style=\"display:none\" href=\"#\">/usr/local/lib/python3.10/dist-packages/networkx/classes/digraph.py</a>Base class for directed graphs.\n",
              "\n",
              "A DiGraph stores nodes and edges with optional data, or attributes.\n",
              "\n",
              "DiGraphs hold directed edges.  Self loops are allowed but multiple\n",
              "(parallel) edges are not.\n",
              "\n",
              "Nodes can be arbitrary (hashable) Python objects with optional\n",
              "key/value attributes. By convention `None` is not used as a node.\n",
              "\n",
              "Edges are represented as links between nodes with optional\n",
              "key/value attributes.\n",
              "\n",
              "Parameters\n",
              "----------\n",
              "incoming_graph_data : input graph (optional, default: None)\n",
              "    Data to initialize graph. If None (default) an empty\n",
              "    graph is created.  The data can be any format that is supported\n",
              "    by the to_networkx_graph() function, currently including edge list,\n",
              "    dict of dicts, dict of lists, NetworkX graph, 2D NumPy array, SciPy\n",
              "    sparse matrix, or PyGraphviz graph.\n",
              "\n",
              "attr : keyword arguments, optional (default= no attributes)\n",
              "    Attributes to add to graph as key=value pairs.\n",
              "\n",
              "See Also\n",
              "--------\n",
              "Graph\n",
              "MultiGraph\n",
              "MultiDiGraph\n",
              "\n",
              "Examples\n",
              "--------\n",
              "Create an empty graph structure (a &quot;null graph&quot;) with no nodes and\n",
              "no edges.\n",
              "\n",
              "&gt;&gt;&gt; G = nx.DiGraph()\n",
              "\n",
              "G can be grown in several ways.\n",
              "\n",
              "**Nodes:**\n",
              "\n",
              "Add one node at a time:\n",
              "\n",
              "&gt;&gt;&gt; G.add_node(1)\n",
              "\n",
              "Add the nodes from any container (a list, dict, set or\n",
              "even the lines from a file or the nodes from another graph).\n",
              "\n",
              "&gt;&gt;&gt; G.add_nodes_from([2, 3])\n",
              "&gt;&gt;&gt; G.add_nodes_from(range(100, 110))\n",
              "&gt;&gt;&gt; H = nx.path_graph(10)\n",
              "&gt;&gt;&gt; G.add_nodes_from(H)\n",
              "\n",
              "In addition to strings and integers any hashable Python object\n",
              "(except None) can represent a node, e.g. a customized node object,\n",
              "or even another Graph.\n",
              "\n",
              "&gt;&gt;&gt; G.add_node(H)\n",
              "\n",
              "**Edges:**\n",
              "\n",
              "G can also be grown by adding edges.\n",
              "\n",
              "Add one edge,\n",
              "\n",
              "&gt;&gt;&gt; G.add_edge(1, 2)\n",
              "\n",
              "a list of edges,\n",
              "\n",
              "&gt;&gt;&gt; G.add_edges_from([(1, 2), (1, 3)])\n",
              "\n",
              "or a collection of edges,\n",
              "\n",
              "&gt;&gt;&gt; G.add_edges_from(H.edges)\n",
              "\n",
              "If some edges connect nodes not yet in the graph, the nodes\n",
              "are added automatically.  There are no errors when adding\n",
              "nodes or edges that already exist.\n",
              "\n",
              "**Attributes:**\n",
              "\n",
              "Each graph, node, and edge can hold key/value attribute pairs\n",
              "in an associated attribute dictionary (the keys must be hashable).\n",
              "By default these are empty, but can be added or changed using\n",
              "add_edge, add_node or direct manipulation of the attribute\n",
              "dictionaries named graph, node and edge respectively.\n",
              "\n",
              "&gt;&gt;&gt; G = nx.DiGraph(day=&quot;Friday&quot;)\n",
              "&gt;&gt;&gt; G.graph\n",
              "{&#x27;day&#x27;: &#x27;Friday&#x27;}\n",
              "\n",
              "Add node attributes using add_node(), add_nodes_from() or G.nodes\n",
              "\n",
              "&gt;&gt;&gt; G.add_node(1, time=&quot;5pm&quot;)\n",
              "&gt;&gt;&gt; G.add_nodes_from([3], time=&quot;2pm&quot;)\n",
              "&gt;&gt;&gt; G.nodes[1]\n",
              "{&#x27;time&#x27;: &#x27;5pm&#x27;}\n",
              "&gt;&gt;&gt; G.nodes[1][&quot;room&quot;] = 714\n",
              "&gt;&gt;&gt; del G.nodes[1][&quot;room&quot;]  # remove attribute\n",
              "&gt;&gt;&gt; list(G.nodes(data=True))\n",
              "[(1, {&#x27;time&#x27;: &#x27;5pm&#x27;}), (3, {&#x27;time&#x27;: &#x27;2pm&#x27;})]\n",
              "\n",
              "Add edge attributes using add_edge(), add_edges_from(), subscript\n",
              "notation, or G.edges.\n",
              "\n",
              "&gt;&gt;&gt; G.add_edge(1, 2, weight=4.7)\n",
              "&gt;&gt;&gt; G.add_edges_from([(3, 4), (4, 5)], color=&quot;red&quot;)\n",
              "&gt;&gt;&gt; G.add_edges_from([(1, 2, {&quot;color&quot;: &quot;blue&quot;}), (2, 3, {&quot;weight&quot;: 8})])\n",
              "&gt;&gt;&gt; G[1][2][&quot;weight&quot;] = 4.7\n",
              "&gt;&gt;&gt; G.edges[1, 2][&quot;weight&quot;] = 4\n",
              "\n",
              "Warning: we protect the graph data structure by making `G.edges[1, 2]` a\n",
              "read-only dict-like structure. However, you can assign to attributes\n",
              "in e.g. `G.edges[1, 2]`. Thus, use 2 sets of brackets to add/change\n",
              "data attributes: `G.edges[1, 2][&#x27;weight&#x27;] = 4`\n",
              "(For multigraphs: `MG.edges[u, v, key][name] = value`).\n",
              "\n",
              "**Shortcuts:**\n",
              "\n",
              "Many common graph features allow python syntax to speed reporting.\n",
              "\n",
              "&gt;&gt;&gt; 1 in G  # check if node in graph\n",
              "True\n",
              "&gt;&gt;&gt; [n for n in G if n &lt; 3]  # iterate through nodes\n",
              "[1, 2]\n",
              "&gt;&gt;&gt; len(G)  # number of nodes in graph\n",
              "5\n",
              "\n",
              "Often the best way to traverse all edges of a graph is via the neighbors.\n",
              "The neighbors are reported as an adjacency-dict `G.adj` or `G.adjacency()`\n",
              "\n",
              "&gt;&gt;&gt; for n, nbrsdict in G.adjacency():\n",
              "...     for nbr, eattr in nbrsdict.items():\n",
              "...         if &quot;weight&quot; in eattr:\n",
              "...             # Do something useful with the edges\n",
              "...             pass\n",
              "\n",
              "But the edges reporting object is often more convenient:\n",
              "\n",
              "&gt;&gt;&gt; for u, v, weight in G.edges(data=&quot;weight&quot;):\n",
              "...     if weight is not None:\n",
              "...         # Do something useful with the edges\n",
              "...         pass\n",
              "\n",
              "**Reporting:**\n",
              "\n",
              "Simple graph information is obtained using object-attributes and methods.\n",
              "Reporting usually provides views instead of containers to reduce memory\n",
              "usage. The views update as the graph is updated similarly to dict-views.\n",
              "The objects `nodes`, `edges` and `adj` provide access to data attributes\n",
              "via lookup (e.g. `nodes[n]`, `edges[u, v]`, `adj[u][v]`) and iteration\n",
              "(e.g. `nodes.items()`, `nodes.data(&#x27;color&#x27;)`,\n",
              "`nodes.data(&#x27;color&#x27;, default=&#x27;blue&#x27;)` and similarly for `edges`)\n",
              "Views exist for `nodes`, `edges`, `neighbors()`/`adj` and `degree`.\n",
              "\n",
              "For details on these and other miscellaneous methods, see below.\n",
              "\n",
              "**Subclasses (Advanced):**\n",
              "\n",
              "The Graph class uses a dict-of-dict-of-dict data structure.\n",
              "The outer dict (node_dict) holds adjacency information keyed by node.\n",
              "The next dict (adjlist_dict) represents the adjacency information and holds\n",
              "edge data keyed by neighbor.  The inner dict (edge_attr_dict) represents\n",
              "the edge data and holds edge attribute values keyed by attribute names.\n",
              "\n",
              "Each of these three dicts can be replaced in a subclass by a user defined\n",
              "dict-like object. In general, the dict-like features should be\n",
              "maintained but extra features can be added. To replace one of the\n",
              "dicts create a new graph class by changing the class(!) variable\n",
              "holding the factory for that dict-like structure. The variable names are\n",
              "node_dict_factory, node_attr_dict_factory, adjlist_inner_dict_factory,\n",
              "adjlist_outer_dict_factory, edge_attr_dict_factory and graph_attr_dict_factory.\n",
              "\n",
              "node_dict_factory : function, (default: dict)\n",
              "    Factory function to be used to create the dict containing node\n",
              "    attributes, keyed by node id.\n",
              "    It should require no arguments and return a dict-like object\n",
              "\n",
              "node_attr_dict_factory: function, (default: dict)\n",
              "    Factory function to be used to create the node attribute\n",
              "    dict which holds attribute values keyed by attribute name.\n",
              "    It should require no arguments and return a dict-like object\n",
              "\n",
              "adjlist_outer_dict_factory : function, (default: dict)\n",
              "    Factory function to be used to create the outer-most dict\n",
              "    in the data structure that holds adjacency info keyed by node.\n",
              "    It should require no arguments and return a dict-like object.\n",
              "\n",
              "adjlist_inner_dict_factory : function, optional (default: dict)\n",
              "    Factory function to be used to create the adjacency list\n",
              "    dict which holds edge data keyed by neighbor.\n",
              "    It should require no arguments and return a dict-like object\n",
              "\n",
              "edge_attr_dict_factory : function, optional (default: dict)\n",
              "    Factory function to be used to create the edge attribute\n",
              "    dict which holds attribute values keyed by attribute name.\n",
              "    It should require no arguments and return a dict-like object.\n",
              "\n",
              "graph_attr_dict_factory : function, (default: dict)\n",
              "    Factory function to be used to create the graph attribute\n",
              "    dict which holds attribute values keyed by attribute name.\n",
              "    It should require no arguments and return a dict-like object.\n",
              "\n",
              "Typically, if your extension doesn&#x27;t impact the data structure all\n",
              "methods will inherited without issue except: `to_directed/to_undirected`.\n",
              "By default these methods create a DiGraph/Graph class and you probably\n",
              "want them to create your extension of a DiGraph/Graph. To facilitate\n",
              "this we define two class variables that you can set in your subclass.\n",
              "\n",
              "to_directed_class : callable, (default: DiGraph or MultiDiGraph)\n",
              "    Class to create a new graph structure in the `to_directed` method.\n",
              "    If `None`, a NetworkX class (DiGraph or MultiDiGraph) is used.\n",
              "\n",
              "to_undirected_class : callable, (default: Graph or MultiGraph)\n",
              "    Class to create a new graph structure in the `to_undirected` method.\n",
              "    If `None`, a NetworkX class (Graph or MultiGraph) is used.\n",
              "\n",
              "**Subclassing Example**\n",
              "\n",
              "Create a low memory graph class that effectively disallows edge\n",
              "attributes by using a single attribute dict for all edges.\n",
              "This reduces the memory used, but you lose edge attributes.\n",
              "\n",
              "&gt;&gt;&gt; class ThinGraph(nx.Graph):\n",
              "...     all_edge_dict = {&quot;weight&quot;: 1}\n",
              "...\n",
              "...     def single_edge_dict(self):\n",
              "...         return self.all_edge_dict\n",
              "...\n",
              "...     edge_attr_dict_factory = single_edge_dict\n",
              "&gt;&gt;&gt; G = ThinGraph()\n",
              "&gt;&gt;&gt; G.add_edge(2, 1)\n",
              "&gt;&gt;&gt; G[2][1]\n",
              "{&#x27;weight&#x27;: 1}\n",
              "&gt;&gt;&gt; G.add_edge(2, 2)\n",
              "&gt;&gt;&gt; G[2][1] is G[2][2]\n",
              "True</pre>\n",
              "      <script>\n",
              "      if (google.colab.kernel.accessAllowed && google.colab.files && google.colab.files.view) {\n",
              "        for (const element of document.querySelectorAll('.filepath')) {\n",
              "          element.style.display = 'block'\n",
              "          element.onclick = (event) => {\n",
              "            event.preventDefault();\n",
              "            event.stopPropagation();\n",
              "            google.colab.files.view(element.textContent, 70);\n",
              "          };\n",
              "        }\n",
              "      }\n",
              "      for (const element of document.querySelectorAll('.function-repr-contents')) {\n",
              "        element.onclick = (event) => {\n",
              "          event.preventDefault();\n",
              "          event.stopPropagation();\n",
              "          element.classList.toggle('function-repr-contents-collapsed');\n",
              "        };\n",
              "      }\n",
              "      </script>\n",
              "      </div>"
            ]
          },
          "metadata": {},
          "execution_count": 15
        }
      ]
    },
    {
      "cell_type": "markdown",
      "source": [],
      "metadata": {
        "id": "5axrsWh_UeYC"
      }
    },
    {
      "cell_type": "code",
      "source": [
        "import networkx as nx"
      ],
      "metadata": {
        "id": "m5APUgpmUeei"
      },
      "execution_count": null,
      "outputs": []
    },
    {
      "cell_type": "markdown",
      "source": [],
      "metadata": {
        "id": "3_Is_HzGUelF"
      }
    },
    {
      "cell_type": "code",
      "source": [
        "nx.draw(networkX_graph)"
      ],
      "metadata": {
        "colab": {
          "base_uri": "https://localhost:8080/",
          "height": 516
        },
        "id": "WLFgUADyUeuk",
        "outputId": "46b6c7b1-a00a-4b8b-cab3-e9abc3563957"
      },
      "execution_count": null,
      "outputs": [
        {
          "output_type": "display_data",
          "data": {
            "text/plain": [
              "<Figure size 640x480 with 1 Axes>"
            ],
            "image/png": "[encoded data removed]"
          },
          "metadata": {}
        }
      ]
    },
    {
      "cell_type": "markdown",
      "source": [
        "# **Cora dataset**\n",
        "\"The Cora dataset consists of 2708 scientific publications classified into one of seven classes. The citation network consists of 5429 links. Each publication in the dataset is described by a 0/1-valued word vector indicating the absence/presence of the corresponding word from the dictionary. The dictionary consists of 1433 unique words.\" - Papers with Code."
      ],
      "metadata": {
        "id": "8qP-dgskUe5w"
      }
    },
    {
      "cell_type": "code",
      "source": [
        "from torch_geometric.datasets import Planetoid\n",
        "cora_dataset = Planetoid(root='tmp/Cora', name='Cora')"
      ],
      "metadata": {
        "colab": {
          "base_uri": "https://localhost:8080/"
        },
        "id": "81BeRbjzUfD9",
        "outputId": "e8cc8df2-b1ec-4fbb-8bf7-71d0f06e7056"
      },
      "execution_count": null,
      "outputs": [
        {
          "output_type": "stream",
          "name": "stderr",
          "text": [
            "Downloading https://github.com/kimiyoung/planetoid/raw/master/data/ind.cora.x\n",
            "Downloading https://github.com/kimiyoung/planetoid/raw/master/data/ind.cora.tx\n",
            "Downloading https://github.com/kimiyoung/planetoid/raw/master/data/ind.cora.allx\n",
            "Downloading https://github.com/kimiyoung/planetoid/raw/master/data/ind.cora.y\n",
            "Downloading https://github.com/kimiyoung/planetoid/raw/master/data/ind.cora.ty\n",
            "Downloading https://github.com/kimiyoung/planetoid/raw/master/data/ind.cora.ally\n",
            "Downloading https://github.com/kimiyoung/planetoid/raw/master/data/ind.cora.graph\n",
            "Downloading https://github.com/kimiyoung/planetoid/raw/master/data/ind.cora.test.index\n",
            "Processing...\n",
            "Done!\n"
          ]
        }
      ]
    },
    {
      "cell_type": "markdown",
      "source": [],
      "metadata": {
        "id": "QHKWupMXVAZH"
      }
    },
    {
      "cell_type": "code",
      "source": [
        "cora_dataset"
      ],
      "metadata": {
        "colab": {
          "base_uri": "https://localhost:8080/"
        },
        "id": "o_38niKsVAgA",
        "outputId": "9c1bd4d0-396e-44da-a9fd-4e0a517d1307"
      },
      "execution_count": null,
      "outputs": [
        {
          "output_type": "execute_result",
          "data": {
            "text/plain": [
              "Cora()"
            ]
          },
          "metadata": {},
          "execution_count": 19
        }
      ]
    },
    {
      "cell_type": "markdown",
      "source": [],
      "metadata": {
        "id": "DnFWdr8kVAqL"
      }
    },
    {
      "cell_type": "code",
      "source": [
        "cora_dataset.len()"
      ],
      "metadata": {
        "colab": {
          "base_uri": "https://localhost:8080/"
        },
        "id": "cbhz6FFtVAzh",
        "outputId": "b5bf51b3-528a-4ba2-d017-b24402fe2f6f"
      },
      "execution_count": null,
      "outputs": [
        {
          "output_type": "execute_result",
          "data": {
            "text/plain": [
              "1"
            ]
          },
          "metadata": {},
          "execution_count": 20
        }
      ]
    },
    {
      "cell_type": "markdown",
      "source": [],
      "metadata": {
        "id": "ViVTbQjyVA_J"
      }
    },
    {
      "cell_type": "code",
      "source": [
        "# number of graphs\n",
        "print(\"Number of graphs: \", len(cora_dataset))\n",
        "\n",
        "# number of features\n",
        "print(\"Number of features: \", cora_dataset.num_features)\n",
        "\n",
        "# number of classes\n",
        "print(\"Number of classes: \", cora_dataset.num_classes)"
      ],
      "metadata": {
        "colab": {
          "base_uri": "https://localhost:8080/"
        },
        "id": "RUjY6asEVBKK",
        "outputId": "f2a0802a-0ff3-41b0-f533-976a6fcfd864"
      },
      "execution_count": null,
      "outputs": [
        {
          "output_type": "stream",
          "name": "stdout",
          "text": [
            "Number of graphs:  1\n",
            "Number of features:  1433\n",
            "Number of classes:  7\n"
          ]
        }
      ]
    },
    {
      "cell_type": "markdown",
      "source": [],
      "metadata": {
        "id": "-rMavVb6VBV5"
      }
    },
    {
      "cell_type": "code",
      "source": [
        "c_ds = cora_dataset[0]\n",
        "c_ds"
      ],
      "metadata": {
        "colab": {
          "base_uri": "https://localhost:8080/"
        },
        "id": "y_05MNRxVBfh",
        "outputId": "0699fc8b-3384-4835-bfd2-4fce74428cac"
      },
      "execution_count": null,
      "outputs": [
        {
          "output_type": "execute_result",
          "data": {
            "text/plain": [
              "Data(x=[2708, 1433], edge_index=[2, 10556], y=[2708], train_mask=[2708], val_mask=[2708], test_mask=[2708])"
            ]
          },
          "metadata": {},
          "execution_count": 22
        }
      ]
    },
    {
      "cell_type": "markdown",
      "source": [],
      "metadata": {
        "id": "3GFTMYQLVBqa"
      }
    },
    {
      "cell_type": "code",
      "source": [
        "# number of nodes\n",
        "print(\"Number of nodes: \", c_ds.num_nodes)\n",
        "\n",
        "# number of edges\n",
        "print(\"Number of edges: \", c_ds.num_edges)\n",
        "\n",
        "# check if directed\n",
        "print(\"Is directed: \", c_ds.is_directed())"
      ],
      "metadata": {
        "colab": {
          "base_uri": "https://localhost:8080/"
        },
        "id": "KiDOpKB_VB0S",
        "outputId": "c3d3e067-1d9b-46b4-ee60-d922283a71e8"
      },
      "execution_count": null,
      "outputs": [
        {
          "output_type": "stream",
          "name": "stdout",
          "text": [
            "Number of nodes:  2708\n",
            "Number of edges:  10556\n",
            "Is directed:  False\n"
          ]
        }
      ]
    },
    {
      "cell_type": "code",
      "source": [
        "c_ds.x[:0].shape"
      ],
      "metadata": {
        "colab": {
          "base_uri": "https://localhost:8080/"
        },
        "id": "GSKq3My8VYvD",
        "outputId": "ed41bec7-676b-4a06-a91f-566820f4627c"
      },
      "execution_count": null,
      "outputs": [
        {
          "output_type": "execute_result",
          "data": {
            "text/plain": [
              "torch.Size([0, 1433])"
            ]
          },
          "metadata": {},
          "execution_count": 24
        }
      ]
    },
    {
      "cell_type": "markdown",
      "source": [],
      "metadata": {
        "id": "T9Lq76-zVY3l"
      }
    },
    {
      "cell_type": "code",
      "source": [
        "c_ds.x[:1].shape"
      ],
      "metadata": {
        "colab": {
          "base_uri": "https://localhost:8080/"
        },
        "id": "WSzToQmWVY-3",
        "outputId": "29af0f41-68f6-4008-ae40-2ffdf67802de"
      },
      "execution_count": null,
      "outputs": [
        {
          "output_type": "execute_result",
          "data": {
            "text/plain": [
              "torch.Size([1, 1433])"
            ]
          },
          "metadata": {},
          "execution_count": 25
        }
      ]
    },
    {
      "cell_type": "markdown",
      "source": [],
      "metadata": {
        "id": "QfHSTYkvVZH-"
      }
    },
    {
      "cell_type": "code",
      "source": [
        "c_ds.x[0].shape"
      ],
      "metadata": {
        "colab": {
          "base_uri": "https://localhost:8080/"
        },
        "id": "dOQOpyljVZOM",
        "outputId": "74dd3f35-a2f6-4b6e-dcc9-59ca70a67213"
      },
      "execution_count": null,
      "outputs": [
        {
          "output_type": "execute_result",
          "data": {
            "text/plain": [
              "torch.Size([1433])"
            ]
          },
          "metadata": {},
          "execution_count": 26
        }
      ]
    },
    {
      "cell_type": "markdown",
      "source": [],
      "metadata": {
        "id": "uPHkOZ3xVZVM"
      }
    },
    {
      "cell_type": "code",
      "source": [
        "# sample nodes from the graph\n",
        "print(\"Shape of sample nodes: \", c_ds.x[:5].shape)"
      ],
      "metadata": {
        "colab": {
          "base_uri": "https://localhost:8080/"
        },
        "id": "v6KF3Hy0VZb1",
        "outputId": "6376c526-cbbf-46cf-c85f-cc6b2d7717f9"
      },
      "execution_count": null,
      "outputs": [
        {
          "output_type": "stream",
          "name": "stdout",
          "text": [
            "Shape of sample nodes:  torch.Size([5, 1433])\n"
          ]
        }
      ]
    },
    {
      "cell_type": "markdown",
      "source": [],
      "metadata": {
        "id": "Ph7AKgfMVZi8"
      }
    },
    {
      "cell_type": "code",
      "source": [
        "c_ds_5 = c_ds.x[:5]"
      ],
      "metadata": {
        "id": "uFP5Okk0VZo8"
      },
      "execution_count": null,
      "outputs": []
    },
    {
      "cell_type": "code",
      "source": [
        "c_ds_5.shape"
      ],
      "metadata": {
        "colab": {
          "base_uri": "https://localhost:8080/"
        },
        "id": "mLnFjr-RVqMb",
        "outputId": "2c8f1e87-2780-4587-9984-ad42db346c7f"
      },
      "execution_count": null,
      "outputs": [
        {
          "output_type": "execute_result",
          "data": {
            "text/plain": [
              "torch.Size([5, 1433])"
            ]
          },
          "metadata": {},
          "execution_count": 29
        }
      ]
    },
    {
      "cell_type": "markdown",
      "source": [],
      "metadata": {
        "id": "y00JdivTVqSG"
      }
    },
    {
      "cell_type": "code",
      "source": [
        "# number of graphs\n",
        "print(\"Number of graphs: \", len(c_ds_5))\n",
        "print(\"Number of features: \", len(c_ds_5[0]))"
      ],
      "metadata": {
        "colab": {
          "base_uri": "https://localhost:8080/"
        },
        "id": "OlmOouf0VqYq",
        "outputId": "e8c92d87-fe37-406a-90af-ee45ea8d7370"
      },
      "execution_count": null,
      "outputs": [
        {
          "output_type": "stream",
          "name": "stdout",
          "text": [
            "Number of graphs:  5\n",
            "Number of features:  1433\n"
          ]
        }
      ]
    },
    {
      "cell_type": "markdown",
      "source": [],
      "metadata": {
        "id": "5vnchiQHVqe8"
      }
    },
    {
      "cell_type": "code",
      "source": [
        "c_ds"
      ],
      "metadata": {
        "colab": {
          "base_uri": "https://localhost:8080/"
        },
        "id": "KEQT1-3FVqjp",
        "outputId": "9c56f3cf-56f5-4794-ca51-d9121ba40de3"
      },
      "execution_count": null,
      "outputs": [
        {
          "output_type": "execute_result",
          "data": {
            "text/plain": [
              "Data(x=[2708, 1433], edge_index=[2, 10556], y=[2708], train_mask=[2708], val_mask=[2708], test_mask=[2708])"
            ]
          },
          "metadata": {},
          "execution_count": 31
        }
      ]
    },
    {
      "cell_type": "markdown",
      "source": [],
      "metadata": {
        "id": "UH4YM09tVqpH"
      }
    },
    {
      "cell_type": "code",
      "source": [
        "## train_mask=[2708], val_mask=[2708], test_mask=[2708]\n",
        "## Look at the above"
      ],
      "metadata": {
        "id": "E8Pt7yipVqv3"
      },
      "execution_count": null,
      "outputs": []
    },
    {
      "cell_type": "markdown",
      "source": [],
      "metadata": {
        "id": "1r7Npyx9Vq0v"
      }
    },
    {
      "cell_type": "markdown",
      "source": [],
      "metadata": {
        "id": "clRBESb8VZwW"
      }
    },
    {
      "cell_type": "code",
      "source": [
        "# check training nodes\n",
        "print(\"# of nodes to train on: \", c_ds.train_mask.sum().item())\n",
        "# check test nodes\n",
        "print(\"# of nodes to test on: \", c_ds.test_mask.sum().item())\n",
        "# check validation nodes\n",
        "print(\"# of nodes to validate on: \", c_ds.val_mask.sum().item())"
      ],
      "metadata": {
        "colab": {
          "base_uri": "https://localhost:8080/"
        },
        "id": "QMTTP2qfVZ57",
        "outputId": "89ebfba7-e9a1-4ea0-afc2-db6f82b5d3eb"
      },
      "execution_count": null,
      "outputs": [
        {
          "output_type": "stream",
          "name": "stdout",
          "text": [
            "# of nodes to train on:  140\n",
            "# of nodes to test on:  1000\n",
            "# of nodes to validate on:  500\n"
          ]
        }
      ]
    },
    {
      "cell_type": "code",
      "source": [
        "type(c_ds)"
      ],
      "metadata": {
        "colab": {
          "base_uri": "https://localhost:8080/",
          "height": 186
        },
        "id": "EoZLGnGqWCg9",
        "outputId": "2ddb4e44-d3d9-4bec-9942-12411cfb9046"
      },
      "execution_count": null,
      "outputs": [
        {
          "output_type": "execute_result",
          "data": {
            "text/plain": [
              "torch_geometric.data.data.Data"
            ],
            "text/html": [
              "<div style=\"max-width:800px; border: 1px solid var(--colab-border-color);\"><style>\n",
              "      pre.function-repr-contents {\n",
              "        overflow-x: auto;\n",
              "        padding: 8px 12px;\n",
              "        max-height: 500px;\n",
              "      }\n",
              "\n",
              "      pre.function-repr-contents.function-repr-contents-collapsed {\n",
              "        cursor: pointer;\n",
              "        max-height: 100px;\n",
              "      }\n",
              "    </style>\n",
              "    <pre style=\"white-space: initial; background:\n",
              "         var(--colab-secondary-surface-color); padding: 8px 12px;\n",
              "         border-bottom: 1px solid var(--colab-border-color);\"><b>torch_geometric.data.data.Data</b><br/>def __call__(*args: str) -&gt; Iterable</pre><pre class=\"function-repr-contents function-repr-contents-collapsed\" style=\"\"><a class=\"filepath\" style=\"display:none\" href=\"#\">/usr/local/lib/python3.10/dist-packages/torch_geometric/data/data.py</a>A data object describing a homogeneous graph.\n",
              "The data object can hold node-level, link-level and graph-level attributes.\n",
              "In general, :class:`~torch_geometric.data.Data` tries to mimic the\n",
              "behavior of a regular :python:`Python` dictionary.\n",
              "In addition, it provides useful functionality for analyzing graph\n",
              "structures, and provides basic PyTorch tensor functionalities.\n",
              "See `here &lt;https://pytorch-geometric.readthedocs.io/en/latest/get_started/\n",
              "introduction.html#data-handling-of-graphs&gt;`__ for the accompanying\n",
              "tutorial.\n",
              "\n",
              ".. code-block:: python\n",
              "\n",
              "    from torch_geometric.data import Data\n",
              "\n",
              "    data = Data(x=x, edge_index=edge_index, ...)\n",
              "\n",
              "    # Add additional arguments to `data`:\n",
              "    data.train_idx = torch.tensor([...], dtype=torch.long)\n",
              "    data.test_mask = torch.tensor([...], dtype=torch.bool)\n",
              "\n",
              "    # Analyzing the graph structure:\n",
              "    data.num_nodes\n",
              "    &gt;&gt;&gt; 23\n",
              "\n",
              "    data.is_directed()\n",
              "    &gt;&gt;&gt; False\n",
              "\n",
              "    # PyTorch tensor functionality:\n",
              "    data = data.pin_memory()\n",
              "    data = data.to(&#x27;cuda:0&#x27;, non_blocking=True)\n",
              "\n",
              "Args:\n",
              "    x (torch.Tensor, optional): Node feature matrix with shape\n",
              "        :obj:`[num_nodes, num_node_features]`. (default: :obj:`None`)\n",
              "    edge_index (LongTensor, optional): Graph connectivity in COO format\n",
              "        with shape :obj:`[2, num_edges]`. (default: :obj:`None`)\n",
              "    edge_attr (torch.Tensor, optional): Edge feature matrix with shape\n",
              "        :obj:`[num_edges, num_edge_features]`. (default: :obj:`None`)\n",
              "    y (torch.Tensor, optional): Graph-level or node-level ground-truth\n",
              "        labels with arbitrary shape. (default: :obj:`None`)\n",
              "    pos (torch.Tensor, optional): Node position matrix with shape\n",
              "        :obj:`[num_nodes, num_dimensions]`. (default: :obj:`None`)\n",
              "    time (torch.Tensor, optional): The timestamps for each event with shape\n",
              "        :obj:`[num_edges]` or :obj:`[num_nodes]`. (default: :obj:`None`)\n",
              "    **kwargs (optional): Additional attributes.</pre>\n",
              "      <script>\n",
              "      if (google.colab.kernel.accessAllowed && google.colab.files && google.colab.files.view) {\n",
              "        for (const element of document.querySelectorAll('.filepath')) {\n",
              "          element.style.display = 'block'\n",
              "          element.onclick = (event) => {\n",
              "            event.preventDefault();\n",
              "            event.stopPropagation();\n",
              "            google.colab.files.view(element.textContent, 469);\n",
              "          };\n",
              "        }\n",
              "      }\n",
              "      for (const element of document.querySelectorAll('.function-repr-contents')) {\n",
              "        element.onclick = (event) => {\n",
              "          event.preventDefault();\n",
              "          event.stopPropagation();\n",
              "          element.classList.toggle('function-repr-contents-collapsed');\n",
              "        };\n",
              "      }\n",
              "      </script>\n",
              "      </div>"
            ]
          },
          "metadata": {},
          "execution_count": 33
        }
      ]
    },
    {
      "cell_type": "markdown",
      "source": [],
      "metadata": {
        "id": "SPPPwuWJWCs-"
      }
    },
    {
      "cell_type": "code",
      "source": [
        "networkX_graph = to_networkx(c_ds)"
      ],
      "metadata": {
        "id": "m6bg4I9hWCyn"
      },
      "execution_count": null,
      "outputs": []
    },
    {
      "cell_type": "markdown",
      "source": [],
      "metadata": {
        "id": "yhNfIdCWWC6a"
      }
    },
    {
      "cell_type": "code",
      "source": [
        "type(networkX_graph)"
      ],
      "metadata": {
        "colab": {
          "base_uri": "https://localhost:8080/",
          "height": 186
        },
        "id": "55pk4PR2WC_p",
        "outputId": "76526e47-5a6e-4b4d-bb5d-8c4d58e0b323"
      },
      "execution_count": null,
      "outputs": [
        {
          "output_type": "execute_result",
          "data": {
            "text/plain": [
              "networkx.classes.digraph.DiGraph"
            ],
            "text/html": [
              "<div style=\"max-width:800px; border: 1px solid var(--colab-border-color);\"><style>\n",
              "      pre.function-repr-contents {\n",
              "        overflow-x: auto;\n",
              "        padding: 8px 12px;\n",
              "        max-height: 500px;\n",
              "      }\n",
              "\n",
              "      pre.function-repr-contents.function-repr-contents-collapsed {\n",
              "        cursor: pointer;\n",
              "        max-height: 100px;\n",
              "      }\n",
              "    </style>\n",
              "    <pre style=\"white-space: initial; background:\n",
              "         var(--colab-secondary-surface-color); padding: 8px 12px;\n",
              "         border-bottom: 1px solid var(--colab-border-color);\"><b>networkx.classes.digraph.DiGraph</b><br/>def __init__(incoming_graph_data=None, **attr)</pre><pre class=\"function-repr-contents function-repr-contents-collapsed\" style=\"\"><a class=\"filepath\" style=\"display:none\" href=\"#\">/usr/local/lib/python3.10/dist-packages/networkx/classes/digraph.py</a>Base class for directed graphs.\n",
              "\n",
              "A DiGraph stores nodes and edges with optional data, or attributes.\n",
              "\n",
              "DiGraphs hold directed edges.  Self loops are allowed but multiple\n",
              "(parallel) edges are not.\n",
              "\n",
              "Nodes can be arbitrary (hashable) Python objects with optional\n",
              "key/value attributes. By convention `None` is not used as a node.\n",
              "\n",
              "Edges are represented as links between nodes with optional\n",
              "key/value attributes.\n",
              "\n",
              "Parameters\n",
              "----------\n",
              "incoming_graph_data : input graph (optional, default: None)\n",
              "    Data to initialize graph. If None (default) an empty\n",
              "    graph is created.  The data can be any format that is supported\n",
              "    by the to_networkx_graph() function, currently including edge list,\n",
              "    dict of dicts, dict of lists, NetworkX graph, 2D NumPy array, SciPy\n",
              "    sparse matrix, or PyGraphviz graph.\n",
              "\n",
              "attr : keyword arguments, optional (default= no attributes)\n",
              "    Attributes to add to graph as key=value pairs.\n",
              "\n",
              "See Also\n",
              "--------\n",
              "Graph\n",
              "MultiGraph\n",
              "MultiDiGraph\n",
              "\n",
              "Examples\n",
              "--------\n",
              "Create an empty graph structure (a &quot;null graph&quot;) with no nodes and\n",
              "no edges.\n",
              "\n",
              "&gt;&gt;&gt; G = nx.DiGraph()\n",
              "\n",
              "G can be grown in several ways.\n",
              "\n",
              "**Nodes:**\n",
              "\n",
              "Add one node at a time:\n",
              "\n",
              "&gt;&gt;&gt; G.add_node(1)\n",
              "\n",
              "Add the nodes from any container (a list, dict, set or\n",
              "even the lines from a file or the nodes from another graph).\n",
              "\n",
              "&gt;&gt;&gt; G.add_nodes_from([2, 3])\n",
              "&gt;&gt;&gt; G.add_nodes_from(range(100, 110))\n",
              "&gt;&gt;&gt; H = nx.path_graph(10)\n",
              "&gt;&gt;&gt; G.add_nodes_from(H)\n",
              "\n",
              "In addition to strings and integers any hashable Python object\n",
              "(except None) can represent a node, e.g. a customized node object,\n",
              "or even another Graph.\n",
              "\n",
              "&gt;&gt;&gt; G.add_node(H)\n",
              "\n",
              "**Edges:**\n",
              "\n",
              "G can also be grown by adding edges.\n",
              "\n",
              "Add one edge,\n",
              "\n",
              "&gt;&gt;&gt; G.add_edge(1, 2)\n",
              "\n",
              "a list of edges,\n",
              "\n",
              "&gt;&gt;&gt; G.add_edges_from([(1, 2), (1, 3)])\n",
              "\n",
              "or a collection of edges,\n",
              "\n",
              "&gt;&gt;&gt; G.add_edges_from(H.edges)\n",
              "\n",
              "If some edges connect nodes not yet in the graph, the nodes\n",
              "are added automatically.  There are no errors when adding\n",
              "nodes or edges that already exist.\n",
              "\n",
              "**Attributes:**\n",
              "\n",
              "Each graph, node, and edge can hold key/value attribute pairs\n",
              "in an associated attribute dictionary (the keys must be hashable).\n",
              "By default these are empty, but can be added or changed using\n",
              "add_edge, add_node or direct manipulation of the attribute\n",
              "dictionaries named graph, node and edge respectively.\n",
              "\n",
              "&gt;&gt;&gt; G = nx.DiGraph(day=&quot;Friday&quot;)\n",
              "&gt;&gt;&gt; G.graph\n",
              "{&#x27;day&#x27;: &#x27;Friday&#x27;}\n",
              "\n",
              "Add node attributes using add_node(), add_nodes_from() or G.nodes\n",
              "\n",
              "&gt;&gt;&gt; G.add_node(1, time=&quot;5pm&quot;)\n",
              "&gt;&gt;&gt; G.add_nodes_from([3], time=&quot;2pm&quot;)\n",
              "&gt;&gt;&gt; G.nodes[1]\n",
              "{&#x27;time&#x27;: &#x27;5pm&#x27;}\n",
              "&gt;&gt;&gt; G.nodes[1][&quot;room&quot;] = 714\n",
              "&gt;&gt;&gt; del G.nodes[1][&quot;room&quot;]  # remove attribute\n",
              "&gt;&gt;&gt; list(G.nodes(data=True))\n",
              "[(1, {&#x27;time&#x27;: &#x27;5pm&#x27;}), (3, {&#x27;time&#x27;: &#x27;2pm&#x27;})]\n",
              "\n",
              "Add edge attributes using add_edge(), add_edges_from(), subscript\n",
              "notation, or G.edges.\n",
              "\n",
              "&gt;&gt;&gt; G.add_edge(1, 2, weight=4.7)\n",
              "&gt;&gt;&gt; G.add_edges_from([(3, 4), (4, 5)], color=&quot;red&quot;)\n",
              "&gt;&gt;&gt; G.add_edges_from([(1, 2, {&quot;color&quot;: &quot;blue&quot;}), (2, 3, {&quot;weight&quot;: 8})])\n",
              "&gt;&gt;&gt; G[1][2][&quot;weight&quot;] = 4.7\n",
              "&gt;&gt;&gt; G.edges[1, 2][&quot;weight&quot;] = 4\n",
              "\n",
              "Warning: we protect the graph data structure by making `G.edges[1, 2]` a\n",
              "read-only dict-like structure. However, you can assign to attributes\n",
              "in e.g. `G.edges[1, 2]`. Thus, use 2 sets of brackets to add/change\n",
              "data attributes: `G.edges[1, 2][&#x27;weight&#x27;] = 4`\n",
              "(For multigraphs: `MG.edges[u, v, key][name] = value`).\n",
              "\n",
              "**Shortcuts:**\n",
              "\n",
              "Many common graph features allow python syntax to speed reporting.\n",
              "\n",
              "&gt;&gt;&gt; 1 in G  # check if node in graph\n",
              "True\n",
              "&gt;&gt;&gt; [n for n in G if n &lt; 3]  # iterate through nodes\n",
              "[1, 2]\n",
              "&gt;&gt;&gt; len(G)  # number of nodes in graph\n",
              "5\n",
              "\n",
              "Often the best way to traverse all edges of a graph is via the neighbors.\n",
              "The neighbors are reported as an adjacency-dict `G.adj` or `G.adjacency()`\n",
              "\n",
              "&gt;&gt;&gt; for n, nbrsdict in G.adjacency():\n",
              "...     for nbr, eattr in nbrsdict.items():\n",
              "...         if &quot;weight&quot; in eattr:\n",
              "...             # Do something useful with the edges\n",
              "...             pass\n",
              "\n",
              "But the edges reporting object is often more convenient:\n",
              "\n",
              "&gt;&gt;&gt; for u, v, weight in G.edges(data=&quot;weight&quot;):\n",
              "...     if weight is not None:\n",
              "...         # Do something useful with the edges\n",
              "...         pass\n",
              "\n",
              "**Reporting:**\n",
              "\n",
              "Simple graph information is obtained using object-attributes and methods.\n",
              "Reporting usually provides views instead of containers to reduce memory\n",
              "usage. The views update as the graph is updated similarly to dict-views.\n",
              "The objects `nodes`, `edges` and `adj` provide access to data attributes\n",
              "via lookup (e.g. `nodes[n]`, `edges[u, v]`, `adj[u][v]`) and iteration\n",
              "(e.g. `nodes.items()`, `nodes.data(&#x27;color&#x27;)`,\n",
              "`nodes.data(&#x27;color&#x27;, default=&#x27;blue&#x27;)` and similarly for `edges`)\n",
              "Views exist for `nodes`, `edges`, `neighbors()`/`adj` and `degree`.\n",
              "\n",
              "For details on these and other miscellaneous methods, see below.\n",
              "\n",
              "**Subclasses (Advanced):**\n",
              "\n",
              "The Graph class uses a dict-of-dict-of-dict data structure.\n",
              "The outer dict (node_dict) holds adjacency information keyed by node.\n",
              "The next dict (adjlist_dict) represents the adjacency information and holds\n",
              "edge data keyed by neighbor.  The inner dict (edge_attr_dict) represents\n",
              "the edge data and holds edge attribute values keyed by attribute names.\n",
              "\n",
              "Each of these three dicts can be replaced in a subclass by a user defined\n",
              "dict-like object. In general, the dict-like features should be\n",
              "maintained but extra features can be added. To replace one of the\n",
              "dicts create a new graph class by changing the class(!) variable\n",
              "holding the factory for that dict-like structure. The variable names are\n",
              "node_dict_factory, node_attr_dict_factory, adjlist_inner_dict_factory,\n",
              "adjlist_outer_dict_factory, edge_attr_dict_factory and graph_attr_dict_factory.\n",
              "\n",
              "node_dict_factory : function, (default: dict)\n",
              "    Factory function to be used to create the dict containing node\n",
              "    attributes, keyed by node id.\n",
              "    It should require no arguments and return a dict-like object\n",
              "\n",
              "node_attr_dict_factory: function, (default: dict)\n",
              "    Factory function to be used to create the node attribute\n",
              "    dict which holds attribute values keyed by attribute name.\n",
              "    It should require no arguments and return a dict-like object\n",
              "\n",
              "adjlist_outer_dict_factory : function, (default: dict)\n",
              "    Factory function to be used to create the outer-most dict\n",
              "    in the data structure that holds adjacency info keyed by node.\n",
              "    It should require no arguments and return a dict-like object.\n",
              "\n",
              "adjlist_inner_dict_factory : function, optional (default: dict)\n",
              "    Factory function to be used to create the adjacency list\n",
              "    dict which holds edge data keyed by neighbor.\n",
              "    It should require no arguments and return a dict-like object\n",
              "\n",
              "edge_attr_dict_factory : function, optional (default: dict)\n",
              "    Factory function to be used to create the edge attribute\n",
              "    dict which holds attribute values keyed by attribute name.\n",
              "    It should require no arguments and return a dict-like object.\n",
              "\n",
              "graph_attr_dict_factory : function, (default: dict)\n",
              "    Factory function to be used to create the graph attribute\n",
              "    dict which holds attribute values keyed by attribute name.\n",
              "    It should require no arguments and return a dict-like object.\n",
              "\n",
              "Typically, if your extension doesn&#x27;t impact the data structure all\n",
              "methods will inherited without issue except: `to_directed/to_undirected`.\n",
              "By default these methods create a DiGraph/Graph class and you probably\n",
              "want them to create your extension of a DiGraph/Graph. To facilitate\n",
              "this we define two class variables that you can set in your subclass.\n",
              "\n",
              "to_directed_class : callable, (default: DiGraph or MultiDiGraph)\n",
              "    Class to create a new graph structure in the `to_directed` method.\n",
              "    If `None`, a NetworkX class (DiGraph or MultiDiGraph) is used.\n",
              "\n",
              "to_undirected_class : callable, (default: Graph or MultiGraph)\n",
              "    Class to create a new graph structure in the `to_undirected` method.\n",
              "    If `None`, a NetworkX class (Graph or MultiGraph) is used.\n",
              "\n",
              "**Subclassing Example**\n",
              "\n",
              "Create a low memory graph class that effectively disallows edge\n",
              "attributes by using a single attribute dict for all edges.\n",
              "This reduces the memory used, but you lose edge attributes.\n",
              "\n",
              "&gt;&gt;&gt; class ThinGraph(nx.Graph):\n",
              "...     all_edge_dict = {&quot;weight&quot;: 1}\n",
              "...\n",
              "...     def single_edge_dict(self):\n",
              "...         return self.all_edge_dict\n",
              "...\n",
              "...     edge_attr_dict_factory = single_edge_dict\n",
              "&gt;&gt;&gt; G = ThinGraph()\n",
              "&gt;&gt;&gt; G.add_edge(2, 1)\n",
              "&gt;&gt;&gt; G[2][1]\n",
              "{&#x27;weight&#x27;: 1}\n",
              "&gt;&gt;&gt; G.add_edge(2, 2)\n",
              "&gt;&gt;&gt; G[2][1] is G[2][2]\n",
              "True</pre>\n",
              "      <script>\n",
              "      if (google.colab.kernel.accessAllowed && google.colab.files && google.colab.files.view) {\n",
              "        for (const element of document.querySelectorAll('.filepath')) {\n",
              "          element.style.display = 'block'\n",
              "          element.onclick = (event) => {\n",
              "            event.preventDefault();\n",
              "            event.stopPropagation();\n",
              "            google.colab.files.view(element.textContent, 70);\n",
              "          };\n",
              "        }\n",
              "      }\n",
              "      for (const element of document.querySelectorAll('.function-repr-contents')) {\n",
              "        element.onclick = (event) => {\n",
              "          event.preventDefault();\n",
              "          event.stopPropagation();\n",
              "          element.classList.toggle('function-repr-contents-collapsed');\n",
              "        };\n",
              "      }\n",
              "      </script>\n",
              "      </div>"
            ]
          },
          "metadata": {},
          "execution_count": 35
        }
      ]
    },
    {
      "cell_type": "markdown",
      "source": [],
      "metadata": {
        "id": "q2QRAw3nWDlm"
      }
    },
    {
      "cell_type": "code",
      "source": [
        "nx.draw(networkX_graph)"
      ],
      "metadata": {
        "colab": {
          "base_uri": "https://localhost:8080/",
          "height": 516
        },
        "id": "ye2-ouFDWDtf",
        "outputId": "48a0302a-9dec-46f1-df88-d4bf4840c3bf"
      },
      "execution_count": null,
      "outputs": [
        {
          "output_type": "display_data",
          "data": {
            "text/plain": [
              "<Figure size 640x480 with 1 Axes>"
            ],
            "image/png": "[encoded data removed]"
          },
          "metadata": {}
        }
      ]
    },
    {
      "cell_type": "markdown",
      "source": [],
      "metadata": {
        "id": "et2F_3CwWD1q"
      }
    },
    {
      "cell_type": "code",
      "source": [
        "networkX_graph"
      ],
      "metadata": {
        "colab": {
          "base_uri": "https://localhost:8080/"
        },
        "id": "8c9FpxYBWD9K",
        "outputId": "e1eee91d-3234-4247-c098-776795f2b398"
      },
      "execution_count": null,
      "outputs": [
        {
          "output_type": "execute_result",
          "data": {
            "text/plain": [
              "<networkx.classes.digraph.DiGraph at 0x7f9c6cfa9f30>"
            ]
          },
          "metadata": {},
          "execution_count": 37
        }
      ]
    },
    {
      "cell_type": "markdown",
      "source": [],
      "metadata": {
        "id": "e_sjoIPbWEDf"
      }
    },
    {
      "cell_type": "markdown",
      "source": [],
      "metadata": {
        "id": "Oci4fh2DVaFc"
      }
    },
    {
      "cell_type": "markdown",
      "source": [],
      "metadata": {
        "id": "lM7TKwH5VB-S"
      }
    },
    {
      "cell_type": "code",
      "source": [
        "\n",
        "print(nx.is_weighted(networkX_graph))\n",
        "print(nx.is_directed(networkX_graph))\n",
        "print(networkX_graph.order())\n",
        "print(networkX_graph.number_of_edges())\n",
        "print(networkX_graph.number_of_nodes())\n",
        "print(networkX_graph.edges)"
      ],
      "metadata": {
        "colab": {
          "base_uri": "https://localhost:8080/"
        },
        "id": "yz0EGo5uVCIp",
        "outputId": "14a617a4-b649-493d-ba18-1fe0817e3d75"
      },
      "execution_count": null,
      "outputs": [
        {
          "output_type": "stream",
          "name": "stdout",
          "text": [
            "False\n",
            "True\n",
            "2708\n",
            "10556\n",
            "2708\n",
            "[(0, 633), (0, 1862), (0, 2582), (1, 2), (1, 652), (1, 654), (2, 1), (2, 332), (2, 1454), (2, 1666), (2, 1986), (3, 2544), (4, 1016), (4, 1256), (4, 1761), (4, 2175), (4, 2176), (5, 1629), (5, 1659), (5, 2546), (6, 373), (6, 1042), (6, 1416), (6, 1602), (7, 208), (8, 269), (8, 281), (8, 1996), (9, 723), (9, 2614), (10, 476), (10, 2545), (11, 1655), (11, 1839), (12, 1001), (12, 1318), (12, 2661), (12, 2662), (13, 1701), (13, 1810), (14, 158), (14, 2034), (14, 2075), (14, 2077), (14, 2668), (15, 1090), (15, 1093), (15, 1271), (15, 2367), (16, 970), (16, 1632), (16, 2444), (16, 2642), (17, 24), (17, 927), (17, 1315), (17, 1316), (17, 2140), (18, 139), (18, 1560), (18, 1786), (18, 2082), (18, 2145), (19, 1939), (20, 1072), (20, 2269), (20, 2270), (20, 2374), (20, 2375), (21, 1043), (21, 2310), (22, 39), (22, 1234), (22, 1702), (22, 1703), (22, 2238), (23, 2159), (24, 17), (24, 201), (24, 598), (24, 1636), (24, 1701), (24, 2139), (24, 2141), (25, 1301), (25, 1344), (25, 2011), (25, 2317), (26, 99), (26, 122), (26, 123), (26, 2454), (26, 2455), (27, 606), (27, 1810), (27, 2360), (27, 2578), (28, 1687), (29, 963), (29, 2645), (30, 697), (30, 738), (30, 1358), (30, 1416), (30, 2162), (30, 2343), (31, 1594), (32, 279), (32, 518), (32, 1850), (32, 1973), (33, 286), (33, 588), (33, 698), (33, 911), (33, 1051), (33, 2040), (33, 2119), (33, 2120), (33, 2121), (34, 1358), (35, 895), (35, 1296), (35, 1913), (36, 1146), (36, 1505), (36, 1552), (36, 1640), (36, 1781), (36, 2094), (36, 2106), (36, 2107), (37, 60), (37, 1190), (37, 2427), (38, 429), (38, 862), (38, 863), (38, 1160), (39, 22), (39, 1349), (39, 1522), (39, 1532), (39, 1634), (39, 1965), (39, 2357), (40, 507), (40, 866), (40, 1364), (41, 175), (41, 596), (41, 644), (41, 1914), (42, 87), (42, 1372), (43, 152), (43, 963), (43, 1530), (43, 1653), (43, 2399), (43, 2400), (44, 1582), (44, 2624), (44, 2701), (45, 733), (45, 1219), (45, 1986), (45, 2303), (45, 2667), (45, 2668), (46, 1604), (46, 2366), (47, 163), (47, 1579), (48, 598), (48, 714), (48, 1031), (48, 1662), (48, 1666), (48, 2041), (48, 2205), (48, 2206), (48, 2471), (49, 1666), (49, 2034), (50, 1441), (51, 457), (51, 710), (51, 1392), (51, 2213), (51, 2214), (51, 2215), (52, 1139), (52, 1467), (52, 2053), (52, 2172), (52, 2182), (53, 1103), (53, 1358), (53, 1739), (54, 401), (54, 767), (55, 60), (55, 210), (55, 323), (55, 651), (55, 771), (55, 787), (55, 815), (55, 1079), (55, 1156), (55, 1983), (55, 2020), (55, 2021), (56, 412), (56, 447), (56, 1616), (56, 1849), (57, 2418), (58, 1715), (59, 105), (59, 580), (59, 609), (59, 615), (59, 1067), (59, 1287), (59, 1358), (59, 1627), (59, 1725), (59, 2651), (60, 37), (60, 55), (60, 1527), (61, 1080), (61, 1309), (61, 1416), (61, 2162), (61, 2312), (62, 485), (63, 1322), (64, 1209), (64, 1737), (64, 2616), (65, 239), (65, 543), (65, 619), (65, 771), (65, 1156), (65, 1293), (65, 1628), (65, 2021), (65, 2418), (65, 2419), (66, 2631), (67, 282), (67, 540), (67, 2628), (68, 391), (68, 1358), (68, 1986), (69, 604), (69, 1013), (69, 1351), (69, 1914), (69, 1920), (69, 1926), (69, 2189), (70, 441), (70, 2184), (71, 206), (71, 1986), (71, 2691), (72, 1103), (72, 1358), (73, 449), (73, 558), (73, 797), (73, 876), (73, 1035), (73, 1136), (73, 1189), (73, 1214), (73, 1358), (73, 1723), (73, 1745), (73, 1751), (74, 544), (74, 586), (74, 1042), (74, 1118), (74, 1416), (74, 1517), (74, 2052), (74, 2155), (74, 2419), (75, 84), (75, 583), (75, 2222), (75, 2223), (75, 2224), (75, 2225), (76, 88), (76, 2018), (76, 2178), (77, 659), (77, 1803), (78, 1219), (78, 1329), (78, 1418), (79, 603), (79, 2097), (80, 257), (80, 1117), (80, 2049), (81, 347), (81, 423), (81, 527), (81, 2180), (82, 1138), (82, 1634), (83, 1520), (83, 2581), (84, 75), (84, 284), (84, 2223), (84, 2224), (84, 2226), (85, 1065), (85, 2487), (85, 2488), (86, 429), (86, 1336), (86, 2034), (86, 2295), (87, 42), (87, 842), (87, 2164), (88, 76), (88, 130), (88, 162), (88, 300), (88, 415), (88, 498), (88, 696), (88, 737), (88, 743), (88, 815), (88, 841), (88, 851), (88, 1174), (88, 1288), (88, 1309), (88, 1394), (88, 1494), (88, 1527), (88, 1658), (88, 1677), (88, 1713), (88, 1732), (88, 1741), (88, 1847), (88, 1882), (88, 1908), (88, 2010), (88, 2011), (88, 2012), (88, 2013), (88, 2014), (88, 2015), (88, 2016), (88, 2017), (88, 2178), (88, 2394), (89, 258), (89, 884), (89, 1087), (89, 1094), (89, 1157), (89, 1401), (89, 1530), (89, 1585), (89, 1653), (89, 2463), (90, 155), (90, 156), (90, 817), (90, 1358), (91, 330), (91, 1046), (91, 2001), (91, 2122), (91, 2123), (91, 2380), (92, 898), (92, 1836), (93, 550), (93, 950), (93, 1495), (93, 2151), (94, 195), (94, 586), (94, 675), (94, 733), (94, 934), (94, 1649), (94, 1966), (94, 2263), (94, 2355), (94, 2357), (94, 2490), (95, 334), (95, 456), (95, 693), (95, 734), (95, 736), (95, 861), (95, 1303), (95, 1535), (95, 1580), (95, 1602), (95, 1628), (95, 1838), (95, 2054), (95, 2074), (95, 2181), (95, 2182), (95, 2183), (95, 2197), (95, 2199), (95, 2200), (95, 2201), (96, 2217), (97, 661), (97, 1353), (98, 1521), (99, 26), (99, 122), (99, 123), (99, 2454), (99, 2455), (99, 2604), (100, 1602), (100, 2056), (101, 281), (101, 1358), (101, 1589), (102, 109), (102, 1251), (102, 1448), (102, 1561), (102, 1623), (102, 1871), (102, 1878), (102, 2256), (103, 139), (103, 306), (103, 484), (103, 608), (103, 1775), (103, 1790), (104, 401), (104, 864), (104, 1065), (104, 2210), (105, 59), (105, 1721), (105, 2476), (105, 2651), (106, 2461), (107, 541), (107, 971), (107, 1113), (107, 1650), (108, 1647), (108, 2157), (108, 2209), (109, 102), (109, 124), (109, 133), (109, 153), (109, 176), (109, 236), (109, 289), (109, 306), (109, 318), (109, 426), (109, 459), (109, 519), (109, 563), (109, 610), (109, 1045), (109, 1337), (109, 1346), (109, 1624), (109, 1661), (109, 1769), (109, 1772), (109, 1779), (109, 1785), (109, 1787), (109, 1789), (109, 1805), (109, 1998), (109, 2045), (109, 2092), (109, 2093), (109, 2094), (109, 2095), (110, 567), (110, 1161), (110, 1262), (110, 1599), (110, 2279), (111, 758), (111, 1169), (111, 1358), (111, 1762), (111, 2492), (111, 2643), (112, 306), (112, 487), (112, 1623), (112, 2080), (113, 540), (113, 747), (113, 1884), (114, 610), (114, 2288), (114, 2506), (115, 973), (116, 1076), (116, 1501), (117, 259), (117, 2537), (118, 255), (118, 388), (118, 446), (118, 454), (118, 554), (118, 581), (118, 842), (118, 1029), (118, 1343), (118, 1507), (118, 1538), (118, 1616), (118, 1690), (118, 1851), (118, 2010), (118, 2030), (118, 2112), (118, 2165), (118, 2166), (119, 379), (119, 646), (119, 1537), (119, 1549), (119, 1901), (119, 1959), (120, 483), (120, 514), (120, 816), (120, 1842), (120, 2405), (121, 589), (121, 802), (121, 980), (121, 1158), (121, 1910), (121, 2251), (121, 2252), (122, 26), (122, 99), (122, 2454), (122, 2455), (123, 26), (123, 99), (123, 2455), (123, 2604), (124, 109), (124, 306), (124, 1367), (124, 1622), (124, 2478), (125, 458), (125, 2363), (126, 236), (126, 306), (126, 1551), (126, 1623), (126, 2045), (126, 2079), (127, 2604), (128, 233), (128, 370), (128, 392), (128, 2270), (129, 441), (129, 701), (130, 88), (130, 1982), (130, 2017), (131, 834), (131, 2169), (132, 379), (132, 479), (132, 904), (132, 1022), (132, 1959), (133, 109), (133, 399), (133, 452), (133, 1623), (133, 1670), (133, 1777), (133, 1784), (133, 2045), (133, 2082), (134, 406), (135, 137), (135, 2095), (135, 2144), (136, 831), (137, 135), (137, 2144), (137, 2329), (137, 2504), (138, 236), (138, 306), (138, 1776), (139, 18), (139, 103), (139, 306), (139, 660), (139, 910), (139, 1623), (139, 1780), (139, 2045), (140, 582), (140, 623), (141, 740), (141, 1002), (141, 2034), (142, 456), (142, 525), (142, 1628), (142, 2049), (142, 2181), (143, 316), (143, 598), (143, 1701), (144, 145), (144, 213), (144, 1593), (144, 2192), (145, 144), (145, 213), (145, 537), (145, 1165), (145, 1593), (145, 2622), (146, 897), (146, 1468), (146, 1907), (146, 1927), (146, 2059), (147, 1519), (147, 1976), (148, 378), (148, 381), (148, 602), (148, 714), (148, 2518), (149, 1080), (149, 1416), (149, 1655), (149, 2025), (150, 310), (150, 914), (150, 1942), (151, 1986), (151, 2236), (151, 2238), (151, 2335), (152, 43), (152, 884), (152, 2238), (152, 2240), (153, 109), (153, 236), (153, 306), (153, 459), (153, 1623), (153, 2045), (154, 326), (154, 364), (154, 819), (154, 1238), (154, 1339), (154, 1358), (154, 1444), (154, 1568), (154, 1752), (154, 1753), (154, 1754), (154, 2525), (155, 90), (155, 156), (155, 817), (155, 1358), (155, 1689), (155, 1736), (155, 1763), (156, 90), (156, 155), (156, 817), (156, 1358), (156, 1689), (156, 1763), (157, 598), (157, 1701), (157, 1870), (157, 2493), (158, 14), (158, 180), (158, 1701), (158, 2034), (159, 180), (159, 2308), (160, 277), (160, 553), (160, 743), (160, 745), (160, 1986), (160, 2000), (160, 2009), (161, 842), (161, 2010), (162, 88), (162, 323), (162, 1174), (162, 1268), (162, 1667), (163, 47), (164, 210), (164, 211), (165, 598), (165, 1473), (165, 2706), (165, 2707), (166, 271), (166, 2617), (167, 168), (167, 1056), (167, 2437), (167, 2482), (168, 167), (168, 2437), (168, 2438), (169, 1994), (169, 2706), (170, 1067), (170, 1358), (171, 775), (171, 790), (171, 1548), (172, 240), (172, 512), (172, 756), (172, 1692), (172, 2187), (173, 687), (173, 1033), (173, 1358), (173, 1586), (174, 629), (174, 1358), (174, 1742), (174, 2334), (175, 41), (175, 596), (175, 955), (175, 1914), (175, 2135), (175, 2217), (175, 2388), (176, 109), (176, 231), (176, 973), (177, 726), (177, 1639), (177, 2679), (177, 2682), (178, 833), (179, 197), (179, 231), (179, 1986), (180, 158), (180, 159), (180, 775), (180, 790), (180, 791), (180, 1020), (180, 1807), (180, 2004), (180, 2037), (180, 2076), (181, 1013), (181, 1359), (181, 1464), (181, 1683), (182, 183), (182, 997), (183, 182), (183, 997), (183, 1837), (184, 520), (185, 297), (185, 2003), (186, 1228), (186, 1319), (186, 1536), (186, 1672), (186, 2580), (186, 2702), (187, 1208), (188, 1169), (188, 1727), (189, 564), (189, 1072), (189, 1262), (189, 1509), (190, 491), (190, 2135), (191, 382), (191, 608), (191, 1677), (191, 1791), (191, 1998), (191, 2385), (192, 2472), (193, 441), (193, 458), (194, 473), (194, 1050), (194, 1451), (194, 2564), (194, 2646), (195, 94), (195, 2424), (196, 429), (196, 442), (196, 2122), (197, 179), (197, 231), (197, 2412), (198, 1255), (199, 420), (199, 1869), (200, 1439), (200, 2676), (201, 24), (201, 297), (201, 570), (201, 598), (201, 1701), (201, 1986), (201, 2430), (202, 353), (202, 1173), (202, 1250), (202, 1345), (203, 854), (203, 857), (203, 963), (203, 1115), (203, 1869), (204, 415), (205, 1701), (205, 1869), (206, 71), (206, 2691), (207, 833), (208, 7), (209, 2681), (210, 55), (210, 164), (210, 1079), (210, 1614), (210, 1626), (210, 1671), (210, 1905), (210, 1906), (210, 1907), (210, 2309), (211, 164), (211, 356), (211, 1394), (211, 1908), (211, 1909), (212, 1290), (213, 144), (213, 145), (213, 1593), (213, 2192), (214, 2194), (215, 1701), (215, 1986), (215, 2045), (216, 1542), (216, 1701), (217, 243), (217, 2473), (217, 2474), (218, 482), (218, 733), (218, 781), (218, 792), (218, 1020), (218, 1348), (218, 1382), (218, 2076), (218, 2091), (218, 2119), (218, 2594), (219, 507), (219, 1413), (219, 1542), (220, 376), (220, 817), (220, 913), (221, 817), (222, 821), (223, 744), (223, 1154), (223, 1761), (224, 1810), (224, 2034), (225, 2255), (226, 1701), (227, 534), (227, 883), (228, 322), (228, 848), (228, 1358), (228, 1721), (228, 1871), (229, 1053), (229, 1405), (229, 1894), (229, 2118), (230, 549), (230, 577), (230, 1095), (230, 1217), (230, 1810), (231, 176), (231, 179), (231, 197), (231, 232), (231, 387), (231, 551), (231, 1701), (231, 1868), (231, 2217), (232, 231), (232, 869), (232, 1701), (232, 1864), (232, 1986), (233, 128), (234, 610), (234, 2591), (235, 1701), (236, 109), (236, 126), (236, 138), (236, 153), (236, 306), (236, 1072), (236, 1572), (236, 2045), (236, 2046), (236, 2078), (236, 2079), (237, 2539), (238, 1828), (239, 65), (239, 619), (239, 887), (239, 910), (239, 1069), (239, 1220), (239, 1274), (239, 1376), (239, 1759), (239, 1909), (239, 2021), (239, 2182), (239, 2418), (240, 172), (240, 512), (240, 756), (240, 1472), (240, 1692), (241, 1441), (242, 279), (242, 838), (242, 1131), (242, 2280), (243, 217), (243, 473), (243, 2474), (243, 2647), (243, 2648), (244, 565), (244, 1072), (244, 1358), (244, 1610), (245, 782), (245, 1162), (246, 936), (246, 1358), (246, 1687), (246, 2515), (247, 2583), (248, 1264), (248, 1531), (248, 1964), (249, 621), (249, 1884), (249, 1978), (250, 2429), (251, 253), (251, 507), (251, 812), (251, 1300), (251, 1413), (251, 1542), (251, 1933), (252, 711), (252, 973), (252, 1973), (252, 2485), (253, 251), (253, 507), (253, 1413), (254, 507), (254, 1211), (255, 118), (255, 1266), (255, 1343), (255, 2112), (256, 756), (257, 80), (257, 964), (257, 1388), (257, 2180), (258, 89), (258, 963), (258, 1094), (258, 1153), (258, 1240), (258, 1401), (258, 2645), (259, 117), (259, 2537), (260, 365), (261, 873), (261, 1479), (261, 1701), (261, 1894), (262, 1351), (262, 1464), (263, 364), (263, 732), (263, 1103), (264, 472), (264, 844), (264, 1826), (264, 1902), (265, 1441), (266, 578), (266, 809), (266, 2227), (266, 2229), (267, 670), (267, 2000), (267, 2373), (268, 1740), (268, 2451), (269, 8), (269, 321), (269, 418), (269, 2543), (269, 2551), (270, 279), (270, 838), (270, 1195), (270, 1215), (270, 2280), (271, 166), (271, 638), (271, 1970), (271, 2387), (271, 2498), (272, 2012), (273, 374), (273, 846), (274, 748), (274, 749), (275, 805), (275, 1967), (276, 1463), (276, 1695), (276, 2133), (277, 160), (277, 553), (277, 696), (277, 973), (277, 1869), (278, 1185), (279, 32), (279, 242), (279, 270), (279, 304), (279, 502), (279, 666), (279, 838), (279, 1195), (279, 2165), (279, 2280), (279, 2344), (279, 2423), (280, 1535), (280, 2155), (281, 8), (281, 101), (281, 746), (281, 1000), (281, 1347), (281, 1382), (281, 2244), (281, 2247), (282, 67), (282, 747), (283, 1559), (283, 2250), (284, 84), (284, 583), (284, 2222), (284, 2223), (284, 2224), (284, 2225), (284, 2226), (285, 502), (285, 1999), (286, 33), (286, 442), (286, 698), (287, 2705), (288, 618), (289, 109), (289, 1358), (289, 1722), (290, 328), (290, 567), (290, 687), (290, 1765), (290, 2359), (291, 1692), (292, 2562), (293, 2038), (294, 306), (294, 2047), (295, 1176), (295, 1177), (296, 732), (296, 2685), (297, 185), (297, 201), (297, 598), (297, 899), (297, 1542), (298, 607), (298, 1095), (298, 1325), (299, 1484), (299, 2383), (299, 2386), (299, 2387), (299, 2498), (300, 88), (300, 415), (300, 634), (301, 1169), (301, 2492), (302, 306), (302, 350), (302, 719), (302, 1158), (302, 1253), (303, 719), (303, 1670), (303, 2143), (304, 279), (304, 1172), (304, 1857), (304, 2423), (305, 1416), (305, 1927), (306, 103), (306, 109), (306, 112), (306, 124), (306, 126), (306, 138), (306, 139), (306, 153), (306, 236), (306, 294), (306, 302), (306, 308), (306, 329), (306, 350), (306, 417), (306, 426), (306, 452), (306, 476), (306, 487), (306, 519), (306, 542), (306, 554), (306, 573), (306, 581), (306, 608), (306, 655), (306, 656), (306, 719), (306, 887), (306, 910), (306, 958), (306, 973), (306, 1009), (306, 1045), (306, 1072), (306, 1158), (306, 1193), (306, 1245), (306, 1251), (306, 1346), (306, 1367), (306, 1483), (306, 1490), (306, 1551), (306, 1572), (306, 1584), (306, 1640), (306, 1651), (306, 1656), (306, 1705), (306, 1770), (306, 1771), (306, 1772), (306, 1775), (306, 1779), (306, 1781), (306, 1782), (306, 1787), (306, 1797), (306, 1798), (306, 1799), (306, 1802), (306, 1804), (306, 1805), (306, 1856), (306, 2045), (306, 2046), (306, 2048), (306, 2078), (306, 2080), (306, 2084), (306, 2085), (306, 2086), (306, 2087), (306, 2088), (306, 2089), (306, 2090), (306, 2091), (307, 991), (308, 306), (308, 350), (308, 1253), (308, 1670), (308, 2045), (309, 383), (309, 2268), (309, 2305), (310, 150), (310, 352), (310, 875), (310, 892), (310, 990), (310, 1241), (310, 1272), (310, 1331), (310, 1581), (310, 1815), (310, 1944), (310, 1945), (310, 1946), (310, 1947), (310, 1948), (310, 1949), (310, 1950), (311, 343), (311, 690), (311, 1132), (311, 1865), (312, 1610), (312, 1722), (312, 1740), (313, 2296), (314, 1623), (314, 2000), (315, 408), (315, 423), (315, 1602), (315, 1921), (315, 2232), (316, 143), (316, 598), (316, 766), (316, 845), (316, 920), (316, 1073), (316, 1297), (316, 1821), (316, 1868), (316, 2004), (317, 1624), (317, 1785), (318, 109), (318, 563), (318, 1701), (318, 2045), (319, 1205), (320, 348), (320, 1597), (321, 269), (321, 1083), (321, 1450), (322, 228), (323, 55), (323, 162), (323, 498), (323, 2020), (323, 2022), (324, 827), (324, 2156), (324, 2194), (325, 787), (325, 1848), (326, 154), (326, 1358), (326, 1754), (327, 928), (327, 1325), (327, 1996), (327, 2063), (327, 2064), (328, 290), (328, 951), (328, 1250), (329, 306), (329, 1798), (329, 2598), (330, 91), (330, 1505), (330, 2123), (331, 1527), (331, 2480), (332, 2), (332, 665), (332, 2003), (332, 2122), (332, 2615), (333, 1358), (333, 1694), (334, 95), (334, 693), (334, 1013), (335, 1701), (335, 1986), (336, 1944), (336, 1950), (337, 1214), (337, 1358), (337, 1499), (337, 1776), (338, 1413), (338, 1542), (338, 1934), (339, 813), (340, 584), (340, 2463), (341, 613), (341, 1358), (341, 1389), (341, 1546), (341, 2045), (342, 1072), (342, 1512), (343, 311), (343, 1701), (344, 389), (344, 441), (344, 661), (344, 854), (344, 2323), (345, 833), (346, 999), (346, 1358), (347, 81), (347, 408), (347, 423), (347, 525), (348, 320), (348, 1643), (348, 2248), (348, 2250), (349, 419), (349, 465), (349, 2427), (350, 302), (350, 306), (350, 308), (350, 406), (350, 656), (350, 1623), (350, 1640), (350, 1775), (350, 1778), (350, 1782), (350, 2084), (350, 2085), (350, 2089), (350, 2090), (351, 1810), (352, 310), (352, 1294), (352, 1944), (353, 202), (353, 1173), (353, 1345), (353, 2507), (354, 659), (354, 1803), (354, 2453), (355, 1668), (356, 211), (356, 498), (356, 1259), (356, 2018), (356, 2116), (357, 657), (357, 1154), (357, 1358), (357, 2652), (358, 2642), (359, 389), (359, 1483), (359, 1620), (360, 1409), (360, 1824), (361, 2681), (362, 1966), (363, 1003), (364, 154), (364, 263), (364, 732), (364, 819), (364, 970), (364, 1306), (364, 1358), (364, 1606), (364, 1632), (364, 1756), (364, 2642), (365, 260), (365, 2469), (366, 553), (366, 745), (366, 1583), (366, 1986), (367, 2083), (367, 2451), (368, 428), (368, 996), (368, 1194), (368, 1366), (368, 1545), (368, 2249), (368, 2393), (369, 385), (369, 2484), (370, 128), (370, 1408), (370, 1414), (370, 1415), (370, 2269), (371, 720), (371, 1354), (371, 1414), (371, 1415), (371, 1441), (371, 1553), (371, 2375), (372, 626), (372, 1710), (372, 1834), (372, 2377), (373, 6), (373, 1025), (373, 1042), (374, 273), (374, 413), (374, 846), (374, 1101), (374, 2146), (374, 2147), (374, 2149), (375, 963), (375, 2401), (375, 2434), (375, 2435), (376, 220), (376, 672), (376, 1583), (377, 678), (377, 733), (377, 1265), (377, 2291), (378, 148), (378, 602), (379, 119), (379, 132), (379, 904), (379, 1022), (379, 1898), (379, 1959), (380, 477), (380, 930), (380, 2569), (381, 148), (381, 2518), (381, 2538), (382, 191), (382, 1203), (382, 2034), (383, 309), (383, 733), (383, 1704), (383, 2268), (384, 1623), (384, 1624), (385, 369), (385, 2483), (385, 2484), (386, 2114), (386, 2115), (386, 2117), (387, 231), (387, 519), (387, 2191), (388, 118), (388, 1899), (388, 2497), (389, 344), (389, 359), (389, 704), (389, 905), (389, 1077), (389, 1483), (389, 1743), (389, 2450), (390, 1108), (391, 68), (391, 493), (391, 1986), (391, 2365), (392, 128), (392, 720), (392, 1415), (392, 1619), (392, 1825), (392, 2269), (393, 739), (394, 577), (394, 849), (394, 1063), (394, 1064), (394, 2351), (395, 640), (395, 1147), (395, 2367), (396, 1217), (396, 1988), (397, 665), (397, 879), (397, 1096), (397, 2329), (398, 730), (398, 2177), (399, 133), (399, 544), (399, 1089), (399, 1769), (399, 2107), (400, 1354), (401, 54), (401, 104), (401, 733), (401, 1065), (401, 1096), (401, 1160), (402, 507), (402, 776), (402, 1413), (402, 1542), (402, 1932), (402, 1936), (402, 1940), (403, 464), (403, 806), (403, 1037), (403, 1383), (403, 1742), (403, 2503), (403, 2654), (404, 1170), (404, 1476), (405, 738), (405, 1275), (405, 1927), (405, 2059), (406, 134), (406, 350), (406, 505), (406, 2505), (407, 409), (407, 695), (407, 1681), (407, 1682), (408, 315), (408, 347), (408, 525), (408, 734), (408, 1841), (408, 2056), (409, 407), (409, 1624), (409, 1681), (409, 2084), (410, 676), (410, 1179), (411, 1096), (411, 1488), (411, 1577), (411, 2609), (412, 56), (412, 1616), (412, 1849), (413, 374), (414, 711), (415, 88), (415, 204), (415, 300), (415, 525), (415, 593), (415, 737), (415, 818), (415, 851), (415, 966), (415, 1174), (415, 1309), (415, 1527), (415, 1644), (415, 1677), (415, 1843), (415, 1847), (415, 1850), (415, 1908), (415, 2014), (415, 2178), (415, 2182), (416, 519), (416, 1701), (417, 306), (417, 1072), (417, 1871), (417, 2034), (417, 2494), (418, 269), (419, 349), (420, 199), (420, 1869), (421, 2213), (421, 2216), (422, 545), (423, 81), (423, 315), (423, 347), (423, 525), (423, 527), (424, 436), (424, 1203), (425, 2466), (426, 109), (426, 306), (426, 487), (426, 1772), (426, 1777), (426, 1782), (426, 1789), (426, 1805), (427, 565), (427, 1528), (428, 368), (428, 996), (428, 1257), (428, 2248), (428, 2671), (429, 38), (429, 86), (429, 196), (429, 523), (429, 705), (429, 794), (429, 863), (429, 1493), (429, 1618), (429, 1669), (429, 1807), (429, 1889), (429, 2001), (429, 2041), (429, 2043), (429, 2044), (430, 2130), (431, 2694), (431, 2695), (432, 1442), (432, 1597), (433, 436), (433, 756), (434, 1117), (434, 1524), (434, 1693), (434, 2133), (434, 2408), (435, 486), (435, 733), (435, 1912), (436, 424), (436, 433), (436, 483), (436, 498), (436, 668), (436, 816), (436, 878), (436, 885), (436, 1039), (436, 1131), (436, 1332), (436, 1494), (436, 1977), (436, 1978), (436, 1979), (436, 1980), (436, 1981), (436, 1982), (437, 498), (437, 718), (437, 950), (437, 1495), (437, 1985), (438, 718), (438, 787), (438, 1667), (438, 1983), (438, 1984), (438, 1985), (439, 1169), (439, 1642), (440, 441), (440, 725), (440, 895), (440, 1296), (440, 1913), (440, 2179), (441, 70), (441, 129), (441, 193), (441, 344), (441, 440), (441, 454), (441, 671), (441, 1455), (441, 1537), (441, 2094), (441, 2184), (442, 196), (442, 286), (442, 588), (442, 627), (442, 698), (442, 1051), (442, 2120), (442, 2362), (443, 1010), (443, 1264), (443, 1531), (443, 1966), (444, 488), (444, 515), (444, 582), (444, 623), (444, 828), (444, 2289), (444, 2290), (444, 2464), (445, 909), (445, 1434), (446, 118), (446, 903), (446, 1507), (447, 56), (447, 1616), (447, 1849), (447, 2638), (448, 472), (448, 1824), (448, 1826), (448, 1902), (449, 73), (449, 1280), (449, 1834), (449, 2581), (450, 1569), (450, 2538), (451, 671), (451, 935), (451, 2285), (452, 133), (452, 306), (452, 1258), (452, 1623), (453, 1806), (453, 2305), (453, 2306), (454, 118), (454, 441), (454, 581), (454, 973), (454, 1441), (454, 1661), (454, 1917), (454, 2022), (454, 2188), (454, 2189), (454, 2190), (455, 1664), (455, 2147), (455, 2486), (456, 95), (456, 142), (456, 525), (456, 544), (456, 667), (456, 1580), (456, 2054), (456, 2199), (456, 2347), (456, 2472), (457, 51), (457, 1201), (457, 2215), (457, 2216), (458, 125), (458, 193), (458, 1122), (458, 1276), (458, 1555), (458, 1953), (459, 109), (459, 153), (459, 1623), (459, 1681), (460, 1986), (460, 1989), (460, 2532), (461, 1203), (461, 2309), (462, 1048), (463, 1702), (463, 1703), (463, 1964), (463, 1966), (464, 403), (464, 1758), (464, 2444), (464, 2445), (465, 349), (465, 896), (465, 1403), (465, 1869), (465, 2304), (466, 970), (466, 1305), (466, 1358), (466, 1738), (466, 2546), (467, 1172), (467, 1701), (467, 1708), (468, 647), (468, 1311), (468, 1313), (469, 620), (469, 2304), (469, 2412), (470, 652), (470, 854), (470, 857), (470, 1097), (470, 1115), (471, 1013), (471, 2013), (471, 2394), (472, 264), (472, 448), (472, 559), (472, 844), (472, 1182), (472, 1183), (472, 1825), (472, 2029), (473, 194), (473, 243), (473, 1575), (473, 2647), (474, 1181), (475, 2219), (476, 10), (476, 306), (476, 1140), (476, 1800), (476, 1986), (477, 380), (477, 930), (477, 2569), (478, 514), (478, 1978), (478, 2024), (479, 132), (479, 1880), (480, 598), (480, 687), (480, 1426), (480, 1710), (480, 2359), (480, 2372), (481, 823), (481, 1287), (481, 1810), (481, 2291), (482, 218), (482, 790), (482, 1807), (482, 1810), (482, 1812), (482, 1814), (482, 2230), (482, 2307), (482, 2308), (483, 120), (483, 436), (483, 816), (483, 2405), (484, 103), (484, 542), (484, 1367), (484, 1699), (484, 1775), (484, 2046), (484, 2081), (485, 62), (485, 839), (485, 1042), (485, 2219), (486, 435), (486, 2077), (486, 2667), (486, 2668), (487, 112), (487, 306), (487, 426), (487, 655), (487, 859), (487, 1705), (487, 1772), (487, 1773), (487, 1782), (487, 1798), (487, 2026), (487, 2080), (488, 444), (488, 2547), (489, 1358), (489, 2390), (489, 2391), (490, 826), (490, 1131), (490, 1309), (490, 1463), (490, 1879), (490, 1973), (490, 1981), (490, 2099), (490, 2105), (491, 190), (492, 688), (492, 956), (492, 1257), (492, 1533), (492, 2538), (492, 2673), (492, 2678), (493, 391), (493, 1244), (493, 1759), (494, 2614), (495, 1327), (495, 1328), (495, 2192), (496, 596), (496, 711), (496, 992), (497, 2419), (498, 88), (498, 323), (498, 356), (498, 436), (498, 437), (498, 1652), (499, 2457), (499, 2458), (500, 2241), (501, 1358), (501, 1765), (502, 279), (502, 285), (502, 1976), (503, 576), (503, 1692), (503, 2001), (504, 1973), (504, 2394), (504, 2396), (505, 406), (505, 573), (505, 843), (505, 1180), (505, 1251), (505, 1258), (505, 1304), (505, 1448), (505, 1560), (505, 1779), (505, 2083), (506, 1013), (506, 1352), (506, 1914), (506, 1918), (507, 40), (507, 219), (507, 251), (507, 253), (507, 254), (507, 402), (507, 812), (507, 1176), (507, 1211), (507, 1300), (507, 1363), (507, 1413), (507, 1931), (507, 1933), (507, 1936), (507, 1940), (507, 1941), (507, 2508), (508, 2325), (509, 1101), (509, 2146), (509, 2148), (510, 1013), (510, 1131), (510, 1171), (511, 549), (511, 1810), (512, 172), (512, 240), (512, 756), (512, 1472), (512, 1692), (513, 565), (513, 657), (513, 1528), (514, 120), (514, 478), (514, 1314), (514, 1882), (514, 1978), (515, 444), (515, 623), (515, 1102), (515, 2464), (515, 2465), (515, 2547), (516, 1882), (516, 2104), (517, 952), (517, 2105), (518, 32), (518, 666), (518, 1373), (518, 2423), (519, 109), (519, 306), (519, 387), (519, 416), (519, 598), (519, 836), (519, 1346), (519, 1574), (519, 1670), (519, 1986), (519, 1998), (519, 2045), (520, 184), (521, 598), (522, 2097), (523, 429), (523, 949), (523, 2406), (524, 552), (524, 979), (524, 1169), (524, 1358), (524, 2476), (525, 142), (525, 347), (525, 408), (525, 415), (525, 423), (525, 456), (525, 1540), (525, 1628), (525, 2054), (525, 2057), (525, 2172), (525, 2180), (525, 2181), (525, 2182), (525, 2183), (526, 565), (526, 1007), (526, 1216), (526, 1742), (527, 81), (527, 423), (528, 803), (529, 1417), (529, 1419), (529, 2260), (530, 1013), (530, 1505), (530, 2094), (531, 606), (531, 2308), (532, 1701), (532, 1863), (533, 1742), (533, 2466), (534, 227), (534, 609), (534, 629), (534, 933), (535, 2392), (535, 2641), (536, 567), (536, 1894), (537, 145), (537, 1165), (537, 1593), (537, 1698), (537, 2192), (538, 1286), (539, 711), (539, 1616), (539, 2155), (540, 67), (540, 113), (540, 747), (540, 1441), (540, 2527), (541, 107), (541, 647), (541, 904), (541, 1022), (541, 1360), (541, 1896), (542, 306), (542, 484), (542, 1245), (542, 1623), (543, 65), (543, 984), (544, 74), (544, 399), (544, 456), (544, 1580), (544, 1769), (544, 2052), (544, 2199), (544, 2347), (545, 422), (546, 1608), (546, 2127), (547, 598), (547, 1701), (548, 809), (548, 843), (548, 1523), (548, 1937), (548, 2138), (549, 230), (549, 511), (549, 1497), (549, 1810), (550, 93), (551, 231), (551, 2388), (552, 524), (552, 1169), (552, 1358), (552, 2201), (553, 160), (553, 277), (553, 366), (553, 745), (553, 1127), (553, 1583), (553, 1995), (553, 2009), (554, 118), (554, 306), (554, 685), (555, 1463), (556, 1623), (556, 1805), (557, 1725), (558, 73), (558, 876), (558, 1189), (558, 1706), (558, 2585), (559, 472), (559, 1182), (559, 1579), (560, 774), (560, 2526), (561, 1016), (562, 704), (562, 1483), (562, 1735), (562, 2450), (563, 109), (563, 318), (563, 1337), (563, 1701), (563, 2045), (564, 189), (564, 1262), (564, 2476), (565, 244), (565, 427), (565, 513), (565, 526), (565, 687), (565, 1038), (565, 1361), (565, 1398), (565, 1528), (565, 1610), (565, 1723), (565, 2279), (566, 1907), (566, 1986), (567, 110), (567, 290), (567, 536), (567, 631), (567, 760), (567, 1262), (567, 1513), (568, 1116), (568, 1223), (568, 1810), (569, 1759), (569, 2512), (570, 201), (570, 2430), (571, 696), (571, 1570), (572, 1416), (572, 2025), (572, 2418), (573, 306), (573, 505), (573, 643), (573, 1313), (573, 2407), (574, 576), (574, 1692), (574, 2001), (575, 2283), (576, 503), (576, 574), (576, 665), (576, 1810), (576, 2348), (577, 230), (577, 394), (577, 849), (577, 870), (577, 906), (577, 1063), (577, 1129), (577, 1518), (577, 2351), (577, 2352), (577, 2353), (577, 2354), (578, 266), (578, 1105), (578, 1879), (578, 1974), (579, 994), (579, 1134), (579, 1808), (580, 59), (580, 744), (580, 1358), (580, 1742), (580, 1758), (580, 1765), (580, 2444), (580, 2445), (581, 118), (581, 306), (581, 454), (581, 1616), (581, 1623), (581, 1792), (582, 140), (582, 444), (582, 2548), (582, 2549), (583, 75), (583, 284), (583, 2224), (583, 2225), (584, 340), (584, 623), (584, 2289), (584, 2463), (584, 2464), (585, 2526), (586, 74), (586, 94), (586, 1218), (586, 1224), (586, 2155), (587, 1032), (588, 33), (588, 442), (588, 698), (588, 2383), (589, 121), (589, 980), (589, 1158), (589, 1624), (590, 1441), (590, 1954), (591, 642), (591, 1017), (591, 1078), (591, 1423), (591, 2472), (592, 2669), (593, 415), (593, 1115), (593, 1474), (594, 663), (594, 2195), (595, 1016), (595, 1256), (595, 2176), (596, 41), (596, 175), (596, 496), (596, 644), (596, 992), (596, 1914), (597, 1104), (597, 1628), (598, 24), (598, 48), (598, 143), (598, 157), (598, 165), (598, 201), (598, 297), (598, 316), (598, 480), (598, 519), (598, 521), (598, 547), (598, 637), (598, 766), (598, 845), (598, 869), (598, 968), (598, 1003), (598, 1100), (598, 1107), (598, 1297), (598, 1299), (598, 1301), (598, 1473), (598, 1573), (598, 1636), (598, 1821), (598, 1823), (598, 1864), (598, 1870), (598, 1875), (598, 2138), (598, 2707), (599, 1093), (599, 1271), (600, 2394), (601, 2229), (602, 148), (602, 378), (603, 79), (603, 716), (603, 795), (603, 1248), (603, 1821), (603, 1873), (603, 2045), (604, 69), (604, 1351), (604, 1652), (604, 1914), (604, 2109), (605, 1107), (605, 2534), (606, 27), (606, 531), (606, 1666), (606, 2230), (606, 2360), (606, 2361), (607, 298), (607, 1213), (607, 1664), (608, 103), (608, 191), (608, 306), (608, 1623), (608, 2080), (609, 59), (609, 534), (609, 883), (609, 1041), (609, 1358), (609, 2446), (609, 2447), (609, 2448), (610, 109), (610, 114), (610, 234), (610, 826), (610, 2287), (610, 2288), (610, 2481), (611, 2690), (612, 2235), (613, 341), (613, 1358), (614, 888), (614, 1475), (614, 2470), (615, 59), (615, 2443), (616, 1358), (616, 1739), (616, 2365), (616, 2503), (617, 705), (617, 2034), (618, 288), (618, 938), (619, 65), (619, 239), (620, 469), (620, 923), (620, 2534), (621, 249), (621, 1332), (621, 1978), (621, 2018), (622, 886), (622, 1002), (622, 1951), (622, 1952), (623, 140), (623, 444), (623, 515), (623, 584), (623, 2289), (623, 2464), (624, 1042), (624, 1232), (625, 1024), (626, 372), (626, 1358), (626, 2556), (626, 2558), (627, 442), (627, 2122), (627, 2238), (627, 2335), (628, 1169), (628, 1725), (628, 1764), (628, 2546), (629, 174), (629, 534), (629, 883), (630, 973), (631, 567), (631, 2358), (632, 1430), (633, 0), (633, 1701), (633, 1866), (634, 300), (634, 2227), (635, 2058), (636, 2233), (637, 598), (637, 1641), (638, 271), (638, 783), (638, 808), (638, 893), (638, 924), (638, 1773), (638, 2387), (639, 900), (640, 395), (640, 765), (640, 894), (640, 1090), (640, 1598), (640, 2420), (641, 2704), (642, 591), (642, 2472), (643, 573), (643, 1167), (643, 1538), (643, 2407), (644, 41), (644, 596), (644, 711), (644, 728), (644, 1258), (644, 2177), (645, 891), (645, 950), (645, 1267), (645, 1358), (645, 1495), (645, 1824), (645, 1826), (645, 1895), (645, 1898), (645, 1899), (645, 1900), (645, 1901), (646, 119), (647, 468), (647, 541), (647, 904), (647, 1267), (647, 1360), (648, 1441), (649, 1171), (649, 1457), (650, 819), (650, 1250), (650, 1486), (650, 1557), (650, 1685), (650, 1756), (650, 2083), (651, 55), (651, 885), (651, 1667), (651, 1984), (651, 2023), (651, 2024), (651, 2156), (652, 1), (652, 470), (653, 1231), (654, 1), (655, 306), (655, 487), (655, 2080), (656, 306), (656, 350), (656, 2090), (657, 357), (657, 513), (657, 867), (657, 871), (657, 1229), (657, 1254), (657, 1729), (657, 1740), (657, 2440), (657, 2442), (657, 2522), (657, 2523), (658, 2147), (659, 77), (659, 354), (659, 1803), (660, 139), (660, 1623), (661, 97), (661, 344), (661, 807), (661, 830), (661, 935), (661, 1028), (661, 1045), (661, 1353), (661, 1878), (661, 1879), (661, 1880), (661, 1881), (661, 1882), (661, 1883), (661, 1884), (661, 1885), (662, 932), (663, 594), (663, 2195), (664, 1701), (665, 332), (665, 397), (665, 576), (665, 2120), (665, 2122), (666, 279), (666, 518), (666, 1850), (666, 1973), (667, 456), (667, 2364), (667, 2472), (668, 436), (669, 729), (669, 1086), (669, 1124), (670, 267), (670, 2606), (671, 441), (671, 451), (671, 973), (671, 2025), (672, 376), (672, 2456), (673, 1907), (673, 1986), (674, 1907), (675, 94), (675, 2356), (676, 410), (676, 1955), (676, 2235), (677, 954), (678, 377), (678, 733), (679, 1395), (680, 2199), (681, 1171), (681, 1445), (681, 1446), (681, 1986), (682, 973), (682, 1224), (683, 834), (683, 2169), (684, 1282), (684, 1358), (685, 554), (686, 1358), (686, 2366), (687, 173), (687, 290), (687, 480), (687, 565), (687, 1033), (687, 1171), (687, 1358), (687, 1546), (687, 1586), (687, 1610), (687, 1710), (687, 1721), (687, 1725), (687, 2359), (687, 2372), (688, 492), (688, 1257), (689, 1169), (689, 1292), (689, 1317), (689, 1358), (689, 1721), (690, 311), (691, 2034), (691, 2130), (692, 2629), (693, 95), (693, 334), (693, 763), (693, 1851), (693, 2108), (694, 1478), (694, 2516), (695, 407), (695, 948), (695, 1012), (695, 1336), (695, 1681), (695, 1682), (695, 1790), (695, 1998), (695, 2319), (696, 88), (696, 277), (696, 571), (696, 1570), (697, 30), (697, 1080), (698, 33), (698, 286), (698, 442), (698, 588), (698, 1015), (699, 1701), (699, 2045), (699, 2327), (700, 1691), (701, 129), (701, 735), (701, 739), (701, 2062), (702, 777), (702, 779), (702, 822), (702, 993), (702, 1368), (702, 1637), (702, 2069), (702, 2070), (702, 2101), (703, 801), (703, 1961), (703, 2497), (704, 389), (704, 562), (704, 969), (704, 1412), (704, 1483), (704, 1743), (704, 2113), (704, 2450), (705, 429), (705, 617), (706, 805), (706, 963), (706, 1240), (706, 2238), (706, 2645), (707, 763), (708, 836), (708, 1358), (708, 2212), (708, 2216), (709, 1896), (709, 1903), (710, 51), (710, 1392), (710, 2212), (710, 2213), (711, 252), (711, 414), (711, 496), (711, 539), (711, 644), (711, 1285), (711, 2111), (711, 2112), (711, 2113), (712, 850), (712, 1464), (712, 2480), (713, 1044), (714, 48), (714, 148), (714, 1385), (715, 2291), (716, 603), (716, 1810), (716, 1821), (716, 2409), (717, 1907), (718, 437), (718, 438), (718, 1416), (718, 2059), (718, 2261), (719, 302), (719, 303), (719, 306), (719, 1623), (719, 1810), (720, 371), (720, 392), (720, 1441), (721, 1034), (722, 1273), (722, 1567), (722, 1874), (722, 2500), (722, 2501), (723, 9), (723, 2614), (724, 1344), (724, 2394), (724, 2395), (725, 440), (725, 1104), (725, 1137), (725, 1652), (725, 2071), (726, 177), (726, 1533), (726, 2671), (727, 1386), (727, 2570), (728, 644), (728, 1070), (728, 1296), (728, 2388), (728, 2553), (729, 669), (729, 1159), (729, 1221), (729, 1701), (729, 2534), (730, 398), (731, 901), (731, 1279), (731, 2199), (731, 2203), (732, 263), (732, 296), (732, 364), (732, 1756), (732, 2685), (733, 45), (733, 94), (733, 218), (733, 377), (733, 383), (733, 401), (733, 435), (733, 678), (733, 759), (733, 794), (733, 862), (733, 1062), (733, 1160), (733, 1192), (733, 1265), (733, 1294), (733, 1329), (733, 1682), (733, 1817), (733, 1818), (733, 2008), (733, 2011), (733, 2035), (733, 2268), (733, 2291), (733, 2301), (733, 2302), (733, 2303), (733, 2304), (734, 95), (734, 408), (734, 736), (734, 751), (734, 964), (734, 1006), (734, 1388), (734, 1841), (734, 2056), (734, 2197), (734, 2202), (734, 2277), (735, 701), (735, 739), (735, 1237), (735, 1543), (735, 1881), (735, 1958), (735, 2060), (735, 2061), (735, 2062), (736, 95), (736, 734), (736, 751), (736, 964), (736, 1006), (736, 1388), (736, 1631), (736, 1841), (736, 2197), (736, 2202), (737, 88), (737, 415), (737, 1269), (737, 1630), (737, 1974), (737, 2136), (737, 2178), (738, 30), (738, 405), (738, 1080), (738, 1927), (738, 2162), (739, 393), (739, 701), (739, 735), (739, 1237), (739, 1543), (739, 1881), (739, 1958), (740, 141), (740, 1002), (740, 2033), (741, 831), (741, 1011), (741, 1088), (741, 1282), (741, 2093), (742, 1483), (742, 1620), (742, 1743), (743, 88), (743, 160), (743, 745), (743, 1239), (743, 1570), (743, 1986), (744, 223), (744, 580), (744, 1154), (744, 1358), (745, 160), (745, 366), (745, 553), (745, 743), (745, 1127), (745, 1986), (745, 1995), (745, 2009), (746, 281), (746, 1303), (746, 2006), (747, 113), (747, 282), (747, 540), (747, 1538), (748, 274), (748, 1103), (748, 1145), (748, 1169), (748, 1358), (748, 1374), (748, 1550), (748, 1568), (748, 1617), (748, 1732), (748, 2553), (749, 274), (749, 1333), (749, 2155), (750, 1441), (751, 734), (751, 736), (751, 1204), (751, 2198), (751, 2202), (752, 957), (752, 2083), (752, 2451), (753, 1269), (753, 1880), (754, 1358), (754, 1483), (754, 2450), (755, 1277), (755, 1898), (755, 2071), (756, 172), (756, 240), (756, 256), (756, 433), (756, 512), (756, 885), (756, 1469), (756, 1472), (756, 1692), (756, 2186), (756, 2187), (757, 1284), (757, 1358), (757, 2421), (758, 111), (758, 1358), (758, 1762), (758, 2492), (759, 733), (759, 1703), (760, 567), (760, 985), (760, 1426), (760, 1513), (760, 2459), (760, 2460), (761, 1401), (761, 1443), (762, 859), (762, 2448), (763, 693), (763, 707), (763, 1635), (764, 796), (764, 1358), (764, 1606), (764, 1612), (765, 640), (765, 1147), (765, 2367), (766, 316), (766, 598), (766, 845), (766, 1297), (766, 1868), (767, 54), (767, 873), (767, 1701), (767, 2314), (768, 1566), (768, 1723), (768, 1724), (769, 1927), (770, 1894), (770, 2117), (771, 55), (771, 65), (771, 1080), (771, 1156), (772, 908), (773, 1072), (773, 1505), (774, 560), (775, 171), (775, 180), (775, 2075), (776, 402), (776, 1413), (776, 1542), (777, 702), (778, 779), (778, 1224), (778, 1370), (778, 1914), (778, 1919), (779, 702), (779, 778), (779, 1224), (779, 1370), (779, 1592), (779, 1914), (779, 1919), (779, 1973), (780, 2341), (781, 218), (781, 2402), (782, 245), (783, 638), (783, 893), (783, 1061), (783, 1143), (783, 2376), (784, 960), (784, 1701), (785, 1664), (786, 947), (787, 55), (787, 325), (787, 438), (788, 1031), (788, 1952), (788, 2033), (788, 2041), (788, 2205), (789, 1240), (789, 1703), (790, 171), (790, 180), (790, 482), (790, 1548), (790, 1810), (791, 180), (791, 2034), (791, 2130), (792, 218), (792, 1488), (792, 1558), (792, 1986), (792, 2555), (793, 1896), (793, 1902), (793, 1903), (793, 2592), (794, 429), (794, 733), (794, 863), (794, 1160), (794, 1590), (795, 603), (795, 1645), (795, 1810), (796, 764), (796, 1103), (796, 1317), (796, 1358), (797, 73), (797, 800), (797, 1358), (797, 1833), (797, 2359), (798, 1381), (798, 1793), (798, 1794), (798, 1795), (799, 961), (800, 797), (800, 820), (800, 889), (800, 1834), (801, 703), (801, 1470), (801, 1961), (801, 2516), (802, 121), (802, 1307), (803, 528), (803, 2100), (804, 1307), (805, 275), (805, 706), (805, 963), (805, 2236), (806, 403), (806, 1383), (807, 661), (807, 1226), (807, 1955), (807, 1956), (808, 638), (808, 924), (808, 1785), (808, 2383), (809, 266), (809, 548), (809, 1115), (809, 2228), (809, 2229), (810, 1068), (811, 855), (811, 900), (812, 251), (812, 507), (812, 1300), (812, 1413), (812, 1542), (813, 339), (813, 2376), (814, 893), (814, 1158), (814, 2382), (814, 2383), (815, 55), (815, 88), (815, 1174), (815, 1344), (815, 2017), (815, 2018), (816, 120), (816, 436), (816, 483), (816, 1842), (816, 1980), (816, 2282), (816, 2405), (817, 90), (817, 155), (817, 156), (817, 220), (817, 221), (817, 1736), (817, 1763), (817, 2456), (818, 415), (818, 1999), (819, 154), (819, 364), (819, 650), (819, 1358), (819, 1606), (820, 800), (820, 889), (821, 222), (822, 702), (822, 1973), (823, 481), (823, 1169), (823, 1358), (823, 1765), (823, 2221), (824, 1831), (825, 1765), (826, 490), (826, 610), (826, 2287), (826, 2528), (827, 324), (827, 1039), (827, 1921), (827, 1999), (828, 444), (828, 1795), (828, 2464), (829, 1816), (830, 661), (830, 1914), (830, 2100), (831, 136), (831, 741), (831, 1011), (831, 1358), (831, 1638), (831, 1733), (831, 2093), (832, 2600), (833, 178), (833, 207), (833, 345), (833, 1130), (833, 1641), (833, 1678), (833, 2036), (833, 2495), (833, 2595), (834, 131), (834, 683), (834, 876), (834, 2168), (835, 1121), (835, 1134), (835, 1654), (835, 1810), (836, 519), (836, 708), (836, 1013), (836, 1131), (836, 1343), (836, 1572), (836, 2078), (836, 2403), (837, 1422), (837, 2248), (837, 2670), (838, 242), (838, 270), (838, 279), (838, 868), (838, 1131), (838, 2280), (839, 485), (839, 965), (839, 2277), (840, 1903), (840, 2481), (841, 88), (841, 2034), (842, 87), (842, 118), (842, 161), (842, 2016), (843, 505), (843, 548), (843, 2339), (843, 2542), (844, 264), (844, 472), (844, 1902), (845, 316), (845, 598), (845, 766), (846, 273), (846, 374), (846, 2146), (847, 2189), (847, 2422), (848, 228), (848, 985), (848, 1373), (849, 394), (849, 577), (849, 1993), (849, 2351), (850, 712), (850, 1464), (850, 2278), (851, 88), (851, 415), (851, 1309), (851, 2018), (852, 1800), (853, 1169), (853, 1358), (853, 1762), (854, 203), (854, 344), (854, 470), (854, 857), (854, 935), (854, 1097), (854, 1884), (855, 811), (855, 2493), (856, 1390), (856, 2248), (857, 203), (857, 470), (857, 854), (857, 1097), (857, 1246), (858, 2182), (858, 2502), (859, 487), (859, 762), (859, 1030), (859, 1199), (859, 2096), (860, 1427), (860, 1527), (860, 1758), (861, 95), (861, 1397), (861, 2068), (861, 2330), (862, 38), (862, 733), (863, 38), (863, 429), (863, 794), (863, 1160), (863, 1590), (864, 104), (864, 1065), (864, 2210), (865, 2653), (866, 40), (866, 1049), (867, 657), (867, 871), (867, 1229), (867, 1252), (867, 2439), (867, 2440), (867, 2442), (867, 2522), (867, 2523), (868, 838), (868, 988), (868, 1195), (868, 1341), (868, 1526), (868, 1844), (868, 2099), (868, 2276), (869, 232), (869, 598), (869, 1440), (869, 1701), (869, 1864), (870, 577), (870, 1119), (870, 2126), (871, 657), (871, 867), (871, 1229), (871, 2530), (871, 2652), (872, 1340), (872, 1413), (872, 1542), (873, 261), (873, 767), (873, 1358), (873, 1479), (873, 1708), (873, 2313), (874, 1701), (875, 310), (875, 914), (875, 1942), (875, 1945), (875, 1950), (876, 73), (876, 558), (876, 834), (876, 1358), (876, 2168), (876, 2584), (877, 1176), (877, 1177), (877, 1300), (877, 1413), (877, 1542), (877, 1935), (878, 436), (878, 885), (878, 2326), (879, 397), (879, 1558), (880, 973), (880, 1013), (881, 1155), (881, 1199), (882, 1358), (883, 227), (883, 609), (883, 629), (883, 933), (884, 89), (884, 152), (885, 436), (885, 651), (885, 756), (885, 878), (885, 1039), (885, 2024), (885, 2386), (886, 622), (886, 1400), (887, 239), (887, 306), (887, 910), (887, 1623), (887, 1624), (888, 614), (888, 1475), (888, 1556), (889, 800), (889, 820), (889, 1830), (889, 1831), (889, 1832), (890, 1269), (890, 1314), (891, 645), (891, 1674), (891, 2608), (892, 310), (892, 1950), (893, 638), (893, 783), (893, 814), (893, 911), (893, 1051), (893, 2383), (894, 640), (894, 1845), (894, 2367), (895, 35), (895, 440), (895, 1187), (895, 1296), (895, 1913), (896, 465), (897, 146), (897, 1152), (897, 1156), (897, 1410), (897, 1494), (897, 1907), (897, 1983), (897, 2295), (898, 92), (898, 1835), (898, 1836), (898, 2160), (899, 297), (899, 1055), (899, 1858), (899, 1986), (900, 639), (900, 811), (901, 731), (901, 1042), (901, 1279), (901, 2073), (901, 2186), (901, 2199), (902, 1284), (902, 1358), (902, 1604), (903, 446), (903, 2030), (903, 2031), (904, 132), (904, 379), (904, 541), (904, 647), (904, 1312), (904, 1360), (904, 1959), (905, 389), (905, 1282), (905, 1483), (905, 1620), (906, 577), (906, 2351), (906, 2353), (907, 1351), (907, 1916), (908, 772), (908, 1013), (909, 445), (910, 139), (910, 239), (910, 306), (910, 887), (910, 1623), (910, 2085), (911, 33), (911, 893), (911, 1051), (911, 1534), (911, 2376), (912, 2130), (913, 220), (914, 150), (914, 875), (915, 1035), (915, 1740), (915, 2415), (915, 2597), (916, 1026), (917, 2639), (918, 1098), (918, 1542), (918, 2065), (919, 1358), (920, 316), (920, 1893), (921, 1914), (921, 2134), (921, 2293), (922, 1307), (922, 1406), (923, 620), (924, 638), (924, 808), (924, 2383), (925, 1222), (926, 1862), (927, 17), (927, 1316), (927, 2140), (928, 327), (928, 1326), (928, 2063), (929, 1358), (929, 2627), (930, 380), (930, 477), (930, 2569), (931, 1433), (932, 662), (933, 534), (933, 883), (933, 1038), (934, 94), (934, 2356), (935, 451), (935, 661), (935, 854), (935, 973), (935, 1873), (936, 246), (936, 1067), (936, 2515), (936, 2530), (936, 2641), (937, 1180), (937, 1304), (937, 2096), (938, 618), (938, 2027), (938, 2230), (939, 2173), (940, 1829), (941, 2517), (942, 1924), (942, 1952), (943, 1196), (944, 2138), (945, 1072), (945, 1512), (945, 1911), (945, 2388), (946, 1966), (946, 2623), (947, 786), (948, 695), (948, 1395), (948, 1681), (948, 1682), (949, 523), (950, 93), (950, 437), (950, 645), (951, 328), (951, 1358), (952, 517), (952, 2546), (953, 2565), (953, 2566), (953, 2567), (954, 677), (954, 1112), (955, 175), (955, 1482), (955, 1914), (956, 492), (956, 2677), (957, 752), (957, 1154), (957, 1358), (957, 1557), (957, 1685), (957, 1757), (957, 2083), (957, 2167), (958, 306), (958, 1072), (958, 1798), (959, 2529), (960, 784), (960, 1776), (960, 2650), (961, 799), (961, 1728), (961, 2555), (961, 2599), (962, 1062), (962, 1665), (962, 1806), (962, 1807), (962, 1808), (962, 1809), (962, 1810), (963, 29), (963, 43), (963, 203), (963, 258), (963, 375), (963, 706), (963, 805), (963, 1094), (963, 1141), (963, 1157), (963, 1417), (963, 1443), (963, 1703), (963, 1785), (963, 2240), (963, 2399), (963, 2400), (963, 2401), (963, 2434), (964, 257), (964, 734), (964, 736), (964, 965), (964, 1388), (964, 2198), (965, 839), (965, 964), (965, 1693), (965, 2197), (966, 415), (967, 2659), (968, 598), (968, 1603), (968, 1986), (969, 704), (969, 1483), (969, 1735), (969, 1743), (969, 2450), (970, 16), (970, 364), (970, 466), (970, 1358), (970, 2365), (971, 107), (971, 1650), (972, 1000), (972, 2247), (972, 2579), (972, 2580), (973, 115), (973, 176), (973, 252), (973, 277), (973, 306), (973, 454), (973, 630), (973, 671), (973, 682), (973, 880), (973, 935), (973, 1072), (973, 1142), (973, 1583), (973, 2016), (973, 2019), (973, 2153), (974, 1496), (975, 2097), (976, 998), (976, 1431), (977, 1281), (978, 998), (978, 1358), (979, 524), (979, 1303), (979, 1503), (979, 1839), (979, 1957), (979, 2207), (980, 121), (980, 589), (980, 1367), (980, 1623), (981, 1159), (981, 1221), (982, 1091), (982, 1256), (982, 1458), (982, 2175), (982, 2176), (983, 2130), (984, 543), (984, 1068), (984, 2265), (985, 760), (985, 848), (985, 1073), (985, 1149), (985, 1358), (986, 2697), (987, 1175), (988, 868), (989, 1507), (989, 1645), (989, 2285), (989, 2436), (990, 310), (990, 1054), (990, 1542), (991, 307), (992, 496), (992, 596), (993, 702), (993, 2155), (994, 579), (994, 1219), (994, 1329), (994, 2309), (995, 1309), (995, 1912), (995, 2385), (996, 368), (996, 428), (996, 1135), (996, 1257), (996, 2248), (996, 2518), (997, 182), (997, 183), (997, 1837), (998, 976), (998, 978), (998, 1103), (998, 1284), (998, 1431), (998, 2365), (999, 346), (999, 1358), (1000, 281), (1000, 972), (1000, 1325), (1000, 2543), (1001, 12), (1001, 2662), (1002, 141), (1002, 622), (1002, 740), (1002, 1952), (1002, 2033), (1002, 2034), (1003, 363), (1003, 598), (1003, 1373), (1003, 1687), (1003, 2607), (1004, 1489), (1004, 1810), (1005, 1541), (1006, 734), (1006, 736), (1006, 1302), (1007, 526), (1007, 1154), (1007, 1742), (1007, 2466), (1008, 1416), (1008, 1922), (1008, 2059), (1008, 2575), (1009, 306), (1009, 2096), (1010, 443), (1010, 1966), (1011, 741), (1011, 831), (1012, 695), (1012, 1336), (1012, 1681), (1012, 1682), (1012, 1797), (1013, 69), (1013, 181), (1013, 334), (1013, 471), (1013, 506), (1013, 510), (1013, 530), (1013, 836), (1013, 880), (1013, 908), (1013, 1120), (1013, 1293), (1013, 1403), (1013, 1464), (1013, 1521), (1013, 1583), (1013, 1625), (1013, 1644), (1013, 1661), (1013, 1675), (1013, 1729), (1013, 1840), (1013, 1841), (1013, 1842), (1013, 1843), (1013, 1844), (1013, 1845), (1013, 1846), (1013, 1847), (1013, 1848), (1013, 1849), (1013, 1850), (1013, 1851), (1013, 2045), (1014, 1558), (1015, 698), (1015, 1068), (1015, 1143), (1015, 1385), (1015, 1425), (1015, 1452), (1015, 1481), (1015, 1519), (1015, 1618), (1015, 1788), (1015, 1789), (1015, 2262), (1015, 2263), (1016, 4), (1016, 561), (1016, 595), (1016, 1256), (1016, 2176), (1017, 591), (1017, 1475), (1017, 2472), (1018, 2378), (1019, 1457), (1020, 180), (1020, 218), (1020, 2075), (1020, 2077), (1020, 2667), (1021, 2309), (1022, 132), (1022, 379), (1022, 541), (1022, 1168), (1022, 1276), (1022, 1961), (1022, 1962), (1022, 1963), (1023, 1701), (1023, 1986), (1023, 2568), (1024, 625), (1025, 373), (1025, 1042), (1026, 916), (1026, 1303), (1026, 2034), (1026, 2531), (1027, 2394), (1028, 661), (1029, 118), (1029, 2166), (1030, 859), (1031, 48), (1031, 788), (1031, 1952), (1032, 587), (1033, 173), (1033, 687), (1033, 2168), (1034, 721), (1035, 73), (1035, 915), (1035, 1433), (1035, 1486), (1035, 1740), (1035, 1801), (1035, 1833), (1036, 2562), (1037, 403), (1037, 2447), (1037, 2654), (1038, 565), (1038, 933), (1038, 1358), (1038, 2503), (1039, 436), (1039, 827), (1039, 885), (1040, 1169), (1040, 1317), (1040, 1358), (1040, 1765), (1041, 609), (1041, 1243), (1041, 1358), (1041, 1466), (1041, 2390), (1041, 2448), (1042, 6), (1042, 74), (1042, 373), (1042, 485), (1042, 624), (1042, 901), (1042, 1025), (1042, 1047), (1042, 1118), (1042, 1125), (1042, 1198), (1042, 1481), (1042, 1517), (1042, 1628), (1042, 1925), (1042, 1926), (1042, 2051), (1042, 2052), (1042, 2054), (1042, 2055), (1042, 2073), (1042, 2198), (1042, 2333), (1043, 21), (1043, 2309), (1044, 713), (1045, 109), (1045, 306), (1045, 661), (1045, 1571), (1045, 1773), (1046, 91), (1046, 1510), (1046, 2336), (1046, 2387), (1046, 2587), (1047, 1042), (1047, 1588), (1047, 2333), (1048, 462), (1049, 866), (1049, 1432), (1049, 1894), (1049, 2610), (1050, 194), (1050, 1081), (1050, 1230), (1050, 1320), (1050, 1342), (1050, 1380), (1050, 1569), (1050, 1634), (1050, 2563), (1050, 2564), (1051, 33), (1051, 442), (1051, 893), (1051, 911), (1051, 2122), (1051, 2383), (1052, 1701), (1053, 229), (1053, 1405), (1054, 990), (1054, 1099), (1054, 1432), (1054, 1577), (1054, 1605), (1054, 1950), (1055, 899), (1055, 1577), (1056, 167), (1056, 2482), (1057, 2409), (1058, 1195), (1059, 1600), (1060, 1441), (1061, 783), (1061, 1196), (1061, 2376), (1062, 733), (1062, 962), (1062, 1192), (1062, 1810), (1063, 394), (1063, 577), (1063, 1518), (1064, 394), (1064, 2351), (1064, 2352), (1065, 85), (1065, 104), (1065, 401), (1065, 864), (1065, 1096), (1065, 1699), (1065, 2211), (1066, 1574), (1067, 59), (1067, 170), (1067, 936), (1067, 1216), (1067, 1830), (1067, 2307), (1067, 2448), (1068, 810), (1068, 984), (1068, 1015), (1069, 239), (1070, 728), (1070, 1072), (1070, 1167), (1070, 1358), (1070, 1470), (1070, 1725), (1070, 1829), (1071, 1135), (1071, 1257), (1071, 2248), (1071, 2671), (1072, 20), (1072, 189), (1072, 236), (1072, 244), (1072, 306), (1072, 342), (1072, 417), (1072, 773), (1072, 945), (1072, 958), (1072, 973), (1072, 1070), (1072, 1262), (1072, 1358), (1072, 1478), (1072, 1483), (1072, 1505), (1072, 1725), (1072, 1733), (1072, 1740), (1072, 1784), (1072, 1797), (1072, 1798), (1072, 1799), (1072, 1800), (1072, 1801), (1072, 1802), (1072, 1803), (1072, 1804), (1072, 1805), (1073, 316), (1073, 985), (1073, 2163), (1074, 1501), (1074, 1675), (1074, 1676), (1075, 1124), (1075, 1701), (1076, 116), (1077, 389), (1077, 1483), (1077, 2113), (1077, 2450), (1078, 591), (1079, 55), (1079, 210), (1079, 1218), (1079, 1914), (1080, 61), (1080, 149), (1080, 697), (1080, 738), (1080, 771), (1080, 2162), (1080, 2344), (1081, 1050), (1081, 2563), (1082, 1534), (1082, 2386), (1083, 321), (1083, 1232), (1083, 1450), (1083, 2114), (1084, 1213), (1085, 1421), (1085, 2109), (1085, 2110), (1085, 2394), (1086, 669), (1086, 1124), (1086, 2247), (1086, 2579), (1087, 89), (1087, 2434), (1088, 741), (1088, 1089), (1089, 399), (1089, 1088), (1089, 1552), (1089, 2086), (1090, 15), (1090, 640), (1090, 1093), (1090, 1147), (1090, 1271), (1090, 1598), (1090, 2367), (1091, 982), (1091, 1256), (1091, 2176), (1092, 1106), (1092, 1171), (1092, 2501), (1093, 15), (1093, 599), (1093, 1090), (1093, 1271), (1093, 1598), (1093, 2367), (1094, 89), (1094, 258), (1094, 963), (1094, 1369), (1094, 1443), (1094, 1653), (1095, 230), (1095, 298), (1095, 1325), (1095, 1810), (1095, 1986), (1095, 2613), (1096, 397), (1096, 401), (1096, 411), (1096, 1065), (1096, 1633), (1097, 470), (1097, 854), (1097, 857), (1097, 1115), (1097, 1869), (1098, 918), (1098, 1477), (1098, 2066), (1098, 2067), (1099, 1054), (1099, 1577), (1099, 1607), (1100, 598), (1100, 1701), (1101, 374), (1101, 509), (1101, 1242), (1101, 2146), (1101, 2148), (1102, 515), (1102, 1207), (1102, 2290), (1102, 2464), (1102, 2465), (1103, 53), (1103, 72), (1103, 263), (1103, 748), (1103, 796), (1103, 998), (1103, 1123), (1103, 1284), (1103, 1358), (1103, 1480), (1103, 1520), (1103, 1718), (1103, 1748), (1103, 1760), (1103, 1886), (1103, 1887), (1103, 1888), (1104, 597), (1104, 725), (1104, 2264), (1105, 578), (1106, 1092), (1106, 1874), (1106, 2501), (1107, 598), (1107, 605), (1107, 1810), (1107, 2243), (1107, 2379), (1108, 390), (1109, 1533), (1109, 2671), (1109, 2674), (1109, 2675), (1110, 1120), (1110, 1224), (1110, 2025), (1110, 2295), (1111, 1119), (1111, 1273), (1111, 2125), (1111, 2126), (1111, 2129), (1112, 954), (1113, 107), (1113, 1650), (1114, 1717), (1114, 2560), (1115, 203), (1115, 470), (1115, 593), (1115, 809), (1115, 1097), (1115, 1529), (1115, 2276), (1116, 568), (1116, 1223), (1117, 80), (1117, 434), (1117, 1628), (1117, 2499), (1118, 74), (1118, 1042), (1118, 1416), (1118, 2155), (1119, 870), (1119, 1111), (1119, 1235), (1119, 1273), (1119, 1462), (1119, 1663), (1119, 1697), (1119, 2124), (1119, 2125), (1119, 2126), (1119, 2127), (1119, 2128), (1119, 2129), (1120, 1013), (1120, 1110), (1120, 1583), (1120, 2025), (1120, 2194), (1121, 835), (1121, 1131), (1121, 1410), (1121, 1655), (1121, 1810), (1121, 2136), (1122, 458), (1123, 1103), (1123, 1358), (1124, 669), (1124, 1075), (1124, 1086), (1125, 1042), (1125, 2332), (1126, 1823), (1127, 553), (1127, 745), (1127, 1583), (1127, 1986), (1128, 1441), (1128, 1954), (1128, 2275), (1129, 577), (1129, 1518), (1129, 2351), (1129, 2352), (1129, 2353), (1130, 833), (1130, 2495), (1131, 242), (1131, 436), (1131, 490), (1131, 510), (1131, 836), (1131, 838), (1131, 1121), (1131, 1133), (1131, 1215), (1131, 1224), (1131, 1500), (1131, 1538), (1131, 1655), (1131, 1909), (1131, 1930), (1131, 2155), (1131, 2185), (1131, 2280), (1131, 2281), (1131, 2282), (1131, 2283), (1132, 311), (1133, 1131), (1133, 1500), (1133, 1538), (1133, 2185), (1134, 579), (1134, 835), (1134, 2296), (1135, 996), (1135, 1071), (1135, 1257), (1135, 2248), (1135, 2518), (1135, 2671), (1135, 2678), (1136, 73), (1136, 1189), (1136, 2359), (1136, 2554), (1137, 725), (1138, 82), (1138, 2248), (1138, 2250), (1139, 52), (1139, 1628), (1139, 2054), (1139, 2182), (1140, 476), (1141, 963), (1141, 2294), (1142, 973), (1142, 2326), (1143, 783), (1143, 1015), (1143, 1618), (1143, 2155), (1143, 2262), (1143, 2376), (1144, 1245), (1144, 1623), (1145, 748), (1145, 1169), (1145, 1358), (1146, 36), (1146, 1505), (1146, 1506), (1146, 2254), (1147, 395), (1147, 765), (1147, 1090), (1147, 1598), (1147, 1865), (1147, 2367), (1147, 2371), (1148, 1317), (1148, 1747), (1148, 2220), (1148, 2221), (1149, 985), (1149, 1358), (1149, 1894), (1149, 1986), (1150, 1243), (1151, 2570), (1151, 2700), (1152, 897), (1152, 1927), (1152, 2155), (1152, 2416), (1153, 258), (1153, 1401), (1154, 223), (1154, 357), (1154, 744), (1154, 957), (1154, 1007), (1154, 1358), (1154, 1714), (1154, 1715), (1154, 1742), (1154, 2514), (1154, 2515), (1155, 881), (1155, 1229), (1156, 55), (1156, 65), (1156, 771), (1156, 897), (1157, 89), (1157, 963), (1157, 2240), (1157, 2463), (1158, 121), (1158, 302), (1158, 306), (1158, 589), (1158, 814), (1158, 1635), (1158, 2251), (1158, 2252), (1158, 2382), (1159, 729), (1159, 981), (1159, 2534), (1160, 38), (1160, 401), (1160, 733), (1160, 794), (1160, 863), (1160, 2268), (1161, 110), (1162, 245), (1162, 1510), (1163, 1402), (1163, 2132), (1164, 1287), (1165, 145), (1165, 537), (1165, 1593), (1166, 1986), (1166, 2582), (1167, 643), (1167, 1070), (1168, 1022), (1168, 1955), (1169, 111), (1169, 188), (1169, 301), (1169, 439), (1169, 524), (1169, 552), (1169, 628), (1169, 689), (1169, 748), (1169, 823), (1169, 853), (1169, 1040), (1169, 1145), (1169, 1358), (1169, 1714), (1169, 1719), (1169, 1720), (1169, 1731), (1169, 1734), (1169, 1737), (1169, 2220), (1169, 2476), (1169, 2492), (1170, 404), (1170, 1476), (1171, 510), (1171, 649), (1171, 681), (1171, 687), (1171, 1092), (1171, 1295), (1171, 1355), (1171, 1855), (1171, 1909), (1171, 2359), (1172, 304), (1172, 467), (1173, 202), (1173, 353), (1173, 1250), (1174, 88), (1174, 162), (1174, 415), (1174, 815), (1174, 1912), (1174, 2394), (1175, 987), (1175, 2359), (1176, 295), (1176, 507), (1176, 877), (1176, 1542), (1176, 1935), (1177, 295), (1177, 877), (1177, 1542), (1177, 1935), (1178, 1529), (1178, 1908), (1178, 1984), (1178, 2350), (1179, 410), (1179, 1955), (1180, 505), (1180, 937), (1180, 1304), (1181, 474), (1182, 472), (1182, 559), (1182, 1183), (1182, 1579), (1183, 472), (1183, 1182), (1183, 1354), (1183, 1579), (1183, 1824), (1183, 1825), (1184, 1190), (1184, 2100), (1185, 278), (1185, 1460), (1185, 1992), (1185, 2349), (1185, 2358), (1185, 2589), (1185, 2590), (1186, 2535), (1186, 2574), (1187, 895), (1187, 1188), (1188, 1187), (1189, 73), (1189, 558), (1189, 1136), (1189, 1358), (1189, 2359), (1190, 37), (1190, 1184), (1190, 1387), (1191, 1558), (1191, 2241), (1191, 2339), (1192, 733), (1192, 1062), (1192, 1621), (1193, 306), (1193, 1705), (1194, 368), (1194, 1366), (1194, 2670), (1195, 270), (1195, 279), (1195, 868), (1195, 1058), (1196, 943), (1196, 1061), (1196, 1367), (1196, 1624), (1196, 2300), (1197, 1791), (1197, 1998), (1198, 1042), (1199, 859), (1199, 881), (1199, 1214), (1199, 1566), (1199, 1599), (1199, 1716), (1200, 1502), (1200, 2207), (1200, 2414), (1201, 457), (1201, 2214), (1201, 2533), (1202, 1428), (1202, 1510), (1202, 2336), (1202, 2376), (1202, 2524), (1203, 382), (1203, 424), (1203, 461), (1203, 1215), (1203, 1410), (1203, 1842), (1203, 2155), (1204, 751), (1204, 1330), (1204, 1602), (1204, 1838), (1204, 1839), (1205, 319), (1205, 1358), (1205, 1761), (1206, 1257), (1206, 2671), (1207, 1102), (1207, 2290), (1207, 2464), (1208, 187), (1209, 64), (1209, 1358), (1209, 1737), (1210, 1648), (1211, 254), (1211, 507), (1212, 1701), (1213, 607), (1213, 1084), (1213, 1290), (1214, 73), (1214, 337), (1214, 1199), (1214, 1499), (1214, 1716), (1214, 1745), (1215, 270), (1215, 1131), (1215, 1203), (1215, 1894), (1216, 526), (1216, 1067), (1216, 2446), (1216, 2503), (1217, 230), (1217, 396), (1218, 586), (1218, 1079), (1218, 1927), (1218, 2116), (1219, 45), (1219, 78), (1219, 994), (1220, 239), (1221, 729), (1221, 981), (1221, 1577), (1221, 1607), (1221, 1949), (1222, 925), (1222, 1224), (1223, 568), (1223, 1116), (1224, 586), (1224, 682), (1224, 778), (1224, 779), (1224, 1110), (1224, 1131), (1224, 1222), (1224, 1291), (1224, 1341), (1224, 1370), (1224, 1525), (1224, 1526), (1224, 1583), (1224, 1587), (1224, 1660), (1224, 1732), (1224, 1848), (1224, 1851), (1224, 1919), (1224, 1975), (1224, 2151), (1224, 2152), (1224, 2153), (1224, 2154), (1224, 2155), (1224, 2156), (1225, 1450), (1225, 2579), (1226, 807), (1226, 1955), (1226, 1956), (1226, 2528), (1227, 1269), (1228, 186), (1228, 1536), (1228, 2580), (1229, 657), (1229, 867), (1229, 871), (1229, 1155), (1229, 1254), (1229, 1308), (1229, 1358), (1229, 1384), (1229, 1506), (1229, 1627), (1229, 1749), (1229, 2439), (1229, 2440), (1229, 2441), (1229, 2442), (1230, 1050), (1230, 1342), (1231, 653), (1232, 624), (1232, 1083), (1233, 2433), (1234, 22), (1234, 1702), (1234, 1703), (1234, 1966), (1235, 1119), (1235, 1462), (1235, 2126), (1235, 2577), (1236, 2479), (1237, 735), (1237, 739), (1237, 1958), (1238, 154), (1238, 1358), (1239, 743), (1239, 2027), (1239, 2611), (1240, 258), (1240, 706), (1240, 789), (1240, 1443), (1240, 1702), (1240, 2237), (1241, 310), (1241, 1701), (1241, 1950), (1242, 1101), (1242, 2146), (1242, 2148), (1243, 1041), (1243, 1150), (1243, 1358), (1244, 493), (1245, 306), (1245, 542), (1245, 1144), (1245, 1770), (1245, 2080), (1246, 857), (1247, 1679), (1248, 603), (1248, 1651), (1248, 2045), (1249, 1483), (1249, 2556), (1249, 2558), (1250, 202), (1250, 328), (1250, 650), (1250, 1173), (1250, 2507), (1251, 102), (1251, 306), (1251, 505), (1251, 1448), (1251, 1623), (1252, 867), (1252, 2656), (1253, 302), (1253, 308), (1254, 657), (1254, 1229), (1254, 1308), (1255, 198), (1255, 2248), (1256, 4), (1256, 595), (1256, 982), (1256, 1016), (1256, 1091), (1256, 1761), (1256, 2175), (1256, 2176), (1257, 428), (1257, 492), (1257, 688), (1257, 996), (1257, 1071), (1257, 1135), (1257, 1206), (1257, 2248), (1257, 2249), (1257, 2518), (1257, 2538), (1257, 2671), (1257, 2673), (1257, 2677), (1257, 2678), (1257, 2679), (1258, 452), (1258, 505), (1258, 644), (1259, 356), (1259, 2342), (1260, 1559), (1260, 2250), (1261, 2130), (1262, 110), (1262, 189), (1262, 564), (1262, 567), (1262, 1072), (1262, 1509), (1263, 1407), (1264, 248), (1264, 443), (1264, 1531), (1265, 377), (1265, 733), (1265, 2291), (1266, 255), (1266, 1529), (1266, 1984), (1267, 645), (1267, 647), (1267, 1824), (1268, 162), (1268, 1929), (1268, 2309), (1269, 737), (1269, 753), (1269, 890), (1269, 1227), (1269, 1314), (1269, 1630), (1269, 1880), (1269, 2227), (1270, 1622), (1270, 2034), (1271, 15), (1271, 599), (1271, 1090), (1271, 1093), (1271, 2367), (1272, 310), (1272, 1945), (1272, 1947), (1272, 1950), (1273, 722), (1273, 1111), (1273, 1119), (1273, 2034), (1273, 2124), (1273, 2125), (1273, 2126), (1273, 2129), (1274, 239), (1275, 405), (1275, 1468), (1276, 458), (1276, 1022), (1276, 1962), (1277, 755), (1278, 2268), (1278, 2305), (1278, 2306), (1279, 731), (1279, 901), (1279, 2186), (1279, 2203), (1280, 449), (1280, 2612), (1281, 977), (1281, 1358), (1281, 1746), (1281, 1748), (1282, 684), (1282, 741), (1282, 905), (1282, 1283), (1282, 1483), (1282, 1735), (1282, 1776), (1282, 2324), (1283, 1282), (1283, 1776), (1283, 2324), (1284, 757), (1284, 902), (1284, 998), (1284, 1103), (1284, 1358), (1284, 1604), (1284, 2450), (1285, 711), (1285, 2182), (1286, 538), (1287, 59), (1287, 481), (1287, 1164), (1287, 1358), (1288, 88), (1288, 1309), (1289, 1622), (1289, 1705), (1290, 212), (1290, 1213), (1290, 2258), (1291, 1224), (1291, 1660), (1291, 2154), (1292, 689), (1292, 1317), (1292, 1358), (1293, 65), (1293, 1013), (1293, 2418), (1294, 352), (1294, 733), (1295, 1171), (1295, 1987), (1296, 35), (1296, 440), (1296, 728), (1296, 895), (1296, 1910), (1296, 1911), (1296, 1912), (1296, 1913), (1297, 316), (1297, 598), (1297, 766), (1298, 2703), (1299, 598), (1299, 1701), (1299, 1810), (1300, 251), (1300, 507), (1300, 812), (1300, 877), (1300, 1542), (1300, 1933), (1300, 1940), (1300, 1941), (1300, 2508), (1301, 25), (1301, 598), (1301, 1315), (1301, 1316), (1301, 1542), (1301, 2140), (1302, 1006), (1303, 95), (1303, 746), (1303, 979), (1303, 1026), (1303, 2163), (1304, 505), (1304, 937), (1304, 1180), (1305, 466), (1305, 1358), (1306, 364), (1306, 1317), (1307, 802), (1307, 804), (1307, 922), (1307, 1444), (1307, 2536), (1308, 1229), (1308, 1254), (1308, 1627), (1309, 61), (1309, 88), (1309, 415), (1309, 490), (1309, 851), (1309, 995), (1309, 1288), (1309, 1338), (1309, 1625), (1309, 1677), (1309, 1741), (1309, 1882), (1309, 2015), (1309, 2102), (1309, 2103), (1309, 2178), (1310, 2692), (1311, 468), (1311, 1312), (1311, 1313), (1311, 2080), (1312, 904), (1312, 1311), (1312, 1313), (1313, 468), (1313, 573), (1313, 1311), (1313, 1312), (1313, 2407), (1314, 514), (1314, 890), (1314, 1269), (1315, 17), (1315, 1301), (1316, 17), (1316, 927), (1316, 1301), (1316, 1679), (1317, 689), (1317, 796), (1317, 1040), (1317, 1148), (1317, 1292), (1317, 1306), (1317, 1719), (1317, 1720), (1317, 1739), (1317, 2220), (1317, 2221), (1318, 12), (1318, 2661), (1318, 2662), (1319, 186), (1319, 2034), (1320, 1050), (1320, 1349), (1320, 1491), (1320, 2684), (1321, 2501), (1322, 63), (1322, 2265), (1323, 1701), (1324, 2035), (1324, 2265), (1325, 298), (1325, 327), (1325, 1000), (1325, 1095), (1325, 2063), (1325, 2247), (1326, 928), (1326, 2063), (1327, 495), (1327, 1328), (1327, 2161), (1328, 495), (1328, 1327), (1328, 2160), (1329, 78), (1329, 733), (1329, 994), (1330, 1204), (1330, 1837), (1330, 2068), (1331, 310), (1331, 1576), (1331, 1810), (1332, 436), (1332, 621), (1332, 2024), (1333, 749), (1333, 1973), (1333, 2195), (1333, 2312), (1334, 1542), (1334, 1577), (1334, 1701), (1334, 1941), (1334, 1950), (1335, 1856), (1335, 2087), (1335, 2090), (1336, 86), (1336, 695), (1336, 1012), (1336, 1452), (1336, 1797), (1336, 2032), (1336, 2033), (1336, 2034), (1337, 109), (1337, 563), (1337, 1701), (1337, 2045), (1338, 1309), (1338, 1912), (1338, 2385), (1339, 154), (1339, 1358), (1339, 1753), (1340, 872), (1340, 1413), (1340, 1542), (1340, 1943), (1341, 868), (1341, 1224), (1341, 2425), (1342, 1050), (1342, 1230), (1343, 118), (1343, 255), (1343, 836), (1343, 1507), (1343, 1645), (1343, 2165), (1343, 2316), (1344, 25), (1344, 724), (1344, 815), (1344, 1928), (1344, 2315), (1345, 202), (1345, 353), (1346, 109), (1346, 306), (1346, 519), (1346, 1670), (1347, 281), (1347, 1997), (1348, 218), (1348, 1810), (1348, 2163), (1348, 2605), (1349, 39), (1349, 1320), (1349, 1634), (1349, 2684), (1350, 1443), (1351, 69), (1351, 262), (1351, 604), (1351, 907), (1351, 1362), (1351, 1535), (1351, 1592), (1351, 1972), (1351, 2134), (1351, 2282), (1352, 506), (1353, 97), (1353, 661), (1354, 371), (1354, 400), (1354, 1183), (1354, 2270), (1355, 1171), (1355, 1957), (1356, 1613), (1357, 2025), (1357, 2170), (1358, 30), (1358, 34), (1358, 53), (1358, 59), (1358, 68), (1358, 72), (1358, 73), (1358, 90), (1358, 101), (1358, 111), (1358, 154), (1358, 155), (1358, 156), (1358, 170), (1358, 173), (1358, 174), (1358, 228), (1358, 244), (1358, 246), (1358, 289), (1358, 326), (1358, 333), (1358, 337), (1358, 341), (1358, 346), (1358, 357), (1358, 364), (1358, 466), (1358, 489), (1358, 501), (1358, 524), (1358, 552), (1358, 580), (1358, 609), (1358, 613), (1358, 616), (1358, 626), (1358, 645), (1358, 684), (1358, 686), (1358, 687), (1358, 689), (1358, 708), (1358, 744), (1358, 748), (1358, 754), (1358, 757), (1358, 758), (1358, 764), (1358, 796), (1358, 797), (1358, 819), (1358, 823), (1358, 831), (1358, 853), (1358, 873), (1358, 876), (1358, 882), (1358, 902), (1358, 919), (1358, 929), (1358, 951), (1358, 957), (1358, 970), (1358, 978), (1358, 985), (1358, 999), (1358, 1038), (1358, 1040), (1358, 1041), (1358, 1070), (1358, 1072), (1358, 1103), (1358, 1123), (1358, 1145), (1358, 1149), (1358, 1154), (1358, 1169), (1358, 1189), (1358, 1205), (1358, 1209), (1358, 1229), (1358, 1238), (1358, 1243), (1358, 1281), (1358, 1284), (1358, 1287), (1358, 1292), (1358, 1305), (1358, 1339), (1358, 1384), (1358, 1389), (1358, 1444), (1358, 1471), (1358, 1480), (1358, 1483), (1358, 1492), (1358, 1499), (1358, 1516), (1358, 1546), (1358, 1550), (1358, 1562), (1358, 1565), (1358, 1568), (1358, 1599), (1358, 1604), (1358, 1620), (1358, 1646), (1358, 1708), (1358, 1709), (1358, 1710), (1358, 1711), (1358, 1712), (1358, 1713), (1358, 1714), (1358, 1715), (1358, 1716), (1358, 1717), (1358, 1718), (1358, 1719), (1358, 1720), (1358, 1721), (1358, 1722), (1358, 1723), (1358, 1724), (1358, 1725), (1358, 1726), (1358, 1727), (1358, 1728), (1358, 1729), (1358, 1730), (1358, 1731), (1358, 1732), (1358, 1733), (1358, 1734), (1358, 1735), (1358, 1736), (1358, 1737), (1358, 1738), (1358, 1739), (1358, 1740), (1358, 1741), (1358, 1742), (1358, 1743), (1358, 1744), (1358, 1745), (1358, 1746), (1358, 1747), (1358, 1748), (1358, 1749), (1358, 1750), (1358, 1751), (1358, 1752), (1358, 1753), (1358, 1754), (1358, 1755), (1358, 1756), (1358, 1757), (1358, 1758), (1358, 1759), (1358, 1760), (1358, 1761), (1358, 1762), (1358, 1763), (1358, 1764), (1358, 1765), (1358, 1766), (1358, 2597), (1359, 181), (1359, 1464), (1359, 1914), (1359, 2278), (1359, 2480), (1360, 541), (1360, 647), (1360, 904), (1360, 1650), (1360, 1902), (1360, 1904), (1360, 1960), (1360, 2491), (1361, 565), (1361, 1528), (1362, 1351), (1362, 1372), (1362, 1914), (1363, 507), (1363, 1413), (1364, 40), (1365, 1702), (1365, 1703), (1365, 2509), (1365, 2519), (1366, 368), (1366, 1194), (1366, 2248), (1367, 124), (1367, 306), (1367, 484), (1367, 980), (1367, 1196), (1367, 1584), (1367, 1656), (1367, 1778), (1367, 2080), (1367, 2143), (1368, 702), (1368, 1911), (1368, 2553), (1369, 1094), (1369, 1530), (1369, 1653), (1370, 778), (1370, 779), (1370, 1224), (1370, 1525), (1370, 1919), (1370, 1975), (1370, 2274), (1370, 2485), (1371, 1393), (1372, 42), (1372, 1362), (1373, 518), (1373, 848), (1373, 1003), (1374, 748), (1375, 2586), (1376, 239), (1376, 1848), (1376, 2232), (1377, 1840), (1377, 2068), (1377, 2069), (1377, 2070), (1377, 2388), (1378, 1544), (1378, 2058), (1378, 2150), (1379, 1380), (1379, 2564), (1380, 1050), (1380, 1379), (1380, 2564), (1381, 798), (1381, 1794), (1382, 218), (1382, 281), (1382, 1502), (1382, 2176), (1382, 2283), (1383, 403), (1383, 806), (1384, 1229), (1384, 1358), (1385, 714), (1385, 1015), (1385, 2335), (1386, 727), (1386, 2570), (1386, 2571), (1387, 1190), (1388, 257), (1388, 734), (1388, 736), (1388, 964), (1388, 2181), (1388, 2197), (1389, 341), (1389, 1358), (1389, 2597), (1390, 856), (1390, 2681), (1391, 1693), (1392, 51), (1392, 710), (1392, 2212), (1393, 1371), (1394, 88), (1394, 211), (1394, 2137), (1395, 679), (1395, 948), (1395, 2072), (1395, 2189), (1395, 2266), (1395, 2267), (1396, 1399), (1396, 1421), (1396, 2109), (1396, 2228), (1396, 2394), (1396, 2395), (1397, 861), (1398, 565), (1398, 1528), (1399, 1396), (1399, 1501), (1399, 2227), (1399, 2309), (1399, 2394), (1400, 886), (1400, 2698), (1401, 89), (1401, 258), (1401, 761), (1401, 1153), (1401, 1585), (1402, 1163), (1402, 1482), (1402, 1616), (1402, 1919), (1402, 1972), (1403, 465), (1403, 1013), (1403, 2317), (1404, 2375), (1405, 229), (1405, 1053), (1405, 1508), (1405, 1894), (1406, 922), (1406, 2387), (1407, 1263), (1408, 370), (1408, 1553), (1408, 1826), (1408, 1828), (1408, 1829), (1409, 360), (1409, 1553), (1409, 1826), (1409, 1827), (1409, 1828), (1410, 897), (1410, 1121), (1410, 1203), (1410, 1655), (1411, 2218), (1412, 704), (1412, 1483), (1412, 1735), (1412, 1743), (1412, 2450), (1413, 219), (1413, 251), (1413, 253), (1413, 338), (1413, 402), (1413, 507), (1413, 776), (1413, 812), (1413, 872), (1413, 877), (1413, 1340), (1413, 1363), (1413, 1542), (1413, 1931), (1413, 1932), (1413, 1933), (1413, 1934), (1413, 1935), (1413, 1936), (1414, 370), (1414, 371), (1414, 1415), (1414, 2270), (1415, 370), (1415, 371), (1415, 392), (1415, 1414), (1415, 2269), (1416, 6), (1416, 30), (1416, 61), (1416, 74), (1416, 149), (1416, 305), (1416, 572), (1416, 718), (1416, 1008), (1416, 1118), (1416, 1468), (1416, 1602), (1416, 1921), (1416, 1922), (1416, 1923), (1416, 1924), (1416, 1925), (1416, 1926), (1417, 529), (1417, 963), (1417, 1452), (1417, 1529), (1417, 1703), (1417, 2260), (1417, 2350), (1418, 78), (1419, 529), (1419, 2259), (1419, 2260), (1420, 1421), (1420, 2394), (1420, 2396), (1421, 1085), (1421, 1396), (1421, 1420), (1421, 1975), (1421, 2109), (1421, 2110), (1421, 2394), (1422, 837), (1423, 591), (1423, 1692), (1424, 1621), (1424, 1813), (1425, 1015), (1425, 1618), (1426, 480), (1426, 760), (1426, 1751), (1427, 860), (1427, 1725), (1427, 1742), (1427, 2446), (1428, 1202), (1428, 1429), (1428, 1534), (1428, 2336), (1428, 2376), (1428, 2520), (1428, 2524), (1429, 1428), (1429, 1534), (1429, 2520), (1430, 632), (1430, 1718), (1431, 976), (1431, 998), (1432, 1049), (1432, 1054), (1432, 1950), (1432, 2663), (1433, 931), (1433, 1035), (1433, 2359), (1434, 445), (1434, 1986), (1435, 1927), (1435, 2059), (1435, 2071), (1436, 2259), (1437, 1688), (1438, 2664), (1439, 200), (1439, 2676), (1440, 869), (1440, 1701), (1441, 50), (1441, 241), (1441, 265), (1441, 371), (1441, 454), (1441, 540), (1441, 590), (1441, 648), (1441, 720), (1441, 750), (1441, 1060), (1441, 1128), (1441, 1619), (1441, 1700), (1441, 1707), (1441, 1954), (1441, 1957), (1441, 1958), (1441, 2271), (1441, 2272), (1441, 2273), (1441, 2274), (1441, 2275), (1442, 432), (1442, 2462), (1443, 761), (1443, 963), (1443, 1094), (1443, 1240), (1443, 1350), (1443, 2240), (1443, 2399), (1443, 2645), (1444, 154), (1444, 1307), (1444, 1358), (1444, 2323), (1445, 681), (1445, 1446), (1446, 681), (1446, 1445), (1447, 1928), (1448, 102), (1448, 505), (1448, 1251), (1448, 2034), (1448, 2045), (1449, 2681), (1450, 321), (1450, 1083), (1450, 1225), (1451, 194), (1451, 2564), (1452, 1015), (1452, 1336), (1452, 1417), (1453, 1701), (1453, 1986), (1454, 2), (1455, 441), (1455, 1537), (1456, 1457), (1457, 649), (1457, 1019), (1457, 1456), (1458, 982), (1459, 2080), (1459, 2218), (1460, 1185), (1460, 2349), (1460, 2358), (1461, 1634), (1461, 2248), (1462, 1119), (1462, 1235), (1462, 1611), (1462, 1663), (1463, 276), (1463, 490), (1463, 555), (1463, 1695), (1463, 2131), (1463, 2132), (1463, 2133), (1464, 181), (1464, 262), (1464, 712), (1464, 850), (1464, 1013), (1464, 1359), (1464, 1482), (1464, 1683), (1464, 1914), (1465, 1488), (1465, 1799), (1466, 1041), (1467, 52), (1467, 2172), (1468, 146), (1468, 1275), (1468, 1416), (1469, 756), (1469, 1498), (1469, 1692), (1469, 2346), (1469, 2349), (1469, 2358), (1469, 2590), (1470, 801), (1470, 1070), (1470, 1555), (1470, 1824), (1470, 1953), (1470, 2553), (1471, 1358), (1471, 1646), (1472, 240), (1472, 512), (1472, 756), (1472, 1692), (1472, 2187), (1473, 165), (1473, 598), (1473, 2706), (1473, 2707), (1474, 593), (1474, 1908), (1474, 2261), (1474, 2335), (1475, 614), (1475, 888), (1475, 1017), (1475, 2469), (1475, 2470), (1476, 404), (1476, 1170), (1477, 1098), (1477, 1542), (1477, 2066), (1477, 2067), (1478, 694), (1478, 1072), (1478, 1902), (1479, 261), (1479, 873), (1479, 1701), (1479, 1894), (1480, 1103), (1480, 1358), (1481, 1015), (1481, 1042), (1481, 1669), (1481, 2332), (1481, 2335), (1482, 955), (1482, 1402), (1482, 1464), (1482, 1973), (1482, 2132), (1483, 306), (1483, 359), (1483, 389), (1483, 562), (1483, 704), (1483, 742), (1483, 754), (1483, 905), (1483, 969), (1483, 1072), (1483, 1077), (1483, 1249), (1483, 1282), (1483, 1358), (1483, 1412), (1483, 1620), (1483, 1726), (1483, 1735), (1483, 1743), (1483, 2083), (1483, 2113), (1483, 2208), (1484, 299), (1484, 2383), (1484, 2498), (1484, 2520), (1485, 1914), (1486, 650), (1486, 1035), (1486, 1745), (1487, 1501), (1487, 1849), (1487, 2017), (1487, 2137), (1488, 411), (1488, 792), (1488, 1465), (1488, 2601), (1489, 1004), (1490, 306), (1490, 2085), (1490, 2327), (1491, 1320), (1492, 1358), (1492, 1765), (1493, 429), (1494, 88), (1494, 436), (1494, 897), (1495, 93), (1495, 437), (1495, 645), (1496, 974), (1497, 549), (1497, 2034), (1498, 1469), (1498, 2025), (1498, 2349), (1498, 2590), (1499, 337), (1499, 1214), (1499, 1358), (1499, 1776), (1500, 1131), (1500, 1133), (1500, 1538), (1500, 2185), (1501, 116), (1501, 1074), (1501, 1399), (1501, 1487), (1501, 1676), (1501, 2228), (1501, 2395), (1502, 1200), (1502, 1382), (1502, 1503), (1502, 2163), (1503, 979), (1503, 1502), (1503, 2241), (1503, 2243), (1504, 1647), (1504, 2209), (1505, 36), (1505, 330), (1505, 530), (1505, 773), (1505, 1072), (1505, 1146), (1505, 1552), (1505, 1624), (1505, 1699), (1505, 1788), (1505, 1801), (1505, 2086), (1505, 2107), (1506, 1146), (1506, 1229), (1507, 118), (1507, 446), (1507, 989), (1507, 1343), (1507, 1645), (1507, 2436), (1508, 1405), (1508, 1894), (1508, 2117), (1509, 189), (1509, 1262), (1510, 1046), (1510, 1162), (1510, 1202), (1510, 2387), (1511, 1519), (1512, 342), (1512, 945), (1512, 2023), (1512, 2145), (1513, 567), (1513, 760), (1513, 1830), (1514, 1692), (1515, 2182), (1515, 2234), (1516, 1358), (1516, 2612), (1517, 74), (1517, 1042), (1518, 577), (1518, 1063), (1518, 1129), (1519, 147), (1519, 1015), (1519, 1511), (1519, 1534), (1519, 2108), (1519, 2335), (1519, 2640), (1520, 83), (1520, 1103), (1520, 1750), (1520, 1765), (1521, 98), (1521, 1013), (1522, 39), (1522, 1697), (1522, 2680), (1523, 548), (1523, 2449), (1524, 434), (1524, 1693), (1524, 2499), (1525, 1224), (1525, 1370), (1525, 1914), (1525, 1973), (1526, 868), (1526, 1224), (1526, 1879), (1526, 1977), (1526, 1981), (1526, 2099), (1526, 2425), (1527, 60), (1527, 88), (1527, 331), (1527, 415), (1527, 860), (1527, 1668), (1527, 2274), (1527, 2450), (1528, 427), (1528, 513), (1528, 565), (1528, 1361), (1528, 1398), (1529, 1115), (1529, 1178), (1529, 1266), (1529, 1417), (1529, 1908), (1529, 1984), (1529, 2350), (1530, 43), (1530, 89), (1530, 1369), (1530, 2240), (1530, 2464), (1531, 248), (1531, 443), (1531, 1264), (1531, 1889), (1532, 39), (1532, 2648), (1533, 492), (1533, 726), (1533, 1109), (1533, 2671), (1534, 911), (1534, 1082), (1534, 1428), (1534, 1429), (1534, 1519), (1535, 95), (1535, 280), (1535, 1351), (1535, 1916), (1535, 2155), (1535, 2293), (1536, 186), (1536, 1228), (1536, 2580), (1536, 2702), (1537, 119), (1537, 441), (1537, 1455), (1538, 118), (1538, 643), (1538, 747), (1538, 1131), (1538, 1133), (1538, 1500), (1538, 1842), (1538, 2185), (1539, 1914), (1540, 525), (1540, 1628), (1540, 2054), (1541, 1005), (1542, 216), (1542, 219), (1542, 251), (1542, 297), (1542, 338), (1542, 402), (1542, 776), (1542, 812), (1542, 872), (1542, 877), (1542, 918), (1542, 990), (1542, 1176), (1542, 1177), (1542, 1300), (1542, 1301), (1542, 1334), (1542, 1340), (1542, 1413), (1542, 1477), (1542, 1577), (1542, 1607), (1542, 1931), (1542, 1935), (1542, 1936), (1542, 1939), (1542, 1940), (1542, 1941), (1542, 1942), (1542, 1943), (1543, 735), (1543, 739), (1543, 1881), (1543, 2029), (1544, 1378), (1545, 368), (1545, 2248), (1546, 341), (1546, 687), (1546, 1358), (1546, 1804), (1546, 2169), (1547, 2169), (1548, 171), (1548, 790), (1549, 119), (1549, 1901), (1549, 2286), (1550, 748), (1550, 1358), (1550, 2083), (1551, 126), (1551, 306), (1552, 36), (1552, 1089), (1552, 1505), (1552, 1778), (1552, 2591), (1553, 371), (1553, 1408), (1553, 1409), (1553, 1827), (1554, 1657), (1554, 2686), (1554, 2687), (1554, 2688), (1555, 458), (1555, 1470), (1555, 1953), (1555, 2363), (1556, 888), (1557, 650), (1557, 957), (1557, 2083), (1557, 2168), (1558, 792), (1558, 879), (1558, 1014), (1558, 1191), (1558, 1986), (1558, 2338), (1558, 2339), (1558, 2340), (1559, 283), (1559, 1260), (1560, 18), (1560, 505), (1560, 1623), (1561, 102), (1561, 1623), (1562, 1358), (1562, 1765), (1563, 2633), (1564, 1772), (1564, 1786), (1565, 1358), (1565, 2365), (1566, 768), (1566, 1199), (1566, 1732), (1566, 1895), (1566, 2071), (1567, 722), (1567, 1654), (1567, 1874), (1567, 2500), (1568, 154), (1568, 748), (1568, 1358), (1568, 1729), (1569, 450), (1569, 1050), (1569, 1966), (1570, 571), (1570, 696), (1570, 743), (1571, 1045), (1572, 236), (1572, 306), (1572, 836), (1572, 1776), (1573, 598), (1573, 2698), (1574, 519), (1574, 1066), (1574, 1986), (1575, 473), (1576, 1331), (1576, 1810), (1577, 411), (1577, 1054), (1577, 1055), (1577, 1099), (1577, 1221), (1577, 1334), (1577, 1542), (1578, 2497), (1579, 47), (1579, 559), (1579, 1182), (1579, 1183), (1579, 2029), (1580, 95), (1580, 456), (1580, 544), (1580, 1892), (1580, 2199), (1580, 2200), (1581, 310), (1581, 1810), (1581, 1819), (1582, 44), (1583, 366), (1583, 376), (1583, 553), (1583, 973), (1583, 1013), (1583, 1120), (1583, 1127), (1583, 1224), (1583, 1995), (1583, 2025), (1584, 306), (1584, 1367), (1584, 1798), (1585, 89), (1585, 1401), (1585, 1653), (1586, 173), (1586, 687), (1586, 2168), (1587, 1224), (1587, 2154), (1588, 1047), (1588, 2055), (1588, 2333), (1589, 101), (1589, 1745), (1589, 2596), (1590, 794), (1590, 863), (1591, 2541), (1592, 779), (1592, 1351), (1592, 1914), (1592, 2071), (1592, 2485), (1593, 144), (1593, 145), (1593, 213), (1593, 537), (1593, 1165), (1594, 31), (1595, 2246), (1596, 2476), (1597, 320), (1597, 432), (1598, 640), (1598, 1090), (1598, 1093), (1598, 1147), (1598, 2367), (1599, 110), (1599, 1199), (1599, 1358), (1599, 2441), (1599, 2460), (1599, 2614), (1600, 1059), (1601, 1750), (1602, 6), (1602, 95), (1602, 100), (1602, 315), (1602, 1204), (1602, 1416), (1602, 2054), (1602, 2072), (1602, 2073), (1602, 2074), (1603, 968), (1604, 46), (1604, 902), (1604, 1284), (1604, 1358), (1605, 1054), (1605, 1950), (1605, 2663), (1606, 364), (1606, 764), (1606, 819), (1607, 1099), (1607, 1221), (1607, 1542), (1608, 546), (1608, 2124), (1608, 2126), (1608, 2489), (1609, 1790), (1609, 1791), (1609, 1912), (1610, 244), (1610, 312), (1610, 565), (1610, 687), (1610, 2556), (1610, 2557), (1610, 2558), (1611, 1462), (1611, 2124), (1612, 764), (1613, 1356), (1614, 210), (1614, 1671), (1614, 2034), (1615, 1665), (1616, 56), (1616, 118), (1616, 412), (1616, 447), (1616, 539), (1616, 581), (1616, 1402), (1616, 1849), (1616, 2050), (1617, 748), (1618, 429), (1618, 1015), (1618, 1143), (1618, 1425), (1618, 1789), (1619, 392), (1619, 1441), (1619, 2269), (1620, 359), (1620, 742), (1620, 905), (1620, 1358), (1620, 1483), (1620, 2450), (1621, 1192), (1621, 1424), (1622, 124), (1622, 1270), (1622, 1289), (1622, 2425), (1623, 102), (1623, 112), (1623, 126), (1623, 133), (1623, 139), (1623, 153), (1623, 314), (1623, 350), (1623, 384), (1623, 452), (1623, 459), (1623, 542), (1623, 556), (1623, 581), (1623, 608), (1623, 660), (1623, 719), (1623, 887), (1623, 910), (1623, 980), (1623, 1144), (1623, 1251), (1623, 1560), (1623, 1561), (1623, 1767), (1623, 1768), (1623, 1769), (1623, 1770), (1623, 1771), (1623, 1772), (1623, 1773), (1623, 1774), (1623, 1775), (1623, 1776), (1623, 1777), (1623, 1778), (1623, 1779), (1623, 1780), (1623, 1781), (1623, 1782), (1623, 1783), (1623, 1784), (1624, 109), (1624, 317), (1624, 384), (1624, 409), (1624, 589), (1624, 887), (1624, 1196), (1624, 1505), (1624, 1705), (1624, 1777), (1624, 1778), (1624, 1779), (1624, 1780), (1624, 1785), (1624, 1786), (1624, 1787), (1624, 1788), (1625, 1013), (1625, 1309), (1625, 1729), (1626, 210), (1627, 59), (1627, 1229), (1627, 1308), (1627, 1740), (1628, 65), (1628, 95), (1628, 142), (1628, 525), (1628, 597), (1628, 1042), (1628, 1117), (1628, 1139), (1628, 1540), (1628, 1635), (1628, 2021), (1628, 2053), (1628, 2054), (1628, 2055), (1628, 2056), (1628, 2057), (1628, 2172), (1629, 5), (1629, 1659), (1629, 1711), (1630, 737), (1630, 1269), (1630, 2227), (1631, 736), (1631, 2196), (1632, 16), (1632, 364), (1632, 1756), (1633, 1096), (1634, 39), (1634, 82), (1634, 1050), (1634, 1349), (1634, 1461), (1634, 2393), (1635, 763), (1635, 1158), (1635, 1628), (1635, 2383), (1636, 24), (1636, 598), (1636, 1701), (1636, 2139), (1636, 2141), (1637, 702), (1637, 1973), (1638, 831), (1639, 177), (1639, 1688), (1639, 2679), (1640, 36), (1640, 306), (1640, 350), (1641, 637), (1641, 833), (1641, 2495), (1642, 439), (1642, 2657), (1642, 2658), (1643, 348), (1644, 415), (1644, 1013), (1645, 795), (1645, 989), (1645, 1343), (1645, 1507), (1646, 1358), (1646, 1471), (1647, 108), (1647, 1504), (1647, 2160), (1647, 2209), (1648, 1210), (1649, 94), (1650, 107), (1650, 971), (1650, 1113), (1650, 1360), (1651, 306), (1651, 1248), (1651, 2045), (1652, 498), (1652, 604), (1652, 725), (1652, 1848), (1652, 1972), (1653, 43), (1653, 89), (1653, 1094), (1653, 1369), (1653, 1585), (1654, 835), (1654, 1567), (1654, 1952), (1654, 2034), (1655, 11), (1655, 149), (1655, 1121), (1655, 1131), (1655, 1410), (1655, 1839), (1655, 1842), (1655, 1894), (1655, 2136), (1655, 2282), (1655, 2295), (1655, 2384), (1656, 306), (1656, 1367), (1656, 1798), (1657, 1554), (1657, 2686), (1657, 2688), (1658, 88), (1658, 2018), (1659, 5), (1659, 1629), (1660, 1224), (1660, 1291), (1660, 2154), (1661, 109), (1661, 454), (1661, 1013), (1661, 1851), (1662, 48), (1662, 1666), (1662, 2381), (1662, 2398), (1663, 1119), (1663, 1462), (1663, 2577), (1664, 455), (1664, 607), (1664, 785), (1664, 2147), (1665, 962), (1665, 1615), (1665, 1701), (1665, 2034), (1666, 2), (1666, 48), (1666, 49), (1666, 606), (1666, 1662), (1666, 2381), (1667, 162), (1667, 438), (1667, 651), (1668, 355), (1668, 1527), (1669, 429), (1669, 1481), (1669, 1892), (1669, 2332), (1670, 133), (1670, 303), (1670, 308), (1670, 519), (1670, 1346), (1671, 210), (1671, 1614), (1671, 1929), (1671, 1968), (1671, 2136), (1671, 2137), (1672, 186), (1673, 2660), (1674, 891), (1674, 1914), (1674, 2608), (1675, 1013), (1675, 1074), (1675, 1676), (1675, 1914), (1676, 1074), (1676, 1501), (1676, 1675), (1676, 1914), (1676, 1975), (1677, 88), (1677, 191), (1677, 415), (1677, 1309), (1677, 1908), (1678, 833), (1678, 1746), (1679, 1247), (1679, 1316), (1679, 2140), (1680, 2056), (1680, 2576), (1681, 407), (1681, 409), (1681, 459), (1681, 695), (1681, 948), (1681, 1012), (1681, 2318), (1681, 2319), (1681, 2320), (1682, 407), (1682, 695), (1682, 733), (1682, 948), (1682, 1012), (1682, 2189), (1682, 2291), (1682, 2319), (1682, 2320), (1682, 2321), (1683, 181), (1683, 1464), (1683, 1973), (1683, 2132), (1684, 2486), (1684, 2513), (1685, 650), (1685, 957), (1685, 2083), (1686, 2647), (1687, 28), (1687, 246), (1687, 1003), (1687, 1721), (1688, 1437), (1688, 1639), (1688, 2671), (1689, 155), (1689, 156), (1690, 118), (1690, 2112), (1691, 700), (1692, 172), (1692, 240), (1692, 291), (1692, 503), (1692, 512), (1692, 574), (1692, 756), (1692, 1423), (1692, 1469), (1692, 1472), (1692, 1514), (1692, 2186), (1692, 2187), (1692, 2302), (1692, 2345), (1692, 2346), (1692, 2347), (1692, 2348), (1692, 2349), (1693, 434), (1693, 965), (1693, 1391), (1693, 1524), (1693, 2408), (1694, 333), (1695, 276), (1695, 1463), (1695, 2133), (1696, 1713), (1697, 1119), (1697, 1522), (1697, 1986), (1697, 2253), (1698, 537), (1698, 2160), (1699, 484), (1699, 1065), (1699, 1505), (1700, 1441), (1701, 13), (1701, 24), (1701, 143), (1701, 157), (1701, 158), (1701, 201), (1701, 205), (1701, 215), (1701, 216), (1701, 226), (1701, 231), (1701, 232), (1701, 235), (1701, 261), (1701, 318), (1701, 335), (1701, 343), (1701, 416), (1701, 467), (1701, 532), (1701, 547), (1701, 563), (1701, 633), (1701, 664), (1701, 699), (1701, 729), (1701, 767), (1701, 784), (1701, 869), (1701, 874), (1701, 1023), (1701, 1052), (1701, 1075), (1701, 1100), (1701, 1212), (1701, 1241), (1701, 1299), (1701, 1323), (1701, 1334), (1701, 1337), (1701, 1440), (1701, 1453), (1701, 1479), (1701, 1636), (1701, 1665), (1701, 1799), (1701, 1820), (1701, 1846), (1701, 1852), (1701, 1853), (1701, 1854), (1701, 1855), (1701, 1856), (1701, 1857), (1701, 1858), (1701, 1859), (1701, 1860), (1701, 1861), (1701, 1862), (1701, 1863), (1701, 1864), (1701, 1865), (1701, 1866), (1701, 1867), (1701, 1868), (1701, 1869), (1701, 1870), (1701, 1871), (1701, 1872), (1701, 1873), (1701, 1874), (1701, 1875), (1701, 1876), (1701, 1877), (1702, 22), (1702, 463), (1702, 1234), (1702, 1240), (1702, 1365), (1702, 1703), (1702, 1966), (1702, 1970), (1702, 1971), (1702, 2238), (1703, 22), (1703, 463), (1703, 759), (1703, 789), (1703, 963), (1703, 1234), (1703, 1365), (1703, 1417), (1703, 1702), (1703, 1906), (1703, 1966), (1703, 1967), (1703, 1968), (1703, 1969), (1703, 1970), (1703, 1971), (1703, 2238), (1704, 383), (1704, 1912), (1704, 1986), (1704, 2077), (1705, 306), (1705, 487), (1705, 1193), (1705, 1289), (1705, 1624), (1705, 2081), (1705, 2322), (1706, 558), (1706, 2585), (1707, 1441), (1708, 467), (1708, 873), (1708, 1358), (1708, 1857), (1708, 2313), (1708, 2314), (1709, 1358), (1709, 1738), (1709, 1739), (1709, 1986), (1709, 2365), (1710, 372), (1710, 480), (1710, 687), (1710, 1358), (1710, 2444), (1711, 1358), (1711, 1629), (1711, 1730), (1711, 1731), (1711, 1765), (1712, 1358), (1712, 1725), (1712, 2446), (1713, 88), (1713, 1358), (1713, 1696), (1713, 1898), (1714, 1154), (1714, 1169), (1714, 1358), (1714, 1727), (1715, 58), (1715, 1154), (1715, 1358), (1716, 1199), (1716, 1214), (1716, 1358), (1716, 2446), (1717, 1114), (1717, 1358), (1717, 1731), (1717, 2560), (1718, 1103), (1718, 1358), (1718, 1430), (1718, 2685), (1719, 1169), (1719, 1317), (1719, 1358), (1719, 1765), (1720, 1169), (1720, 1317), (1720, 1358), (1720, 1765), (1721, 105), (1721, 228), (1721, 687), (1721, 689), (1721, 1358), (1721, 1687), (1721, 1761), (1721, 2476), (1722, 289), (1722, 312), (1722, 1358), (1723, 73), (1723, 565), (1723, 768), (1723, 1358), (1723, 1724), (1724, 768), (1724, 1358), (1724, 1723), (1724, 2215), (1724, 2216), (1725, 59), (1725, 557), (1725, 628), (1725, 687), (1725, 1070), (1725, 1072), (1725, 1358), (1725, 1427), (1725, 1712), (1725, 1734), (1725, 1740), (1725, 1745), (1725, 2334), (1725, 2413), (1725, 2596), (1725, 2597), (1726, 1358), (1726, 1483), (1726, 2168), (1727, 188), (1727, 1358), (1727, 1714), (1728, 961), (1728, 1358), (1728, 2257), (1728, 2555), (1728, 2599), (1729, 657), (1729, 1013), (1729, 1358), (1729, 1568), (1729, 1625), (1730, 1358), (1730, 1711), (1731, 1169), (1731, 1358), (1731, 1711), (1731, 1717), (1731, 1755), (1732, 88), (1732, 748), (1732, 1224), (1732, 1358), (1732, 1566), (1733, 831), (1733, 1072), (1733, 1358), (1734, 1169), (1734, 1358), (1734, 1725), (1734, 2597), (1735, 562), (1735, 969), (1735, 1282), (1735, 1358), (1735, 1412), (1735, 1483), (1735, 1776), (1735, 2324), (1736, 155), (1736, 817), (1736, 1358), (1736, 1763), (1737, 64), (1737, 1169), (1737, 1209), (1737, 1358), (1737, 1888), (1737, 2616), (1738, 466), (1738, 1358), (1738, 1709), (1738, 2365), (1738, 2366), (1739, 53), (1739, 616), (1739, 1317), (1739, 1358), (1739, 1709), (1739, 1750), (1739, 1766), (1739, 1886), (1739, 2221), (1740, 268), (1740, 312), (1740, 657), (1740, 915), (1740, 1035), (1740, 1072), (1740, 1358), (1740, 1627), (1740, 1725), (1740, 1804), (1740, 2389), (1740, 2390), (1740, 2391), (1740, 2392), (1741, 88), (1741, 1309), (1741, 1358), (1741, 2593), (1742, 174), (1742, 403), (1742, 526), (1742, 533), (1742, 580), (1742, 1007), (1742, 1154), (1742, 1358), (1742, 1427), (1742, 1749), (1742, 1758), (1742, 2307), (1742, 2443), (1742, 2444), (1742, 2445), (1743, 389), (1743, 704), (1743, 742), (1743, 969), (1743, 1358), (1743, 1412), (1743, 1483), (1743, 2113), (1743, 2450), (1744, 1358), (1744, 1765), (1745, 73), (1745, 1214), (1745, 1358), (1745, 1486), (1745, 1589), (1745, 1725), (1745, 2596), (1746, 1281), (1746, 1358), (1746, 1678), (1747, 1148), (1747, 1358), (1748, 1103), (1748, 1281), (1748, 1358), (1749, 1229), (1749, 1358), (1749, 1742), (1749, 2446), (1750, 1358), (1750, 1520), (1750, 1601), (1750, 1739), (1750, 1765), (1750, 1766), (1751, 73), (1751, 1358), (1751, 1426), (1751, 2596), (1752, 154), (1752, 1358), (1752, 1754), (1753, 154), (1753, 1339), (1753, 1358), (1754, 154), (1754, 326), (1754, 1358), (1754, 1752), (1755, 1358), (1755, 1731), (1755, 1765), (1756, 364), (1756, 650), (1756, 732), (1756, 1358), (1756, 1632), (1756, 2642), (1757, 957), (1757, 1358), (1757, 2451), (1758, 464), (1758, 580), (1758, 860), (1758, 1358), (1758, 1742), (1758, 2466), (1759, 239), (1759, 493), (1759, 569), (1759, 1358), (1760, 1103), (1760, 1358), (1761, 4), (1761, 223), (1761, 1205), (1761, 1256), (1761, 1358), (1761, 1721), (1761, 2175), (1762, 111), (1762, 758), (1762, 853), (1762, 1358), (1763, 155), (1763, 156), (1763, 817), (1763, 1358), (1763, 1736), (1764, 628), (1764, 1358), (1765, 290), (1765, 501), (1765, 580), (1765, 823), (1765, 825), (1765, 1040), (1765, 1358), (1765, 1492), (1765, 1520), (1765, 1562), (1765, 1711), (1765, 1719), (1765, 1720), (1765, 1744), (1765, 1750), (1765, 1755), (1765, 2492), (1766, 1358), (1766, 1739), (1766, 1750), (1767, 1623), (1767, 1783), (1768, 1623), (1768, 1837), (1768, 2325), (1769, 109), (1769, 399), (1769, 544), (1769, 1623), (1770, 306), (1770, 1245), (1770, 1623), (1770, 2080), (1771, 306), (1771, 1623), (1771, 1778), (1772, 109), (1772, 306), (1772, 426), (1772, 487), (1772, 1564), (1772, 1623), (1772, 1782), (1772, 2045), (1773, 487), (1773, 638), (1773, 1045), (1773, 1623), (1773, 1780), (1773, 1789), (1774, 1623), (1775, 103), (1775, 306), (1775, 350), (1775, 484), (1775, 1623), (1776, 138), (1776, 337), (1776, 960), (1776, 1282), (1776, 1283), (1776, 1499), (1776, 1572), (1776, 1623), (1776, 1735), (1776, 2045), (1776, 2078), (1776, 2324), (1777, 133), (1777, 426), (1777, 1623), (1777, 1624), (1777, 2143), (1778, 350), (1778, 1367), (1778, 1552), (1778, 1623), (1778, 1624), (1778, 1771), (1778, 2327), (1779, 109), (1779, 306), (1779, 505), (1779, 1623), (1779, 1624), (1779, 2318), (1780, 139), (1780, 1623), (1780, 1624), (1780, 1773), (1781, 36), (1781, 306), (1781, 1623), (1781, 1998), (1781, 2107), (1782, 306), (1782, 350), (1782, 426), (1782, 487), (1782, 1623), (1782, 1772), (1782, 1798), (1782, 2326), (1783, 1623), (1783, 1767), (1784, 133), (1784, 1072), (1784, 1623), (1784, 2045), (1784, 2096), (1785, 109), (1785, 317), (1785, 808), (1785, 963), (1785, 1624), (1786, 18), (1786, 1564), (1786, 1624), (1787, 109), (1787, 306), (1787, 1624), (1787, 1810), (1787, 2045), (1787, 2143), (1788, 1015), (1788, 1505), (1788, 1624), (1789, 109), (1789, 426), (1789, 1015), (1789, 1618), (1789, 1773), (1790, 103), (1790, 695), (1790, 1609), (1791, 191), (1791, 1197), (1791, 1609), (1791, 2045), (1792, 581), (1792, 2485), (1793, 798), (1794, 798), (1794, 1381), (1794, 1795), (1794, 1796), (1795, 798), (1795, 828), (1795, 1794), (1795, 1796), (1795, 2299), (1795, 2464), (1796, 1794), (1796, 1795), (1796, 2297), (1797, 306), (1797, 1012), (1797, 1072), (1797, 1336), (1797, 2088), (1798, 306), (1798, 329), (1798, 487), (1798, 958), (1798, 1072), (1798, 1584), (1798, 1656), (1798, 1782), (1799, 306), (1799, 1072), (1799, 1465), (1799, 1701), (1800, 476), (1800, 852), (1800, 1072), (1801, 1035), (1801, 1072), (1801, 1505), (1801, 2203), (1801, 2451), (1802, 306), (1802, 1072), (1802, 2079), (1803, 77), (1803, 354), (1803, 659), (1803, 1072), (1804, 306), (1804, 1072), (1804, 1546), (1804, 1740), (1804, 2451), (1805, 109), (1805, 306), (1805, 426), (1805, 556), (1805, 1072), (1806, 453), (1806, 962), (1806, 1809), (1807, 180), (1807, 429), (1807, 482), (1807, 962), (1807, 2034), (1808, 579), (1808, 962), (1808, 1810), (1809, 962), (1809, 1806), (1809, 1810), (1810, 13), (1810, 27), (1810, 224), (1810, 230), (1810, 351), (1810, 481), (1810, 482), (1810, 511), (1810, 549), (1810, 568), (1810, 576), (1810, 716), (1810, 719), (1810, 790), (1810, 795), (1810, 835), (1810, 962), (1810, 1004), (1810, 1062), (1810, 1095), (1810, 1107), (1810, 1121), (1810, 1299), (1810, 1331), (1810, 1348), (1810, 1576), (1810, 1581), (1810, 1787), (1810, 1808), (1810, 1809), (1810, 1811), (1810, 1812), (1810, 1813), (1810, 1814), (1810, 1815), (1810, 1816), (1810, 1817), (1810, 1818), (1810, 1819), (1810, 1820), (1810, 1821), (1810, 1822), (1810, 1823), (1810, 1869), (1811, 1810), (1811, 1822), (1812, 482), (1812, 1810), (1812, 1986), (1812, 2034), (1812, 2550), (1813, 1424), (1813, 1810), (1814, 482), (1814, 1810), (1815, 310), (1815, 1810), (1815, 1950), (1816, 829), (1816, 1810), (1817, 733), (1817, 1810), (1818, 733), (1818, 1810), (1818, 2305), (1818, 2306), (1819, 1581), (1819, 1810), (1819, 1948), (1820, 1701), (1820, 1810), (1820, 1873), (1821, 316), (1821, 598), (1821, 603), (1821, 716), (1821, 1810), (1822, 1810), (1822, 1811), (1823, 598), (1823, 1126), (1823, 1810), (1824, 360), (1824, 448), (1824, 645), (1824, 1183), (1824, 1267), (1824, 1470), (1824, 1825), (1824, 1826), (1825, 392), (1825, 472), (1825, 1183), (1825, 1824), (1826, 264), (1826, 448), (1826, 645), (1826, 1408), (1826, 1409), (1826, 1824), (1826, 1827), (1826, 1829), (1827, 1409), (1827, 1553), (1827, 1826), (1827, 1828), (1828, 238), (1828, 1408), (1828, 1409), (1828, 1827), (1829, 940), (1829, 1070), (1829, 1408), (1829, 1826), (1829, 1902), (1830, 889), (1830, 1067), (1830, 1513), (1830, 2045), (1831, 824), (1831, 889), (1832, 889), (1833, 797), (1833, 1035), (1833, 1834), (1834, 372), (1834, 449), (1834, 800), (1834, 1833), (1834, 2359), (1835, 898), (1835, 2157), (1835, 2160), (1836, 92), (1836, 898), (1837, 183), (1837, 997), (1837, 1330), (1837, 1768), (1838, 95), (1838, 1204), (1838, 2182), (1838, 2219), (1839, 11), (1839, 979), (1839, 1204), (1839, 1655), (1839, 2424), (1839, 2453), (1840, 1013), (1840, 1377), (1840, 2071), (1841, 408), (1841, 734), (1841, 736), (1841, 1013), (1841, 2056), (1842, 120), (1842, 816), (1842, 1013), (1842, 1203), (1842, 1538), (1842, 1655), (1842, 1979), (1842, 1980), (1842, 2281), (1842, 2405), (1843, 415), (1843, 1013), (1844, 868), (1844, 1013), (1844, 2276), (1845, 894), (1845, 1013), (1846, 1013), (1846, 1701), (1846, 1867), (1846, 2117), (1846, 2357), (1847, 88), (1847, 415), (1847, 1013), (1848, 325), (1848, 1013), (1848, 1224), (1848, 1376), (1848, 1652), (1848, 1909), (1848, 2419), (1849, 56), (1849, 412), (1849, 447), (1849, 1013), (1849, 1487), (1849, 1616), (1849, 1914), (1850, 32), (1850, 415), (1850, 666), (1850, 1013), (1851, 118), (1851, 693), (1851, 1013), (1851, 1224), (1851, 1661), (1851, 2485), (1852, 1701), (1852, 2045), (1853, 1701), (1854, 1701), (1855, 1171), (1855, 1701), (1856, 306), (1856, 1335), (1856, 1701), (1856, 2045), (1856, 2096), (1857, 304), (1857, 1701), (1857, 1708), (1858, 899), (1858, 1701), (1859, 1701), (1859, 1986), (1860, 1701), (1861, 1701), (1862, 0), (1862, 926), (1862, 1701), (1862, 2582), (1863, 532), (1863, 1701), (1864, 232), (1864, 598), (1864, 869), (1864, 1701), (1865, 311), (1865, 1147), (1865, 1701), (1866, 633), (1866, 1701), (1867, 1701), (1867, 1846), (1867, 2117), (1868, 231), (1868, 316), (1868, 766), (1868, 1701), (1869, 199), (1869, 203), (1869, 205), (1869, 277), (1869, 420), (1869, 465), (1869, 1097), (1869, 1701), (1869, 1810), (1869, 2309), (1870, 157), (1870, 598), (1870, 1701), (1870, 1986), (1871, 102), (1871, 228), (1871, 417), (1871, 1701), (1872, 1701), (1873, 603), (1873, 935), (1873, 1701), (1873, 1820), (1873, 1986), (1874, 722), (1874, 1106), (1874, 1567), (1874, 1701), (1874, 2500), (1874, 2501), (1875, 598), (1875, 1701), (1875, 1986), (1876, 1701), (1876, 1986), (1877, 1701), (1877, 2573), (1878, 102), (1878, 661), (1878, 2256), (1879, 490), (1879, 578), (1879, 661), (1879, 1526), (1880, 479), (1880, 661), (1880, 753), (1880, 1269), (1881, 661), (1881, 735), (1881, 739), (1881, 1543), (1881, 1958), (1882, 88), (1882, 514), (1882, 516), (1882, 661), (1882, 1309), (1883, 661), (1884, 113), (1884, 249), (1884, 661), (1884, 854), (1884, 1885), (1884, 1958), (1885, 661), (1885, 1884), (1885, 2644), (1886, 1103), (1886, 1739), (1887, 1103), (1887, 1888), (1888, 1103), (1888, 1737), (1888, 1887), (1889, 429), (1889, 1531), (1889, 1890), (1889, 1891), (1889, 1892), (1889, 1893), (1889, 2034), (1889, 2039), (1889, 2130), (1890, 1889), (1890, 2130), (1891, 1889), (1891, 2034), (1891, 2130), (1892, 1580), (1892, 1669), (1892, 1889), (1893, 920), (1893, 1889), (1894, 229), (1894, 261), (1894, 536), (1894, 770), (1894, 1049), (1894, 1149), (1894, 1215), (1894, 1405), (1894, 1479), (1894, 1508), (1894, 1655), (1894, 2034), (1894, 2117), (1894, 2118), (1895, 645), (1895, 1566), (1896, 541), (1896, 709), (1896, 793), (1896, 1897), (1897, 1896), (1897, 1903), (1898, 379), (1898, 645), (1898, 755), (1898, 1713), (1899, 388), (1899, 645), (1899, 1902), (1899, 2491), (1899, 2510), (1900, 645), (1900, 2608), (1901, 119), (1901, 645), (1901, 1549), (1901, 1954), (1901, 2284), (1901, 2286), (1902, 264), (1902, 448), (1902, 793), (1902, 844), (1902, 1360), (1902, 1478), (1902, 1829), (1902, 1899), (1902, 1903), (1902, 1904), (1903, 709), (1903, 793), (1903, 840), (1903, 1897), (1903, 1902), (1903, 1960), (1903, 2269), (1903, 2592), (1904, 1360), (1904, 1902), (1904, 1960), (1905, 210), (1905, 1914), (1906, 210), (1906, 1703), (1906, 1907), (1906, 1964), (1906, 2059), (1907, 146), (1907, 210), (1907, 566), (1907, 673), (1907, 674), (1907, 717), (1907, 897), (1907, 1906), (1908, 88), (1908, 211), (1908, 415), (1908, 1178), (1908, 1474), (1908, 1529), (1908, 1677), (1909, 211), (1909, 239), (1909, 1131), (1909, 1171), (1909, 1848), (1909, 2305), (1910, 121), (1910, 1296), (1911, 945), (1911, 1296), (1911, 1368), (1911, 2553), (1912, 435), (1912, 995), (1912, 1174), (1912, 1296), (1912, 1338), (1912, 1609), (1912, 1704), (1912, 2102), (1912, 2103), (1912, 2404), (1913, 35), (1913, 440), (1913, 895), (1913, 1296), (1914, 41), (1914, 69), (1914, 175), (1914, 506), (1914, 596), (1914, 604), (1914, 778), (1914, 779), (1914, 830), (1914, 921), (1914, 955), (1914, 1079), (1914, 1359), (1914, 1362), (1914, 1464), (1914, 1485), (1914, 1525), (1914, 1539), (1914, 1592), (1914, 1674), (1914, 1675), (1914, 1676), (1914, 1849), (1914, 1905), (1914, 1915), (1914, 1916), (1914, 1917), (1914, 1918), (1914, 1919), (1914, 1920), (1914, 2388), (1915, 1914), (1915, 2649), (1916, 907), (1916, 1535), (1916, 1914), (1917, 454), (1917, 1914), (1917, 2457), (1918, 506), (1918, 1914), (1919, 778), (1919, 779), (1919, 1224), (1919, 1370), (1919, 1402), (1919, 1914), (1920, 69), (1920, 1914), (1920, 1926), (1920, 2310), (1920, 2422), (1920, 2653), (1921, 315), (1921, 827), (1921, 1416), (1922, 1008), (1922, 1416), (1923, 1416), (1923, 1927), (1924, 942), (1924, 1416), (1924, 1927), (1925, 1042), (1925, 1416), (1925, 2620), (1926, 69), (1926, 1042), (1926, 1416), (1926, 1920), (1926, 2051), (1926, 2052), (1926, 2189), (1927, 146), (1927, 305), (1927, 405), (1927, 738), (1927, 769), (1927, 1152), (1927, 1218), (1927, 1435), (1927, 1923), (1927, 1924), (1927, 1928), (1927, 1929), (1927, 1930), (1928, 1344), (1928, 1447), (1928, 1927), (1928, 2317), (1928, 2475), (1929, 1268), (1929, 1671), (1929, 1927), (1929, 2034), (1930, 1131), (1930, 1927), (1931, 507), (1931, 1413), (1931, 1542), (1932, 402), (1932, 1413), (1932, 1936), (1933, 251), (1933, 507), (1933, 1300), (1933, 1413), (1934, 338), (1934, 1413), (1935, 877), (1935, 1176), (1935, 1177), (1935, 1413), (1935, 1542), (1936, 402), (1936, 507), (1936, 1413), (1936, 1542), (1936, 1932), (1937, 548), (1937, 1938), (1938, 1937), (1939, 19), (1939, 1542), (1940, 402), (1940, 507), (1940, 1300), (1940, 1542), (1941, 507), (1941, 1300), (1941, 1334), (1941, 1542), (1941, 2508), (1942, 150), (1942, 875), (1942, 1542), (1943, 1340), (1943, 1542), (1944, 310), (1944, 336), (1944, 352), (1944, 1945), (1944, 1946), (1944, 1950), (1945, 310), (1945, 875), (1945, 1272), (1945, 1944), (1945, 1946), (1945, 1947), (1946, 310), (1946, 1944), (1946, 1945), (1946, 1950), (1947, 310), (1947, 1272), (1947, 1945), (1947, 1950), (1948, 310), (1948, 1819), (1948, 1950), (1949, 310), (1949, 1221), (1950, 310), (1950, 336), (1950, 875), (1950, 892), (1950, 1054), (1950, 1241), (1950, 1272), (1950, 1334), (1950, 1432), (1950, 1605), (1950, 1815), (1950, 1944), (1950, 1946), (1950, 1947), (1950, 1948), (1951, 622), (1951, 1952), (1951, 2204), (1951, 2206), (1952, 622), (1952, 788), (1952, 942), (1952, 1002), (1952, 1031), (1952, 1654), (1952, 1951), (1952, 2204), (1952, 2205), (1952, 2206), (1953, 458), (1953, 1470), (1953, 1555), (1954, 590), (1954, 1128), (1954, 1441), (1954, 1901), (1954, 1955), (1954, 1956), (1954, 1957), (1954, 1958), (1954, 2275), (1955, 676), (1955, 807), (1955, 1168), (1955, 1179), (1955, 1226), (1955, 1954), (1955, 1956), (1955, 2235), (1956, 807), (1956, 1226), (1956, 1954), (1956, 1955), (1957, 979), (1957, 1355), (1957, 1441), (1957, 1954), (1957, 2241), (1957, 2630), (1958, 735), (1958, 739), (1958, 1237), (1958, 1441), (1958, 1881), (1958, 1884), (1958, 1954), (1959, 119), (1959, 132), (1959, 379), (1959, 904), (1959, 2621), (1960, 1360), (1960, 1903), (1960, 1904), (1960, 2491), (1961, 703), (1961, 801), (1961, 1022), (1962, 1022), (1962, 1276), (1962, 1963), (1963, 1022), (1963, 1962), (1964, 248), (1964, 463), (1964, 1906), (1964, 1965), (1964, 1966), (1965, 39), (1965, 1964), (1966, 94), (1966, 362), (1966, 443), (1966, 463), (1966, 946), (1966, 1010), (1966, 1234), (1966, 1569), (1966, 1702), (1966, 1703), (1966, 1964), (1966, 1971), (1967, 275), (1967, 1703), (1968, 1671), (1968, 1703), (1968, 2034), (1969, 1703), (1969, 2236), (1969, 2238), (1970, 271), (1970, 1702), (1970, 1703), (1971, 1702), (1971, 1703), (1971, 1966), (1972, 1351), (1972, 1402), (1972, 1652), (1973, 32), (1973, 252), (1973, 490), (1973, 504), (1973, 666), (1973, 779), (1973, 822), (1973, 1333), (1973, 1482), (1973, 1525), (1973, 1637), (1973, 1683), (1973, 1974), (1973, 1975), (1973, 1976), (1974, 578), (1974, 737), (1974, 1973), (1975, 1224), (1975, 1370), (1975, 1421), (1975, 1676), (1975, 1973), (1975, 2109), (1975, 2110), (1976, 147), (1976, 502), (1976, 1973), (1977, 436), (1977, 1526), (1978, 249), (1978, 436), (1978, 478), (1978, 514), (1978, 621), (1979, 436), (1979, 1842), (1979, 1980), (1979, 2178), (1979, 2405), (1980, 436), (1980, 816), (1980, 1842), (1980, 1979), (1980, 2405), (1981, 436), (1981, 490), (1981, 1526), (1982, 130), (1982, 436), (1983, 55), (1983, 438), (1983, 897), (1983, 2034), (1984, 438), (1984, 651), (1984, 1178), (1984, 1266), (1984, 1529), (1985, 437), (1985, 438), (1986, 2), (1986, 45), (1986, 68), (1986, 71), (1986, 151), (1986, 160), (1986, 179), (1986, 201), (1986, 215), (1986, 232), (1986, 335), (1986, 366), (1986, 391), (1986, 460), (1986, 476), (1986, 519), (1986, 566), (1986, 673), (1986, 681), (1986, 743), (1986, 745), (1986, 792), (1986, 899), (1986, 968), (1986, 1023), (1986, 1095), (1986, 1127), (1986, 1149), (1986, 1166), (1986, 1434), (1986, 1453), (1986, 1558), (1986, 1574), (1986, 1697), (1986, 1704), (1986, 1709), (1986, 1812), (1986, 1859), (1986, 1870), (1986, 1873), (1986, 1875), (1986, 1876), (1986, 1987), (1986, 1988), (1986, 1989), (1986, 1990), (1986, 1991), (1986, 1992), (1986, 1993), (1986, 1994), (1986, 1995), (1986, 1996), (1986, 1997), (1986, 1998), (1986, 1999), (1986, 2000), (1986, 2001), (1986, 2002), (1986, 2003), (1986, 2004), (1986, 2005), (1986, 2006), (1986, 2007), (1986, 2008), (1986, 2009), (1987, 1295), (1987, 1986), (1987, 2004), (1987, 2509), (1988, 396), (1988, 1986), (1989, 460), (1989, 1986), (1990, 1986), (1991, 1986), (1991, 2325), (1992, 1185), (1992, 1986), (1993, 849), (1993, 1986), (1994, 169), (1994, 1986), (1995, 553), (1995, 745), (1995, 1583), (1995, 1986), (1996, 8), (1996, 327), (1996, 1986), (1996, 2063), (1996, 2064), (1997, 1347), (1997, 1986), (1997, 2412), (1998, 109), (1998, 191), (1998, 519), (1998, 695), (1998, 1197), (1998, 1781), (1998, 1986), (1998, 2326), (1999, 285), (1999, 818), (1999, 827), (1999, 1986), (2000, 160), (2000, 267), (2000, 314), (2000, 1986), (2001, 91), (2001, 429), (2001, 503), (2001, 574), (2001, 1986), (2001, 2002), (2001, 2003), (2001, 2044), (2001, 2121), (2001, 2123), (2001, 2335), (2001, 2348), (2001, 2378), (2001, 2379), (2001, 2380), (2001, 2381), (2002, 1986), (2002, 2001), (2002, 2379), (2003, 185), (2003, 332), (2003, 1986), (2003, 2001), (2003, 2123), (2004, 180), (2004, 316), (2004, 1986), (2004, 1987), (2005, 1986), (2006, 746), (2006, 1986), (2006, 2477), (2007, 1986), (2008, 733), (2008, 1986), (2008, 2301), (2009, 160), (2009, 553), (2009, 745), (2009, 1986), (2009, 2025), (2010, 88), (2010, 118), (2010, 161), (2010, 2016), (2011, 25), (2011, 88), (2011, 733), (2012, 88), (2012, 272), (2013, 88), (2013, 471), (2014, 88), (2014, 415), (2015, 88), (2015, 1309), (2015, 2071), (2016, 88), (2016, 842), (2016, 973), (2016, 2010), (2016, 2071), (2017, 88), (2017, 130), (2017, 815), (2017, 1487), (2017, 2467), (2018, 76), (2018, 356), (2018, 621), (2018, 815), (2018, 851), (2018, 1658), (2018, 2019), (2019, 973), (2019, 2018), (2020, 55), (2020, 323), (2021, 55), (2021, 65), (2021, 239), (2021, 1628), (2021, 2418), (2022, 323), (2022, 454), (2022, 2190), (2023, 651), (2023, 1512), (2023, 2217), (2024, 478), (2024, 651), (2024, 885), (2024, 1332), (2024, 2156), (2024, 2178), (2025, 149), (2025, 572), (2025, 671), (2025, 1110), (2025, 1120), (2025, 1357), (2025, 1498), (2025, 1583), (2025, 2009), (2025, 2026), (2025, 2027), (2025, 2028), (2026, 487), (2026, 2025), (2026, 2045), (2026, 2096), (2027, 938), (2027, 1239), (2027, 2025), (2027, 2360), (2028, 2025), (2029, 472), (2029, 1543), (2029, 1579), (2030, 118), (2030, 903), (2030, 2112), (2031, 903), (2031, 2436), (2032, 1336), (2033, 740), (2033, 788), (2033, 1002), (2033, 1336), (2034, 14), (2034, 49), (2034, 86), (2034, 141), (2034, 158), (2034, 224), (2034, 382), (2034, 417), (2034, 617), (2034, 691), (2034, 791), (2034, 841), (2034, 1002), (2034, 1026), (2034, 1270), (2034, 1273), (2034, 1319), (2034, 1336), (2034, 1448), (2034, 1497), (2034, 1614), (2034, 1654), (2034, 1665), (2034, 1807), (2034, 1812), (2034, 1889), (2034, 1891), (2034, 1894), (2034, 1929), (2034, 1968), (2034, 1983), (2034, 2035), (2034, 2036), (2034, 2037), (2034, 2038), (2034, 2039), (2034, 2040), (2034, 2041), (2034, 2042), (2034, 2130), (2035, 733), (2035, 1324), (2035, 2034), (2036, 833), (2036, 2034), (2037, 180), (2037, 2034), (2038, 293), (2038, 2034), (2039, 1889), (2039, 2034), (2039, 2042), (2040, 33), (2040, 2034), (2040, 2120), (2040, 2122), (2041, 48), (2041, 429), (2041, 788), (2041, 2034), (2042, 2034), (2042, 2039), (2043, 429), (2043, 2406), (2044, 429), (2044, 2001), (2045, 109), (2045, 126), (2045, 133), (2045, 139), (2045, 153), (2045, 215), (2045, 236), (2045, 306), (2045, 308), (2045, 318), (2045, 341), (2045, 519), (2045, 563), (2045, 603), (2045, 699), (2045, 1013), (2045, 1248), (2045, 1337), (2045, 1448), (2045, 1651), (2045, 1772), (2045, 1776), (2045, 1784), (2045, 1787), (2045, 1791), (2045, 1830), (2045, 1852), (2045, 1856), (2045, 2026), (2045, 2046), (2045, 2047), (2045, 2048), (2046, 236), (2046, 306), (2046, 484), (2046, 2045), (2046, 2048), (2047, 294), (2047, 2045), (2048, 306), (2048, 2045), (2048, 2046), (2049, 80), (2049, 142), (2050, 1616), (2050, 2485), (2051, 1042), (2051, 1926), (2051, 2364), (2052, 74), (2052, 544), (2052, 1042), (2052, 1926), (2053, 52), (2053, 1628), (2054, 95), (2054, 456), (2054, 525), (2054, 1042), (2054, 1139), (2054, 1540), (2054, 1602), (2054, 1628), (2054, 2133), (2055, 1042), (2055, 1588), (2055, 1628), (2055, 2198), (2056, 100), (2056, 408), (2056, 734), (2056, 1628), (2056, 1680), (2056, 1841), (2056, 2311), (2056, 2576), (2057, 525), (2057, 1628), (2058, 635), (2058, 1378), (2058, 2150), (2059, 146), (2059, 405), (2059, 718), (2059, 1008), (2059, 1435), (2059, 1906), (2060, 735), (2061, 735), (2062, 701), (2062, 735), (2063, 327), (2063, 928), (2063, 1325), (2063, 1326), (2063, 1996), (2064, 327), (2064, 1996), (2065, 918), (2065, 2066), (2065, 2067), (2066, 1098), (2066, 1477), (2066, 2065), (2066, 2122), (2067, 1098), (2067, 1477), (2067, 2065), (2068, 861), (2068, 1330), (2068, 1377), (2069, 702), (2069, 1377), (2069, 2070), (2070, 702), (2070, 1377), (2070, 2069), (2071, 725), (2071, 755), (2071, 1435), (2071, 1566), (2071, 1592), (2071, 1840), (2071, 2015), (2071, 2016), (2072, 1395), (2072, 1602), (2072, 2182), (2073, 901), (2073, 1042), (2073, 1602), (2074, 95), (2074, 1602), (2074, 2181), (2074, 2277), (2075, 14), (2075, 775), (2075, 1020), (2075, 2076), (2075, 2077), (2075, 2091), (2075, 2667), (2075, 2668), (2076, 180), (2076, 218), (2076, 2075), (2076, 2077), (2076, 2667), (2077, 14), (2077, 486), (2077, 1020), (2077, 1704), (2077, 2075), (2077, 2076), (2078, 236), (2078, 306), (2078, 836), (2078, 1776), (2079, 126), (2079, 236), (2079, 1802), (2080, 112), (2080, 306), (2080, 487), (2080, 608), (2080, 655), (2080, 1245), (2080, 1311), (2080, 1367), (2080, 1459), (2080, 1770), (2081, 484), (2081, 1705), (2082, 18), (2082, 133), (2083, 367), (2083, 505), (2083, 650), (2083, 752), (2083, 957), (2083, 1483), (2083, 1550), (2083, 1557), (2083, 1685), (2083, 2168), (2084, 306), (2084, 350), (2084, 409), (2085, 306), (2085, 350), (2085, 910), (2085, 1490), (2085, 2089), (2086, 306), (2086, 1089), (2086, 1505), (2086, 2094), (2087, 306), (2087, 1335), (2088, 306), (2088, 1797), (2089, 306), (2089, 350), (2089, 2085), (2090, 306), (2090, 350), (2090, 656), (2090, 1335), (2091, 218), (2091, 306), (2091, 2075), (2092, 109), (2093, 109), (2093, 741), (2093, 831), (2094, 36), (2094, 109), (2094, 441), (2094, 530), (2094, 2086), (2094, 2106), (2095, 109), (2095, 135), (2095, 2145), (2095, 2329), (2095, 2504), (2096, 859), (2096, 937), (2096, 1009), (2096, 1784), (2096, 1856), (2096, 2026), (2097, 79), (2097, 522), (2097, 975), (2097, 2098), (2098, 2097), (2099, 490), (2099, 868), (2099, 1526), (2099, 2425), (2100, 803), (2100, 830), (2100, 1184), (2100, 2101), (2101, 702), (2101, 2100), (2102, 1309), (2102, 1912), (2102, 2385), (2103, 1309), (2103, 1912), (2103, 2385), (2104, 516), (2105, 490), (2105, 517), (2106, 36), (2106, 2094), (2107, 36), (2107, 399), (2107, 1505), (2107, 1781), (2108, 693), (2108, 1519), (2109, 604), (2109, 1085), (2109, 1396), (2109, 1421), (2109, 1975), (2109, 2110), (2110, 1085), (2110, 1421), (2110, 1975), (2110, 2109), (2111, 711), (2112, 118), (2112, 255), (2112, 711), (2112, 1690), (2112, 2030), (2112, 2436), (2113, 704), (2113, 711), (2113, 1077), (2113, 1483), (2113, 1743), (2113, 2450), (2114, 386), (2114, 1083), (2114, 2509), (2114, 2519), (2114, 2588), (2115, 386), (2115, 2117), (2115, 2519), (2116, 356), (2116, 1218), (2117, 386), (2117, 770), (2117, 1508), (2117, 1846), (2117, 1867), (2117, 1894), (2117, 2115), (2117, 2118), (2118, 229), (2118, 1894), (2118, 2117), (2119, 33), (2119, 218), (2120, 33), (2120, 442), (2120, 665), (2120, 2040), (2120, 2637), (2121, 33), (2121, 2001), (2121, 2122), (2122, 91), (2122, 196), (2122, 332), (2122, 627), (2122, 665), (2122, 1051), (2122, 2040), (2122, 2066), (2122, 2121), (2122, 2123), (2123, 91), (2123, 330), (2123, 2001), (2123, 2003), (2123, 2122), (2123, 2380), (2124, 1119), (2124, 1273), (2124, 1608), (2124, 1611), (2124, 2125), (2124, 2126), (2124, 2127), (2125, 1111), (2125, 1119), (2125, 1273), (2125, 2124), (2125, 2126), (2126, 870), (2126, 1111), (2126, 1119), (2126, 1235), (2126, 1273), (2126, 1608), (2126, 2124), (2126, 2125), (2127, 546), (2127, 1119), (2127, 2124), (2127, 2130), (2128, 1119), (2128, 2129), (2129, 1111), (2129, 1119), (2129, 1273), (2129, 2128), (2130, 430), (2130, 691), (2130, 791), (2130, 912), (2130, 983), (2130, 1261), (2130, 1889), (2130, 1890), (2130, 1891), (2130, 2034), (2130, 2127), (2130, 2249), (2131, 1463), (2131, 2133), (2131, 2182), (2132, 1163), (2132, 1463), (2132, 1482), (2132, 1683), (2133, 276), (2133, 434), (2133, 1463), (2133, 1695), (2133, 2054), (2133, 2131), (2133, 2182), (2134, 921), (2134, 1351), (2135, 175), (2135, 190), (2135, 2282), (2136, 737), (2136, 1121), (2136, 1655), (2136, 1671), (2137, 1394), (2137, 1487), (2137, 1671), (2138, 548), (2138, 598), (2138, 944), (2139, 24), (2139, 1636), (2139, 2140), (2139, 2141), (2140, 17), (2140, 927), (2140, 1301), (2140, 1679), (2140, 2139), (2141, 24), (2141, 1636), (2141, 2139), (2141, 2142), (2142, 2141), (2143, 303), (2143, 1367), (2143, 1777), (2143, 1787), (2144, 135), (2144, 137), (2144, 2145), (2144, 2329), (2144, 2331), (2144, 2504), (2145, 18), (2145, 1512), (2145, 2095), (2145, 2144), (2146, 374), (2146, 509), (2146, 846), (2146, 1101), (2146, 1242), (2146, 2147), (2146, 2148), (2147, 374), (2147, 455), (2147, 658), (2147, 1664), (2147, 2146), (2147, 2486), (2148, 509), (2148, 1101), (2148, 1242), (2148, 2146), (2149, 374), (2150, 1378), (2150, 2058), (2151, 93), (2151, 1224), (2151, 2423), (2152, 1224), (2152, 2385), (2153, 973), (2153, 1224), (2153, 2155), (2154, 1224), (2154, 1291), (2154, 1587), (2154, 1660), (2155, 74), (2155, 280), (2155, 539), (2155, 586), (2155, 749), (2155, 993), (2155, 1118), (2155, 1131), (2155, 1143), (2155, 1152), (2155, 1203), (2155, 1224), (2155, 1535), (2155, 2153), (2155, 2293), (2155, 2294), (2155, 2295), (2156, 324), (2156, 651), (2156, 1224), (2156, 2024), (2157, 108), (2157, 1835), (2157, 2158), (2157, 2159), (2157, 2160), (2158, 2157), (2159, 23), (2159, 2157), (2159, 2160), (2160, 898), (2160, 1328), (2160, 1647), (2160, 1698), (2160, 1835), (2160, 2157), (2160, 2159), (2160, 2161), (2161, 1327), (2161, 2160), (2162, 30), (2162, 61), (2162, 738), (2162, 1080), (2162, 2163), (2163, 1073), (2163, 1303), (2163, 1348), (2163, 1502), (2163, 2162), (2164, 87), (2164, 2217), (2164, 2282), (2165, 118), (2165, 279), (2165, 1343), (2166, 118), (2166, 1029), (2167, 957), (2168, 834), (2168, 876), (2168, 1033), (2168, 1557), (2168, 1586), (2168, 1726), (2168, 2083), (2168, 2169), (2169, 131), (2169, 683), (2169, 1546), (2169, 1547), (2169, 2168), (2170, 1357), (2170, 2171), (2171, 2170), (2172, 52), (2172, 525), (2172, 1467), (2172, 1628), (2172, 2182), (2173, 939), (2173, 2174), (2174, 2173), (2175, 4), (2175, 982), (2175, 1256), (2175, 1761), (2175, 2176), (2176, 4), (2176, 595), (2176, 982), (2176, 1016), (2176, 1091), (2176, 1256), (2176, 1382), (2176, 2175), (2177, 398), (2177, 644), (2177, 2367), (2177, 2371), (2178, 76), (2178, 88), (2178, 415), (2178, 737), (2178, 1309), (2178, 1979), (2178, 2024), (2179, 440), (2180, 81), (2180, 257), (2180, 525), (2180, 2182), (2180, 2183), (2181, 95), (2181, 142), (2181, 525), (2181, 1388), (2181, 2074), (2181, 2196), (2181, 2197), (2181, 2202), (2182, 52), (2182, 95), (2182, 239), (2182, 415), (2182, 525), (2182, 858), (2182, 1139), (2182, 1285), (2182, 1515), (2182, 1838), (2182, 2072), (2182, 2131), (2182, 2133), (2182, 2172), (2182, 2180), (2182, 2198), (2182, 2231), (2182, 2232), (2182, 2233), (2183, 95), (2183, 525), (2183, 2180), (2184, 70), (2184, 441), (2185, 1131), (2185, 1133), (2185, 1500), (2185, 1538), (2186, 756), (2186, 901), (2186, 1279), (2186, 1692), (2186, 2199), (2187, 172), (2187, 756), (2187, 1472), (2187, 1692), (2188, 454), (2189, 69), (2189, 454), (2189, 847), (2189, 1395), (2189, 1682), (2189, 1926), (2190, 454), (2190, 2022), (2191, 387), (2192, 144), (2192, 213), (2192, 495), (2192, 537), (2193, 2194), (2194, 214), (2194, 324), (2194, 1120), (2194, 2193), (2194, 2195), (2195, 594), (2195, 663), (2195, 1333), (2195, 2194), (2196, 1631), (2196, 2181), (2197, 95), (2197, 734), (2197, 736), (2197, 965), (2197, 1388), (2197, 2181), (2198, 751), (2198, 964), (2198, 1042), (2198, 2055), (2198, 2182), (2199, 95), (2199, 456), (2199, 544), (2199, 680), (2199, 731), (2199, 901), (2199, 1580), (2199, 2186), (2199, 2200), (2199, 2201), (2200, 95), (2200, 1580), (2200, 2199), (2201, 95), (2201, 552), (2201, 2199), (2202, 734), (2202, 736), (2202, 751), (2202, 2181), (2203, 731), (2203, 1279), (2203, 1801), (2203, 2330), (2203, 2511), (2204, 1951), (2204, 1952), (2204, 2521), (2205, 48), (2205, 788), (2205, 1952), (2206, 48), (2206, 1951), (2206, 1952), (2207, 979), (2207, 1200), (2207, 2241), (2208, 1483), (2209, 108), (2209, 1504), (2209, 1647), (2210, 104), (2210, 864), (2211, 1065), (2211, 2356), (2212, 708), (2212, 710), (2212, 1392), (2212, 2216), (2213, 51), (2213, 421), (2213, 710), (2214, 51), (2214, 1201), (2214, 2216), (2215, 51), (2215, 457), (2215, 1724), (2215, 2216), (2216, 421), (2216, 457), (2216, 708), (2216, 1724), (2216, 2212), (2216, 2214), (2216, 2215), (2217, 96), (2217, 175), (2217, 231), (2217, 2023), (2217, 2164), (2218, 1411), (2218, 1459), (2219, 475), (2219, 485), (2219, 1838), (2220, 1148), (2220, 1169), (2220, 1317), (2220, 2221), (2220, 2525), (2221, 823), (2221, 1148), (2221, 1317), (2221, 1739), (2221, 2220), (2221, 2507), (2222, 75), (2222, 284), (2222, 2224), (2222, 2225), (2223, 75), (2223, 84), (2223, 284), (2223, 2224), (2224, 75), (2224, 84), (2224, 284), (2224, 583), (2224, 2222), (2224, 2223), (2224, 2225), (2224, 2226), (2225, 75), (2225, 284), (2225, 583), (2225, 2222), (2225, 2224), (2226, 84), (2226, 284), (2226, 2224), (2227, 266), (2227, 634), (2227, 1269), (2227, 1399), (2227, 1630), (2227, 2228), (2228, 809), (2228, 1396), (2228, 1501), (2228, 2227), (2228, 2394), (2228, 2395), (2229, 266), (2229, 601), (2229, 809), (2230, 482), (2230, 606), (2230, 938), (2230, 2296), (2231, 2182), (2231, 2292), (2232, 315), (2232, 1376), (2232, 2182), (2233, 636), (2233, 2182), (2233, 2291), (2234, 1515), (2235, 612), (2235, 676), (2235, 1955), (2236, 151), (2236, 805), (2236, 1969), (2236, 2237), (2237, 1240), (2237, 2236), (2237, 2238), (2238, 22), (2238, 151), (2238, 152), (2238, 627), (2238, 706), (2238, 1702), (2238, 1703), (2238, 1969), (2238, 2237), (2238, 2239), (2238, 2240), (2239, 2238), (2240, 152), (2240, 963), (2240, 1157), (2240, 1443), (2240, 1530), (2240, 2238), (2240, 2399), (2241, 500), (2241, 1191), (2241, 1503), (2241, 1957), (2241, 2207), (2241, 2242), (2242, 2241), (2242, 2539), (2243, 1107), (2243, 1503), (2243, 2244), (2243, 2245), (2243, 2246), (2244, 281), (2244, 2243), (2245, 2243), (2245, 2246), (2246, 1595), (2246, 2243), (2246, 2245), (2246, 2247), (2247, 281), (2247, 972), (2247, 1086), (2247, 1325), (2247, 2246), (2247, 2509), (2247, 2543), (2248, 348), (2248, 428), (2248, 837), (2248, 856), (2248, 996), (2248, 1071), (2248, 1135), (2248, 1138), (2248, 1255), (2248, 1257), (2248, 1366), (2248, 1461), (2248, 1545), (2248, 2249), (2249, 368), (2249, 1257), (2249, 2130), (2249, 2248), (2249, 2518), (2249, 2671), (2250, 283), (2250, 348), (2250, 1138), (2250, 1260), (2251, 121), (2251, 1158), (2251, 2252), (2252, 121), (2252, 1158), (2252, 2251), (2253, 1697), (2254, 1146), (2255, 225), (2256, 102), (2256, 1878), (2257, 1728), (2258, 1290), (2259, 1419), (2259, 1436), (2259, 2335), (2259, 2337), (2260, 529), (2260, 1417), (2260, 1419), (2261, 718), (2261, 1474), (2262, 1015), (2262, 1143), (2263, 94), (2263, 1015), (2263, 2490), (2264, 1104), (2265, 984), (2265, 1322), (2265, 1324), (2266, 1395), (2266, 2267), (2266, 2321), (2266, 2364), (2267, 1395), (2267, 2266), (2268, 309), (2268, 383), (2268, 733), (2268, 1160), (2268, 1278), (2268, 2291), (2269, 20), (2269, 370), (2269, 392), (2269, 1415), (2269, 1619), (2269, 1903), (2269, 2270), (2270, 20), (2270, 128), (2270, 1354), (2270, 1414), (2270, 2269), (2270, 2375), (2271, 1441), (2272, 1441), (2273, 1441), (2274, 1370), (2274, 1441), (2274, 1527), (2275, 1128), (2275, 1441), (2275, 1954), (2276, 868), (2276, 1115), (2276, 1844), (2277, 734), (2277, 839), (2277, 2074), (2278, 850), (2278, 1359), (2279, 110), (2279, 565), (2279, 2466), (2280, 242), (2280, 270), (2280, 279), (2280, 838), (2280, 1131), (2281, 1131), (2281, 1842), (2281, 2405), (2282, 816), (2282, 1131), (2282, 1351), (2282, 1655), (2282, 2135), (2282, 2164), (2283, 575), (2283, 1131), (2283, 1382), (2284, 1901), (2284, 2285), (2285, 451), (2285, 989), (2285, 2284), (2285, 2286), (2286, 1549), (2286, 1901), (2286, 2285), (2287, 610), (2287, 826), (2287, 2288), (2288, 114), (2288, 610), (2288, 2287), (2289, 444), (2289, 584), (2289, 623), (2289, 2464), (2290, 444), (2290, 1102), (2290, 1207), (2290, 2464), (2290, 2496), (2291, 377), (2291, 481), (2291, 715), (2291, 733), (2291, 1265), (2291, 1682), (2291, 2233), (2291, 2268), (2291, 2292), (2292, 2231), (2292, 2291), (2293, 921), (2293, 1535), (2293, 2155), (2294, 1141), (2294, 2155), (2295, 86), (2295, 897), (2295, 1110), (2295, 1655), (2295, 2155), (2296, 313), (2296, 1134), (2296, 2230), (2297, 1796), (2297, 2298), (2297, 2299), (2298, 2297), (2299, 1795), (2299, 2297), (2300, 1196), (2301, 733), (2301, 2008), (2302, 733), (2302, 1692), (2303, 45), (2303, 733), (2303, 2541), (2304, 465), (2304, 469), (2304, 733), (2304, 2385), (2305, 309), (2305, 453), (2305, 1278), (2305, 1818), (2305, 1909), (2305, 2306), (2306, 453), (2306, 1278), (2306, 1818), (2306, 2305), (2306, 2552), (2307, 482), (2307, 1067), (2307, 1742), (2308, 159), (2308, 482), (2308, 531), (2308, 2559), (2309, 210), (2309, 461), (2309, 994), (2309, 1021), (2309, 1043), (2309, 1268), (2309, 1399), (2309, 1869), (2310, 21), (2310, 1920), (2311, 2056), (2311, 2576), (2312, 61), (2312, 1333), (2313, 873), (2313, 1708), (2314, 767), (2314, 1708), (2315, 1344), (2316, 1343), (2317, 25), (2317, 1403), (2317, 1928), (2318, 1681), (2318, 1779), (2319, 695), (2319, 1681), (2319, 1682), (2320, 1681), (2320, 1682), (2321, 1682), (2321, 2266), (2322, 1705), (2323, 344), (2323, 1444), (2324, 1282), (2324, 1283), (2324, 1735), (2324, 1776), (2325, 508), (2325, 1768), (2325, 1991), (2326, 878), (2326, 1142), (2326, 1782), (2326, 1998), (2327, 699), (2327, 1490), (2327, 1778), (2327, 2328), (2328, 2327), (2329, 137), (2329, 397), (2329, 2095), (2329, 2144), (2329, 2330), (2329, 2331), (2330, 861), (2330, 2203), (2330, 2329), (2331, 2144), (2331, 2329), (2332, 1125), (2332, 1481), (2332, 1669), (2333, 1042), (2333, 1047), (2333, 1588), (2334, 174), (2334, 1725), (2335, 151), (2335, 627), (2335, 1385), (2335, 1474), (2335, 1481), (2335, 1519), (2335, 2001), (2335, 2259), (2335, 2336), (2336, 1046), (2336, 1202), (2336, 1428), (2336, 2335), (2336, 2524), (2337, 2259), (2338, 1558), (2338, 2555), (2339, 843), (2339, 1191), (2339, 1558), (2339, 2340), (2340, 1558), (2340, 2339), (2341, 780), (2342, 1259), (2343, 30), (2343, 2344), (2344, 279), (2344, 1080), (2344, 2343), (2344, 2475), (2345, 1692), (2346, 1469), (2346, 1692), (2346, 2349), (2347, 456), (2347, 544), (2347, 1692), (2348, 576), (2348, 1692), (2348, 2001), (2349, 1185), (2349, 1460), (2349, 1469), (2349, 1498), (2349, 1692), (2349, 2346), (2349, 2358), (2350, 1178), (2350, 1417), (2350, 1529), (2351, 394), (2351, 577), (2351, 849), (2351, 906), (2351, 1064), (2351, 1129), (2352, 577), (2352, 1064), (2352, 1129), (2353, 577), (2353, 906), (2353, 1129), (2354, 577), (2355, 94), (2355, 2356), (2355, 2357), (2356, 675), (2356, 934), (2356, 2211), (2356, 2355), (2356, 2357), (2357, 39), (2357, 94), (2357, 1846), (2357, 2355), (2357, 2356), (2358, 631), (2358, 1185), (2358, 1460), (2358, 1469), (2358, 2349), (2359, 290), (2359, 480), (2359, 687), (2359, 797), (2359, 1136), (2359, 1171), (2359, 1175), (2359, 1189), (2359, 1433), (2359, 1834), (2359, 2372), (2360, 27), (2360, 606), (2360, 2027), (2360, 2578), (2361, 606), (2362, 442), (2363, 125), (2363, 1555), (2364, 667), (2364, 2051), (2364, 2266), (2365, 391), (2365, 616), (2365, 970), (2365, 998), (2365, 1565), (2365, 1709), (2365, 1738), (2366, 46), (2366, 686), (2366, 1738), (2367, 15), (2367, 395), (2367, 765), (2367, 894), (2367, 1090), (2367, 1093), (2367, 1147), (2367, 1271), (2367, 1598), (2367, 2177), (2367, 2368), (2367, 2369), (2367, 2370), (2367, 2371), (2368, 2367), (2368, 2370), (2369, 2367), (2369, 2370), (2370, 2367), (2370, 2368), (2370, 2369), (2371, 1147), (2371, 2177), (2371, 2367), (2372, 480), (2372, 687), (2372, 2359), (2373, 267), (2374, 20), (2375, 20), (2375, 371), (2375, 1404), (2375, 2270), (2376, 783), (2376, 813), (2376, 911), (2376, 1061), (2376, 1143), (2376, 1202), (2376, 1428), (2377, 372), (2378, 1018), (2378, 2001), (2379, 1107), (2379, 2001), (2379, 2002), (2380, 91), (2380, 2001), (2380, 2123), (2381, 1662), (2381, 1666), (2381, 2001), (2382, 814), (2382, 1158), (2382, 2383), (2383, 299), (2383, 588), (2383, 808), (2383, 814), (2383, 893), (2383, 924), (2383, 1051), (2383, 1484), (2383, 1635), (2383, 2382), (2384, 1655), (2385, 191), (2385, 995), (2385, 1338), (2385, 2102), (2385, 2103), (2385, 2152), (2385, 2304), (2386, 299), (2386, 885), (2386, 1082), (2387, 271), (2387, 299), (2387, 638), (2387, 1046), (2387, 1406), (2387, 1510), (2388, 175), (2388, 551), (2388, 728), (2388, 945), (2388, 1377), (2388, 1914), (2389, 1740), (2389, 2451), (2390, 489), (2390, 1041), (2390, 1740), (2390, 2391), (2390, 2451), (2391, 489), (2391, 1740), (2391, 2390), (2391, 2451), (2392, 535), (2392, 1740), (2392, 2451), (2393, 368), (2393, 1634), (2394, 88), (2394, 471), (2394, 504), (2394, 600), (2394, 724), (2394, 1027), (2394, 1085), (2394, 1174), (2394, 1396), (2394, 1399), (2394, 1420), (2394, 1421), (2394, 2228), (2394, 2395), (2394, 2396), (2394, 2397), (2395, 724), (2395, 1396), (2395, 1501), (2395, 2228), (2395, 2394), (2396, 504), (2396, 1420), (2396, 2394), (2397, 2394), (2398, 1662), (2398, 2493), (2399, 43), (2399, 963), (2399, 1443), (2399, 2240), (2399, 2434), (2400, 43), (2400, 963), (2401, 375), (2401, 963), (2401, 2434), (2401, 2435), (2402, 781), (2402, 2403), (2403, 836), (2403, 2402), (2404, 1912), (2405, 120), (2405, 483), (2405, 816), (2405, 1842), (2405, 1979), (2405, 1980), (2405, 2281), (2406, 523), (2406, 2043), (2407, 573), (2407, 643), (2407, 1313), (2408, 434), (2408, 1693), (2409, 716), (2409, 1057), (2410, 2411), (2411, 2410), (2412, 197), (2412, 469), (2412, 1997), (2413, 1725), (2413, 2414), (2413, 2415), (2414, 1200), (2414, 2413), (2415, 915), (2415, 2413), (2415, 2597), (2416, 1152), (2416, 2417), (2417, 2416), (2418, 57), (2418, 65), (2418, 239), (2418, 572), (2418, 1293), (2418, 2021), (2419, 65), (2419, 74), (2419, 497), (2419, 1848), (2420, 640), (2421, 757), (2422, 847), (2422, 1920), (2423, 279), (2423, 304), (2423, 518), (2423, 2151), (2424, 195), (2424, 1839), (2425, 1341), (2425, 1526), (2425, 1622), (2425, 2099), (2425, 2426), (2426, 2425), (2427, 37), (2427, 349), (2427, 2428), (2428, 2427), (2429, 250), (2430, 201), (2430, 570), (2431, 2432), (2432, 2431), (2433, 1233), (2434, 375), (2434, 963), (2434, 1087), (2434, 2399), (2434, 2401), (2435, 375), (2435, 2401), (2436, 989), (2436, 1507), (2436, 2031), (2436, 2112), (2437, 167), (2437, 168), (2437, 2438), (2438, 168), (2438, 2437), (2439, 867), (2439, 1229), (2439, 2530), (2439, 2652), (2440, 657), (2440, 867), (2440, 1229), (2440, 2530), (2441, 1229), (2441, 1599), (2442, 657), (2442, 867), (2442, 1229), (2442, 2530), (2442, 2614), (2443, 615), (2443, 1742), (2444, 16), (2444, 464), (2444, 580), (2444, 1710), (2444, 1742), (2444, 2503), (2445, 464), (2445, 580), (2445, 1742), (2445, 2503), (2446, 609), (2446, 1216), (2446, 1427), (2446, 1712), (2446, 1716), (2446, 1749), (2446, 2447), (2446, 2448), (2447, 609), (2447, 1037), (2447, 2446), (2448, 609), (2448, 762), (2448, 1041), (2448, 1067), (2448, 2446), (2449, 1523), (2450, 389), (2450, 562), (2450, 704), (2450, 754), (2450, 969), (2450, 1077), (2450, 1284), (2450, 1412), (2450, 1527), (2450, 1620), (2450, 1743), (2450, 2113), (2451, 268), (2451, 367), (2451, 752), (2451, 1757), (2451, 1801), (2451, 1804), (2451, 2389), (2451, 2390), (2451, 2391), (2451, 2392), (2451, 2452), (2452, 2451), (2452, 2685), (2453, 354), (2453, 1839), (2454, 26), (2454, 99), (2454, 122), (2455, 26), (2455, 99), (2455, 122), (2455, 123), (2456, 672), (2456, 817), (2457, 499), (2457, 1917), (2457, 2458), (2457, 2649), (2458, 499), (2458, 2457), (2459, 760), (2459, 2689), (2460, 760), (2460, 1599), (2461, 106), (2462, 1442), (2463, 89), (2463, 340), (2463, 584), (2463, 1157), (2464, 444), (2464, 515), (2464, 584), (2464, 623), (2464, 828), (2464, 1102), (2464, 1207), (2464, 1530), (2464, 1795), (2464, 2289), (2464, 2290), (2464, 2465), (2465, 515), (2465, 1102), (2465, 2464), (2466, 425), (2466, 533), (2466, 1007), (2466, 1758), (2466, 2279), (2467, 2017), (2467, 2468), (2468, 2467), (2469, 365), (2469, 1475), (2470, 614), (2470, 1475), (2471, 48), (2471, 2493), (2472, 192), (2472, 456), (2472, 591), (2472, 642), (2472, 667), (2472, 1017), (2473, 217), (2473, 2648), (2474, 217), (2474, 243), (2475, 1928), (2475, 2344), (2476, 105), (2476, 524), (2476, 564), (2476, 1169), (2476, 1596), (2476, 1721), (2476, 2651), (2477, 2006), (2478, 124), (2479, 1236), (2480, 331), (2480, 712), (2480, 1359), (2481, 610), (2481, 840), (2482, 167), (2482, 1056), (2483, 385), (2483, 2484), (2484, 369), (2484, 385), (2484, 2483), (2485, 252), (2485, 1370), (2485, 1592), (2485, 1792), (2485, 1851), (2485, 2050), (2486, 455), (2486, 1684), (2486, 2147), (2487, 85), (2488, 85), (2489, 1608), (2490, 94), (2490, 2263), (2491, 1360), (2491, 1899), (2491, 1960), (2492, 111), (2492, 301), (2492, 758), (2492, 1169), (2492, 1765), (2493, 157), (2493, 855), (2493, 2398), (2493, 2471), (2494, 417), (2494, 2495), (2495, 833), (2495, 1130), (2495, 1641), (2495, 2494), (2496, 2290), (2497, 388), (2497, 703), (2497, 1578), (2498, 271), (2498, 299), (2498, 1484), (2499, 1117), (2499, 1524), (2500, 722), (2500, 1567), (2500, 1874), (2501, 722), (2501, 1092), (2501, 1106), (2501, 1321), (2501, 1874), (2502, 858), (2503, 403), (2503, 616), (2503, 1038), (2503, 1216), (2503, 2444), (2503, 2445), (2504, 137), (2504, 2095), (2504, 2144), (2505, 406), (2506, 114), (2507, 353), (2507, 1250), (2507, 2221), (2508, 507), (2508, 1300), (2508, 1941), (2509, 1365), (2509, 1987), (2509, 2114), (2509, 2247), (2509, 2519), (2510, 1899), (2511, 2203), (2512, 569), (2513, 1684), (2514, 1154), (2514, 2515), (2515, 246), (2515, 936), (2515, 1154), (2515, 2514), (2515, 2530), (2516, 694), (2516, 801), (2516, 2517), (2517, 941), (2517, 2516), (2518, 148), (2518, 381), (2518, 996), (2518, 1135), (2518, 1257), (2518, 2249), (2518, 2538), (2519, 1365), (2519, 2114), (2519, 2115), (2519, 2509), (2520, 1428), (2520, 1429), (2520, 1484), (2521, 2204), (2522, 657), (2522, 867), (2522, 2656), (2523, 657), (2523, 867), (2524, 1202), (2524, 1428), (2524, 2336), (2525, 154), (2525, 2220), (2526, 560), (2526, 585), (2527, 540), (2528, 826), (2528, 1226), (2529, 959), (2530, 871), (2530, 936), (2530, 2439), (2530, 2440), (2530, 2442), (2530, 2515), (2531, 1026), (2532, 460), (2533, 1201), (2534, 605), (2534, 620), (2534, 729), (2534, 1159), (2534, 2535), (2535, 1186), (2535, 2534), (2536, 1307), (2537, 117), (2537, 259), (2538, 381), (2538, 450), (2538, 492), (2538, 1257), (2538, 2518), (2539, 237), (2539, 2242), (2539, 2540), (2539, 2632), (2540, 2539), (2541, 1591), (2541, 2303), (2542, 843), (2543, 269), (2543, 1000), (2543, 2247), (2544, 3), (2545, 10), (2546, 5), (2546, 466), (2546, 628), (2546, 952), (2547, 488), (2547, 515), (2548, 582), (2549, 582), (2550, 1812), (2551, 269), (2552, 2306), (2553, 728), (2553, 748), (2553, 1368), (2553, 1470), (2553, 1911), (2554, 1136), (2554, 2689), (2555, 792), (2555, 961), (2555, 1728), (2555, 2338), (2555, 2599), (2556, 626), (2556, 1249), (2556, 1610), (2557, 1610), (2558, 626), (2558, 1249), (2558, 1610), (2559, 2308), (2560, 1114), (2560, 1717), (2560, 2561), (2561, 2560), (2562, 292), (2562, 1036), (2563, 1050), (2563, 1081), (2564, 194), (2564, 1050), (2564, 1379), (2564, 1380), (2564, 1451), (2565, 953), (2565, 2566), (2565, 2567), (2566, 953), (2566, 2565), (2567, 953), (2567, 2565), (2568, 1023), (2569, 380), (2569, 477), (2569, 930), (2570, 727), (2570, 1151), (2570, 1386), (2570, 2572), (2570, 2573), (2571, 1386), (2572, 2570), (2573, 1877), (2573, 2570), (2574, 1186), (2575, 1008), (2576, 1680), (2576, 2056), (2576, 2311), (2577, 1235), (2577, 1663), (2578, 27), (2578, 2360), (2579, 972), (2579, 1086), (2579, 1225), (2580, 186), (2580, 972), (2580, 1228), (2580, 1536), (2581, 83), (2581, 449), (2582, 0), (2582, 1166), (2582, 1862), (2583, 247), (2584, 876), (2585, 558), (2585, 1706), (2586, 1375), (2587, 1046), (2588, 2114), (2589, 1185), (2590, 1185), (2590, 1469), (2590, 1498), (2591, 234), (2591, 1552), (2592, 793), (2592, 1903), (2593, 1741), (2594, 218), (2594, 2680), (2595, 833), (2596, 1589), (2596, 1725), (2596, 1745), (2596, 1751), (2597, 915), (2597, 1358), (2597, 1389), (2597, 1725), (2597, 1734), (2597, 2415), (2598, 329), (2599, 961), (2599, 1728), (2599, 2555), (2600, 832), (2601, 1488), (2601, 2609), (2602, 2603), (2603, 2602), (2604, 99), (2604, 123), (2604, 127), (2605, 1348), (2606, 670), (2607, 1003), (2608, 891), (2608, 1674), (2608, 1900), (2609, 411), (2609, 2601), (2610, 1049), (2611, 1239), (2612, 1280), (2612, 1516), (2613, 1095), (2614, 9), (2614, 494), (2614, 723), (2614, 1599), (2614, 2442), (2615, 332), (2615, 2696), (2616, 64), (2616, 1737), (2617, 166), (2618, 2619), (2619, 2618), (2620, 1925), (2621, 1959), (2622, 145), (2623, 946), (2624, 44), (2624, 2701), (2625, 2626), (2626, 2625), (2627, 929), (2628, 67), (2629, 692), (2630, 1957), (2630, 2699), (2631, 66), (2632, 2539), (2633, 1563), (2634, 2635), (2634, 2636), (2635, 2634), (2636, 2634), (2636, 2693), (2637, 2120), (2638, 447), (2639, 917), (2640, 1519), (2641, 535), (2641, 936), (2642, 16), (2642, 358), (2642, 364), (2642, 1756), (2643, 111), (2644, 1885), (2645, 29), (2645, 258), (2645, 706), (2645, 1443), (2646, 194), (2647, 243), (2647, 473), (2647, 1686), (2648, 243), (2648, 1532), (2648, 2473), (2649, 1915), (2649, 2457), (2650, 960), (2651, 59), (2651, 105), (2651, 2476), (2652, 357), (2652, 871), (2652, 2439), (2653, 865), (2653, 1920), (2654, 403), (2654, 1037), (2654, 2655), (2655, 2654), (2656, 1252), (2656, 2522), (2657, 1642), (2658, 1642), (2659, 967), (2660, 1673), (2661, 12), (2661, 1318), (2662, 12), (2662, 1001), (2662, 1318), (2663, 1432), (2663, 1605), (2664, 1438), (2665, 2666), (2666, 2665), (2667, 45), (2667, 486), (2667, 1020), (2667, 2075), (2667, 2076), (2667, 2668), (2668, 14), (2668, 45), (2668, 486), (2668, 2075), (2668, 2667), (2669, 592), (2670, 837), (2670, 1194), (2670, 2679), (2671, 428), (2671, 726), (2671, 1071), (2671, 1109), (2671, 1135), (2671, 1206), (2671, 1257), (2671, 1533), (2671, 1688), (2671, 2249), (2671, 2672), (2671, 2673), (2671, 2674), (2671, 2675), (2672, 2671), (2673, 492), (2673, 1257), (2673, 2671), (2674, 1109), (2674, 2671), (2674, 2675), (2675, 1109), (2675, 2671), (2675, 2674), (2676, 200), (2676, 1439), (2677, 956), (2677, 1257), (2678, 492), (2678, 1135), (2678, 1257), (2679, 177), (2679, 1257), (2679, 1639), (2679, 2670), (2679, 2682), (2680, 1522), (2680, 2594), (2681, 209), (2681, 361), (2681, 1390), (2681, 1449), (2681, 2683), (2682, 177), (2682, 2679), (2683, 2681), (2684, 1320), (2684, 1349), (2685, 296), (2685, 732), (2685, 1718), (2685, 2452), (2686, 1554), (2686, 1657), (2687, 1554), (2687, 2688), (2688, 1554), (2688, 1657), (2688, 2687), (2689, 2459), (2689, 2554), (2690, 611), (2691, 71), (2691, 206), (2692, 1310), (2693, 2636), (2694, 431), (2694, 2695), (2695, 431), (2695, 2694), (2696, 2615), (2697, 986), (2698, 1400), (2698, 1573), (2699, 2630), (2700, 1151), (2701, 44), (2701, 2624), (2702, 186), (2702, 1536), (2703, 1298), (2704, 641), (2705, 287), (2706, 165), (2706, 169), (2706, 1473), (2706, 2707), (2707, 165), (2707, 598), (2707, 1473), (2707, 2706)]\n"
          ]
        }
      ]
    },
    {
      "cell_type": "code",
      "source": [
        "c_ds.x.shape"
      ],
      "metadata": {
        "colab": {
          "base_uri": "https://localhost:8080/"
        },
        "id": "SvOc4n2YWpKl",
        "outputId": "da94e683-b8fe-437e-ddb5-3d411cec54a8"
      },
      "execution_count": null,
      "outputs": [
        {
          "output_type": "execute_result",
          "data": {
            "text/plain": [
              "torch.Size([2708, 1433])"
            ]
          },
          "metadata": {},
          "execution_count": 39
        }
      ]
    },
    {
      "cell_type": "markdown",
      "source": [],
      "metadata": {
        "id": "FjceEv1dWplG"
      }
    },
    {
      "cell_type": "code",
      "source": [
        "c_ds.x[1734].shape"
      ],
      "metadata": {
        "colab": {
          "base_uri": "https://localhost:8080/"
        },
        "id": "lNhVTAhBWpxF",
        "outputId": "b7976601-e119-48f1-e0d8-248707f27c0e"
      },
      "execution_count": null,
      "outputs": [
        {
          "output_type": "execute_result",
          "data": {
            "text/plain": [
              "torch.Size([1433])"
            ]
          },
          "metadata": {},
          "execution_count": 40
        }
      ]
    },
    {
      "cell_type": "markdown",
      "source": [],
      "metadata": {
        "id": "CKK3lUgFWqAV"
      }
    },
    {
      "cell_type": "code",
      "source": [
        "c_ds_10 = c_ds.x[:10]"
      ],
      "metadata": {
        "id": "AvVyt4TIWqPZ"
      },
      "execution_count": null,
      "outputs": []
    },
    {
      "cell_type": "markdown",
      "source": [],
      "metadata": {
        "id": "nyz_KZiJWqW7"
      }
    },
    {
      "cell_type": "code",
      "source": [
        "c_ds_10.shape"
      ],
      "metadata": {
        "colab": {
          "base_uri": "https://localhost:8080/"
        },
        "id": "k3nPskK0WqgF",
        "outputId": "fbc619e1-9be3-4323-df32-c4c4be4cd5ba"
      },
      "execution_count": null,
      "outputs": [
        {
          "output_type": "execute_result",
          "data": {
            "text/plain": [
              "torch.Size([10, 1433])"
            ]
          },
          "metadata": {},
          "execution_count": 42
        }
      ]
    },
    {
      "cell_type": "markdown",
      "source": [],
      "metadata": {
        "id": "hbV3hq1_WqlS"
      }
    },
    {
      "cell_type": "code",
      "source": [
        "type(c_ds_10)"
      ],
      "metadata": {
        "colab": {
          "base_uri": "https://localhost:8080/"
        },
        "id": "ESnUx4UAWqvA",
        "outputId": "4bdb95bb-1bee-408e-9cbd-3dc7f7af4903"
      },
      "execution_count": null,
      "outputs": [
        {
          "output_type": "execute_result",
          "data": {
            "text/plain": [
              "torch.Tensor"
            ]
          },
          "metadata": {},
          "execution_count": 43
        }
      ]
    },
    {
      "cell_type": "markdown",
      "source": [],
      "metadata": {
        "id": "HaBumTGfWq0N"
      }
    },
    {
      "cell_type": "code",
      "source": [
        "c_ds"
      ],
      "metadata": {
        "colab": {
          "base_uri": "https://localhost:8080/"
        },
        "id": "Q66W0AZKWq6H",
        "outputId": "05db7bef-09e1-4fde-c49a-8a51486f41be"
      },
      "execution_count": null,
      "outputs": [
        {
          "output_type": "execute_result",
          "data": {
            "text/plain": [
              "Data(x=[2708, 1433], edge_index=[2, 10556], y=[2708], train_mask=[2708], val_mask=[2708], test_mask=[2708])"
            ]
          },
          "metadata": {},
          "execution_count": 44
        }
      ]
    },
    {
      "cell_type": "code",
      "source": [
        "nx.write_gexf(networkX_graph, 'cora_ex.gexf')\n",
        "\n",
        "\n",
        "nx.write_graphml(networkX_graph, 'cora_ex.graphml')"
      ],
      "metadata": {
        "id": "PizAxRa5W6_d"
      },
      "execution_count": null,
      "outputs": []
    },
    {
      "cell_type": "markdown",
      "source": [
        "# **Cora Dataset from NetworkX**\n",
        "download cora.tgz from the link below:\n",
        "https://linqs-data.soe.ucsc.edu/public/lbc/cora.tgz\n",
        "upload cora.tgz to google colab"
      ],
      "metadata": {
        "id": "0oddRmYjW7K1"
      }
    },
    {
      "cell_type": "code",
      "source": [],
      "metadata": {
        "id": "3VqFB1L1W7RZ"
      },
      "execution_count": null,
      "outputs": []
    },
    {
      "cell_type": "markdown",
      "source": [],
      "metadata": {
        "id": "zqkqSOS0W7cF"
      }
    },
    {
      "cell_type": "code",
      "source": [],
      "metadata": {
        "id": "p929R5sZW7k6"
      },
      "execution_count": null,
      "outputs": []
    },
    {
      "cell_type": "markdown",
      "source": [],
      "metadata": {
        "id": "R6HPZzlGW7qS"
      }
    },
    {
      "cell_type": "code",
      "source": [],
      "metadata": {
        "id": "WoxiSWaXW7wy"
      },
      "execution_count": null,
      "outputs": []
    },
    {
      "cell_type": "markdown",
      "source": [],
      "metadata": {
        "id": "EDDtnxnGW76Y"
      }
    },
    {
      "cell_type": "code",
      "source": [],
      "metadata": {
        "id": "CVyjDc4LW8Ec"
      },
      "execution_count": null,
      "outputs": []
    },
    {
      "cell_type": "markdown",
      "source": [],
      "metadata": {
        "id": "xpsh1t0yW8Kn"
      }
    },
    {
      "cell_type": "code",
      "source": [],
      "metadata": {
        "id": "0ZNvVIVqW8Uc"
      },
      "execution_count": null,
      "outputs": []
    },
    {
      "cell_type": "markdown",
      "source": [],
      "metadata": {
        "id": "bzu0UrFRW8ZP"
      }
    },
    {
      "cell_type": "markdown",
      "source": [],
      "metadata": {
        "id": "gFHSBzGbWrD8"
      }
    },
    {
      "cell_type": "markdown",
      "source": [],
      "metadata": {
        "id": "AvP40Q1gUfQG"
      }
    },
    {
      "cell_type": "markdown",
      "source": [],
      "metadata": {
        "id": "W-9OBtKpOFeR"
      }
    }
  ]
}