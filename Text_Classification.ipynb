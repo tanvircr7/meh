{
  "cells": [
    {
      "cell_type": "markdown",
      "metadata": {
        "id": "view-in-github",
        "colab_type": "text"
      },
      "source": [
        "<a href=\"https://colab.research.google.com/github/tanvircr7/meh/blob/master/Text_Classification.ipynb\" target=\"_parent\"><img src=\"https://colab.research.google.com/assets/colab-badge.svg\" alt=\"Open In Colab\"/></a>"
      ]
    },
    {
      "cell_type": "markdown",
      "metadata": {
        "id": "L_pEveM4fq_w"
      },
      "source": [
        "# **Import Dependencies**"
      ]
    },
    {
      "cell_type": "code",
      "execution_count": null,
      "metadata": {
        "collapsed": true,
        "id": "EM4n-3yWruPz"
      },
      "outputs": [],
      "source": [
        "# # Install dependencies (this is mostly for Google Colab, as the other dependences are available by default in Colab)\n",
        "# try:\n",
        "#   import datasets, evaluate, accelerate\n",
        "#   import gradio as gr\n",
        "# except ModuleNotFoundError:\n",
        "#   !pip install -U datasets evaluate accelerate gradio # -U stands for \"upgrade\" so we'll get the latest version by default\n",
        "#   import datasets, evaluate, accelerate\n",
        "#   import gradio as gr\n",
        "\n",
        "try:\n",
        "  import datasets, evaluate, accelerate\n",
        "  import gradio as gr\n",
        "except ModuleNotFoundError:\n",
        "  !pip install -U datasets evaluate accelerate gradio\n",
        "  import datasets, evaluate, accelerate\n",
        "  import gradio as gr\n",
        "\n",
        "\n",
        "import random\n",
        "\n",
        "import numpy as np\n",
        "import pandas as pd\n",
        "\n",
        "import torch\n",
        "import transformers\n",
        "\n",
        "print(f\"Using transformers version: {transformers.__version__}\")\n",
        "print(f\"Using datasets version: {datasets.__version__}\")\n",
        "print(f\"Using torch version: {torch.__version__}\")"
      ]
    },
    {
      "cell_type": "markdown",
      "metadata": {
        "id": "3SATk0OuhpkD"
      },
      "source": [
        "# **Hugging Face Token**"
      ]
    },
    {
      "cell_type": "code",
      "execution_count": null,
      "metadata": {
        "id": "gD8pGP9Vr589"
      },
      "outputs": [],
      "source": [
        "from google.colab import userdata\n",
        "HF_TOKEN_MASTER = userdata.get('HF_TOKEN_MASTER')\n",
        "HF_TOKEN_MASTER"
      ]
    },
    {
      "cell_type": "markdown",
      "metadata": {
        "id": "isH-e839h3RY"
      },
      "source": [
        "# **Create Dataset**"
      ]
    },
    {
      "cell_type": "code",
      "execution_count": null,
      "metadata": {
        "id": "8lqVZUcNh2tg"
      },
      "outputs": [],
      "source": [
        "# make my own dataset on huggingface using mistral api"
      ]
    },
    {
      "cell_type": "markdown",
      "metadata": {
        "id": "DOZChGkvfu1_"
      },
      "source": [
        "# **Getting Dataset**"
      ]
    },
    {
      "cell_type": "code",
      "execution_count": null,
      "metadata": {
        "id": "kAQrULwGanA7"
      },
      "outputs": [],
      "source": [
        "\n",
        "from datasets import load_dataset\n",
        "dataset = load_dataset(path=\"mrdbourke/learn_hf_food_not_food_image_captions\")\n",
        "dataset"
      ]
    },
    {
      "cell_type": "code",
      "execution_count": null,
      "metadata": {
        "id": "UJoEMOvVfxLu"
      },
      "outputs": [],
      "source": [
        "# dataset['test']"
      ]
    },
    {
      "cell_type": "markdown",
      "metadata": {
        "id": "CSH4dW2VvudT"
      },
      "source": [
        "# ***EDA***"
      ]
    },
    {
      "cell_type": "code",
      "execution_count": null,
      "metadata": {
        "id": "tHO11Xtgfx5l"
      },
      "outputs": [],
      "source": [
        "dataset['train'][0]"
      ]
    },
    {
      "cell_type": "code",
      "execution_count": null,
      "metadata": {
        "id": "MuEqOXoIfx3K"
      },
      "outputs": [],
      "source": [
        "import random\n",
        "random_idx = random.sample(range(len(dataset['train'])), 5)\n",
        "print(random_idx)\n",
        "print('-----------------')\n",
        "random_samples = dataset['train'][random_idx]\n",
        "print(random_samples)\n",
        "print('-----------------')\n",
        "\n",
        "print(f\"[INFO] Random Samples from dataset:\\n\")\n",
        "for text, label in zip(random_samples['text'], random_samples['label']):\n",
        "  print(f\"Text: {text} | Label: {label}\")"
      ]
    },
    {
      "cell_type": "code",
      "execution_count": null,
      "metadata": {
        "id": "xqz7e2hTfx0R"
      },
      "outputs": [],
      "source": [
        "dataset['train'].unique('label')"
      ]
    },
    {
      "cell_type": "code",
      "execution_count": null,
      "metadata": {
        "id": "PseC6ktBfxyD"
      },
      "outputs": [],
      "source": [
        "from collections import Counter\n",
        "c = Counter(dataset['train']['label'])\n",
        "c"
      ]
    },
    {
      "cell_type": "code",
      "execution_count": null,
      "metadata": {
        "id": "D8Wnluuofxuo"
      },
      "outputs": [],
      "source": [
        "# Dataset into Dataframe\n",
        "food_df = pd.DataFrame(dataset['train'])\n",
        "food_df"
      ]
    },
    {
      "cell_type": "code",
      "execution_count": null,
      "metadata": {
        "id": "GBMeQ5_Xfxps"
      },
      "outputs": [],
      "source": [
        "food_df['label'].value_counts()"
      ]
    },
    {
      "cell_type": "markdown",
      "metadata": {
        "id": "ZjHlHq1gvpcV"
      },
      "source": [
        "# **Prep Dataset for Text Classification**"
      ]
    },
    {
      "cell_type": "code",
      "execution_count": null,
      "metadata": {
        "id": "sOqimZrbJL46"
      },
      "outputs": [],
      "source": [
        "dataset['train'].unique('label')"
      ]
    },
    {
      "cell_type": "code",
      "execution_count": null,
      "metadata": {
        "id": "GlwBNw2BfxjB"
      },
      "outputs": [],
      "source": [
        "# mappings from dataset\n",
        "id2Label = {idx: label for idx, label in enumerate(reversed(dataset['train'].unique('label')))}\n",
        "id2Label"
      ]
    },
    {
      "cell_type": "code",
      "execution_count": null,
      "metadata": {
        "id": "Kiry31UQ_yg_"
      },
      "outputs": [],
      "source": [
        "id2Label = {}\n",
        "for idx, label in enumerate(reversed(dataset['train'].unique('label'))):\n",
        "  print(idx, label)\n",
        "  id2Label[idx]=label\n"
      ]
    },
    {
      "cell_type": "code",
      "execution_count": null,
      "metadata": {
        "id": "s8mygsl-Jk16"
      },
      "outputs": [],
      "source": [
        "id2Label"
      ]
    },
    {
      "cell_type": "code",
      "execution_count": null,
      "metadata": {
        "id": "uky5SvgCHK0o"
      },
      "outputs": [],
      "source": [
        "label2Id = {label: idx for idx, label in id2Label.items()}\n",
        "label2Id"
      ]
    },
    {
      "cell_type": "markdown",
      "metadata": {
        "id": "LctkCOUXH62J"
      },
      "source": [
        "now map labels to the numbers"
      ]
    },
    {
      "cell_type": "code",
      "execution_count": null,
      "metadata": {
        "id": "WBerH_sHHUEB"
      },
      "outputs": [],
      "source": [
        "def map_label_to_number(example):\n",
        "  example['label'] = label2Id[example['label']]\n",
        "  return example\n",
        "\n",
        "example_sample = {'text': 'love blueberry pie', 'label': 'food'}\n",
        "map_label_to_number(example_sample)"
      ]
    },
    {
      "cell_type": "code",
      "execution_count": null,
      "metadata": {
        "id": "5_uDGCs6Iaq3"
      },
      "outputs": [],
      "source": [
        "# map our entire dataset labels to numbers using MAP\n",
        "# dataset.map\n",
        "dataset = dataset['train'].map(map_label_to_number)\n",
        "dataset[:5]"
      ]
    },
    {
      "cell_type": "code",
      "execution_count": null,
      "metadata": {
        "id": "i06TBjrwLDQ_"
      },
      "outputs": [],
      "source": [
        "\n",
        "\n",
        "dataset = dataset.train_test_split(test_size=0.2, seed=42)\n",
        "dataset"
      ]
    },
    {
      "cell_type": "code",
      "execution_count": null,
      "metadata": {
        "id": "6c4blmkeMZ1T"
      },
      "outputs": [],
      "source": [
        "random_idx_train = random.randint(0, len(dataset['train']))\n",
        "random_sample_train = dataset['train'][random_idx_train]\n",
        "random_sample_train"
      ]
    },
    {
      "cell_type": "code",
      "execution_count": null,
      "metadata": {
        "id": "JDfZgL9SSrpp"
      },
      "outputs": [],
      "source": [
        "random_idx_test = random.randint(0, len(dataset['test']))\n",
        "random_sample_test = dataset['train'][random_idx_test]\n",
        "random_sample_test"
      ]
    },
    {
      "cell_type": "markdown",
      "metadata": {
        "id": "K1JIlVkmNinh"
      },
      "source": [
        "# ***Tokenize***"
      ]
    },
    {
      "cell_type": "code",
      "execution_count": null,
      "metadata": {
        "id": "2NkQsSLuNHp0"
      },
      "outputs": [],
      "source": [
        "from transformers import AutoTokenizer\n",
        "tokenizer = AutoTokenizer.from_pretrained(pretrained_model_name_or_path=\"distilbert/distilbert-base-uncased\", use_fast=True)\n",
        "tokenizer"
      ]
    },
    {
      "cell_type": "code",
      "execution_count": null,
      "metadata": {
        "id": "Jw8gzNp9NWjK"
      },
      "outputs": [],
      "source": [
        "# test out tokenizer\n",
        "tokenizer('How are you?')"
      ]
    },
    {
      "cell_type": "markdown",
      "metadata": {
        "id": "iG9KoJGFooqy"
      },
      "source": [
        "# ***explore tokenizer***"
      ]
    },
    {
      "cell_type": "code",
      "execution_count": null,
      "metadata": {
        "id": "n9OJ7lw1NWe2"
      },
      "outputs": [],
      "source": [
        "lenght_of_tokenizer_vocab = len(tokenizer.vocab)\n",
        "print(f\"[INFO] number of items in our tokenizer vocab: {lenght_of_tokenizer_vocab}\")\n",
        "max_tokenizer_input_sequence_length = tokenizer.model_max_length\n",
        "print(f\"[INFO] Max tokenizer input sequence length: {max_tokenizer_input_sequence_length}\")"
      ]
    },
    {
      "cell_type": "code",
      "execution_count": null,
      "metadata": {
        "id": "4RwAFF4BNWcE"
      },
      "outputs": [],
      "source": [
        "tokenizer.vocab['hasan']"
      ]
    },
    {
      "cell_type": "code",
      "execution_count": null,
      "metadata": {
        "id": "LqFwFm1GqE2R"
      },
      "outputs": [],
      "source": [
        "tokenizer('hasan')"
      ]
    },
    {
      "cell_type": "code",
      "execution_count": null,
      "metadata": {
        "id": "JnIUDgC_qEz5"
      },
      "outputs": [],
      "source": [
        "tokenizer.convert_ids_to_tokens(tokenizer('hasan').input_ids)"
      ]
    },
    {
      "cell_type": "markdown",
      "metadata": {
        "id": "LYHAlQCExNi_"
      },
      "source": [
        "if the tokenizer deosn't know a word..\n",
        "\n",
        "classification token word seprator token\n"
      ]
    },
    {
      "cell_type": "code",
      "execution_count": null,
      "metadata": {
        "id": "7Q0QgCtAqExJ"
      },
      "outputs": [],
      "source": [
        "sorted(tokenizer.vocab.items())[:5]"
      ]
    },
    {
      "cell_type": "code",
      "execution_count": null,
      "metadata": {
        "id": "wVihT47qqEup"
      },
      "outputs": [],
      "source": [
        "import random\n",
        "random.sample(tokenizer.vocab.items(), k=5)"
      ]
    },
    {
      "cell_type": "markdown",
      "metadata": {
        "id": "QGm9FfXh1I_K"
      },
      "source": [
        "# ***Making a preprocessing function to tokenize text***"
      ]
    },
    {
      "cell_type": "code",
      "execution_count": null,
      "metadata": {
        "id": "hKLhxETwqErx"
      },
      "outputs": [],
      "source": [
        "def tokenize_text(examples):\n",
        "  \"\"\"\n",
        "  Tokenize given example text and return tokenized text\n",
        "  \"\"\"\n",
        "  return tokenizer(examples['text'],\n",
        "                   padding=True,\n",
        "                   truncation=True)"
      ]
    },
    {
      "cell_type": "code",
      "execution_count": null,
      "metadata": {
        "id": "d8IHW7OmqEo9"
      },
      "outputs": [],
      "source": [
        "example_sample_2 = {'text': 'I love pizza', 'label': 1}\n",
        "tokenize_text(example_sample_2)"
      ]
    },
    {
      "cell_type": "code",
      "execution_count": null,
      "metadata": {
        "id": "01kjcBrZqEjr"
      },
      "outputs": [],
      "source": [
        "long_text = 'I love pizza'*1000\n",
        "len(long_text)"
      ]
    },
    {
      "cell_type": "code",
      "execution_count": null,
      "metadata": {
        "id": "86f7mWGhqEgb"
      },
      "outputs": [],
      "source": [
        "tokenize_long_text = tokenize_text({'text': long_text, 'label': 1})\n",
        "len(tokenize_long_text['input_ids'])"
      ]
    },
    {
      "cell_type": "code",
      "execution_count": null,
      "metadata": {
        "id": "LWRQUBfmNWVZ"
      },
      "outputs": [],
      "source": [
        "tokenized_dataset = dataset.map(function=tokenize_text,\n",
        "                                batched=True,\n",
        "                                batch_size=1000)\n",
        "tokenized_dataset"
      ]
    },
    {
      "cell_type": "code",
      "execution_count": null,
      "metadata": {
        "collapsed": true,
        "id": "0Vdx8A4T9MJm"
      },
      "outputs": [],
      "source": [
        "# Get two samples from tokenized dataset\n",
        "train_tokenized_sample = tokenized_dataset['train'][0]\n",
        "test_tokenized_sample = tokenized_dataset['test'][0]\n",
        "\n",
        "for key in train_tokenized_sample.keys():\n",
        "  print(f\"[INFO] {key}\")\n",
        "  print(f\"Train sample: {train_tokenized_sample[key]}\")\n",
        "  print(f\"Test sampel: {test_tokenized_sample[key]}\")"
      ]
    },
    {
      "cell_type": "markdown",
      "metadata": {
        "id": "OEnZHS2-7NIN"
      },
      "source": [
        "# ***Evaluation Meric***"
      ]
    },
    {
      "cell_type": "code",
      "execution_count": null,
      "metadata": {
        "id": "MzvWl1vkqkbP"
      },
      "outputs": [],
      "source": [
        "# import evaluate\n",
        "# import numpy as np\n",
        "# from typing import Tuple\n",
        "\n",
        "# accuracy_metric = evaluate.load(\"accuracy\")\n",
        "# def compute_accuracy(predictions_and_labels: Tuple[np.array, np.array]):\n",
        "#   \"\"\"\n",
        "#   Computes the accuracy of a model by comparing predictions and labels\n",
        "#   \"\"\"\n",
        "#   predictions, labels = predictions_and_labels\n",
        "#   return accuracy_metric.compute(predictions=predictions, references=labels)"
      ]
    },
    {
      "cell_type": "code",
      "execution_count": null,
      "metadata": {
        "id": "KlO8bh58rI61"
      },
      "outputs": [],
      "source": [
        "example_preds_all_correct = np.array([0,0,0,0,0,0,0,0,0,0])\n",
        "example_preds_one_incorrect = np.array([0,0,0,0,0,1,0,0,0,0])\n",
        "example_labels = np.array([0,0,0,0,0,0,0,0,0,0])\n",
        "\n",
        "print(f\"Accuracy when all predictions are correct: {compute_accuracy((example_preds_all_correct, example_labels))}\")\n",
        "print(f\"Accuracy when one prediction is incorrect: {compute_accuracy((example_preds_one_incorrect, example_labels))}\")"
      ]
    },
    {
      "cell_type": "markdown",
      "metadata": {
        "id": "EeKmMifYVUAy"
      },
      "source": [
        "1. ✅ Create and preprocess data.\n",
        "2. Define the model we’d like use with transformers.\n",
        "3. AutoModelForSequenceClassification (or another similar model class).\n",
        "4. Define training arguments (these are hyperparameters for our model) with transformers.TrainingArguments.\n",
        "5. Pass TrainingArguments from 3 and target datasets to an instance of transformers.Trainer.\n",
        "6. Train the model by calling Trainer.train().\n",
        "7. Save the model (to our local machine or to the Hugging Face Hub).\n",
        "8. Evaluate the trained model by making and inspecting predctions on the test data.\n",
        "9. Turn the model into a shareable demo."
      ]
    },
    {
      "cell_type": "markdown",
      "metadata": {
        "id": "VzXJD86MGRzx"
      },
      "source": [
        "# ***Setup Model for Training***"
      ]
    },
    {
      "cell_type": "code",
      "execution_count": 47,
      "metadata": {
        "id": "YOu31XWDrI3Z",
        "colab": {
          "base_uri": "https://localhost:8080/"
        },
        "outputId": "f52a3fd4-ae5d-4d5a-f5ff-6e00895b0543"
      },
      "outputs": [
        {
          "output_type": "stream",
          "name": "stdout",
          "text": [
            "id2label: {0: 'not_food', 1: 'food'}\n",
            "label2id: {'not_food': 0, 'food': 1}\n"
          ]
        }
      ],
      "source": [
        "# Get id and label mappings\n",
        "print(f\"id2label: {id2Label}\")\n",
        "print(f\"label2id: {label2Id}\")"
      ]
    },
    {
      "cell_type": "code",
      "execution_count": 48,
      "metadata": {
        "id": "1Ia__UKzrIwo",
        "colab": {
          "base_uri": "https://localhost:8080/"
        },
        "outputId": "aea44e82-d8e1-48bf-f321-d2ea3098159f"
      },
      "outputs": [
        {
          "output_type": "stream",
          "name": "stderr",
          "text": [
            "Some weights of DistilBertForSequenceClassification were not initialized from the model checkpoint at distilbert/distilbert-base-uncased and are newly initialized: ['classifier.bias', 'classifier.weight', 'pre_classifier.bias', 'pre_classifier.weight']\n",
            "You should probably TRAIN this model on a down-stream task to be able to use it for predictions and inference.\n"
          ]
        }
      ],
      "source": [
        "from transformers import AutoModelForSequenceClassification\n",
        "\n",
        "# setup model for fine-tuning with classification head (top layers of network)\n",
        "model = AutoModelForSequenceClassification.from_pretrained(\n",
        "    pretrained_model_name_or_path = \"distilbert/distilbert-base-uncased\",\n",
        "    num_labels = 2,\n",
        "    id2label = id2Label,\n",
        "    label2id = label2Id\n",
        ")"
      ]
    },
    {
      "cell_type": "code",
      "execution_count": 49,
      "metadata": {
        "collapsed": true,
        "id": "ZHR5jLtKrIsu"
      },
      "outputs": [],
      "source": [
        "test_sample = tokenized_dataset['train'][0]\n"
      ]
    },
    {
      "cell_type": "code",
      "execution_count": 50,
      "metadata": {
        "id": "UTHza_LPrIoz"
      },
      "outputs": [],
      "source": [
        "# model(**test_sample)"
      ]
    },
    {
      "cell_type": "code",
      "execution_count": 51,
      "metadata": {
        "id": "RFIrhuXurIdK",
        "colab": {
          "base_uri": "https://localhost:8080/"
        },
        "outputId": "505a03d6-a768-4950-9485-715305de6715"
      },
      "outputs": [
        {
          "output_type": "execute_result",
          "data": {
            "text/plain": [
              "DistilBertForSequenceClassification(\n",
              "  (distilbert): DistilBertModel(\n",
              "    (embeddings): Embeddings(\n",
              "      (word_embeddings): Embedding(30522, 768, padding_idx=0)\n",
              "      (position_embeddings): Embedding(512, 768)\n",
              "      (LayerNorm): LayerNorm((768,), eps=1e-12, elementwise_affine=True)\n",
              "      (dropout): Dropout(p=0.1, inplace=False)\n",
              "    )\n",
              "    (transformer): Transformer(\n",
              "      (layer): ModuleList(\n",
              "        (0-5): 6 x TransformerBlock(\n",
              "          (attention): MultiHeadSelfAttention(\n",
              "            (dropout): Dropout(p=0.1, inplace=False)\n",
              "            (q_lin): Linear(in_features=768, out_features=768, bias=True)\n",
              "            (k_lin): Linear(in_features=768, out_features=768, bias=True)\n",
              "            (v_lin): Linear(in_features=768, out_features=768, bias=True)\n",
              "            (out_lin): Linear(in_features=768, out_features=768, bias=True)\n",
              "          )\n",
              "          (sa_layer_norm): LayerNorm((768,), eps=1e-12, elementwise_affine=True)\n",
              "          (ffn): FFN(\n",
              "            (dropout): Dropout(p=0.1, inplace=False)\n",
              "            (lin1): Linear(in_features=768, out_features=3072, bias=True)\n",
              "            (lin2): Linear(in_features=3072, out_features=768, bias=True)\n",
              "            (activation): GELUActivation()\n",
              "          )\n",
              "          (output_layer_norm): LayerNorm((768,), eps=1e-12, elementwise_affine=True)\n",
              "        )\n",
              "      )\n",
              "    )\n",
              "  )\n",
              "  (pre_classifier): Linear(in_features=768, out_features=768, bias=True)\n",
              "  (classifier): Linear(in_features=768, out_features=2, bias=True)\n",
              "  (dropout): Dropout(p=0.2, inplace=False)\n",
              ")"
            ]
          },
          "metadata": {},
          "execution_count": 51
        }
      ],
      "source": [
        "model"
      ]
    },
    {
      "cell_type": "markdown",
      "metadata": {
        "id": "22lOSq7njv2T"
      },
      "source": [
        "create a directory for saving models"
      ]
    },
    {
      "cell_type": "code",
      "execution_count": 52,
      "metadata": {
        "id": "VA1JJg0fjM-0",
        "colab": {
          "base_uri": "https://localhost:8080/"
        },
        "outputId": "9eb6090a-a4ef-4b6a-abab-2e867a78fc1f"
      },
      "outputs": [
        {
          "output_type": "execute_result",
          "data": {
            "text/plain": [
              "PosixPath('models/learn_hf_food_not_food_text_classifier-distilbert-base-uncased')"
            ]
          },
          "metadata": {},
          "execution_count": 52
        }
      ],
      "source": [
        "# create model output directory\n",
        "from pathlib import Path\n",
        "\n",
        "models_dir = Path(\"models\")\n",
        "models_dir.mkdir(exist_ok=True)\n",
        "\n",
        "model_save_name = \"learn_hf_food_not_food_text_classifier-distilbert-base-uncased\"\n",
        "\n",
        "model_save_dir = Path(models_dir, model_save_name)\n",
        "\n",
        "model_save_dir"
      ]
    },
    {
      "cell_type": "code",
      "execution_count": 53,
      "metadata": {
        "id": "0B8eJVjrjM8C",
        "colab": {
          "base_uri": "https://localhost:8080/"
        },
        "outputId": "6f68989b-84fe-4899-8093-e8adc54ec349"
      },
      "outputs": [
        {
          "output_type": "execute_result",
          "data": {
            "text/plain": [
              "{'trainable_parameters': 66955010, 'total_parameters': 66955010}"
            ]
          },
          "metadata": {},
          "execution_count": 53
        }
      ],
      "source": [
        "def count_params(model):\n",
        "  trainable_parameters = sum(p.numel() for p in model.parameters() if p.requires_grad)\n",
        "  total_parameters = sum(p.numel() for p in model.parameters())\n",
        "  return {\"trainable_parameters\": trainable_parameters, \"total_parameters\": total_parameters}\n",
        "count_params(model)"
      ]
    },
    {
      "cell_type": "markdown",
      "metadata": {
        "id": "n_yVaTtP6PZs"
      },
      "source": [
        "# ***Training Arguments***"
      ]
    },
    {
      "cell_type": "markdown",
      "metadata": {
        "id": "MbKJXCCMx9mL"
      },
      "source": [
        "1. ✅ Create and preprocess data.\n",
        "2. ✅ Define the model we’d like use with transformers.\n",
        "3. AutoModelForSequenceClassification (or another similar model class).\n",
        "4. Define training arguments (these are hyperparameters for our model) with transformers.TrainingArguments.\n",
        "5. Pass TrainingArguments from 3 and target datasets to an instance of transformers.Trainer.\n",
        "6. Train the model by calling Trainer.train().\n",
        "7. Save the model (to our local machine or to the Hugging Face Hub).\n",
        "8. Evaluate the trained model by making and inspecting predctions on the test data.\n",
        "9. Turn the model into a shareable demo."
      ]
    },
    {
      "cell_type": "code",
      "execution_count": 54,
      "metadata": {
        "id": "7YkjGp-BjM4K",
        "colab": {
          "base_uri": "https://localhost:8080/"
        },
        "outputId": "ff60ec6f-801f-48dd-b3c4-7219d7a5e955"
      },
      "outputs": [
        {
          "output_type": "stream",
          "name": "stdout",
          "text": [
            "[INFO] Saving model checkpoints to: models/learn_hf_food_not_food_text_classifier-distilbert-base-uncased\n"
          ]
        }
      ],
      "source": [
        "from transformers import TrainingArguments\n",
        "\n",
        "print(f\"[INFO] Saving model checkpoints to: {model_save_dir}\")\n",
        "\n",
        "training_args = TrainingArguments(\n",
        "    output_dir = model_save_dir,\n",
        "    learning_rate = 0.0001,\n",
        "    per_device_train_batch_size=32,\n",
        "    per_device_eval_batch_size=32,\n",
        "    num_train_epochs=10,\n",
        "    eval_strategy=\"epoch\",\n",
        "    save_strategy=\"epoch\",\n",
        "    save_total_limit=3,\n",
        "    use_cpu=False,\n",
        "    seed=42,\n",
        "    load_best_model_at_end=True,\n",
        "    logging_strategy=\"epoch\",\n",
        "    report_to=\"none\",\n",
        "    hub_private_repo=False,\n",
        ")\n"
      ]
    },
    {
      "cell_type": "markdown",
      "metadata": {
        "id": "hDqWxak37h1D"
      },
      "source": [
        "# ***Trainer***\n",
        "\n",
        "1. ✅ Create and preprocess data.\n",
        "2. ✅ Define the model we’d like use with transformers.\n",
        "3. ✅ AutoModelForSequenceClassification (or another similar model class).\n",
        "4. Define training arguments (these are hyperparameters for our model) with transformers.TrainingArguments.\n",
        "5. Pass TrainingArguments from 3 and target datasets to an instance of transformers.Trainer.\n",
        "6. Train the model by calling Trainer.train().\n",
        "7. Save the model (to our local machine or to the Hugging Face Hub).\n",
        "8. Evaluate the trained model by making and inspecting predctions on the test data.\n",
        "9. Turn the model into a shareable demo."
      ]
    },
    {
      "cell_type": "code",
      "execution_count": 55,
      "metadata": {
        "id": "acLI68PQsEXk"
      },
      "outputs": [],
      "source": [
        "# OUT OF FLOW\n",
        "# Redoing compute accuracy to fix error\n",
        "import evaluate\n",
        "import numpy as np\n",
        "from typing import Tuple\n",
        "\n",
        "accuracy_metric = evaluate.load(\"accuracy\")\n",
        "def compute_accuracy(predictions_and_labels: Tuple[np.array, np.array]):\n",
        "  \"\"\"\n",
        "  Computes the accuracy of a model by comparing predictions and labels\n",
        "  \"\"\"\n",
        "  predictions, labels = predictions_and_labels\n",
        "\n",
        "  if len(predictions.shape) >= 2:\n",
        "    print(f\"pred shape {predictions.shape}\")\n",
        "    predictions = np.argmax(predictions, axis=1)\n",
        "\n",
        "  return accuracy_metric.compute(predictions=predictions, references=labels)"
      ]
    },
    {
      "cell_type": "code",
      "execution_count": 56,
      "metadata": {
        "id": "-H9ALwFRjM09"
      },
      "outputs": [],
      "source": [
        "from transformers import Trainer\n",
        "\n",
        "trainer = Trainer(\n",
        "    model=model,\n",
        "    args=training_args,\n",
        "    train_dataset=tokenized_dataset[\"train\"],\n",
        "    eval_dataset=tokenized_dataset[\"train\"],\n",
        "    tokenizer=tokenizer,\n",
        "    compute_metrics=compute_accuracy,\n",
        ")"
      ]
    },
    {
      "cell_type": "markdown",
      "metadata": {
        "id": "lZt7X3VK9ZXS"
      },
      "source": [
        "# ***Training our text-classification model***\n",
        "\n",
        "1. ✅ Create and preprocess data.\n",
        "2. ✅ Define the model we’d like use with transformers.\n",
        "3. ✅ AutoModelForSequenceClassification (or another similar model class).\n",
        "4. ✅ Define training arguments (these are hyperparameters for our model) with transformers.TrainingArguments.\n",
        "5. ✅ Pass TrainingArguments from 3 and target datasets to an instance of transformers.Trainer.\n",
        "6. Train the model by calling Trainer.train().\n",
        "7. Save the model (to our local machine or to the Hugging Face Hub).\n",
        "8. Evaluate the trained model by making and inspecting predctions on the test data.\n",
        "9. Turn the model into a shareable demo."
      ]
    },
    {
      "cell_type": "markdown",
      "metadata": {
        "id": "ATkoBinKQ-LH"
      },
      "source": [
        "If you get the ERROR:\n",
        "ValueError                                Traceback (most recent call last)\n",
        "<ipython-input-48-c1b403878abf> in <cell line: 1>()\n",
        "----> 1 results = trainer.train()\n",
        "\n",
        "8 frames\n",
        "/usr/local/lib/python3.10/dist-packages/evaluate/module.py in add_batch(self, predictions, references, **kwargs)\n",
        "    544                     f\"Input references: {summarize_if_long_list(references)}\"\n",
        "    545                 )\n",
        "--> 546             raise ValueError(error_msg) from None\n",
        "    547\n",
        "    548     def add(self, *, prediction=None, reference=None, **kwargs):\n",
        "\n",
        "ValueError: Predictions and/or references don't match the expected format.\n",
        "Expected format: {'predictions': Value(dtype='int32', id=None), 'references': Value(dtype='int32', id=None)},\n",
        "Input predictions: [[ 1.3885518 -1.3348335]"
      ]
    },
    {
      "cell_type": "code",
      "execution_count": 57,
      "metadata": {
        "id": "eqwewyVJUE1t",
        "colab": {
          "base_uri": "https://localhost:8080/"
        },
        "outputId": "ec2886e8-be22-4479-b2c2-7985fd5e32e8"
      },
      "outputs": [
        {
          "output_type": "stream",
          "name": "stdout",
          "text": [
            "2\n",
            "[0]\n"
          ]
        }
      ],
      "source": [
        "input_predictions = np.array([[ 1.3885518, -1.3348335]])\n",
        "input_references = np.array([1])\n",
        "# we were having shape mismatch\n",
        "# fix it by argmaxing value 1 and 2\n",
        "# we're gonna use below code snippet to fix things\n",
        "print(len(input_predictions.shape))\n",
        "if len(input_predictions.shape) >= 2:\n",
        "  input_predictions = np.argmax(input_predictions, axis=1)\n",
        "\n",
        "print(input_predictions)"
      ]
    },
    {
      "cell_type": "code",
      "execution_count": 58,
      "metadata": {
        "id": "3LYeTpJrUncf"
      },
      "outputs": [],
      "source": [
        "import evaluate\n",
        "import numpy as np\n",
        "from typing import Tuple\n",
        "\n",
        "accuracy_metric = evaluate.load(\"accuracy\")\n",
        "def compute_accuracy(predictions_and_labels: Tuple[np.array, np.array]):\n",
        "  \"\"\"\n",
        "  Computes the accuracy of a model by comparing predictions and labels\n",
        "  \"\"\"\n",
        "  predictions, labels = predictions_and_labels\n",
        "\n",
        "  if len(predictions.shape) >= 2:\n",
        "    print(f\"pred shape {predictions.shape}\")\n",
        "    predictions = np.argmax(predictions, axis=1)\n",
        "\n",
        "  return accuracy_metric.compute(predictions=predictions, references=labels)"
      ]
    },
    {
      "cell_type": "code",
      "execution_count": 59,
      "metadata": {
        "id": "Awph8k0Tq8Gs",
        "colab": {
          "base_uri": "https://localhost:8080/"
        },
        "outputId": "6cbe00ab-61aa-48cb-c24e-d37b0fd2a8c5"
      },
      "outputs": [
        {
          "output_type": "execute_result",
          "data": {
            "text/plain": [
              "{'accuracy': 0.0}"
            ]
          },
          "metadata": {},
          "execution_count": 59
        }
      ],
      "source": [
        "compute_accuracy(predictions_and_labels=(input_predictions, input_references))"
      ]
    },
    {
      "cell_type": "code",
      "execution_count": 60,
      "metadata": {
        "id": "Xax4r2DcjMwK",
        "colab": {
          "base_uri": "https://localhost:8080/",
          "height": 562
        },
        "outputId": "34e2e44a-adc7-4964-a5d3-56fbccd0b697"
      },
      "outputs": [
        {
          "output_type": "display_data",
          "data": {
            "text/plain": [
              "<IPython.core.display.HTML object>"
            ],
            "text/html": [
              "\n",
              "    <div>\n",
              "      \n",
              "      <progress value='70' max='70' style='width:300px; height:20px; vertical-align: middle;'></progress>\n",
              "      [70/70 10:21, Epoch 10/10]\n",
              "    </div>\n",
              "    <table border=\"1\" class=\"dataframe\">\n",
              "  <thead>\n",
              " <tr style=\"text-align: left;\">\n",
              "      <th>Epoch</th>\n",
              "      <th>Training Loss</th>\n",
              "      <th>Validation Loss</th>\n",
              "      <th>Accuracy</th>\n",
              "    </tr>\n",
              "  </thead>\n",
              "  <tbody>\n",
              "    <tr>\n",
              "      <td>1</td>\n",
              "      <td>0.388500</td>\n",
              "      <td>0.056904</td>\n",
              "      <td>1.000000</td>\n",
              "    </tr>\n",
              "    <tr>\n",
              "      <td>2</td>\n",
              "      <td>0.026700</td>\n",
              "      <td>0.005866</td>\n",
              "      <td>1.000000</td>\n",
              "    </tr>\n",
              "    <tr>\n",
              "      <td>3</td>\n",
              "      <td>0.004500</td>\n",
              "      <td>0.001969</td>\n",
              "      <td>1.000000</td>\n",
              "    </tr>\n",
              "    <tr>\n",
              "      <td>4</td>\n",
              "      <td>0.001800</td>\n",
              "      <td>0.001077</td>\n",
              "      <td>1.000000</td>\n",
              "    </tr>\n",
              "    <tr>\n",
              "      <td>5</td>\n",
              "      <td>0.001100</td>\n",
              "      <td>0.000766</td>\n",
              "      <td>1.000000</td>\n",
              "    </tr>\n",
              "    <tr>\n",
              "      <td>6</td>\n",
              "      <td>0.000900</td>\n",
              "      <td>0.000626</td>\n",
              "      <td>1.000000</td>\n",
              "    </tr>\n",
              "    <tr>\n",
              "      <td>7</td>\n",
              "      <td>0.000700</td>\n",
              "      <td>0.000552</td>\n",
              "      <td>1.000000</td>\n",
              "    </tr>\n",
              "    <tr>\n",
              "      <td>8</td>\n",
              "      <td>0.000700</td>\n",
              "      <td>0.000511</td>\n",
              "      <td>1.000000</td>\n",
              "    </tr>\n",
              "    <tr>\n",
              "      <td>9</td>\n",
              "      <td>0.000700</td>\n",
              "      <td>0.000490</td>\n",
              "      <td>1.000000</td>\n",
              "    </tr>\n",
              "    <tr>\n",
              "      <td>10</td>\n",
              "      <td>0.000600</td>\n",
              "      <td>0.000483</td>\n",
              "      <td>1.000000</td>\n",
              "    </tr>\n",
              "  </tbody>\n",
              "</table><p>"
            ]
          },
          "metadata": {}
        },
        {
          "output_type": "stream",
          "name": "stdout",
          "text": [
            "pred shape (200, 2)\n",
            "pred shape (200, 2)\n",
            "pred shape (200, 2)\n",
            "pred shape (200, 2)\n",
            "pred shape (200, 2)\n",
            "pred shape (200, 2)\n",
            "pred shape (200, 2)\n",
            "pred shape (200, 2)\n",
            "pred shape (200, 2)\n",
            "pred shape (200, 2)\n"
          ]
        }
      ],
      "source": [
        "results = trainer.train()"
      ]
    },
    {
      "cell_type": "code",
      "execution_count": 61,
      "metadata": {
        "id": "pDkoASvYrIZd",
        "colab": {
          "base_uri": "https://localhost:8080/"
        },
        "outputId": "eec39ed9-5cb0-4bd4-bd92-98e7741c819e"
      },
      "outputs": [
        {
          "output_type": "execute_result",
          "data": {
            "text/plain": [
              "{'train_runtime': 631.7961,\n",
              " 'train_samples_per_second': 3.166,\n",
              " 'train_steps_per_second': 0.111,\n",
              " 'total_flos': 18110777160000.0,\n",
              " 'train_loss': 0.04261395772253829,\n",
              " 'epoch': 10.0}"
            ]
          },
          "metadata": {},
          "execution_count": 61
        }
      ],
      "source": [
        "results.metrics"
      ]
    },
    {
      "cell_type": "code",
      "execution_count": 62,
      "metadata": {
        "id": "Pny_OUZKuRky",
        "colab": {
          "base_uri": "https://localhost:8080/"
        },
        "outputId": "23c8f366-ece5-46d8-c4ab-8f1796f4388b"
      },
      "outputs": [
        {
          "output_type": "stream",
          "name": "stdout",
          "text": [
            "train_runtime: 631.7961\n",
            "train_samples_per_second: 3.166\n",
            "train_steps_per_second: 0.111\n",
            "total_flos: 18110777160000.0\n",
            "train_loss: 0.04261395772253829\n",
            "epoch: 10.0\n"
          ]
        }
      ],
      "source": [
        "for key, value in results.metrics.items():\n",
        "  print(f\"{key}: {value}\")"
      ]
    },
    {
      "cell_type": "markdown",
      "metadata": {
        "id": "iES8Pe81yvAV"
      },
      "source": [
        "# ***Save Model for later***\n",
        "\n",
        "saving model in colab is temporary so you have to save it in hugging face later on"
      ]
    },
    {
      "cell_type": "code",
      "execution_count": 63,
      "metadata": {
        "id": "G3LT11XUuRhs"
      },
      "outputs": [],
      "source": [
        "trainer.save_model(output_dir=model_save_dir)"
      ]
    },
    {
      "cell_type": "markdown",
      "metadata": {
        "id": "OrkC9pCz48GK"
      },
      "source": [
        "inspecting model training metrics"
      ]
    },
    {
      "cell_type": "code",
      "execution_count": 64,
      "metadata": {
        "id": "O-wwSZVWuReQ",
        "colab": {
          "base_uri": "https://localhost:8080/"
        },
        "outputId": "6600dcc2-0081-4581-f17c-fbcdf46c7843"
      },
      "outputs": [
        {
          "output_type": "execute_result",
          "data": {
            "text/plain": [
              "[{'loss': 0.3885,\n",
              "  'grad_norm': 1.551780343055725,\n",
              "  'learning_rate': 9e-05,\n",
              "  'epoch': 1.0,\n",
              "  'step': 7},\n",
              " {'eval_loss': 0.05690372362732887,\n",
              "  'eval_accuracy': 1.0,\n",
              "  'eval_runtime': 12.8434,\n",
              "  'eval_samples_per_second': 15.572,\n",
              "  'eval_steps_per_second': 0.545,\n",
              "  'epoch': 1.0,\n",
              "  'step': 7},\n",
              " {'loss': 0.0267,\n",
              "  'grad_norm': 0.13890035450458527,\n",
              "  'learning_rate': 8e-05,\n",
              "  'epoch': 2.0,\n",
              "  'step': 14},\n",
              " {'eval_loss': 0.005866030231118202,\n",
              "  'eval_accuracy': 1.0,\n",
              "  'eval_runtime': 10.7382,\n",
              "  'eval_samples_per_second': 18.625,\n",
              "  'eval_steps_per_second': 0.652,\n",
              "  'epoch': 2.0,\n",
              "  'step': 14}]"
            ]
          },
          "metadata": {},
          "execution_count": 64
        }
      ],
      "source": [
        "trainer_history_all = trainer.state.log_history\n",
        "trainer_history_metrics = trainer_history_all[:-1]\n",
        "trainer_history_training_time = trainer_history_all[-1]\n",
        "\n",
        "trainer_history_metrics[:4]"
      ]
    },
    {
      "cell_type": "markdown",
      "metadata": {
        "id": "DHP0YLTr9Lsp"
      },
      "source": [
        "separate training and eval metrics"
      ]
    },
    {
      "cell_type": "code",
      "execution_count": 65,
      "metadata": {
        "id": "HbL8ubyPuRXg",
        "colab": {
          "base_uri": "https://localhost:8080/"
        },
        "outputId": "5d576c81-de96-40eb-c9c3-09167de8a603"
      },
      "outputs": [
        {
          "output_type": "stream",
          "name": "stdout",
          "text": [
            "[INFO] First two items in training set: \n",
            "[{'epoch': 1.0,\n",
            "  'grad_norm': 1.551780343055725,\n",
            "  'learning_rate': 9e-05,\n",
            "  'loss': 0.3885,\n",
            "  'step': 7},\n",
            " {'epoch': 2.0,\n",
            "  'grad_norm': 0.13890035450458527,\n",
            "  'learning_rate': 8e-05,\n",
            "  'loss': 0.0267,\n",
            "  'step': 14}]\n",
            "[INFO] First two items in eval set: \n",
            "[{'epoch': 1.0,\n",
            "  'eval_accuracy': 1.0,\n",
            "  'eval_loss': 0.05690372362732887,\n",
            "  'eval_runtime': 12.8434,\n",
            "  'eval_samples_per_second': 15.572,\n",
            "  'eval_steps_per_second': 0.545,\n",
            "  'step': 7},\n",
            " {'epoch': 2.0,\n",
            "  'eval_accuracy': 1.0,\n",
            "  'eval_loss': 0.005866030231118202,\n",
            "  'eval_runtime': 10.7382,\n",
            "  'eval_samples_per_second': 18.625,\n",
            "  'eval_steps_per_second': 0.652,\n",
            "  'step': 14}]\n"
          ]
        }
      ],
      "source": [
        "import pprint\n",
        "trainer_history_training_set = []\n",
        "trainer_history_eval_set = []\n",
        "\n",
        "# Loop through and filer training and eval metrics\n",
        "for item in trainer_history_metrics:\n",
        "  item_keys = list(item.keys())\n",
        "  if any(\"eval\" in item for item in item_keys):\n",
        "    trainer_history_eval_set.append(item)\n",
        "  else:\n",
        "    trainer_history_training_set.append(item)\n",
        "\n",
        "# first two items\n",
        "print(f\"[INFO] First two items in training set: \")\n",
        "pprint.pprint(trainer_history_training_set[:2])\n",
        "print(f\"[INFO] First two items in eval set: \")\n",
        "pprint.pprint(trainer_history_eval_set[:2])"
      ]
    },
    {
      "cell_type": "code",
      "execution_count": 66,
      "metadata": {
        "id": "slkWEu_7900w",
        "colab": {
          "base_uri": "https://localhost:8080/",
          "height": 206
        },
        "outputId": "584ac68e-a850-45b9-d94d-f960bf70fb0e"
      },
      "outputs": [
        {
          "output_type": "execute_result",
          "data": {
            "text/plain": [
              "     loss  grad_norm  learning_rate  epoch  step\n",
              "0  0.3885   1.551780        0.00009    1.0     7\n",
              "1  0.0267   0.138900        0.00008    2.0    14\n",
              "2  0.0045   0.045092        0.00007    3.0    21\n",
              "3  0.0018   0.024609        0.00006    4.0    28\n",
              "4  0.0011   0.016214        0.00005    5.0    35"
            ],
            "text/html": [
              "\n",
              "  <div id=\"df-4038acb2-d02d-4d35-9f47-cd1cbc1c817a\" class=\"colab-df-container\">\n",
              "    <div>\n",
              "<style scoped>\n",
              "    .dataframe tbody tr th:only-of-type {\n",
              "        vertical-align: middle;\n",
              "    }\n",
              "\n",
              "    .dataframe tbody tr th {\n",
              "        vertical-align: top;\n",
              "    }\n",
              "\n",
              "    .dataframe thead th {\n",
              "        text-align: right;\n",
              "    }\n",
              "</style>\n",
              "<table border=\"1\" class=\"dataframe\">\n",
              "  <thead>\n",
              "    <tr style=\"text-align: right;\">\n",
              "      <th></th>\n",
              "      <th>loss</th>\n",
              "      <th>grad_norm</th>\n",
              "      <th>learning_rate</th>\n",
              "      <th>epoch</th>\n",
              "      <th>step</th>\n",
              "    </tr>\n",
              "  </thead>\n",
              "  <tbody>\n",
              "    <tr>\n",
              "      <th>0</th>\n",
              "      <td>0.3885</td>\n",
              "      <td>1.551780</td>\n",
              "      <td>0.00009</td>\n",
              "      <td>1.0</td>\n",
              "      <td>7</td>\n",
              "    </tr>\n",
              "    <tr>\n",
              "      <th>1</th>\n",
              "      <td>0.0267</td>\n",
              "      <td>0.138900</td>\n",
              "      <td>0.00008</td>\n",
              "      <td>2.0</td>\n",
              "      <td>14</td>\n",
              "    </tr>\n",
              "    <tr>\n",
              "      <th>2</th>\n",
              "      <td>0.0045</td>\n",
              "      <td>0.045092</td>\n",
              "      <td>0.00007</td>\n",
              "      <td>3.0</td>\n",
              "      <td>21</td>\n",
              "    </tr>\n",
              "    <tr>\n",
              "      <th>3</th>\n",
              "      <td>0.0018</td>\n",
              "      <td>0.024609</td>\n",
              "      <td>0.00006</td>\n",
              "      <td>4.0</td>\n",
              "      <td>28</td>\n",
              "    </tr>\n",
              "    <tr>\n",
              "      <th>4</th>\n",
              "      <td>0.0011</td>\n",
              "      <td>0.016214</td>\n",
              "      <td>0.00005</td>\n",
              "      <td>5.0</td>\n",
              "      <td>35</td>\n",
              "    </tr>\n",
              "  </tbody>\n",
              "</table>\n",
              "</div>\n",
              "    <div class=\"colab-df-buttons\">\n",
              "\n",
              "  <div class=\"colab-df-container\">\n",
              "    <button class=\"colab-df-convert\" onclick=\"convertToInteractive('df-4038acb2-d02d-4d35-9f47-cd1cbc1c817a')\"\n",
              "            title=\"Convert this dataframe to an interactive table.\"\n",
              "            style=\"display:none;\">\n",
              "\n",
              "  <svg xmlns=\"http://www.w3.org/2000/svg\" height=\"24px\" viewBox=\"0 -960 960 960\">\n",
              "    <path d=\"M120-120v-720h720v720H120Zm60-500h600v-160H180v160Zm220 220h160v-160H400v160Zm0 220h160v-160H400v160ZM180-400h160v-160H180v160Zm440 0h160v-160H620v160ZM180-180h160v-160H180v160Zm440 0h160v-160H620v160Z\"/>\n",
              "  </svg>\n",
              "    </button>\n",
              "\n",
              "  <style>\n",
              "    .colab-df-container {\n",
              "      display:flex;\n",
              "      gap: 12px;\n",
              "    }\n",
              "\n",
              "    .colab-df-convert {\n",
              "      background-color: #E8F0FE;\n",
              "      border: none;\n",
              "      border-radius: 50%;\n",
              "      cursor: pointer;\n",
              "      display: none;\n",
              "      fill: #1967D2;\n",
              "      height: 32px;\n",
              "      padding: 0 0 0 0;\n",
              "      width: 32px;\n",
              "    }\n",
              "\n",
              "    .colab-df-convert:hover {\n",
              "      background-color: #E2EBFA;\n",
              "      box-shadow: 0px 1px 2px rgba(60, 64, 67, 0.3), 0px 1px 3px 1px rgba(60, 64, 67, 0.15);\n",
              "      fill: #174EA6;\n",
              "    }\n",
              "\n",
              "    .colab-df-buttons div {\n",
              "      margin-bottom: 4px;\n",
              "    }\n",
              "\n",
              "    [theme=dark] .colab-df-convert {\n",
              "      background-color: #3B4455;\n",
              "      fill: #D2E3FC;\n",
              "    }\n",
              "\n",
              "    [theme=dark] .colab-df-convert:hover {\n",
              "      background-color: #434B5C;\n",
              "      box-shadow: 0px 1px 3px 1px rgba(0, 0, 0, 0.15);\n",
              "      filter: drop-shadow(0px 1px 2px rgba(0, 0, 0, 0.3));\n",
              "      fill: #FFFFFF;\n",
              "    }\n",
              "  </style>\n",
              "\n",
              "    <script>\n",
              "      const buttonEl =\n",
              "        document.querySelector('#df-4038acb2-d02d-4d35-9f47-cd1cbc1c817a button.colab-df-convert');\n",
              "      buttonEl.style.display =\n",
              "        google.colab.kernel.accessAllowed ? 'block' : 'none';\n",
              "\n",
              "      async function convertToInteractive(key) {\n",
              "        const element = document.querySelector('#df-4038acb2-d02d-4d35-9f47-cd1cbc1c817a');\n",
              "        const dataTable =\n",
              "          await google.colab.kernel.invokeFunction('convertToInteractive',\n",
              "                                                    [key], {});\n",
              "        if (!dataTable) return;\n",
              "\n",
              "        const docLinkHtml = 'Like what you see? Visit the ' +\n",
              "          '<a target=\"_blank\" href=https://colab.research.google.com/notebooks/data_table.ipynb>data table notebook</a>'\n",
              "          + ' to learn more about interactive tables.';\n",
              "        element.innerHTML = '';\n",
              "        dataTable['output_type'] = 'display_data';\n",
              "        await google.colab.output.renderOutput(dataTable, element);\n",
              "        const docLink = document.createElement('div');\n",
              "        docLink.innerHTML = docLinkHtml;\n",
              "        element.appendChild(docLink);\n",
              "      }\n",
              "    </script>\n",
              "  </div>\n",
              "\n",
              "\n",
              "<div id=\"df-462c4908-9321-4007-9d8d-eab4d978926e\">\n",
              "  <button class=\"colab-df-quickchart\" onclick=\"quickchart('df-462c4908-9321-4007-9d8d-eab4d978926e')\"\n",
              "            title=\"Suggest charts\"\n",
              "            style=\"display:none;\">\n",
              "\n",
              "<svg xmlns=\"http://www.w3.org/2000/svg\" height=\"24px\"viewBox=\"0 0 24 24\"\n",
              "     width=\"24px\">\n",
              "    <g>\n",
              "        <path d=\"M19 3H5c-1.1 0-2 .9-2 2v14c0 1.1.9 2 2 2h14c1.1 0 2-.9 2-2V5c0-1.1-.9-2-2-2zM9 17H7v-7h2v7zm4 0h-2V7h2v10zm4 0h-2v-4h2v4z\"/>\n",
              "    </g>\n",
              "</svg>\n",
              "  </button>\n",
              "\n",
              "<style>\n",
              "  .colab-df-quickchart {\n",
              "      --bg-color: #E8F0FE;\n",
              "      --fill-color: #1967D2;\n",
              "      --hover-bg-color: #E2EBFA;\n",
              "      --hover-fill-color: #174EA6;\n",
              "      --disabled-fill-color: #AAA;\n",
              "      --disabled-bg-color: #DDD;\n",
              "  }\n",
              "\n",
              "  [theme=dark] .colab-df-quickchart {\n",
              "      --bg-color: #3B4455;\n",
              "      --fill-color: #D2E3FC;\n",
              "      --hover-bg-color: #434B5C;\n",
              "      --hover-fill-color: #FFFFFF;\n",
              "      --disabled-bg-color: #3B4455;\n",
              "      --disabled-fill-color: #666;\n",
              "  }\n",
              "\n",
              "  .colab-df-quickchart {\n",
              "    background-color: var(--bg-color);\n",
              "    border: none;\n",
              "    border-radius: 50%;\n",
              "    cursor: pointer;\n",
              "    display: none;\n",
              "    fill: var(--fill-color);\n",
              "    height: 32px;\n",
              "    padding: 0;\n",
              "    width: 32px;\n",
              "  }\n",
              "\n",
              "  .colab-df-quickchart:hover {\n",
              "    background-color: var(--hover-bg-color);\n",
              "    box-shadow: 0 1px 2px rgba(60, 64, 67, 0.3), 0 1px 3px 1px rgba(60, 64, 67, 0.15);\n",
              "    fill: var(--button-hover-fill-color);\n",
              "  }\n",
              "\n",
              "  .colab-df-quickchart-complete:disabled,\n",
              "  .colab-df-quickchart-complete:disabled:hover {\n",
              "    background-color: var(--disabled-bg-color);\n",
              "    fill: var(--disabled-fill-color);\n",
              "    box-shadow: none;\n",
              "  }\n",
              "\n",
              "  .colab-df-spinner {\n",
              "    border: 2px solid var(--fill-color);\n",
              "    border-color: transparent;\n",
              "    border-bottom-color: var(--fill-color);\n",
              "    animation:\n",
              "      spin 1s steps(1) infinite;\n",
              "  }\n",
              "\n",
              "  @keyframes spin {\n",
              "    0% {\n",
              "      border-color: transparent;\n",
              "      border-bottom-color: var(--fill-color);\n",
              "      border-left-color: var(--fill-color);\n",
              "    }\n",
              "    20% {\n",
              "      border-color: transparent;\n",
              "      border-left-color: var(--fill-color);\n",
              "      border-top-color: var(--fill-color);\n",
              "    }\n",
              "    30% {\n",
              "      border-color: transparent;\n",
              "      border-left-color: var(--fill-color);\n",
              "      border-top-color: var(--fill-color);\n",
              "      border-right-color: var(--fill-color);\n",
              "    }\n",
              "    40% {\n",
              "      border-color: transparent;\n",
              "      border-right-color: var(--fill-color);\n",
              "      border-top-color: var(--fill-color);\n",
              "    }\n",
              "    60% {\n",
              "      border-color: transparent;\n",
              "      border-right-color: var(--fill-color);\n",
              "    }\n",
              "    80% {\n",
              "      border-color: transparent;\n",
              "      border-right-color: var(--fill-color);\n",
              "      border-bottom-color: var(--fill-color);\n",
              "    }\n",
              "    90% {\n",
              "      border-color: transparent;\n",
              "      border-bottom-color: var(--fill-color);\n",
              "    }\n",
              "  }\n",
              "</style>\n",
              "\n",
              "  <script>\n",
              "    async function quickchart(key) {\n",
              "      const quickchartButtonEl =\n",
              "        document.querySelector('#' + key + ' button');\n",
              "      quickchartButtonEl.disabled = true;  // To prevent multiple clicks.\n",
              "      quickchartButtonEl.classList.add('colab-df-spinner');\n",
              "      try {\n",
              "        const charts = await google.colab.kernel.invokeFunction(\n",
              "            'suggestCharts', [key], {});\n",
              "      } catch (error) {\n",
              "        console.error('Error during call to suggestCharts:', error);\n",
              "      }\n",
              "      quickchartButtonEl.classList.remove('colab-df-spinner');\n",
              "      quickchartButtonEl.classList.add('colab-df-quickchart-complete');\n",
              "    }\n",
              "    (() => {\n",
              "      let quickchartButtonEl =\n",
              "        document.querySelector('#df-462c4908-9321-4007-9d8d-eab4d978926e button');\n",
              "      quickchartButtonEl.style.display =\n",
              "        google.colab.kernel.accessAllowed ? 'block' : 'none';\n",
              "    })();\n",
              "  </script>\n",
              "</div>\n",
              "\n",
              "    </div>\n",
              "  </div>\n"
            ],
            "application/vnd.google.colaboratory.intrinsic+json": {
              "type": "dataframe",
              "variable_name": "trainer_history_training_df",
              "summary": "{\n  \"name\": \"trainer_history_training_df\",\n  \"rows\": 10,\n  \"fields\": [\n    {\n      \"column\": \"loss\",\n      \"properties\": {\n        \"dtype\": \"number\",\n        \"std\": 0.1217957470521857,\n        \"min\": 0.0006,\n        \"max\": 0.3885,\n        \"num_unique_values\": 8,\n        \"samples\": [\n          0.0267,\n          0.0009,\n          0.3885\n        ],\n        \"semantic_type\": \"\",\n        \"description\": \"\"\n      }\n    },\n    {\n      \"column\": \"grad_norm\",\n      \"properties\": {\n        \"dtype\": \"number\",\n        \"std\": 0.4820977492025647,\n        \"min\": 0.011129888705909252,\n        \"max\": 1.551780343055725,\n        \"num_unique_values\": 10,\n        \"samples\": [\n          0.013595999218523502,\n          0.13890035450458527,\n          0.016215087845921516\n        ],\n        \"semantic_type\": \"\",\n        \"description\": \"\"\n      }\n    },\n    {\n      \"column\": \"learning_rate\",\n      \"properties\": {\n        \"dtype\": \"number\",\n        \"std\": 3.0276503540974917e-05,\n        \"min\": 0.0,\n        \"max\": 9e-05,\n        \"num_unique_values\": 10,\n        \"samples\": [\n          1e-05,\n          8e-05,\n          4e-05\n        ],\n        \"semantic_type\": \"\",\n        \"description\": \"\"\n      }\n    },\n    {\n      \"column\": \"epoch\",\n      \"properties\": {\n        \"dtype\": \"number\",\n        \"std\": 3.0276503540974917,\n        \"min\": 1.0,\n        \"max\": 10.0,\n        \"num_unique_values\": 10,\n        \"samples\": [\n          9.0,\n          2.0,\n          6.0\n        ],\n        \"semantic_type\": \"\",\n        \"description\": \"\"\n      }\n    },\n    {\n      \"column\": \"step\",\n      \"properties\": {\n        \"dtype\": \"number\",\n        \"std\": 21,\n        \"min\": 7,\n        \"max\": 70,\n        \"num_unique_values\": 10,\n        \"samples\": [\n          63,\n          14,\n          42\n        ],\n        \"semantic_type\": \"\",\n        \"description\": \"\"\n      }\n    }\n  ]\n}"
            }
          },
          "metadata": {},
          "execution_count": 66
        }
      ],
      "source": [
        "# turning metrics into dataframe to view it better\n",
        "trainer_history_training_df = pd.DataFrame(trainer_history_training_set)\n",
        "trainer_history_eval_df = pd.DataFrame(trainer_history_eval_set)\n",
        "\n",
        "trainer_history_training_df.head()"
      ]
    },
    {
      "cell_type": "code",
      "execution_count": 67,
      "metadata": {
        "id": "x1vKHu0l-PYP",
        "colab": {
          "base_uri": "https://localhost:8080/",
          "height": 206
        },
        "outputId": "ec714a25-2fab-4711-f207-fc4f171d5151"
      },
      "outputs": [
        {
          "output_type": "execute_result",
          "data": {
            "text/plain": [
              "   eval_loss  eval_accuracy  eval_runtime  eval_samples_per_second  \\\n",
              "0   0.056904            1.0       12.8434                   15.572   \n",
              "1   0.005866            1.0       10.7382                   18.625   \n",
              "2   0.001969            1.0       11.8264                   16.911   \n",
              "3   0.001077            1.0       11.9087                   16.795   \n",
              "4   0.000766            1.0       11.3009                   17.698   \n",
              "\n",
              "   eval_steps_per_second  epoch  step  \n",
              "0                  0.545    1.0     7  \n",
              "1                  0.652    2.0    14  \n",
              "2                  0.592    3.0    21  \n",
              "3                  0.588    4.0    28  \n",
              "4                  0.619    5.0    35  "
            ],
            "text/html": [
              "\n",
              "  <div id=\"df-f603d05e-01a3-4927-8f87-c7b20a1b14e2\" class=\"colab-df-container\">\n",
              "    <div>\n",
              "<style scoped>\n",
              "    .dataframe tbody tr th:only-of-type {\n",
              "        vertical-align: middle;\n",
              "    }\n",
              "\n",
              "    .dataframe tbody tr th {\n",
              "        vertical-align: top;\n",
              "    }\n",
              "\n",
              "    .dataframe thead th {\n",
              "        text-align: right;\n",
              "    }\n",
              "</style>\n",
              "<table border=\"1\" class=\"dataframe\">\n",
              "  <thead>\n",
              "    <tr style=\"text-align: right;\">\n",
              "      <th></th>\n",
              "      <th>eval_loss</th>\n",
              "      <th>eval_accuracy</th>\n",
              "      <th>eval_runtime</th>\n",
              "      <th>eval_samples_per_second</th>\n",
              "      <th>eval_steps_per_second</th>\n",
              "      <th>epoch</th>\n",
              "      <th>step</th>\n",
              "    </tr>\n",
              "  </thead>\n",
              "  <tbody>\n",
              "    <tr>\n",
              "      <th>0</th>\n",
              "      <td>0.056904</td>\n",
              "      <td>1.0</td>\n",
              "      <td>12.8434</td>\n",
              "      <td>15.572</td>\n",
              "      <td>0.545</td>\n",
              "      <td>1.0</td>\n",
              "      <td>7</td>\n",
              "    </tr>\n",
              "    <tr>\n",
              "      <th>1</th>\n",
              "      <td>0.005866</td>\n",
              "      <td>1.0</td>\n",
              "      <td>10.7382</td>\n",
              "      <td>18.625</td>\n",
              "      <td>0.652</td>\n",
              "      <td>2.0</td>\n",
              "      <td>14</td>\n",
              "    </tr>\n",
              "    <tr>\n",
              "      <th>2</th>\n",
              "      <td>0.001969</td>\n",
              "      <td>1.0</td>\n",
              "      <td>11.8264</td>\n",
              "      <td>16.911</td>\n",
              "      <td>0.592</td>\n",
              "      <td>3.0</td>\n",
              "      <td>21</td>\n",
              "    </tr>\n",
              "    <tr>\n",
              "      <th>3</th>\n",
              "      <td>0.001077</td>\n",
              "      <td>1.0</td>\n",
              "      <td>11.9087</td>\n",
              "      <td>16.795</td>\n",
              "      <td>0.588</td>\n",
              "      <td>4.0</td>\n",
              "      <td>28</td>\n",
              "    </tr>\n",
              "    <tr>\n",
              "      <th>4</th>\n",
              "      <td>0.000766</td>\n",
              "      <td>1.0</td>\n",
              "      <td>11.3009</td>\n",
              "      <td>17.698</td>\n",
              "      <td>0.619</td>\n",
              "      <td>5.0</td>\n",
              "      <td>35</td>\n",
              "    </tr>\n",
              "  </tbody>\n",
              "</table>\n",
              "</div>\n",
              "    <div class=\"colab-df-buttons\">\n",
              "\n",
              "  <div class=\"colab-df-container\">\n",
              "    <button class=\"colab-df-convert\" onclick=\"convertToInteractive('df-f603d05e-01a3-4927-8f87-c7b20a1b14e2')\"\n",
              "            title=\"Convert this dataframe to an interactive table.\"\n",
              "            style=\"display:none;\">\n",
              "\n",
              "  <svg xmlns=\"http://www.w3.org/2000/svg\" height=\"24px\" viewBox=\"0 -960 960 960\">\n",
              "    <path d=\"M120-120v-720h720v720H120Zm60-500h600v-160H180v160Zm220 220h160v-160H400v160Zm0 220h160v-160H400v160ZM180-400h160v-160H180v160Zm440 0h160v-160H620v160ZM180-180h160v-160H180v160Zm440 0h160v-160H620v160Z\"/>\n",
              "  </svg>\n",
              "    </button>\n",
              "\n",
              "  <style>\n",
              "    .colab-df-container {\n",
              "      display:flex;\n",
              "      gap: 12px;\n",
              "    }\n",
              "\n",
              "    .colab-df-convert {\n",
              "      background-color: #E8F0FE;\n",
              "      border: none;\n",
              "      border-radius: 50%;\n",
              "      cursor: pointer;\n",
              "      display: none;\n",
              "      fill: #1967D2;\n",
              "      height: 32px;\n",
              "      padding: 0 0 0 0;\n",
              "      width: 32px;\n",
              "    }\n",
              "\n",
              "    .colab-df-convert:hover {\n",
              "      background-color: #E2EBFA;\n",
              "      box-shadow: 0px 1px 2px rgba(60, 64, 67, 0.3), 0px 1px 3px 1px rgba(60, 64, 67, 0.15);\n",
              "      fill: #174EA6;\n",
              "    }\n",
              "\n",
              "    .colab-df-buttons div {\n",
              "      margin-bottom: 4px;\n",
              "    }\n",
              "\n",
              "    [theme=dark] .colab-df-convert {\n",
              "      background-color: #3B4455;\n",
              "      fill: #D2E3FC;\n",
              "    }\n",
              "\n",
              "    [theme=dark] .colab-df-convert:hover {\n",
              "      background-color: #434B5C;\n",
              "      box-shadow: 0px 1px 3px 1px rgba(0, 0, 0, 0.15);\n",
              "      filter: drop-shadow(0px 1px 2px rgba(0, 0, 0, 0.3));\n",
              "      fill: #FFFFFF;\n",
              "    }\n",
              "  </style>\n",
              "\n",
              "    <script>\n",
              "      const buttonEl =\n",
              "        document.querySelector('#df-f603d05e-01a3-4927-8f87-c7b20a1b14e2 button.colab-df-convert');\n",
              "      buttonEl.style.display =\n",
              "        google.colab.kernel.accessAllowed ? 'block' : 'none';\n",
              "\n",
              "      async function convertToInteractive(key) {\n",
              "        const element = document.querySelector('#df-f603d05e-01a3-4927-8f87-c7b20a1b14e2');\n",
              "        const dataTable =\n",
              "          await google.colab.kernel.invokeFunction('convertToInteractive',\n",
              "                                                    [key], {});\n",
              "        if (!dataTable) return;\n",
              "\n",
              "        const docLinkHtml = 'Like what you see? Visit the ' +\n",
              "          '<a target=\"_blank\" href=https://colab.research.google.com/notebooks/data_table.ipynb>data table notebook</a>'\n",
              "          + ' to learn more about interactive tables.';\n",
              "        element.innerHTML = '';\n",
              "        dataTable['output_type'] = 'display_data';\n",
              "        await google.colab.output.renderOutput(dataTable, element);\n",
              "        const docLink = document.createElement('div');\n",
              "        docLink.innerHTML = docLinkHtml;\n",
              "        element.appendChild(docLink);\n",
              "      }\n",
              "    </script>\n",
              "  </div>\n",
              "\n",
              "\n",
              "<div id=\"df-c6c48681-2ea8-4328-9f00-f34225e46e79\">\n",
              "  <button class=\"colab-df-quickchart\" onclick=\"quickchart('df-c6c48681-2ea8-4328-9f00-f34225e46e79')\"\n",
              "            title=\"Suggest charts\"\n",
              "            style=\"display:none;\">\n",
              "\n",
              "<svg xmlns=\"http://www.w3.org/2000/svg\" height=\"24px\"viewBox=\"0 0 24 24\"\n",
              "     width=\"24px\">\n",
              "    <g>\n",
              "        <path d=\"M19 3H5c-1.1 0-2 .9-2 2v14c0 1.1.9 2 2 2h14c1.1 0 2-.9 2-2V5c0-1.1-.9-2-2-2zM9 17H7v-7h2v7zm4 0h-2V7h2v10zm4 0h-2v-4h2v4z\"/>\n",
              "    </g>\n",
              "</svg>\n",
              "  </button>\n",
              "\n",
              "<style>\n",
              "  .colab-df-quickchart {\n",
              "      --bg-color: #E8F0FE;\n",
              "      --fill-color: #1967D2;\n",
              "      --hover-bg-color: #E2EBFA;\n",
              "      --hover-fill-color: #174EA6;\n",
              "      --disabled-fill-color: #AAA;\n",
              "      --disabled-bg-color: #DDD;\n",
              "  }\n",
              "\n",
              "  [theme=dark] .colab-df-quickchart {\n",
              "      --bg-color: #3B4455;\n",
              "      --fill-color: #D2E3FC;\n",
              "      --hover-bg-color: #434B5C;\n",
              "      --hover-fill-color: #FFFFFF;\n",
              "      --disabled-bg-color: #3B4455;\n",
              "      --disabled-fill-color: #666;\n",
              "  }\n",
              "\n",
              "  .colab-df-quickchart {\n",
              "    background-color: var(--bg-color);\n",
              "    border: none;\n",
              "    border-radius: 50%;\n",
              "    cursor: pointer;\n",
              "    display: none;\n",
              "    fill: var(--fill-color);\n",
              "    height: 32px;\n",
              "    padding: 0;\n",
              "    width: 32px;\n",
              "  }\n",
              "\n",
              "  .colab-df-quickchart:hover {\n",
              "    background-color: var(--hover-bg-color);\n",
              "    box-shadow: 0 1px 2px rgba(60, 64, 67, 0.3), 0 1px 3px 1px rgba(60, 64, 67, 0.15);\n",
              "    fill: var(--button-hover-fill-color);\n",
              "  }\n",
              "\n",
              "  .colab-df-quickchart-complete:disabled,\n",
              "  .colab-df-quickchart-complete:disabled:hover {\n",
              "    background-color: var(--disabled-bg-color);\n",
              "    fill: var(--disabled-fill-color);\n",
              "    box-shadow: none;\n",
              "  }\n",
              "\n",
              "  .colab-df-spinner {\n",
              "    border: 2px solid var(--fill-color);\n",
              "    border-color: transparent;\n",
              "    border-bottom-color: var(--fill-color);\n",
              "    animation:\n",
              "      spin 1s steps(1) infinite;\n",
              "  }\n",
              "\n",
              "  @keyframes spin {\n",
              "    0% {\n",
              "      border-color: transparent;\n",
              "      border-bottom-color: var(--fill-color);\n",
              "      border-left-color: var(--fill-color);\n",
              "    }\n",
              "    20% {\n",
              "      border-color: transparent;\n",
              "      border-left-color: var(--fill-color);\n",
              "      border-top-color: var(--fill-color);\n",
              "    }\n",
              "    30% {\n",
              "      border-color: transparent;\n",
              "      border-left-color: var(--fill-color);\n",
              "      border-top-color: var(--fill-color);\n",
              "      border-right-color: var(--fill-color);\n",
              "    }\n",
              "    40% {\n",
              "      border-color: transparent;\n",
              "      border-right-color: var(--fill-color);\n",
              "      border-top-color: var(--fill-color);\n",
              "    }\n",
              "    60% {\n",
              "      border-color: transparent;\n",
              "      border-right-color: var(--fill-color);\n",
              "    }\n",
              "    80% {\n",
              "      border-color: transparent;\n",
              "      border-right-color: var(--fill-color);\n",
              "      border-bottom-color: var(--fill-color);\n",
              "    }\n",
              "    90% {\n",
              "      border-color: transparent;\n",
              "      border-bottom-color: var(--fill-color);\n",
              "    }\n",
              "  }\n",
              "</style>\n",
              "\n",
              "  <script>\n",
              "    async function quickchart(key) {\n",
              "      const quickchartButtonEl =\n",
              "        document.querySelector('#' + key + ' button');\n",
              "      quickchartButtonEl.disabled = true;  // To prevent multiple clicks.\n",
              "      quickchartButtonEl.classList.add('colab-df-spinner');\n",
              "      try {\n",
              "        const charts = await google.colab.kernel.invokeFunction(\n",
              "            'suggestCharts', [key], {});\n",
              "      } catch (error) {\n",
              "        console.error('Error during call to suggestCharts:', error);\n",
              "      }\n",
              "      quickchartButtonEl.classList.remove('colab-df-spinner');\n",
              "      quickchartButtonEl.classList.add('colab-df-quickchart-complete');\n",
              "    }\n",
              "    (() => {\n",
              "      let quickchartButtonEl =\n",
              "        document.querySelector('#df-c6c48681-2ea8-4328-9f00-f34225e46e79 button');\n",
              "      quickchartButtonEl.style.display =\n",
              "        google.colab.kernel.accessAllowed ? 'block' : 'none';\n",
              "    })();\n",
              "  </script>\n",
              "</div>\n",
              "\n",
              "    </div>\n",
              "  </div>\n"
            ],
            "application/vnd.google.colaboratory.intrinsic+json": {
              "type": "dataframe",
              "variable_name": "trainer_history_eval_df",
              "summary": "{\n  \"name\": \"trainer_history_eval_df\",\n  \"rows\": 10,\n  \"fields\": [\n    {\n      \"column\": \"eval_loss\",\n      \"properties\": {\n        \"dtype\": \"number\",\n        \"std\": 0.01763841655829524,\n        \"min\": 0.0004827497759833932,\n        \"max\": 0.05690372362732887,\n        \"num_unique_values\": 10,\n        \"samples\": [\n          0.0004900571657344699,\n          0.005866030231118202,\n          0.0006261198432184756\n        ],\n        \"semantic_type\": \"\",\n        \"description\": \"\"\n      }\n    },\n    {\n      \"column\": \"eval_accuracy\",\n      \"properties\": {\n        \"dtype\": \"number\",\n        \"std\": 0.0,\n        \"min\": 1.0,\n        \"max\": 1.0,\n        \"num_unique_values\": 1,\n        \"samples\": [\n          1.0\n        ],\n        \"semantic_type\": \"\",\n        \"description\": \"\"\n      }\n    },\n    {\n      \"column\": \"eval_runtime\",\n      \"properties\": {\n        \"dtype\": \"number\",\n        \"std\": 0.5498526707724128,\n        \"min\": 10.7382,\n        \"max\": 12.8434,\n        \"num_unique_values\": 10,\n        \"samples\": [\n          12.2508\n        ],\n        \"semantic_type\": \"\",\n        \"description\": \"\"\n      }\n    },\n    {\n      \"column\": \"eval_samples_per_second\",\n      \"properties\": {\n        \"dtype\": \"number\",\n        \"std\": 0.8025641961169768,\n        \"min\": 15.572,\n        \"max\": 18.625,\n        \"num_unique_values\": 10,\n        \"samples\": [\n          16.325\n        ],\n        \"semantic_type\": \"\",\n        \"description\": \"\"\n      }\n    },\n    {\n      \"column\": \"eval_steps_per_second\",\n      \"properties\": {\n        \"dtype\": \"number\",\n        \"std\": 0.02808320969310073,\n        \"min\": 0.545,\n        \"max\": 0.652,\n        \"num_unique_values\": 9,\n        \"samples\": [\n          0.571\n        ],\n        \"semantic_type\": \"\",\n        \"description\": \"\"\n      }\n    },\n    {\n      \"column\": \"epoch\",\n      \"properties\": {\n        \"dtype\": \"number\",\n        \"std\": 3.0276503540974917,\n        \"min\": 1.0,\n        \"max\": 10.0,\n        \"num_unique_values\": 10,\n        \"samples\": [\n          9.0\n        ],\n        \"semantic_type\": \"\",\n        \"description\": \"\"\n      }\n    },\n    {\n      \"column\": \"step\",\n      \"properties\": {\n        \"dtype\": \"number\",\n        \"std\": 21,\n        \"min\": 7,\n        \"max\": 70,\n        \"num_unique_values\": 10,\n        \"samples\": [\n          63\n        ],\n        \"semantic_type\": \"\",\n        \"description\": \"\"\n      }\n    }\n  ]\n}"
            }
          },
          "metadata": {},
          "execution_count": 67
        }
      ],
      "source": [
        "trainer_history_eval_df.head()"
      ]
    },
    {
      "cell_type": "code",
      "execution_count": 68,
      "metadata": {
        "id": "rvMMnSKN-XGc",
        "colab": {
          "base_uri": "https://localhost:8080/",
          "height": 559
        },
        "outputId": "9949e600-932d-4a86-b4c8-5b466600a4dc"
      },
      "outputs": [
        {
          "output_type": "execute_result",
          "data": {
            "text/plain": [
              "Text(0, 0.5, 'Loss')"
            ]
          },
          "metadata": {},
          "execution_count": 68
        },
        {
          "output_type": "display_data",
          "data": {
            "text/plain": [
              "<Figure size 1000x600 with 1 Axes>"
            ],
            "image/png": "[encoded data removed]"
          },
          "metadata": {}
        }
      ],
      "source": [
        "import matplotlib.pyplot as plt\n",
        "plt.figure(figsize=(10,6))\n",
        "plt.plot(trainer_history_training_df[\"epoch\"], trainer_history_training_df[\"loss\"], label=\"Training Loss\")\n",
        "plt.plot(trainer_history_eval_df[\"epoch\"], trainer_history_eval_df[\"eval_loss\"], label=\"eval Loss\")\n",
        "plt.xlabel(\"Epoch\")\n",
        "plt.ylabel(\"Loss\")"
      ]
    },
    {
      "cell_type": "markdown",
      "source": [
        "# ***PUSH to HUB***"
      ],
      "metadata": {
        "id": "LItVI5SUCy3v"
      }
    },
    {
      "cell_type": "code",
      "source": [
        "model_upload_url = trainer.push_to_hub(\n",
        "    commit_message=\"food vs nonfood classifier\",\n",
        "    token = HF_TOKEN_MASTER\n",
        ")\n",
        "print(f\"[INFO] Model successfully uploaded to the hub with url: {model_upload_url}\")"
      ],
      "metadata": {
        "id": "dczE7-aJCCP9",
        "colab": {
          "base_uri": "https://localhost:8080/"
        },
        "outputId": "a532d672-60ed-4e8f-85c9-0194ae58a8d8"
      },
      "execution_count": 70,
      "outputs": [
        {
          "output_type": "stream",
          "name": "stderr",
          "text": [
            "No files have been modified since last commit. Skipping to prevent empty commit.\n",
            "WARNING:huggingface_hub.hf_api:No files have been modified since last commit. Skipping to prevent empty commit.\n"
          ]
        },
        {
          "output_type": "stream",
          "name": "stdout",
          "text": [
            "[INFO] Model successfully uploaded to the hub with url: https://huggingface.co/tanvircr7/learn_hf_food_not_food_text_classifier-distilbert-base-uncased/tree/main/\n"
          ]
        }
      ]
    },
    {
      "cell_type": "code",
      "source": [],
      "metadata": {
        "id": "MTRsvLvQDul2"
      },
      "execution_count": null,
      "outputs": []
    },
    {
      "cell_type": "code",
      "source": [],
      "metadata": {
        "id": "32jqVhPMEuwe"
      },
      "execution_count": null,
      "outputs": []
    }
  ],
  "metadata": {
    "accelerator": "GPU",
    "colab": {
      "gpuType": "T4",
      "provenance": [],
      "authorship_tag": "ABX9TyNmujg47jEeD+b0jPdeigbb",
      "include_colab_link": true
    },
    "kernelspec": {
      "display_name": "Python 3",
      "name": "python3"
    },
    "language_info": {
      "name": "python"
    }
  },
  "nbformat": 4,
  "nbformat_minor": 0
}