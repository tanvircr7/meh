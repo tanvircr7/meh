{
  "nbformat": 4,
  "nbformat_minor": 0,
  "metadata": {
    "colab": {
      "provenance": [],
      "authorship_tag": "ABX9TyNgRdAtrqM/ZuMfThhRdZ/w",
      "include_colab_link": true
    },
    "kernelspec": {
      "name": "python3",
      "display_name": "Python 3"
    },
    "language_info": {
      "name": "python"
    }
  },
  "cells": [
    {
      "cell_type": "markdown",
      "metadata": {
        "id": "view-in-github",
        "colab_type": "text"
      },
      "source": [
        "<a href=\"https://colab.research.google.com/github/tanvircr7/meh/blob/master/01_PyTorch_Workflow_Video.ipynb\" target=\"_parent\"><img src=\"https://colab.research.google.com/assets/colab-badge.svg\" alt=\"Open In Colab\"/></a>"
      ]
    },
    {
      "cell_type": "code",
      "execution_count": 1,
      "metadata": {
        "id": "3bitaoKbdfKS",
        "colab": {
          "base_uri": "https://localhost:8080/",
          "height": 36
        },
        "outputId": "8c8829b5-ce45-4c3b-c9b4-380bb67a348e"
      },
      "outputs": [
        {
          "output_type": "execute_result",
          "data": {
            "text/plain": [
              "'2.2.1+cu121'"
            ],
            "application/vnd.google.colaboratory.intrinsic+json": {
              "type": "string"
            }
          },
          "metadata": {},
          "execution_count": 1
        }
      ],
      "source": [
        "import torch\n",
        "from torch import nn\n",
        "import matplotlib.pyplot as plt\n",
        "\n",
        "torch.__version__"
      ]
    },
    {
      "cell_type": "code",
      "source": [
        "weight = 0.6\n",
        "bias = 0.3\n",
        "\n",
        "start = 0\n",
        "end = 1\n",
        "step = 0.02\n",
        "X = torch.arange(start, end, step).unsqueeze(dim=1)\n",
        "E = torch.arange(start, end, step)\n",
        "Y = weight * X + bias\n",
        "# you won't always know the relationship between X and Y .. this is the point of ML\n",
        "X, Y"
      ],
      "metadata": {
        "colab": {
          "base_uri": "https://localhost:8080/"
        },
        "id": "L2LWTKwPDjze",
        "outputId": "b4cee823-5f4f-43a5-a2c1-1ae7734a0f87"
      },
      "execution_count": 6,
      "outputs": [
        {
          "output_type": "execute_result",
          "data": {
            "text/plain": [
              "(tensor([[0.0000],\n",
              "         [0.0200],\n",
              "         [0.0400],\n",
              "         [0.0600],\n",
              "         [0.0800],\n",
              "         [0.1000],\n",
              "         [0.1200],\n",
              "         [0.1400],\n",
              "         [0.1600],\n",
              "         [0.1800],\n",
              "         [0.2000],\n",
              "         [0.2200],\n",
              "         [0.2400],\n",
              "         [0.2600],\n",
              "         [0.2800],\n",
              "         [0.3000],\n",
              "         [0.3200],\n",
              "         [0.3400],\n",
              "         [0.3600],\n",
              "         [0.3800],\n",
              "         [0.4000],\n",
              "         [0.4200],\n",
              "         [0.4400],\n",
              "         [0.4600],\n",
              "         [0.4800],\n",
              "         [0.5000],\n",
              "         [0.5200],\n",
              "         [0.5400],\n",
              "         [0.5600],\n",
              "         [0.5800],\n",
              "         [0.6000],\n",
              "         [0.6200],\n",
              "         [0.6400],\n",
              "         [0.6600],\n",
              "         [0.6800],\n",
              "         [0.7000],\n",
              "         [0.7200],\n",
              "         [0.7400],\n",
              "         [0.7600],\n",
              "         [0.7800],\n",
              "         [0.8000],\n",
              "         [0.8200],\n",
              "         [0.8400],\n",
              "         [0.8600],\n",
              "         [0.8800],\n",
              "         [0.9000],\n",
              "         [0.9200],\n",
              "         [0.9400],\n",
              "         [0.9600],\n",
              "         [0.9800]]),\n",
              " tensor([[0.3000],\n",
              "         [0.3120],\n",
              "         [0.3240],\n",
              "         [0.3360],\n",
              "         [0.3480],\n",
              "         [0.3600],\n",
              "         [0.3720],\n",
              "         [0.3840],\n",
              "         [0.3960],\n",
              "         [0.4080],\n",
              "         [0.4200],\n",
              "         [0.4320],\n",
              "         [0.4440],\n",
              "         [0.4560],\n",
              "         [0.4680],\n",
              "         [0.4800],\n",
              "         [0.4920],\n",
              "         [0.5040],\n",
              "         [0.5160],\n",
              "         [0.5280],\n",
              "         [0.5400],\n",
              "         [0.5520],\n",
              "         [0.5640],\n",
              "         [0.5760],\n",
              "         [0.5880],\n",
              "         [0.6000],\n",
              "         [0.6120],\n",
              "         [0.6240],\n",
              "         [0.6360],\n",
              "         [0.6480],\n",
              "         [0.6600],\n",
              "         [0.6720],\n",
              "         [0.6840],\n",
              "         [0.6960],\n",
              "         [0.7080],\n",
              "         [0.7200],\n",
              "         [0.7320],\n",
              "         [0.7440],\n",
              "         [0.7560],\n",
              "         [0.7680],\n",
              "         [0.7800],\n",
              "         [0.7920],\n",
              "         [0.8040],\n",
              "         [0.8160],\n",
              "         [0.8280],\n",
              "         [0.8400],\n",
              "         [0.8520],\n",
              "         [0.8640],\n",
              "         [0.8760],\n",
              "         [0.8880]]))"
            ]
          },
          "metadata": {},
          "execution_count": 6
        }
      ]
    },
    {
      "cell_type": "code",
      "source": [
        "E, len(X), len(Y)"
      ],
      "metadata": {
        "colab": {
          "base_uri": "https://localhost:8080/"
        },
        "id": "qftOyseeEL7w",
        "outputId": "69eb5cae-e614-4ec6-8cad-a38628e9f0e1"
      },
      "execution_count": 10,
      "outputs": [
        {
          "output_type": "execute_result",
          "data": {
            "text/plain": [
              "(tensor([0.0000, 0.0200, 0.0400, 0.0600, 0.0800, 0.1000, 0.1200, 0.1400, 0.1600,\n",
              "         0.1800, 0.2000, 0.2200, 0.2400, 0.2600, 0.2800, 0.3000, 0.3200, 0.3400,\n",
              "         0.3600, 0.3800, 0.4000, 0.4200, 0.4400, 0.4600, 0.4800, 0.5000, 0.5200,\n",
              "         0.5400, 0.5600, 0.5800, 0.6000, 0.6200, 0.6400, 0.6600, 0.6800, 0.7000,\n",
              "         0.7200, 0.7400, 0.7600, 0.7800, 0.8000, 0.8200, 0.8400, 0.8600, 0.8800,\n",
              "         0.9000, 0.9200, 0.9400, 0.9600, 0.9800]),\n",
              " 50,\n",
              " 50)"
            ]
          },
          "metadata": {},
          "execution_count": 10
        }
      ]
    },
    {
      "cell_type": "markdown",
      "source": [],
      "metadata": {
        "id": "u_RIr748EMCW"
      }
    },
    {
      "cell_type": "code",
      "source": [],
      "metadata": {
        "id": "S4Z2ll1mEMH4"
      },
      "execution_count": null,
      "outputs": []
    },
    {
      "cell_type": "markdown",
      "source": [],
      "metadata": {
        "id": "kFChlPIBEMMs"
      }
    },
    {
      "cell_type": "code",
      "source": [],
      "metadata": {
        "id": "c8HNcWtpEMSG"
      },
      "execution_count": null,
      "outputs": []
    },
    {
      "cell_type": "markdown",
      "source": [],
      "metadata": {
        "id": "VerH3qAWEMWw"
      }
    },
    {
      "cell_type": "code",
      "source": [],
      "metadata": {
        "id": "EQL_yWSaEMcC"
      },
      "execution_count": null,
      "outputs": []
    },
    {
      "cell_type": "markdown",
      "source": [],
      "metadata": {
        "id": "PHwiJDPiEMg0"
      }
    }
  ]
}