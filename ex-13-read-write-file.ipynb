{
  "nbformat": 4,
  "nbformat_minor": 0,
  "metadata": {
    "colab": {
      "provenance": [],
      "authorship_tag": "ABX9TyNhfKS8gWGkNi75okx++Ar2",
      "include_colab_link": true
    },
    "kernelspec": {
      "name": "python3",
      "display_name": "Python 3"
    },
    "language_info": {
      "name": "python"
    }
  },
  "cells": [
    {
      "cell_type": "markdown",
      "metadata": {
        "id": "view-in-github",
        "colab_type": "text"
      },
      "source": [
        "<a href=\"https://colab.research.google.com/github/tanvircr7/meh/blob/master/ex-13-read-write-file.ipynb\" target=\"_parent\"><img src=\"https://colab.research.google.com/assets/colab-badge.svg\" alt=\"Open In Colab\"/></a>"
      ]
    },
    {
      "cell_type": "code",
      "execution_count": 3,
      "metadata": {
        "colab": {
          "base_uri": "https://localhost:8080/"
        },
        "id": "JfsTpHfGGHzN",
        "outputId": "5bcec47c-0537-4153-9ef1-588d2a7368d7"
      },
      "outputs": [
        {
          "output_type": "stream",
          "name": "stdout",
          "text": [
            "{'aaaaaaaaaaaaa\\n': 1, 'bbbbbbbb,': 1, 'bbbbbbbbbb\\n': 1, 'xxxxxxxxxxx,bbbbb\\n': 1, 'aaaaaadc': 1, ',vvvvvv': 1}\n",
            "Max occurances of any word is: 1\n",
            "Words with max occurances are: \n",
            "aaaaaaaaaaaaa\n",
            "\n",
            "bbbbbbbb,\n",
            "bbbbbbbbbb\n",
            "\n",
            "xxxxxxxxxxx,bbbbb\n",
            "\n",
            "aaaaaadc\n",
            ",vvvvvv\n"
          ]
        }
      ],
      "source": [
        "word_stats={}\n",
        "\n",
        "with open(\"poems.txt\",\"r\") as f:\n",
        "    for line in f:\n",
        "      words=line.split(' ')\n",
        "      for word in words:\n",
        "        if word in word_stats:\n",
        "          word_stats[word]+=1\n",
        "        else:\n",
        "          word_stats[word] = 1\n",
        "\n",
        "print(word_stats)\n",
        "\n",
        "word_occurances = list(word_stats.values())\n",
        "max_count = max(word_occurances)\n",
        "print(\"Max occurances of any word is:\",max_count)\n",
        "\n",
        "print(\"Words with max occurances are: \")\n",
        "for word, count in word_stats.items():\n",
        "    if count==max_count:\n",
        "        print(word)"
      ]
    },
    {
      "cell_type": "code",
      "source": [
        "# with ... as ... :\n",
        "# next(f) goes to next line\n",
        "\n",
        "with open(\"stocks.csv\", \"r\") as f, open(\"output.csv\", \"w\") as out:\n",
        "    out.write(\"Company Name,PE Ratio, PB Ratio\\n\")\n",
        "    next(f)  # This will skip first line in the file which is a header\n",
        "    for line in f:\n",
        "        tokens = line.split(\",\")\n",
        "        stock = tokens[0]\n",
        "        price = float(tokens[1])\n",
        "        eps = float(tokens[2])\n",
        "        book = float(tokens[3])\n",
        "        pe = round(price / eps, 2)\n",
        "        pb = round(price / book, 2)\n",
        "        out.write(f\"{stock},{pe},{pb}\\n\")"
      ],
      "metadata": {
        "id": "2GYktR1NIioJ"
      },
      "execution_count": 5,
      "outputs": []
    }
  ]
}