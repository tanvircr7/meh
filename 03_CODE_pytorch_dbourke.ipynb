{
  "nbformat": 4,
  "nbformat_minor": 0,
  "metadata": {
    "colab": {
      "provenance": [],
      "gpuType": "T4",
      "authorship_tag": "ABX9TyMicKcuRAAZKMdQEUvGHIpd",
      "include_colab_link": true
    },
    "kernelspec": {
      "name": "python3",
      "display_name": "Python 3"
    },
    "language_info": {
      "name": "python"
    },
    "widgets": {
      "application/vnd.jupyter.widget-state+json": {
        "ac1f5d1bbef548b39668780dc251c0b1": {
          "model_module": "@jupyter-widgets/controls",
          "model_name": "HBoxModel",
          "model_module_version": "1.5.0",
          "state": {
            "_dom_classes": [],
            "_model_module": "@jupyter-widgets/controls",
            "_model_module_version": "1.5.0",
            "_model_name": "HBoxModel",
            "_view_count": null,
            "_view_module": "@jupyter-widgets/controls",
            "_view_module_version": "1.5.0",
            "_view_name": "HBoxView",
            "box_style": "",
            "children": [
              "IPY_MODEL_a3baaa7f481e4cc4b0f3512d0f46a412",
              "IPY_MODEL_ce0ea1eff5414e40a02fbd88108b25f9",
              "IPY_MODEL_8275aaa15fb34b1c89cb6dec9d5ee469"
            ],
            "layout": "IPY_MODEL_edc24a37f00e458d94a96416dd77bd3d"
          }
        },
        "a3baaa7f481e4cc4b0f3512d0f46a412": {
          "model_module": "@jupyter-widgets/controls",
          "model_name": "HTMLModel",
          "model_module_version": "1.5.0",
          "state": {
            "_dom_classes": [],
            "_model_module": "@jupyter-widgets/controls",
            "_model_module_version": "1.5.0",
            "_model_name": "HTMLModel",
            "_view_count": null,
            "_view_module": "@jupyter-widgets/controls",
            "_view_module_version": "1.5.0",
            "_view_name": "HTMLView",
            "description": "",
            "description_tooltip": null,
            "layout": "IPY_MODEL_d0be48fe857241adb2f16348a4db3f10",
            "placeholder": "​",
            "style": "IPY_MODEL_b7c1637524994e1bb10aa0a809fe9348",
            "value": "100%"
          }
        },
        "ce0ea1eff5414e40a02fbd88108b25f9": {
          "model_module": "@jupyter-widgets/controls",
          "model_name": "FloatProgressModel",
          "model_module_version": "1.5.0",
          "state": {
            "_dom_classes": [],
            "_model_module": "@jupyter-widgets/controls",
            "_model_module_version": "1.5.0",
            "_model_name": "FloatProgressModel",
            "_view_count": null,
            "_view_module": "@jupyter-widgets/controls",
            "_view_module_version": "1.5.0",
            "_view_name": "ProgressView",
            "bar_style": "success",
            "description": "",
            "description_tooltip": null,
            "layout": "IPY_MODEL_9097c06a6b024757a953c173c6e50bc7",
            "max": 3,
            "min": 0,
            "orientation": "horizontal",
            "style": "IPY_MODEL_8241b556c7f749408ed10be31d82b08b",
            "value": 3
          }
        },
        "8275aaa15fb34b1c89cb6dec9d5ee469": {
          "model_module": "@jupyter-widgets/controls",
          "model_name": "HTMLModel",
          "model_module_version": "1.5.0",
          "state": {
            "_dom_classes": [],
            "_model_module": "@jupyter-widgets/controls",
            "_model_module_version": "1.5.0",
            "_model_name": "HTMLModel",
            "_view_count": null,
            "_view_module": "@jupyter-widgets/controls",
            "_view_module_version": "1.5.0",
            "_view_name": "HTMLView",
            "description": "",
            "description_tooltip": null,
            "layout": "IPY_MODEL_e0cca4a83dab44a5ad83c0b3919cffbb",
            "placeholder": "​",
            "style": "IPY_MODEL_aa026d7871d7449ea6c161c7691928a0",
            "value": " 3/3 [00:29&lt;00:00,  9.96s/it]"
          }
        },
        "edc24a37f00e458d94a96416dd77bd3d": {
          "model_module": "@jupyter-widgets/base",
          "model_name": "LayoutModel",
          "model_module_version": "1.2.0",
          "state": {
            "_model_module": "@jupyter-widgets/base",
            "_model_module_version": "1.2.0",
            "_model_name": "LayoutModel",
            "_view_count": null,
            "_view_module": "@jupyter-widgets/base",
            "_view_module_version": "1.2.0",
            "_view_name": "LayoutView",
            "align_content": null,
            "align_items": null,
            "align_self": null,
            "border": null,
            "bottom": null,
            "display": null,
            "flex": null,
            "flex_flow": null,
            "grid_area": null,
            "grid_auto_columns": null,
            "grid_auto_flow": null,
            "grid_auto_rows": null,
            "grid_column": null,
            "grid_gap": null,
            "grid_row": null,
            "grid_template_areas": null,
            "grid_template_columns": null,
            "grid_template_rows": null,
            "height": null,
            "justify_content": null,
            "justify_items": null,
            "left": null,
            "margin": null,
            "max_height": null,
            "max_width": null,
            "min_height": null,
            "min_width": null,
            "object_fit": null,
            "object_position": null,
            "order": null,
            "overflow": null,
            "overflow_x": null,
            "overflow_y": null,
            "padding": null,
            "right": null,
            "top": null,
            "visibility": null,
            "width": null
          }
        },
        "d0be48fe857241adb2f16348a4db3f10": {
          "model_module": "@jupyter-widgets/base",
          "model_name": "LayoutModel",
          "model_module_version": "1.2.0",
          "state": {
            "_model_module": "@jupyter-widgets/base",
            "_model_module_version": "1.2.0",
            "_model_name": "LayoutModel",
            "_view_count": null,
            "_view_module": "@jupyter-widgets/base",
            "_view_module_version": "1.2.0",
            "_view_name": "LayoutView",
            "align_content": null,
            "align_items": null,
            "align_self": null,
            "border": null,
            "bottom": null,
            "display": null,
            "flex": null,
            "flex_flow": null,
            "grid_area": null,
            "grid_auto_columns": null,
            "grid_auto_flow": null,
            "grid_auto_rows": null,
            "grid_column": null,
            "grid_gap": null,
            "grid_row": null,
            "grid_template_areas": null,
            "grid_template_columns": null,
            "grid_template_rows": null,
            "height": null,
            "justify_content": null,
            "justify_items": null,
            "left": null,
            "margin": null,
            "max_height": null,
            "max_width": null,
            "min_height": null,
            "min_width": null,
            "object_fit": null,
            "object_position": null,
            "order": null,
            "overflow": null,
            "overflow_x": null,
            "overflow_y": null,
            "padding": null,
            "right": null,
            "top": null,
            "visibility": null,
            "width": null
          }
        },
        "b7c1637524994e1bb10aa0a809fe9348": {
          "model_module": "@jupyter-widgets/controls",
          "model_name": "DescriptionStyleModel",
          "model_module_version": "1.5.0",
          "state": {
            "_model_module": "@jupyter-widgets/controls",
            "_model_module_version": "1.5.0",
            "_model_name": "DescriptionStyleModel",
            "_view_count": null,
            "_view_module": "@jupyter-widgets/base",
            "_view_module_version": "1.2.0",
            "_view_name": "StyleView",
            "description_width": ""
          }
        },
        "9097c06a6b024757a953c173c6e50bc7": {
          "model_module": "@jupyter-widgets/base",
          "model_name": "LayoutModel",
          "model_module_version": "1.2.0",
          "state": {
            "_model_module": "@jupyter-widgets/base",
            "_model_module_version": "1.2.0",
            "_model_name": "LayoutModel",
            "_view_count": null,
            "_view_module": "@jupyter-widgets/base",
            "_view_module_version": "1.2.0",
            "_view_name": "LayoutView",
            "align_content": null,
            "align_items": null,
            "align_self": null,
            "border": null,
            "bottom": null,
            "display": null,
            "flex": null,
            "flex_flow": null,
            "grid_area": null,
            "grid_auto_columns": null,
            "grid_auto_flow": null,
            "grid_auto_rows": null,
            "grid_column": null,
            "grid_gap": null,
            "grid_row": null,
            "grid_template_areas": null,
            "grid_template_columns": null,
            "grid_template_rows": null,
            "height": null,
            "justify_content": null,
            "justify_items": null,
            "left": null,
            "margin": null,
            "max_height": null,
            "max_width": null,
            "min_height": null,
            "min_width": null,
            "object_fit": null,
            "object_position": null,
            "order": null,
            "overflow": null,
            "overflow_x": null,
            "overflow_y": null,
            "padding": null,
            "right": null,
            "top": null,
            "visibility": null,
            "width": null
          }
        },
        "8241b556c7f749408ed10be31d82b08b": {
          "model_module": "@jupyter-widgets/controls",
          "model_name": "ProgressStyleModel",
          "model_module_version": "1.5.0",
          "state": {
            "_model_module": "@jupyter-widgets/controls",
            "_model_module_version": "1.5.0",
            "_model_name": "ProgressStyleModel",
            "_view_count": null,
            "_view_module": "@jupyter-widgets/base",
            "_view_module_version": "1.2.0",
            "_view_name": "StyleView",
            "bar_color": null,
            "description_width": ""
          }
        },
        "e0cca4a83dab44a5ad83c0b3919cffbb": {
          "model_module": "@jupyter-widgets/base",
          "model_name": "LayoutModel",
          "model_module_version": "1.2.0",
          "state": {
            "_model_module": "@jupyter-widgets/base",
            "_model_module_version": "1.2.0",
            "_model_name": "LayoutModel",
            "_view_count": null,
            "_view_module": "@jupyter-widgets/base",
            "_view_module_version": "1.2.0",
            "_view_name": "LayoutView",
            "align_content": null,
            "align_items": null,
            "align_self": null,
            "border": null,
            "bottom": null,
            "display": null,
            "flex": null,
            "flex_flow": null,
            "grid_area": null,
            "grid_auto_columns": null,
            "grid_auto_flow": null,
            "grid_auto_rows": null,
            "grid_column": null,
            "grid_gap": null,
            "grid_row": null,
            "grid_template_areas": null,
            "grid_template_columns": null,
            "grid_template_rows": null,
            "height": null,
            "justify_content": null,
            "justify_items": null,
            "left": null,
            "margin": null,
            "max_height": null,
            "max_width": null,
            "min_height": null,
            "min_width": null,
            "object_fit": null,
            "object_position": null,
            "order": null,
            "overflow": null,
            "overflow_x": null,
            "overflow_y": null,
            "padding": null,
            "right": null,
            "top": null,
            "visibility": null,
            "width": null
          }
        },
        "aa026d7871d7449ea6c161c7691928a0": {
          "model_module": "@jupyter-widgets/controls",
          "model_name": "DescriptionStyleModel",
          "model_module_version": "1.5.0",
          "state": {
            "_model_module": "@jupyter-widgets/controls",
            "_model_module_version": "1.5.0",
            "_model_name": "DescriptionStyleModel",
            "_view_count": null,
            "_view_module": "@jupyter-widgets/base",
            "_view_module_version": "1.2.0",
            "_view_name": "StyleView",
            "description_width": ""
          }
        },
        "6b2ab40e18bb4d499a84106e58fd3266": {
          "model_module": "@jupyter-widgets/controls",
          "model_name": "HBoxModel",
          "model_module_version": "1.5.0",
          "state": {
            "_dom_classes": [],
            "_model_module": "@jupyter-widgets/controls",
            "_model_module_version": "1.5.0",
            "_model_name": "HBoxModel",
            "_view_count": null,
            "_view_module": "@jupyter-widgets/controls",
            "_view_module_version": "1.5.0",
            "_view_name": "HBoxView",
            "box_style": "",
            "children": [
              "IPY_MODEL_fc444d8306f84052a1cc6f934de0a810",
              "IPY_MODEL_a3beedd9452c43ba956ff3e3d1c81073",
              "IPY_MODEL_e61e6272d67644338424d3ec9d639325"
            ],
            "layout": "IPY_MODEL_685b0e3ee6954feeb1470cca48f45178"
          }
        },
        "fc444d8306f84052a1cc6f934de0a810": {
          "model_module": "@jupyter-widgets/controls",
          "model_name": "HTMLModel",
          "model_module_version": "1.5.0",
          "state": {
            "_dom_classes": [],
            "_model_module": "@jupyter-widgets/controls",
            "_model_module_version": "1.5.0",
            "_model_name": "HTMLModel",
            "_view_count": null,
            "_view_module": "@jupyter-widgets/controls",
            "_view_module_version": "1.5.0",
            "_view_name": "HTMLView",
            "description": "",
            "description_tooltip": null,
            "layout": "IPY_MODEL_89c0856ca9934143ab95eb8de6490210",
            "placeholder": "​",
            "style": "IPY_MODEL_70b8efc4b55945b784ceadcf2d29805e",
            "value": "100%"
          }
        },
        "a3beedd9452c43ba956ff3e3d1c81073": {
          "model_module": "@jupyter-widgets/controls",
          "model_name": "FloatProgressModel",
          "model_module_version": "1.5.0",
          "state": {
            "_dom_classes": [],
            "_model_module": "@jupyter-widgets/controls",
            "_model_module_version": "1.5.0",
            "_model_name": "FloatProgressModel",
            "_view_count": null,
            "_view_module": "@jupyter-widgets/controls",
            "_view_module_version": "1.5.0",
            "_view_name": "ProgressView",
            "bar_style": "success",
            "description": "",
            "description_tooltip": null,
            "layout": "IPY_MODEL_d8a5d2615c3d4b448942069ee557fe51",
            "max": 3,
            "min": 0,
            "orientation": "horizontal",
            "style": "IPY_MODEL_cd5c9cef6a2f426693e6a595abed9432",
            "value": 3
          }
        },
        "e61e6272d67644338424d3ec9d639325": {
          "model_module": "@jupyter-widgets/controls",
          "model_name": "HTMLModel",
          "model_module_version": "1.5.0",
          "state": {
            "_dom_classes": [],
            "_model_module": "@jupyter-widgets/controls",
            "_model_module_version": "1.5.0",
            "_model_name": "HTMLModel",
            "_view_count": null,
            "_view_module": "@jupyter-widgets/controls",
            "_view_module_version": "1.5.0",
            "_view_name": "HTMLView",
            "description": "",
            "description_tooltip": null,
            "layout": "IPY_MODEL_57c1c8d96e764e9a84a2d16ecfb41c3a",
            "placeholder": "​",
            "style": "IPY_MODEL_fdf649ae4cb64a6eb9959824fe3c8acf",
            "value": " 3/3 [00:29&lt;00:00,  9.70s/it]"
          }
        },
        "685b0e3ee6954feeb1470cca48f45178": {
          "model_module": "@jupyter-widgets/base",
          "model_name": "LayoutModel",
          "model_module_version": "1.2.0",
          "state": {
            "_model_module": "@jupyter-widgets/base",
            "_model_module_version": "1.2.0",
            "_model_name": "LayoutModel",
            "_view_count": null,
            "_view_module": "@jupyter-widgets/base",
            "_view_module_version": "1.2.0",
            "_view_name": "LayoutView",
            "align_content": null,
            "align_items": null,
            "align_self": null,
            "border": null,
            "bottom": null,
            "display": null,
            "flex": null,
            "flex_flow": null,
            "grid_area": null,
            "grid_auto_columns": null,
            "grid_auto_flow": null,
            "grid_auto_rows": null,
            "grid_column": null,
            "grid_gap": null,
            "grid_row": null,
            "grid_template_areas": null,
            "grid_template_columns": null,
            "grid_template_rows": null,
            "height": null,
            "justify_content": null,
            "justify_items": null,
            "left": null,
            "margin": null,
            "max_height": null,
            "max_width": null,
            "min_height": null,
            "min_width": null,
            "object_fit": null,
            "object_position": null,
            "order": null,
            "overflow": null,
            "overflow_x": null,
            "overflow_y": null,
            "padding": null,
            "right": null,
            "top": null,
            "visibility": null,
            "width": null
          }
        },
        "89c0856ca9934143ab95eb8de6490210": {
          "model_module": "@jupyter-widgets/base",
          "model_name": "LayoutModel",
          "model_module_version": "1.2.0",
          "state": {
            "_model_module": "@jupyter-widgets/base",
            "_model_module_version": "1.2.0",
            "_model_name": "LayoutModel",
            "_view_count": null,
            "_view_module": "@jupyter-widgets/base",
            "_view_module_version": "1.2.0",
            "_view_name": "LayoutView",
            "align_content": null,
            "align_items": null,
            "align_self": null,
            "border": null,
            "bottom": null,
            "display": null,
            "flex": null,
            "flex_flow": null,
            "grid_area": null,
            "grid_auto_columns": null,
            "grid_auto_flow": null,
            "grid_auto_rows": null,
            "grid_column": null,
            "grid_gap": null,
            "grid_row": null,
            "grid_template_areas": null,
            "grid_template_columns": null,
            "grid_template_rows": null,
            "height": null,
            "justify_content": null,
            "justify_items": null,
            "left": null,
            "margin": null,
            "max_height": null,
            "max_width": null,
            "min_height": null,
            "min_width": null,
            "object_fit": null,
            "object_position": null,
            "order": null,
            "overflow": null,
            "overflow_x": null,
            "overflow_y": null,
            "padding": null,
            "right": null,
            "top": null,
            "visibility": null,
            "width": null
          }
        },
        "70b8efc4b55945b784ceadcf2d29805e": {
          "model_module": "@jupyter-widgets/controls",
          "model_name": "DescriptionStyleModel",
          "model_module_version": "1.5.0",
          "state": {
            "_model_module": "@jupyter-widgets/controls",
            "_model_module_version": "1.5.0",
            "_model_name": "DescriptionStyleModel",
            "_view_count": null,
            "_view_module": "@jupyter-widgets/base",
            "_view_module_version": "1.2.0",
            "_view_name": "StyleView",
            "description_width": ""
          }
        },
        "d8a5d2615c3d4b448942069ee557fe51": {
          "model_module": "@jupyter-widgets/base",
          "model_name": "LayoutModel",
          "model_module_version": "1.2.0",
          "state": {
            "_model_module": "@jupyter-widgets/base",
            "_model_module_version": "1.2.0",
            "_model_name": "LayoutModel",
            "_view_count": null,
            "_view_module": "@jupyter-widgets/base",
            "_view_module_version": "1.2.0",
            "_view_name": "LayoutView",
            "align_content": null,
            "align_items": null,
            "align_self": null,
            "border": null,
            "bottom": null,
            "display": null,
            "flex": null,
            "flex_flow": null,
            "grid_area": null,
            "grid_auto_columns": null,
            "grid_auto_flow": null,
            "grid_auto_rows": null,
            "grid_column": null,
            "grid_gap": null,
            "grid_row": null,
            "grid_template_areas": null,
            "grid_template_columns": null,
            "grid_template_rows": null,
            "height": null,
            "justify_content": null,
            "justify_items": null,
            "left": null,
            "margin": null,
            "max_height": null,
            "max_width": null,
            "min_height": null,
            "min_width": null,
            "object_fit": null,
            "object_position": null,
            "order": null,
            "overflow": null,
            "overflow_x": null,
            "overflow_y": null,
            "padding": null,
            "right": null,
            "top": null,
            "visibility": null,
            "width": null
          }
        },
        "cd5c9cef6a2f426693e6a595abed9432": {
          "model_module": "@jupyter-widgets/controls",
          "model_name": "ProgressStyleModel",
          "model_module_version": "1.5.0",
          "state": {
            "_model_module": "@jupyter-widgets/controls",
            "_model_module_version": "1.5.0",
            "_model_name": "ProgressStyleModel",
            "_view_count": null,
            "_view_module": "@jupyter-widgets/base",
            "_view_module_version": "1.2.0",
            "_view_name": "StyleView",
            "bar_color": null,
            "description_width": ""
          }
        },
        "57c1c8d96e764e9a84a2d16ecfb41c3a": {
          "model_module": "@jupyter-widgets/base",
          "model_name": "LayoutModel",
          "model_module_version": "1.2.0",
          "state": {
            "_model_module": "@jupyter-widgets/base",
            "_model_module_version": "1.2.0",
            "_model_name": "LayoutModel",
            "_view_count": null,
            "_view_module": "@jupyter-widgets/base",
            "_view_module_version": "1.2.0",
            "_view_name": "LayoutView",
            "align_content": null,
            "align_items": null,
            "align_self": null,
            "border": null,
            "bottom": null,
            "display": null,
            "flex": null,
            "flex_flow": null,
            "grid_area": null,
            "grid_auto_columns": null,
            "grid_auto_flow": null,
            "grid_auto_rows": null,
            "grid_column": null,
            "grid_gap": null,
            "grid_row": null,
            "grid_template_areas": null,
            "grid_template_columns": null,
            "grid_template_rows": null,
            "height": null,
            "justify_content": null,
            "justify_items": null,
            "left": null,
            "margin": null,
            "max_height": null,
            "max_width": null,
            "min_height": null,
            "min_width": null,
            "object_fit": null,
            "object_position": null,
            "order": null,
            "overflow": null,
            "overflow_x": null,
            "overflow_y": null,
            "padding": null,
            "right": null,
            "top": null,
            "visibility": null,
            "width": null
          }
        },
        "fdf649ae4cb64a6eb9959824fe3c8acf": {
          "model_module": "@jupyter-widgets/controls",
          "model_name": "DescriptionStyleModel",
          "model_module_version": "1.5.0",
          "state": {
            "_model_module": "@jupyter-widgets/controls",
            "_model_module_version": "1.5.0",
            "_model_name": "DescriptionStyleModel",
            "_view_count": null,
            "_view_module": "@jupyter-widgets/base",
            "_view_module_version": "1.2.0",
            "_view_name": "StyleView",
            "description_width": ""
          }
        },
        "b09871d69a0744129f1ef51e7e5a1ef6": {
          "model_module": "@jupyter-widgets/controls",
          "model_name": "HBoxModel",
          "model_module_version": "1.5.0",
          "state": {
            "_dom_classes": [],
            "_model_module": "@jupyter-widgets/controls",
            "_model_module_version": "1.5.0",
            "_model_name": "HBoxModel",
            "_view_count": null,
            "_view_module": "@jupyter-widgets/controls",
            "_view_module_version": "1.5.0",
            "_view_name": "HBoxView",
            "box_style": "",
            "children": [
              "IPY_MODEL_1fc947bd320a4688ac9c84541c5328a8",
              "IPY_MODEL_559777985d2a4b29802a3201d3e33eb6",
              "IPY_MODEL_ef94e121e9e74bcca16a9d642aaaf96f"
            ],
            "layout": "IPY_MODEL_be7fbae81e264a0f8d1127476de40296"
          }
        },
        "1fc947bd320a4688ac9c84541c5328a8": {
          "model_module": "@jupyter-widgets/controls",
          "model_name": "HTMLModel",
          "model_module_version": "1.5.0",
          "state": {
            "_dom_classes": [],
            "_model_module": "@jupyter-widgets/controls",
            "_model_module_version": "1.5.0",
            "_model_name": "HTMLModel",
            "_view_count": null,
            "_view_module": "@jupyter-widgets/controls",
            "_view_module_version": "1.5.0",
            "_view_name": "HTMLView",
            "description": "",
            "description_tooltip": null,
            "layout": "IPY_MODEL_5235dbd041514c089a8d740df9506f4a",
            "placeholder": "​",
            "style": "IPY_MODEL_6fefbcbe4d9d40fa969374b073b1d4ed",
            "value": "100%"
          }
        },
        "559777985d2a4b29802a3201d3e33eb6": {
          "model_module": "@jupyter-widgets/controls",
          "model_name": "FloatProgressModel",
          "model_module_version": "1.5.0",
          "state": {
            "_dom_classes": [],
            "_model_module": "@jupyter-widgets/controls",
            "_model_module_version": "1.5.0",
            "_model_name": "FloatProgressModel",
            "_view_count": null,
            "_view_module": "@jupyter-widgets/controls",
            "_view_module_version": "1.5.0",
            "_view_name": "ProgressView",
            "bar_style": "success",
            "description": "",
            "description_tooltip": null,
            "layout": "IPY_MODEL_ed5cf353cf9f499aaed3042a19c34653",
            "max": 3,
            "min": 0,
            "orientation": "horizontal",
            "style": "IPY_MODEL_72b1049bf7d6447face92fdffe951684",
            "value": 3
          }
        },
        "ef94e121e9e74bcca16a9d642aaaf96f": {
          "model_module": "@jupyter-widgets/controls",
          "model_name": "HTMLModel",
          "model_module_version": "1.5.0",
          "state": {
            "_dom_classes": [],
            "_model_module": "@jupyter-widgets/controls",
            "_model_module_version": "1.5.0",
            "_model_name": "HTMLModel",
            "_view_count": null,
            "_view_module": "@jupyter-widgets/controls",
            "_view_module_version": "1.5.0",
            "_view_name": "HTMLView",
            "description": "",
            "description_tooltip": null,
            "layout": "IPY_MODEL_714bef2b072343b598383242c319410a",
            "placeholder": "​",
            "style": "IPY_MODEL_10b5ad92ac9540c0bd15f6b57457736c",
            "value": " 3/3 [00:36&lt;00:00, 12.18s/it]"
          }
        },
        "be7fbae81e264a0f8d1127476de40296": {
          "model_module": "@jupyter-widgets/base",
          "model_name": "LayoutModel",
          "model_module_version": "1.2.0",
          "state": {
            "_model_module": "@jupyter-widgets/base",
            "_model_module_version": "1.2.0",
            "_model_name": "LayoutModel",
            "_view_count": null,
            "_view_module": "@jupyter-widgets/base",
            "_view_module_version": "1.2.0",
            "_view_name": "LayoutView",
            "align_content": null,
            "align_items": null,
            "align_self": null,
            "border": null,
            "bottom": null,
            "display": null,
            "flex": null,
            "flex_flow": null,
            "grid_area": null,
            "grid_auto_columns": null,
            "grid_auto_flow": null,
            "grid_auto_rows": null,
            "grid_column": null,
            "grid_gap": null,
            "grid_row": null,
            "grid_template_areas": null,
            "grid_template_columns": null,
            "grid_template_rows": null,
            "height": null,
            "justify_content": null,
            "justify_items": null,
            "left": null,
            "margin": null,
            "max_height": null,
            "max_width": null,
            "min_height": null,
            "min_width": null,
            "object_fit": null,
            "object_position": null,
            "order": null,
            "overflow": null,
            "overflow_x": null,
            "overflow_y": null,
            "padding": null,
            "right": null,
            "top": null,
            "visibility": null,
            "width": null
          }
        },
        "5235dbd041514c089a8d740df9506f4a": {
          "model_module": "@jupyter-widgets/base",
          "model_name": "LayoutModel",
          "model_module_version": "1.2.0",
          "state": {
            "_model_module": "@jupyter-widgets/base",
            "_model_module_version": "1.2.0",
            "_model_name": "LayoutModel",
            "_view_count": null,
            "_view_module": "@jupyter-widgets/base",
            "_view_module_version": "1.2.0",
            "_view_name": "LayoutView",
            "align_content": null,
            "align_items": null,
            "align_self": null,
            "border": null,
            "bottom": null,
            "display": null,
            "flex": null,
            "flex_flow": null,
            "grid_area": null,
            "grid_auto_columns": null,
            "grid_auto_flow": null,
            "grid_auto_rows": null,
            "grid_column": null,
            "grid_gap": null,
            "grid_row": null,
            "grid_template_areas": null,
            "grid_template_columns": null,
            "grid_template_rows": null,
            "height": null,
            "justify_content": null,
            "justify_items": null,
            "left": null,
            "margin": null,
            "max_height": null,
            "max_width": null,
            "min_height": null,
            "min_width": null,
            "object_fit": null,
            "object_position": null,
            "order": null,
            "overflow": null,
            "overflow_x": null,
            "overflow_y": null,
            "padding": null,
            "right": null,
            "top": null,
            "visibility": null,
            "width": null
          }
        },
        "6fefbcbe4d9d40fa969374b073b1d4ed": {
          "model_module": "@jupyter-widgets/controls",
          "model_name": "DescriptionStyleModel",
          "model_module_version": "1.5.0",
          "state": {
            "_model_module": "@jupyter-widgets/controls",
            "_model_module_version": "1.5.0",
            "_model_name": "DescriptionStyleModel",
            "_view_count": null,
            "_view_module": "@jupyter-widgets/base",
            "_view_module_version": "1.2.0",
            "_view_name": "StyleView",
            "description_width": ""
          }
        },
        "ed5cf353cf9f499aaed3042a19c34653": {
          "model_module": "@jupyter-widgets/base",
          "model_name": "LayoutModel",
          "model_module_version": "1.2.0",
          "state": {
            "_model_module": "@jupyter-widgets/base",
            "_model_module_version": "1.2.0",
            "_model_name": "LayoutModel",
            "_view_count": null,
            "_view_module": "@jupyter-widgets/base",
            "_view_module_version": "1.2.0",
            "_view_name": "LayoutView",
            "align_content": null,
            "align_items": null,
            "align_self": null,
            "border": null,
            "bottom": null,
            "display": null,
            "flex": null,
            "flex_flow": null,
            "grid_area": null,
            "grid_auto_columns": null,
            "grid_auto_flow": null,
            "grid_auto_rows": null,
            "grid_column": null,
            "grid_gap": null,
            "grid_row": null,
            "grid_template_areas": null,
            "grid_template_columns": null,
            "grid_template_rows": null,
            "height": null,
            "justify_content": null,
            "justify_items": null,
            "left": null,
            "margin": null,
            "max_height": null,
            "max_width": null,
            "min_height": null,
            "min_width": null,
            "object_fit": null,
            "object_position": null,
            "order": null,
            "overflow": null,
            "overflow_x": null,
            "overflow_y": null,
            "padding": null,
            "right": null,
            "top": null,
            "visibility": null,
            "width": null
          }
        },
        "72b1049bf7d6447face92fdffe951684": {
          "model_module": "@jupyter-widgets/controls",
          "model_name": "ProgressStyleModel",
          "model_module_version": "1.5.0",
          "state": {
            "_model_module": "@jupyter-widgets/controls",
            "_model_module_version": "1.5.0",
            "_model_name": "ProgressStyleModel",
            "_view_count": null,
            "_view_module": "@jupyter-widgets/base",
            "_view_module_version": "1.2.0",
            "_view_name": "StyleView",
            "bar_color": null,
            "description_width": ""
          }
        },
        "714bef2b072343b598383242c319410a": {
          "model_module": "@jupyter-widgets/base",
          "model_name": "LayoutModel",
          "model_module_version": "1.2.0",
          "state": {
            "_model_module": "@jupyter-widgets/base",
            "_model_module_version": "1.2.0",
            "_model_name": "LayoutModel",
            "_view_count": null,
            "_view_module": "@jupyter-widgets/base",
            "_view_module_version": "1.2.0",
            "_view_name": "LayoutView",
            "align_content": null,
            "align_items": null,
            "align_self": null,
            "border": null,
            "bottom": null,
            "display": null,
            "flex": null,
            "flex_flow": null,
            "grid_area": null,
            "grid_auto_columns": null,
            "grid_auto_flow": null,
            "grid_auto_rows": null,
            "grid_column": null,
            "grid_gap": null,
            "grid_row": null,
            "grid_template_areas": null,
            "grid_template_columns": null,
            "grid_template_rows": null,
            "height": null,
            "justify_content": null,
            "justify_items": null,
            "left": null,
            "margin": null,
            "max_height": null,
            "max_width": null,
            "min_height": null,
            "min_width": null,
            "object_fit": null,
            "object_position": null,
            "order": null,
            "overflow": null,
            "overflow_x": null,
            "overflow_y": null,
            "padding": null,
            "right": null,
            "top": null,
            "visibility": null,
            "width": null
          }
        },
        "10b5ad92ac9540c0bd15f6b57457736c": {
          "model_module": "@jupyter-widgets/controls",
          "model_name": "DescriptionStyleModel",
          "model_module_version": "1.5.0",
          "state": {
            "_model_module": "@jupyter-widgets/controls",
            "_model_module_version": "1.5.0",
            "_model_name": "DescriptionStyleModel",
            "_view_count": null,
            "_view_module": "@jupyter-widgets/base",
            "_view_module_version": "1.2.0",
            "_view_name": "StyleView",
            "description_width": ""
          }
        },
        "84cb4765062a4f6a8a9b7347da4fa1d4": {
          "model_module": "@jupyter-widgets/controls",
          "model_name": "HBoxModel",
          "model_module_version": "1.5.0",
          "state": {
            "_dom_classes": [],
            "_model_module": "@jupyter-widgets/controls",
            "_model_module_version": "1.5.0",
            "_model_name": "HBoxModel",
            "_view_count": null,
            "_view_module": "@jupyter-widgets/controls",
            "_view_module_version": "1.5.0",
            "_view_name": "HBoxView",
            "box_style": "",
            "children": [
              "IPY_MODEL_a86734473417432d92b071ea6c0acc0e",
              "IPY_MODEL_149a732c948342ceabf4da6272b86b5f",
              "IPY_MODEL_78c371730866485ca89d3ae28c4c3e17"
            ],
            "layout": "IPY_MODEL_7dcf686073754d269eff1cdd5f21b6eb"
          }
        },
        "a86734473417432d92b071ea6c0acc0e": {
          "model_module": "@jupyter-widgets/controls",
          "model_name": "HTMLModel",
          "model_module_version": "1.5.0",
          "state": {
            "_dom_classes": [],
            "_model_module": "@jupyter-widgets/controls",
            "_model_module_version": "1.5.0",
            "_model_name": "HTMLModel",
            "_view_count": null,
            "_view_module": "@jupyter-widgets/controls",
            "_view_module_version": "1.5.0",
            "_view_name": "HTMLView",
            "description": "",
            "description_tooltip": null,
            "layout": "IPY_MODEL_6d9d222a5e554bb284ccee5f926404e0",
            "placeholder": "​",
            "style": "IPY_MODEL_f103747a7f64409c9657092eb975783b",
            "value": "Making predictions: 100%"
          }
        },
        "149a732c948342ceabf4da6272b86b5f": {
          "model_module": "@jupyter-widgets/controls",
          "model_name": "FloatProgressModel",
          "model_module_version": "1.5.0",
          "state": {
            "_dom_classes": [],
            "_model_module": "@jupyter-widgets/controls",
            "_model_module_version": "1.5.0",
            "_model_name": "FloatProgressModel",
            "_view_count": null,
            "_view_module": "@jupyter-widgets/controls",
            "_view_module_version": "1.5.0",
            "_view_name": "ProgressView",
            "bar_style": "success",
            "description": "",
            "description_tooltip": null,
            "layout": "IPY_MODEL_759a8dbd86cc459fa9b2af588ea9e0a0",
            "max": 313,
            "min": 0,
            "orientation": "horizontal",
            "style": "IPY_MODEL_fc5c6becba4b483b8450f0845fdd315e",
            "value": 313
          }
        },
        "78c371730866485ca89d3ae28c4c3e17": {
          "model_module": "@jupyter-widgets/controls",
          "model_name": "HTMLModel",
          "model_module_version": "1.5.0",
          "state": {
            "_dom_classes": [],
            "_model_module": "@jupyter-widgets/controls",
            "_model_module_version": "1.5.0",
            "_model_name": "HTMLModel",
            "_view_count": null,
            "_view_module": "@jupyter-widgets/controls",
            "_view_module_version": "1.5.0",
            "_view_name": "HTMLView",
            "description": "",
            "description_tooltip": null,
            "layout": "IPY_MODEL_bd5b3c7dfde54a71ba8544d1c84ceb22",
            "placeholder": "​",
            "style": "IPY_MODEL_afc41980c32b4b18a14d6211f8617f00",
            "value": " 313/313 [00:01&lt;00:00, 255.19it/s]"
          }
        },
        "7dcf686073754d269eff1cdd5f21b6eb": {
          "model_module": "@jupyter-widgets/base",
          "model_name": "LayoutModel",
          "model_module_version": "1.2.0",
          "state": {
            "_model_module": "@jupyter-widgets/base",
            "_model_module_version": "1.2.0",
            "_model_name": "LayoutModel",
            "_view_count": null,
            "_view_module": "@jupyter-widgets/base",
            "_view_module_version": "1.2.0",
            "_view_name": "LayoutView",
            "align_content": null,
            "align_items": null,
            "align_self": null,
            "border": null,
            "bottom": null,
            "display": null,
            "flex": null,
            "flex_flow": null,
            "grid_area": null,
            "grid_auto_columns": null,
            "grid_auto_flow": null,
            "grid_auto_rows": null,
            "grid_column": null,
            "grid_gap": null,
            "grid_row": null,
            "grid_template_areas": null,
            "grid_template_columns": null,
            "grid_template_rows": null,
            "height": null,
            "justify_content": null,
            "justify_items": null,
            "left": null,
            "margin": null,
            "max_height": null,
            "max_width": null,
            "min_height": null,
            "min_width": null,
            "object_fit": null,
            "object_position": null,
            "order": null,
            "overflow": null,
            "overflow_x": null,
            "overflow_y": null,
            "padding": null,
            "right": null,
            "top": null,
            "visibility": null,
            "width": null
          }
        },
        "6d9d222a5e554bb284ccee5f926404e0": {
          "model_module": "@jupyter-widgets/base",
          "model_name": "LayoutModel",
          "model_module_version": "1.2.0",
          "state": {
            "_model_module": "@jupyter-widgets/base",
            "_model_module_version": "1.2.0",
            "_model_name": "LayoutModel",
            "_view_count": null,
            "_view_module": "@jupyter-widgets/base",
            "_view_module_version": "1.2.0",
            "_view_name": "LayoutView",
            "align_content": null,
            "align_items": null,
            "align_self": null,
            "border": null,
            "bottom": null,
            "display": null,
            "flex": null,
            "flex_flow": null,
            "grid_area": null,
            "grid_auto_columns": null,
            "grid_auto_flow": null,
            "grid_auto_rows": null,
            "grid_column": null,
            "grid_gap": null,
            "grid_row": null,
            "grid_template_areas": null,
            "grid_template_columns": null,
            "grid_template_rows": null,
            "height": null,
            "justify_content": null,
            "justify_items": null,
            "left": null,
            "margin": null,
            "max_height": null,
            "max_width": null,
            "min_height": null,
            "min_width": null,
            "object_fit": null,
            "object_position": null,
            "order": null,
            "overflow": null,
            "overflow_x": null,
            "overflow_y": null,
            "padding": null,
            "right": null,
            "top": null,
            "visibility": null,
            "width": null
          }
        },
        "f103747a7f64409c9657092eb975783b": {
          "model_module": "@jupyter-widgets/controls",
          "model_name": "DescriptionStyleModel",
          "model_module_version": "1.5.0",
          "state": {
            "_model_module": "@jupyter-widgets/controls",
            "_model_module_version": "1.5.0",
            "_model_name": "DescriptionStyleModel",
            "_view_count": null,
            "_view_module": "@jupyter-widgets/base",
            "_view_module_version": "1.2.0",
            "_view_name": "StyleView",
            "description_width": ""
          }
        },
        "759a8dbd86cc459fa9b2af588ea9e0a0": {
          "model_module": "@jupyter-widgets/base",
          "model_name": "LayoutModel",
          "model_module_version": "1.2.0",
          "state": {
            "_model_module": "@jupyter-widgets/base",
            "_model_module_version": "1.2.0",
            "_model_name": "LayoutModel",
            "_view_count": null,
            "_view_module": "@jupyter-widgets/base",
            "_view_module_version": "1.2.0",
            "_view_name": "LayoutView",
            "align_content": null,
            "align_items": null,
            "align_self": null,
            "border": null,
            "bottom": null,
            "display": null,
            "flex": null,
            "flex_flow": null,
            "grid_area": null,
            "grid_auto_columns": null,
            "grid_auto_flow": null,
            "grid_auto_rows": null,
            "grid_column": null,
            "grid_gap": null,
            "grid_row": null,
            "grid_template_areas": null,
            "grid_template_columns": null,
            "grid_template_rows": null,
            "height": null,
            "justify_content": null,
            "justify_items": null,
            "left": null,
            "margin": null,
            "max_height": null,
            "max_width": null,
            "min_height": null,
            "min_width": null,
            "object_fit": null,
            "object_position": null,
            "order": null,
            "overflow": null,
            "overflow_x": null,
            "overflow_y": null,
            "padding": null,
            "right": null,
            "top": null,
            "visibility": null,
            "width": null
          }
        },
        "fc5c6becba4b483b8450f0845fdd315e": {
          "model_module": "@jupyter-widgets/controls",
          "model_name": "ProgressStyleModel",
          "model_module_version": "1.5.0",
          "state": {
            "_model_module": "@jupyter-widgets/controls",
            "_model_module_version": "1.5.0",
            "_model_name": "ProgressStyleModel",
            "_view_count": null,
            "_view_module": "@jupyter-widgets/base",
            "_view_module_version": "1.2.0",
            "_view_name": "StyleView",
            "bar_color": null,
            "description_width": ""
          }
        },
        "bd5b3c7dfde54a71ba8544d1c84ceb22": {
          "model_module": "@jupyter-widgets/base",
          "model_name": "LayoutModel",
          "model_module_version": "1.2.0",
          "state": {
            "_model_module": "@jupyter-widgets/base",
            "_model_module_version": "1.2.0",
            "_model_name": "LayoutModel",
            "_view_count": null,
            "_view_module": "@jupyter-widgets/base",
            "_view_module_version": "1.2.0",
            "_view_name": "LayoutView",
            "align_content": null,
            "align_items": null,
            "align_self": null,
            "border": null,
            "bottom": null,
            "display": null,
            "flex": null,
            "flex_flow": null,
            "grid_area": null,
            "grid_auto_columns": null,
            "grid_auto_flow": null,
            "grid_auto_rows": null,
            "grid_column": null,
            "grid_gap": null,
            "grid_row": null,
            "grid_template_areas": null,
            "grid_template_columns": null,
            "grid_template_rows": null,
            "height": null,
            "justify_content": null,
            "justify_items": null,
            "left": null,
            "margin": null,
            "max_height": null,
            "max_width": null,
            "min_height": null,
            "min_width": null,
            "object_fit": null,
            "object_position": null,
            "order": null,
            "overflow": null,
            "overflow_x": null,
            "overflow_y": null,
            "padding": null,
            "right": null,
            "top": null,
            "visibility": null,
            "width": null
          }
        },
        "afc41980c32b4b18a14d6211f8617f00": {
          "model_module": "@jupyter-widgets/controls",
          "model_name": "DescriptionStyleModel",
          "model_module_version": "1.5.0",
          "state": {
            "_model_module": "@jupyter-widgets/controls",
            "_model_module_version": "1.5.0",
            "_model_name": "DescriptionStyleModel",
            "_view_count": null,
            "_view_module": "@jupyter-widgets/base",
            "_view_module_version": "1.2.0",
            "_view_name": "StyleView",
            "description_width": ""
          }
        },
        "f4c689b8e9f2478798b6abce3e8e429b": {
          "model_module": "@jupyter-widgets/controls",
          "model_name": "HBoxModel",
          "model_module_version": "1.5.0",
          "state": {
            "_dom_classes": [],
            "_model_module": "@jupyter-widgets/controls",
            "_model_module_version": "1.5.0",
            "_model_name": "HBoxModel",
            "_view_count": null,
            "_view_module": "@jupyter-widgets/controls",
            "_view_module_version": "1.5.0",
            "_view_name": "HBoxView",
            "box_style": "",
            "children": [
              "IPY_MODEL_3b9479d337aa40379dd13fd66ff7811c",
              "IPY_MODEL_87e0e4e85c8743d4b28842ac498b2189",
              "IPY_MODEL_cf7a32fc06c142e182dce723f4c0d358"
            ],
            "layout": "IPY_MODEL_62cae1d6e70f41069a930e2d7cd185de"
          }
        },
        "3b9479d337aa40379dd13fd66ff7811c": {
          "model_module": "@jupyter-widgets/controls",
          "model_name": "HTMLModel",
          "model_module_version": "1.5.0",
          "state": {
            "_dom_classes": [],
            "_model_module": "@jupyter-widgets/controls",
            "_model_module_version": "1.5.0",
            "_model_name": "HTMLModel",
            "_view_count": null,
            "_view_module": "@jupyter-widgets/controls",
            "_view_module_version": "1.5.0",
            "_view_name": "HTMLView",
            "description": "",
            "description_tooltip": null,
            "layout": "IPY_MODEL_c1efee33a8cb4a66baa9b7e895662687",
            "placeholder": "​",
            "style": "IPY_MODEL_25093fe14a164302a0248b8dfe71b3fd",
            "value": "100%"
          }
        },
        "87e0e4e85c8743d4b28842ac498b2189": {
          "model_module": "@jupyter-widgets/controls",
          "model_name": "FloatProgressModel",
          "model_module_version": "1.5.0",
          "state": {
            "_dom_classes": [],
            "_model_module": "@jupyter-widgets/controls",
            "_model_module_version": "1.5.0",
            "_model_name": "FloatProgressModel",
            "_view_count": null,
            "_view_module": "@jupyter-widgets/controls",
            "_view_module_version": "1.5.0",
            "_view_name": "ProgressView",
            "bar_style": "success",
            "description": "",
            "description_tooltip": null,
            "layout": "IPY_MODEL_1d5c47cb3d0f476b99648fdf8eb647ba",
            "max": 5,
            "min": 0,
            "orientation": "horizontal",
            "style": "IPY_MODEL_2cbda63b2c41458b9066debffb8e6ac6",
            "value": 5
          }
        },
        "cf7a32fc06c142e182dce723f4c0d358": {
          "model_module": "@jupyter-widgets/controls",
          "model_name": "HTMLModel",
          "model_module_version": "1.5.0",
          "state": {
            "_dom_classes": [],
            "_model_module": "@jupyter-widgets/controls",
            "_model_module_version": "1.5.0",
            "_model_name": "HTMLModel",
            "_view_count": null,
            "_view_module": "@jupyter-widgets/controls",
            "_view_module_version": "1.5.0",
            "_view_name": "HTMLView",
            "description": "",
            "description_tooltip": null,
            "layout": "IPY_MODEL_55a6c8083dec4f39b3d486e41d78566a",
            "placeholder": "​",
            "style": "IPY_MODEL_9d444b9772804b56ba840f2cdd3f3ed6",
            "value": " 5/5 [01:14&lt;00:00, 13.85s/it]"
          }
        },
        "62cae1d6e70f41069a930e2d7cd185de": {
          "model_module": "@jupyter-widgets/base",
          "model_name": "LayoutModel",
          "model_module_version": "1.2.0",
          "state": {
            "_model_module": "@jupyter-widgets/base",
            "_model_module_version": "1.2.0",
            "_model_name": "LayoutModel",
            "_view_count": null,
            "_view_module": "@jupyter-widgets/base",
            "_view_module_version": "1.2.0",
            "_view_name": "LayoutView",
            "align_content": null,
            "align_items": null,
            "align_self": null,
            "border": null,
            "bottom": null,
            "display": null,
            "flex": null,
            "flex_flow": null,
            "grid_area": null,
            "grid_auto_columns": null,
            "grid_auto_flow": null,
            "grid_auto_rows": null,
            "grid_column": null,
            "grid_gap": null,
            "grid_row": null,
            "grid_template_areas": null,
            "grid_template_columns": null,
            "grid_template_rows": null,
            "height": null,
            "justify_content": null,
            "justify_items": null,
            "left": null,
            "margin": null,
            "max_height": null,
            "max_width": null,
            "min_height": null,
            "min_width": null,
            "object_fit": null,
            "object_position": null,
            "order": null,
            "overflow": null,
            "overflow_x": null,
            "overflow_y": null,
            "padding": null,
            "right": null,
            "top": null,
            "visibility": null,
            "width": null
          }
        },
        "c1efee33a8cb4a66baa9b7e895662687": {
          "model_module": "@jupyter-widgets/base",
          "model_name": "LayoutModel",
          "model_module_version": "1.2.0",
          "state": {
            "_model_module": "@jupyter-widgets/base",
            "_model_module_version": "1.2.0",
            "_model_name": "LayoutModel",
            "_view_count": null,
            "_view_module": "@jupyter-widgets/base",
            "_view_module_version": "1.2.0",
            "_view_name": "LayoutView",
            "align_content": null,
            "align_items": null,
            "align_self": null,
            "border": null,
            "bottom": null,
            "display": null,
            "flex": null,
            "flex_flow": null,
            "grid_area": null,
            "grid_auto_columns": null,
            "grid_auto_flow": null,
            "grid_auto_rows": null,
            "grid_column": null,
            "grid_gap": null,
            "grid_row": null,
            "grid_template_areas": null,
            "grid_template_columns": null,
            "grid_template_rows": null,
            "height": null,
            "justify_content": null,
            "justify_items": null,
            "left": null,
            "margin": null,
            "max_height": null,
            "max_width": null,
            "min_height": null,
            "min_width": null,
            "object_fit": null,
            "object_position": null,
            "order": null,
            "overflow": null,
            "overflow_x": null,
            "overflow_y": null,
            "padding": null,
            "right": null,
            "top": null,
            "visibility": null,
            "width": null
          }
        },
        "25093fe14a164302a0248b8dfe71b3fd": {
          "model_module": "@jupyter-widgets/controls",
          "model_name": "DescriptionStyleModel",
          "model_module_version": "1.5.0",
          "state": {
            "_model_module": "@jupyter-widgets/controls",
            "_model_module_version": "1.5.0",
            "_model_name": "DescriptionStyleModel",
            "_view_count": null,
            "_view_module": "@jupyter-widgets/base",
            "_view_module_version": "1.2.0",
            "_view_name": "StyleView",
            "description_width": ""
          }
        },
        "1d5c47cb3d0f476b99648fdf8eb647ba": {
          "model_module": "@jupyter-widgets/base",
          "model_name": "LayoutModel",
          "model_module_version": "1.2.0",
          "state": {
            "_model_module": "@jupyter-widgets/base",
            "_model_module_version": "1.2.0",
            "_model_name": "LayoutModel",
            "_view_count": null,
            "_view_module": "@jupyter-widgets/base",
            "_view_module_version": "1.2.0",
            "_view_name": "LayoutView",
            "align_content": null,
            "align_items": null,
            "align_self": null,
            "border": null,
            "bottom": null,
            "display": null,
            "flex": null,
            "flex_flow": null,
            "grid_area": null,
            "grid_auto_columns": null,
            "grid_auto_flow": null,
            "grid_auto_rows": null,
            "grid_column": null,
            "grid_gap": null,
            "grid_row": null,
            "grid_template_areas": null,
            "grid_template_columns": null,
            "grid_template_rows": null,
            "height": null,
            "justify_content": null,
            "justify_items": null,
            "left": null,
            "margin": null,
            "max_height": null,
            "max_width": null,
            "min_height": null,
            "min_width": null,
            "object_fit": null,
            "object_position": null,
            "order": null,
            "overflow": null,
            "overflow_x": null,
            "overflow_y": null,
            "padding": null,
            "right": null,
            "top": null,
            "visibility": null,
            "width": null
          }
        },
        "2cbda63b2c41458b9066debffb8e6ac6": {
          "model_module": "@jupyter-widgets/controls",
          "model_name": "ProgressStyleModel",
          "model_module_version": "1.5.0",
          "state": {
            "_model_module": "@jupyter-widgets/controls",
            "_model_module_version": "1.5.0",
            "_model_name": "ProgressStyleModel",
            "_view_count": null,
            "_view_module": "@jupyter-widgets/base",
            "_view_module_version": "1.2.0",
            "_view_name": "StyleView",
            "bar_color": null,
            "description_width": ""
          }
        },
        "55a6c8083dec4f39b3d486e41d78566a": {
          "model_module": "@jupyter-widgets/base",
          "model_name": "LayoutModel",
          "model_module_version": "1.2.0",
          "state": {
            "_model_module": "@jupyter-widgets/base",
            "_model_module_version": "1.2.0",
            "_model_name": "LayoutModel",
            "_view_count": null,
            "_view_module": "@jupyter-widgets/base",
            "_view_module_version": "1.2.0",
            "_view_name": "LayoutView",
            "align_content": null,
            "align_items": null,
            "align_self": null,
            "border": null,
            "bottom": null,
            "display": null,
            "flex": null,
            "flex_flow": null,
            "grid_area": null,
            "grid_auto_columns": null,
            "grid_auto_flow": null,
            "grid_auto_rows": null,
            "grid_column": null,
            "grid_gap": null,
            "grid_row": null,
            "grid_template_areas": null,
            "grid_template_columns": null,
            "grid_template_rows": null,
            "height": null,
            "justify_content": null,
            "justify_items": null,
            "left": null,
            "margin": null,
            "max_height": null,
            "max_width": null,
            "min_height": null,
            "min_width": null,
            "object_fit": null,
            "object_position": null,
            "order": null,
            "overflow": null,
            "overflow_x": null,
            "overflow_y": null,
            "padding": null,
            "right": null,
            "top": null,
            "visibility": null,
            "width": null
          }
        },
        "9d444b9772804b56ba840f2cdd3f3ed6": {
          "model_module": "@jupyter-widgets/controls",
          "model_name": "DescriptionStyleModel",
          "model_module_version": "1.5.0",
          "state": {
            "_model_module": "@jupyter-widgets/controls",
            "_model_module_version": "1.5.0",
            "_model_name": "DescriptionStyleModel",
            "_view_count": null,
            "_view_module": "@jupyter-widgets/base",
            "_view_module_version": "1.2.0",
            "_view_name": "StyleView",
            "description_width": ""
          }
        },
        "2f52692a69d74bcb9f8df263e7c13cb0": {
          "model_module": "@jupyter-widgets/controls",
          "model_name": "HBoxModel",
          "model_module_version": "1.5.0",
          "state": {
            "_dom_classes": [],
            "_model_module": "@jupyter-widgets/controls",
            "_model_module_version": "1.5.0",
            "_model_name": "HBoxModel",
            "_view_count": null,
            "_view_module": "@jupyter-widgets/controls",
            "_view_module_version": "1.5.0",
            "_view_name": "HBoxView",
            "box_style": "",
            "children": [
              "IPY_MODEL_14f3b3f7b5594113b252704c59e08d5d",
              "IPY_MODEL_0e2c8dc9c41c4d508040a14666341057",
              "IPY_MODEL_3158d936c3b0468e8fe0fdbf0eeecdab"
            ],
            "layout": "IPY_MODEL_9adbb0d5b52641d391e7f0df91b3bf2e"
          }
        },
        "14f3b3f7b5594113b252704c59e08d5d": {
          "model_module": "@jupyter-widgets/controls",
          "model_name": "HTMLModel",
          "model_module_version": "1.5.0",
          "state": {
            "_dom_classes": [],
            "_model_module": "@jupyter-widgets/controls",
            "_model_module_version": "1.5.0",
            "_model_name": "HTMLModel",
            "_view_count": null,
            "_view_module": "@jupyter-widgets/controls",
            "_view_module_version": "1.5.0",
            "_view_name": "HTMLView",
            "description": "",
            "description_tooltip": null,
            "layout": "IPY_MODEL_acf6e941eae0410592556c9838268edd",
            "placeholder": "​",
            "style": "IPY_MODEL_2c0f92b905f24a81b4493ba4d21ca898",
            "value": "100%"
          }
        },
        "0e2c8dc9c41c4d508040a14666341057": {
          "model_module": "@jupyter-widgets/controls",
          "model_name": "FloatProgressModel",
          "model_module_version": "1.5.0",
          "state": {
            "_dom_classes": [],
            "_model_module": "@jupyter-widgets/controls",
            "_model_module_version": "1.5.0",
            "_model_name": "FloatProgressModel",
            "_view_count": null,
            "_view_module": "@jupyter-widgets/controls",
            "_view_module_version": "1.5.0",
            "_view_name": "ProgressView",
            "bar_style": "success",
            "description": "",
            "description_tooltip": null,
            "layout": "IPY_MODEL_d8b9300c1cae4a37b3e45840ae846891",
            "max": 5,
            "min": 0,
            "orientation": "horizontal",
            "style": "IPY_MODEL_7531e97a888c479ca55eb8c0f2435dcb",
            "value": 5
          }
        },
        "3158d936c3b0468e8fe0fdbf0eeecdab": {
          "model_module": "@jupyter-widgets/controls",
          "model_name": "HTMLModel",
          "model_module_version": "1.5.0",
          "state": {
            "_dom_classes": [],
            "_model_module": "@jupyter-widgets/controls",
            "_model_module_version": "1.5.0",
            "_model_name": "HTMLModel",
            "_view_count": null,
            "_view_module": "@jupyter-widgets/controls",
            "_view_module_version": "1.5.0",
            "_view_name": "HTMLView",
            "description": "",
            "description_tooltip": null,
            "layout": "IPY_MODEL_b250088eeca1429ab999d05227e2be57",
            "placeholder": "​",
            "style": "IPY_MODEL_aecba97ff40140199a29dd2f1883458d",
            "value": " 5/5 [01:00&lt;00:00, 12.04s/it]"
          }
        },
        "9adbb0d5b52641d391e7f0df91b3bf2e": {
          "model_module": "@jupyter-widgets/base",
          "model_name": "LayoutModel",
          "model_module_version": "1.2.0",
          "state": {
            "_model_module": "@jupyter-widgets/base",
            "_model_module_version": "1.2.0",
            "_model_name": "LayoutModel",
            "_view_count": null,
            "_view_module": "@jupyter-widgets/base",
            "_view_module_version": "1.2.0",
            "_view_name": "LayoutView",
            "align_content": null,
            "align_items": null,
            "align_self": null,
            "border": null,
            "bottom": null,
            "display": null,
            "flex": null,
            "flex_flow": null,
            "grid_area": null,
            "grid_auto_columns": null,
            "grid_auto_flow": null,
            "grid_auto_rows": null,
            "grid_column": null,
            "grid_gap": null,
            "grid_row": null,
            "grid_template_areas": null,
            "grid_template_columns": null,
            "grid_template_rows": null,
            "height": null,
            "justify_content": null,
            "justify_items": null,
            "left": null,
            "margin": null,
            "max_height": null,
            "max_width": null,
            "min_height": null,
            "min_width": null,
            "object_fit": null,
            "object_position": null,
            "order": null,
            "overflow": null,
            "overflow_x": null,
            "overflow_y": null,
            "padding": null,
            "right": null,
            "top": null,
            "visibility": null,
            "width": null
          }
        },
        "acf6e941eae0410592556c9838268edd": {
          "model_module": "@jupyter-widgets/base",
          "model_name": "LayoutModel",
          "model_module_version": "1.2.0",
          "state": {
            "_model_module": "@jupyter-widgets/base",
            "_model_module_version": "1.2.0",
            "_model_name": "LayoutModel",
            "_view_count": null,
            "_view_module": "@jupyter-widgets/base",
            "_view_module_version": "1.2.0",
            "_view_name": "LayoutView",
            "align_content": null,
            "align_items": null,
            "align_self": null,
            "border": null,
            "bottom": null,
            "display": null,
            "flex": null,
            "flex_flow": null,
            "grid_area": null,
            "grid_auto_columns": null,
            "grid_auto_flow": null,
            "grid_auto_rows": null,
            "grid_column": null,
            "grid_gap": null,
            "grid_row": null,
            "grid_template_areas": null,
            "grid_template_columns": null,
            "grid_template_rows": null,
            "height": null,
            "justify_content": null,
            "justify_items": null,
            "left": null,
            "margin": null,
            "max_height": null,
            "max_width": null,
            "min_height": null,
            "min_width": null,
            "object_fit": null,
            "object_position": null,
            "order": null,
            "overflow": null,
            "overflow_x": null,
            "overflow_y": null,
            "padding": null,
            "right": null,
            "top": null,
            "visibility": null,
            "width": null
          }
        },
        "2c0f92b905f24a81b4493ba4d21ca898": {
          "model_module": "@jupyter-widgets/controls",
          "model_name": "DescriptionStyleModel",
          "model_module_version": "1.5.0",
          "state": {
            "_model_module": "@jupyter-widgets/controls",
            "_model_module_version": "1.5.0",
            "_model_name": "DescriptionStyleModel",
            "_view_count": null,
            "_view_module": "@jupyter-widgets/base",
            "_view_module_version": "1.2.0",
            "_view_name": "StyleView",
            "description_width": ""
          }
        },
        "d8b9300c1cae4a37b3e45840ae846891": {
          "model_module": "@jupyter-widgets/base",
          "model_name": "LayoutModel",
          "model_module_version": "1.2.0",
          "state": {
            "_model_module": "@jupyter-widgets/base",
            "_model_module_version": "1.2.0",
            "_model_name": "LayoutModel",
            "_view_count": null,
            "_view_module": "@jupyter-widgets/base",
            "_view_module_version": "1.2.0",
            "_view_name": "LayoutView",
            "align_content": null,
            "align_items": null,
            "align_self": null,
            "border": null,
            "bottom": null,
            "display": null,
            "flex": null,
            "flex_flow": null,
            "grid_area": null,
            "grid_auto_columns": null,
            "grid_auto_flow": null,
            "grid_auto_rows": null,
            "grid_column": null,
            "grid_gap": null,
            "grid_row": null,
            "grid_template_areas": null,
            "grid_template_columns": null,
            "grid_template_rows": null,
            "height": null,
            "justify_content": null,
            "justify_items": null,
            "left": null,
            "margin": null,
            "max_height": null,
            "max_width": null,
            "min_height": null,
            "min_width": null,
            "object_fit": null,
            "object_position": null,
            "order": null,
            "overflow": null,
            "overflow_x": null,
            "overflow_y": null,
            "padding": null,
            "right": null,
            "top": null,
            "visibility": null,
            "width": null
          }
        },
        "7531e97a888c479ca55eb8c0f2435dcb": {
          "model_module": "@jupyter-widgets/controls",
          "model_name": "ProgressStyleModel",
          "model_module_version": "1.5.0",
          "state": {
            "_model_module": "@jupyter-widgets/controls",
            "_model_module_version": "1.5.0",
            "_model_name": "ProgressStyleModel",
            "_view_count": null,
            "_view_module": "@jupyter-widgets/base",
            "_view_module_version": "1.2.0",
            "_view_name": "StyleView",
            "bar_color": null,
            "description_width": ""
          }
        },
        "b250088eeca1429ab999d05227e2be57": {
          "model_module": "@jupyter-widgets/base",
          "model_name": "LayoutModel",
          "model_module_version": "1.2.0",
          "state": {
            "_model_module": "@jupyter-widgets/base",
            "_model_module_version": "1.2.0",
            "_model_name": "LayoutModel",
            "_view_count": null,
            "_view_module": "@jupyter-widgets/base",
            "_view_module_version": "1.2.0",
            "_view_name": "LayoutView",
            "align_content": null,
            "align_items": null,
            "align_self": null,
            "border": null,
            "bottom": null,
            "display": null,
            "flex": null,
            "flex_flow": null,
            "grid_area": null,
            "grid_auto_columns": null,
            "grid_auto_flow": null,
            "grid_auto_rows": null,
            "grid_column": null,
            "grid_gap": null,
            "grid_row": null,
            "grid_template_areas": null,
            "grid_template_columns": null,
            "grid_template_rows": null,
            "height": null,
            "justify_content": null,
            "justify_items": null,
            "left": null,
            "margin": null,
            "max_height": null,
            "max_width": null,
            "min_height": null,
            "min_width": null,
            "object_fit": null,
            "object_position": null,
            "order": null,
            "overflow": null,
            "overflow_x": null,
            "overflow_y": null,
            "padding": null,
            "right": null,
            "top": null,
            "visibility": null,
            "width": null
          }
        },
        "aecba97ff40140199a29dd2f1883458d": {
          "model_module": "@jupyter-widgets/controls",
          "model_name": "DescriptionStyleModel",
          "model_module_version": "1.5.0",
          "state": {
            "_model_module": "@jupyter-widgets/controls",
            "_model_module_version": "1.5.0",
            "_model_name": "DescriptionStyleModel",
            "_view_count": null,
            "_view_module": "@jupyter-widgets/base",
            "_view_module_version": "1.2.0",
            "_view_name": "StyleView",
            "description_width": ""
          }
        }
      }
    },
    "accelerator": "GPU"
  },
  "cells": [
    {
      "cell_type": "markdown",
      "metadata": {
        "id": "view-in-github",
        "colab_type": "text"
      },
      "source": [
        "<a href=\"https://colab.research.google.com/github/tanvircr7/meh/blob/master/03_CODE_pytorch_dbourke.ipynb\" target=\"_parent\"><img src=\"https://colab.research.google.com/assets/colab-badge.svg\" alt=\"Open In Colab\"/></a>"
      ]
    },
    {
      "cell_type": "code",
      "execution_count": 109,
      "metadata": {
        "colab": {
          "base_uri": "https://localhost:8080/"
        },
        "id": "DJdHw761bNCN",
        "outputId": "9f4b1a35-161b-4865-88a7-3910fa859559"
      },
      "outputs": [
        {
          "output_type": "stream",
          "name": "stdout",
          "text": [
            "PyTorch version: 2.2.1+cu121\n",
            "torchvision version: 0.17.1+cu121\n"
          ]
        }
      ],
      "source": [
        "# Import PyTorch\n",
        "import torch\n",
        "from torch import nn\n",
        "\n",
        "# Import torchvision\n",
        "import torchvision\n",
        "from torchvision import datasets\n",
        "from torchvision.transforms import ToTensor\n",
        "\n",
        "# Import matplotlib for visualization\n",
        "import matplotlib.pyplot as plt\n",
        "\n",
        "# Check versions\n",
        "# Note: your PyTorch version shouldn't be lower than 1.10.0 and torchvision version shouldn't be lower than 0.11\n",
        "print(f\"PyTorch version: {torch.__version__}\\ntorchvision version: {torchvision.__version__}\")\n"
      ]
    },
    {
      "cell_type": "markdown",
      "source": [
        "# **1. Getting a dataset**"
      ],
      "metadata": {
        "id": "hYCpdoziH8Jt"
      }
    },
    {
      "cell_type": "code",
      "source": [
        "# Setup training data\n",
        "train_data = datasets.FashionMNIST(\n",
        "    root=\"data\", # where to download data to?\n",
        "    train=True, # get training data\n",
        "    download=True, # download data if it doesn't exist on disk\n",
        "    transform=ToTensor(), # images come as PIL format, we want to turn into Torch tensors\n",
        "    target_transform=None # you can transform labels as well\n",
        ")\n",
        "\n",
        "# Setup testing data\n",
        "test_data = datasets.FashionMNIST(\n",
        "    root=\"data\",\n",
        "    train=False, # get test data\n",
        "    download=True,\n",
        "    transform=ToTensor()\n",
        ")"
      ],
      "metadata": {
        "id": "j35BiIt2H9KL"
      },
      "execution_count": 110,
      "outputs": []
    },
    {
      "cell_type": "markdown",
      "source": [],
      "metadata": {
        "id": "OTTnNZKVMyA9"
      }
    },
    {
      "cell_type": "code",
      "source": [
        "# See first training sample\n",
        "image, label = train_data[0]\n",
        "image, label"
      ],
      "metadata": {
        "id": "QZTQVx8uMx7w",
        "outputId": "4090b124-2fbf-4fee-b20b-c836bff05b4d",
        "colab": {
          "base_uri": "https://localhost:8080/"
        }
      },
      "execution_count": 111,
      "outputs": [
        {
          "output_type": "execute_result",
          "data": {
            "text/plain": [
              "(tensor([[[0.0000, 0.0000, 0.0000, 0.0000, 0.0000, 0.0000, 0.0000, 0.0000,\n",
              "           0.0000, 0.0000, 0.0000, 0.0000, 0.0000, 0.0000, 0.0000, 0.0000,\n",
              "           0.0000, 0.0000, 0.0000, 0.0000, 0.0000, 0.0000, 0.0000, 0.0000,\n",
              "           0.0000, 0.0000, 0.0000, 0.0000],\n",
              "          [0.0000, 0.0000, 0.0000, 0.0000, 0.0000, 0.0000, 0.0000, 0.0000,\n",
              "           0.0000, 0.0000, 0.0000, 0.0000, 0.0000, 0.0000, 0.0000, 0.0000,\n",
              "           0.0000, 0.0000, 0.0000, 0.0000, 0.0000, 0.0000, 0.0000, 0.0000,\n",
              "           0.0000, 0.0000, 0.0000, 0.0000],\n",
              "          [0.0000, 0.0000, 0.0000, 0.0000, 0.0000, 0.0000, 0.0000, 0.0000,\n",
              "           0.0000, 0.0000, 0.0000, 0.0000, 0.0000, 0.0000, 0.0000, 0.0000,\n",
              "           0.0000, 0.0000, 0.0000, 0.0000, 0.0000, 0.0000, 0.0000, 0.0000,\n",
              "           0.0000, 0.0000, 0.0000, 0.0000],\n",
              "          [0.0000, 0.0000, 0.0000, 0.0000, 0.0000, 0.0000, 0.0000, 0.0000,\n",
              "           0.0000, 0.0000, 0.0000, 0.0000, 0.0039, 0.0000, 0.0000, 0.0510,\n",
              "           0.2863, 0.0000, 0.0000, 0.0039, 0.0157, 0.0000, 0.0000, 0.0000,\n",
              "           0.0000, 0.0039, 0.0039, 0.0000],\n",
              "          [0.0000, 0.0000, 0.0000, 0.0000, 0.0000, 0.0000, 0.0000, 0.0000,\n",
              "           0.0000, 0.0000, 0.0000, 0.0000, 0.0118, 0.0000, 0.1412, 0.5333,\n",
              "           0.4980, 0.2431, 0.2118, 0.0000, 0.0000, 0.0000, 0.0039, 0.0118,\n",
              "           0.0157, 0.0000, 0.0000, 0.0118],\n",
              "          [0.0000, 0.0000, 0.0000, 0.0000, 0.0000, 0.0000, 0.0000, 0.0000,\n",
              "           0.0000, 0.0000, 0.0000, 0.0000, 0.0235, 0.0000, 0.4000, 0.8000,\n",
              "           0.6902, 0.5255, 0.5647, 0.4824, 0.0902, 0.0000, 0.0000, 0.0000,\n",
              "           0.0000, 0.0471, 0.0392, 0.0000],\n",
              "          [0.0000, 0.0000, 0.0000, 0.0000, 0.0000, 0.0000, 0.0000, 0.0000,\n",
              "           0.0000, 0.0000, 0.0000, 0.0000, 0.0000, 0.0000, 0.6078, 0.9255,\n",
              "           0.8118, 0.6980, 0.4196, 0.6118, 0.6314, 0.4275, 0.2510, 0.0902,\n",
              "           0.3020, 0.5098, 0.2824, 0.0588],\n",
              "          [0.0000, 0.0000, 0.0000, 0.0000, 0.0000, 0.0000, 0.0000, 0.0000,\n",
              "           0.0000, 0.0000, 0.0000, 0.0039, 0.0000, 0.2706, 0.8118, 0.8745,\n",
              "           0.8549, 0.8471, 0.8471, 0.6392, 0.4980, 0.4745, 0.4784, 0.5725,\n",
              "           0.5529, 0.3451, 0.6745, 0.2588],\n",
              "          [0.0000, 0.0000, 0.0000, 0.0000, 0.0000, 0.0000, 0.0000, 0.0000,\n",
              "           0.0000, 0.0039, 0.0039, 0.0039, 0.0000, 0.7843, 0.9098, 0.9098,\n",
              "           0.9137, 0.8980, 0.8745, 0.8745, 0.8431, 0.8353, 0.6431, 0.4980,\n",
              "           0.4824, 0.7686, 0.8980, 0.0000],\n",
              "          [0.0000, 0.0000, 0.0000, 0.0000, 0.0000, 0.0000, 0.0000, 0.0000,\n",
              "           0.0000, 0.0000, 0.0000, 0.0000, 0.0000, 0.7176, 0.8824, 0.8471,\n",
              "           0.8745, 0.8941, 0.9216, 0.8902, 0.8784, 0.8706, 0.8784, 0.8667,\n",
              "           0.8745, 0.9608, 0.6784, 0.0000],\n",
              "          [0.0000, 0.0000, 0.0000, 0.0000, 0.0000, 0.0000, 0.0000, 0.0000,\n",
              "           0.0000, 0.0000, 0.0000, 0.0000, 0.0000, 0.7569, 0.8941, 0.8549,\n",
              "           0.8353, 0.7765, 0.7059, 0.8314, 0.8235, 0.8275, 0.8353, 0.8745,\n",
              "           0.8627, 0.9529, 0.7922, 0.0000],\n",
              "          [0.0000, 0.0000, 0.0000, 0.0000, 0.0000, 0.0000, 0.0000, 0.0000,\n",
              "           0.0000, 0.0039, 0.0118, 0.0000, 0.0471, 0.8588, 0.8627, 0.8314,\n",
              "           0.8549, 0.7529, 0.6627, 0.8902, 0.8157, 0.8549, 0.8784, 0.8314,\n",
              "           0.8863, 0.7725, 0.8196, 0.2039],\n",
              "          [0.0000, 0.0000, 0.0000, 0.0000, 0.0000, 0.0000, 0.0000, 0.0000,\n",
              "           0.0000, 0.0000, 0.0235, 0.0000, 0.3882, 0.9569, 0.8706, 0.8627,\n",
              "           0.8549, 0.7961, 0.7765, 0.8667, 0.8431, 0.8353, 0.8706, 0.8627,\n",
              "           0.9608, 0.4667, 0.6549, 0.2196],\n",
              "          [0.0000, 0.0000, 0.0000, 0.0000, 0.0000, 0.0000, 0.0000, 0.0000,\n",
              "           0.0000, 0.0157, 0.0000, 0.0000, 0.2157, 0.9255, 0.8941, 0.9020,\n",
              "           0.8941, 0.9412, 0.9098, 0.8353, 0.8549, 0.8745, 0.9176, 0.8510,\n",
              "           0.8510, 0.8196, 0.3608, 0.0000],\n",
              "          [0.0000, 0.0000, 0.0039, 0.0157, 0.0235, 0.0275, 0.0078, 0.0000,\n",
              "           0.0000, 0.0000, 0.0000, 0.0000, 0.9294, 0.8863, 0.8510, 0.8745,\n",
              "           0.8706, 0.8588, 0.8706, 0.8667, 0.8471, 0.8745, 0.8980, 0.8431,\n",
              "           0.8549, 1.0000, 0.3020, 0.0000],\n",
              "          [0.0000, 0.0118, 0.0000, 0.0000, 0.0000, 0.0000, 0.0000, 0.0000,\n",
              "           0.0000, 0.2431, 0.5686, 0.8000, 0.8941, 0.8118, 0.8353, 0.8667,\n",
              "           0.8549, 0.8157, 0.8275, 0.8549, 0.8784, 0.8745, 0.8588, 0.8431,\n",
              "           0.8784, 0.9569, 0.6235, 0.0000],\n",
              "          [0.0000, 0.0000, 0.0000, 0.0000, 0.0706, 0.1725, 0.3216, 0.4196,\n",
              "           0.7412, 0.8941, 0.8627, 0.8706, 0.8510, 0.8863, 0.7843, 0.8039,\n",
              "           0.8275, 0.9020, 0.8784, 0.9176, 0.6902, 0.7373, 0.9804, 0.9725,\n",
              "           0.9137, 0.9333, 0.8431, 0.0000],\n",
              "          [0.0000, 0.2235, 0.7333, 0.8157, 0.8784, 0.8667, 0.8784, 0.8157,\n",
              "           0.8000, 0.8392, 0.8157, 0.8196, 0.7843, 0.6235, 0.9608, 0.7569,\n",
              "           0.8078, 0.8745, 1.0000, 1.0000, 0.8667, 0.9176, 0.8667, 0.8275,\n",
              "           0.8627, 0.9098, 0.9647, 0.0000],\n",
              "          [0.0118, 0.7922, 0.8941, 0.8784, 0.8667, 0.8275, 0.8275, 0.8392,\n",
              "           0.8039, 0.8039, 0.8039, 0.8627, 0.9412, 0.3137, 0.5882, 1.0000,\n",
              "           0.8980, 0.8667, 0.7373, 0.6039, 0.7490, 0.8235, 0.8000, 0.8196,\n",
              "           0.8706, 0.8941, 0.8824, 0.0000],\n",
              "          [0.3843, 0.9137, 0.7765, 0.8235, 0.8706, 0.8980, 0.8980, 0.9176,\n",
              "           0.9765, 0.8627, 0.7608, 0.8431, 0.8510, 0.9451, 0.2549, 0.2863,\n",
              "           0.4157, 0.4588, 0.6588, 0.8588, 0.8667, 0.8431, 0.8510, 0.8745,\n",
              "           0.8745, 0.8784, 0.8980, 0.1137],\n",
              "          [0.2941, 0.8000, 0.8314, 0.8000, 0.7569, 0.8039, 0.8275, 0.8824,\n",
              "           0.8471, 0.7255, 0.7725, 0.8078, 0.7765, 0.8353, 0.9412, 0.7647,\n",
              "           0.8902, 0.9608, 0.9373, 0.8745, 0.8549, 0.8314, 0.8196, 0.8706,\n",
              "           0.8627, 0.8667, 0.9020, 0.2627],\n",
              "          [0.1882, 0.7961, 0.7176, 0.7608, 0.8353, 0.7725, 0.7255, 0.7451,\n",
              "           0.7608, 0.7529, 0.7922, 0.8392, 0.8588, 0.8667, 0.8627, 0.9255,\n",
              "           0.8824, 0.8471, 0.7804, 0.8078, 0.7294, 0.7098, 0.6941, 0.6745,\n",
              "           0.7098, 0.8039, 0.8078, 0.4510],\n",
              "          [0.0000, 0.4784, 0.8588, 0.7569, 0.7020, 0.6706, 0.7176, 0.7686,\n",
              "           0.8000, 0.8235, 0.8353, 0.8118, 0.8275, 0.8235, 0.7843, 0.7686,\n",
              "           0.7608, 0.7490, 0.7647, 0.7490, 0.7765, 0.7529, 0.6902, 0.6118,\n",
              "           0.6549, 0.6941, 0.8235, 0.3608],\n",
              "          [0.0000, 0.0000, 0.2902, 0.7412, 0.8314, 0.7490, 0.6863, 0.6745,\n",
              "           0.6863, 0.7098, 0.7255, 0.7373, 0.7412, 0.7373, 0.7569, 0.7765,\n",
              "           0.8000, 0.8196, 0.8235, 0.8235, 0.8275, 0.7373, 0.7373, 0.7608,\n",
              "           0.7529, 0.8471, 0.6667, 0.0000],\n",
              "          [0.0078, 0.0000, 0.0000, 0.0000, 0.2588, 0.7843, 0.8706, 0.9294,\n",
              "           0.9373, 0.9490, 0.9647, 0.9529, 0.9569, 0.8667, 0.8627, 0.7569,\n",
              "           0.7490, 0.7020, 0.7137, 0.7137, 0.7098, 0.6902, 0.6510, 0.6588,\n",
              "           0.3882, 0.2275, 0.0000, 0.0000],\n",
              "          [0.0000, 0.0000, 0.0000, 0.0000, 0.0000, 0.0000, 0.0000, 0.1569,\n",
              "           0.2392, 0.1725, 0.2824, 0.1608, 0.1373, 0.0000, 0.0000, 0.0000,\n",
              "           0.0000, 0.0000, 0.0000, 0.0000, 0.0000, 0.0000, 0.0000, 0.0000,\n",
              "           0.0000, 0.0000, 0.0000, 0.0000],\n",
              "          [0.0000, 0.0000, 0.0000, 0.0000, 0.0000, 0.0000, 0.0000, 0.0000,\n",
              "           0.0000, 0.0000, 0.0000, 0.0000, 0.0000, 0.0000, 0.0000, 0.0000,\n",
              "           0.0000, 0.0000, 0.0000, 0.0000, 0.0000, 0.0000, 0.0000, 0.0000,\n",
              "           0.0000, 0.0000, 0.0000, 0.0000],\n",
              "          [0.0000, 0.0000, 0.0000, 0.0000, 0.0000, 0.0000, 0.0000, 0.0000,\n",
              "           0.0000, 0.0000, 0.0000, 0.0000, 0.0000, 0.0000, 0.0000, 0.0000,\n",
              "           0.0000, 0.0000, 0.0000, 0.0000, 0.0000, 0.0000, 0.0000, 0.0000,\n",
              "           0.0000, 0.0000, 0.0000, 0.0000]]]),\n",
              " 9)"
            ]
          },
          "metadata": {},
          "execution_count": 111
        }
      ]
    },
    {
      "cell_type": "markdown",
      "source": [],
      "metadata": {
        "id": "vvIcguT6Mx1K"
      }
    },
    {
      "cell_type": "code",
      "source": [
        "# What's the shape of the image?\n",
        "image.shape"
      ],
      "metadata": {
        "id": "6NqJXQZDMxwD",
        "outputId": "366f3334-23fd-4327-d8d7-943481692830",
        "colab": {
          "base_uri": "https://localhost:8080/"
        }
      },
      "execution_count": 112,
      "outputs": [
        {
          "output_type": "execute_result",
          "data": {
            "text/plain": [
              "torch.Size([1, 28, 28])"
            ]
          },
          "metadata": {},
          "execution_count": 112
        }
      ]
    },
    {
      "cell_type": "markdown",
      "source": [
        "# **1.1 Input and output shapes of a computer vision model**"
      ],
      "metadata": {
        "id": "hdB-VxnZMxoB"
      }
    },
    {
      "cell_type": "markdown",
      "source": [
        "PyTorch generally accepts NCHW (channels first) as the default for many operators.\n",
        "\n",
        "However, PyTorch also explains that NHWC (channels last) performs better and is considered best practice."
      ],
      "metadata": {
        "id": "th8vz3zmVILf"
      }
    },
    {
      "cell_type": "code",
      "source": [
        "# How many samples are there?\n",
        "len(train_data.data), len(train_data.targets), len(test_data.data), len(test_data.targets)"
      ],
      "metadata": {
        "id": "g9mmPK05MxYI",
        "outputId": "5a874510-c8c8-4a28-ee94-7a6667546146",
        "colab": {
          "base_uri": "https://localhost:8080/"
        }
      },
      "execution_count": 113,
      "outputs": [
        {
          "output_type": "execute_result",
          "data": {
            "text/plain": [
              "(60000, 60000, 10000, 10000)"
            ]
          },
          "metadata": {},
          "execution_count": 113
        }
      ]
    },
    {
      "cell_type": "code",
      "source": [
        "# See classes\n",
        "class_names = train_data.classes\n",
        "class_names"
      ],
      "metadata": {
        "id": "RZANL4lrMxJQ",
        "outputId": "3c4f5b1c-04ce-44fc-fc3e-14081aee8465",
        "colab": {
          "base_uri": "https://localhost:8080/"
        }
      },
      "execution_count": 114,
      "outputs": [
        {
          "output_type": "execute_result",
          "data": {
            "text/plain": [
              "['T-shirt/top',\n",
              " 'Trouser',\n",
              " 'Pullover',\n",
              " 'Dress',\n",
              " 'Coat',\n",
              " 'Sandal',\n",
              " 'Shirt',\n",
              " 'Sneaker',\n",
              " 'Bag',\n",
              " 'Ankle boot']"
            ]
          },
          "metadata": {},
          "execution_count": 114
        }
      ]
    },
    {
      "cell_type": "markdown",
      "source": [
        "# **1.2 Visualizing our data**"
      ],
      "metadata": {
        "id": "4zCHUwjeVZ4R"
      }
    },
    {
      "cell_type": "code",
      "source": [
        "import matplotlib.pyplot as plt\n",
        "image, label = train_data[0]\n",
        "print(f\"Image shape: {image.shape}\")\n",
        "plt.imshow(image.squeeze()) # image shape is [1, 28, 28] (colour channels, height, width)\n",
        "plt.title(label);"
      ],
      "metadata": {
        "id": "N6hox4wMVUZf",
        "outputId": "38b5146e-1199-42e2-80f0-30180a0df3cd",
        "colab": {
          "base_uri": "https://localhost:8080/",
          "height": 469
        }
      },
      "execution_count": 115,
      "outputs": [
        {
          "output_type": "stream",
          "name": "stdout",
          "text": [
            "Image shape: torch.Size([1, 28, 28])\n"
          ]
        },
        {
          "output_type": "display_data",
          "data": {
            "text/plain": [
              "<Figure size 640x480 with 1 Axes>"
            ],
            "image/png": "[encoded data removed]"
          },
          "metadata": {}
        }
      ]
    },
    {
      "cell_type": "code",
      "source": [
        "plt.imshow(image.squeeze(), cmap=\"gray\")\n",
        "plt.title(class_names[label]);"
      ],
      "metadata": {
        "id": "XOiaXZhXVVQ8",
        "outputId": "d7b495fd-6d42-4071-d097-fb6933f82099",
        "colab": {
          "base_uri": "https://localhost:8080/",
          "height": 452
        }
      },
      "execution_count": 116,
      "outputs": [
        {
          "output_type": "display_data",
          "data": {
            "text/plain": [
              "<Figure size 640x480 with 1 Axes>"
            ],
            "image/png": "[encoded data removed]"
          },
          "metadata": {}
        }
      ]
    },
    {
      "cell_type": "code",
      "source": [
        "# Plot more images\n",
        "torch.manual_seed(42)\n",
        "fig = plt.figure(figsize=(9, 9))\n",
        "rows, cols = 4, 4\n",
        "for i in range(1, rows * cols + 1):\n",
        "    random_idx = torch.randint(0, len(train_data), size=[1]).item()\n",
        "    img, label = train_data[random_idx]\n",
        "    fig.add_subplot(rows, cols, i)\n",
        "    plt.imshow(img.squeeze(), cmap=\"gray\")\n",
        "    plt.title(class_names[label])\n",
        "    plt.axis(False);"
      ],
      "metadata": {
        "id": "qvESZR0WVjl0",
        "outputId": "65ecfee9-8374-4e23-c993-88c584615ed3",
        "colab": {
          "base_uri": "https://localhost:8080/",
          "height": 752
        }
      },
      "execution_count": 117,
      "outputs": [
        {
          "output_type": "display_data",
          "data": {
            "text/plain": [
              "<Figure size 900x900 with 16 Axes>"
            ],
            "image/png": "[encoded data removed]"
          },
          "metadata": {}
        }
      ]
    },
    {
      "cell_type": "markdown",
      "source": [
        "# **2. Prepare DataLoader**"
      ],
      "metadata": {
        "id": "0M8qAY0rVu47"
      }
    },
    {
      "cell_type": "code",
      "source": [
        "from torch.utils.data import DataLoader\n",
        "\n",
        "# Setup the batch size hyperparameter\n",
        "BATCH_SIZE = 32\n",
        "\n",
        "# Turn datasets into iterables (batches)\n",
        "train_dataloader = DataLoader(train_data, # dataset to turn into iterable\n",
        "    batch_size=BATCH_SIZE, # how many samples per batch?\n",
        "    shuffle=True # shuffle data every epoch?\n",
        ")\n",
        "\n",
        "test_dataloader = DataLoader(test_data,\n",
        "    batch_size=BATCH_SIZE,\n",
        "    shuffle=False # don't necessarily have to shuffle the testing data\n",
        ")\n",
        "\n",
        "# Let's check out what we've created\n",
        "print(f\"Dataloaders: {train_dataloader, test_dataloader}\")\n",
        "print(f\"Length of train dataloader: {len(train_dataloader)} batches of {BATCH_SIZE}\")\n",
        "print(f\"Length of test dataloader: {len(test_dataloader)} batches of {BATCH_SIZE}\")"
      ],
      "metadata": {
        "id": "YfM7JH3kVjid",
        "outputId": "27884f74-4e07-4e7e-fb3c-3192c91cb5d2",
        "colab": {
          "base_uri": "https://localhost:8080/"
        }
      },
      "execution_count": 118,
      "outputs": [
        {
          "output_type": "stream",
          "name": "stdout",
          "text": [
            "Dataloaders: (<torch.utils.data.dataloader.DataLoader object at 0x78e271c26c80>, <torch.utils.data.dataloader.DataLoader object at 0x78e271c26260>)\n",
            "Length of train dataloader: 1875 batches of 32\n",
            "Length of test dataloader: 313 batches of 32\n"
          ]
        }
      ]
    },
    {
      "cell_type": "code",
      "source": [
        "# Check out what's inside the training dataloader\n",
        "train_features_batch, train_labels_batch = next(iter(train_dataloader))\n",
        "train_features_batch.shape, train_labels_batch.shape"
      ],
      "metadata": {
        "id": "CRVHMqLwVjcJ",
        "outputId": "a92e7878-d407-4b2c-f84f-7f7eab6d88f9",
        "colab": {
          "base_uri": "https://localhost:8080/"
        }
      },
      "execution_count": 119,
      "outputs": [
        {
          "output_type": "execute_result",
          "data": {
            "text/plain": [
              "(torch.Size([32, 1, 28, 28]), torch.Size([32]))"
            ]
          },
          "metadata": {},
          "execution_count": 119
        }
      ]
    },
    {
      "cell_type": "code",
      "source": [
        "# Show a sample\n",
        "torch.manual_seed(42)\n",
        "random_idx = torch.randint(0, len(train_features_batch), size=[1]).item()\n",
        "img, label = train_features_batch[random_idx], train_labels_batch[random_idx]\n",
        "plt.imshow(img.squeeze(), cmap=\"gray\")\n",
        "plt.title(class_names[label])\n",
        "plt.axis(\"Off\");\n",
        "print(f\"Image size: {img.shape}\")\n",
        "print(f\"Label: {label}, label size: {label.shape}\")"
      ],
      "metadata": {
        "id": "3EXIpMaEW0zx",
        "outputId": "3fec1313-b0bc-4961-c9f2-433cba706a81",
        "colab": {
          "base_uri": "https://localhost:8080/",
          "height": 463
        }
      },
      "execution_count": 120,
      "outputs": [
        {
          "output_type": "stream",
          "name": "stdout",
          "text": [
            "Image size: torch.Size([1, 28, 28])\n",
            "Label: 6, label size: torch.Size([])\n"
          ]
        },
        {
          "output_type": "display_data",
          "data": {
            "text/plain": [
              "<Figure size 640x480 with 1 Axes>"
            ],
            "image/png": "[encoded data removed]"
          },
          "metadata": {}
        }
      ]
    },
    {
      "cell_type": "markdown",
      "source": [
        "# **3. Model 0: Build a baseline model**"
      ],
      "metadata": {
        "id": "uS5e-Bu-XNjS"
      }
    },
    {
      "cell_type": "markdown",
      "source": [
        "Because we're working with image data, we're going to use a different layer to start things off.\n",
        "\n",
        "And that's the nn.Flatten() layer.\n",
        "\n",
        "nn.Flatten() compresses the dimensions of a tensor into a single vector."
      ],
      "metadata": {
        "id": "C_Ham8vbIM8M"
      }
    },
    {
      "cell_type": "code",
      "source": [
        "# Create a flatten layer\n",
        "flatten_model = nn.Flatten() # all nn modules function as a model (can do a forward pass)\n",
        "\n",
        "# Get a single sample\n",
        "x = train_features_batch[0]\n",
        "\n",
        "# Flatten the sample\n",
        "output = flatten_model(x) # perform forward pass\n",
        "\n",
        "# Print out what happened\n",
        "print(f\"Shape before flattening: {x.shape} -> [color_channels, height, width]\")\n",
        "print(f\"Shape after flattening: {output.shape} -> [color_channels, height*width]\")\n",
        "\n",
        "# Try uncommenting below and see what happens\n",
        "#print(x)\n",
        "#print(output)"
      ],
      "metadata": {
        "id": "V_U2CDaLW0r3",
        "outputId": "c9d8577b-d6fa-4025-8497-4343b8b2cb69",
        "colab": {
          "base_uri": "https://localhost:8080/"
        }
      },
      "execution_count": 121,
      "outputs": [
        {
          "output_type": "stream",
          "name": "stdout",
          "text": [
            "Shape before flattening: torch.Size([1, 28, 28]) -> [color_channels, height, width]\n",
            "Shape after flattening: torch.Size([1, 784]) -> [color_channels, height*width]\n"
          ]
        }
      ]
    },
    {
      "cell_type": "code",
      "source": [
        "from torch import nn\n",
        "class FashionMNISTModelV0(nn.Module):\n",
        "    def __init__(self, input_shape: int, hidden_units: int, output_shape: int):\n",
        "        super().__init__()\n",
        "        self.layer_stack = nn.Sequential(\n",
        "            nn.Flatten(), # neural networks like their inputs in vector form\n",
        "            nn.Linear(in_features=input_shape, out_features=hidden_units), # in_features = number of features in a data sample (784 pixels)\n",
        "            nn.Linear(in_features=hidden_units, out_features=output_shape)\n",
        "        )\n",
        "\n",
        "    def forward(self, x):\n",
        "        return self.layer_stack(x)"
      ],
      "metadata": {
        "id": "zLdptGtHVjO4"
      },
      "execution_count": 122,
      "outputs": []
    },
    {
      "cell_type": "code",
      "source": [
        "torch.manual_seed(42)\n",
        "\n",
        "# Need to setup model with input parameters\n",
        "model_0 = FashionMNISTModelV0(input_shape=784, # one for every pixel (28x28)\n",
        "    hidden_units=10, # how many units in the hiden layer\n",
        "    output_shape=len(class_names) # one for every class\n",
        ")\n",
        "model_0.to(\"cpu\") # keep model on CPU to begin with"
      ],
      "metadata": {
        "id": "EHA-TKhOdXVM",
        "outputId": "defc035a-6685-4984-9c50-1d4d55c432f1",
        "colab": {
          "base_uri": "https://localhost:8080/"
        }
      },
      "execution_count": 123,
      "outputs": [
        {
          "output_type": "execute_result",
          "data": {
            "text/plain": [
              "FashionMNISTModelV0(\n",
              "  (layer_stack): Sequential(\n",
              "    (0): Flatten(start_dim=1, end_dim=-1)\n",
              "    (1): Linear(in_features=784, out_features=10, bias=True)\n",
              "    (2): Linear(in_features=10, out_features=10, bias=True)\n",
              "  )\n",
              ")"
            ]
          },
          "metadata": {},
          "execution_count": 123
        }
      ]
    },
    {
      "cell_type": "markdown",
      "source": [
        "# **3.1 Setup loss, optimizer and evaluation metrics**"
      ],
      "metadata": {
        "id": "e4foETIRdrSE"
      }
    },
    {
      "cell_type": "code",
      "source": [
        "import requests\n",
        "from pathlib import Path\n",
        "\n",
        "# Download helper functions from Learn PyTorch repo (if not already downloaded)\n",
        "if Path(\"helper_functions.py\").is_file():\n",
        "  print(\"helper_functions.py already exists, skipping download\")\n",
        "else:\n",
        "  print(\"Downloading helper_functions.py\")\n",
        "  # Note: you need the \"raw\" GitHub URL for this to work\n",
        "  request = requests.get(\"https://raw.githubusercontent.com/mrdbourke/pytorch-deep-learning/main/helper_functions.py\")\n",
        "  with open(\"helper_functions.py\", \"wb\") as f:\n",
        "    f.write(request.content)\n"
      ],
      "metadata": {
        "colab": {
          "base_uri": "https://localhost:8080/"
        },
        "id": "4TMRwekGdXSD",
        "outputId": "cb8feb86-da37-4197-ffa0-24483317b726"
      },
      "execution_count": 124,
      "outputs": [
        {
          "output_type": "stream",
          "name": "stdout",
          "text": [
            "helper_functions.py already exists, skipping download\n"
          ]
        }
      ]
    },
    {
      "cell_type": "code",
      "source": [
        "# Import accuracy metric\n",
        "from helper_functions import accuracy_fn # Note: could also use torchmetrics.Accuracy(task = 'multiclass', num_classes=len(class_names)).to(device)\n",
        "\n",
        "# Setup loss function and optimizer\n",
        "loss_fn = nn.CrossEntropyLoss() # this is also called \"criterion\"/\"cost function\" in some places\n",
        "optimizer = torch.optim.SGD(params=model_0.parameters(), lr=0.1)"
      ],
      "metadata": {
        "id": "ZLkumfkGdXKX"
      },
      "execution_count": 125,
      "outputs": []
    },
    {
      "cell_type": "markdown",
      "source": [
        "# **3.2 Creating a function to time our experiments**"
      ],
      "metadata": {
        "id": "kUNciWynQs_8"
      }
    },
    {
      "cell_type": "code",
      "source": [
        "from timeit import default_timer as timer\n",
        "def print_train_time(start: float, end: float, device: torch.device = None):\n",
        "    \"\"\"Prints difference between start and end time.\n",
        "\n",
        "    Args:\n",
        "        start (float): Start time of computation (preferred in timeit format).\n",
        "        end (float): End time of computation.\n",
        "        device ([type], optional): Device that compute is running on. Defaults to None.\n",
        "\n",
        "    Returns:\n",
        "        float: time between start and end in seconds (higher is longer).\n",
        "    \"\"\"\n",
        "    total_time = end - start\n",
        "    print(f\"Train time on {device}: {total_time:.3f} seconds\")\n",
        "    return total_time"
      ],
      "metadata": {
        "id": "HpnXgd4edW-f"
      },
      "execution_count": 126,
      "outputs": []
    },
    {
      "cell_type": "markdown",
      "source": [
        "# **3.3 Creating a training loop and training a model on batches of data**"
      ],
      "metadata": {
        "id": "2XydWTZyQyxd"
      }
    },
    {
      "cell_type": "code",
      "source": [
        "# Import tqdm for progress bar\n",
        "from tqdm.auto import tqdm\n",
        "\n",
        "# Set the seed and start the timer\n",
        "torch.manual_seed(42)\n",
        "train_time_start_on_cpu = timer()\n",
        "\n",
        "# Set the number of epochs (we'll keep this small for faster training times)\n",
        "epochs = 3\n",
        "\n",
        "# Create training and testing loop\n",
        "for epoch in tqdm(range(epochs)):\n",
        "    print(f\"Epoch: {epoch}\\n-------\")\n",
        "    ### Training\n",
        "    train_loss = 0\n",
        "    model_0 = model_0.to(device)\n",
        "    # Add a loop to loop through training batches\n",
        "    for batch, (X, y) in enumerate(train_dataloader):\n",
        "        X, y = X.to(device), y.to(device)\n",
        "        model_0.train()\n",
        "        # 1. Forward pass\n",
        "        y_pred = model_0(X)\n",
        "\n",
        "        # 2. Calculate loss (per batch)\n",
        "        loss = loss_fn(y_pred, y)\n",
        "        train_loss += loss # accumulatively add up the loss per epoch\n",
        "\n",
        "        # 3. Optimizer zero grad\n",
        "        optimizer.zero_grad()\n",
        "\n",
        "        # 4. Loss backward\n",
        "        loss.backward()\n",
        "\n",
        "        # 5. Optimizer step\n",
        "        optimizer.step()\n",
        "\n",
        "        # Print out how many samples have been seen\n",
        "        if batch % 400 == 0:\n",
        "            print(f\"Looked at {batch * len(X)}/{len(train_dataloader.dataset)} samples\")\n",
        "\n",
        "    # Divide total train loss by length of train dataloader (average loss per batch per epoch)\n",
        "    train_loss /= len(train_dataloader)\n",
        "\n",
        "    ### Testing\n",
        "    # Setup variables for accumulatively adding up loss and accuracy\n",
        "    test_loss, test_acc = 0, 0\n",
        "    model_0.eval()\n",
        "    # model_0.to(device)\n",
        "    with torch.inference_mode():\n",
        "        for X, y in test_dataloader:\n",
        "            # 1. Forward pass\n",
        "            X, y = X.to(device), y.to(device)\n",
        "            test_pred = model_0(X)\n",
        "\n",
        "            # 2. Calculate loss (accumatively)\n",
        "            test_loss += loss_fn(test_pred, y) # accumulatively add up the loss per epoch\n",
        "\n",
        "            # 3. Calculate accuracy (preds need to be same as y_true)\n",
        "            test_acc += accuracy_fn(y_true=y, y_pred=test_pred.argmax(dim=1))\n",
        "\n",
        "        # Calculations on test metrics need to happen inside torch.inference_mode()\n",
        "        # Divide total test loss by length of test dataloader (per batch)\n",
        "        test_loss /= len(test_dataloader)\n",
        "\n",
        "        # Divide total accuracy by length of test dataloader (per batch)\n",
        "        test_acc /= len(test_dataloader)\n",
        "\n",
        "    ## Print out what's happening\n",
        "    print(f\"\\nTrain loss: {train_loss:.5f} | Test loss: {test_loss:.5f}, Test acc: {test_acc:.2f}%\\n\")\n",
        "\n",
        "# Calculate training time\n",
        "train_time_end_on_cpu = timer()\n",
        "total_train_time_model_0 = print_train_time(start=train_time_start_on_cpu,\n",
        "                                           end=train_time_end_on_cpu,\n",
        "                                           device=str(next(model_0.parameters()).device))"
      ],
      "metadata": {
        "id": "7AxrSV2eQxKW",
        "outputId": "e5acc8bb-3162-410e-8722-c62650b01d9a",
        "colab": {
          "base_uri": "https://localhost:8080/",
          "height": 587,
          "referenced_widgets": [
            "ac1f5d1bbef548b39668780dc251c0b1",
            "a3baaa7f481e4cc4b0f3512d0f46a412",
            "ce0ea1eff5414e40a02fbd88108b25f9",
            "8275aaa15fb34b1c89cb6dec9d5ee469",
            "edc24a37f00e458d94a96416dd77bd3d",
            "d0be48fe857241adb2f16348a4db3f10",
            "b7c1637524994e1bb10aa0a809fe9348",
            "9097c06a6b024757a953c173c6e50bc7",
            "8241b556c7f749408ed10be31d82b08b",
            "e0cca4a83dab44a5ad83c0b3919cffbb",
            "aa026d7871d7449ea6c161c7691928a0"
          ]
        }
      },
      "execution_count": 127,
      "outputs": [
        {
          "output_type": "display_data",
          "data": {
            "text/plain": [
              "  0%|          | 0/3 [00:00<?, ?it/s]"
            ],
            "application/vnd.jupyter.widget-view+json": {
              "version_major": 2,
              "version_minor": 0,
              "model_id": "ac1f5d1bbef548b39668780dc251c0b1"
            }
          },
          "metadata": {}
        },
        {
          "output_type": "stream",
          "name": "stdout",
          "text": [
            "Epoch: 0\n",
            "-------\n",
            "Looked at 0/60000 samples\n",
            "Looked at 12800/60000 samples\n",
            "Looked at 25600/60000 samples\n",
            "Looked at 38400/60000 samples\n",
            "Looked at 51200/60000 samples\n",
            "\n",
            "Train loss: 0.59039 | Test loss: 0.50954, Test acc: 82.04%\n",
            "\n",
            "Epoch: 1\n",
            "-------\n",
            "Looked at 0/60000 samples\n",
            "Looked at 12800/60000 samples\n",
            "Looked at 25600/60000 samples\n",
            "Looked at 38400/60000 samples\n",
            "Looked at 51200/60000 samples\n",
            "\n",
            "Train loss: 0.47633 | Test loss: 0.47989, Test acc: 83.20%\n",
            "\n",
            "Epoch: 2\n",
            "-------\n",
            "Looked at 0/60000 samples\n",
            "Looked at 12800/60000 samples\n",
            "Looked at 25600/60000 samples\n",
            "Looked at 38400/60000 samples\n",
            "Looked at 51200/60000 samples\n",
            "\n",
            "Train loss: 0.45503 | Test loss: 0.47664, Test acc: 83.43%\n",
            "\n",
            "Train time on cuda:0: 29.642 seconds\n"
          ]
        }
      ]
    },
    {
      "cell_type": "markdown",
      "source": [
        "# **4. Make predictions and get Model 0 results**"
      ],
      "metadata": {
        "id": "-LtSatUvQ7w0"
      }
    },
    {
      "cell_type": "code",
      "source": [
        "device = 'cuda' if torch.cuda.is_available() else \"cpu\"\n",
        "device"
      ],
      "metadata": {
        "colab": {
          "base_uri": "https://localhost:8080/",
          "height": 35
        },
        "id": "YRKcl-yipEc-",
        "outputId": "aa51b8c4-d5be-4825-bb6a-2ce671878742"
      },
      "execution_count": 128,
      "outputs": [
        {
          "output_type": "execute_result",
          "data": {
            "text/plain": [
              "'cuda'"
            ],
            "application/vnd.google.colaboratory.intrinsic+json": {
              "type": "string"
            }
          },
          "metadata": {},
          "execution_count": 128
        }
      ]
    },
    {
      "cell_type": "code",
      "source": [
        "torch.manual_seed(42)\n",
        "def eval_model(model: torch.nn.Module,\n",
        "               data_loader: torch.utils.data.DataLoader,\n",
        "               loss_fn: torch.nn.Module,\n",
        "               accuracy_fn,\n",
        "               device: torch.device = device):\n",
        "    \"\"\"Returns a dictionary containing the results of model predicting on data_loader.\n",
        "\n",
        "    Args:\n",
        "        model (torch.nn.Module): A PyTorch model capable of making predictions on data_loader.\n",
        "        data_loader (torch.utils.data.DataLoader): The target dataset to predict on.\n",
        "        loss_fn (torch.nn.Module): The loss function of model.\n",
        "        accuracy_fn: An accuracy function to compare the models predictions to the truth labels.\n",
        "\n",
        "    Returns:\n",
        "        (dict): Results of model making predictions on data_loader.\n",
        "    \"\"\"\n",
        "    loss, acc = 0, 0\n",
        "    model.eval()\n",
        "    model = model.to(device)\n",
        "    with torch.inference_mode():\n",
        "        for X, y in data_loader:\n",
        "            # Make predictions with the model\n",
        "            X, y = X.to(device), y.to(device)\n",
        "\n",
        "            y_pred = model(X) # going wrong here.. why? you need model = model.to(device) as well\n",
        "\n",
        "            # Accumulate the loss and accuracy values per batch\n",
        "            loss += loss_fn(y_pred, y)\n",
        "            acc += accuracy_fn(y_true=y,\n",
        "                                y_pred=y_pred.argmax(dim=1)) # For accuracy, need the prediction labels (logits -> pred_prob -> pred_labels)\n",
        "\n",
        "        # Scale loss and acc to find the average loss/acc per batch\n",
        "        loss /= len(data_loader)\n",
        "        acc /= len(data_loader)\n",
        "\n",
        "    return {\"model_name\": model.__class__.__name__, # only works when model was created with a class\n",
        "            \"model_loss\": loss.item(),\n",
        "            \"model_acc\": acc}\n",
        "\n",
        "# Calculate model 0 results on test dataset\n",
        "model_0_results = eval_model(model=model_0, data_loader=test_dataloader,\n",
        "    loss_fn=loss_fn, accuracy_fn=accuracy_fn, device=device\n",
        ")\n",
        "model_0_results"
      ],
      "metadata": {
        "id": "hyOWysg6Q6iU",
        "outputId": "6666a77d-24c9-448a-baf1-039d2233214e",
        "colab": {
          "base_uri": "https://localhost:8080/"
        }
      },
      "execution_count": 129,
      "outputs": [
        {
          "output_type": "execute_result",
          "data": {
            "text/plain": [
              "{'model_name': 'FashionMNISTModelV0',\n",
              " 'model_loss': 0.47663894295692444,\n",
              " 'model_acc': 83.42651757188499}"
            ]
          },
          "metadata": {},
          "execution_count": 129
        }
      ]
    },
    {
      "cell_type": "markdown",
      "source": [
        "# **5. Setup device agnostic-code (for using a GPU if there is one)**"
      ],
      "metadata": {
        "id": "vSZb4ByfRCO_"
      }
    },
    {
      "cell_type": "code",
      "source": [
        "# Setup device agnostic code\n",
        "import torch\n",
        "device = \"cuda\" if torch.cuda.is_available() else \"cpu\"\n",
        "device"
      ],
      "metadata": {
        "id": "sRFgws4VQxDr",
        "outputId": "288d1128-fd59-4ea9-fd96-6c9285dd8953",
        "colab": {
          "base_uri": "https://localhost:8080/",
          "height": 35
        }
      },
      "execution_count": 130,
      "outputs": [
        {
          "output_type": "execute_result",
          "data": {
            "text/plain": [
              "'cuda'"
            ],
            "application/vnd.google.colaboratory.intrinsic+json": {
              "type": "string"
            }
          },
          "metadata": {},
          "execution_count": 130
        }
      ]
    },
    {
      "cell_type": "markdown",
      "source": [
        "# **6. Model 1: Building a better model with non-linearity**"
      ],
      "metadata": {
        "id": "l7i7fUDrmJEf"
      }
    },
    {
      "cell_type": "code",
      "source": [
        "# Create a model with non-linear and linear layers\n",
        "class FashionMNISTModelV1(nn.Module):\n",
        "    def __init__(self, input_shape: int, hidden_units: int, output_shape: int):\n",
        "        super().__init__()\n",
        "        self.layer_stack = nn.Sequential(\n",
        "            nn.Flatten(), # flatten inputs into single vector\n",
        "            nn.Linear(in_features=input_shape, out_features=hidden_units),\n",
        "            nn.ReLU(),\n",
        "            nn.Linear(in_features=hidden_units, out_features=output_shape),\n",
        "            nn.ReLU()\n",
        "        )\n",
        "\n",
        "    def forward(self, x: torch.Tensor):\n",
        "        return self.layer_stack(x)"
      ],
      "metadata": {
        "id": "vuxgLswIQwoy"
      },
      "execution_count": 131,
      "outputs": []
    },
    {
      "cell_type": "code",
      "source": [
        "torch.manual_seed(42)\n",
        "model_1 = FashionMNISTModelV1(input_shape=784, # number of input features\n",
        "    hidden_units=10,\n",
        "    output_shape=len(class_names) # number of output classes desired\n",
        ").to(device) # send model to GPU if it's available\n",
        "next(model_1.parameters()).device # check model device"
      ],
      "metadata": {
        "id": "dT7Uf4nMmNuO",
        "outputId": "61b6c98d-1815-4e0d-98e9-e4356fa01499",
        "colab": {
          "base_uri": "https://localhost:8080/"
        }
      },
      "execution_count": 132,
      "outputs": [
        {
          "output_type": "execute_result",
          "data": {
            "text/plain": [
              "device(type='cuda', index=0)"
            ]
          },
          "metadata": {},
          "execution_count": 132
        }
      ]
    },
    {
      "cell_type": "markdown",
      "source": [
        "# **6.1 Setup loss, optimizer and evaluation metrics**"
      ],
      "metadata": {
        "id": "lKJ5c5yomQ_6"
      }
    },
    {
      "cell_type": "code",
      "source": [
        "from helper_functions import accuracy_fn\n",
        "loss_fn = nn.CrossEntropyLoss()\n",
        "optimizer = torch.optim.SGD(params=model_1.parameters(),\n",
        "                            lr=0.1)"
      ],
      "metadata": {
        "id": "B6nlls64mSqx"
      },
      "execution_count": 133,
      "outputs": []
    },
    {
      "cell_type": "markdown",
      "source": [
        "# **6.2 Functionizing training and test loops**"
      ],
      "metadata": {
        "id": "xGY99c7ImXRQ"
      }
    },
    {
      "cell_type": "code",
      "source": [
        "def train_step(model: torch.nn.Module,\n",
        "               data_loader: torch.utils.data.DataLoader,\n",
        "               loss_fn: torch.nn.Module,\n",
        "               optimizer: torch.optim.Optimizer,\n",
        "               accuracy_fn,\n",
        "               device: torch.device = device):\n",
        "    train_loss, train_acc = 0, 0\n",
        "    model.to(device)\n",
        "    for batch, (X, y) in enumerate(data_loader):\n",
        "        # Send data to GPU\n",
        "        X, y = X.to(device), y.to(device)\n",
        "\n",
        "        # 1. Forward pass\n",
        "        y_pred = model(X)\n",
        "\n",
        "        # 2. Calculate loss\n",
        "        loss = loss_fn(y_pred, y)\n",
        "        train_loss += loss\n",
        "        train_acc += accuracy_fn(y_true=y,\n",
        "                                 y_pred=y_pred.argmax(dim=1)) # Go from logits -> pred labels\n",
        "\n",
        "        # 3. Optimizer zero grad\n",
        "        optimizer.zero_grad()\n",
        "\n",
        "        # 4. Loss backward\n",
        "        loss.backward()\n",
        "\n",
        "        # 5. Optimizer step\n",
        "        optimizer.step()\n",
        "\n",
        "    # Calculate loss and accuracy per epoch and print out what's happening\n",
        "    train_loss /= len(data_loader)\n",
        "    train_acc /= len(data_loader)\n",
        "    print(f\"Train loss: {train_loss:.5f} | Train accuracy: {train_acc:.2f}%\")\n",
        "\n",
        "def test_step(data_loader: torch.utils.data.DataLoader,\n",
        "              model: torch.nn.Module,\n",
        "              loss_fn: torch.nn.Module,\n",
        "              accuracy_fn,\n",
        "              device: torch.device = device):\n",
        "    test_loss, test_acc = 0, 0\n",
        "    model.to(device)\n",
        "    model.eval() # put model in eval mode\n",
        "    # Turn on inference context manager\n",
        "    with torch.inference_mode():\n",
        "        for X, y in data_loader:\n",
        "            # Send data to GPU\n",
        "            X, y = X.to(device), y.to(device)\n",
        "\n",
        "            # 1. Forward pass\n",
        "            test_pred = model(X)\n",
        "\n",
        "            # 2. Calculate loss and accuracy\n",
        "            test_loss += loss_fn(test_pred, y)\n",
        "            test_acc += accuracy_fn(y_true=y,\n",
        "                y_pred=test_pred.argmax(dim=1) # Go from logits -> pred labels\n",
        "            )\n",
        "\n",
        "        # Adjust metrics and print out\n",
        "        test_loss /= len(data_loader)\n",
        "        test_acc /= len(data_loader)\n",
        "        print(f\"Test loss: {test_loss:.5f} | Test accuracy: {test_acc:.2f}%\\n\")"
      ],
      "metadata": {
        "id": "DRthvNTSmTNJ"
      },
      "execution_count": 134,
      "outputs": []
    },
    {
      "cell_type": "code",
      "source": [
        "torch.manual_seed(42)\n",
        "\n",
        "# Measure time\n",
        "from timeit import default_timer as timer\n",
        "train_time_start_on_gpu = timer()\n",
        "\n",
        "epochs = 3\n",
        "for epoch in tqdm(range(epochs)):\n",
        "    print(f\"Epoch: {epoch}\\n---------\")\n",
        "    train_step(data_loader=train_dataloader,\n",
        "        model=model_1,\n",
        "        loss_fn=loss_fn,\n",
        "        optimizer=optimizer,\n",
        "        accuracy_fn=accuracy_fn\n",
        "    )\n",
        "    test_step(data_loader=test_dataloader,\n",
        "        model=model_1,\n",
        "        loss_fn=loss_fn,\n",
        "        accuracy_fn=accuracy_fn\n",
        "    )\n",
        "\n",
        "train_time_end_on_gpu = timer()\n",
        "total_train_time_model_1 = print_train_time(start=train_time_start_on_gpu,\n",
        "                                            end=train_time_end_on_gpu,\n",
        "                                            device=device)"
      ],
      "metadata": {
        "id": "Bs9DGeK7o4oY",
        "outputId": "dc044568-a6a4-4c22-d50e-d30e3e636dfa",
        "colab": {
          "base_uri": "https://localhost:8080/",
          "height": 327,
          "referenced_widgets": [
            "6b2ab40e18bb4d499a84106e58fd3266",
            "fc444d8306f84052a1cc6f934de0a810",
            "a3beedd9452c43ba956ff3e3d1c81073",
            "e61e6272d67644338424d3ec9d639325",
            "685b0e3ee6954feeb1470cca48f45178",
            "89c0856ca9934143ab95eb8de6490210",
            "70b8efc4b55945b784ceadcf2d29805e",
            "d8a5d2615c3d4b448942069ee557fe51",
            "cd5c9cef6a2f426693e6a595abed9432",
            "57c1c8d96e764e9a84a2d16ecfb41c3a",
            "fdf649ae4cb64a6eb9959824fe3c8acf"
          ]
        }
      },
      "execution_count": 135,
      "outputs": [
        {
          "output_type": "display_data",
          "data": {
            "text/plain": [
              "  0%|          | 0/3 [00:00<?, ?it/s]"
            ],
            "application/vnd.jupyter.widget-view+json": {
              "version_major": 2,
              "version_minor": 0,
              "model_id": "6b2ab40e18bb4d499a84106e58fd3266"
            }
          },
          "metadata": {}
        },
        {
          "output_type": "stream",
          "name": "stdout",
          "text": [
            "Epoch: 0\n",
            "---------\n",
            "Train loss: 1.09199 | Train accuracy: 61.34%\n",
            "Test loss: 0.95636 | Test accuracy: 65.00%\n",
            "\n",
            "Epoch: 1\n",
            "---------\n",
            "Train loss: 0.78101 | Train accuracy: 71.93%\n",
            "Test loss: 0.72227 | Test accuracy: 73.91%\n",
            "\n",
            "Epoch: 2\n",
            "---------\n",
            "Train loss: 0.67027 | Train accuracy: 75.94%\n",
            "Test loss: 0.68500 | Test accuracy: 75.02%\n",
            "\n",
            "Train time on cuda: 29.355 seconds\n"
          ]
        }
      ]
    },
    {
      "cell_type": "code",
      "source": [
        "torch.manual_seed(42)\n",
        "\n",
        "# Note: This will error due to `eval_model()` not using device agnostic code\n",
        "model_1_results = eval_model(model=model_1,\n",
        "    data_loader=test_dataloader,\n",
        "    loss_fn=loss_fn,\n",
        "    accuracy_fn=accuracy_fn)\n",
        "model_1_results"
      ],
      "metadata": {
        "id": "ASxf9PMAo4hl",
        "outputId": "004f3f4c-1bf2-4464-bd32-bb0b38ede15f",
        "colab": {
          "base_uri": "https://localhost:8080/"
        }
      },
      "execution_count": 136,
      "outputs": [
        {
          "output_type": "execute_result",
          "data": {
            "text/plain": [
              "{'model_name': 'FashionMNISTModelV1',\n",
              " 'model_loss': 0.6850008964538574,\n",
              " 'model_acc': 75.01996805111821}"
            ]
          },
          "metadata": {},
          "execution_count": 136
        }
      ]
    },
    {
      "cell_type": "code",
      "source": [
        "# Move values to device\n",
        "torch.manual_seed(42)\n",
        "def eval_model(model: torch.nn.Module,\n",
        "               data_loader: torch.utils.data.DataLoader,\n",
        "               loss_fn: torch.nn.Module,\n",
        "               accuracy_fn,\n",
        "               device: torch.device = device):\n",
        "    \"\"\"Evaluates a given model on a given dataset.\n",
        "\n",
        "    Args:\n",
        "        model (torch.nn.Module): A PyTorch model capable of making predictions on data_loader.\n",
        "        data_loader (torch.utils.data.DataLoader): The target dataset to predict on.\n",
        "        loss_fn (torch.nn.Module): The loss function of model.\n",
        "        accuracy_fn: An accuracy function to compare the models predictions to the truth labels.\n",
        "        device (str, optional): Target device to compute on. Defaults to device.\n",
        "\n",
        "    Returns:\n",
        "        (dict): Results of model making predictions on data_loader.\n",
        "    \"\"\"\n",
        "    loss, acc = 0, 0\n",
        "    model.eval()\n",
        "    with torch.inference_mode():\n",
        "        for X, y in data_loader:\n",
        "            # Send data to the target device\n",
        "            X, y = X.to(device), y.to(device)\n",
        "            y_pred = model(X)\n",
        "            loss += loss_fn(y_pred, y)\n",
        "            acc += accuracy_fn(y_true=y, y_pred=y_pred.argmax(dim=1))\n",
        "\n",
        "        # Scale loss and acc\n",
        "        loss /= len(data_loader)\n",
        "        acc /= len(data_loader)\n",
        "    return {\"model_name\": model.__class__.__name__, # only works when model was created with a class\n",
        "            \"model_loss\": loss.item(),\n",
        "            \"model_acc\": acc}\n",
        "\n",
        "# Calculate model 1 results with device-agnostic code\n",
        "model_1_results = eval_model(model=model_1, data_loader=test_dataloader,\n",
        "    loss_fn=loss_fn, accuracy_fn=accuracy_fn,\n",
        "    device=device\n",
        ")\n",
        "model_1_results"
      ],
      "metadata": {
        "id": "1HLbB2NEo94j",
        "colab": {
          "base_uri": "https://localhost:8080/"
        },
        "outputId": "d77dfec4-d5e8-49bd-b3c5-697faa3f660a"
      },
      "execution_count": 137,
      "outputs": [
        {
          "output_type": "execute_result",
          "data": {
            "text/plain": [
              "{'model_name': 'FashionMNISTModelV1',\n",
              " 'model_loss': 0.6850008964538574,\n",
              " 'model_acc': 75.01996805111821}"
            ]
          },
          "metadata": {},
          "execution_count": 137
        }
      ]
    },
    {
      "cell_type": "code",
      "source": [
        "# Check baseline results\n",
        "model_0_results"
      ],
      "metadata": {
        "id": "LKIEqzwao91j",
        "outputId": "a077b7d4-3d09-464a-8ae3-6fc8faf138e7",
        "colab": {
          "base_uri": "https://localhost:8080/"
        }
      },
      "execution_count": 138,
      "outputs": [
        {
          "output_type": "execute_result",
          "data": {
            "text/plain": [
              "{'model_name': 'FashionMNISTModelV0',\n",
              " 'model_loss': 0.47663894295692444,\n",
              " 'model_acc': 83.42651757188499}"
            ]
          },
          "metadata": {},
          "execution_count": 138
        }
      ]
    },
    {
      "cell_type": "markdown",
      "source": [
        "# **7. Model 2: Building a Convolutional Neural Network (CNN)**"
      ],
      "metadata": {
        "id": "Qy22QmNVpHVx"
      }
    },
    {
      "cell_type": "code",
      "source": [
        "# Create a convolutional neural network\n",
        "class FashionMNISTModelV2(nn.Module):\n",
        "    \"\"\"\n",
        "    Model architecture copying TinyVGG from:\n",
        "    https://poloclub.github.io/cnn-explainer/\n",
        "    \"\"\"\n",
        "    def __init__(self, input_shape: int, hidden_units: int, output_shape: int):\n",
        "        super().__init__()\n",
        "        self.block_1 = nn.Sequential(\n",
        "            nn.Conv2d(in_channels=input_shape,\n",
        "                      out_channels=hidden_units,\n",
        "                      kernel_size=3, # how big is the square that's going over the image?\n",
        "                      stride=1, # default\n",
        "                      padding=1),# options = \"valid\" (no padding) or \"same\" (output has same shape as input) or int for specific number\n",
        "            nn.ReLU(),\n",
        "            nn.Conv2d(in_channels=hidden_units,\n",
        "                      out_channels=hidden_units,\n",
        "                      kernel_size=3,\n",
        "                      stride=1,\n",
        "                      padding=1),\n",
        "            nn.ReLU(),\n",
        "            nn.MaxPool2d(kernel_size=2,\n",
        "                         stride=2) # default stride value is same as kernel_size\n",
        "        )\n",
        "        self.block_2 = nn.Sequential(\n",
        "            nn.Conv2d(hidden_units, hidden_units, 3, padding=1),\n",
        "            nn.ReLU(),\n",
        "            nn.Conv2d(hidden_units, hidden_units, 3, padding=1),\n",
        "            nn.ReLU(),\n",
        "            nn.MaxPool2d(2)\n",
        "        )\n",
        "        self.classifier = nn.Sequential(\n",
        "            nn.Flatten(),\n",
        "            # Where did this in_features shape come from?\n",
        "            # It's because each layer of our network compresses and changes the shape of our inputs data.\n",
        "            nn.Linear(in_features=hidden_units*7*7,\n",
        "                      out_features=output_shape)\n",
        "        )\n",
        "\n",
        "    def forward(self, x: torch.Tensor):\n",
        "        x = self.block_1(x)\n",
        "        # print(x.shape)\n",
        "        x = self.block_2(x)\n",
        "        # print(x.shape)\n",
        "        x = self.classifier(x)\n",
        "        # print(x.shape)\n",
        "        return x\n",
        "\n",
        "torch.manual_seed(42)\n",
        "model_2 = FashionMNISTModelV2(input_shape=1,\n",
        "    hidden_units=10,\n",
        "    output_shape=len(class_names)).to(device)\n",
        "model_2"
      ],
      "metadata": {
        "id": "WrLA466spFPq",
        "outputId": "d425eb04-eed5-4f57-8b11-67b9b9b3d1e1",
        "colab": {
          "base_uri": "https://localhost:8080/"
        }
      },
      "execution_count": 139,
      "outputs": [
        {
          "output_type": "execute_result",
          "data": {
            "text/plain": [
              "FashionMNISTModelV2(\n",
              "  (block_1): Sequential(\n",
              "    (0): Conv2d(1, 10, kernel_size=(3, 3), stride=(1, 1), padding=(1, 1))\n",
              "    (1): ReLU()\n",
              "    (2): Conv2d(10, 10, kernel_size=(3, 3), stride=(1, 1), padding=(1, 1))\n",
              "    (3): ReLU()\n",
              "    (4): MaxPool2d(kernel_size=2, stride=2, padding=0, dilation=1, ceil_mode=False)\n",
              "  )\n",
              "  (block_2): Sequential(\n",
              "    (0): Conv2d(10, 10, kernel_size=(3, 3), stride=(1, 1), padding=(1, 1))\n",
              "    (1): ReLU()\n",
              "    (2): Conv2d(10, 10, kernel_size=(3, 3), stride=(1, 1), padding=(1, 1))\n",
              "    (3): ReLU()\n",
              "    (4): MaxPool2d(kernel_size=2, stride=2, padding=0, dilation=1, ceil_mode=False)\n",
              "  )\n",
              "  (classifier): Sequential(\n",
              "    (0): Flatten(start_dim=1, end_dim=-1)\n",
              "    (1): Linear(in_features=490, out_features=10, bias=True)\n",
              "  )\n",
              ")"
            ]
          },
          "metadata": {},
          "execution_count": 139
        }
      ]
    },
    {
      "cell_type": "markdown",
      "source": [
        "# **7.1 Stepping through nn.Conv2d()**"
      ],
      "metadata": {
        "id": "3HkUJVXgpP4m"
      }
    },
    {
      "cell_type": "code",
      "source": [
        "torch.manual_seed(42)\n",
        "\n",
        "# Create sample batch of random numbers with same size as image batch\n",
        "images = torch.randn(size=(32, 3, 64, 64)) # [batch_size, color_channels, height, width]\n",
        "test_image = images[0] # get a single image for testing\n",
        "print(f\"Image batch shape: {images.shape} -> [batch_size, color_channels, height, width]\")\n",
        "print(f\"Single image shape: {test_image.shape} -> [color_channels, height, width]\")\n",
        "print(f\"Single image pixel values:\\n{test_image}\")"
      ],
      "metadata": {
        "id": "ip_G3RNupFMh",
        "outputId": "8f514c09-dd0e-4245-9d76-59148b45db7d",
        "colab": {
          "base_uri": "https://localhost:8080/"
        }
      },
      "execution_count": 140,
      "outputs": [
        {
          "output_type": "stream",
          "name": "stdout",
          "text": [
            "Image batch shape: torch.Size([32, 3, 64, 64]) -> [batch_size, color_channels, height, width]\n",
            "Single image shape: torch.Size([3, 64, 64]) -> [color_channels, height, width]\n",
            "Single image pixel values:\n",
            "tensor([[[ 1.9269,  1.4873,  0.9007,  ...,  1.8446, -1.1845,  1.3835],\n",
            "         [ 1.4451,  0.8564,  2.2181,  ...,  0.3399,  0.7200,  0.4114],\n",
            "         [ 1.9312,  1.0119, -1.4364,  ..., -0.5558,  0.7043,  0.7099],\n",
            "         ...,\n",
            "         [-0.5610, -0.4830,  0.4770,  ..., -0.2713, -0.9537, -0.6737],\n",
            "         [ 0.3076, -0.1277,  0.0366,  ..., -2.0060,  0.2824, -0.8111],\n",
            "         [-1.5486,  0.0485, -0.7712,  ..., -0.1403,  0.9416, -0.0118]],\n",
            "\n",
            "        [[-0.5197,  1.8524,  1.8365,  ...,  0.8935, -1.5114, -0.8515],\n",
            "         [ 2.0818,  1.0677, -1.4277,  ...,  1.6612, -2.6223, -0.4319],\n",
            "         [-0.1010, -0.4388, -1.9775,  ...,  0.2106,  0.2536, -0.7318],\n",
            "         ...,\n",
            "         [ 0.2779,  0.7342, -0.3736,  ..., -0.4601,  0.1815,  0.1850],\n",
            "         [ 0.7205, -0.2833,  0.0937,  ..., -0.1002, -2.3609,  2.2465],\n",
            "         [-1.3242, -0.1973,  0.2920,  ...,  0.5409,  0.6940,  1.8563]],\n",
            "\n",
            "        [[-0.7978,  1.0261,  1.1465,  ...,  1.2134,  0.9354, -0.0780],\n",
            "         [-1.4647, -1.9571,  0.1017,  ..., -1.9986, -0.7409,  0.7011],\n",
            "         [-1.3938,  0.8466, -1.7191,  ..., -1.1867,  0.1320,  0.3407],\n",
            "         ...,\n",
            "         [ 0.8206, -0.3745,  1.2499,  ..., -0.0676,  0.0385,  0.6335],\n",
            "         [-0.5589, -0.3393,  0.2347,  ...,  2.1181,  2.4569,  1.3083],\n",
            "         [-0.4092,  1.5199,  0.2401,  ..., -0.2558,  0.7870,  0.9924]]])\n"
          ]
        }
      ]
    },
    {
      "cell_type": "code",
      "source": [
        "torch.manual_seed(42)\n",
        "\n",
        "# Create a convolutional layer with same dimensions as TinyVGG\n",
        "# (try changing any of the parameters and see what happens)\n",
        "conv_layer = nn.Conv2d(in_channels=3,\n",
        "                       out_channels=10,\n",
        "                       kernel_size=3,\n",
        "                       stride=1,\n",
        "                       padding=0) # also try using \"valid\" or \"same\" here\n",
        "\n",
        "# Pass the data through the convolutional layer\n",
        "conv_layer(test_image) # Note: If running PyTorch <1.11.0, this will error because of shape issues (nn.Conv.2d() expects a 4d tensor as input)"
      ],
      "metadata": {
        "id": "HHcEvl6KpFBm",
        "outputId": "c1529ad6-f895-4242-a304-07742882850a",
        "colab": {
          "base_uri": "https://localhost:8080/"
        }
      },
      "execution_count": 141,
      "outputs": [
        {
          "output_type": "execute_result",
          "data": {
            "text/plain": [
              "tensor([[[ 1.5396,  0.0516,  0.6454,  ..., -0.3673,  0.8711,  0.4256],\n",
              "         [ 0.3662,  1.0114, -0.5997,  ...,  0.8983,  0.2809, -0.2741],\n",
              "         [ 1.2664, -1.4054,  0.3727,  ..., -0.3409,  1.2191, -0.0463],\n",
              "         ...,\n",
              "         [-0.1541,  0.5132, -0.3624,  ..., -0.2360, -0.4609, -0.0035],\n",
              "         [ 0.2981, -0.2432,  1.5012,  ..., -0.6289, -0.7283, -0.5767],\n",
              "         [-0.0386, -0.0781, -0.0388,  ...,  0.2842,  0.4228, -0.1802]],\n",
              "\n",
              "        [[-0.2840, -0.0319, -0.4455,  ..., -0.7956,  1.5599, -1.2449],\n",
              "         [ 0.2753, -0.1262, -0.6541,  ..., -0.2211,  0.1999, -0.8856],\n",
              "         [-0.5404, -1.5489,  0.0249,  ..., -0.5932, -1.0913, -0.3849],\n",
              "         ...,\n",
              "         [ 0.3870, -0.4064, -0.8236,  ...,  0.1734, -0.4330, -0.4951],\n",
              "         [-0.1984, -0.6386,  1.0263,  ..., -0.9401, -0.0585, -0.7833],\n",
              "         [-0.6306, -0.2052, -0.3694,  ..., -1.3248,  0.2456, -0.7134]],\n",
              "\n",
              "        [[ 0.4414,  0.5100,  0.4846,  ..., -0.8484,  0.2638,  1.1258],\n",
              "         [ 0.8117,  0.3191, -0.0157,  ...,  1.2686,  0.2319,  0.5003],\n",
              "         [ 0.3212,  0.0485, -0.2581,  ...,  0.2258,  0.2587, -0.8804],\n",
              "         ...,\n",
              "         [-0.1144, -0.1869,  0.0160,  ..., -0.8346,  0.0974,  0.8421],\n",
              "         [ 0.2941,  0.4417,  0.5866,  ..., -0.1224,  0.4814, -0.4799],\n",
              "         [ 0.6059, -0.0415, -0.2028,  ...,  0.1170,  0.2521, -0.4372]],\n",
              "\n",
              "        ...,\n",
              "\n",
              "        [[-0.2560, -0.0477,  0.6380,  ...,  0.6436,  0.7553, -0.7055],\n",
              "         [ 1.5595, -0.2209, -0.9486,  ..., -0.4876,  0.7754,  0.0750],\n",
              "         [-0.0797,  0.2471,  1.1300,  ...,  0.1505,  0.2354,  0.9576],\n",
              "         ...,\n",
              "         [ 1.1065,  0.6839,  1.2183,  ...,  0.3015, -0.1910, -0.1902],\n",
              "         [-0.3486, -0.7173, -0.3582,  ...,  0.4917,  0.7219,  0.1513],\n",
              "         [ 0.0119,  0.1017,  0.7839,  ..., -0.3752, -0.8127, -0.1257]],\n",
              "\n",
              "        [[ 0.3841,  1.1322,  0.1620,  ...,  0.7010,  0.0109,  0.6058],\n",
              "         [ 0.1664,  0.1873,  1.5924,  ...,  0.3733,  0.9096, -0.5399],\n",
              "         [ 0.4094, -0.0861, -0.7935,  ..., -0.1285, -0.9932, -0.3013],\n",
              "         ...,\n",
              "         [ 0.2688, -0.5630, -1.1902,  ...,  0.4493,  0.5404, -0.0103],\n",
              "         [ 0.0535,  0.4411,  0.5313,  ...,  0.0148, -1.0056,  0.3759],\n",
              "         [ 0.3031, -0.1590, -0.1316,  ..., -0.5384, -0.4271, -0.4876]],\n",
              "\n",
              "        [[-1.1865, -0.7280, -1.2331,  ..., -0.9013, -0.0542, -1.5949],\n",
              "         [-0.6345, -0.5920,  0.5326,  ..., -1.0395, -0.7963, -0.0647],\n",
              "         [-0.1132,  0.5166,  0.2569,  ...,  0.5595, -1.6881,  0.9485],\n",
              "         ...,\n",
              "         [-0.0254, -0.2669,  0.1927,  ..., -0.2917,  0.1088, -0.4807],\n",
              "         [-0.2609, -0.2328,  0.1404,  ..., -0.1325, -0.8436, -0.7524],\n",
              "         [-1.1399, -0.1751, -0.8705,  ...,  0.1589,  0.3377,  0.3493]]],\n",
              "       grad_fn=<SqueezeBackward1>)"
            ]
          },
          "metadata": {},
          "execution_count": 141
        }
      ]
    },
    {
      "cell_type": "code",
      "source": [
        "# Add extra dimension to test image\n",
        "test_image.unsqueeze(dim=0).shape"
      ],
      "metadata": {
        "id": "hCopW6-To9xB",
        "outputId": "91487c8a-14f8-4151-93fd-3e43fd7e6be0",
        "colab": {
          "base_uri": "https://localhost:8080/"
        }
      },
      "execution_count": 142,
      "outputs": [
        {
          "output_type": "execute_result",
          "data": {
            "text/plain": [
              "torch.Size([1, 3, 64, 64])"
            ]
          },
          "metadata": {},
          "execution_count": 142
        }
      ]
    },
    {
      "cell_type": "code",
      "source": [
        "# Pass test image with extra dimension through conv_layer\n",
        "conv_layer(test_image.unsqueeze(dim=0)).shape"
      ],
      "metadata": {
        "id": "eKNtRazvpfwh",
        "outputId": "56e6573c-2797-406f-9e14-8c70cda5b134",
        "colab": {
          "base_uri": "https://localhost:8080/"
        }
      },
      "execution_count": 143,
      "outputs": [
        {
          "output_type": "execute_result",
          "data": {
            "text/plain": [
              "torch.Size([1, 10, 62, 62])"
            ]
          },
          "metadata": {},
          "execution_count": 143
        }
      ]
    },
    {
      "cell_type": "code",
      "source": [
        "torch.manual_seed(42)\n",
        "# Create a new conv_layer with different values (try setting these to whatever you like)\n",
        "conv_layer_2 = nn.Conv2d(in_channels=3, # same number of color channels as our input image\n",
        "                         out_channels=10,\n",
        "                         kernel_size=(5, 5), # kernel is usually a square so a tuple also works\n",
        "                         stride=2,\n",
        "                         padding=0)\n",
        "\n",
        "# Pass single image through new conv_layer_2 (this calls nn.Conv2d()'s forward() method on the input)\n",
        "conv_layer_2(test_image.unsqueeze(dim=0)).shape"
      ],
      "metadata": {
        "id": "8t4muOaJpfqu",
        "outputId": "39810bbb-f5c5-4523-e0be-12ff6b59466d",
        "colab": {
          "base_uri": "https://localhost:8080/"
        }
      },
      "execution_count": 144,
      "outputs": [
        {
          "output_type": "execute_result",
          "data": {
            "text/plain": [
              "torch.Size([1, 10, 30, 30])"
            ]
          },
          "metadata": {},
          "execution_count": 144
        }
      ]
    },
    {
      "cell_type": "code",
      "source": [
        "# Check out the conv_layer_2 internal parameters\n",
        "print(conv_layer_2.state_dict())"
      ],
      "metadata": {
        "id": "wZZjJ_Efo9q2",
        "outputId": "7fadcda5-bac2-4e8c-a6a3-fe9f3a3c52cc",
        "colab": {
          "base_uri": "https://localhost:8080/"
        }
      },
      "execution_count": 145,
      "outputs": [
        {
          "output_type": "stream",
          "name": "stdout",
          "text": [
            "OrderedDict([('weight', tensor([[[[ 0.0883,  0.0958, -0.0271,  0.1061, -0.0253],\n",
            "          [ 0.0233, -0.0562,  0.0678,  0.1018, -0.0847],\n",
            "          [ 0.1004,  0.0216,  0.0853,  0.0156,  0.0557],\n",
            "          [-0.0163,  0.0890,  0.0171, -0.0539,  0.0294],\n",
            "          [-0.0532, -0.0135, -0.0469,  0.0766, -0.0911]],\n",
            "\n",
            "         [[-0.0532, -0.0326, -0.0694,  0.0109, -0.1140],\n",
            "          [ 0.1043, -0.0981,  0.0891,  0.0192, -0.0375],\n",
            "          [ 0.0714,  0.0180,  0.0933,  0.0126, -0.0364],\n",
            "          [ 0.0310, -0.0313,  0.0486,  0.1031,  0.0667],\n",
            "          [-0.0505,  0.0667,  0.0207,  0.0586, -0.0704]],\n",
            "\n",
            "         [[-0.1143, -0.0446, -0.0886,  0.0947,  0.0333],\n",
            "          [ 0.0478,  0.0365, -0.0020,  0.0904, -0.0820],\n",
            "          [ 0.0073, -0.0788,  0.0356, -0.0398,  0.0354],\n",
            "          [-0.0241,  0.0958, -0.0684, -0.0689, -0.0689],\n",
            "          [ 0.1039,  0.0385,  0.1111, -0.0953, -0.1145]]],\n",
            "\n",
            "\n",
            "        [[[-0.0903, -0.0777,  0.0468,  0.0413,  0.0959],\n",
            "          [-0.0596, -0.0787,  0.0613, -0.0467,  0.0701],\n",
            "          [-0.0274,  0.0661, -0.0897, -0.0583,  0.0352],\n",
            "          [ 0.0244, -0.0294,  0.0688,  0.0785, -0.0837],\n",
            "          [-0.0616,  0.1057, -0.0390, -0.0409, -0.1117]],\n",
            "\n",
            "         [[-0.0661,  0.0288, -0.0152, -0.0838,  0.0027],\n",
            "          [-0.0789, -0.0980, -0.0636, -0.1011, -0.0735],\n",
            "          [ 0.1154,  0.0218,  0.0356, -0.1077, -0.0758],\n",
            "          [-0.0384,  0.0181, -0.1016, -0.0498, -0.0691],\n",
            "          [ 0.0003, -0.0430, -0.0080, -0.0782, -0.0793]],\n",
            "\n",
            "         [[-0.0674, -0.0395, -0.0911,  0.0968, -0.0229],\n",
            "          [ 0.0994,  0.0360, -0.0978,  0.0799, -0.0318],\n",
            "          [-0.0443, -0.0958, -0.1148,  0.0330, -0.0252],\n",
            "          [ 0.0450, -0.0948,  0.0857, -0.0848, -0.0199],\n",
            "          [ 0.0241,  0.0596,  0.0932,  0.1052, -0.0916]]],\n",
            "\n",
            "\n",
            "        [[[ 0.0291, -0.0497, -0.0127, -0.0864,  0.1052],\n",
            "          [-0.0847,  0.0617,  0.0406,  0.0375, -0.0624],\n",
            "          [ 0.1050,  0.0254,  0.0149, -0.1018,  0.0485],\n",
            "          [-0.0173, -0.0529,  0.0992,  0.0257, -0.0639],\n",
            "          [-0.0584, -0.0055,  0.0645, -0.0295, -0.0659]],\n",
            "\n",
            "         [[-0.0395, -0.0863,  0.0412,  0.0894, -0.1087],\n",
            "          [ 0.0268,  0.0597,  0.0209, -0.0411,  0.0603],\n",
            "          [ 0.0607,  0.0432, -0.0203, -0.0306,  0.0124],\n",
            "          [-0.0204, -0.0344,  0.0738,  0.0992, -0.0114],\n",
            "          [-0.0259,  0.0017, -0.0069,  0.0278,  0.0324]],\n",
            "\n",
            "         [[-0.1049, -0.0426,  0.0972,  0.0450, -0.0057],\n",
            "          [-0.0696, -0.0706, -0.1034, -0.0376,  0.0390],\n",
            "          [ 0.0736,  0.0533, -0.1021, -0.0694, -0.0182],\n",
            "          [ 0.1117,  0.0167, -0.0299,  0.0478, -0.0440],\n",
            "          [-0.0747,  0.0843, -0.0525, -0.0231, -0.1149]]],\n",
            "\n",
            "\n",
            "        [[[ 0.0773,  0.0875,  0.0421, -0.0805, -0.1140],\n",
            "          [-0.0938,  0.0861,  0.0554,  0.0972,  0.0605],\n",
            "          [ 0.0292, -0.0011, -0.0878, -0.0989, -0.1080],\n",
            "          [ 0.0473, -0.0567, -0.0232, -0.0665, -0.0210],\n",
            "          [-0.0813, -0.0754,  0.0383, -0.0343,  0.0713]],\n",
            "\n",
            "         [[-0.0370, -0.0847, -0.0204, -0.0560, -0.0353],\n",
            "          [-0.1099,  0.0646, -0.0804,  0.0580,  0.0524],\n",
            "          [ 0.0825, -0.0886,  0.0830, -0.0546,  0.0428],\n",
            "          [ 0.1084, -0.0163, -0.0009, -0.0266, -0.0964],\n",
            "          [ 0.0554, -0.1146,  0.0717,  0.0864,  0.1092]],\n",
            "\n",
            "         [[-0.0272, -0.0949,  0.0260,  0.0638, -0.1149],\n",
            "          [-0.0262, -0.0692, -0.0101, -0.0568, -0.0472],\n",
            "          [-0.0367, -0.1097,  0.0947,  0.0968, -0.0181],\n",
            "          [-0.0131, -0.0471, -0.1043, -0.1124,  0.0429],\n",
            "          [-0.0634, -0.0742, -0.0090, -0.0385, -0.0374]]],\n",
            "\n",
            "\n",
            "        [[[ 0.0037, -0.0245, -0.0398, -0.0553, -0.0940],\n",
            "          [ 0.0968, -0.0462,  0.0306, -0.0401,  0.0094],\n",
            "          [ 0.1077,  0.0532, -0.1001,  0.0458,  0.1096],\n",
            "          [ 0.0304,  0.0774,  0.1138, -0.0177,  0.0240],\n",
            "          [-0.0803, -0.0238,  0.0855,  0.0592, -0.0731]],\n",
            "\n",
            "         [[-0.0926, -0.0789, -0.1140, -0.0891, -0.0286],\n",
            "          [ 0.0779,  0.0193, -0.0878, -0.0926,  0.0574],\n",
            "          [-0.0859, -0.0142,  0.0554, -0.0534, -0.0126],\n",
            "          [-0.0101, -0.0273, -0.0585, -0.1029, -0.0933],\n",
            "          [-0.0618,  0.1115, -0.0558, -0.0775,  0.0280]],\n",
            "\n",
            "         [[ 0.0318,  0.0633,  0.0878,  0.0643, -0.1145],\n",
            "          [ 0.0102,  0.0699, -0.0107, -0.0680,  0.1101],\n",
            "          [-0.0432, -0.0657, -0.1041,  0.0052,  0.0512],\n",
            "          [ 0.0256,  0.0228, -0.0876, -0.1078,  0.0020],\n",
            "          [ 0.1053,  0.0666, -0.0672, -0.0150, -0.0851]]],\n",
            "\n",
            "\n",
            "        [[[-0.0557,  0.0209,  0.0629,  0.0957, -0.1060],\n",
            "          [ 0.0772, -0.0814,  0.0432,  0.0977,  0.0016],\n",
            "          [ 0.1051, -0.0984, -0.0441,  0.0673, -0.0252],\n",
            "          [-0.0236, -0.0481,  0.0796,  0.0566,  0.0370],\n",
            "          [-0.0649, -0.0937,  0.0125,  0.0342, -0.0533]],\n",
            "\n",
            "         [[-0.0323,  0.0780,  0.0092,  0.0052, -0.0284],\n",
            "          [-0.1046, -0.1086, -0.0552, -0.0587,  0.0360],\n",
            "          [-0.0336, -0.0452,  0.1101,  0.0402,  0.0823],\n",
            "          [-0.0559, -0.0472,  0.0424, -0.0769, -0.0755],\n",
            "          [-0.0056, -0.0422, -0.0866,  0.0685,  0.0929]],\n",
            "\n",
            "         [[ 0.0187, -0.0201, -0.1070, -0.0421,  0.0294],\n",
            "          [ 0.0544, -0.0146, -0.0457,  0.0643, -0.0920],\n",
            "          [ 0.0730, -0.0448,  0.0018, -0.0228,  0.0140],\n",
            "          [-0.0349,  0.0840, -0.0030,  0.0901,  0.1110],\n",
            "          [-0.0563, -0.0842,  0.0926,  0.0905, -0.0882]]],\n",
            "\n",
            "\n",
            "        [[[-0.0089, -0.1139, -0.0945,  0.0223,  0.0307],\n",
            "          [ 0.0245, -0.0314,  0.1065,  0.0165, -0.0681],\n",
            "          [-0.0065,  0.0277,  0.0404, -0.0816,  0.0433],\n",
            "          [-0.0590, -0.0959, -0.0631,  0.1114,  0.0987],\n",
            "          [ 0.1034,  0.0678,  0.0872, -0.0155, -0.0635]],\n",
            "\n",
            "         [[ 0.0577, -0.0598, -0.0779, -0.0369,  0.0242],\n",
            "          [ 0.0594, -0.0448, -0.0680,  0.0156, -0.0681],\n",
            "          [-0.0752,  0.0602, -0.0194,  0.1055,  0.1123],\n",
            "          [ 0.0345,  0.0397,  0.0266,  0.0018, -0.0084],\n",
            "          [ 0.0016,  0.0431,  0.1074, -0.0299, -0.0488]],\n",
            "\n",
            "         [[-0.0280, -0.0558,  0.0196,  0.0862,  0.0903],\n",
            "          [ 0.0530, -0.0850, -0.0620, -0.0254, -0.0213],\n",
            "          [ 0.0095, -0.1060,  0.0359, -0.0881, -0.0731],\n",
            "          [-0.0960,  0.1006, -0.1093,  0.0871, -0.0039],\n",
            "          [-0.0134,  0.0722, -0.0107,  0.0724,  0.0835]]],\n",
            "\n",
            "\n",
            "        [[[-0.1003,  0.0444,  0.0218,  0.0248,  0.0169],\n",
            "          [ 0.0316, -0.0555, -0.0148,  0.1097,  0.0776],\n",
            "          [-0.0043, -0.1086,  0.0051, -0.0786,  0.0939],\n",
            "          [-0.0701, -0.0083, -0.0256,  0.0205,  0.1087],\n",
            "          [ 0.0110,  0.0669,  0.0896,  0.0932, -0.0399]],\n",
            "\n",
            "         [[-0.0258,  0.0556, -0.0315,  0.0541, -0.0252],\n",
            "          [-0.0783,  0.0470,  0.0177,  0.0515,  0.1147],\n",
            "          [ 0.0788,  0.1095,  0.0062, -0.0993, -0.0810],\n",
            "          [-0.0717, -0.1018, -0.0579, -0.1063, -0.1065],\n",
            "          [-0.0690, -0.1138, -0.0709,  0.0440,  0.0963]],\n",
            "\n",
            "         [[-0.0343, -0.0336,  0.0617, -0.0570, -0.0546],\n",
            "          [ 0.0711, -0.1006,  0.0141,  0.1020,  0.0198],\n",
            "          [ 0.0314, -0.0672, -0.0016,  0.0063,  0.0283],\n",
            "          [ 0.0449,  0.1003, -0.0881,  0.0035, -0.0577],\n",
            "          [-0.0913, -0.0092, -0.1016,  0.0806,  0.0134]]],\n",
            "\n",
            "\n",
            "        [[[-0.0622,  0.0603, -0.1093, -0.0447, -0.0225],\n",
            "          [-0.0981, -0.0734, -0.0188,  0.0876,  0.1115],\n",
            "          [ 0.0735, -0.0689, -0.0755,  0.1008,  0.0408],\n",
            "          [ 0.0031,  0.0156, -0.0928, -0.0386,  0.1112],\n",
            "          [-0.0285, -0.0058, -0.0959, -0.0646, -0.0024]],\n",
            "\n",
            "         [[-0.0717, -0.0143,  0.0470, -0.1130,  0.0343],\n",
            "          [-0.0763, -0.0564,  0.0443,  0.0918, -0.0316],\n",
            "          [-0.0474, -0.1044, -0.0595, -0.1011, -0.0264],\n",
            "          [ 0.0236, -0.1082,  0.1008,  0.0724, -0.1130],\n",
            "          [-0.0552,  0.0377, -0.0237, -0.0126, -0.0521]],\n",
            "\n",
            "         [[ 0.0927, -0.0645,  0.0958,  0.0075,  0.0232],\n",
            "          [ 0.0901, -0.0190, -0.0657, -0.0187,  0.0937],\n",
            "          [-0.0857,  0.0262, -0.1135,  0.0605,  0.0427],\n",
            "          [ 0.0049,  0.0496,  0.0001,  0.0639, -0.0914],\n",
            "          [-0.0170,  0.0512,  0.1150,  0.0588, -0.0840]]],\n",
            "\n",
            "\n",
            "        [[[ 0.0888, -0.0257, -0.0247, -0.1050, -0.0182],\n",
            "          [ 0.0817,  0.0161, -0.0673,  0.0355, -0.0370],\n",
            "          [ 0.1054, -0.1002, -0.0365, -0.1115, -0.0455],\n",
            "          [ 0.0364,  0.1112,  0.0194,  0.1132,  0.0226],\n",
            "          [ 0.0667,  0.0926,  0.0965, -0.0646,  0.1062]],\n",
            "\n",
            "         [[ 0.0699, -0.0540, -0.0551, -0.0969,  0.0290],\n",
            "          [-0.0936,  0.0488,  0.0365, -0.1003,  0.0315],\n",
            "          [-0.0094,  0.0527,  0.0663, -0.1148,  0.1059],\n",
            "          [ 0.0968,  0.0459, -0.1055, -0.0412, -0.0335],\n",
            "          [-0.0297,  0.0651,  0.0420,  0.0915, -0.0432]],\n",
            "\n",
            "         [[ 0.0389,  0.0411, -0.0961, -0.1120, -0.0599],\n",
            "          [ 0.0790, -0.1087, -0.1005,  0.0647,  0.0623],\n",
            "          [ 0.0950, -0.0872, -0.0845,  0.0592,  0.1004],\n",
            "          [ 0.0691,  0.0181,  0.0381,  0.1096, -0.0745],\n",
            "          [-0.0524,  0.0808, -0.0790, -0.0637,  0.0843]]]])), ('bias', tensor([ 0.0364,  0.0373, -0.0489, -0.0016,  0.1057, -0.0693,  0.0009,  0.0549,\n",
            "        -0.0797,  0.1121]))])\n"
          ]
        }
      ]
    },
    {
      "cell_type": "code",
      "source": [
        "# Get shapes of weight and bias tensors within conv_layer_2\n",
        "print(f\"conv_layer_2 weight shape: \\n{conv_layer_2.weight.shape} -> [out_channels=10, in_channels=3, kernel_size=5, kernel_size=5]\")\n",
        "print(f\"\\nconv_layer_2 bias shape: \\n{conv_layer_2.bias.shape} -> [out_channels=10]\")"
      ],
      "metadata": {
        "id": "4p54sOV1ppIa",
        "outputId": "71b251bb-a6fc-4469-f37c-1570a18b8bff",
        "colab": {
          "base_uri": "https://localhost:8080/"
        }
      },
      "execution_count": 146,
      "outputs": [
        {
          "output_type": "stream",
          "name": "stdout",
          "text": [
            "conv_layer_2 weight shape: \n",
            "torch.Size([10, 3, 5, 5]) -> [out_channels=10, in_channels=3, kernel_size=5, kernel_size=5]\n",
            "\n",
            "conv_layer_2 bias shape: \n",
            "torch.Size([10]) -> [out_channels=10]\n"
          ]
        }
      ]
    },
    {
      "cell_type": "markdown",
      "source": [
        "# **7.2 Stepping through nn.MaxPool2d()**"
      ],
      "metadata": {
        "id": "YbazwDfJpriu"
      }
    },
    {
      "cell_type": "code",
      "source": [
        "# Print out original image shape without and with unsqueezed dimension\n",
        "print(f\"Test image original shape: {test_image.shape}\")\n",
        "print(f\"Test image with unsqueezed dimension: {test_image.unsqueeze(dim=0).shape}\")\n",
        "\n",
        "# Create a sample nn.MaxPoo2d() layer\n",
        "max_pool_layer = nn.MaxPool2d(kernel_size=2)\n",
        "\n",
        "# Pass data through just the conv_layer\n",
        "test_image_through_conv = conv_layer(test_image.unsqueeze(dim=0))\n",
        "print(f\"Shape after going through conv_layer(): {test_image_through_conv.shape}\")\n",
        "\n",
        "# Pass data through the max pool layer\n",
        "test_image_through_conv_and_max_pool = max_pool_layer(test_image_through_conv)\n",
        "print(f\"Shape after going through conv_layer() and max_pool_layer(): {test_image_through_conv_and_max_pool.shape}\")"
      ],
      "metadata": {
        "id": "_I95iUjcppF1",
        "outputId": "277496a4-ce37-4204-9835-71d0da8fdc1b",
        "colab": {
          "base_uri": "https://localhost:8080/"
        }
      },
      "execution_count": 147,
      "outputs": [
        {
          "output_type": "stream",
          "name": "stdout",
          "text": [
            "Test image original shape: torch.Size([3, 64, 64])\n",
            "Test image with unsqueezed dimension: torch.Size([1, 3, 64, 64])\n",
            "Shape after going through conv_layer(): torch.Size([1, 10, 62, 62])\n",
            "Shape after going through conv_layer() and max_pool_layer(): torch.Size([1, 10, 31, 31])\n"
          ]
        }
      ]
    },
    {
      "cell_type": "code",
      "source": [
        "torch.manual_seed(42)\n",
        "# Create a random tensor with a similiar number of dimensions to our images\n",
        "random_tensor = torch.randn(size=(1, 1, 2, 2))\n",
        "print(f\"Random tensor:\\n{random_tensor}\")\n",
        "print(f\"Random tensor shape: {random_tensor.shape}\")\n",
        "\n",
        "# Create a max pool layer\n",
        "max_pool_layer = nn.MaxPool2d(kernel_size=2) # see what happens when you change the kernel_size value\n",
        "\n",
        "# Pass the random tensor through the max pool layer\n",
        "max_pool_tensor = max_pool_layer(random_tensor)\n",
        "print(f\"\\nMax pool tensor:\\n{max_pool_tensor} <- this is the maximum value from random_tensor\")\n",
        "print(f\"Max pool tensor shape: {max_pool_tensor.shape}\")"
      ],
      "metadata": {
        "id": "zwvj2ZurppBf",
        "outputId": "7b6a776f-f99b-44fd-ec23-a9be65567a9d",
        "colab": {
          "base_uri": "https://localhost:8080/"
        }
      },
      "execution_count": 148,
      "outputs": [
        {
          "output_type": "stream",
          "name": "stdout",
          "text": [
            "Random tensor:\n",
            "tensor([[[[0.3367, 0.1288],\n",
            "          [0.2345, 0.2303]]]])\n",
            "Random tensor shape: torch.Size([1, 1, 2, 2])\n",
            "\n",
            "Max pool tensor:\n",
            "tensor([[[[0.3367]]]]) <- this is the maximum value from random_tensor\n",
            "Max pool tensor shape: torch.Size([1, 1, 1, 1])\n"
          ]
        }
      ]
    },
    {
      "cell_type": "markdown",
      "source": [
        "# **7.3 Setup a loss function and optimizer for model_2**"
      ],
      "metadata": {
        "id": "l-jdo_J_pzJn"
      }
    },
    {
      "cell_type": "code",
      "source": [
        "# Setup loss and optimizer\n",
        "loss_fn = nn.CrossEntropyLoss()\n",
        "optimizer = torch.optim.SGD(params=model_2.parameters(),\n",
        "                             lr=0.1)"
      ],
      "metadata": {
        "id": "TxW9o6xvpo-w"
      },
      "execution_count": 149,
      "outputs": []
    },
    {
      "cell_type": "markdown",
      "source": [
        "# **7.4 Training and testing model_2 using our training and test functions**"
      ],
      "metadata": {
        "id": "fNTFL2Cip3pn"
      }
    },
    {
      "cell_type": "code",
      "source": [
        "torch.manual_seed(42)\n",
        "\n",
        "# Measure time\n",
        "from timeit import default_timer as timer\n",
        "train_time_start_model_2 = timer()\n",
        "\n",
        "# Train and test model\n",
        "epochs = 3\n",
        "for epoch in tqdm(range(epochs)):\n",
        "    print(f\"Epoch: {epoch}\\n---------\")\n",
        "    train_step(data_loader=train_dataloader,\n",
        "        model=model_2,\n",
        "        loss_fn=loss_fn,\n",
        "        optimizer=optimizer,\n",
        "        accuracy_fn=accuracy_fn,\n",
        "        device=device\n",
        "    )\n",
        "    test_step(data_loader=test_dataloader,\n",
        "        model=model_2,\n",
        "        loss_fn=loss_fn,\n",
        "        accuracy_fn=accuracy_fn,\n",
        "        device=device\n",
        "    )\n",
        "\n",
        "train_time_end_model_2 = timer()\n",
        "total_train_time_model_2 = print_train_time(start=train_time_start_model_2,\n",
        "                                           end=train_time_end_model_2,\n",
        "                                           device=device)"
      ],
      "metadata": {
        "id": "S5-pHhOIpo6G",
        "outputId": "d0554ff7-6ef3-461f-d7dc-b8f35ff82195",
        "colab": {
          "base_uri": "https://localhost:8080/",
          "height": 327,
          "referenced_widgets": [
            "b09871d69a0744129f1ef51e7e5a1ef6",
            "1fc947bd320a4688ac9c84541c5328a8",
            "559777985d2a4b29802a3201d3e33eb6",
            "ef94e121e9e74bcca16a9d642aaaf96f",
            "be7fbae81e264a0f8d1127476de40296",
            "5235dbd041514c089a8d740df9506f4a",
            "6fefbcbe4d9d40fa969374b073b1d4ed",
            "ed5cf353cf9f499aaed3042a19c34653",
            "72b1049bf7d6447face92fdffe951684",
            "714bef2b072343b598383242c319410a",
            "10b5ad92ac9540c0bd15f6b57457736c"
          ]
        }
      },
      "execution_count": 150,
      "outputs": [
        {
          "output_type": "display_data",
          "data": {
            "text/plain": [
              "  0%|          | 0/3 [00:00<?, ?it/s]"
            ],
            "application/vnd.jupyter.widget-view+json": {
              "version_major": 2,
              "version_minor": 0,
              "model_id": "b09871d69a0744129f1ef51e7e5a1ef6"
            }
          },
          "metadata": {}
        },
        {
          "output_type": "stream",
          "name": "stdout",
          "text": [
            "Epoch: 0\n",
            "---------\n",
            "Train loss: 0.59034 | Train accuracy: 78.68%\n",
            "Test loss: 0.39139 | Test accuracy: 86.11%\n",
            "\n",
            "Epoch: 1\n",
            "---------\n",
            "Train loss: 0.36200 | Train accuracy: 86.94%\n",
            "Test loss: 0.35006 | Test accuracy: 87.28%\n",
            "\n",
            "Epoch: 2\n",
            "---------\n",
            "Train loss: 0.32355 | Train accuracy: 88.29%\n",
            "Test loss: 0.32149 | Test accuracy: 88.30%\n",
            "\n",
            "Train time on cuda: 36.569 seconds\n"
          ]
        }
      ]
    },
    {
      "cell_type": "code",
      "source": [
        "# Get model_2 results\n",
        "model_2_results = eval_model(\n",
        "    model=model_2,\n",
        "    data_loader=test_dataloader,\n",
        "    loss_fn=loss_fn,\n",
        "    accuracy_fn=accuracy_fn\n",
        ")\n",
        "model_2_results"
      ],
      "metadata": {
        "id": "14Uok59up8bT",
        "outputId": "4fcd4b4f-f433-48a0-cffe-046511bcd9cc",
        "colab": {
          "base_uri": "https://localhost:8080/"
        }
      },
      "execution_count": 151,
      "outputs": [
        {
          "output_type": "execute_result",
          "data": {
            "text/plain": [
              "{'model_name': 'FashionMNISTModelV2',\n",
              " 'model_loss': 0.3214913308620453,\n",
              " 'model_acc': 88.29872204472844}"
            ]
          },
          "metadata": {},
          "execution_count": 151
        }
      ]
    },
    {
      "cell_type": "markdown",
      "source": [
        "## **8. Compare model results and training time**"
      ],
      "metadata": {
        "id": "rZbXuDn4qAkp"
      }
    },
    {
      "cell_type": "code",
      "source": [
        "import pandas as pd\n",
        "compare_results = pd.DataFrame([model_0_results, model_1_results, model_2_results])\n",
        "compare_results"
      ],
      "metadata": {
        "id": "34WYeUgwp8Wp",
        "outputId": "a12a5a83-277b-4be4-b68f-7c8353ff19cd",
        "colab": {
          "base_uri": "https://localhost:8080/",
          "height": 143
        }
      },
      "execution_count": 152,
      "outputs": [
        {
          "output_type": "execute_result",
          "data": {
            "text/plain": [
              "            model_name  model_loss  model_acc\n",
              "0  FashionMNISTModelV0    0.476639  83.426518\n",
              "1  FashionMNISTModelV1    0.685001  75.019968\n",
              "2  FashionMNISTModelV2    0.321491  88.298722"
            ],
            "text/html": [
              "\n",
              "  <div id=\"df-ec4d9c29-92d1-41c5-8087-c0fda4787f71\" class=\"colab-df-container\">\n",
              "    <div>\n",
              "<style scoped>\n",
              "    .dataframe tbody tr th:only-of-type {\n",
              "        vertical-align: middle;\n",
              "    }\n",
              "\n",
              "    .dataframe tbody tr th {\n",
              "        vertical-align: top;\n",
              "    }\n",
              "\n",
              "    .dataframe thead th {\n",
              "        text-align: right;\n",
              "    }\n",
              "</style>\n",
              "<table border=\"1\" class=\"dataframe\">\n",
              "  <thead>\n",
              "    <tr style=\"text-align: right;\">\n",
              "      <th></th>\n",
              "      <th>model_name</th>\n",
              "      <th>model_loss</th>\n",
              "      <th>model_acc</th>\n",
              "    </tr>\n",
              "  </thead>\n",
              "  <tbody>\n",
              "    <tr>\n",
              "      <th>0</th>\n",
              "      <td>FashionMNISTModelV0</td>\n",
              "      <td>0.476639</td>\n",
              "      <td>83.426518</td>\n",
              "    </tr>\n",
              "    <tr>\n",
              "      <th>1</th>\n",
              "      <td>FashionMNISTModelV1</td>\n",
              "      <td>0.685001</td>\n",
              "      <td>75.019968</td>\n",
              "    </tr>\n",
              "    <tr>\n",
              "      <th>2</th>\n",
              "      <td>FashionMNISTModelV2</td>\n",
              "      <td>0.321491</td>\n",
              "      <td>88.298722</td>\n",
              "    </tr>\n",
              "  </tbody>\n",
              "</table>\n",
              "</div>\n",
              "    <div class=\"colab-df-buttons\">\n",
              "\n",
              "  <div class=\"colab-df-container\">\n",
              "    <button class=\"colab-df-convert\" onclick=\"convertToInteractive('df-ec4d9c29-92d1-41c5-8087-c0fda4787f71')\"\n",
              "            title=\"Convert this dataframe to an interactive table.\"\n",
              "            style=\"display:none;\">\n",
              "\n",
              "  <svg xmlns=\"http://www.w3.org/2000/svg\" height=\"24px\" viewBox=\"0 -960 960 960\">\n",
              "    <path d=\"M120-120v-720h720v720H120Zm60-500h600v-160H180v160Zm220 220h160v-160H400v160Zm0 220h160v-160H400v160ZM180-400h160v-160H180v160Zm440 0h160v-160H620v160ZM180-180h160v-160H180v160Zm440 0h160v-160H620v160Z\"/>\n",
              "  </svg>\n",
              "    </button>\n",
              "\n",
              "  <style>\n",
              "    .colab-df-container {\n",
              "      display:flex;\n",
              "      gap: 12px;\n",
              "    }\n",
              "\n",
              "    .colab-df-convert {\n",
              "      background-color: #E8F0FE;\n",
              "      border: none;\n",
              "      border-radius: 50%;\n",
              "      cursor: pointer;\n",
              "      display: none;\n",
              "      fill: #1967D2;\n",
              "      height: 32px;\n",
              "      padding: 0 0 0 0;\n",
              "      width: 32px;\n",
              "    }\n",
              "\n",
              "    .colab-df-convert:hover {\n",
              "      background-color: #E2EBFA;\n",
              "      box-shadow: 0px 1px 2px rgba(60, 64, 67, 0.3), 0px 1px 3px 1px rgba(60, 64, 67, 0.15);\n",
              "      fill: #174EA6;\n",
              "    }\n",
              "\n",
              "    .colab-df-buttons div {\n",
              "      margin-bottom: 4px;\n",
              "    }\n",
              "\n",
              "    [theme=dark] .colab-df-convert {\n",
              "      background-color: #3B4455;\n",
              "      fill: #D2E3FC;\n",
              "    }\n",
              "\n",
              "    [theme=dark] .colab-df-convert:hover {\n",
              "      background-color: #434B5C;\n",
              "      box-shadow: 0px 1px 3px 1px rgba(0, 0, 0, 0.15);\n",
              "      filter: drop-shadow(0px 1px 2px rgba(0, 0, 0, 0.3));\n",
              "      fill: #FFFFFF;\n",
              "    }\n",
              "  </style>\n",
              "\n",
              "    <script>\n",
              "      const buttonEl =\n",
              "        document.querySelector('#df-ec4d9c29-92d1-41c5-8087-c0fda4787f71 button.colab-df-convert');\n",
              "      buttonEl.style.display =\n",
              "        google.colab.kernel.accessAllowed ? 'block' : 'none';\n",
              "\n",
              "      async function convertToInteractive(key) {\n",
              "        const element = document.querySelector('#df-ec4d9c29-92d1-41c5-8087-c0fda4787f71');\n",
              "        const dataTable =\n",
              "          await google.colab.kernel.invokeFunction('convertToInteractive',\n",
              "                                                    [key], {});\n",
              "        if (!dataTable) return;\n",
              "\n",
              "        const docLinkHtml = 'Like what you see? Visit the ' +\n",
              "          '<a target=\"_blank\" href=https://colab.research.google.com/notebooks/data_table.ipynb>data table notebook</a>'\n",
              "          + ' to learn more about interactive tables.';\n",
              "        element.innerHTML = '';\n",
              "        dataTable['output_type'] = 'display_data';\n",
              "        await google.colab.output.renderOutput(dataTable, element);\n",
              "        const docLink = document.createElement('div');\n",
              "        docLink.innerHTML = docLinkHtml;\n",
              "        element.appendChild(docLink);\n",
              "      }\n",
              "    </script>\n",
              "  </div>\n",
              "\n",
              "\n",
              "<div id=\"df-e45da1c0-2c9a-47e0-969c-feee2fd2a372\">\n",
              "  <button class=\"colab-df-quickchart\" onclick=\"quickchart('df-e45da1c0-2c9a-47e0-969c-feee2fd2a372')\"\n",
              "            title=\"Suggest charts\"\n",
              "            style=\"display:none;\">\n",
              "\n",
              "<svg xmlns=\"http://www.w3.org/2000/svg\" height=\"24px\"viewBox=\"0 0 24 24\"\n",
              "     width=\"24px\">\n",
              "    <g>\n",
              "        <path d=\"M19 3H5c-1.1 0-2 .9-2 2v14c0 1.1.9 2 2 2h14c1.1 0 2-.9 2-2V5c0-1.1-.9-2-2-2zM9 17H7v-7h2v7zm4 0h-2V7h2v10zm4 0h-2v-4h2v4z\"/>\n",
              "    </g>\n",
              "</svg>\n",
              "  </button>\n",
              "\n",
              "<style>\n",
              "  .colab-df-quickchart {\n",
              "      --bg-color: #E8F0FE;\n",
              "      --fill-color: #1967D2;\n",
              "      --hover-bg-color: #E2EBFA;\n",
              "      --hover-fill-color: #174EA6;\n",
              "      --disabled-fill-color: #AAA;\n",
              "      --disabled-bg-color: #DDD;\n",
              "  }\n",
              "\n",
              "  [theme=dark] .colab-df-quickchart {\n",
              "      --bg-color: #3B4455;\n",
              "      --fill-color: #D2E3FC;\n",
              "      --hover-bg-color: #434B5C;\n",
              "      --hover-fill-color: #FFFFFF;\n",
              "      --disabled-bg-color: #3B4455;\n",
              "      --disabled-fill-color: #666;\n",
              "  }\n",
              "\n",
              "  .colab-df-quickchart {\n",
              "    background-color: var(--bg-color);\n",
              "    border: none;\n",
              "    border-radius: 50%;\n",
              "    cursor: pointer;\n",
              "    display: none;\n",
              "    fill: var(--fill-color);\n",
              "    height: 32px;\n",
              "    padding: 0;\n",
              "    width: 32px;\n",
              "  }\n",
              "\n",
              "  .colab-df-quickchart:hover {\n",
              "    background-color: var(--hover-bg-color);\n",
              "    box-shadow: 0 1px 2px rgba(60, 64, 67, 0.3), 0 1px 3px 1px rgba(60, 64, 67, 0.15);\n",
              "    fill: var(--button-hover-fill-color);\n",
              "  }\n",
              "\n",
              "  .colab-df-quickchart-complete:disabled,\n",
              "  .colab-df-quickchart-complete:disabled:hover {\n",
              "    background-color: var(--disabled-bg-color);\n",
              "    fill: var(--disabled-fill-color);\n",
              "    box-shadow: none;\n",
              "  }\n",
              "\n",
              "  .colab-df-spinner {\n",
              "    border: 2px solid var(--fill-color);\n",
              "    border-color: transparent;\n",
              "    border-bottom-color: var(--fill-color);\n",
              "    animation:\n",
              "      spin 1s steps(1) infinite;\n",
              "  }\n",
              "\n",
              "  @keyframes spin {\n",
              "    0% {\n",
              "      border-color: transparent;\n",
              "      border-bottom-color: var(--fill-color);\n",
              "      border-left-color: var(--fill-color);\n",
              "    }\n",
              "    20% {\n",
              "      border-color: transparent;\n",
              "      border-left-color: var(--fill-color);\n",
              "      border-top-color: var(--fill-color);\n",
              "    }\n",
              "    30% {\n",
              "      border-color: transparent;\n",
              "      border-left-color: var(--fill-color);\n",
              "      border-top-color: var(--fill-color);\n",
              "      border-right-color: var(--fill-color);\n",
              "    }\n",
              "    40% {\n",
              "      border-color: transparent;\n",
              "      border-right-color: var(--fill-color);\n",
              "      border-top-color: var(--fill-color);\n",
              "    }\n",
              "    60% {\n",
              "      border-color: transparent;\n",
              "      border-right-color: var(--fill-color);\n",
              "    }\n",
              "    80% {\n",
              "      border-color: transparent;\n",
              "      border-right-color: var(--fill-color);\n",
              "      border-bottom-color: var(--fill-color);\n",
              "    }\n",
              "    90% {\n",
              "      border-color: transparent;\n",
              "      border-bottom-color: var(--fill-color);\n",
              "    }\n",
              "  }\n",
              "</style>\n",
              "\n",
              "  <script>\n",
              "    async function quickchart(key) {\n",
              "      const quickchartButtonEl =\n",
              "        document.querySelector('#' + key + ' button');\n",
              "      quickchartButtonEl.disabled = true;  // To prevent multiple clicks.\n",
              "      quickchartButtonEl.classList.add('colab-df-spinner');\n",
              "      try {\n",
              "        const charts = await google.colab.kernel.invokeFunction(\n",
              "            'suggestCharts', [key], {});\n",
              "      } catch (error) {\n",
              "        console.error('Error during call to suggestCharts:', error);\n",
              "      }\n",
              "      quickchartButtonEl.classList.remove('colab-df-spinner');\n",
              "      quickchartButtonEl.classList.add('colab-df-quickchart-complete');\n",
              "    }\n",
              "    (() => {\n",
              "      let quickchartButtonEl =\n",
              "        document.querySelector('#df-e45da1c0-2c9a-47e0-969c-feee2fd2a372 button');\n",
              "      quickchartButtonEl.style.display =\n",
              "        google.colab.kernel.accessAllowed ? 'block' : 'none';\n",
              "    })();\n",
              "  </script>\n",
              "</div>\n",
              "\n",
              "  <div id=\"id_dc351732-914b-4fe7-abff-0a88b9aa0bac\">\n",
              "    <style>\n",
              "      .colab-df-generate {\n",
              "        background-color: #E8F0FE;\n",
              "        border: none;\n",
              "        border-radius: 50%;\n",
              "        cursor: pointer;\n",
              "        display: none;\n",
              "        fill: #1967D2;\n",
              "        height: 32px;\n",
              "        padding: 0 0 0 0;\n",
              "        width: 32px;\n",
              "      }\n",
              "\n",
              "      .colab-df-generate:hover {\n",
              "        background-color: #E2EBFA;\n",
              "        box-shadow: 0px 1px 2px rgba(60, 64, 67, 0.3), 0px 1px 3px 1px rgba(60, 64, 67, 0.15);\n",
              "        fill: #174EA6;\n",
              "      }\n",
              "\n",
              "      [theme=dark] .colab-df-generate {\n",
              "        background-color: #3B4455;\n",
              "        fill: #D2E3FC;\n",
              "      }\n",
              "\n",
              "      [theme=dark] .colab-df-generate:hover {\n",
              "        background-color: #434B5C;\n",
              "        box-shadow: 0px 1px 3px 1px rgba(0, 0, 0, 0.15);\n",
              "        filter: drop-shadow(0px 1px 2px rgba(0, 0, 0, 0.3));\n",
              "        fill: #FFFFFF;\n",
              "      }\n",
              "    </style>\n",
              "    <button class=\"colab-df-generate\" onclick=\"generateWithVariable('compare_results')\"\n",
              "            title=\"Generate code using this dataframe.\"\n",
              "            style=\"display:none;\">\n",
              "\n",
              "  <svg xmlns=\"http://www.w3.org/2000/svg\" height=\"24px\"viewBox=\"0 0 24 24\"\n",
              "       width=\"24px\">\n",
              "    <path d=\"M7,19H8.4L18.45,9,17,7.55,7,17.6ZM5,21V16.75L18.45,3.32a2,2,0,0,1,2.83,0l1.4,1.43a1.91,1.91,0,0,1,.58,1.4,1.91,1.91,0,0,1-.58,1.4L9.25,21ZM18.45,9,17,7.55Zm-12,3A5.31,5.31,0,0,0,4.9,8.1,5.31,5.31,0,0,0,1,6.5,5.31,5.31,0,0,0,4.9,4.9,5.31,5.31,0,0,0,6.5,1,5.31,5.31,0,0,0,8.1,4.9,5.31,5.31,0,0,0,12,6.5,5.46,5.46,0,0,0,6.5,12Z\"/>\n",
              "  </svg>\n",
              "    </button>\n",
              "    <script>\n",
              "      (() => {\n",
              "      const buttonEl =\n",
              "        document.querySelector('#id_dc351732-914b-4fe7-abff-0a88b9aa0bac button.colab-df-generate');\n",
              "      buttonEl.style.display =\n",
              "        google.colab.kernel.accessAllowed ? 'block' : 'none';\n",
              "\n",
              "      buttonEl.onclick = () => {\n",
              "        google.colab.notebook.generateWithVariable('compare_results');\n",
              "      }\n",
              "      })();\n",
              "    </script>\n",
              "  </div>\n",
              "\n",
              "    </div>\n",
              "  </div>\n"
            ],
            "application/vnd.google.colaboratory.intrinsic+json": {
              "type": "dataframe",
              "variable_name": "compare_results",
              "summary": "{\n  \"name\": \"compare_results\",\n  \"rows\": 3,\n  \"fields\": [\n    {\n      \"column\": \"model_name\",\n      \"properties\": {\n        \"dtype\": \"string\",\n        \"num_unique_values\": 3,\n        \"samples\": [\n          \"FashionMNISTModelV0\",\n          \"FashionMNISTModelV1\",\n          \"FashionMNISTModelV2\"\n        ],\n        \"semantic_type\": \"\",\n        \"description\": \"\"\n      }\n    },\n    {\n      \"column\": \"model_loss\",\n      \"properties\": {\n        \"dtype\": \"number\",\n        \"std\": 0.182402800362526,\n        \"min\": 0.3214913308620453,\n        \"max\": 0.6850008964538574,\n        \"num_unique_values\": 3,\n        \"samples\": [\n          0.47663894295692444,\n          0.6850008964538574,\n          0.3214913308620453\n        ],\n        \"semantic_type\": \"\",\n        \"description\": \"\"\n      }\n    },\n    {\n      \"column\": \"model_acc\",\n      \"properties\": {\n        \"dtype\": \"number\",\n        \"std\": 6.717312941113671,\n        \"min\": 75.01996805111821,\n        \"max\": 88.29872204472844,\n        \"num_unique_values\": 3,\n        \"samples\": [\n          83.42651757188499,\n          75.01996805111821,\n          88.29872204472844\n        ],\n        \"semantic_type\": \"\",\n        \"description\": \"\"\n      }\n    }\n  ]\n}"
            }
          },
          "metadata": {},
          "execution_count": 152
        }
      ]
    },
    {
      "cell_type": "code",
      "source": [
        "# Add training times to results comparison\n",
        "compare_results[\"training_time\"] = [total_train_time_model_0,\n",
        "                                    total_train_time_model_1,\n",
        "                                    total_train_time_model_2]\n",
        "compare_results"
      ],
      "metadata": {
        "id": "kFAU_wetp8Rb",
        "outputId": "ffecc595-d1c0-4098-f55b-bd1b2f15a23d",
        "colab": {
          "base_uri": "https://localhost:8080/",
          "height": 143
        }
      },
      "execution_count": 153,
      "outputs": [
        {
          "output_type": "execute_result",
          "data": {
            "text/plain": [
              "            model_name  model_loss  model_acc  training_time\n",
              "0  FashionMNISTModelV0    0.476639  83.426518      29.642253\n",
              "1  FashionMNISTModelV1    0.685001  75.019968      29.354901\n",
              "2  FashionMNISTModelV2    0.321491  88.298722      36.568875"
            ],
            "text/html": [
              "\n",
              "  <div id=\"df-96517601-675e-47d1-bab1-c1aa3aaa4913\" class=\"colab-df-container\">\n",
              "    <div>\n",
              "<style scoped>\n",
              "    .dataframe tbody tr th:only-of-type {\n",
              "        vertical-align: middle;\n",
              "    }\n",
              "\n",
              "    .dataframe tbody tr th {\n",
              "        vertical-align: top;\n",
              "    }\n",
              "\n",
              "    .dataframe thead th {\n",
              "        text-align: right;\n",
              "    }\n",
              "</style>\n",
              "<table border=\"1\" class=\"dataframe\">\n",
              "  <thead>\n",
              "    <tr style=\"text-align: right;\">\n",
              "      <th></th>\n",
              "      <th>model_name</th>\n",
              "      <th>model_loss</th>\n",
              "      <th>model_acc</th>\n",
              "      <th>training_time</th>\n",
              "    </tr>\n",
              "  </thead>\n",
              "  <tbody>\n",
              "    <tr>\n",
              "      <th>0</th>\n",
              "      <td>FashionMNISTModelV0</td>\n",
              "      <td>0.476639</td>\n",
              "      <td>83.426518</td>\n",
              "      <td>29.642253</td>\n",
              "    </tr>\n",
              "    <tr>\n",
              "      <th>1</th>\n",
              "      <td>FashionMNISTModelV1</td>\n",
              "      <td>0.685001</td>\n",
              "      <td>75.019968</td>\n",
              "      <td>29.354901</td>\n",
              "    </tr>\n",
              "    <tr>\n",
              "      <th>2</th>\n",
              "      <td>FashionMNISTModelV2</td>\n",
              "      <td>0.321491</td>\n",
              "      <td>88.298722</td>\n",
              "      <td>36.568875</td>\n",
              "    </tr>\n",
              "  </tbody>\n",
              "</table>\n",
              "</div>\n",
              "    <div class=\"colab-df-buttons\">\n",
              "\n",
              "  <div class=\"colab-df-container\">\n",
              "    <button class=\"colab-df-convert\" onclick=\"convertToInteractive('df-96517601-675e-47d1-bab1-c1aa3aaa4913')\"\n",
              "            title=\"Convert this dataframe to an interactive table.\"\n",
              "            style=\"display:none;\">\n",
              "\n",
              "  <svg xmlns=\"http://www.w3.org/2000/svg\" height=\"24px\" viewBox=\"0 -960 960 960\">\n",
              "    <path d=\"M120-120v-720h720v720H120Zm60-500h600v-160H180v160Zm220 220h160v-160H400v160Zm0 220h160v-160H400v160ZM180-400h160v-160H180v160Zm440 0h160v-160H620v160ZM180-180h160v-160H180v160Zm440 0h160v-160H620v160Z\"/>\n",
              "  </svg>\n",
              "    </button>\n",
              "\n",
              "  <style>\n",
              "    .colab-df-container {\n",
              "      display:flex;\n",
              "      gap: 12px;\n",
              "    }\n",
              "\n",
              "    .colab-df-convert {\n",
              "      background-color: #E8F0FE;\n",
              "      border: none;\n",
              "      border-radius: 50%;\n",
              "      cursor: pointer;\n",
              "      display: none;\n",
              "      fill: #1967D2;\n",
              "      height: 32px;\n",
              "      padding: 0 0 0 0;\n",
              "      width: 32px;\n",
              "    }\n",
              "\n",
              "    .colab-df-convert:hover {\n",
              "      background-color: #E2EBFA;\n",
              "      box-shadow: 0px 1px 2px rgba(60, 64, 67, 0.3), 0px 1px 3px 1px rgba(60, 64, 67, 0.15);\n",
              "      fill: #174EA6;\n",
              "    }\n",
              "\n",
              "    .colab-df-buttons div {\n",
              "      margin-bottom: 4px;\n",
              "    }\n",
              "\n",
              "    [theme=dark] .colab-df-convert {\n",
              "      background-color: #3B4455;\n",
              "      fill: #D2E3FC;\n",
              "    }\n",
              "\n",
              "    [theme=dark] .colab-df-convert:hover {\n",
              "      background-color: #434B5C;\n",
              "      box-shadow: 0px 1px 3px 1px rgba(0, 0, 0, 0.15);\n",
              "      filter: drop-shadow(0px 1px 2px rgba(0, 0, 0, 0.3));\n",
              "      fill: #FFFFFF;\n",
              "    }\n",
              "  </style>\n",
              "\n",
              "    <script>\n",
              "      const buttonEl =\n",
              "        document.querySelector('#df-96517601-675e-47d1-bab1-c1aa3aaa4913 button.colab-df-convert');\n",
              "      buttonEl.style.display =\n",
              "        google.colab.kernel.accessAllowed ? 'block' : 'none';\n",
              "\n",
              "      async function convertToInteractive(key) {\n",
              "        const element = document.querySelector('#df-96517601-675e-47d1-bab1-c1aa3aaa4913');\n",
              "        const dataTable =\n",
              "          await google.colab.kernel.invokeFunction('convertToInteractive',\n",
              "                                                    [key], {});\n",
              "        if (!dataTable) return;\n",
              "\n",
              "        const docLinkHtml = 'Like what you see? Visit the ' +\n",
              "          '<a target=\"_blank\" href=https://colab.research.google.com/notebooks/data_table.ipynb>data table notebook</a>'\n",
              "          + ' to learn more about interactive tables.';\n",
              "        element.innerHTML = '';\n",
              "        dataTable['output_type'] = 'display_data';\n",
              "        await google.colab.output.renderOutput(dataTable, element);\n",
              "        const docLink = document.createElement('div');\n",
              "        docLink.innerHTML = docLinkHtml;\n",
              "        element.appendChild(docLink);\n",
              "      }\n",
              "    </script>\n",
              "  </div>\n",
              "\n",
              "\n",
              "<div id=\"df-dc550914-2be2-4fe8-86f7-0375a8f6ef5a\">\n",
              "  <button class=\"colab-df-quickchart\" onclick=\"quickchart('df-dc550914-2be2-4fe8-86f7-0375a8f6ef5a')\"\n",
              "            title=\"Suggest charts\"\n",
              "            style=\"display:none;\">\n",
              "\n",
              "<svg xmlns=\"http://www.w3.org/2000/svg\" height=\"24px\"viewBox=\"0 0 24 24\"\n",
              "     width=\"24px\">\n",
              "    <g>\n",
              "        <path d=\"M19 3H5c-1.1 0-2 .9-2 2v14c0 1.1.9 2 2 2h14c1.1 0 2-.9 2-2V5c0-1.1-.9-2-2-2zM9 17H7v-7h2v7zm4 0h-2V7h2v10zm4 0h-2v-4h2v4z\"/>\n",
              "    </g>\n",
              "</svg>\n",
              "  </button>\n",
              "\n",
              "<style>\n",
              "  .colab-df-quickchart {\n",
              "      --bg-color: #E8F0FE;\n",
              "      --fill-color: #1967D2;\n",
              "      --hover-bg-color: #E2EBFA;\n",
              "      --hover-fill-color: #174EA6;\n",
              "      --disabled-fill-color: #AAA;\n",
              "      --disabled-bg-color: #DDD;\n",
              "  }\n",
              "\n",
              "  [theme=dark] .colab-df-quickchart {\n",
              "      --bg-color: #3B4455;\n",
              "      --fill-color: #D2E3FC;\n",
              "      --hover-bg-color: #434B5C;\n",
              "      --hover-fill-color: #FFFFFF;\n",
              "      --disabled-bg-color: #3B4455;\n",
              "      --disabled-fill-color: #666;\n",
              "  }\n",
              "\n",
              "  .colab-df-quickchart {\n",
              "    background-color: var(--bg-color);\n",
              "    border: none;\n",
              "    border-radius: 50%;\n",
              "    cursor: pointer;\n",
              "    display: none;\n",
              "    fill: var(--fill-color);\n",
              "    height: 32px;\n",
              "    padding: 0;\n",
              "    width: 32px;\n",
              "  }\n",
              "\n",
              "  .colab-df-quickchart:hover {\n",
              "    background-color: var(--hover-bg-color);\n",
              "    box-shadow: 0 1px 2px rgba(60, 64, 67, 0.3), 0 1px 3px 1px rgba(60, 64, 67, 0.15);\n",
              "    fill: var(--button-hover-fill-color);\n",
              "  }\n",
              "\n",
              "  .colab-df-quickchart-complete:disabled,\n",
              "  .colab-df-quickchart-complete:disabled:hover {\n",
              "    background-color: var(--disabled-bg-color);\n",
              "    fill: var(--disabled-fill-color);\n",
              "    box-shadow: none;\n",
              "  }\n",
              "\n",
              "  .colab-df-spinner {\n",
              "    border: 2px solid var(--fill-color);\n",
              "    border-color: transparent;\n",
              "    border-bottom-color: var(--fill-color);\n",
              "    animation:\n",
              "      spin 1s steps(1) infinite;\n",
              "  }\n",
              "\n",
              "  @keyframes spin {\n",
              "    0% {\n",
              "      border-color: transparent;\n",
              "      border-bottom-color: var(--fill-color);\n",
              "      border-left-color: var(--fill-color);\n",
              "    }\n",
              "    20% {\n",
              "      border-color: transparent;\n",
              "      border-left-color: var(--fill-color);\n",
              "      border-top-color: var(--fill-color);\n",
              "    }\n",
              "    30% {\n",
              "      border-color: transparent;\n",
              "      border-left-color: var(--fill-color);\n",
              "      border-top-color: var(--fill-color);\n",
              "      border-right-color: var(--fill-color);\n",
              "    }\n",
              "    40% {\n",
              "      border-color: transparent;\n",
              "      border-right-color: var(--fill-color);\n",
              "      border-top-color: var(--fill-color);\n",
              "    }\n",
              "    60% {\n",
              "      border-color: transparent;\n",
              "      border-right-color: var(--fill-color);\n",
              "    }\n",
              "    80% {\n",
              "      border-color: transparent;\n",
              "      border-right-color: var(--fill-color);\n",
              "      border-bottom-color: var(--fill-color);\n",
              "    }\n",
              "    90% {\n",
              "      border-color: transparent;\n",
              "      border-bottom-color: var(--fill-color);\n",
              "    }\n",
              "  }\n",
              "</style>\n",
              "\n",
              "  <script>\n",
              "    async function quickchart(key) {\n",
              "      const quickchartButtonEl =\n",
              "        document.querySelector('#' + key + ' button');\n",
              "      quickchartButtonEl.disabled = true;  // To prevent multiple clicks.\n",
              "      quickchartButtonEl.classList.add('colab-df-spinner');\n",
              "      try {\n",
              "        const charts = await google.colab.kernel.invokeFunction(\n",
              "            'suggestCharts', [key], {});\n",
              "      } catch (error) {\n",
              "        console.error('Error during call to suggestCharts:', error);\n",
              "      }\n",
              "      quickchartButtonEl.classList.remove('colab-df-spinner');\n",
              "      quickchartButtonEl.classList.add('colab-df-quickchart-complete');\n",
              "    }\n",
              "    (() => {\n",
              "      let quickchartButtonEl =\n",
              "        document.querySelector('#df-dc550914-2be2-4fe8-86f7-0375a8f6ef5a button');\n",
              "      quickchartButtonEl.style.display =\n",
              "        google.colab.kernel.accessAllowed ? 'block' : 'none';\n",
              "    })();\n",
              "  </script>\n",
              "</div>\n",
              "\n",
              "  <div id=\"id_1bc3c9ef-bbbe-4987-94f1-630741f2e3c6\">\n",
              "    <style>\n",
              "      .colab-df-generate {\n",
              "        background-color: #E8F0FE;\n",
              "        border: none;\n",
              "        border-radius: 50%;\n",
              "        cursor: pointer;\n",
              "        display: none;\n",
              "        fill: #1967D2;\n",
              "        height: 32px;\n",
              "        padding: 0 0 0 0;\n",
              "        width: 32px;\n",
              "      }\n",
              "\n",
              "      .colab-df-generate:hover {\n",
              "        background-color: #E2EBFA;\n",
              "        box-shadow: 0px 1px 2px rgba(60, 64, 67, 0.3), 0px 1px 3px 1px rgba(60, 64, 67, 0.15);\n",
              "        fill: #174EA6;\n",
              "      }\n",
              "\n",
              "      [theme=dark] .colab-df-generate {\n",
              "        background-color: #3B4455;\n",
              "        fill: #D2E3FC;\n",
              "      }\n",
              "\n",
              "      [theme=dark] .colab-df-generate:hover {\n",
              "        background-color: #434B5C;\n",
              "        box-shadow: 0px 1px 3px 1px rgba(0, 0, 0, 0.15);\n",
              "        filter: drop-shadow(0px 1px 2px rgba(0, 0, 0, 0.3));\n",
              "        fill: #FFFFFF;\n",
              "      }\n",
              "    </style>\n",
              "    <button class=\"colab-df-generate\" onclick=\"generateWithVariable('compare_results')\"\n",
              "            title=\"Generate code using this dataframe.\"\n",
              "            style=\"display:none;\">\n",
              "\n",
              "  <svg xmlns=\"http://www.w3.org/2000/svg\" height=\"24px\"viewBox=\"0 0 24 24\"\n",
              "       width=\"24px\">\n",
              "    <path d=\"M7,19H8.4L18.45,9,17,7.55,7,17.6ZM5,21V16.75L18.45,3.32a2,2,0,0,1,2.83,0l1.4,1.43a1.91,1.91,0,0,1,.58,1.4,1.91,1.91,0,0,1-.58,1.4L9.25,21ZM18.45,9,17,7.55Zm-12,3A5.31,5.31,0,0,0,4.9,8.1,5.31,5.31,0,0,0,1,6.5,5.31,5.31,0,0,0,4.9,4.9,5.31,5.31,0,0,0,6.5,1,5.31,5.31,0,0,0,8.1,4.9,5.31,5.31,0,0,0,12,6.5,5.46,5.46,0,0,0,6.5,12Z\"/>\n",
              "  </svg>\n",
              "    </button>\n",
              "    <script>\n",
              "      (() => {\n",
              "      const buttonEl =\n",
              "        document.querySelector('#id_1bc3c9ef-bbbe-4987-94f1-630741f2e3c6 button.colab-df-generate');\n",
              "      buttonEl.style.display =\n",
              "        google.colab.kernel.accessAllowed ? 'block' : 'none';\n",
              "\n",
              "      buttonEl.onclick = () => {\n",
              "        google.colab.notebook.generateWithVariable('compare_results');\n",
              "      }\n",
              "      })();\n",
              "    </script>\n",
              "  </div>\n",
              "\n",
              "    </div>\n",
              "  </div>\n"
            ],
            "application/vnd.google.colaboratory.intrinsic+json": {
              "type": "dataframe",
              "variable_name": "compare_results",
              "summary": "{\n  \"name\": \"compare_results\",\n  \"rows\": 3,\n  \"fields\": [\n    {\n      \"column\": \"model_name\",\n      \"properties\": {\n        \"dtype\": \"string\",\n        \"num_unique_values\": 3,\n        \"samples\": [\n          \"FashionMNISTModelV0\",\n          \"FashionMNISTModelV1\",\n          \"FashionMNISTModelV2\"\n        ],\n        \"semantic_type\": \"\",\n        \"description\": \"\"\n      }\n    },\n    {\n      \"column\": \"model_loss\",\n      \"properties\": {\n        \"dtype\": \"number\",\n        \"std\": 0.182402800362526,\n        \"min\": 0.3214913308620453,\n        \"max\": 0.6850008964538574,\n        \"num_unique_values\": 3,\n        \"samples\": [\n          0.47663894295692444,\n          0.6850008964538574,\n          0.3214913308620453\n        ],\n        \"semantic_type\": \"\",\n        \"description\": \"\"\n      }\n    },\n    {\n      \"column\": \"model_acc\",\n      \"properties\": {\n        \"dtype\": \"number\",\n        \"std\": 6.717312941113671,\n        \"min\": 75.01996805111821,\n        \"max\": 88.29872204472844,\n        \"num_unique_values\": 3,\n        \"samples\": [\n          83.42651757188499,\n          75.01996805111821,\n          88.29872204472844\n        ],\n        \"semantic_type\": \"\",\n        \"description\": \"\"\n      }\n    },\n    {\n      \"column\": \"training_time\",\n      \"properties\": {\n        \"dtype\": \"number\",\n        \"std\": 4.084565940607958,\n        \"min\": 29.354901069000107,\n        \"max\": 36.56887484499998,\n        \"num_unique_values\": 3,\n        \"samples\": [\n          29.642253408000215,\n          29.354901069000107,\n          36.56887484499998\n        ],\n        \"semantic_type\": \"\",\n        \"description\": \"\"\n      }\n    }\n  ]\n}"
            }
          },
          "metadata": {},
          "execution_count": 153
        }
      ]
    },
    {
      "cell_type": "markdown",
      "source": [
        "**Performance-speed tradeoff**"
      ],
      "metadata": {
        "id": "JUkFuzj_wdjV"
      }
    },
    {
      "cell_type": "code",
      "source": [
        "# Visualize our model results\n",
        "compare_results.set_index(\"model_name\")[\"model_acc\"].plot(kind=\"barh\")\n",
        "plt.xlabel(\"accuracy (%)\")\n",
        "plt.ylabel(\"model\");"
      ],
      "metadata": {
        "id": "8w_nAKcLo4Y_",
        "outputId": "0892239e-1b3e-4801-88ad-4b37b8a47d85",
        "colab": {
          "base_uri": "https://localhost:8080/",
          "height": 449
        }
      },
      "execution_count": 154,
      "outputs": [
        {
          "output_type": "display_data",
          "data": {
            "text/plain": [
              "<Figure size 640x480 with 1 Axes>"
            ],
            "image/png": "[encoded data removed]"
          },
          "metadata": {}
        }
      ]
    },
    {
      "cell_type": "markdown",
      "source": [
        "# **9. Make and evaluate random predictions with best model**"
      ],
      "metadata": {
        "id": "E_tUYCxdxZKG"
      }
    },
    {
      "cell_type": "code",
      "source": [
        "def make_predictions(model: torch.nn.Module, data: list, device: torch.device = device):\n",
        "    pred_probs = []\n",
        "    model.eval()\n",
        "    with torch.inference_mode():\n",
        "        for sample in data:\n",
        "            # Prepare sample\n",
        "            sample = torch.unsqueeze(sample, dim=0).to(device) # Add an extra dimension and send sample to device\n",
        "\n",
        "            # Forward pass (model outputs raw logit)\n",
        "            pred_logit = model(sample)\n",
        "\n",
        "            # Get prediction probability (logit -> prediction probability)\n",
        "            pred_prob = torch.softmax(pred_logit.squeeze(), dim=0) # note: perform softmax on the \"logits\" dimension, not \"batch\" dimension (in this case we have a batch size of 1, so can perform on dim=0)\n",
        "\n",
        "            # Get pred_prob off GPU for further calculations\n",
        "            pred_probs.append(pred_prob.cpu())\n",
        "\n",
        "    # Stack the pred_probs to turn list into a tensor\n",
        "    return torch.stack(pred_probs)"
      ],
      "metadata": {
        "id": "zOV-V8v3wiwG"
      },
      "execution_count": 155,
      "outputs": []
    },
    {
      "cell_type": "code",
      "source": [
        "import random\n",
        "random.seed(42)\n",
        "test_samples = []\n",
        "test_labels = []\n",
        "for sample, label in random.sample(list(test_data), k=9):\n",
        "    test_samples.append(sample)\n",
        "    test_labels.append(label)\n",
        "\n",
        "# View the first test sample shape and label\n",
        "print(f\"Test sample image shape: {test_samples[0].shape}\\nTest sample label: {test_labels[0]} ({class_names[test_labels[0]]})\")"
      ],
      "metadata": {
        "id": "SAfOmG3owiqt",
        "outputId": "17f3d16e-828b-429f-dc9d-be731f19f125",
        "colab": {
          "base_uri": "https://localhost:8080/"
        }
      },
      "execution_count": 156,
      "outputs": [
        {
          "output_type": "stream",
          "name": "stdout",
          "text": [
            "Test sample image shape: torch.Size([1, 28, 28])\n",
            "Test sample label: 5 (Sandal)\n"
          ]
        }
      ]
    },
    {
      "cell_type": "code",
      "source": [
        "# Make predictions on test samples with model 2\n",
        "pred_probs= make_predictions(model=model_2,\n",
        "                             data=test_samples)\n",
        "\n",
        "# View first two prediction probabilities list\n",
        "pred_probs[:2]"
      ],
      "metadata": {
        "id": "O9-UciZQzd0c",
        "outputId": "392f741e-2d94-4328-e478-a58cdb1cad6d",
        "colab": {
          "base_uri": "https://localhost:8080/"
        }
      },
      "execution_count": 157,
      "outputs": [
        {
          "output_type": "execute_result",
          "data": {
            "text/plain": [
              "tensor([[7.3697e-08, 4.3481e-09, 8.6081e-09, 4.5449e-08, 7.4972e-10, 9.9991e-01,\n",
              "         2.9314e-08, 1.0246e-05, 5.5686e-06, 7.1336e-05],\n",
              "        [4.6461e-02, 7.4306e-01, 6.0456e-04, 5.2093e-02, 5.5894e-02, 1.7010e-05,\n",
              "         1.0175e-01, 1.5396e-05, 4.1032e-05, 6.0968e-05]])"
            ]
          },
          "metadata": {},
          "execution_count": 157
        }
      ]
    },
    {
      "cell_type": "code",
      "source": [
        "# Make predictions on test samples with model 2\n",
        "pred_probs= make_predictions(model=model_2,\n",
        "                             data=test_samples)\n",
        "\n",
        "# View first two prediction probabilities list\n",
        "pred_probs[:2]"
      ],
      "metadata": {
        "id": "45N5fEoLzgca",
        "outputId": "adc9101d-7637-49d7-d512-3166d10d8401",
        "colab": {
          "base_uri": "https://localhost:8080/"
        }
      },
      "execution_count": 158,
      "outputs": [
        {
          "output_type": "execute_result",
          "data": {
            "text/plain": [
              "tensor([[7.3697e-08, 4.3481e-09, 8.6081e-09, 4.5449e-08, 7.4972e-10, 9.9991e-01,\n",
              "         2.9314e-08, 1.0246e-05, 5.5686e-06, 7.1336e-05],\n",
              "        [4.6461e-02, 7.4306e-01, 6.0456e-04, 5.2093e-02, 5.5894e-02, 1.7010e-05,\n",
              "         1.0175e-01, 1.5396e-05, 4.1032e-05, 6.0968e-05]])"
            ]
          },
          "metadata": {},
          "execution_count": 158
        }
      ]
    },
    {
      "cell_type": "code",
      "source": [
        "# Turn the prediction probabilities into prediction labels by taking the argmax()\n",
        "pred_classes = pred_probs.argmax(dim=1)\n",
        "pred_classes"
      ],
      "metadata": {
        "id": "lT8tQ36dzgRk",
        "outputId": "286c7419-0d06-46d9-e736-2d6f38fde060",
        "colab": {
          "base_uri": "https://localhost:8080/"
        }
      },
      "execution_count": 159,
      "outputs": [
        {
          "output_type": "execute_result",
          "data": {
            "text/plain": [
              "tensor([5, 1, 7, 4, 3, 0, 4, 7, 1])"
            ]
          },
          "metadata": {},
          "execution_count": 159
        }
      ]
    },
    {
      "cell_type": "code",
      "source": [
        "# Are our predictions in the same form as our test labels?\n",
        "test_labels, pred_classes"
      ],
      "metadata": {
        "id": "bg0dC0Wlzf6R",
        "outputId": "b34cb610-0710-4a85-d23d-4da487d26fa2",
        "colab": {
          "base_uri": "https://localhost:8080/"
        }
      },
      "execution_count": 160,
      "outputs": [
        {
          "output_type": "execute_result",
          "data": {
            "text/plain": [
              "([5, 1, 7, 4, 3, 0, 4, 7, 1], tensor([5, 1, 7, 4, 3, 0, 4, 7, 1]))"
            ]
          },
          "metadata": {},
          "execution_count": 160
        }
      ]
    },
    {
      "cell_type": "code",
      "source": [
        "# Plot predictions\n",
        "plt.figure(figsize=(9, 9))\n",
        "nrows = 3\n",
        "ncols = 3\n",
        "for i, sample in enumerate(test_samples):\n",
        "  # Create a subplot\n",
        "  plt.subplot(nrows, ncols, i+1)\n",
        "\n",
        "  # Plot the target image\n",
        "  plt.imshow(sample.squeeze(), cmap=\"gray\")\n",
        "\n",
        "  # Find the prediction label (in text form, e.g. \"Sandal\")\n",
        "  pred_label = class_names[pred_classes[i]]\n",
        "\n",
        "  # Get the truth label (in text form, e.g. \"T-shirt\")\n",
        "  truth_label = class_names[test_labels[i]]\n",
        "\n",
        "  # Create the title text of the plot\n",
        "  title_text = f\"Pred: {pred_label} | Truth: {truth_label}\"\n",
        "\n",
        "  # Check for equality and change title colour accordingly\n",
        "  if pred_label == truth_label:\n",
        "      plt.title(title_text, fontsize=10, c=\"g\") # green text if correct\n",
        "  else:\n",
        "      plt.title(title_text, fontsize=10, c=\"r\") # red text if wrong\n",
        "  plt.axis(False);"
      ],
      "metadata": {
        "id": "5R1kdk7ozdvD",
        "outputId": "56adada2-2454-4a5d-a417-322bae407566",
        "colab": {
          "base_uri": "https://localhost:8080/",
          "height": 749
        }
      },
      "execution_count": 161,
      "outputs": [
        {
          "output_type": "display_data",
          "data": {
            "text/plain": [
              "<Figure size 900x900 with 9 Axes>"
            ],
            "image/png": "[encoded data removed]"
          },
          "metadata": {}
        }
      ]
    },
    {
      "cell_type": "markdown",
      "source": [
        "# **10. Making a confusion matrix for further prediction evaluation**"
      ],
      "metadata": {
        "id": "8PaJr1_NzubI"
      }
    },
    {
      "cell_type": "code",
      "source": [
        "# Import tqdm for progress bar\n",
        "from tqdm.auto import tqdm\n",
        "\n",
        "# 1. Make predictions with trained model\n",
        "y_preds = []\n",
        "model_2.eval()\n",
        "with torch.inference_mode():\n",
        "  for X, y in tqdm(test_dataloader, desc=\"Making predictions\"):\n",
        "    # Send data and targets to target device\n",
        "    X, y = X.to(device), y.to(device)\n",
        "    # Do the forward pass\n",
        "    y_logit = model_2(X)\n",
        "    # Turn predictions from logits -> prediction probabilities -> predictions labels\n",
        "    y_pred = torch.softmax(y_logit, dim=1).argmax(dim=1) # note: perform softmax on the \"logits\" dimension, not \"batch\" dimension (in this case we have a batch size of 32, so can perform on dim=1)\n",
        "    # Put predictions on CPU for evaluation\n",
        "    y_preds.append(y_pred.cpu())\n",
        "# Concatenate list of predictions into a tensor\n",
        "y_pred_tensor = torch.cat(y_preds)"
      ],
      "metadata": {
        "id": "Q73XPPWOzuCM",
        "outputId": "fae5f050-8977-43d2-a1a6-0c6407e3ce4b",
        "colab": {
          "base_uri": "https://localhost:8080/",
          "height": 49,
          "referenced_widgets": [
            "84cb4765062a4f6a8a9b7347da4fa1d4",
            "a86734473417432d92b071ea6c0acc0e",
            "149a732c948342ceabf4da6272b86b5f",
            "78c371730866485ca89d3ae28c4c3e17",
            "7dcf686073754d269eff1cdd5f21b6eb",
            "6d9d222a5e554bb284ccee5f926404e0",
            "f103747a7f64409c9657092eb975783b",
            "759a8dbd86cc459fa9b2af588ea9e0a0",
            "fc5c6becba4b483b8450f0845fdd315e",
            "bd5b3c7dfde54a71ba8544d1c84ceb22",
            "afc41980c32b4b18a14d6211f8617f00"
          ]
        }
      },
      "execution_count": 162,
      "outputs": [
        {
          "output_type": "display_data",
          "data": {
            "text/plain": [
              "Making predictions:   0%|          | 0/313 [00:00<?, ?it/s]"
            ],
            "application/vnd.jupyter.widget-view+json": {
              "version_major": 2,
              "version_minor": 0,
              "model_id": "84cb4765062a4f6a8a9b7347da4fa1d4"
            }
          },
          "metadata": {}
        }
      ]
    },
    {
      "cell_type": "code",
      "source": [
        "# See if torchmetrics exists, if not, install it\n",
        "try:\n",
        "    import torchmetrics, mlxtend\n",
        "    print(f\"mlxtend version: {mlxtend.__version__}\")\n",
        "    assert int(mlxtend.__version__.split(\".\")[1]) >= 19, \"mlxtend verison should be 0.19.0 or higher\"\n",
        "except:\n",
        "    !pip install -q torchmetrics -U mlxtend # <- Note: If you're using Google Colab, this may require restarting the runtime\n",
        "    import torchmetrics, mlxtend\n",
        "    print(f\"mlxtend version: {mlxtend.__version__}\")"
      ],
      "metadata": {
        "id": "fQYEj98Bzt_E",
        "outputId": "2577d949-2ad2-4402-c263-ce075af0e59e",
        "colab": {
          "base_uri": "https://localhost:8080/"
        }
      },
      "execution_count": 163,
      "outputs": [
        {
          "output_type": "stream",
          "name": "stdout",
          "text": [
            "\u001b[2K     \u001b[90m━━━━━━━━━━━━━━━━━━━━━━━━━━━━━━━━━━━━━━━━\u001b[0m \u001b[32m841.5/841.5 kB\u001b[0m \u001b[31m17.0 MB/s\u001b[0m eta \u001b[36m0:00:00\u001b[0m\n",
            "\u001b[2K     \u001b[90m━━━━━━━━━━━━━━━━━━━━━━━━━━━━━━━━━━━━━━━━\u001b[0m \u001b[32m1.4/1.4 MB\u001b[0m \u001b[31m50.4 MB/s\u001b[0m eta \u001b[36m0:00:00\u001b[0m\n",
            "\u001b[?25hmlxtend version: 0.23.1\n"
          ]
        }
      ]
    },
    {
      "cell_type": "code",
      "source": [
        "# Import mlxtend upgraded version\n",
        "import mlxtend\n",
        "print(mlxtend.__version__)\n",
        "assert int(mlxtend.__version__.split(\".\")[1]) >= 19 # should be version 0.19.0 or higher"
      ],
      "metadata": {
        "id": "zpPKkCM5zt7Y",
        "outputId": "eb457579-8a17-4358-ec57-d378849c2d81",
        "colab": {
          "base_uri": "https://localhost:8080/"
        }
      },
      "execution_count": 164,
      "outputs": [
        {
          "output_type": "stream",
          "name": "stdout",
          "text": [
            "0.23.1\n"
          ]
        }
      ]
    },
    {
      "cell_type": "code",
      "source": [
        "from torchmetrics import ConfusionMatrix\n",
        "from mlxtend.plotting import plot_confusion_matrix\n",
        "\n",
        "# 2. Setup confusion matrix instance and compare predictions to targets\n",
        "confmat = ConfusionMatrix(num_classes=len(class_names), task='multiclass')\n",
        "confmat_tensor = confmat(preds=y_pred_tensor,\n",
        "                         target=test_data.targets)\n",
        "\n",
        "# 3. Plot the confusion matrix\n",
        "fig, ax = plot_confusion_matrix(\n",
        "    conf_mat=confmat_tensor.numpy(), # matplotlib likes working with NumPy\n",
        "    class_names=class_names, # turn the row and column labels into class names\n",
        "    figsize=(10, 7)\n",
        ");"
      ],
      "metadata": {
        "id": "bBwTsCv3zt17",
        "outputId": "99348d63-b339-4754-eb3a-e03a8f228bf2",
        "colab": {
          "base_uri": "https://localhost:8080/",
          "height": 667
        }
      },
      "execution_count": 165,
      "outputs": [
        {
          "output_type": "display_data",
          "data": {
            "text/plain": [
              "<Figure size 1000x700 with 1 Axes>"
            ],
            "image/png": "[encoded data removed]"
          },
          "metadata": {}
        }
      ]
    },
    {
      "cell_type": "markdown",
      "source": [
        "Exercise: Use the trained model_2 to make predictions on the test FashionMNIST dataset. Then plot some predictions where the model was wrong alongside what the label of the image should've been. After visualing these predictions do you think it's more of a modelling error or a data error? As in, could the model do better or are the labels of the data too close to each other (e.g. a \"Shirt\" label is too close to \"T-shirt/top\")?"
      ],
      "metadata": {
        "id": "SiS4vbkRz9-e"
      }
    },
    {
      "cell_type": "markdown",
      "source": [
        "# **11. Save and load best performing model**"
      ],
      "metadata": {
        "id": "g5fGprrPz852"
      }
    },
    {
      "cell_type": "code",
      "source": [
        "from pathlib import Path\n",
        "\n",
        "# Create models directory (if it doesn't already exist), see: https://docs.python.org/3/library/pathlib.html#pathlib.Path.mkdir\n",
        "MODEL_PATH = Path(\"models\")\n",
        "MODEL_PATH.mkdir(parents=True, # create parent directories if needed\n",
        "                 exist_ok=True # if models directory already exists, don't error\n",
        ")\n",
        "\n",
        "# Create model save path\n",
        "MODEL_NAME = \"03_pytorch_computer_vision_model_2.pth\"\n",
        "MODEL_SAVE_PATH = MODEL_PATH / MODEL_NAME\n",
        "\n",
        "# Save the model state dict\n",
        "print(f\"Saving model to: {MODEL_SAVE_PATH}\")\n",
        "torch.save(obj=model_2.state_dict(), # only saving the state_dict() only saves the learned parameters\n",
        "           f=MODEL_SAVE_PATH)"
      ],
      "metadata": {
        "id": "87d-Lgnuz6Ja",
        "outputId": "eb4127c1-54c5-4c25-e924-13d48d7b032d",
        "colab": {
          "base_uri": "https://localhost:8080/"
        }
      },
      "execution_count": 166,
      "outputs": [
        {
          "output_type": "stream",
          "name": "stdout",
          "text": [
            "Saving model to: models/03_pytorch_computer_vision_model_2.pth\n"
          ]
        }
      ]
    },
    {
      "cell_type": "code",
      "source": [
        "# Create a new instance of FashionMNISTModelV2 (the same class as our saved state_dict())\n",
        "# Note: loading model will error if the shapes here aren't the same as the saved version\n",
        "loaded_model_2 = FashionMNISTModelV2(input_shape=1,\n",
        "                                    hidden_units=10, # try changing this to 128 and seeing what happens\n",
        "                                    output_shape=10)\n",
        "\n",
        "# Load in the saved state_dict()\n",
        "loaded_model_2.load_state_dict(torch.load(f=MODEL_SAVE_PATH))\n",
        "\n",
        "# Send model to GPU\n",
        "loaded_model_2 = loaded_model_2.to(device)"
      ],
      "metadata": {
        "id": "_KJ67NP10Eec"
      },
      "execution_count": 167,
      "outputs": []
    },
    {
      "cell_type": "code",
      "source": [
        "# Evaluate loaded model\n",
        "torch.manual_seed(42)\n",
        "\n",
        "loaded_model_2_results = eval_model(\n",
        "    model=loaded_model_2,\n",
        "    data_loader=test_dataloader,\n",
        "    loss_fn=loss_fn,\n",
        "    accuracy_fn=accuracy_fn\n",
        ")\n",
        "\n",
        "loaded_model_2_results"
      ],
      "metadata": {
        "id": "-TCLilSsz6Dj",
        "outputId": "910529ae-e67c-4c49-bfe0-9ebe0dcfadc2",
        "colab": {
          "base_uri": "https://localhost:8080/"
        }
      },
      "execution_count": 168,
      "outputs": [
        {
          "output_type": "execute_result",
          "data": {
            "text/plain": [
              "{'model_name': 'FashionMNISTModelV2',\n",
              " 'model_loss': 0.3214913308620453,\n",
              " 'model_acc': 88.29872204472844}"
            ]
          },
          "metadata": {},
          "execution_count": 168
        }
      ]
    },
    {
      "cell_type": "code",
      "source": [
        "model_2_results"
      ],
      "metadata": {
        "id": "6aowxzQS0HTq",
        "outputId": "169e2afe-6956-4138-cf6a-bc97bcb6c696",
        "colab": {
          "base_uri": "https://localhost:8080/"
        }
      },
      "execution_count": 169,
      "outputs": [
        {
          "output_type": "execute_result",
          "data": {
            "text/plain": [
              "{'model_name': 'FashionMNISTModelV2',\n",
              " 'model_loss': 0.3214913308620453,\n",
              " 'model_acc': 88.29872204472844}"
            ]
          },
          "metadata": {},
          "execution_count": 169
        }
      ]
    },
    {
      "cell_type": "code",
      "source": [
        "# Check to see if results are close to each other (if they are very far away, there may be an error)\n",
        "torch.isclose(torch.tensor(model_2_results[\"model_loss\"]),\n",
        "              torch.tensor(loaded_model_2_results[\"model_loss\"]),\n",
        "              atol=1e-08, # absolute tolerance\n",
        "              rtol=0.0001) # relative tolerance"
      ],
      "metadata": {
        "id": "_ceCZTeC0Jko",
        "outputId": "b78053aa-5ae0-4f75-ac59-866ac01fdad5",
        "colab": {
          "base_uri": "https://localhost:8080/"
        }
      },
      "execution_count": 170,
      "outputs": [
        {
          "output_type": "execute_result",
          "data": {
            "text/plain": [
              "tensor(True)"
            ]
          },
          "metadata": {},
          "execution_count": 170
        }
      ]
    },
    {
      "cell_type": "markdown",
      "source": [
        "# **Exercises**"
      ],
      "metadata": {
        "id": "vLwmAK4z0OkD"
      }
    },
    {
      "cell_type": "markdown",
      "source": [
        "# 5. Load the torchvision.datasets.MNIST() train and test datasets."
      ],
      "metadata": {
        "id": "Wmg8hoyFhg_w"
      }
    },
    {
      "cell_type": "code",
      "source": [
        "# Import PyTorch\n",
        "import torch\n",
        "from torch import nn\n",
        "\n",
        "# Import torchvision\n",
        "import torchvision\n",
        "from torchvision import datasets\n",
        "from torchvision.transforms import ToTensor\n",
        "\n",
        "# Import matplotlib for visualization\n",
        "import matplotlib.pyplot as plt\n",
        "\n",
        "# Check versions\n",
        "# Note: your PyTorch version shouldn't be lower than 1.10.0 and torchvision version shouldn't be lower than 0.11\n",
        "print(f\"PyTorch version: {torch.__version__}\\ntorchvision version: {torchvision.__version__}\")"
      ],
      "metadata": {
        "id": "3uTlXIbi0JgI",
        "colab": {
          "base_uri": "https://localhost:8080/"
        },
        "outputId": "c56c8c14-8857-44a9-f211-21140e70d3e1"
      },
      "execution_count": 171,
      "outputs": [
        {
          "output_type": "stream",
          "name": "stdout",
          "text": [
            "PyTorch version: 2.2.1+cu121\n",
            "torchvision version: 0.17.1+cu121\n"
          ]
        }
      ]
    },
    {
      "cell_type": "code",
      "source": [
        "train_data = datasets.MNIST(\n",
        "    root=\"data\",\n",
        "    train=True,\n",
        "    download=True,\n",
        "    transform=ToTensor(),\n",
        "    target_transform=None\n",
        ")\n",
        "\n",
        "test_data = datasets.MNIST(\n",
        "    root=\"data\",\n",
        "    train=False,\n",
        "    download=True,\n",
        "    transform=ToTensor(),\n",
        "    target_transform=None\n",
        ")"
      ],
      "metadata": {
        "id": "8wqQ7PGrhle3",
        "colab": {
          "base_uri": "https://localhost:8080/"
        },
        "outputId": "a89b30ad-56ac-4636-cdf1-d237cfe9c3dd"
      },
      "execution_count": 172,
      "outputs": [
        {
          "output_type": "stream",
          "name": "stdout",
          "text": [
            "Downloading http://yann.lecun.com/exdb/mnist/train-images-idx3-ubyte.gz\n",
            "Failed to download (trying next):\n",
            "HTTP Error 503: Service Unavailable\n",
            "\n",
            "Downloading https://ossci-datasets.s3.amazonaws.com/mnist/train-images-idx3-ubyte.gz\n",
            "Downloading https://ossci-datasets.s3.amazonaws.com/mnist/train-images-idx3-ubyte.gz to data/MNIST/raw/train-images-idx3-ubyte.gz\n"
          ]
        },
        {
          "output_type": "stream",
          "name": "stderr",
          "text": [
            "100%|██████████| 9912422/9912422 [00:02<00:00, 4630666.91it/s]\n"
          ]
        },
        {
          "output_type": "stream",
          "name": "stdout",
          "text": [
            "Extracting data/MNIST/raw/train-images-idx3-ubyte.gz to data/MNIST/raw\n",
            "\n",
            "Downloading http://yann.lecun.com/exdb/mnist/train-labels-idx1-ubyte.gz\n",
            "Failed to download (trying next):\n",
            "HTTP Error 503: Service Unavailable\n",
            "\n",
            "Downloading https://ossci-datasets.s3.amazonaws.com/mnist/train-labels-idx1-ubyte.gz\n",
            "Downloading https://ossci-datasets.s3.amazonaws.com/mnist/train-labels-idx1-ubyte.gz to data/MNIST/raw/train-labels-idx1-ubyte.gz\n"
          ]
        },
        {
          "output_type": "stream",
          "name": "stderr",
          "text": [
            "100%|██████████| 28881/28881 [00:00<00:00, 134793.81it/s]\n"
          ]
        },
        {
          "output_type": "stream",
          "name": "stdout",
          "text": [
            "Extracting data/MNIST/raw/train-labels-idx1-ubyte.gz to data/MNIST/raw\n",
            "\n",
            "Downloading http://yann.lecun.com/exdb/mnist/t10k-images-idx3-ubyte.gz\n",
            "Failed to download (trying next):\n",
            "HTTP Error 503: Service Unavailable\n",
            "\n",
            "Downloading https://ossci-datasets.s3.amazonaws.com/mnist/t10k-images-idx3-ubyte.gz\n",
            "Downloading https://ossci-datasets.s3.amazonaws.com/mnist/t10k-images-idx3-ubyte.gz to data/MNIST/raw/t10k-images-idx3-ubyte.gz\n"
          ]
        },
        {
          "output_type": "stream",
          "name": "stderr",
          "text": [
            "100%|██████████| 1648877/1648877 [00:01<00:00, 1097816.82it/s]\n"
          ]
        },
        {
          "output_type": "stream",
          "name": "stdout",
          "text": [
            "Extracting data/MNIST/raw/t10k-images-idx3-ubyte.gz to data/MNIST/raw\n",
            "\n",
            "Downloading http://yann.lecun.com/exdb/mnist/t10k-labels-idx1-ubyte.gz\n",
            "Failed to download (trying next):\n",
            "HTTP Error 503: Service Unavailable\n",
            "\n",
            "Downloading https://ossci-datasets.s3.amazonaws.com/mnist/t10k-labels-idx1-ubyte.gz\n",
            "Downloading https://ossci-datasets.s3.amazonaws.com/mnist/t10k-labels-idx1-ubyte.gz to data/MNIST/raw/t10k-labels-idx1-ubyte.gz\n"
          ]
        },
        {
          "output_type": "stream",
          "name": "stderr",
          "text": [
            "100%|██████████| 4542/4542 [00:00<00:00, 8319008.20it/s]"
          ]
        },
        {
          "output_type": "stream",
          "name": "stdout",
          "text": [
            "Extracting data/MNIST/raw/t10k-labels-idx1-ubyte.gz to data/MNIST/raw\n",
            "\n"
          ]
        },
        {
          "output_type": "stream",
          "name": "stderr",
          "text": [
            "\n"
          ]
        }
      ]
    },
    {
      "cell_type": "code",
      "source": [
        "image, label = train_data[0]\n",
        "image, label"
      ],
      "metadata": {
        "colab": {
          "base_uri": "https://localhost:8080/"
        },
        "id": "U5PwcDkEhm2A",
        "outputId": "7db76ba4-b6dd-4ca0-d002-429b27bc3ae0"
      },
      "execution_count": 173,
      "outputs": [
        {
          "output_type": "execute_result",
          "data": {
            "text/plain": [
              "(tensor([[[0.0000, 0.0000, 0.0000, 0.0000, 0.0000, 0.0000, 0.0000, 0.0000,\n",
              "           0.0000, 0.0000, 0.0000, 0.0000, 0.0000, 0.0000, 0.0000, 0.0000,\n",
              "           0.0000, 0.0000, 0.0000, 0.0000, 0.0000, 0.0000, 0.0000, 0.0000,\n",
              "           0.0000, 0.0000, 0.0000, 0.0000],\n",
              "          [0.0000, 0.0000, 0.0000, 0.0000, 0.0000, 0.0000, 0.0000, 0.0000,\n",
              "           0.0000, 0.0000, 0.0000, 0.0000, 0.0000, 0.0000, 0.0000, 0.0000,\n",
              "           0.0000, 0.0000, 0.0000, 0.0000, 0.0000, 0.0000, 0.0000, 0.0000,\n",
              "           0.0000, 0.0000, 0.0000, 0.0000],\n",
              "          [0.0000, 0.0000, 0.0000, 0.0000, 0.0000, 0.0000, 0.0000, 0.0000,\n",
              "           0.0000, 0.0000, 0.0000, 0.0000, 0.0000, 0.0000, 0.0000, 0.0000,\n",
              "           0.0000, 0.0000, 0.0000, 0.0000, 0.0000, 0.0000, 0.0000, 0.0000,\n",
              "           0.0000, 0.0000, 0.0000, 0.0000],\n",
              "          [0.0000, 0.0000, 0.0000, 0.0000, 0.0000, 0.0000, 0.0000, 0.0000,\n",
              "           0.0000, 0.0000, 0.0000, 0.0000, 0.0000, 0.0000, 0.0000, 0.0000,\n",
              "           0.0000, 0.0000, 0.0000, 0.0000, 0.0000, 0.0000, 0.0000, 0.0000,\n",
              "           0.0000, 0.0000, 0.0000, 0.0000],\n",
              "          [0.0000, 0.0000, 0.0000, 0.0000, 0.0000, 0.0000, 0.0000, 0.0000,\n",
              "           0.0000, 0.0000, 0.0000, 0.0000, 0.0000, 0.0000, 0.0000, 0.0000,\n",
              "           0.0000, 0.0000, 0.0000, 0.0000, 0.0000, 0.0000, 0.0000, 0.0000,\n",
              "           0.0000, 0.0000, 0.0000, 0.0000],\n",
              "          [0.0000, 0.0000, 0.0000, 0.0000, 0.0000, 0.0000, 0.0000, 0.0000,\n",
              "           0.0000, 0.0000, 0.0000, 0.0000, 0.0118, 0.0706, 0.0706, 0.0706,\n",
              "           0.4941, 0.5333, 0.6863, 0.1020, 0.6510, 1.0000, 0.9686, 0.4980,\n",
              "           0.0000, 0.0000, 0.0000, 0.0000],\n",
              "          [0.0000, 0.0000, 0.0000, 0.0000, 0.0000, 0.0000, 0.0000, 0.0000,\n",
              "           0.1176, 0.1412, 0.3686, 0.6039, 0.6667, 0.9922, 0.9922, 0.9922,\n",
              "           0.9922, 0.9922, 0.8824, 0.6745, 0.9922, 0.9490, 0.7647, 0.2510,\n",
              "           0.0000, 0.0000, 0.0000, 0.0000],\n",
              "          [0.0000, 0.0000, 0.0000, 0.0000, 0.0000, 0.0000, 0.0000, 0.1922,\n",
              "           0.9333, 0.9922, 0.9922, 0.9922, 0.9922, 0.9922, 0.9922, 0.9922,\n",
              "           0.9922, 0.9843, 0.3647, 0.3216, 0.3216, 0.2196, 0.1529, 0.0000,\n",
              "           0.0000, 0.0000, 0.0000, 0.0000],\n",
              "          [0.0000, 0.0000, 0.0000, 0.0000, 0.0000, 0.0000, 0.0000, 0.0706,\n",
              "           0.8588, 0.9922, 0.9922, 0.9922, 0.9922, 0.9922, 0.7765, 0.7137,\n",
              "           0.9686, 0.9451, 0.0000, 0.0000, 0.0000, 0.0000, 0.0000, 0.0000,\n",
              "           0.0000, 0.0000, 0.0000, 0.0000],\n",
              "          [0.0000, 0.0000, 0.0000, 0.0000, 0.0000, 0.0000, 0.0000, 0.0000,\n",
              "           0.3137, 0.6118, 0.4196, 0.9922, 0.9922, 0.8039, 0.0431, 0.0000,\n",
              "           0.1686, 0.6039, 0.0000, 0.0000, 0.0000, 0.0000, 0.0000, 0.0000,\n",
              "           0.0000, 0.0000, 0.0000, 0.0000],\n",
              "          [0.0000, 0.0000, 0.0000, 0.0000, 0.0000, 0.0000, 0.0000, 0.0000,\n",
              "           0.0000, 0.0549, 0.0039, 0.6039, 0.9922, 0.3529, 0.0000, 0.0000,\n",
              "           0.0000, 0.0000, 0.0000, 0.0000, 0.0000, 0.0000, 0.0000, 0.0000,\n",
              "           0.0000, 0.0000, 0.0000, 0.0000],\n",
              "          [0.0000, 0.0000, 0.0000, 0.0000, 0.0000, 0.0000, 0.0000, 0.0000,\n",
              "           0.0000, 0.0000, 0.0000, 0.5451, 0.9922, 0.7451, 0.0078, 0.0000,\n",
              "           0.0000, 0.0000, 0.0000, 0.0000, 0.0000, 0.0000, 0.0000, 0.0000,\n",
              "           0.0000, 0.0000, 0.0000, 0.0000],\n",
              "          [0.0000, 0.0000, 0.0000, 0.0000, 0.0000, 0.0000, 0.0000, 0.0000,\n",
              "           0.0000, 0.0000, 0.0000, 0.0431, 0.7451, 0.9922, 0.2745, 0.0000,\n",
              "           0.0000, 0.0000, 0.0000, 0.0000, 0.0000, 0.0000, 0.0000, 0.0000,\n",
              "           0.0000, 0.0000, 0.0000, 0.0000],\n",
              "          [0.0000, 0.0000, 0.0000, 0.0000, 0.0000, 0.0000, 0.0000, 0.0000,\n",
              "           0.0000, 0.0000, 0.0000, 0.0000, 0.1373, 0.9451, 0.8824, 0.6275,\n",
              "           0.4235, 0.0039, 0.0000, 0.0000, 0.0000, 0.0000, 0.0000, 0.0000,\n",
              "           0.0000, 0.0000, 0.0000, 0.0000],\n",
              "          [0.0000, 0.0000, 0.0000, 0.0000, 0.0000, 0.0000, 0.0000, 0.0000,\n",
              "           0.0000, 0.0000, 0.0000, 0.0000, 0.0000, 0.3176, 0.9412, 0.9922,\n",
              "           0.9922, 0.4667, 0.0980, 0.0000, 0.0000, 0.0000, 0.0000, 0.0000,\n",
              "           0.0000, 0.0000, 0.0000, 0.0000],\n",
              "          [0.0000, 0.0000, 0.0000, 0.0000, 0.0000, 0.0000, 0.0000, 0.0000,\n",
              "           0.0000, 0.0000, 0.0000, 0.0000, 0.0000, 0.0000, 0.1765, 0.7294,\n",
              "           0.9922, 0.9922, 0.5882, 0.1059, 0.0000, 0.0000, 0.0000, 0.0000,\n",
              "           0.0000, 0.0000, 0.0000, 0.0000],\n",
              "          [0.0000, 0.0000, 0.0000, 0.0000, 0.0000, 0.0000, 0.0000, 0.0000,\n",
              "           0.0000, 0.0000, 0.0000, 0.0000, 0.0000, 0.0000, 0.0000, 0.0627,\n",
              "           0.3647, 0.9882, 0.9922, 0.7333, 0.0000, 0.0000, 0.0000, 0.0000,\n",
              "           0.0000, 0.0000, 0.0000, 0.0000],\n",
              "          [0.0000, 0.0000, 0.0000, 0.0000, 0.0000, 0.0000, 0.0000, 0.0000,\n",
              "           0.0000, 0.0000, 0.0000, 0.0000, 0.0000, 0.0000, 0.0000, 0.0000,\n",
              "           0.0000, 0.9765, 0.9922, 0.9765, 0.2510, 0.0000, 0.0000, 0.0000,\n",
              "           0.0000, 0.0000, 0.0000, 0.0000],\n",
              "          [0.0000, 0.0000, 0.0000, 0.0000, 0.0000, 0.0000, 0.0000, 0.0000,\n",
              "           0.0000, 0.0000, 0.0000, 0.0000, 0.0000, 0.0000, 0.1804, 0.5098,\n",
              "           0.7176, 0.9922, 0.9922, 0.8118, 0.0078, 0.0000, 0.0000, 0.0000,\n",
              "           0.0000, 0.0000, 0.0000, 0.0000],\n",
              "          [0.0000, 0.0000, 0.0000, 0.0000, 0.0000, 0.0000, 0.0000, 0.0000,\n",
              "           0.0000, 0.0000, 0.0000, 0.0000, 0.1529, 0.5804, 0.8980, 0.9922,\n",
              "           0.9922, 0.9922, 0.9804, 0.7137, 0.0000, 0.0000, 0.0000, 0.0000,\n",
              "           0.0000, 0.0000, 0.0000, 0.0000],\n",
              "          [0.0000, 0.0000, 0.0000, 0.0000, 0.0000, 0.0000, 0.0000, 0.0000,\n",
              "           0.0000, 0.0000, 0.0941, 0.4471, 0.8667, 0.9922, 0.9922, 0.9922,\n",
              "           0.9922, 0.7882, 0.3059, 0.0000, 0.0000, 0.0000, 0.0000, 0.0000,\n",
              "           0.0000, 0.0000, 0.0000, 0.0000],\n",
              "          [0.0000, 0.0000, 0.0000, 0.0000, 0.0000, 0.0000, 0.0000, 0.0000,\n",
              "           0.0902, 0.2588, 0.8353, 0.9922, 0.9922, 0.9922, 0.9922, 0.7765,\n",
              "           0.3176, 0.0078, 0.0000, 0.0000, 0.0000, 0.0000, 0.0000, 0.0000,\n",
              "           0.0000, 0.0000, 0.0000, 0.0000],\n",
              "          [0.0000, 0.0000, 0.0000, 0.0000, 0.0000, 0.0000, 0.0706, 0.6706,\n",
              "           0.8588, 0.9922, 0.9922, 0.9922, 0.9922, 0.7647, 0.3137, 0.0353,\n",
              "           0.0000, 0.0000, 0.0000, 0.0000, 0.0000, 0.0000, 0.0000, 0.0000,\n",
              "           0.0000, 0.0000, 0.0000, 0.0000],\n",
              "          [0.0000, 0.0000, 0.0000, 0.0000, 0.2157, 0.6745, 0.8863, 0.9922,\n",
              "           0.9922, 0.9922, 0.9922, 0.9569, 0.5216, 0.0431, 0.0000, 0.0000,\n",
              "           0.0000, 0.0000, 0.0000, 0.0000, 0.0000, 0.0000, 0.0000, 0.0000,\n",
              "           0.0000, 0.0000, 0.0000, 0.0000],\n",
              "          [0.0000, 0.0000, 0.0000, 0.0000, 0.5333, 0.9922, 0.9922, 0.9922,\n",
              "           0.8314, 0.5294, 0.5176, 0.0627, 0.0000, 0.0000, 0.0000, 0.0000,\n",
              "           0.0000, 0.0000, 0.0000, 0.0000, 0.0000, 0.0000, 0.0000, 0.0000,\n",
              "           0.0000, 0.0000, 0.0000, 0.0000],\n",
              "          [0.0000, 0.0000, 0.0000, 0.0000, 0.0000, 0.0000, 0.0000, 0.0000,\n",
              "           0.0000, 0.0000, 0.0000, 0.0000, 0.0000, 0.0000, 0.0000, 0.0000,\n",
              "           0.0000, 0.0000, 0.0000, 0.0000, 0.0000, 0.0000, 0.0000, 0.0000,\n",
              "           0.0000, 0.0000, 0.0000, 0.0000],\n",
              "          [0.0000, 0.0000, 0.0000, 0.0000, 0.0000, 0.0000, 0.0000, 0.0000,\n",
              "           0.0000, 0.0000, 0.0000, 0.0000, 0.0000, 0.0000, 0.0000, 0.0000,\n",
              "           0.0000, 0.0000, 0.0000, 0.0000, 0.0000, 0.0000, 0.0000, 0.0000,\n",
              "           0.0000, 0.0000, 0.0000, 0.0000],\n",
              "          [0.0000, 0.0000, 0.0000, 0.0000, 0.0000, 0.0000, 0.0000, 0.0000,\n",
              "           0.0000, 0.0000, 0.0000, 0.0000, 0.0000, 0.0000, 0.0000, 0.0000,\n",
              "           0.0000, 0.0000, 0.0000, 0.0000, 0.0000, 0.0000, 0.0000, 0.0000,\n",
              "           0.0000, 0.0000, 0.0000, 0.0000]]]),\n",
              " 5)"
            ]
          },
          "metadata": {},
          "execution_count": 173
        }
      ]
    },
    {
      "cell_type": "code",
      "source": [
        "image.shape, len(train_data.data), len(train_data.targets), len(test_data.data), len(test_data.targets)"
      ],
      "metadata": {
        "colab": {
          "base_uri": "https://localhost:8080/"
        },
        "id": "61y8na60hmtQ",
        "outputId": "12ba4e5b-ea09-4a74-b999-1b992e99f608"
      },
      "execution_count": 174,
      "outputs": [
        {
          "output_type": "execute_result",
          "data": {
            "text/plain": [
              "(torch.Size([1, 28, 28]), 60000, 60000, 10000, 10000)"
            ]
          },
          "metadata": {},
          "execution_count": 174
        }
      ]
    },
    {
      "cell_type": "code",
      "source": [
        "class_names = train_data.classes\n",
        "class_names"
      ],
      "metadata": {
        "colab": {
          "base_uri": "https://localhost:8080/"
        },
        "id": "pJUQSvvthmqR",
        "outputId": "8e3f4894-6135-4ef8-f40e-468acc2dd264"
      },
      "execution_count": 175,
      "outputs": [
        {
          "output_type": "execute_result",
          "data": {
            "text/plain": [
              "['0 - zero',\n",
              " '1 - one',\n",
              " '2 - two',\n",
              " '3 - three',\n",
              " '4 - four',\n",
              " '5 - five',\n",
              " '6 - six',\n",
              " '7 - seven',\n",
              " '8 - eight',\n",
              " '9 - nine']"
            ]
          },
          "metadata": {},
          "execution_count": 175
        }
      ]
    },
    {
      "cell_type": "code",
      "source": [
        "import matplotlib.pyplot as plt\n",
        "plt.imshow(image.squeeze()) # squeeze to get rid of that exta 1 dimension\n",
        "plt.title(label)"
      ],
      "metadata": {
        "colab": {
          "base_uri": "https://localhost:8080/",
          "height": 469
        },
        "id": "FmOQeYvfhmno",
        "outputId": "7b1d73dc-1afd-4fe1-b1f4-02faeeb0842c"
      },
      "execution_count": 176,
      "outputs": [
        {
          "output_type": "execute_result",
          "data": {
            "text/plain": [
              "Text(0.5, 1.0, '5')"
            ]
          },
          "metadata": {},
          "execution_count": 176
        },
        {
          "output_type": "display_data",
          "data": {
            "text/plain": [
              "<Figure size 640x480 with 1 Axes>"
            ],
            "image/png": "[encoded data removed]"
          },
          "metadata": {}
        }
      ]
    },
    {
      "cell_type": "markdown",
      "source": [
        "# 6. Visualize at least 5 different samples of the MNIST training dataset."
      ],
      "metadata": {
        "id": "8Dk6jM6KntFr"
      }
    },
    {
      "cell_type": "code",
      "source": [
        "torch.manual_seed(42)\n",
        "fig = plt.figure(figsize=(9,9))\n",
        "rows, cols = 4, 4\n",
        "for i in range(1, rows*cols + 1):\n",
        "  random_idx = torch.randint(0, len(train_data), size=[1]).item()\n",
        "  img, label = train_data[random_idx]\n",
        "  fig.add_subplot(rows, cols, i)\n",
        "  plt.imshow(img.squeeze(), cmap='gray')\n",
        "  plt.title(label)\n",
        "  plt.axis(False)"
      ],
      "metadata": {
        "colab": {
          "base_uri": "https://localhost:8080/",
          "height": 752
        },
        "id": "0-ASo4TBhmlQ",
        "outputId": "d5757106-fc36-4707-c326-7462b7e117c7"
      },
      "execution_count": 177,
      "outputs": [
        {
          "output_type": "display_data",
          "data": {
            "text/plain": [
              "<Figure size 900x900 with 16 Axes>"
            ],
            "image/png": "[encoded data removed]"
          },
          "metadata": {}
        }
      ]
    },
    {
      "cell_type": "markdown",
      "source": [
        "# 7. Turn the MNIST train and test datasets into dataloaders using torch.utils.data.DataLoader, set the batch_size=32."
      ],
      "metadata": {
        "id": "q8HqczdYAjJR"
      }
    },
    {
      "cell_type": "code",
      "source": [
        "from torch.utils.data import DataLoader\n",
        "BATCH_SIZE = 32\n",
        "\n",
        "train_dataloader = DataLoader(\n",
        "    train_data,\n",
        "    batch_size=BATCH_SIZE,\n",
        "    shuffle=True\n",
        ")\n",
        "\n",
        "test_dataloader = DataLoader(\n",
        "    test_data,\n",
        "    batch_size=BATCH_SIZE,\n",
        "    shuffle=False\n",
        ")"
      ],
      "metadata": {
        "id": "baMM4DQKhmic"
      },
      "execution_count": 178,
      "outputs": []
    },
    {
      "cell_type": "code",
      "source": [
        "len(train_dataloader), len(test_dataloader)"
      ],
      "metadata": {
        "colab": {
          "base_uri": "https://localhost:8080/"
        },
        "id": "mWhYWiOEhmgh",
        "outputId": "83febcae-65ac-46ba-b476-7934ef6a0a74"
      },
      "execution_count": 179,
      "outputs": [
        {
          "output_type": "execute_result",
          "data": {
            "text/plain": [
              "(1875, 313)"
            ]
          },
          "metadata": {},
          "execution_count": 179
        }
      ]
    },
    {
      "cell_type": "markdown",
      "source": [
        "# 8. Recreate model_2 used in notebook 03 (the same model from the CNN Explainer website, also known as TinyVGG) capable of fitting on the MNIST dataset."
      ],
      "metadata": {
        "id": "Gf3nKENuNVwX"
      }
    },
    {
      "cell_type": "markdown",
      "source": [],
      "metadata": {
        "id": "AYxkkpXZgrkA"
      }
    },
    {
      "cell_type": "code",
      "source": [
        "device"
      ],
      "metadata": {
        "colab": {
          "base_uri": "https://localhost:8080/",
          "height": 35
        },
        "id": "zmwqsBMTguUQ",
        "outputId": "bef24d6d-97f9-4c4f-b028-ad9c68fb9b74"
      },
      "execution_count": 180,
      "outputs": [
        {
          "output_type": "execute_result",
          "data": {
            "text/plain": [
              "'cuda'"
            ],
            "application/vnd.google.colaboratory.intrinsic+json": {
              "type": "string"
            }
          },
          "metadata": {},
          "execution_count": 180
        }
      ]
    },
    {
      "cell_type": "code",
      "source": [
        "class MNISTModel(nn.Module):\n",
        "  def __init__(self, input_shape, hidden_units, output_shape):\n",
        "    super().__init__()\n",
        "    self.block1 = nn.Sequential(\n",
        "        nn.Conv2d(\n",
        "          in_channels=input_shape,\n",
        "          out_channels=hidden_units,\n",
        "          kernel_size=3,\n",
        "          stride=1,\n",
        "          padding=1\n",
        "        ),\n",
        "        nn.ReLU(),\n",
        "        nn.Conv2d(\n",
        "          in_channels=hidden_units,\n",
        "          out_channels=hidden_units,\n",
        "          kernel_size=3,\n",
        "          stride=1,\n",
        "          padding=1\n",
        "        ),\n",
        "        nn.ReLU(),\n",
        "        nn.MaxPool2d(2),\n",
        "    )\n",
        "\n",
        "    self.block2 = nn.Sequential(\n",
        "        nn.Conv2d(\n",
        "          in_channels=hidden_units,\n",
        "          out_channels=hidden_units,\n",
        "          kernel_size=3,\n",
        "          stride=1,\n",
        "          padding=1\n",
        "        ),\n",
        "        nn.ReLU(),\n",
        "        nn.Conv2d(\n",
        "          in_channels=hidden_units,\n",
        "          out_channels=hidden_units,\n",
        "          kernel_size=3,\n",
        "          stride=1,\n",
        "          padding=1\n",
        "        ),\n",
        "        nn.ReLU(),\n",
        "        nn.MaxPool2d(2),\n",
        "    )\n",
        "\n",
        "    self.classifier = nn.Sequential(\n",
        "        nn.Flatten(),\n",
        "        nn.Linear(\n",
        "            in_features=hidden_units*7*7,\n",
        "            out_features=output_shape,\n",
        "        )\n",
        "    )\n",
        "\n",
        "  def forward(self, x):\n",
        "    x = self.block1(x)\n",
        "    x = self.block2(x)\n",
        "    x = self.classifier(x)\n",
        "    return x\n",
        "\n",
        "model_2x = MNISTModel(input_shape=1, hidden_units=10, output_shape=len(class_names)).to(device)\n",
        "model_2x\n"
      ],
      "metadata": {
        "colab": {
          "base_uri": "https://localhost:8080/"
        },
        "id": "Q-loPcTIhmeZ",
        "outputId": "69f24817-82d5-4ce0-b96c-1b938cfc3351"
      },
      "execution_count": 181,
      "outputs": [
        {
          "output_type": "execute_result",
          "data": {
            "text/plain": [
              "MNISTModel(\n",
              "  (block1): Sequential(\n",
              "    (0): Conv2d(1, 10, kernel_size=(3, 3), stride=(1, 1), padding=(1, 1))\n",
              "    (1): ReLU()\n",
              "    (2): Conv2d(10, 10, kernel_size=(3, 3), stride=(1, 1), padding=(1, 1))\n",
              "    (3): ReLU()\n",
              "    (4): MaxPool2d(kernel_size=2, stride=2, padding=0, dilation=1, ceil_mode=False)\n",
              "  )\n",
              "  (block2): Sequential(\n",
              "    (0): Conv2d(10, 10, kernel_size=(3, 3), stride=(1, 1), padding=(1, 1))\n",
              "    (1): ReLU()\n",
              "    (2): Conv2d(10, 10, kernel_size=(3, 3), stride=(1, 1), padding=(1, 1))\n",
              "    (3): ReLU()\n",
              "    (4): MaxPool2d(kernel_size=2, stride=2, padding=0, dilation=1, ceil_mode=False)\n",
              "  )\n",
              "  (classifier): Sequential(\n",
              "    (0): Flatten(start_dim=1, end_dim=-1)\n",
              "    (1): Linear(in_features=490, out_features=10, bias=True)\n",
              "  )\n",
              ")"
            ]
          },
          "metadata": {},
          "execution_count": 181
        }
      ]
    },
    {
      "cell_type": "code",
      "source": [
        "model_2x.state_dict()"
      ],
      "metadata": {
        "colab": {
          "base_uri": "https://localhost:8080/"
        },
        "id": "Omd0_dx7hmY9",
        "outputId": "9b1d2346-98f3-409d-a92a-965aebfac43e"
      },
      "execution_count": 182,
      "outputs": [
        {
          "output_type": "execute_result",
          "data": {
            "text/plain": [
              "OrderedDict([('block1.0.weight',\n",
              "              tensor([[[[ 0.2570,  0.0493, -0.1556],\n",
              "                        [ 0.0850, -0.1536, -0.0391],\n",
              "                        [-0.1354,  0.2211, -0.2631]]],\n",
              "              \n",
              "              \n",
              "                      [[[-0.1537, -0.0941, -0.2004],\n",
              "                        [ 0.0315, -0.3292,  0.3010],\n",
              "                        [-0.2832,  0.2573,  0.0555]]],\n",
              "              \n",
              "              \n",
              "                      [[[-0.1082,  0.2060,  0.0520],\n",
              "                        [ 0.2693,  0.0364, -0.1051],\n",
              "                        [ 0.0896, -0.0904,  0.1403]]],\n",
              "              \n",
              "              \n",
              "                      [[[ 0.2976,  0.1927, -0.1457],\n",
              "                        [ 0.1924,  0.0596,  0.1693],\n",
              "                        [-0.2032, -0.3300, -0.1288]]],\n",
              "              \n",
              "              \n",
              "                      [[[-0.2557,  0.2735,  0.0960],\n",
              "                        [ 0.1381,  0.1054, -0.0058],\n",
              "                        [ 0.2609, -0.2368,  0.0210]]],\n",
              "              \n",
              "              \n",
              "                      [[[-0.2275,  0.1028, -0.1148],\n",
              "                        [ 0.1021, -0.0694,  0.2765],\n",
              "                        [-0.1976, -0.1988, -0.1988]]],\n",
              "              \n",
              "              \n",
              "                      [[[ 0.2998,  0.1111,  0.3208],\n",
              "                        [-0.2751, -0.3306, -0.2608],\n",
              "                        [-0.2242,  0.1350,  0.1194]]],\n",
              "              \n",
              "              \n",
              "                      [[[ 0.2770, -0.1721, -0.2272],\n",
              "                        [ 0.1769, -0.1347,  0.2023],\n",
              "                        [-0.0791,  0.1907, -0.2590]]],\n",
              "              \n",
              "              \n",
              "                      [[[-0.1682,  0.1016,  0.0705],\n",
              "                        [-0.0850,  0.1987,  0.2266],\n",
              "                        [-0.2417, -0.1780,  0.3052]]],\n",
              "              \n",
              "              \n",
              "                      [[[-0.1125, -0.1182, -0.3225],\n",
              "                        [-0.1909,  0.0833, -0.0440],\n",
              "                        [-0.2420,  0.0078, -0.2277]]]], device='cuda:0')),\n",
              "             ('block1.0.bias',\n",
              "              tensor([-0.2828, -0.1836, -0.2917, -0.2122,  0.3332,  0.0630,  0.1027, -0.3109,\n",
              "                      -0.2189, -0.1110], device='cuda:0')),\n",
              "             ('block1.2.weight',\n",
              "              tensor([[[[ 0.0165, -0.0928, -0.0454],\n",
              "                        [-0.0631,  0.0003, -0.0392],\n",
              "                        [-0.0073, -0.0714, -0.0724]],\n",
              "              \n",
              "                       [[-0.0615, -0.0361, -0.0832],\n",
              "                        [ 0.0884, -0.0209,  0.0907],\n",
              "                        [ 0.0328, -0.0893,  0.0729]],\n",
              "              \n",
              "                       [[-0.0290, -0.0404, -0.0875],\n",
              "                        [-0.1048,  0.0302, -0.0230],\n",
              "                        [ 0.0410, -0.0865,  0.0783]],\n",
              "              \n",
              "                       [[-0.0774, -0.0182,  0.0220],\n",
              "                        [ 0.0544,  0.0851,  0.0960],\n",
              "                        [-0.0836,  0.0265, -0.0453]],\n",
              "              \n",
              "                       [[-0.0116, -0.0789,  0.0960],\n",
              "                        [-0.0774,  0.0563,  0.0370],\n",
              "                        [ 0.0343, -0.0570,  0.0958]],\n",
              "              \n",
              "                       [[ 0.0232,  0.0136, -0.0929],\n",
              "                        [ 0.0442, -0.0158, -0.0483],\n",
              "                        [ 0.0905,  0.0235, -0.0583]],\n",
              "              \n",
              "                       [[-0.0534, -0.0050,  0.0589],\n",
              "                        [-0.0269, -0.0601, -0.0361],\n",
              "                        [-0.0787,  0.0376,  0.0816]],\n",
              "              \n",
              "                       [[-0.0992,  0.0245,  0.0545],\n",
              "                        [ 0.0191, -0.0375,  0.0550],\n",
              "                        [ 0.0554,  0.0394, -0.0185]],\n",
              "              \n",
              "                       [[-0.0279,  0.0113, -0.0186],\n",
              "                        [-0.0314,  0.0674,  0.0906],\n",
              "                        [-0.0104, -0.0236,  0.0015]],\n",
              "              \n",
              "                       [[-0.0063,  0.0253,  0.0295],\n",
              "                        [-0.0957, -0.0389,  0.0888],\n",
              "                        [ 0.0411, -0.0052, -0.0636]]],\n",
              "              \n",
              "              \n",
              "                      [[[-0.0645, -0.0944, -0.0344],\n",
              "                        [ 0.0356,  0.0672,  0.0487],\n",
              "                        [-0.0932, -0.0634, -0.0166]],\n",
              "              \n",
              "                       [[ 0.1020,  0.0152, -0.0273],\n",
              "                        [ 0.0436, -0.0401, -0.0682],\n",
              "                        [ 0.0769, -0.0479, -0.0211]],\n",
              "              \n",
              "                       [[-0.1049,  0.0705,  0.0799],\n",
              "                        [ 0.0384, -0.0735, -0.1040],\n",
              "                        [-0.0856,  0.0786,  0.0506]],\n",
              "              \n",
              "                       [[ 0.0887,  0.0552,  0.0267],\n",
              "                        [-0.0010, -0.0802, -0.0903],\n",
              "                        [-0.0986,  0.0432, -0.0518]],\n",
              "              \n",
              "                       [[-0.0212, -0.0607, -0.0192],\n",
              "                        [-0.0742, -0.0689,  0.0350],\n",
              "                        [-0.0313,  0.0651, -0.0338]],\n",
              "              \n",
              "                       [[-0.0773, -0.0186, -0.0511],\n",
              "                        [-0.0322, -0.1003,  0.0590],\n",
              "                        [-0.0734,  0.0530,  0.0478]],\n",
              "              \n",
              "                       [[ 0.0753, -0.0809,  0.0758],\n",
              "                        [-0.0498,  0.0391,  0.0990],\n",
              "                        [-0.0149, -0.0008, -0.0243]],\n",
              "              \n",
              "                       [[-0.0880,  0.0506, -0.1046],\n",
              "                        [ 0.0654,  0.0789,  0.0997],\n",
              "                        [-0.0249, -0.0866,  0.0237]],\n",
              "              \n",
              "                       [[ 0.0582, -0.1049, -0.0239],\n",
              "                        [-0.0632, -0.0092, -0.0519],\n",
              "                        [-0.0431, -0.0335, -0.1002]],\n",
              "              \n",
              "                       [[ 0.0865,  0.0884, -0.0165],\n",
              "                        [-0.0120, -0.0430, -0.0952],\n",
              "                        [-0.1026,  0.0392, -0.0579]]],\n",
              "              \n",
              "              \n",
              "                      [[[-0.0678, -0.0082, -0.0351],\n",
              "                        [-0.0341,  0.0034, -0.0224],\n",
              "                        [-0.0363, -0.0505, -0.0858]],\n",
              "              \n",
              "                       [[ 0.0884, -0.0422,  0.0279],\n",
              "                        [-0.0366,  0.0086,  0.0983],\n",
              "                        [ 0.0486, -0.0913,  0.0418]],\n",
              "              \n",
              "                       [[ 0.1001,  0.0277,  0.0707],\n",
              "                        [ 0.1039, -0.0162,  0.0219],\n",
              "                        [-0.0733, -0.0217,  0.0781]],\n",
              "              \n",
              "                       [[ 0.0540, -0.0667, -0.0845],\n",
              "                        [-0.0720, -0.1040, -0.0813],\n",
              "                        [-0.0261,  0.0711,  0.0176]],\n",
              "              \n",
              "                       [[-0.0802, -0.0846,  0.0524],\n",
              "                        [-0.0784, -0.0130,  0.0506],\n",
              "                        [-0.0488, -0.0115, -0.0092]],\n",
              "              \n",
              "                       [[-0.0249, -0.0534, -0.0940],\n",
              "                        [-0.0852, -0.0564,  0.1018],\n",
              "                        [-0.0509, -0.0708,  0.0256]],\n",
              "              \n",
              "                       [[ 0.0291,  0.0578,  0.0801],\n",
              "                        [ 0.0587, -0.1045,  0.0093],\n",
              "                        [ 0.0639, -0.0097, -0.0621]],\n",
              "              \n",
              "                       [[ 0.1005, -0.0394, -0.0600],\n",
              "                        [-0.0950,  0.0047,  0.0467],\n",
              "                        [ 0.0233,  0.0208, -0.0799]],\n",
              "              \n",
              "                       [[-0.0984,  0.0019,  0.0961],\n",
              "                        [ 0.0608, -0.0614, -0.0137],\n",
              "                        [-0.0777, -0.0509,  0.0191]],\n",
              "              \n",
              "                       [[ 0.0574,  0.0873, -0.0968],\n",
              "                        [ 0.0705, -0.0743,  0.0395],\n",
              "                        [ 0.0892,  0.0015,  0.0959]]],\n",
              "              \n",
              "              \n",
              "                      [[[-0.0898, -0.0403,  0.0615],\n",
              "                        [-0.0230, -0.0216, -0.0439],\n",
              "                        [ 0.0727,  0.0517,  0.0338]],\n",
              "              \n",
              "                       [[-0.0592, -0.0856,  0.0114],\n",
              "                        [ 0.0312, -0.0487, -0.0295],\n",
              "                        [ 0.0712,  0.0084,  0.0048]],\n",
              "              \n",
              "                       [[-0.0259, -0.0955, -0.0991],\n",
              "                        [-0.0504, -0.0536,  0.0328],\n",
              "                        [-0.0307, -0.0412,  0.1005]],\n",
              "              \n",
              "                       [[ 0.0367,  0.0751, -0.0510],\n",
              "                        [-0.0431,  0.0387, -0.0702],\n",
              "                        [-0.0689, -0.0051, -0.0386]],\n",
              "              \n",
              "                       [[-0.0790,  0.0625,  0.0848],\n",
              "                        [ 0.0171, -0.0184, -0.0976],\n",
              "                        [-0.0384,  0.0268,  0.0497]],\n",
              "              \n",
              "                       [[-0.0133, -0.0417,  0.0587],\n",
              "                        [-0.0839,  0.0666, -0.0409],\n",
              "                        [ 0.0016, -0.0208,  0.0128]],\n",
              "              \n",
              "                       [[-0.0319,  0.0766, -0.0027],\n",
              "                        [ 0.0823,  0.1013, -0.0514],\n",
              "                        [-0.0769,  0.0846,  0.0826]],\n",
              "              \n",
              "                       [[-0.0805, -0.0081, -0.1039],\n",
              "                        [-0.0863,  0.0204,  0.0280],\n",
              "                        [ 0.0223, -0.0287,  0.0972]],\n",
              "              \n",
              "                       [[ 0.0151, -0.0622, -0.0060],\n",
              "                        [ 0.0253,  0.0369, -0.0745],\n",
              "                        [ 0.0395, -0.0539, -0.0876]],\n",
              "              \n",
              "                       [[-0.0576,  0.1017,  0.0901],\n",
              "                        [ 0.0944,  0.0619,  0.0796],\n",
              "                        [-0.0141, -0.0580,  0.0527]]],\n",
              "              \n",
              "              \n",
              "                      [[[-0.0546, -0.0711, -0.0337],\n",
              "                        [ 0.0221,  0.0543, -0.0409],\n",
              "                        [-0.0620,  0.0142, -0.0621]],\n",
              "              \n",
              "                       [[-0.0686,  0.0549, -0.0177],\n",
              "                        [ 0.0963,  0.1025,  0.0315],\n",
              "                        [ 0.0363,  0.0243,  0.0017]],\n",
              "              \n",
              "                       [[-0.0077,  0.0014,  0.0394],\n",
              "                        [ 0.0980, -0.0273, -0.0446],\n",
              "                        [-0.0255, -0.0509,  0.0179]],\n",
              "              \n",
              "                       [[ 0.0787,  0.0824,  0.0484],\n",
              "                        [-0.0776, -0.0566, -0.0232],\n",
              "                        [-0.0194,  0.0087, -0.0968]],\n",
              "              \n",
              "                       [[ 0.0328, -0.0804, -0.0667],\n",
              "                        [-0.0876,  0.0918, -0.0998],\n",
              "                        [ 0.0795, -0.0035, -0.0123]],\n",
              "              \n",
              "                       [[ 0.0659, -0.0097,  0.0661],\n",
              "                        [ 0.0762, -0.0915,  0.0406],\n",
              "                        [ 0.0199,  0.0227,  0.0154]],\n",
              "              \n",
              "                       [[ 0.0288, -0.0507, -0.0135],\n",
              "                        [ 0.1002,  0.0708, -0.0040],\n",
              "                        [-0.0991,  0.0046, -0.0718]],\n",
              "              \n",
              "                       [[ 0.0857, -0.0640, -0.0076],\n",
              "                        [-0.0234,  0.0188,  0.0992],\n",
              "                        [ 0.0100,  0.0610,  0.0818]],\n",
              "              \n",
              "                       [[ 0.0851, -0.0364, -0.0236],\n",
              "                        [ 0.0508, -0.0288,  0.0494],\n",
              "                        [-0.0230, -0.0715,  0.0429]],\n",
              "              \n",
              "                       [[ 0.0162,  0.0470,  0.1047],\n",
              "                        [ 0.0720,  0.0999,  0.0056],\n",
              "                        [-0.0907, -0.0739, -0.0655]]],\n",
              "              \n",
              "              \n",
              "                      [[[-0.0929, -0.0528, -0.0970],\n",
              "                        [-0.0973, -0.0630, -0.1039],\n",
              "                        [-0.0647,  0.0402,  0.0879]],\n",
              "              \n",
              "                       [[-0.0314, -0.0307,  0.0563],\n",
              "                        [-0.0520, -0.0498,  0.0649],\n",
              "                        [-0.0918,  0.0129,  0.0931]],\n",
              "              \n",
              "                       [[ 0.0181,  0.0287, -0.0614],\n",
              "                        [-0.0015,  0.0058,  0.0259],\n",
              "                        [ 0.0410,  0.0916, -0.0805]],\n",
              "              \n",
              "                       [[ 0.0032, -0.0527, -0.0834],\n",
              "                        [-0.0084, -0.0928,  0.0736],\n",
              "                        [ 0.0122, -0.0568,  0.0551]],\n",
              "              \n",
              "                       [[-0.0998, -0.0408, -0.0205],\n",
              "                        [-0.0896, -0.0670, -0.0172],\n",
              "                        [ 0.0800,  0.1018,  0.0671]],\n",
              "              \n",
              "                       [[-0.0629, -0.0690,  0.0920],\n",
              "                        [ 0.0373,  0.0028,  0.0143],\n",
              "                        [-0.0847, -0.0352,  0.1015]],\n",
              "              \n",
              "                       [[-0.0260, -0.0053, -0.0875],\n",
              "                        [-0.0590, -0.0022, -0.0655],\n",
              "                        [-0.0131,  0.0429, -0.1031]],\n",
              "              \n",
              "                       [[ 0.0313, -0.0697, -0.0514],\n",
              "                        [ 0.0405,  0.0838, -0.0288],\n",
              "                        [-0.0433, -0.0953, -0.0544]],\n",
              "              \n",
              "                       [[-0.0923, -0.0241,  0.0215],\n",
              "                        [-0.0988,  0.0920,  0.0661],\n",
              "                        [-0.1032, -0.0503,  0.0344]],\n",
              "              \n",
              "                       [[-0.0217, -0.0115, -0.0476],\n",
              "                        [ 0.0847, -0.0589,  0.0874],\n",
              "                        [ 0.0068,  0.0212,  0.0822]]],\n",
              "              \n",
              "              \n",
              "                      [[[-0.0174, -0.0600, -0.0170],\n",
              "                        [ 0.0855, -0.0782,  0.0239],\n",
              "                        [-0.1036,  0.0553,  0.0389]],\n",
              "              \n",
              "                       [[ 0.0045,  0.0452,  0.0001],\n",
              "                        [ 0.0583, -0.0834, -0.0155],\n",
              "                        [ 0.0468,  0.1050,  0.0537]],\n",
              "              \n",
              "                       [[-0.0767,  0.0811, -0.0235],\n",
              "                        [-0.0225, -0.0958, -0.0166],\n",
              "                        [ 0.0746,  0.0147, -0.0614]],\n",
              "              \n",
              "                       [[ 0.0324, -0.0338,  0.0962],\n",
              "                        [-0.0915, -0.0333, -0.1018],\n",
              "                        [-0.0415,  0.0332,  0.1015]],\n",
              "              \n",
              "                       [[ 0.0177,  0.1033,  0.0206],\n",
              "                        [ 0.0609,  0.0845,  0.0881],\n",
              "                        [-0.0590,  0.0969,  0.0639]],\n",
              "              \n",
              "                       [[-0.0493, -0.0503, -0.0884],\n",
              "                        [ 0.0265, -0.0854,  0.0445],\n",
              "                        [ 0.0333, -0.0916,  0.0287]],\n",
              "              \n",
              "                       [[-0.0086,  0.0482,  0.0605],\n",
              "                        [-0.1048,  0.0967,  0.0884],\n",
              "                        [ 0.0419, -0.0963, -0.0377]],\n",
              "              \n",
              "                       [[-0.0305, -0.0271,  0.0594],\n",
              "                        [ 0.0383,  0.0835, -0.0395],\n",
              "                        [ 0.0355,  0.0375, -0.0878]],\n",
              "              \n",
              "                       [[-0.1022, -0.0547,  0.0722],\n",
              "                        [-0.0992, -0.0918,  0.0591],\n",
              "                        [ 0.0569,  0.0867, -0.0796]],\n",
              "              \n",
              "                       [[-0.0771,  0.0541,  0.0917],\n",
              "                        [ 0.0631,  0.0165,  0.0347],\n",
              "                        [ 0.1000, -0.0680, -0.0479]]],\n",
              "              \n",
              "              \n",
              "                      [[[ 0.0737, -0.0721, -0.0581],\n",
              "                        [ 0.0769,  0.0333,  0.0341],\n",
              "                        [-0.0447, -0.0015,  0.0965]],\n",
              "              \n",
              "                       [[-0.0633,  0.0008,  0.0501],\n",
              "                        [-0.0728,  0.1024, -0.0527],\n",
              "                        [-0.0253, -0.0285, -0.0687]],\n",
              "              \n",
              "                       [[-0.1034,  0.0594,  0.0280],\n",
              "                        [-0.0987, -0.0678,  0.1042],\n",
              "                        [ 0.0403,  0.0423, -0.0631]],\n",
              "              \n",
              "                       [[-0.0462, -0.0159, -0.0193],\n",
              "                        [-0.0722,  0.0087,  0.0105],\n",
              "                        [-0.0133,  0.0146, -0.0418]],\n",
              "              \n",
              "                       [[ 0.0274,  0.0398, -0.0555],\n",
              "                        [-0.1045,  0.0552,  0.0251],\n",
              "                        [-0.0536,  0.1016, -0.0477]],\n",
              "              \n",
              "                       [[ 0.0712,  0.0535, -0.0884],\n",
              "                        [ 0.0680, -0.0969, -0.0584],\n",
              "                        [-0.0176, -0.0711,  0.1030]],\n",
              "              \n",
              "                       [[-0.0211,  0.0419, -0.0941],\n",
              "                        [ 0.0607, -0.0328, -0.0802],\n",
              "                        [ 0.0154,  0.0511,  0.0912]],\n",
              "              \n",
              "                       [[-0.0644, -0.0519,  0.0203],\n",
              "                        [ 0.0286,  0.0405,  0.0579],\n",
              "                        [-0.0239,  0.0586,  0.0777]],\n",
              "              \n",
              "                       [[-0.0275,  0.0750,  0.0515],\n",
              "                        [ 0.0930, -0.0599, -0.0521],\n",
              "                        [-0.0305,  0.0053,  0.0633]],\n",
              "              \n",
              "                       [[-0.0602,  0.0528, -0.0378],\n",
              "                        [ 0.0637, -0.0050, -0.0923],\n",
              "                        [-0.0580, -0.0763,  0.0523]]],\n",
              "              \n",
              "              \n",
              "                      [[[-0.0707, -0.0088,  0.0227],\n",
              "                        [-0.0578,  0.0304, -0.1029],\n",
              "                        [-0.0754, -0.0955, -0.0319]],\n",
              "              \n",
              "                       [[-0.0384,  0.0151, -0.0195],\n",
              "                        [ 0.0496,  0.0966,  0.0378],\n",
              "                        [-0.0415, -0.0987,  0.0382]],\n",
              "              \n",
              "                       [[-0.0522,  0.0536,  0.0705],\n",
              "                        [ 0.0407,  0.0989,  0.1001],\n",
              "                        [ 0.0223, -0.0768,  0.0942]],\n",
              "              \n",
              "                       [[-0.0500, -0.0498,  0.0882],\n",
              "                        [ 0.0817,  0.0318,  0.0066],\n",
              "                        [-0.0887, -0.0109,  0.1011]],\n",
              "              \n",
              "                       [[ 0.0268,  0.0090, -0.0219],\n",
              "                        [-0.0368,  0.0628,  0.0065],\n",
              "                        [ 0.0686, -0.0187,  0.0461]],\n",
              "              \n",
              "                       [[ 0.0435,  0.0168,  0.0662],\n",
              "                        [ 0.0661,  0.0977,  0.0810],\n",
              "                        [-0.0270, -0.0892,  0.0193]],\n",
              "              \n",
              "                       [[-0.0009, -0.0275, -0.0177],\n",
              "                        [ 0.0050,  0.0769,  0.0329],\n",
              "                        [-0.0374, -0.0433, -0.0261]],\n",
              "              \n",
              "                       [[-0.0407,  0.0948,  0.0558],\n",
              "                        [ 0.0952,  0.0003,  0.0213],\n",
              "                        [ 0.0366, -0.0998,  0.0094]],\n",
              "              \n",
              "                       [[-0.0071, -0.0591, -0.0818],\n",
              "                        [ 0.0933,  0.0857,  0.0489],\n",
              "                        [ 0.1006, -0.0428, -0.0182]],\n",
              "              \n",
              "                       [[ 0.0399, -0.0174, -0.0207],\n",
              "                        [-0.0871,  0.0283, -0.0637],\n",
              "                        [ 0.0038,  0.1028, -0.0324]]],\n",
              "              \n",
              "              \n",
              "                      [[[-0.0332,  0.0636, -0.0388],\n",
              "                        [-0.0091,  0.0984, -0.0432],\n",
              "                        [-0.0754, -0.0590, -0.0292]],\n",
              "              \n",
              "                       [[-0.0500, -0.0547,  0.0426],\n",
              "                        [ 0.0179, -0.0337, -0.0819],\n",
              "                        [-0.0332, -0.0445, -0.0343]],\n",
              "              \n",
              "                       [[-0.0951,  0.0227, -0.0774],\n",
              "                        [-0.0821, -0.0861,  0.0440],\n",
              "                        [-0.0635, -0.0435,  0.0826]],\n",
              "              \n",
              "                       [[ 0.0560,  0.0604, -0.1001],\n",
              "                        [-0.0756, -0.0398,  0.0871],\n",
              "                        [ 0.0108, -0.0788,  0.0007]],\n",
              "              \n",
              "                       [[-0.0819, -0.0231, -0.0290],\n",
              "                        [ 0.0912,  0.0326, -0.0184],\n",
              "                        [ 0.0178, -0.0304,  0.0414]],\n",
              "              \n",
              "                       [[ 0.0417,  0.0283, -0.0411],\n",
              "                        [ 0.0899, -0.0152, -0.0410],\n",
              "                        [ 0.0660,  0.0859,  0.1049]],\n",
              "              \n",
              "                       [[ 0.0312, -0.0359,  0.0535],\n",
              "                        [ 0.0904, -0.1034, -0.0131],\n",
              "                        [-0.0719,  0.0196,  0.0436]],\n",
              "              \n",
              "                       [[-0.0218, -0.0088,  0.0474],\n",
              "                        [-0.0177, -0.0885,  0.0843],\n",
              "                        [-0.0531, -0.0116,  0.0099]],\n",
              "              \n",
              "                       [[-0.0063, -0.0992,  0.0484],\n",
              "                        [-0.0479, -0.0547,  0.0252],\n",
              "                        [-0.0550, -0.0487, -0.0355]],\n",
              "              \n",
              "                       [[-0.0396, -0.0440, -0.0284],\n",
              "                        [ 0.0274, -0.0853, -0.0638],\n",
              "                        [ 0.0015,  0.0147,  0.0582]]]], device='cuda:0')),\n",
              "             ('block1.2.bias',\n",
              "              tensor([-0.0740,  0.0336,  0.0599,  0.0585, -0.0982, -0.0402, -0.0906, -0.0667,\n",
              "                       0.0587, -0.0157], device='cuda:0')),\n",
              "             ('block2.0.weight',\n",
              "              tensor([[[[ 4.4769e-02, -6.1876e-02,  1.6018e-02],\n",
              "                        [-6.3758e-02,  5.2693e-02, -4.6104e-02],\n",
              "                        [-2.6432e-02, -9.1456e-02,  3.4822e-04]],\n",
              "              \n",
              "                       [[ 1.0008e-01,  5.1163e-02, -5.6240e-02],\n",
              "                        [ 1.4176e-03, -1.1558e-02, -8.4862e-02],\n",
              "                        [ 8.2650e-02,  1.6993e-03,  2.2199e-02]],\n",
              "              \n",
              "                       [[-4.2567e-02, -4.9323e-02,  1.7381e-02],\n",
              "                        [ 3.8971e-02,  2.3643e-02, -5.0801e-02],\n",
              "                        [ 1.0234e-01, -1.5517e-02, -6.4554e-02]],\n",
              "              \n",
              "                       [[-4.9301e-02,  1.0377e-01,  5.0766e-06],\n",
              "                        [-1.4309e-02, -4.3867e-02, -2.7633e-02],\n",
              "                        [-8.8779e-02, -8.3767e-02,  6.1695e-02]],\n",
              "              \n",
              "                       [[ 9.0172e-02,  1.0059e-01, -7.6099e-02],\n",
              "                        [ 5.7012e-02, -6.5245e-02,  6.2883e-02],\n",
              "                        [ 7.6058e-02,  8.1573e-02,  7.5900e-02]],\n",
              "              \n",
              "                       [[ 6.5941e-02,  2.0516e-03,  4.8434e-02],\n",
              "                        [-3.7712e-02,  4.5899e-02, -3.3879e-02],\n",
              "                        [-1.7700e-03, -9.1746e-02, -2.7562e-02]],\n",
              "              \n",
              "                       [[-5.5432e-02, -3.5557e-02, -6.7313e-02],\n",
              "                        [-9.4810e-02,  6.8639e-03,  6.8408e-02],\n",
              "                        [ 9.6001e-02,  6.1512e-02, -5.4638e-02]],\n",
              "              \n",
              "                       [[-1.0425e-01,  3.9983e-02,  5.9062e-02],\n",
              "                        [-9.0495e-02,  3.7798e-02,  8.9121e-02],\n",
              "                        [ 6.3853e-03, -6.3505e-02,  8.6423e-02]],\n",
              "              \n",
              "                       [[ 4.5011e-02,  6.9802e-02, -7.1287e-02],\n",
              "                        [ 6.1342e-02, -7.2002e-02,  1.0430e-01],\n",
              "                        [-4.4662e-02,  6.3516e-02,  2.1107e-02]],\n",
              "              \n",
              "                       [[ 2.7935e-02, -1.6165e-02,  4.3295e-02],\n",
              "                        [-4.3932e-02, -9.9357e-02, -4.0499e-02],\n",
              "                        [ 8.2592e-02, -2.7751e-02,  3.3132e-02]]],\n",
              "              \n",
              "              \n",
              "                      [[[-3.8973e-02,  7.9073e-02,  6.3086e-02],\n",
              "                        [ 3.7211e-02, -5.3881e-02, -8.6133e-02],\n",
              "                        [ 3.9686e-03, -6.1839e-02,  8.6667e-02]],\n",
              "              \n",
              "                       [[-1.0130e-01,  4.7104e-02,  1.0508e-01],\n",
              "                        [ 5.2792e-02,  3.5942e-02, -1.0142e-01],\n",
              "                        [ 1.0139e-01, -1.8030e-02, -9.8495e-02]],\n",
              "              \n",
              "                       [[ 1.0406e-01, -4.2894e-02, -7.4575e-03],\n",
              "                        [ 9.6479e-02, -7.3070e-02, -7.4576e-02],\n",
              "                        [ 1.7141e-02, -1.4109e-02,  2.4280e-02]],\n",
              "              \n",
              "                       [[-8.8407e-02,  3.1524e-03, -4.6882e-02],\n",
              "                        [-5.1820e-02, -9.6517e-02,  5.5890e-02],\n",
              "                        [ 2.0306e-02, -8.9118e-02,  8.3648e-02]],\n",
              "              \n",
              "                       [[ 3.1794e-02,  1.9560e-02, -6.1890e-02],\n",
              "                        [ 1.5896e-02,  1.0157e-01,  7.2299e-02],\n",
              "                        [-8.2100e-02,  9.6220e-02,  8.1702e-03]],\n",
              "              \n",
              "                       [[ 5.0698e-02,  8.1869e-02,  8.9862e-02],\n",
              "                        [-8.2170e-02,  9.2303e-02, -7.1591e-02],\n",
              "                        [ 7.9021e-03, -7.3656e-02, -2.3109e-02]],\n",
              "              \n",
              "                       [[-4.7901e-03, -1.2611e-02, -1.6652e-02],\n",
              "                        [ 8.3137e-03,  1.0398e-01,  6.1244e-02],\n",
              "                        [ 5.8973e-02,  4.2190e-02,  8.1606e-02]],\n",
              "              \n",
              "                       [[-4.8645e-03,  8.3813e-03,  2.1693e-02],\n",
              "                        [-9.1931e-02, -8.4913e-02,  1.2923e-02],\n",
              "                        [-4.1241e-02, -1.9342e-03, -2.4187e-02]],\n",
              "              \n",
              "                       [[ 1.6408e-02,  6.8581e-02, -3.4958e-02],\n",
              "                        [ 8.4418e-02,  8.3227e-02, -8.0901e-02],\n",
              "                        [-8.1400e-02, -8.5284e-02, -5.7766e-02]],\n",
              "              \n",
              "                       [[-4.1033e-02, -7.9341e-03, -2.5635e-02],\n",
              "                        [-5.3258e-02, -3.3488e-02, -3.8131e-02],\n",
              "                        [ 1.0341e-01, -3.9068e-02, -7.5473e-02]]],\n",
              "              \n",
              "              \n",
              "                      [[[ 4.3818e-02, -6.0886e-03,  8.0698e-02],\n",
              "                        [ 6.5863e-02,  9.6843e-02, -7.7197e-02],\n",
              "                        [ 6.7764e-02,  8.8464e-02, -5.2054e-02]],\n",
              "              \n",
              "                       [[ 9.6890e-02,  7.9019e-02,  1.1544e-03],\n",
              "                        [ 5.0823e-02, -3.6853e-02, -9.1936e-02],\n",
              "                        [ 2.6645e-02,  3.1425e-02, -6.8891e-02]],\n",
              "              \n",
              "                       [[ 5.1123e-02, -9.0043e-02,  9.0718e-02],\n",
              "                        [ 1.0208e-01,  2.8699e-02, -6.6137e-02],\n",
              "                        [ 5.1300e-02,  1.7963e-02,  2.8663e-02]],\n",
              "              \n",
              "                       [[ 3.4643e-02,  8.0254e-02, -4.5309e-02],\n",
              "                        [-2.3711e-02,  2.8746e-02,  1.1486e-02],\n",
              "                        [ 8.5000e-02, -5.5365e-02, -3.8387e-03]],\n",
              "              \n",
              "                       [[ 1.9696e-02, -2.7996e-02,  7.1859e-02],\n",
              "                        [ 1.1530e-02, -9.7422e-02, -1.1420e-02],\n",
              "                        [-4.7809e-02,  1.0243e-02, -1.2250e-02]],\n",
              "              \n",
              "                       [[-1.0456e-01, -1.9208e-02, -1.0096e-02],\n",
              "                        [-3.1083e-02,  9.6848e-02, -2.3000e-02],\n",
              "                        [ 6.7717e-02,  2.6112e-02, -8.8979e-02]],\n",
              "              \n",
              "                       [[ 2.4770e-02,  8.7356e-02, -6.8948e-02],\n",
              "                        [-6.8134e-02,  1.0318e-01,  8.4697e-02],\n",
              "                        [-5.8807e-02,  6.3429e-02, -1.3485e-02]],\n",
              "              \n",
              "                       [[-1.0393e-01,  7.9198e-03,  3.4057e-02],\n",
              "                        [-3.1619e-02,  3.6670e-02, -9.0136e-02],\n",
              "                        [ 7.3050e-02,  8.9865e-02,  5.8130e-02]],\n",
              "              \n",
              "                       [[ 1.7866e-02,  3.4716e-02, -7.6269e-02],\n",
              "                        [-2.6339e-02, -1.0063e-02, -5.8659e-02],\n",
              "                        [-7.7857e-02,  7.0900e-02,  7.1535e-02]],\n",
              "              \n",
              "                       [[-9.5731e-02,  3.3542e-02,  4.2881e-02],\n",
              "                        [ 1.0014e-01,  6.0985e-02,  9.6907e-02],\n",
              "                        [-3.4510e-02,  7.3827e-02,  8.5740e-02]]],\n",
              "              \n",
              "              \n",
              "                      [[[-9.9541e-02, -8.4613e-02,  2.1335e-02],\n",
              "                        [ 5.7557e-02, -5.2369e-02,  1.1609e-02],\n",
              "                        [-1.5303e-04,  2.6680e-02, -5.6642e-02]],\n",
              "              \n",
              "                       [[ 5.9455e-02,  7.0098e-02, -7.3139e-02],\n",
              "                        [ 1.0211e-03,  2.9247e-04,  3.3849e-02],\n",
              "                        [ 9.8198e-02,  3.0913e-02, -2.3951e-02]],\n",
              "              \n",
              "                       [[ 9.4672e-02, -4.0112e-02, -3.0608e-02],\n",
              "                        [ 7.1969e-03, -8.0270e-02,  1.1470e-02],\n",
              "                        [-7.1518e-02,  1.0838e-02,  1.0099e-02]],\n",
              "              \n",
              "                       [[ 1.4591e-02, -8.8891e-02, -1.0012e-01],\n",
              "                        [ 4.8501e-02,  9.0399e-02, -9.3537e-02],\n",
              "                        [ 3.9043e-02, -7.7594e-02,  6.6082e-03]],\n",
              "              \n",
              "                       [[ 9.8068e-02,  7.9965e-02, -7.7069e-02],\n",
              "                        [ 6.5203e-02,  5.5057e-02, -1.6168e-04],\n",
              "                        [ 1.0211e-01, -4.1866e-02, -2.4530e-02]],\n",
              "              \n",
              "                       [[-5.3275e-02,  1.5168e-02,  2.7911e-02],\n",
              "                        [ 8.3990e-03, -5.9307e-02, -4.7452e-02],\n",
              "                        [ 3.5855e-02, -9.2426e-02, -1.6416e-02]],\n",
              "              \n",
              "                       [[-2.3350e-03, -4.2708e-02,  3.8360e-02],\n",
              "                        [ 6.7940e-03,  7.4004e-02, -9.3616e-03],\n",
              "                        [-6.6528e-02,  7.4477e-02,  1.4720e-02]],\n",
              "              \n",
              "                       [[-3.0189e-02, -6.9476e-02,  2.4707e-02],\n",
              "                        [-1.0053e-01,  2.7762e-02,  5.2119e-02],\n",
              "                        [-9.2465e-02, -6.9009e-02, -7.5781e-02]],\n",
              "              \n",
              "                       [[ 8.8597e-02,  8.9611e-02,  6.5987e-03],\n",
              "                        [ 9.8959e-02, -3.5239e-02, -1.0233e-01],\n",
              "                        [ 3.6819e-02,  3.7343e-02,  1.0334e-01]],\n",
              "              \n",
              "                       [[-3.0510e-05,  8.0785e-02,  6.4612e-02],\n",
              "                        [ 7.6292e-02, -1.0460e-01,  8.6800e-02],\n",
              "                        [-8.9856e-02,  9.4501e-02, -4.3682e-03]]],\n",
              "              \n",
              "              \n",
              "                      [[[-9.3415e-02,  2.9314e-02, -2.1456e-02],\n",
              "                        [-9.4678e-02, -3.8215e-02,  1.0868e-02],\n",
              "                        [ 8.2098e-02, -3.2406e-02,  6.2610e-02]],\n",
              "              \n",
              "                       [[ 1.3200e-02,  3.5531e-03,  2.0170e-02],\n",
              "                        [-6.9177e-02, -8.7616e-02, -3.3121e-02],\n",
              "                        [-9.8226e-02, -4.9158e-02,  4.8494e-03]],\n",
              "              \n",
              "                       [[-6.9424e-02, -4.3723e-02, -1.8941e-02],\n",
              "                        [-1.2144e-02, -5.8187e-02,  5.0650e-03],\n",
              "                        [-1.4795e-02,  3.0147e-02,  4.7611e-03]],\n",
              "              \n",
              "                       [[-5.2638e-02, -3.6291e-02, -1.2149e-03],\n",
              "                        [-6.5774e-02,  8.2520e-03, -7.4425e-03],\n",
              "                        [ 4.0897e-02,  2.4947e-02,  7.8887e-02]],\n",
              "              \n",
              "                       [[-3.4749e-03, -7.7887e-02,  4.7119e-02],\n",
              "                        [-7.1240e-02, -1.4489e-02, -3.4132e-02],\n",
              "                        [-3.9997e-02, -3.9000e-02,  9.6863e-02]],\n",
              "              \n",
              "                       [[ 6.0342e-02,  2.9213e-02,  9.8975e-02],\n",
              "                        [-9.5524e-02,  1.7010e-02,  6.7481e-02],\n",
              "                        [ 7.0022e-02, -8.3890e-02,  3.7514e-02]],\n",
              "              \n",
              "                       [[-6.0050e-02, -4.1187e-03, -2.1996e-02],\n",
              "                        [-8.8013e-02, -1.0055e-01, -6.9349e-02],\n",
              "                        [ 4.7832e-02,  4.8218e-02, -9.1681e-02]],\n",
              "              \n",
              "                       [[-3.9586e-02,  1.7218e-03, -9.1135e-02],\n",
              "                        [ 5.9393e-02,  9.5473e-02,  1.8643e-02],\n",
              "                        [-7.8321e-02,  2.4580e-02,  3.8265e-02]],\n",
              "              \n",
              "                       [[ 8.3468e-02, -5.6085e-02, -9.4437e-02],\n",
              "                        [ 4.6312e-02,  6.5624e-03, -3.4345e-02],\n",
              "                        [-4.4169e-02, -5.4351e-02,  8.5328e-02]],\n",
              "              \n",
              "                       [[-1.8187e-02,  7.6022e-02,  9.4094e-02],\n",
              "                        [ 1.3353e-02,  2.2454e-02, -7.1789e-03],\n",
              "                        [ 7.2397e-02, -9.4983e-02,  4.1919e-02]]],\n",
              "              \n",
              "              \n",
              "                      [[[-1.7174e-02,  4.8132e-02, -4.6949e-04],\n",
              "                        [-3.9029e-02, -1.1379e-02,  5.6920e-02],\n",
              "                        [-7.3210e-02, -6.6629e-02, -2.3611e-02]],\n",
              "              \n",
              "                       [[-3.8235e-02,  4.1409e-02,  7.0937e-02],\n",
              "                        [-1.1289e-02,  9.9672e-02, -4.4042e-02],\n",
              "                        [-5.9151e-02, -4.7191e-02, -7.2624e-02]],\n",
              "              \n",
              "                       [[-7.3885e-02, -9.3921e-02, -9.3422e-02],\n",
              "                        [ 2.7512e-02,  6.4284e-02,  9.8963e-02],\n",
              "                        [ 8.9787e-02, -6.0709e-03,  2.0454e-02]],\n",
              "              \n",
              "                       [[-6.3068e-02,  4.0743e-02, -1.0107e-01],\n",
              "                        [ 4.9719e-02,  1.9334e-02,  3.2393e-02],\n",
              "                        [ 3.8595e-02, -4.8394e-02,  9.0452e-02]],\n",
              "              \n",
              "                       [[ 5.0307e-02,  6.9243e-02,  1.3922e-02],\n",
              "                        [ 6.6196e-02,  7.0941e-02,  4.7775e-02],\n",
              "                        [ 8.0297e-02, -1.9119e-02,  6.9310e-02]],\n",
              "              \n",
              "                       [[ 2.4286e-02,  6.3424e-02,  1.0267e-01],\n",
              "                        [ 2.3869e-02, -3.9124e-02, -1.0488e-02],\n",
              "                        [ 2.9676e-02,  1.7773e-02, -2.8795e-02]],\n",
              "              \n",
              "                       [[ 8.2590e-02,  6.3331e-02, -6.5475e-02],\n",
              "                        [-8.5889e-03, -1.0119e-02, -6.6063e-02],\n",
              "                        [ 1.5374e-02, -3.2360e-02, -5.4419e-02]],\n",
              "              \n",
              "                       [[-3.3894e-02, -3.7584e-02,  1.0084e-01],\n",
              "                        [ 4.0432e-02,  1.0373e-01,  2.8903e-02],\n",
              "                        [ 2.3868e-02,  4.3333e-02,  1.8092e-02]],\n",
              "              \n",
              "                       [[-8.2722e-02, -6.2334e-02, -2.5538e-02],\n",
              "                        [ 1.5846e-03,  3.9709e-02,  4.0588e-02],\n",
              "                        [ 8.3623e-02,  2.1458e-02, -3.5975e-02]],\n",
              "              \n",
              "                       [[-7.9271e-02, -7.7203e-02, -6.2965e-02],\n",
              "                        [ 3.1792e-02,  5.6950e-02,  9.2224e-02],\n",
              "                        [-3.3342e-02, -8.3150e-03, -3.1303e-02]]],\n",
              "              \n",
              "              \n",
              "                      [[[-3.8517e-04,  3.3837e-02, -2.3160e-03],\n",
              "                        [ 4.8799e-03,  1.3354e-02,  3.9256e-02],\n",
              "                        [-3.1981e-02, -6.2855e-02,  2.4869e-02]],\n",
              "              \n",
              "                       [[-1.2481e-02, -4.7753e-02,  4.4268e-02],\n",
              "                        [ 9.5597e-04, -1.5333e-02, -5.1027e-02],\n",
              "                        [-1.3868e-02, -8.9632e-02,  2.3980e-02]],\n",
              "              \n",
              "                       [[ 1.5818e-03,  6.3966e-02,  6.8063e-03],\n",
              "                        [ 8.4277e-03,  2.8715e-02,  8.0210e-02],\n",
              "                        [-4.9812e-02,  6.2930e-02,  2.5779e-02]],\n",
              "              \n",
              "                       [[-7.0320e-02,  3.6702e-02, -6.3217e-02],\n",
              "                        [-3.3181e-02, -5.0245e-02, -7.1711e-02],\n",
              "                        [ 8.3017e-02, -9.4217e-02,  5.2706e-02]],\n",
              "              \n",
              "                       [[-9.4870e-02, -1.2829e-02,  6.2868e-03],\n",
              "                        [ 7.4937e-02, -3.8147e-02,  3.0340e-02],\n",
              "                        [ 1.6329e-02,  6.2021e-02,  6.2667e-03]],\n",
              "              \n",
              "                       [[ 3.9470e-02, -6.3677e-02, -7.3250e-02],\n",
              "                        [ 9.3928e-02, -7.6808e-02, -1.7945e-02],\n",
              "                        [-1.2742e-02,  1.0308e-01, -2.2780e-02]],\n",
              "              \n",
              "                       [[-8.0249e-02, -2.6721e-02,  5.4372e-02],\n",
              "                        [ 4.1773e-02,  8.7204e-02, -2.1579e-02],\n",
              "                        [ 4.9653e-02, -9.9194e-02,  4.0787e-02]],\n",
              "              \n",
              "                       [[ 4.8432e-02,  6.7998e-02, -6.0446e-02],\n",
              "                        [-2.8142e-02,  2.5502e-02, -7.4905e-02],\n",
              "                        [-8.3851e-02, -1.0141e-01,  5.8842e-03]],\n",
              "              \n",
              "                       [[ 6.5458e-02,  2.7075e-02,  6.4263e-03],\n",
              "                        [ 3.6727e-02, -6.6240e-02,  1.1113e-02],\n",
              "                        [-2.6186e-02, -5.2193e-02,  9.0902e-02]],\n",
              "              \n",
              "                       [[-8.1550e-02,  1.5448e-02, -9.2624e-02],\n",
              "                        [-3.5762e-03, -4.6840e-02,  3.4695e-02],\n",
              "                        [-5.9191e-02,  6.7466e-02, -8.5536e-02]]],\n",
              "              \n",
              "              \n",
              "                      [[[ 6.3313e-02, -7.9181e-02,  5.6456e-02],\n",
              "                        [-4.4384e-02, -2.4556e-04, -1.9238e-02],\n",
              "                        [ 6.8414e-02,  3.4546e-02, -9.2887e-02]],\n",
              "              \n",
              "                       [[ 9.6914e-03, -7.2718e-02,  7.8800e-02],\n",
              "                        [ 1.7319e-02, -2.7109e-02, -5.3777e-02],\n",
              "                        [ 3.6485e-02, -6.3129e-02,  4.9992e-02]],\n",
              "              \n",
              "                       [[ 5.7519e-02,  6.4701e-02,  2.7537e-02],\n",
              "                        [-9.2272e-02,  7.5823e-02, -3.2700e-02],\n",
              "                        [-3.1163e-02, -1.1325e-02,  7.7068e-02]],\n",
              "              \n",
              "                       [[ 8.1052e-02,  1.6276e-02,  5.0296e-02],\n",
              "                        [-9.8241e-02,  2.4900e-04, -9.3254e-02],\n",
              "                        [ 3.5876e-02, -7.5099e-02, -3.7568e-02]],\n",
              "              \n",
              "                       [[ 7.3684e-02,  1.0074e-01, -6.3286e-02],\n",
              "                        [-5.8503e-02,  1.3055e-02,  4.1437e-02],\n",
              "                        [-1.7168e-02, -3.2918e-02, -6.9237e-02]],\n",
              "              \n",
              "                       [[ 4.4997e-02,  1.0328e-01, -5.1026e-02],\n",
              "                        [ 4.9718e-02,  5.1481e-02,  8.4728e-02],\n",
              "                        [-1.2001e-02,  3.3202e-03,  7.7444e-02]],\n",
              "              \n",
              "                       [[ 6.6631e-02,  1.0411e-01, -3.0207e-02],\n",
              "                        [ 4.1709e-02,  7.3605e-02, -7.1553e-02],\n",
              "                        [ 2.0940e-02, -2.3586e-02,  6.7760e-02]],\n",
              "              \n",
              "                       [[-4.7342e-02,  7.3933e-03,  6.3067e-02],\n",
              "                        [-9.6567e-02, -8.9004e-02, -5.3989e-02],\n",
              "                        [ 6.7611e-02,  7.0680e-02, -7.1991e-02]],\n",
              "              \n",
              "                       [[ 2.0100e-02, -5.5854e-02, -4.8926e-02],\n",
              "                        [ 9.0907e-02,  5.0914e-02, -2.8828e-02],\n",
              "                        [ 1.5516e-02,  2.0424e-02,  2.4691e-02]],\n",
              "              \n",
              "                       [[-3.6079e-02, -6.2074e-02,  6.9788e-02],\n",
              "                        [ 1.4164e-02,  4.4119e-02, -3.9922e-02],\n",
              "                        [ 5.1057e-02,  7.6713e-02,  6.4107e-02]]],\n",
              "              \n",
              "              \n",
              "                      [[[ 2.8660e-02,  1.0371e-01, -2.3053e-04],\n",
              "                        [ 2.2441e-02,  1.0015e-01,  1.0245e-01],\n",
              "                        [-4.4506e-02,  9.4953e-02,  3.8902e-02]],\n",
              "              \n",
              "                       [[-1.1799e-02,  9.2038e-02, -5.4605e-02],\n",
              "                        [ 6.8490e-02,  1.0445e-01, -7.2701e-02],\n",
              "                        [-6.2201e-02, -1.0445e-01, -1.8970e-02]],\n",
              "              \n",
              "                       [[-9.5733e-02, -3.5304e-02,  3.2002e-02],\n",
              "                        [ 7.4511e-02,  5.8717e-02,  5.8511e-02],\n",
              "                        [ 4.3730e-02, -6.5378e-02, -8.3694e-02]],\n",
              "              \n",
              "                       [[ 4.3696e-03,  1.0009e-01,  5.9351e-03],\n",
              "                        [-9.0662e-03, -7.1545e-02, -5.2266e-02],\n",
              "                        [-8.1256e-02,  8.4398e-02, -1.7174e-02]],\n",
              "              \n",
              "                       [[-9.3119e-02,  1.1308e-02,  7.6494e-03],\n",
              "                        [-1.3023e-02,  3.7733e-02,  5.6687e-02],\n",
              "                        [-9.9128e-02, -8.0753e-02, -5.0639e-03]],\n",
              "              \n",
              "                       [[-9.7729e-02, -9.5750e-02,  9.3067e-02],\n",
              "                        [-8.0174e-03, -5.2113e-02, -3.6157e-02],\n",
              "                        [-8.2295e-02,  8.2258e-02, -2.2857e-02]],\n",
              "              \n",
              "                       [[-5.9265e-02, -7.9944e-02,  6.1611e-02],\n",
              "                        [-1.4571e-02, -1.1074e-02, -2.7473e-02],\n",
              "                        [-5.0883e-02,  1.8751e-02,  8.1099e-02]],\n",
              "              \n",
              "                       [[-6.1093e-02,  5.0504e-03, -8.0165e-02],\n",
              "                        [-4.9426e-02,  9.2525e-02,  1.1052e-03],\n",
              "                        [ 1.0154e-01, -1.8468e-02, -5.7453e-02]],\n",
              "              \n",
              "                       [[-6.2981e-02,  9.3426e-02, -8.1058e-02],\n",
              "                        [ 5.5318e-02,  2.6203e-02,  3.1107e-02],\n",
              "                        [ 5.9476e-02, -2.7577e-02,  6.5223e-02]],\n",
              "              \n",
              "                       [[-8.3982e-02, -3.7087e-02,  7.7164e-02],\n",
              "                        [ 3.1283e-02, -1.4038e-02, -2.4616e-02],\n",
              "                        [-6.4364e-02,  6.4098e-02, -3.3520e-03]]],\n",
              "              \n",
              "              \n",
              "                      [[[-3.5664e-03,  2.4929e-02,  7.7787e-02],\n",
              "                        [-5.3778e-02, -3.6303e-02,  7.1429e-02],\n",
              "                        [ 5.9532e-02, -5.1855e-02, -1.0428e-01]],\n",
              "              \n",
              "                       [[ 1.9555e-02,  5.5434e-02,  2.5178e-02],\n",
              "                        [ 7.4768e-02, -8.3640e-02,  5.3156e-02],\n",
              "                        [-6.5531e-02,  5.9325e-02,  7.8394e-02]],\n",
              "              \n",
              "                       [[ 3.3385e-02,  8.5284e-02, -6.9481e-02],\n",
              "                        [-9.4275e-02, -1.0135e-01,  6.6179e-02],\n",
              "                        [ 3.6926e-02, -7.7188e-02,  5.1048e-02]],\n",
              "              \n",
              "                       [[ 9.6177e-02, -1.0394e-01,  7.6466e-02],\n",
              "                        [ 1.6167e-02,  9.8053e-03,  9.4847e-02],\n",
              "                        [ 9.5458e-02,  4.4414e-02,  8.3288e-02]],\n",
              "              \n",
              "                       [[ 4.3853e-02,  1.7176e-02, -9.2656e-02],\n",
              "                        [ 1.9689e-02, -7.4993e-02,  3.2452e-02],\n",
              "                        [ 1.8598e-02,  2.3681e-03, -7.2071e-02]],\n",
              "              \n",
              "                       [[-6.3899e-02,  7.7912e-02,  5.1336e-02],\n",
              "                        [ 5.5576e-02, -3.1410e-02, -1.8151e-02],\n",
              "                        [-2.7014e-02,  7.2489e-02, -4.5504e-02]],\n",
              "              \n",
              "                       [[ 6.6394e-02,  7.2679e-02, -9.6403e-02],\n",
              "                        [ 6.4369e-04, -2.0076e-02, -5.8273e-02],\n",
              "                        [ 4.5507e-02, -1.2807e-02,  9.2287e-02]],\n",
              "              \n",
              "                       [[-6.5976e-02,  4.8976e-02, -8.9998e-02],\n",
              "                        [-5.2833e-02,  7.1903e-03,  8.3283e-02],\n",
              "                        [ 5.5521e-02, -8.6550e-02,  1.1676e-02]],\n",
              "              \n",
              "                       [[-6.2138e-02,  4.5674e-03, -8.7814e-02],\n",
              "                        [-3.0924e-02,  7.2297e-02, -9.6717e-02],\n",
              "                        [-1.0050e-01,  1.9200e-02,  1.4450e-02]],\n",
              "              \n",
              "                       [[-1.9278e-02,  9.2045e-02, -6.3466e-02],\n",
              "                        [-6.3992e-02, -7.8791e-02, -1.9619e-02],\n",
              "                        [-2.6901e-02,  6.5222e-02, -5.9186e-03]]]], device='cuda:0')),\n",
              "             ('block2.0.bias',\n",
              "              tensor([ 0.0337, -0.0438,  0.0855,  0.0889, -0.0944, -0.0271, -0.0894,  0.0448,\n",
              "                      -0.0921, -0.0498], device='cuda:0')),\n",
              "             ('block2.2.weight',\n",
              "              tensor([[[[ 1.0532e-01, -1.0066e-01,  7.7771e-02],\n",
              "                        [ 8.9049e-03,  8.4289e-02, -5.3494e-02],\n",
              "                        [ 6.9236e-02,  1.2718e-02,  8.1073e-03]],\n",
              "              \n",
              "                       [[ 7.1945e-02, -1.0019e-01, -8.4902e-02],\n",
              "                        [ 1.0180e-01, -6.3298e-02, -7.5980e-02],\n",
              "                        [-5.1539e-03, -3.3742e-02, -1.4421e-02]],\n",
              "              \n",
              "                       [[-7.0623e-02,  3.8034e-02, -9.0703e-02],\n",
              "                        [ 8.5374e-03,  6.1510e-02,  2.0253e-02],\n",
              "                        [ 1.4006e-02,  1.5418e-02, -3.0880e-02]],\n",
              "              \n",
              "                       [[-2.0080e-02, -4.4450e-02, -7.1207e-02],\n",
              "                        [-5.5810e-02,  1.0420e-01, -1.7641e-02],\n",
              "                        [ 3.6924e-02,  7.2896e-02, -8.2343e-03]],\n",
              "              \n",
              "                       [[-5.6707e-02, -7.1419e-02, -3.8833e-02],\n",
              "                        [ 3.7624e-02, -8.8771e-02, -1.2870e-02],\n",
              "                        [ 4.0096e-02,  8.5999e-02,  3.1721e-02]],\n",
              "              \n",
              "                       [[ 2.0846e-02,  7.2162e-02,  4.8708e-02],\n",
              "                        [ 3.5661e-02, -3.2682e-02, -8.4528e-02],\n",
              "                        [-2.2769e-02, -1.9117e-02,  7.7410e-03]],\n",
              "              \n",
              "                       [[-1.1593e-02,  4.2616e-02,  7.0050e-02],\n",
              "                        [-4.2735e-02, -1.0002e-01, -5.4081e-02],\n",
              "                        [-5.0436e-02,  5.9750e-02, -6.7994e-02]],\n",
              "              \n",
              "                       [[-9.9145e-03, -2.2340e-02, -6.3976e-02],\n",
              "                        [ 4.7780e-02, -4.3909e-02, -5.4531e-03],\n",
              "                        [-7.4112e-02, -1.0632e-02,  1.4977e-02]],\n",
              "              \n",
              "                       [[-4.2894e-03, -3.9386e-02,  3.1315e-02],\n",
              "                        [-2.7311e-02, -5.8439e-02, -7.7732e-02],\n",
              "                        [-2.2329e-02, -9.9578e-02,  8.7492e-02]],\n",
              "              \n",
              "                       [[-5.0357e-02, -4.3684e-02,  9.7439e-03],\n",
              "                        [ 2.7326e-02, -9.9393e-03,  7.2313e-02],\n",
              "                        [-6.1448e-02,  3.7777e-02, -2.3773e-04]]],\n",
              "              \n",
              "              \n",
              "                      [[[-8.5747e-02, -4.0824e-02,  2.6825e-02],\n",
              "                        [ 2.0138e-02,  7.6647e-02,  7.0518e-02],\n",
              "                        [-5.7493e-02, -4.5013e-02, -2.2351e-02]],\n",
              "              \n",
              "                       [[-7.5517e-02, -2.8459e-02, -8.6258e-02],\n",
              "                        [ 4.0092e-02,  7.4583e-02,  8.3459e-03],\n",
              "                        [-7.5460e-02, -7.9827e-02, -4.1036e-02]],\n",
              "              \n",
              "                       [[ 3.0659e-02,  2.5711e-03,  1.9166e-02],\n",
              "                        [ 9.9346e-02,  4.8956e-02,  2.2665e-02],\n",
              "                        [-2.1327e-02,  4.9864e-02,  3.8563e-02]],\n",
              "              \n",
              "                       [[-9.4879e-02, -6.2266e-02,  3.5381e-03],\n",
              "                        [ 3.9997e-02,  5.1282e-02, -6.2748e-02],\n",
              "                        [-1.0458e-01, -5.4909e-03, -1.2050e-02]],\n",
              "              \n",
              "                       [[ 3.0588e-02, -2.8988e-02,  8.0588e-02],\n",
              "                        [ 7.0333e-03,  7.6975e-02, -7.3398e-02],\n",
              "                        [ 4.2167e-02,  1.2560e-02, -5.2720e-02]],\n",
              "              \n",
              "                       [[ 5.2256e-02, -1.0372e-01,  8.5220e-02],\n",
              "                        [ 8.4947e-03,  1.0178e-02,  4.8746e-02],\n",
              "                        [ 8.7503e-03,  4.5184e-02,  6.7063e-02]],\n",
              "              \n",
              "                       [[-8.2268e-02,  6.9735e-02, -1.5784e-02],\n",
              "                        [-2.4513e-02,  2.1217e-02,  8.2446e-02],\n",
              "                        [-5.7302e-02, -7.1039e-02,  6.5418e-02]],\n",
              "              \n",
              "                       [[-4.9507e-02,  3.3937e-02, -1.5530e-02],\n",
              "                        [ 2.9014e-02,  8.0439e-02, -5.3421e-02],\n",
              "                        [-5.1151e-02,  5.1716e-02,  5.7714e-03]],\n",
              "              \n",
              "                       [[-1.1601e-02, -9.2590e-02,  8.9309e-02],\n",
              "                        [-3.9919e-03, -1.9415e-02, -4.3269e-02],\n",
              "                        [-2.0801e-02,  5.1233e-02, -2.4227e-03]],\n",
              "              \n",
              "                       [[ 9.0147e-02, -6.0858e-03, -1.5122e-02],\n",
              "                        [ 5.9498e-02, -2.7275e-03, -2.1039e-02],\n",
              "                        [ 3.5231e-02,  8.3129e-02,  2.6305e-02]]],\n",
              "              \n",
              "              \n",
              "                      [[[ 7.3398e-02,  6.8309e-02,  2.9810e-02],\n",
              "                        [ 3.6650e-02,  3.4014e-02,  1.0934e-02],\n",
              "                        [ 8.9675e-02,  9.7308e-02,  3.7524e-02]],\n",
              "              \n",
              "                       [[-5.2640e-03,  9.4509e-02, -8.2042e-02],\n",
              "                        [ 7.7453e-02,  5.5849e-02,  6.7687e-02],\n",
              "                        [-8.0992e-03, -7.8646e-02,  7.5193e-02]],\n",
              "              \n",
              "                       [[-4.6091e-02,  2.7734e-02,  5.9719e-02],\n",
              "                        [-9.8508e-02,  6.9954e-03, -3.7444e-02],\n",
              "                        [ 7.4815e-02, -6.7114e-02,  6.4001e-02]],\n",
              "              \n",
              "                       [[ 6.5730e-02,  5.8156e-02,  1.0119e-01],\n",
              "                        [ 1.5964e-02, -9.5541e-02,  7.5248e-02],\n",
              "                        [ 9.6499e-03,  2.0918e-03, -1.0041e-01]],\n",
              "              \n",
              "                       [[-2.3691e-02, -5.1162e-02,  1.0324e-01],\n",
              "                        [ 7.5054e-02,  7.8634e-02,  7.2188e-02],\n",
              "                        [-6.5340e-02, -4.5270e-02, -4.1252e-02]],\n",
              "              \n",
              "                       [[-4.2257e-02,  8.2054e-02,  3.5815e-02],\n",
              "                        [ 8.4470e-02, -4.9309e-03, -9.3965e-02],\n",
              "                        [-3.0582e-02,  7.4081e-02,  6.4174e-02]],\n",
              "              \n",
              "                       [[ 3.2632e-02, -3.0919e-02, -9.8386e-02],\n",
              "                        [-5.6639e-02,  5.4958e-02, -4.2518e-02],\n",
              "                        [ 5.0421e-02,  2.8781e-02, -4.0486e-02]],\n",
              "              \n",
              "                       [[ 6.4202e-02, -3.3871e-02, -3.5020e-03],\n",
              "                        [-4.0152e-02, -9.9988e-02,  1.6996e-02],\n",
              "                        [ 3.0460e-02, -5.3072e-02,  6.4663e-02]],\n",
              "              \n",
              "                       [[-9.4558e-02, -1.0161e-01, -6.5106e-02],\n",
              "                        [-3.6430e-02, -1.1707e-02, -2.0370e-02],\n",
              "                        [ 4.8108e-02, -9.2510e-02,  1.5521e-02]],\n",
              "              \n",
              "                       [[ 1.8254e-03,  2.7842e-02,  1.0479e-01],\n",
              "                        [ 6.4874e-02, -5.8366e-02, -8.6378e-02],\n",
              "                        [-2.5520e-02, -5.2876e-02,  3.6820e-02]]],\n",
              "              \n",
              "              \n",
              "                      [[[ 9.6628e-04,  8.4783e-02,  4.1405e-02],\n",
              "                        [-1.9382e-02,  3.6229e-03,  2.5244e-02],\n",
              "                        [-1.3080e-02,  8.5058e-02, -8.2420e-02]],\n",
              "              \n",
              "                       [[ 5.1377e-02, -6.7192e-02, -9.2347e-02],\n",
              "                        [-2.1640e-02,  5.1366e-02,  7.4478e-02],\n",
              "                        [ 2.6452e-02, -9.1104e-03, -5.9092e-03]],\n",
              "              \n",
              "                       [[-4.2731e-02, -9.4592e-03, -7.2831e-03],\n",
              "                        [ 8.9699e-02,  6.1690e-02, -8.4351e-02],\n",
              "                        [ 4.3604e-04, -6.4834e-02, -1.6733e-02]],\n",
              "              \n",
              "                       [[-8.3776e-02,  2.7402e-02, -7.6008e-02],\n",
              "                        [ 1.0406e-01,  7.9605e-02, -7.2559e-02],\n",
              "                        [-9.9239e-02,  4.1128e-03, -2.9425e-02]],\n",
              "              \n",
              "                       [[ 3.0945e-02, -7.1353e-02,  4.3148e-02],\n",
              "                        [-9.1047e-02, -5.5632e-02, -5.5414e-02],\n",
              "                        [ 5.1007e-02, -2.7597e-03, -1.0130e-01]],\n",
              "              \n",
              "                       [[-6.0201e-02, -4.8781e-02, -9.7802e-02],\n",
              "                        [ 1.3497e-02,  3.7561e-02, -1.9340e-02],\n",
              "                        [-4.1947e-02, -6.3926e-04, -8.3725e-02]],\n",
              "              \n",
              "                       [[-6.4184e-02, -2.4040e-03,  9.3643e-02],\n",
              "                        [-3.2414e-02,  5.2247e-02, -4.1484e-02],\n",
              "                        [-2.8060e-02, -1.0034e-01,  8.7330e-02]],\n",
              "              \n",
              "                       [[ 1.0264e-01, -2.2139e-03,  6.6974e-02],\n",
              "                        [ 8.6219e-02,  5.2359e-02,  5.4288e-02],\n",
              "                        [-1.0035e-01, -9.9050e-02, -8.0906e-02]],\n",
              "              \n",
              "                       [[ 3.2970e-02, -9.1177e-02, -8.0464e-02],\n",
              "                        [-5.1092e-02, -9.7154e-02,  1.4203e-04],\n",
              "                        [ 1.5207e-02, -6.1686e-02,  6.9018e-02]],\n",
              "              \n",
              "                       [[-4.0018e-02, -2.9676e-02,  8.0309e-02],\n",
              "                        [ 9.0499e-02, -1.2093e-02, -7.5671e-02],\n",
              "                        [-5.2881e-02,  1.3423e-02,  6.1790e-02]]],\n",
              "              \n",
              "              \n",
              "                      [[[ 5.2477e-02, -4.6547e-02, -9.9650e-02],\n",
              "                        [-9.2249e-02, -3.3537e-02,  1.3223e-03],\n",
              "                        [-4.7347e-02, -8.3348e-02,  1.1109e-02]],\n",
              "              \n",
              "                       [[-8.3668e-02, -8.0946e-02, -8.5692e-02],\n",
              "                        [-2.8563e-02,  9.3104e-02,  4.1207e-02],\n",
              "                        [-1.2498e-02,  2.1694e-02,  4.1975e-02]],\n",
              "              \n",
              "                       [[ 6.1414e-04, -8.5020e-02, -6.4944e-02],\n",
              "                        [-7.1610e-02, -2.6766e-03, -9.6492e-02],\n",
              "                        [-1.9166e-02, -3.8545e-02,  1.0345e-01]],\n",
              "              \n",
              "                       [[ 8.5679e-02,  6.1227e-02,  5.9116e-03],\n",
              "                        [-3.4129e-02,  2.6887e-02, -7.2830e-02],\n",
              "                        [-4.4957e-02, -2.1175e-02, -2.4766e-02]],\n",
              "              \n",
              "                       [[-9.9854e-02,  4.1903e-02,  8.6803e-02],\n",
              "                        [-5.8141e-02,  2.8415e-02, -1.2225e-02],\n",
              "                        [-3.8445e-03,  6.1443e-03,  9.1346e-02]],\n",
              "              \n",
              "                       [[ 1.4124e-02, -6.6690e-02, -3.7917e-02],\n",
              "                        [ 5.1495e-02,  3.2893e-02,  2.0487e-03],\n",
              "                        [-1.3912e-02, -4.1012e-02, -3.7413e-02]],\n",
              "              \n",
              "                       [[-5.5602e-02,  1.7273e-02,  2.9603e-02],\n",
              "                        [ 8.0717e-02, -2.3813e-02,  7.5461e-03],\n",
              "                        [ 6.8125e-02,  4.5852e-02,  1.3544e-02]],\n",
              "              \n",
              "                       [[ 3.2390e-02,  5.4714e-03, -9.0419e-02],\n",
              "                        [ 4.0636e-03, -2.3040e-02,  9.5123e-02],\n",
              "                        [ 9.5145e-02,  2.0912e-02,  9.4215e-02]],\n",
              "              \n",
              "                       [[-5.4288e-02,  9.1619e-02,  9.0756e-02],\n",
              "                        [-4.0288e-03, -8.4592e-02, -3.4015e-02],\n",
              "                        [-2.8189e-02,  1.7411e-03, -9.5569e-02]],\n",
              "              \n",
              "                       [[ 1.9535e-02, -4.3839e-02, -2.6989e-02],\n",
              "                        [-5.4443e-02, -2.2255e-02, -9.7896e-02],\n",
              "                        [-5.5885e-02,  9.7108e-03,  6.9072e-02]]],\n",
              "              \n",
              "              \n",
              "                      [[[ 9.5790e-02, -7.9737e-02,  4.4264e-02],\n",
              "                        [-5.9419e-02, -8.1498e-02, -4.6417e-03],\n",
              "                        [-6.0468e-02, -9.0783e-02, -9.8509e-02]],\n",
              "              \n",
              "                       [[-7.0556e-02,  8.6619e-02,  5.8788e-02],\n",
              "                        [-4.1726e-02, -7.0553e-02, -8.1085e-02],\n",
              "                        [-6.2246e-02, -4.3376e-02,  6.3308e-02]],\n",
              "              \n",
              "                       [[ 3.4496e-02, -4.0622e-02,  7.2567e-02],\n",
              "                        [-6.5484e-02, -8.5876e-02,  2.3006e-02],\n",
              "                        [-5.8123e-02,  2.9987e-02,  8.9306e-02]],\n",
              "              \n",
              "                       [[-4.9849e-02, -7.3556e-02,  3.9676e-02],\n",
              "                        [-9.5200e-02,  9.4044e-02, -4.9780e-02],\n",
              "                        [ 5.0961e-02, -8.3818e-02, -7.1348e-02]],\n",
              "              \n",
              "                       [[ 1.1611e-02,  3.7463e-02,  8.1734e-02],\n",
              "                        [ 8.8158e-02, -6.0623e-03, -1.3552e-02],\n",
              "                        [ 1.7424e-02, -2.4486e-02,  3.5882e-03]],\n",
              "              \n",
              "                       [[-9.9828e-02, -8.6531e-02,  7.2233e-02],\n",
              "                        [-6.1597e-02,  8.3008e-02,  1.1568e-02],\n",
              "                        [ 2.5676e-02,  9.5804e-02, -5.8628e-02]],\n",
              "              \n",
              "                       [[-1.6640e-02,  1.8675e-02,  3.6012e-02],\n",
              "                        [-1.0259e-01,  3.7464e-02, -6.2163e-02],\n",
              "                        [ 1.3846e-02,  7.1315e-02, -1.0500e-02]],\n",
              "              \n",
              "                       [[-3.3346e-03, -7.8757e-03,  8.7962e-02],\n",
              "                        [ 5.9907e-02,  1.7727e-02, -6.3437e-02],\n",
              "                        [-5.7241e-02,  8.3964e-02,  7.5834e-02]],\n",
              "              \n",
              "                       [[ 6.1033e-02, -8.2189e-02,  8.2092e-02],\n",
              "                        [-1.0076e-02,  7.7661e-02,  9.1553e-02],\n",
              "                        [ 1.1554e-02, -4.3863e-02,  9.9153e-02]],\n",
              "              \n",
              "                       [[-5.4931e-02,  6.8876e-02, -1.0108e-01],\n",
              "                        [-3.3153e-02, -9.1902e-02, -4.7284e-02],\n",
              "                        [ 4.4759e-02, -7.5529e-02, -9.1158e-02]]],\n",
              "              \n",
              "              \n",
              "                      [[[ 7.5371e-02,  5.6270e-02, -1.1527e-03],\n",
              "                        [-7.4309e-02, -2.7927e-02, -3.4129e-02],\n",
              "                        [ 6.5100e-02, -3.4478e-02, -3.0360e-02]],\n",
              "              \n",
              "                       [[-7.4720e-02, -4.9646e-02,  5.7074e-02],\n",
              "                        [ 6.7914e-02,  1.5315e-02, -3.9549e-02],\n",
              "                        [ 1.0124e-01,  2.0806e-02, -4.0688e-02]],\n",
              "              \n",
              "                       [[-3.6535e-02, -1.4752e-02,  4.9974e-02],\n",
              "                        [ 3.8555e-02,  7.6418e-02, -4.7494e-03],\n",
              "                        [ 8.7183e-02, -4.2816e-02, -4.8547e-02]],\n",
              "              \n",
              "                       [[-3.8927e-02, -9.8896e-02, -6.9195e-02],\n",
              "                        [-9.5382e-02, -6.2294e-03,  9.9374e-04],\n",
              "                        [-2.7358e-02, -7.2035e-02,  9.5637e-02]],\n",
              "              \n",
              "                       [[-3.4926e-02,  5.0233e-02,  7.3408e-02],\n",
              "                        [-6.9291e-02, -1.3179e-02,  6.0923e-02],\n",
              "                        [ 1.0218e-01, -1.3299e-02,  7.6382e-02]],\n",
              "              \n",
              "                       [[-8.2732e-02, -6.8489e-02,  8.6682e-02],\n",
              "                        [-9.9801e-03,  1.0414e-01,  7.6651e-03],\n",
              "                        [-4.3714e-02,  1.0011e-01,  9.2179e-02]],\n",
              "              \n",
              "                       [[ 9.7826e-03, -6.3900e-02, -4.5639e-03],\n",
              "                        [-5.0693e-02,  7.6810e-02,  4.8829e-03],\n",
              "                        [ 2.2191e-02,  6.3927e-02,  3.4916e-02]],\n",
              "              \n",
              "                       [[-6.5803e-02,  8.7566e-02,  6.4758e-02],\n",
              "                        [-6.5073e-02,  7.9700e-02,  2.9905e-02],\n",
              "                        [-2.0750e-02, -7.5385e-02, -1.7490e-02]],\n",
              "              \n",
              "                       [[-1.0335e-01,  6.0163e-02,  7.6343e-02],\n",
              "                        [-3.0347e-02,  9.7720e-02, -3.9032e-02],\n",
              "                        [ 1.8051e-02, -7.3459e-02, -4.4565e-03]],\n",
              "              \n",
              "                       [[ 4.2610e-02,  4.5403e-02, -3.5346e-03],\n",
              "                        [-5.3154e-02,  7.3680e-02,  6.9788e-02],\n",
              "                        [ 1.6916e-02, -4.8475e-02,  2.2349e-02]]],\n",
              "              \n",
              "              \n",
              "                      [[[ 2.8186e-04,  9.6302e-02,  1.5621e-02],\n",
              "                        [ 8.1301e-03,  7.2057e-03,  5.6079e-02],\n",
              "                        [-1.3024e-03,  9.0351e-02,  5.4917e-02]],\n",
              "              \n",
              "                       [[-7.9650e-02, -1.2063e-06, -8.9472e-02],\n",
              "                        [-8.0934e-02,  2.0480e-02,  2.3687e-02],\n",
              "                        [-9.2246e-03,  1.0019e-01, -5.6627e-02]],\n",
              "              \n",
              "                       [[-4.4176e-02, -1.6881e-02,  6.3911e-04],\n",
              "                        [-8.9284e-03,  9.4909e-02, -4.4519e-02],\n",
              "                        [-5.5137e-02,  9.0599e-03,  7.9171e-02]],\n",
              "              \n",
              "                       [[ 2.5019e-02,  5.6787e-02,  2.0406e-02],\n",
              "                        [ 8.9839e-02,  6.3311e-02,  7.5428e-02],\n",
              "                        [-1.4198e-02, -8.7268e-02, -5.0002e-02]],\n",
              "              \n",
              "                       [[ 3.5910e-02,  7.3950e-02, -4.1184e-02],\n",
              "                        [ 8.7218e-02,  1.5150e-02,  4.1869e-04],\n",
              "                        [ 4.1093e-03, -1.8623e-02,  9.8683e-02]],\n",
              "              \n",
              "                       [[ 4.5784e-03,  6.4564e-02, -8.8967e-02],\n",
              "                        [-5.4309e-02,  1.1852e-02,  8.4169e-02],\n",
              "                        [ 5.0184e-02,  2.0076e-02, -1.0414e-01]],\n",
              "              \n",
              "                       [[ 1.9816e-03, -6.9581e-02, -9.0006e-02],\n",
              "                        [ 1.4414e-02, -6.6693e-02,  9.5674e-02],\n",
              "                        [-5.7294e-02,  3.3970e-02,  6.1871e-02]],\n",
              "              \n",
              "                       [[-8.1928e-02,  5.3946e-02, -1.4114e-02],\n",
              "                        [ 5.4619e-02,  1.0201e-01, -4.4922e-02],\n",
              "                        [-4.5653e-02,  8.3753e-02,  1.1722e-02]],\n",
              "              \n",
              "                       [[-1.0513e-02,  7.9971e-02, -5.0928e-02],\n",
              "                        [-5.2047e-03,  7.2403e-02,  4.1195e-02],\n",
              "                        [-6.8180e-02,  2.7398e-02, -8.0368e-02]],\n",
              "              \n",
              "                       [[-5.7245e-02,  6.7779e-02, -2.8093e-02],\n",
              "                        [-5.3691e-02,  7.4717e-03,  2.5759e-02],\n",
              "                        [-6.5524e-02, -7.1084e-02, -1.0209e-01]]],\n",
              "              \n",
              "              \n",
              "                      [[[ 2.7236e-02, -6.8013e-02,  8.0331e-03],\n",
              "                        [-2.3576e-02, -6.8923e-02, -3.3636e-02],\n",
              "                        [-8.1027e-02, -5.5797e-02, -3.2857e-03]],\n",
              "              \n",
              "                       [[-9.0116e-02, -9.2447e-02,  7.8958e-02],\n",
              "                        [ 9.9188e-03, -4.6618e-02, -3.5047e-03],\n",
              "                        [ 7.8168e-02, -8.7939e-02, -5.5886e-02]],\n",
              "              \n",
              "                       [[-7.6226e-02, -7.6634e-03, -3.6274e-03],\n",
              "                        [-8.2146e-02,  7.3163e-02, -8.0946e-02],\n",
              "                        [ 9.8414e-02, -7.2560e-02, -1.4446e-02]],\n",
              "              \n",
              "                       [[ 1.9710e-02, -4.6852e-02,  9.6939e-02],\n",
              "                        [-7.2673e-02, -5.8427e-03, -7.7398e-02],\n",
              "                        [ 2.9261e-02,  8.9871e-02,  9.7776e-02]],\n",
              "              \n",
              "                       [[ 1.2514e-02, -5.2773e-02,  1.0244e-01],\n",
              "                        [ 7.8667e-03,  7.1317e-02, -5.4751e-02],\n",
              "                        [-4.8920e-02, -8.7504e-02,  9.6990e-02]],\n",
              "              \n",
              "                       [[ 1.7486e-02, -7.5704e-02,  9.0535e-03],\n",
              "                        [-4.5211e-02,  5.2659e-03,  3.4988e-02],\n",
              "                        [-5.2308e-02,  1.8394e-02, -6.6553e-02]],\n",
              "              \n",
              "                       [[ 2.0312e-02, -1.0178e-01,  1.6797e-02],\n",
              "                        [ 1.0473e-01,  9.7094e-02,  3.8451e-02],\n",
              "                        [ 7.7563e-02,  1.0248e-01,  2.9870e-02]],\n",
              "              \n",
              "                       [[ 3.5156e-02,  1.3707e-02,  9.3322e-02],\n",
              "                        [ 9.0551e-02, -4.9570e-02, -4.3333e-03],\n",
              "                        [-5.3110e-02,  3.7824e-02, -1.0214e-01]],\n",
              "              \n",
              "                       [[ 3.7301e-02, -2.8929e-02,  3.8227e-02],\n",
              "                        [ 3.2899e-02, -5.2454e-02,  5.4687e-02],\n",
              "                        [ 4.4762e-02, -8.9602e-02,  1.0517e-01]],\n",
              "              \n",
              "                       [[ 9.0731e-02,  6.5584e-02, -1.0699e-02],\n",
              "                        [ 3.7345e-02, -5.7028e-02, -3.5818e-02],\n",
              "                        [ 4.9749e-02,  4.6925e-02,  4.1741e-02]]],\n",
              "              \n",
              "              \n",
              "                      [[[-1.0053e-01,  8.7350e-02, -4.4028e-02],\n",
              "                        [ 9.1223e-02,  8.6852e-02,  3.9070e-02],\n",
              "                        [ 1.0502e-01,  6.0528e-02,  6.1821e-02]],\n",
              "              \n",
              "                       [[-3.5794e-02,  9.7766e-02,  2.7627e-02],\n",
              "                        [ 6.2280e-02, -2.3834e-02,  7.6340e-02],\n",
              "                        [ 9.3509e-02, -8.0770e-02,  8.6415e-02]],\n",
              "              \n",
              "                       [[-6.9664e-02, -7.2571e-02, -8.8089e-02],\n",
              "                        [ 3.0459e-02, -7.9144e-02, -3.9680e-02],\n",
              "                        [-5.2988e-02,  2.8172e-02, -1.0349e-01]],\n",
              "              \n",
              "                       [[-4.8324e-02,  7.7112e-04,  9.4660e-03],\n",
              "                        [-4.7605e-02,  3.7764e-02, -6.9544e-02],\n",
              "                        [-8.9270e-02, -1.4986e-02, -5.6989e-02]],\n",
              "              \n",
              "                       [[ 6.6443e-02, -7.2049e-02, -8.8494e-03],\n",
              "                        [ 4.3782e-02, -9.2311e-02,  8.1599e-02],\n",
              "                        [-4.7895e-02, -2.8684e-02, -6.4480e-02]],\n",
              "              \n",
              "                       [[-3.9279e-02, -4.0645e-02, -9.3801e-02],\n",
              "                        [ 3.6019e-02, -3.3768e-04,  1.0311e-01],\n",
              "                        [ 7.1117e-02,  9.1699e-02,  3.1014e-02]],\n",
              "              \n",
              "                       [[ 5.5388e-02,  9.8704e-02,  8.6545e-02],\n",
              "                        [-8.0996e-02, -2.3636e-02, -1.0166e-01],\n",
              "                        [ 3.9877e-03, -3.7229e-02,  9.1486e-02]],\n",
              "              \n",
              "                       [[ 1.6666e-02,  1.1601e-03, -7.6248e-02],\n",
              "                        [-8.2718e-02,  1.6594e-02, -5.2376e-02],\n",
              "                        [-4.8409e-02,  7.3938e-02, -5.4952e-02]],\n",
              "              \n",
              "                       [[-4.6918e-02,  8.0934e-02,  4.1183e-02],\n",
              "                        [-5.9894e-02,  3.1923e-02,  5.3141e-02],\n",
              "                        [-9.3625e-02,  1.9691e-02,  2.4083e-02]],\n",
              "              \n",
              "                       [[-4.1054e-03,  1.0107e-01, -6.9673e-02],\n",
              "                        [ 5.7144e-02, -5.5995e-02, -9.0242e-02],\n",
              "                        [ 7.1838e-02, -5.0567e-02,  4.9544e-03]]]], device='cuda:0')),\n",
              "             ('block2.2.bias',\n",
              "              tensor([ 0.0554, -0.0880, -0.0902,  0.0359,  0.0919, -0.0112,  0.0742,  0.0370,\n",
              "                       0.0301, -0.0672], device='cuda:0')),\n",
              "             ('classifier.1.weight',\n",
              "              tensor([[ 0.0430,  0.0207,  0.0070,  ..., -0.0185, -0.0242,  0.0161],\n",
              "                      [ 0.0262, -0.0297, -0.0210,  ...,  0.0022, -0.0396,  0.0386],\n",
              "                      [-0.0192,  0.0141,  0.0311,  ...,  0.0246, -0.0386, -0.0130],\n",
              "                      ...,\n",
              "                      [-0.0008,  0.0111,  0.0023,  ...,  0.0100,  0.0428,  0.0254],\n",
              "                      [-0.0044,  0.0077,  0.0109,  ...,  0.0100,  0.0354,  0.0155],\n",
              "                      [ 0.0365,  0.0180,  0.0087,  ..., -0.0072, -0.0322, -0.0033]],\n",
              "                     device='cuda:0')),\n",
              "             ('classifier.1.bias',\n",
              "              tensor([ 0.0261, -0.0221,  0.0208, -0.0444, -0.0171, -0.0142, -0.0397,  0.0161,\n",
              "                      -0.0354,  0.0261], device='cuda:0'))])"
            ]
          },
          "metadata": {},
          "execution_count": 182
        }
      ]
    },
    {
      "cell_type": "code",
      "source": [
        "dummy_x = torch.rand(size=(1,28,28)).unsqueeze(dim=0).to(device)\n",
        "dummy_x"
      ],
      "metadata": {
        "colab": {
          "base_uri": "https://localhost:8080/"
        },
        "id": "ZLd5yo9QhmWy",
        "outputId": "64581137-3536-4552-de3e-ce398f40d6ff"
      },
      "execution_count": 183,
      "outputs": [
        {
          "output_type": "execute_result",
          "data": {
            "text/plain": [
              "tensor([[[[0.6024, 0.5066, 0.2334, 0.3298, 0.6214, 0.9807, 0.2605, 0.1598,\n",
              "           0.2782, 0.1408, 0.4342, 0.1436, 0.8625, 0.8549, 0.1819, 0.9410,\n",
              "           0.6037, 0.1819, 0.6661, 0.0462, 0.2341, 0.1391, 0.2219, 0.3918,\n",
              "           0.6139, 0.5954, 0.0113, 0.0214],\n",
              "          [0.4241, 0.9267, 0.6852, 0.9463, 0.2631, 0.6394, 0.0647, 0.7602,\n",
              "           0.4877, 0.4621, 0.2300, 0.0631, 0.3159, 0.4528, 0.2345, 0.7090,\n",
              "           0.4132, 0.5492, 0.0344, 0.6408, 0.2555, 0.1222, 0.2993, 0.0453,\n",
              "           0.1184, 0.8728, 0.9093, 0.1527],\n",
              "          [0.6084, 0.2425, 0.9679, 0.8052, 0.6988, 0.0923, 0.2541, 0.3949,\n",
              "           0.0530, 0.2078, 0.6316, 0.0930, 0.6330, 0.4886, 0.4588, 0.3539,\n",
              "           0.2313, 0.0325, 0.1598, 0.8776, 0.4629, 0.9869, 0.5264, 0.4411,\n",
              "           0.7998, 0.0293, 0.1901, 0.7868],\n",
              "          [0.3696, 0.8956, 0.4543, 0.8566, 0.5243, 0.5519, 0.0777, 0.3272,\n",
              "           0.5251, 0.7285, 0.5970, 0.3914, 0.5034, 0.9298, 0.8335, 0.6706,\n",
              "           0.1397, 0.3319, 0.8192, 0.9501, 0.2636, 0.7125, 0.3829, 0.8172,\n",
              "           0.4249, 0.1025, 0.0051, 0.4813],\n",
              "          [0.6474, 0.2053, 0.8934, 0.7372, 0.8015, 0.7304, 0.0178, 0.4083,\n",
              "           0.7597, 0.7475, 0.0451, 0.2166, 0.8644, 0.0860, 0.8789, 0.4035,\n",
              "           0.5367, 0.7439, 0.6346, 0.1795, 0.6629, 0.0707, 0.2477, 0.4122,\n",
              "           0.4000, 0.8640, 0.2271, 0.9196],\n",
              "          [0.7329, 0.6627, 0.8561, 0.1585, 0.0692, 0.5187, 0.7465, 0.7524,\n",
              "           0.5208, 0.9782, 0.6776, 0.7160, 0.2577, 0.6525, 0.3128, 0.0961,\n",
              "           0.1747, 0.1981, 0.4246, 0.2906, 0.9594, 0.7067, 0.0843, 0.5210,\n",
              "           0.9312, 0.4798, 0.5811, 0.6365],\n",
              "          [0.3350, 0.1763, 0.3126, 0.3695, 0.8934, 0.0936, 0.5672, 0.3089,\n",
              "           0.4468, 0.4556, 0.3060, 0.6154, 0.6182, 0.2129, 0.8072, 0.9510,\n",
              "           0.2929, 0.6019, 0.3149, 0.8427, 0.4612, 0.0542, 0.6163, 0.9143,\n",
              "           0.5020, 0.3720, 0.4863, 0.7831],\n",
              "          [0.9288, 0.3749, 0.7664, 0.7786, 0.9467, 0.8582, 0.0870, 0.0869,\n",
              "           0.0851, 0.8142, 0.2461, 0.7762, 0.4256, 0.2940, 0.8762, 0.4034,\n",
              "           0.2302, 0.4234, 0.1820, 0.0186, 0.4124, 0.4718, 0.2150, 0.9432,\n",
              "           0.3883, 0.3730, 0.8962, 0.5556],\n",
              "          [0.3824, 0.6150, 0.0482, 0.9916, 0.6319, 0.6758, 0.1312, 0.8823,\n",
              "           0.0891, 0.3263, 0.1794, 0.2475, 0.6067, 0.0041, 0.0105, 0.6142,\n",
              "           0.6648, 0.5072, 0.3100, 0.3601, 0.4309, 0.3986, 0.1907, 0.8764,\n",
              "           0.6012, 0.1655, 0.3984, 0.1382],\n",
              "          [0.2079, 0.8798, 0.6526, 0.7190, 0.4351, 0.3752, 0.5646, 0.1448,\n",
              "           0.0025, 0.8515, 0.5102, 0.8033, 0.8762, 0.7187, 0.3291, 0.4083,\n",
              "           0.4739, 0.5299, 0.5194, 0.1091, 0.2251, 0.8644, 0.5160, 0.2733,\n",
              "           0.8380, 0.3516, 0.2966, 0.8494],\n",
              "          [0.1055, 0.2605, 0.8784, 0.4511, 0.2938, 0.9149, 0.5761, 0.0302,\n",
              "           0.1303, 0.3732, 0.4726, 0.1235, 0.3116, 0.6690, 0.0337, 0.0314,\n",
              "           0.6300, 0.5954, 0.0171, 0.0348, 0.9154, 0.9990, 0.2815, 0.9981,\n",
              "           0.8453, 0.9444, 0.2848, 0.3776],\n",
              "          [0.7948, 0.6855, 0.1009, 0.7992, 0.9876, 0.1825, 0.0358, 0.0237,\n",
              "           0.1837, 0.2798, 0.2174, 0.0621, 0.8123, 0.9890, 0.9186, 0.8131,\n",
              "           0.7220, 0.3029, 0.0965, 0.2047, 0.7264, 0.6094, 0.5638, 0.1965,\n",
              "           0.2648, 0.2891, 0.4365, 0.4057],\n",
              "          [0.5529, 0.3335, 0.4433, 0.1820, 0.7471, 0.0845, 0.5913, 0.0243,\n",
              "           0.2149, 0.9835, 0.4064, 0.4081, 0.7579, 0.0687, 0.3848, 0.4839,\n",
              "           0.5563, 0.4172, 0.1473, 0.0417, 0.5054, 0.9175, 0.2755, 0.5632,\n",
              "           0.8178, 0.0115, 0.9425, 0.9223],\n",
              "          [0.2813, 0.9358, 0.8416, 0.9154, 0.9330, 0.6147, 0.7747, 0.2323,\n",
              "           0.5840, 0.9795, 0.3277, 0.6178, 0.2445, 0.6848, 0.6628, 0.8775,\n",
              "           0.5028, 0.7387, 0.8031, 0.5805, 0.0283, 0.8545, 0.1798, 0.7316,\n",
              "           0.1259, 0.6456, 0.4064, 0.0522],\n",
              "          [0.7283, 0.3837, 0.2919, 0.3446, 0.8400, 0.7938, 0.6362, 0.7092,\n",
              "           0.7568, 0.7069, 0.9257, 0.8011, 0.2427, 0.4238, 0.7332, 0.8978,\n",
              "           0.0845, 0.2520, 0.2520, 0.9723, 0.9908, 0.2765, 0.3455, 0.5089,\n",
              "           0.5293, 0.3575, 0.1352, 0.2339],\n",
              "          [0.4583, 0.5541, 0.5192, 0.0408, 0.9427, 0.2088, 0.3776, 0.9638,\n",
              "           0.5033, 0.1003, 0.7880, 0.3119, 0.9847, 0.3549, 0.1263, 0.1280,\n",
              "           0.5027, 0.4195, 0.8893, 0.5299, 0.1994, 0.5560, 0.1302, 0.5746,\n",
              "           0.6321, 0.0286, 0.1580, 0.2489],\n",
              "          [0.3252, 0.4092, 0.7097, 0.1053, 0.7586, 0.1534, 0.9391, 0.2146,\n",
              "           0.1175, 0.8583, 0.9067, 0.3306, 0.9384, 0.5563, 0.6816, 0.4707,\n",
              "           0.3634, 0.3191, 0.0713, 0.8649, 0.7649, 0.9543, 0.0085, 0.9940,\n",
              "           0.8335, 0.6363, 0.2854, 0.8528],\n",
              "          [0.8206, 0.9303, 0.0872, 0.5760, 0.6801, 0.0081, 0.9680, 0.8121,\n",
              "           0.0985, 0.0707, 0.5204, 0.9010, 0.6452, 0.5703, 0.4676, 0.0032,\n",
              "           0.8009, 0.8189, 0.1484, 0.4079, 0.9861, 0.3084, 0.1567, 0.7860,\n",
              "           0.7310, 0.9307, 0.2847, 0.6216],\n",
              "          [0.6204, 0.9068, 0.7802, 0.6175, 0.4297, 0.4108, 0.2302, 0.7103,\n",
              "           0.9261, 0.2458, 0.1583, 0.8723, 0.5672, 0.2643, 0.8238, 0.0926,\n",
              "           0.2543, 0.3393, 0.4841, 0.6066, 0.7391, 0.3254, 0.4515, 0.2392,\n",
              "           0.1712, 0.6091, 0.8687, 0.9315],\n",
              "          [0.1098, 0.7366, 0.3457, 0.4751, 0.4791, 0.9319, 0.9190, 0.0951,\n",
              "           0.6084, 0.7924, 0.6341, 0.4884, 0.2640, 0.1472, 0.0079, 0.4903,\n",
              "           0.3071, 0.6180, 0.2886, 0.9153, 0.1472, 0.9437, 0.3018, 0.5773,\n",
              "           0.3166, 0.7107, 0.8946, 0.9675],\n",
              "          [0.1537, 0.8432, 0.8307, 0.0897, 0.7021, 0.5967, 0.7744, 0.9381,\n",
              "           0.5114, 0.3149, 0.2746, 0.5646, 0.4266, 0.1419, 0.5139, 0.7863,\n",
              "           0.5166, 0.8143, 0.3111, 0.8921, 0.6191, 0.3320, 0.7411, 0.7459,\n",
              "           0.2856, 0.4091, 0.7581, 0.0594],\n",
              "          [0.6905, 0.6096, 0.1592, 0.4384, 0.6463, 0.8478, 0.8656, 0.1775,\n",
              "           0.1749, 0.7364, 0.9933, 0.9270, 0.6969, 0.9741, 0.2705, 0.4858,\n",
              "           0.0922, 0.1932, 0.1619, 0.0464, 0.6411, 0.6292, 0.7013, 0.8314,\n",
              "           0.1017, 0.3557, 0.8934, 0.0575],\n",
              "          [0.8514, 0.6540, 0.0941, 0.6079, 0.5161, 0.5966, 0.3565, 0.7263,\n",
              "           0.8889, 0.8485, 0.4520, 0.0401, 0.9895, 0.6391, 0.9438, 0.6801,\n",
              "           0.5082, 0.7691, 0.7798, 0.4676, 0.5765, 0.4797, 0.8426, 0.7276,\n",
              "           0.4166, 0.9659, 0.9791, 0.9062],\n",
              "          [0.5896, 0.5306, 0.2389, 0.8645, 0.1407, 0.0690, 0.6509, 0.0323,\n",
              "           0.6594, 0.2592, 0.4937, 0.3074, 0.9043, 0.1284, 0.5919, 0.5071,\n",
              "           0.0242, 0.8866, 0.5989, 0.0988, 0.0038, 0.7211, 0.9104, 0.3861,\n",
              "           0.3523, 0.0736, 0.8376, 0.3116],\n",
              "          [0.2702, 0.6902, 0.9373, 0.7314, 0.6442, 0.9425, 0.5213, 0.5773,\n",
              "           0.4635, 0.1867, 0.5919, 0.2403, 0.7894, 0.1551, 0.0913, 0.4034,\n",
              "           0.8714, 0.1201, 0.3407, 0.4617, 0.2813, 0.7362, 0.9368, 0.7706,\n",
              "           0.3946, 0.1074, 0.0872, 0.3803],\n",
              "          [0.3425, 0.1208, 0.6237, 0.3105, 0.6450, 0.2345, 0.4549, 0.3495,\n",
              "           0.8071, 0.0437, 0.3028, 0.6068, 0.3591, 0.4914, 0.8379, 0.5716,\n",
              "           0.5616, 0.6461, 0.2310, 0.3003, 0.7395, 0.5725, 0.8262, 0.4362,\n",
              "           0.9697, 0.7986, 0.3599, 0.2445],\n",
              "          [0.6010, 0.0829, 0.2710, 0.6532, 0.5436, 0.7263, 0.2909, 0.9208,\n",
              "           0.2250, 0.2438, 0.8345, 0.4035, 0.6430, 0.4112, 0.1464, 0.4800,\n",
              "           0.7268, 0.8370, 0.8814, 0.4824, 0.8621, 0.6410, 0.5185, 0.5094,\n",
              "           0.4523, 0.6428, 0.4742, 0.8216],\n",
              "          [0.4238, 0.2223, 0.6453, 0.2198, 0.8105, 0.9084, 0.5803, 0.3997,\n",
              "           0.4774, 0.7342, 0.1180, 0.3662, 0.1954, 0.0478, 0.1422, 0.1787,\n",
              "           0.8807, 0.8056, 0.1606, 0.1054, 0.9478, 0.6187, 0.7302, 0.5781,\n",
              "           0.3132, 0.2299, 0.7690, 0.0061]]]], device='cuda:0')"
            ]
          },
          "metadata": {},
          "execution_count": 183
        }
      ]
    },
    {
      "cell_type": "code",
      "source": [
        "model_2x(dummy_x)"
      ],
      "metadata": {
        "colab": {
          "base_uri": "https://localhost:8080/"
        },
        "id": "k09FOV0HhmSK",
        "outputId": "a53d8378-e51b-4918-f25d-bd317497a89f"
      },
      "execution_count": 184,
      "outputs": [
        {
          "output_type": "execute_result",
          "data": {
            "text/plain": [
              "tensor([[ 0.0567, -0.0251,  0.0545, -0.0267,  0.0632, -0.0008, -0.0992,  0.0570,\n",
              "         -0.0484,  0.0204]], device='cuda:0', grad_fn=<AddmmBackward0>)"
            ]
          },
          "metadata": {},
          "execution_count": 184
        }
      ]
    },
    {
      "cell_type": "code",
      "source": [
        "model_2x(dummy_x).shape"
      ],
      "metadata": {
        "colab": {
          "base_uri": "https://localhost:8080/"
        },
        "id": "hd-9nHdqhmPF",
        "outputId": "34614e7b-fae1-43f8-d5fc-a51bd76635f9"
      },
      "execution_count": 185,
      "outputs": [
        {
          "output_type": "execute_result",
          "data": {
            "text/plain": [
              "torch.Size([1, 10])"
            ]
          },
          "metadata": {},
          "execution_count": 185
        }
      ]
    },
    {
      "cell_type": "code",
      "source": [],
      "metadata": {
        "id": "QFsCC8pxhmMJ"
      },
      "execution_count": 185,
      "outputs": []
    },
    {
      "cell_type": "markdown",
      "source": [
        "# 9. Train the model you built in exercise 8. for 5 epochs on CPU and GPU and see how long it takes on each."
      ],
      "metadata": {
        "id": "AsDm4vT6hnyy"
      }
    },
    {
      "cell_type": "code",
      "source": [
        "# Setup loss and optimizer\n",
        "loss_fn = nn.CrossEntropyLoss()\n",
        "optimizer = torch.optim.SGD(params=model_2x.parameters(),\n",
        "                             lr=0.1)"
      ],
      "metadata": {
        "id": "5ha5wlQxhmJ1"
      },
      "execution_count": 186,
      "outputs": []
    },
    {
      "cell_type": "code",
      "source": [],
      "metadata": {
        "id": "XjEMMLNWdy4v"
      },
      "execution_count": 186,
      "outputs": []
    },
    {
      "cell_type": "code",
      "source": [
        "def train_step(model: torch.nn.Module,\n",
        "               data_loader: torch.utils.data.DataLoader,\n",
        "               loss_fn: torch.nn.Module,\n",
        "               optimizer: torch.optim.Optimizer,\n",
        "               accuracy_fn,\n",
        "               device: torch.device = device):\n",
        "  train_loss, train_acc = 0, 0\n",
        "  model.train()\n",
        "  model.to(device)\n",
        "  for batch, (X, y) in enumerate(data_loader):\n",
        "    X, y = X.to(device), y.to(device)\n",
        "\n",
        "    y_pred = model(X)\n",
        "\n",
        "    loss = loss_fn(y_pred,y)\n",
        "    train_loss += loss\n",
        "    train_acc += accuracy_fn(y_true=y, y_pred=y_pred.argmax(dim=1))\n",
        "\n",
        "    optimizer.zero_grad()\n",
        "    loss.backward()\n",
        "    optimizer.step()\n",
        "\n",
        "  train_loss /= len(data_loader)\n",
        "  train_acc /= len(data_loader)\n",
        "  print(f\"Train loss: {train_loss:.5f} | Train accuracy: {train_acc:.2f}%\")\n",
        "\n",
        "def test_step(model: torch.nn.Module,\n",
        "               data_loader: torch.utils.data.DataLoader,\n",
        "               loss_fn: torch.nn.Module,\n",
        "               accuracy_fn,\n",
        "               device: torch.device = device):\n",
        "  test_loss, test_acc = 0, 0\n",
        "  model.eval()\n",
        "  model.to(device)\n",
        "  with torch.inference_mode():\n",
        "    for batch, (X, y) in enumerate(data_loader):\n",
        "      X, y = X.to(device), y.to(device)\n",
        "\n",
        "      test_pred = model(X)\n",
        "\n",
        "      test_loss += loss_fn(test_pred,y)\n",
        "      test_acc += accuracy_fn(y_true=y, y_pred=test_pred.argmax(dim=1))\n",
        "\n",
        "    test_loss /= len(data_loader)\n",
        "    test_acc /= len(data_loader)\n",
        "    print(f\"Test loss: {test_loss:.5f} | Test accuracy: {test_acc:.2f}%\")\n",
        "\n",
        "\n"
      ],
      "metadata": {
        "id": "YGtJKD5gJ4U-"
      },
      "execution_count": 187,
      "outputs": []
    },
    {
      "cell_type": "code",
      "source": [],
      "metadata": {
        "id": "J0Nsnq-rJ4Jf"
      },
      "execution_count": 187,
      "outputs": []
    },
    {
      "cell_type": "code",
      "source": [
        "torch.manual_seed(42)\n",
        "from tqdm.auto import tqdm\n",
        "from timeit import default_timer as timer\n",
        "\n",
        "time_start = timer()\n",
        "\n",
        "epochs=5\n",
        "\n",
        "for epoch in tqdm(range(epochs)):\n",
        "  print(f\"Epoch: {epoch}\\n---------\")\n",
        "  train_step(data_loader=train_dataloader,\n",
        "    model=model_2x,\n",
        "    loss_fn=loss_fn,\n",
        "    optimizer=optimizer,\n",
        "    accuracy_fn=accuracy_fn,\n",
        "    device=device\n",
        "  )\n",
        "  test_step(data_loader=test_dataloader,\n",
        "    model=model_2x,\n",
        "    loss_fn=loss_fn,\n",
        "    accuracy_fn=accuracy_fn,\n",
        "    device=device\n",
        "  )\n",
        "\n",
        "time_end = timer()\n",
        "total_train_time_model_2 = print_train_time(start=time_start,\n",
        "                                           end=time_end,\n",
        "                                           device=device)"
      ],
      "metadata": {
        "id": "J_Ms4T6jhmGE",
        "colab": {
          "base_uri": "https://localhost:8080/",
          "height": 413,
          "referenced_widgets": [
            "f4c689b8e9f2478798b6abce3e8e429b",
            "3b9479d337aa40379dd13fd66ff7811c",
            "87e0e4e85c8743d4b28842ac498b2189",
            "cf7a32fc06c142e182dce723f4c0d358",
            "62cae1d6e70f41069a930e2d7cd185de",
            "c1efee33a8cb4a66baa9b7e895662687",
            "25093fe14a164302a0248b8dfe71b3fd",
            "1d5c47cb3d0f476b99648fdf8eb647ba",
            "2cbda63b2c41458b9066debffb8e6ac6",
            "55a6c8083dec4f39b3d486e41d78566a",
            "9d444b9772804b56ba840f2cdd3f3ed6"
          ]
        },
        "outputId": "0bb3897a-6de9-45aa-d19a-f849e9596226"
      },
      "execution_count": 188,
      "outputs": [
        {
          "output_type": "display_data",
          "data": {
            "text/plain": [
              "  0%|          | 0/5 [00:00<?, ?it/s]"
            ],
            "application/vnd.jupyter.widget-view+json": {
              "version_major": 2,
              "version_minor": 0,
              "model_id": "f4c689b8e9f2478798b6abce3e8e429b"
            }
          },
          "metadata": {}
        },
        {
          "output_type": "stream",
          "name": "stdout",
          "text": [
            "Epoch: 0\n",
            "---------\n",
            "Train loss: 0.47493 | Train accuracy: 83.18%\n",
            "Test loss: 0.08244 | Test accuracy: 97.47%\n",
            "Epoch: 1\n",
            "---------\n",
            "Train loss: 0.07930 | Train accuracy: 97.49%\n",
            "Test loss: 0.05502 | Test accuracy: 98.20%\n",
            "Epoch: 2\n",
            "---------\n",
            "Train loss: 0.06297 | Train accuracy: 98.05%\n",
            "Test loss: 0.05641 | Test accuracy: 98.16%\n",
            "Epoch: 3\n",
            "---------\n",
            "Train loss: 0.05487 | Train accuracy: 98.30%\n",
            "Test loss: 0.05209 | Test accuracy: 98.23%\n",
            "Epoch: 4\n",
            "---------\n",
            "Train loss: 0.04937 | Train accuracy: 98.50%\n",
            "Test loss: 0.04470 | Test accuracy: 98.44%\n",
            "Train time on cuda: 74.868 seconds\n"
          ]
        }
      ]
    },
    {
      "cell_type": "code",
      "source": [
        "device = \"cuda\" if torch.cuda.is_available() else \"cpu\"\n",
        "device"
      ],
      "metadata": {
        "colab": {
          "base_uri": "https://localhost:8080/",
          "height": 35
        },
        "id": "7Um9hB_xnVSQ",
        "outputId": "079b4994-064d-4499-c95d-7ddd7e7c1fce"
      },
      "execution_count": 189,
      "outputs": [
        {
          "output_type": "execute_result",
          "data": {
            "text/plain": [
              "'cuda'"
            ],
            "application/vnd.google.colaboratory.intrinsic+json": {
              "type": "string"
            }
          },
          "metadata": {},
          "execution_count": 189
        }
      ]
    },
    {
      "cell_type": "code",
      "source": [
        "model_2x2 = MNISTModel(input_shape=1, hidden_units=10, output_shape=len(class_names)).to(device)\n",
        "model_2x2"
      ],
      "metadata": {
        "colab": {
          "base_uri": "https://localhost:8080/"
        },
        "id": "WFMx27_Hnrde",
        "outputId": "f661f857-0374-4ef7-85ce-39c2da8f7bd5"
      },
      "execution_count": 190,
      "outputs": [
        {
          "output_type": "execute_result",
          "data": {
            "text/plain": [
              "MNISTModel(\n",
              "  (block1): Sequential(\n",
              "    (0): Conv2d(1, 10, kernel_size=(3, 3), stride=(1, 1), padding=(1, 1))\n",
              "    (1): ReLU()\n",
              "    (2): Conv2d(10, 10, kernel_size=(3, 3), stride=(1, 1), padding=(1, 1))\n",
              "    (3): ReLU()\n",
              "    (4): MaxPool2d(kernel_size=2, stride=2, padding=0, dilation=1, ceil_mode=False)\n",
              "  )\n",
              "  (block2): Sequential(\n",
              "    (0): Conv2d(10, 10, kernel_size=(3, 3), stride=(1, 1), padding=(1, 1))\n",
              "    (1): ReLU()\n",
              "    (2): Conv2d(10, 10, kernel_size=(3, 3), stride=(1, 1), padding=(1, 1))\n",
              "    (3): ReLU()\n",
              "    (4): MaxPool2d(kernel_size=2, stride=2, padding=0, dilation=1, ceil_mode=False)\n",
              "  )\n",
              "  (classifier): Sequential(\n",
              "    (0): Flatten(start_dim=1, end_dim=-1)\n",
              "    (1): Linear(in_features=490, out_features=10, bias=True)\n",
              "  )\n",
              ")"
            ]
          },
          "metadata": {},
          "execution_count": 190
        }
      ]
    },
    {
      "cell_type": "code",
      "source": [
        "# Setup loss and optimizer\n",
        "loss_fn2 = nn.CrossEntropyLoss()\n",
        "optimizer2 = torch.optim.SGD(params=model_2x2.parameters(),\n",
        "                             lr=0.1)"
      ],
      "metadata": {
        "id": "TDzX2tzvnx1x"
      },
      "execution_count": 191,
      "outputs": []
    },
    {
      "cell_type": "code",
      "source": [
        "torch.manual_seed(42)\n",
        "from tqdm.auto import tqdm\n",
        "from timeit import default_timer as timer\n",
        "\n",
        "time_start = timer()\n",
        "\n",
        "epochs=5\n",
        "\n",
        "for epoch in tqdm(range(epochs)):\n",
        "  print(f\"Epoch: {epoch}\\n---------\")\n",
        "  train_step(data_loader=train_dataloader,\n",
        "    model=model_2x2,\n",
        "    loss_fn=loss_fn2,\n",
        "    optimizer=optimizer2,\n",
        "    accuracy_fn=accuracy_fn,\n",
        "    device=device\n",
        "  )\n",
        "  test_step(data_loader=test_dataloader,\n",
        "    model=model_2x2,\n",
        "    loss_fn=loss_fn2,\n",
        "    accuracy_fn=accuracy_fn,\n",
        "    device=device\n",
        "  )\n",
        "\n",
        "time_end = timer()\n",
        "total_train_time_model_2 = print_train_time(start=time_start,\n",
        "                                           end=time_end,\n",
        "                                           device=device)"
      ],
      "metadata": {
        "id": "EwVtxQ0yhmAA",
        "colab": {
          "base_uri": "https://localhost:8080/",
          "height": 413,
          "referenced_widgets": [
            "2f52692a69d74bcb9f8df263e7c13cb0",
            "14f3b3f7b5594113b252704c59e08d5d",
            "0e2c8dc9c41c4d508040a14666341057",
            "3158d936c3b0468e8fe0fdbf0eeecdab",
            "9adbb0d5b52641d391e7f0df91b3bf2e",
            "acf6e941eae0410592556c9838268edd",
            "2c0f92b905f24a81b4493ba4d21ca898",
            "d8b9300c1cae4a37b3e45840ae846891",
            "7531e97a888c479ca55eb8c0f2435dcb",
            "b250088eeca1429ab999d05227e2be57",
            "aecba97ff40140199a29dd2f1883458d"
          ]
        },
        "outputId": "5b8fafad-5245-4e0e-8fb9-98a2e1bb8c0f"
      },
      "execution_count": 192,
      "outputs": [
        {
          "output_type": "display_data",
          "data": {
            "text/plain": [
              "  0%|          | 0/5 [00:00<?, ?it/s]"
            ],
            "application/vnd.jupyter.widget-view+json": {
              "version_major": 2,
              "version_minor": 0,
              "model_id": "2f52692a69d74bcb9f8df263e7c13cb0"
            }
          },
          "metadata": {}
        },
        {
          "output_type": "stream",
          "name": "stdout",
          "text": [
            "Epoch: 0\n",
            "---------\n",
            "Train loss: 0.32484 | Train accuracy: 89.41%\n",
            "Test loss: 0.07270 | Test accuracy: 97.87%\n",
            "Epoch: 1\n",
            "---------\n",
            "Train loss: 0.07843 | Train accuracy: 97.59%\n",
            "Test loss: 0.06039 | Test accuracy: 98.08%\n",
            "Epoch: 2\n",
            "---------\n",
            "Train loss: 0.06162 | Train accuracy: 98.13%\n",
            "Test loss: 0.05422 | Test accuracy: 98.15%\n",
            "Epoch: 3\n",
            "---------\n",
            "Train loss: 0.05375 | Train accuracy: 98.35%\n",
            "Test loss: 0.05468 | Test accuracy: 98.17%\n",
            "Epoch: 4\n",
            "---------\n",
            "Train loss: 0.04791 | Train accuracy: 98.55%\n",
            "Test loss: 0.03915 | Test accuracy: 98.66%\n",
            "Train time on cuda: 60.477 seconds\n"
          ]
        }
      ]
    },
    {
      "cell_type": "markdown",
      "source": [],
      "metadata": {
        "id": "k-JiP6nGztqz"
      }
    },
    {
      "cell_type": "markdown",
      "source": [
        "# 10. Make predictions using your trained model and visualize at least 5 of them comparing the prediciton to the target label."
      ],
      "metadata": {
        "id": "guZeQ9lSs7Kc"
      }
    },
    {
      "cell_type": "code",
      "source": [],
      "metadata": {
        "id": "uLPiKaaOmTFf"
      },
      "execution_count": 192,
      "outputs": []
    },
    {
      "cell_type": "code",
      "source": [],
      "metadata": {
        "id": "YugS3GLjs9Vu"
      },
      "execution_count": null,
      "outputs": []
    },
    {
      "cell_type": "code",
      "source": [],
      "metadata": {
        "id": "zR3WLHkDs9Gu"
      },
      "execution_count": null,
      "outputs": []
    },
    {
      "cell_type": "code",
      "source": [],
      "metadata": {
        "id": "07ORBA_Ts8zs"
      },
      "execution_count": null,
      "outputs": []
    },
    {
      "cell_type": "markdown",
      "source": [
        "# 11. Plot a confusion matrix comparing your model's predictions to the truth labels."
      ],
      "metadata": {
        "id": "_Sr45lp7tATC"
      }
    },
    {
      "cell_type": "code",
      "source": [],
      "metadata": {
        "id": "nC6_5S1Ls8ro"
      },
      "execution_count": null,
      "outputs": []
    },
    {
      "cell_type": "code",
      "source": [],
      "metadata": {
        "id": "V46y7SN0s8mu"
      },
      "execution_count": null,
      "outputs": []
    },
    {
      "cell_type": "code",
      "source": [],
      "metadata": {
        "id": "nx9RnBTds8cF"
      },
      "execution_count": null,
      "outputs": []
    },
    {
      "cell_type": "code",
      "source": [],
      "metadata": {
        "id": "_2TM0srAtDpg"
      },
      "execution_count": null,
      "outputs": []
    },
    {
      "cell_type": "code",
      "source": [],
      "metadata": {
        "id": "dv6Zi-5RtDna"
      },
      "execution_count": null,
      "outputs": []
    },
    {
      "cell_type": "markdown",
      "source": [
        "# 12. Create a random tensor of shape [1, 3, 64, 64] and pass it through a nn.Conv2d() layer with various hyperparameter settings (these can be any settings you choose), what do you notice if the kernel_size parameter goes up and down?"
      ],
      "metadata": {
        "id": "LpKi4jhBtEDl"
      }
    },
    {
      "cell_type": "code",
      "source": [],
      "metadata": {
        "id": "RlZh1RVDtDk1"
      },
      "execution_count": null,
      "outputs": []
    },
    {
      "cell_type": "code",
      "source": [],
      "metadata": {
        "id": "9Ss9ixYptDiy"
      },
      "execution_count": null,
      "outputs": []
    },
    {
      "cell_type": "code",
      "source": [],
      "metadata": {
        "id": "VXqty0tgtDbl"
      },
      "execution_count": null,
      "outputs": []
    },
    {
      "cell_type": "code",
      "source": [],
      "metadata": {
        "id": "P4nHaMSttDYl"
      },
      "execution_count": null,
      "outputs": []
    },
    {
      "cell_type": "markdown",
      "source": [
        "# 13. Use a model similar to the trained model_2 from notebook 03 to make predictions on the test torchvision.datasets.FashionMNIST dataset."
      ],
      "metadata": {
        "id": "3ABYxXqltGll"
      }
    },
    {
      "cell_type": "code",
      "source": [],
      "metadata": {
        "id": "KkteWXHJtDV3"
      },
      "execution_count": null,
      "outputs": []
    },
    {
      "cell_type": "code",
      "source": [],
      "metadata": {
        "id": "pI16_Uuhs8Wc"
      },
      "execution_count": null,
      "outputs": []
    },
    {
      "cell_type": "code",
      "source": [],
      "metadata": {
        "id": "-B1mAN_Ws8Ua"
      },
      "execution_count": null,
      "outputs": []
    },
    {
      "cell_type": "code",
      "source": [],
      "metadata": {
        "id": "C6hjQ5pys8L2"
      },
      "execution_count": null,
      "outputs": []
    }
  ]
}