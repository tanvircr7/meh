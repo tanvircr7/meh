{
  "nbformat": 4,
  "nbformat_minor": 0,
  "metadata": {
    "colab": {
      "provenance": [],
      "authorship_tag": "ABX9TyNM5hrErKSMsQMeRLlKHUNr",
      "include_colab_link": true
    },
    "kernelspec": {
      "name": "python3",
      "display_name": "Python 3"
    },
    "language_info": {
      "name": "python"
    }
  },
  "cells": [
    {
      "cell_type": "markdown",
      "metadata": {
        "id": "view-in-github",
        "colab_type": "text"
      },
      "source": [
        "<a href=\"https://colab.research.google.com/github/tanvircr7/meh/blob/master/ex_16_class_objects_del.ipynb\" target=\"_parent\"><img src=\"https://colab.research.google.com/assets/colab-badge.svg\" alt=\"Open In Colab\"/></a>"
      ]
    },
    {
      "cell_type": "code",
      "execution_count": 21,
      "metadata": {
        "colab": {
          "base_uri": "https://localhost:8080/"
        },
        "id": "coajEuB-bTVZ",
        "outputId": "a12460e9-37a7-4be3-cabc-7afc7cda90d0"
      },
      "outputs": [
        {
          "output_type": "stream",
          "name": "stdout",
          "text": [
            "ID: 1 \n",
            "Name: coder\n",
            "1\n"
          ]
        }
      ],
      "source": [
        "class Employee:\n",
        "\n",
        "    def __init__(self, id, name):\n",
        "        self.id = id\n",
        "        self.name = name\n",
        "\n",
        "    def display(self):\n",
        "        print(f\"ID: {self.id} \\nName: {self.name}\")\n",
        "\n",
        "\n",
        "# Creating a emp instance of Employee class\n",
        "emp = Employee(1, \"coder\")\n",
        "\n",
        "emp.display()\n",
        "print(emp.id)\n"
      ]
    },
    {
      "cell_type": "code",
      "source": [
        "# Deleting the property of object\n",
        "# try:\n",
        "#   del emp.id\n",
        "# except Exception as e:\n",
        "#   print(f\"error {e}\")\n",
        "\n",
        "del emp.id\n",
        "# Deleting the object itself\n",
        "try:\n",
        "    print(emp.id)\n",
        "except NameError:\n",
        "    print(\"emp.id is not defined\")\n",
        "except Exception as e:\n",
        "    print(f'error while PRINTING: {e}')\n"
      ],
      "metadata": {
        "colab": {
          "base_uri": "https://localhost:8080/"
        },
        "id": "cFdz1hdnbhJA",
        "outputId": "510a5f73-066e-4544-cf2e-4ec7bba8a8c8"
      },
      "execution_count": 22,
      "outputs": [
        {
          "output_type": "stream",
          "name": "stdout",
          "text": [
            "error while PRINTING: 'Employee' object has no attribute 'id'\n"
          ]
        }
      ]
    },
    {
      "cell_type": "code",
      "source": [
        "del emp\n",
        "try:\n",
        "    emp.display()  # it will gives error after deleting emp\n",
        "except NameError:\n",
        "    print(\"emp is not defined\")"
      ],
      "metadata": {
        "colab": {
          "base_uri": "https://localhost:8080/"
        },
        "id": "k4_dQ8mzbhN3",
        "outputId": "2ede3da1-68c5-4153-dd1d-6643dbd61051"
      },
      "execution_count": 23,
      "outputs": [
        {
          "output_type": "stream",
          "name": "stdout",
          "text": [
            "emp is not defined\n"
          ]
        }
      ]
    },
    {
      "cell_type": "code",
      "source": [],
      "metadata": {
        "id": "e8zs_3DJbhQo"
      },
      "execution_count": null,
      "outputs": []
    },
    {
      "cell_type": "code",
      "source": [],
      "metadata": {
        "id": "0hhdx5pcbhWN"
      },
      "execution_count": null,
      "outputs": []
    },
    {
      "cell_type": "code",
      "source": [],
      "metadata": {
        "id": "SjQpCSZTbhYv"
      },
      "execution_count": null,
      "outputs": []
    }
  ]
}