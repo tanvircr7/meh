{
  "nbformat": 4,
  "nbformat_minor": 0,
  "metadata": {
    "colab": {
      "provenance": [],
      "authorship_tag": "ABX9TyNYjhQIy3N/E4tXLC0ylCGm",
      "include_colab_link": true
    },
    "kernelspec": {
      "name": "python3",
      "display_name": "Python 3"
    },
    "language_info": {
      "name": "python"
    }
  },
  "cells": [
    {
      "cell_type": "markdown",
      "metadata": {
        "id": "view-in-github",
        "colab_type": "text"
      },
      "source": [
        "<a href=\"https://colab.research.google.com/github/tanvircr7/meh/blob/master/ex_21_generators.ipynb\" target=\"_parent\"><img src=\"https://colab.research.google.com/assets/colab-badge.svg\" alt=\"Open In Colab\"/></a>"
      ]
    },
    {
      "cell_type": "code",
      "source": [
        "# yield doesn't destroy the function unlike return\n",
        "def remote_control_next():\n",
        "  yield \"cnn\"\n",
        "  yield \"bbc\"\n",
        "\n",
        "itr = remote_control_next()"
      ],
      "metadata": {
        "id": "aLZBxVayycFc"
      },
      "execution_count": 22,
      "outputs": []
    },
    {
      "cell_type": "code",
      "execution_count": 23,
      "metadata": {
        "colab": {
          "base_uri": "https://localhost:8080/"
        },
        "id": "sQcEriUZwmHQ",
        "outputId": "d76d5ddd-28a5-4768-9eeb-8676538a2282"
      },
      "outputs": [
        {
          "output_type": "execute_result",
          "data": {
            "text/plain": [
              "<generator object remote_control_next at 0x7a92afe20970>"
            ]
          },
          "metadata": {},
          "execution_count": 23
        }
      ],
      "source": [
        "itr"
      ]
    },
    {
      "cell_type": "code",
      "source": [
        "try:\n",
        "  print(next(itr))\n",
        "except Exception as e:\n",
        "  print(f\"error: {e}\")\n",
        "\n"
      ],
      "metadata": {
        "colab": {
          "base_uri": "https://localhost:8080/"
        },
        "id": "oL-riv1Nyaks",
        "outputId": "23183923-9e6f-4a15-cdc3-113567a16e7d"
      },
      "execution_count": 24,
      "outputs": [
        {
          "output_type": "stream",
          "name": "stdout",
          "text": [
            "cnn\n"
          ]
        }
      ]
    },
    {
      "cell_type": "code",
      "source": [
        "def fib():\n",
        "  a, b = 0, 1\n",
        "  while True:\n",
        "    yield a\n",
        "    a, b = b, a+b\n",
        "\n",
        "for f in fib():\n",
        "  if f > 100:\n",
        "    break\n",
        "  print(f)\n",
        "\n"
      ],
      "metadata": {
        "colab": {
          "base_uri": "https://localhost:8080/"
        },
        "id": "2h6ukdGqwnrm",
        "outputId": "2b5faa24-592e-4f10-ae27-36d194a83dd5"
      },
      "execution_count": 26,
      "outputs": [
        {
          "output_type": "stream",
          "name": "stdout",
          "text": [
            "0\n",
            "1\n",
            "1\n",
            "2\n",
            "3\n",
            "5\n",
            "8\n",
            "13\n",
            "21\n",
            "34\n",
            "55\n",
            "89\n"
          ]
        }
      ]
    },
    {
      "cell_type": "code",
      "source": [
        "\n",
        "\n"
      ],
      "metadata": {
        "id": "R-AVYJdjwnpE"
      },
      "execution_count": null,
      "outputs": []
    },
    {
      "cell_type": "code",
      "source": [],
      "metadata": {
        "id": "h9gykhkwwnmc"
      },
      "execution_count": null,
      "outputs": []
    },
    {
      "cell_type": "code",
      "source": [],
      "metadata": {
        "id": "lUhBdkDjwnkA"
      },
      "execution_count": null,
      "outputs": []
    },
    {
      "cell_type": "code",
      "source": [],
      "metadata": {
        "id": "_tpPXNYRwngM"
      },
      "execution_count": null,
      "outputs": []
    }
  ]
}