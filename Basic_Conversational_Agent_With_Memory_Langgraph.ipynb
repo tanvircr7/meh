{
  "nbformat": 4,
  "nbformat_minor": 0,
  "metadata": {
    "colab": {
      "provenance": [],
      "authorship_tag": "ABX9TyNpMz1VbSqu4YFQ/qdhkTyj",
      "include_colab_link": true
    },
    "kernelspec": {
      "name": "python3",
      "display_name": "Python 3"
    },
    "language_info": {
      "name": "python"
    }
  },
  "cells": [
    {
      "cell_type": "markdown",
      "metadata": {
        "id": "view-in-github",
        "colab_type": "text"
      },
      "source": [
        "<a href=\"https://colab.research.google.com/github/tanvircr7/meh/blob/master/Basic_Conversational_Agent_With_Memory_Langgraph.ipynb\" target=\"_parent\"><img src=\"https://colab.research.google.com/assets/colab-badge.svg\" alt=\"Open In Colab\"/></a>"
      ]
    },
    {
      "cell_type": "code",
      "execution_count": null,
      "metadata": {
        "id": "CBQHispySOkQ"
      },
      "outputs": [],
      "source": [
        "pip install -U langgraph"
      ]
    },
    {
      "cell_type": "code",
      "source": [
        "pip install langchain_core langchain-anthropic langgraph langchain-openai"
      ],
      "metadata": {
        "colab": {
          "base_uri": "https://localhost:8080/"
        },
        "collapsed": true,
        "id": "djYUcGXSSVPw",
        "outputId": "0f8b667f-b402-4e96-e9da-f13b12c213bc"
      },
      "execution_count": 3,
      "outputs": [
        {
          "output_type": "stream",
          "name": "stdout",
          "text": [
            "Requirement already satisfied: langchain_core in /usr/local/lib/python3.11/dist-packages (0.3.56)\n",
            "Collecting langchain-anthropic\n",
            "  Using cached langchain_anthropic-0.3.12-py3-none-any.whl.metadata (1.9 kB)\n",
            "Requirement already satisfied: langgraph in /usr/local/lib/python3.11/dist-packages (0.4.1)\n",
            "Collecting langchain-openai\n",
            "  Downloading langchain_openai-0.3.15-py3-none-any.whl.metadata (2.3 kB)\n",
            "Requirement already satisfied: langsmith<0.4,>=0.1.125 in /usr/local/lib/python3.11/dist-packages (from langchain_core) (0.3.38)\n",
            "Requirement already satisfied: tenacity!=8.4.0,<10.0.0,>=8.1.0 in /usr/local/lib/python3.11/dist-packages (from langchain_core) (9.1.2)\n",
            "Requirement already satisfied: jsonpatch<2.0,>=1.33 in /usr/local/lib/python3.11/dist-packages (from langchain_core) (1.33)\n",
            "Requirement already satisfied: PyYAML>=5.3 in /usr/local/lib/python3.11/dist-packages (from langchain_core) (6.0.2)\n",
            "Requirement already satisfied: packaging<25,>=23.2 in /usr/local/lib/python3.11/dist-packages (from langchain_core) (24.2)\n",
            "Requirement already satisfied: typing-extensions>=4.7 in /usr/local/lib/python3.11/dist-packages (from langchain_core) (4.13.2)\n",
            "Requirement already satisfied: pydantic<3.0.0,>=2.5.2 in /usr/local/lib/python3.11/dist-packages (from langchain_core) (2.11.3)\n",
            "Collecting anthropic<1,>=0.49.0 (from langchain-anthropic)\n",
            "  Downloading anthropic-0.50.0-py3-none-any.whl.metadata (25 kB)\n",
            "Requirement already satisfied: langgraph-checkpoint<3.0.0,>=2.0.10 in /usr/local/lib/python3.11/dist-packages (from langgraph) (2.0.25)\n",
            "Requirement already satisfied: langgraph-prebuilt>=0.1.8 in /usr/local/lib/python3.11/dist-packages (from langgraph) (0.1.8)\n",
            "Requirement already satisfied: langgraph-sdk>=0.1.42 in /usr/local/lib/python3.11/dist-packages (from langgraph) (0.1.66)\n",
            "Requirement already satisfied: xxhash<4.0.0,>=3.5.0 in /usr/local/lib/python3.11/dist-packages (from langgraph) (3.5.0)\n",
            "Requirement already satisfied: openai<2.0.0,>=1.68.2 in /usr/local/lib/python3.11/dist-packages (from langchain-openai) (1.76.0)\n",
            "Collecting tiktoken<1,>=0.7 (from langchain-openai)\n",
            "  Downloading tiktoken-0.9.0-cp311-cp311-manylinux_2_17_x86_64.manylinux2014_x86_64.whl.metadata (6.7 kB)\n",
            "Requirement already satisfied: anyio<5,>=3.5.0 in /usr/local/lib/python3.11/dist-packages (from anthropic<1,>=0.49.0->langchain-anthropic) (4.9.0)\n",
            "Requirement already satisfied: distro<2,>=1.7.0 in /usr/local/lib/python3.11/dist-packages (from anthropic<1,>=0.49.0->langchain-anthropic) (1.9.0)\n",
            "Requirement already satisfied: httpx<1,>=0.25.0 in /usr/local/lib/python3.11/dist-packages (from anthropic<1,>=0.49.0->langchain-anthropic) (0.28.1)\n",
            "Requirement already satisfied: jiter<1,>=0.4.0 in /usr/local/lib/python3.11/dist-packages (from anthropic<1,>=0.49.0->langchain-anthropic) (0.9.0)\n",
            "Requirement already satisfied: sniffio in /usr/local/lib/python3.11/dist-packages (from anthropic<1,>=0.49.0->langchain-anthropic) (1.3.1)\n",
            "Requirement already satisfied: jsonpointer>=1.9 in /usr/local/lib/python3.11/dist-packages (from jsonpatch<2.0,>=1.33->langchain_core) (3.0.0)\n",
            "Requirement already satisfied: ormsgpack<2.0.0,>=1.8.0 in /usr/local/lib/python3.11/dist-packages (from langgraph-checkpoint<3.0.0,>=2.0.10->langgraph) (1.9.1)\n",
            "Requirement already satisfied: orjson>=3.10.1 in /usr/local/lib/python3.11/dist-packages (from langgraph-sdk>=0.1.42->langgraph) (3.10.17)\n",
            "Requirement already satisfied: requests<3,>=2 in /usr/local/lib/python3.11/dist-packages (from langsmith<0.4,>=0.1.125->langchain_core) (2.32.3)\n",
            "Requirement already satisfied: requests-toolbelt<2.0.0,>=1.0.0 in /usr/local/lib/python3.11/dist-packages (from langsmith<0.4,>=0.1.125->langchain_core) (1.0.0)\n",
            "Requirement already satisfied: zstandard<0.24.0,>=0.23.0 in /usr/local/lib/python3.11/dist-packages (from langsmith<0.4,>=0.1.125->langchain_core) (0.23.0)\n",
            "Requirement already satisfied: tqdm>4 in /usr/local/lib/python3.11/dist-packages (from openai<2.0.0,>=1.68.2->langchain-openai) (4.67.1)\n",
            "Requirement already satisfied: annotated-types>=0.6.0 in /usr/local/lib/python3.11/dist-packages (from pydantic<3.0.0,>=2.5.2->langchain_core) (0.7.0)\n",
            "Requirement already satisfied: pydantic-core==2.33.1 in /usr/local/lib/python3.11/dist-packages (from pydantic<3.0.0,>=2.5.2->langchain_core) (2.33.1)\n",
            "Requirement already satisfied: typing-inspection>=0.4.0 in /usr/local/lib/python3.11/dist-packages (from pydantic<3.0.0,>=2.5.2->langchain_core) (0.4.0)\n",
            "Requirement already satisfied: regex>=2022.1.18 in /usr/local/lib/python3.11/dist-packages (from tiktoken<1,>=0.7->langchain-openai) (2024.11.6)\n",
            "Requirement already satisfied: idna>=2.8 in /usr/local/lib/python3.11/dist-packages (from anyio<5,>=3.5.0->anthropic<1,>=0.49.0->langchain-anthropic) (3.10)\n",
            "Requirement already satisfied: certifi in /usr/local/lib/python3.11/dist-packages (from httpx<1,>=0.25.0->anthropic<1,>=0.49.0->langchain-anthropic) (2025.4.26)\n",
            "Requirement already satisfied: httpcore==1.* in /usr/local/lib/python3.11/dist-packages (from httpx<1,>=0.25.0->anthropic<1,>=0.49.0->langchain-anthropic) (1.0.9)\n",
            "Requirement already satisfied: h11>=0.16 in /usr/local/lib/python3.11/dist-packages (from httpcore==1.*->httpx<1,>=0.25.0->anthropic<1,>=0.49.0->langchain-anthropic) (0.16.0)\n",
            "Requirement already satisfied: charset-normalizer<4,>=2 in /usr/local/lib/python3.11/dist-packages (from requests<3,>=2->langsmith<0.4,>=0.1.125->langchain_core) (3.4.1)\n",
            "Requirement already satisfied: urllib3<3,>=1.21.1 in /usr/local/lib/python3.11/dist-packages (from requests<3,>=2->langsmith<0.4,>=0.1.125->langchain_core) (2.4.0)\n",
            "Downloading langchain_anthropic-0.3.12-py3-none-any.whl (25 kB)\n",
            "Downloading langchain_openai-0.3.15-py3-none-any.whl (62 kB)\n",
            "\u001b[2K   \u001b[90m━━━━━━━━━━━━━━━━━━━━━━━━━━━━━━━━━━━━━━━━\u001b[0m \u001b[32m62.8/62.8 kB\u001b[0m \u001b[31m6.5 MB/s\u001b[0m eta \u001b[36m0:00:00\u001b[0m\n",
            "\u001b[?25hDownloading anthropic-0.50.0-py3-none-any.whl (245 kB)\n",
            "\u001b[2K   \u001b[90m━━━━━━━━━━━━━━━━━━━━━━━━━━━━━━━━━━━━━━━━\u001b[0m \u001b[32m245.3/245.3 kB\u001b[0m \u001b[31m15.8 MB/s\u001b[0m eta \u001b[36m0:00:00\u001b[0m\n",
            "\u001b[?25hDownloading tiktoken-0.9.0-cp311-cp311-manylinux_2_17_x86_64.manylinux2014_x86_64.whl (1.2 MB)\n",
            "\u001b[2K   \u001b[90m━━━━━━━━━━━━━━━━━━━━━━━━━━━━━━━━━━━━━━━━\u001b[0m \u001b[32m1.2/1.2 MB\u001b[0m \u001b[31m54.3 MB/s\u001b[0m eta \u001b[36m0:00:00\u001b[0m\n",
            "\u001b[?25hInstalling collected packages: tiktoken, anthropic, langchain-openai, langchain-anthropic\n",
            "Successfully installed anthropic-0.50.0 langchain-anthropic-0.3.12 langchain-openai-0.3.15 tiktoken-0.9.0\n"
          ]
        }
      ]
    },
    {
      "cell_type": "code",
      "source": [
        "!pip install -U langchain-tavily"
      ],
      "metadata": {
        "colab": {
          "base_uri": "https://localhost:8080/"
        },
        "collapsed": true,
        "id": "rh6yJrf7Skdt",
        "outputId": "6b1b1b2f-f728-45db-adf0-a6f835330c8a"
      },
      "execution_count": 5,
      "outputs": [
        {
          "output_type": "stream",
          "name": "stdout",
          "text": [
            "Collecting langchain-tavily\n",
            "  Downloading langchain_tavily-0.1.6-py3-none-any.whl.metadata (11 kB)\n",
            "Requirement already satisfied: aiohttp<4.0.0,>=3.11.14 in /usr/local/lib/python3.11/dist-packages (from langchain-tavily) (3.11.15)\n",
            "Requirement already satisfied: langchain<0.4.0,>=0.3.20 in /usr/local/lib/python3.11/dist-packages (from langchain-tavily) (0.3.24)\n",
            "Requirement already satisfied: langchain-core<0.4.0,>=0.3.15 in /usr/local/lib/python3.11/dist-packages (from langchain-tavily) (0.3.56)\n",
            "Collecting mypy<2.0.0,>=1.15.0 (from langchain-tavily)\n",
            "  Downloading mypy-1.15.0-cp311-cp311-manylinux_2_17_x86_64.manylinux2014_x86_64.manylinux_2_28_x86_64.whl.metadata (2.1 kB)\n",
            "Requirement already satisfied: requests<3.0.0,>=2.32.3 in /usr/local/lib/python3.11/dist-packages (from langchain-tavily) (2.32.3)\n",
            "Requirement already satisfied: aiohappyeyeballs>=2.3.0 in /usr/local/lib/python3.11/dist-packages (from aiohttp<4.0.0,>=3.11.14->langchain-tavily) (2.6.1)\n",
            "Requirement already satisfied: aiosignal>=1.1.2 in /usr/local/lib/python3.11/dist-packages (from aiohttp<4.0.0,>=3.11.14->langchain-tavily) (1.3.2)\n",
            "Requirement already satisfied: attrs>=17.3.0 in /usr/local/lib/python3.11/dist-packages (from aiohttp<4.0.0,>=3.11.14->langchain-tavily) (25.3.0)\n",
            "Requirement already satisfied: frozenlist>=1.1.1 in /usr/local/lib/python3.11/dist-packages (from aiohttp<4.0.0,>=3.11.14->langchain-tavily) (1.6.0)\n",
            "Requirement already satisfied: multidict<7.0,>=4.5 in /usr/local/lib/python3.11/dist-packages (from aiohttp<4.0.0,>=3.11.14->langchain-tavily) (6.4.3)\n",
            "Requirement already satisfied: propcache>=0.2.0 in /usr/local/lib/python3.11/dist-packages (from aiohttp<4.0.0,>=3.11.14->langchain-tavily) (0.3.1)\n",
            "Requirement already satisfied: yarl<2.0,>=1.17.0 in /usr/local/lib/python3.11/dist-packages (from aiohttp<4.0.0,>=3.11.14->langchain-tavily) (1.20.0)\n",
            "Requirement already satisfied: langchain-text-splitters<1.0.0,>=0.3.8 in /usr/local/lib/python3.11/dist-packages (from langchain<0.4.0,>=0.3.20->langchain-tavily) (0.3.8)\n",
            "Requirement already satisfied: langsmith<0.4,>=0.1.17 in /usr/local/lib/python3.11/dist-packages (from langchain<0.4.0,>=0.3.20->langchain-tavily) (0.3.38)\n",
            "Requirement already satisfied: pydantic<3.0.0,>=2.7.4 in /usr/local/lib/python3.11/dist-packages (from langchain<0.4.0,>=0.3.20->langchain-tavily) (2.11.3)\n",
            "Requirement already satisfied: SQLAlchemy<3,>=1.4 in /usr/local/lib/python3.11/dist-packages (from langchain<0.4.0,>=0.3.20->langchain-tavily) (2.0.40)\n",
            "Requirement already satisfied: PyYAML>=5.3 in /usr/local/lib/python3.11/dist-packages (from langchain<0.4.0,>=0.3.20->langchain-tavily) (6.0.2)\n",
            "Requirement already satisfied: tenacity!=8.4.0,<10.0.0,>=8.1.0 in /usr/local/lib/python3.11/dist-packages (from langchain-core<0.4.0,>=0.3.15->langchain-tavily) (9.1.2)\n",
            "Requirement already satisfied: jsonpatch<2.0,>=1.33 in /usr/local/lib/python3.11/dist-packages (from langchain-core<0.4.0,>=0.3.15->langchain-tavily) (1.33)\n",
            "Requirement already satisfied: packaging<25,>=23.2 in /usr/local/lib/python3.11/dist-packages (from langchain-core<0.4.0,>=0.3.15->langchain-tavily) (24.2)\n",
            "Requirement already satisfied: typing-extensions>=4.7 in /usr/local/lib/python3.11/dist-packages (from langchain-core<0.4.0,>=0.3.15->langchain-tavily) (4.13.2)\n",
            "Collecting mypy_extensions>=1.0.0 (from mypy<2.0.0,>=1.15.0->langchain-tavily)\n",
            "  Downloading mypy_extensions-1.1.0-py3-none-any.whl.metadata (1.1 kB)\n",
            "Requirement already satisfied: charset-normalizer<4,>=2 in /usr/local/lib/python3.11/dist-packages (from requests<3.0.0,>=2.32.3->langchain-tavily) (3.4.1)\n",
            "Requirement already satisfied: idna<4,>=2.5 in /usr/local/lib/python3.11/dist-packages (from requests<3.0.0,>=2.32.3->langchain-tavily) (3.10)\n",
            "Requirement already satisfied: urllib3<3,>=1.21.1 in /usr/local/lib/python3.11/dist-packages (from requests<3.0.0,>=2.32.3->langchain-tavily) (2.4.0)\n",
            "Requirement already satisfied: certifi>=2017.4.17 in /usr/local/lib/python3.11/dist-packages (from requests<3.0.0,>=2.32.3->langchain-tavily) (2025.4.26)\n",
            "Requirement already satisfied: jsonpointer>=1.9 in /usr/local/lib/python3.11/dist-packages (from jsonpatch<2.0,>=1.33->langchain-core<0.4.0,>=0.3.15->langchain-tavily) (3.0.0)\n",
            "Requirement already satisfied: httpx<1,>=0.23.0 in /usr/local/lib/python3.11/dist-packages (from langsmith<0.4,>=0.1.17->langchain<0.4.0,>=0.3.20->langchain-tavily) (0.28.1)\n",
            "Requirement already satisfied: orjson<4.0.0,>=3.9.14 in /usr/local/lib/python3.11/dist-packages (from langsmith<0.4,>=0.1.17->langchain<0.4.0,>=0.3.20->langchain-tavily) (3.10.17)\n",
            "Requirement already satisfied: requests-toolbelt<2.0.0,>=1.0.0 in /usr/local/lib/python3.11/dist-packages (from langsmith<0.4,>=0.1.17->langchain<0.4.0,>=0.3.20->langchain-tavily) (1.0.0)\n",
            "Requirement already satisfied: zstandard<0.24.0,>=0.23.0 in /usr/local/lib/python3.11/dist-packages (from langsmith<0.4,>=0.1.17->langchain<0.4.0,>=0.3.20->langchain-tavily) (0.23.0)\n",
            "Requirement already satisfied: annotated-types>=0.6.0 in /usr/local/lib/python3.11/dist-packages (from pydantic<3.0.0,>=2.7.4->langchain<0.4.0,>=0.3.20->langchain-tavily) (0.7.0)\n",
            "Requirement already satisfied: pydantic-core==2.33.1 in /usr/local/lib/python3.11/dist-packages (from pydantic<3.0.0,>=2.7.4->langchain<0.4.0,>=0.3.20->langchain-tavily) (2.33.1)\n",
            "Requirement already satisfied: typing-inspection>=0.4.0 in /usr/local/lib/python3.11/dist-packages (from pydantic<3.0.0,>=2.7.4->langchain<0.4.0,>=0.3.20->langchain-tavily) (0.4.0)\n",
            "Requirement already satisfied: greenlet>=1 in /usr/local/lib/python3.11/dist-packages (from SQLAlchemy<3,>=1.4->langchain<0.4.0,>=0.3.20->langchain-tavily) (3.2.1)\n",
            "Requirement already satisfied: anyio in /usr/local/lib/python3.11/dist-packages (from httpx<1,>=0.23.0->langsmith<0.4,>=0.1.17->langchain<0.4.0,>=0.3.20->langchain-tavily) (4.9.0)\n",
            "Requirement already satisfied: httpcore==1.* in /usr/local/lib/python3.11/dist-packages (from httpx<1,>=0.23.0->langsmith<0.4,>=0.1.17->langchain<0.4.0,>=0.3.20->langchain-tavily) (1.0.9)\n",
            "Requirement already satisfied: h11>=0.16 in /usr/local/lib/python3.11/dist-packages (from httpcore==1.*->httpx<1,>=0.23.0->langsmith<0.4,>=0.1.17->langchain<0.4.0,>=0.3.20->langchain-tavily) (0.16.0)\n",
            "Requirement already satisfied: sniffio>=1.1 in /usr/local/lib/python3.11/dist-packages (from anyio->httpx<1,>=0.23.0->langsmith<0.4,>=0.1.17->langchain<0.4.0,>=0.3.20->langchain-tavily) (1.3.1)\n",
            "Downloading langchain_tavily-0.1.6-py3-none-any.whl (14 kB)\n",
            "Downloading mypy-1.15.0-cp311-cp311-manylinux_2_17_x86_64.manylinux2014_x86_64.manylinux_2_28_x86_64.whl (12.3 MB)\n",
            "\u001b[2K   \u001b[90m━━━━━━━━━━━━━━━━━━━━━━━━━━━━━━━━━━━━━━━━\u001b[0m \u001b[32m12.3/12.3 MB\u001b[0m \u001b[31m142.3 MB/s\u001b[0m eta \u001b[36m0:00:00\u001b[0m\n",
            "\u001b[?25hDownloading mypy_extensions-1.1.0-py3-none-any.whl (5.0 kB)\n",
            "Installing collected packages: mypy_extensions, mypy, langchain-tavily\n",
            "Successfully installed langchain-tavily-0.1.6 mypy-1.15.0 mypy_extensions-1.1.0\n"
          ]
        }
      ]
    },
    {
      "cell_type": "code",
      "source": [
        "import getpass\n",
        "import os\n",
        "\n",
        "\n",
        "def _set_env(var: str):\n",
        "    if not os.environ.get(var):\n",
        "        os.environ[var] = getpass.getpass(f\"{var}: \")\n",
        "\n",
        "\n",
        "_set_env(\"OPENAI_API_KEY\")\n",
        "_set_env(\"TAVILY_API_KEY\")\n",
        "# from google.colab import userdata\n",
        "# userdata.get('TAVILY_API_KEY')\n",
        "# from google.colab import userdata\n",
        "# openai_apikey = userdata.get('OPENAI_API_KEY')"
      ],
      "metadata": {
        "colab": {
          "base_uri": "https://localhost:8080/"
        },
        "id": "qtLDs6FGSVm9",
        "outputId": "da6f53aa-fae9-4f8f-ae56-926ed2a79d39"
      },
      "execution_count": 6,
      "outputs": [
        {
          "name": "stdout",
          "output_type": "stream",
          "text": [
            "TAVILY_API_KEY: ··········\n"
          ]
        }
      ]
    },
    {
      "cell_type": "code",
      "source": [
        "from langgraph.checkpoint.memory import MemorySaver\n",
        "\n",
        "memory = MemorySaver()"
      ],
      "metadata": {
        "id": "XrnBXzVjSqYI"
      },
      "execution_count": 7,
      "outputs": []
    },
    {
      "cell_type": "code",
      "source": [
        "from typing import Annotated\n",
        "\n",
        "from langchain.chat_models import init_chat_model\n",
        "from langchain_tavily import TavilySearch\n",
        "from langchain_core.messages import BaseMessage\n",
        "from typing_extensions import TypedDict\n",
        "\n",
        "from langgraph.graph import StateGraph, START, END\n",
        "from langgraph.graph.message import add_messages\n",
        "from langgraph.prebuilt import ToolNode, tools_condition\n",
        "\n",
        "\n",
        "class State(TypedDict):\n",
        "    messages: Annotated[list, add_messages]\n",
        "\n",
        "\n",
        "graph_builder = StateGraph(State)\n",
        "\n",
        "\n",
        "tool = TavilySearch(max_results=2)\n",
        "tools = [tool]\n",
        "llm = init_chat_model(\"openai:gpt-3.5-turbo-0125\", max_tokens=50)\n",
        "llm_with_tools = llm.bind_tools(tools)\n",
        "\n",
        "\n",
        "def chatbot(state: State):\n",
        "    return {\"messages\": [llm_with_tools.invoke(state[\"messages\"])]}\n",
        "\n",
        "\n",
        "graph_builder.add_node(\"chatbot\", chatbot)\n",
        "\n",
        "tool_node = ToolNode(tools=[tool])\n",
        "graph_builder.add_node(\"tools\", tool_node)\n",
        "\n",
        "graph_builder.add_conditional_edges(\n",
        "    \"chatbot\",\n",
        "    tools_condition,\n",
        ")\n",
        "# Any time a tool is called, we return to the chatbot to decide the next step\n",
        "graph_builder.add_edge(\"tools\", \"chatbot\")\n",
        "graph_builder.add_edge(START, \"chatbot\")"
      ],
      "metadata": {
        "colab": {
          "base_uri": "https://localhost:8080/"
        },
        "id": "wqE1hvsVdPop",
        "outputId": "bf07a104-b3aa-4152-f836-263b94013b8e"
      },
      "execution_count": 8,
      "outputs": [
        {
          "output_type": "execute_result",
          "data": {
            "text/plain": [
              "<langgraph.graph.state.StateGraph at 0x7ed268403210>"
            ]
          },
          "metadata": {},
          "execution_count": 8
        }
      ]
    },
    {
      "cell_type": "code",
      "source": [
        "graph = graph_builder.compile(checkpointer=memory)"
      ],
      "metadata": {
        "id": "dxpz3vK6dUmO"
      },
      "execution_count": 9,
      "outputs": []
    },
    {
      "cell_type": "code",
      "source": [
        "from IPython.display import Image, display\n",
        "\n",
        "try:\n",
        "    display(Image(graph.get_graph().draw_mermaid_png()))\n",
        "except Exception:\n",
        "    # This requires some extra dependencies and is optional\n",
        "    pass"
      ],
      "metadata": {
        "colab": {
          "base_uri": "https://localhost:8080/",
          "height": 266
        },
        "id": "hBM2rdtjmCHN",
        "outputId": "68f7d1a4-d9f5-42be-8889-3b6e95e1e3dc"
      },
      "execution_count": 10,
      "outputs": [
        {
          "output_type": "display_data",
          "data": {
            "image/png": "[encoded data removed]",
            "text/plain": [
              "<IPython.core.display.Image object>"
            ]
          },
          "metadata": {}
        }
      ]
    },
    {
      "cell_type": "code",
      "source": [
        "def stream_graph_updates(user_input: str, config: dict[str, dict[str, str]]):\n",
        "    for event in graph.stream({\"messages\": [{\"role\": \"user\", \"content\": user_input}]}, config = config):\n",
        "        print(\"EVENT\")\n",
        "        print(event)\n",
        "        print(\"--------------\")\n",
        "        for value in event.values():\n",
        "            print(\"VALUE\")\n",
        "            print(value)\n",
        "            print(\"--------------\")\n",
        "            print(\"Assistant:\", value[\"messages\"][-1].content)\n"
      ],
      "metadata": {
        "id": "i82lSYQomnXu"
      },
      "execution_count": 13,
      "outputs": []
    },
    {
      "cell_type": "code",
      "source": [
        "config = {\"configurable\": {\"thread_id\": \"2\"}}"
      ],
      "metadata": {
        "id": "IRC0nHLTmFYi"
      },
      "execution_count": 14,
      "outputs": []
    },
    {
      "cell_type": "code",
      "source": [
        "# user_input = \"Hi there! My name is Will.\"\n",
        "\n",
        "# # The config is the **second positional argument** to stream() or invoke()!\n",
        "# events = graph.stream(\n",
        "#     {\"messages\": [{\"role\": \"user\", \"content\": user_input}]},\n",
        "#     config,\n",
        "#     stream_mode=\"values\",\n",
        "# )\n",
        "# for event in events:\n",
        "#     event[\"messages\"][-1].pretty_print()"
      ],
      "metadata": {
        "id": "Q0XfoS2ZmHGp"
      },
      "execution_count": 15,
      "outputs": []
    },
    {
      "cell_type": "code",
      "source": [
        "while True:\n",
        "    try:\n",
        "        user_input = input(\"User: \")\n",
        "        if user_input.lower() in [\"quit\", \"exit\", \"q\"]:\n",
        "            print(\"Goodbye!\")\n",
        "            break\n",
        "        stream_graph_updates(user_input, config)\n",
        "    except:\n",
        "        # fallback if input() is not available\n",
        "        user_input = \"What do you know about LangGraph?\"\n",
        "        print(\"User: \" + user_input)\n",
        "        stream_graph_updates(user_input, config)\n",
        "        break"
      ],
      "metadata": {
        "colab": {
          "base_uri": "https://localhost:8080/"
        },
        "id": "zmMMPX9eoFP-",
        "outputId": "455d0d93-8a2c-4ce2-cc17-308ebe7a1791"
      },
      "execution_count": null,
      "outputs": [
        {
          "output_type": "stream",
          "name": "stdout",
          "text": [
            "User: langgraph\n",
            "EVENT\n",
            "{'chatbot': {'messages': [AIMessage(content='', additional_kwargs={'tool_calls': [{'id': 'call_9Jq2My4eLVkvMcGLBrroUsW7', 'function': {'arguments': '{\"query\":\"LangGraph\",\"search_depth\":\"advanced\"}', 'name': 'tavily_search'}, 'type': 'function'}], 'refusal': None}, response_metadata={'token_usage': {'completion_tokens': 23, 'prompt_tokens': 809, 'total_tokens': 832, 'completion_tokens_details': {'accepted_prediction_tokens': 0, 'audio_tokens': 0, 'reasoning_tokens': 0, 'rejected_prediction_tokens': 0}, 'prompt_tokens_details': {'audio_tokens': 0, 'cached_tokens': 0}}, 'model_name': 'gpt-3.5-turbo-0125', 'system_fingerprint': None, 'id': 'chatcmpl-BSixy4toXLdETFED80M7hbjX4fCsK', 'finish_reason': 'tool_calls', 'logprobs': None}, id='run-cc1530b6-752d-400c-ad22-066cf5565c5e-0', tool_calls=[{'name': 'tavily_search', 'args': {'query': 'LangGraph', 'search_depth': 'advanced'}, 'id': 'call_9Jq2My4eLVkvMcGLBrroUsW7', 'type': 'tool_call'}], usage_metadata={'input_tokens': 809, 'output_tokens': 23, 'total_tokens': 832, 'input_token_details': {'audio': 0, 'cache_read': 0}, 'output_token_details': {'audio': 0, 'reasoning': 0}})]}}\n",
            "--------------\n",
            "VALUE\n",
            "{'messages': [AIMessage(content='', additional_kwargs={'tool_calls': [{'id': 'call_9Jq2My4eLVkvMcGLBrroUsW7', 'function': {'arguments': '{\"query\":\"LangGraph\",\"search_depth\":\"advanced\"}', 'name': 'tavily_search'}, 'type': 'function'}], 'refusal': None}, response_metadata={'token_usage': {'completion_tokens': 23, 'prompt_tokens': 809, 'total_tokens': 832, 'completion_tokens_details': {'accepted_prediction_tokens': 0, 'audio_tokens': 0, 'reasoning_tokens': 0, 'rejected_prediction_tokens': 0}, 'prompt_tokens_details': {'audio_tokens': 0, 'cached_tokens': 0}}, 'model_name': 'gpt-3.5-turbo-0125', 'system_fingerprint': None, 'id': 'chatcmpl-BSixy4toXLdETFED80M7hbjX4fCsK', 'finish_reason': 'tool_calls', 'logprobs': None}, id='run-cc1530b6-752d-400c-ad22-066cf5565c5e-0', tool_calls=[{'name': 'tavily_search', 'args': {'query': 'LangGraph', 'search_depth': 'advanced'}, 'id': 'call_9Jq2My4eLVkvMcGLBrroUsW7', 'type': 'tool_call'}], usage_metadata={'input_tokens': 809, 'output_tokens': 23, 'total_tokens': 832, 'input_token_details': {'audio': 0, 'cache_read': 0}, 'output_token_details': {'audio': 0, 'reasoning': 0}})]}\n",
            "--------------\n",
            "Assistant: \n",
            "EVENT\n",
            "{'tools': {'messages': [ToolMessage(content='{\"query\": \"LangGraph\", \"follow_up_questions\": null, \"answer\": null, \"images\": [], \"results\": [{\"url\": \"https://langchain-ai.github.io/langgraph/tutorials/introduction/\", \"title\": \"LangGraph Quickstart - GitHub Pages\", \"content\": \"[](https://langchain-ai.github.io/langgraph/tutorials/introduction/#__codelineno-9-1)Assistant: LangGraph is a library designed to help build stateful multi-agent applications using language models. It provides tools for creating workflows and state machines to coordinate multiple AI agents or language model interactions. LangGraph is built on top of LangChain, leveraging its components while adding graph-based coordination capabilities. It\\'s particularly useful for developing more complex, [...] [](https://langchain-ai.github.io/langgraph/tutorials/introduction/#__codelineno-21-6)   LangGraph is a library designed for building stateful, multi-actor applications with Large Language Models (LLMs). It\\'s particularly useful for creating agent and multi-agent workflows.\\\\n[](https://langchain-ai.github.io/langgraph/tutorials/introduction/#__codelineno-21-7)\\\\n[](https://langchain-ai.github.io/langgraph/tutorials/introduction/#__codelineno-21-8)2. Developer: [...] [](https://langchain-ai.github.io/langgraph/tutorials/introduction/#__codelineno-48-19)LangGraph is likely a framework or library designed specifically for creating AI agents with advanced capabilities. Here are a few points to consider based on this recommendation:\\\\n[](https://langchain-ai.github.io/langgraph/tutorials/introduction/#__codelineno-48-20)\", \"score\": 0.9328032, \"raw_content\": null}, {\"url\": \"https://github.com/langchain-ai/langgraph\", \"title\": \"langchain-ai/langgraph: Build resilient language agents as graphs.\", \"content\": \"LangGraph — used by Replit, Uber, LinkedIn, GitLab and more — is a low-level orchestration framework for building controllable agents. While langchain provides integrations and composable components to streamline LLM application development, the LangGraph library enables agent orchestration — offering customizable architectures, long-term memory, and human-in-the-loop to reliably handle complex tasks.\\\\n\\\\n```\\\\npip install -U langgraph\\\\n```\", \"score\": 0.8884594, \"raw_content\": null}], \"response_time\": 1.29}', name='tavily_search', id='49d7884d-772e-4d71-afe4-0459e28f16dd', tool_call_id='call_9Jq2My4eLVkvMcGLBrroUsW7')]}}\n",
            "--------------\n",
            "VALUE\n",
            "{'messages': [ToolMessage(content='{\"query\": \"LangGraph\", \"follow_up_questions\": null, \"answer\": null, \"images\": [], \"results\": [{\"url\": \"https://langchain-ai.github.io/langgraph/tutorials/introduction/\", \"title\": \"LangGraph Quickstart - GitHub Pages\", \"content\": \"[](https://langchain-ai.github.io/langgraph/tutorials/introduction/#__codelineno-9-1)Assistant: LangGraph is a library designed to help build stateful multi-agent applications using language models. It provides tools for creating workflows and state machines to coordinate multiple AI agents or language model interactions. LangGraph is built on top of LangChain, leveraging its components while adding graph-based coordination capabilities. It\\'s particularly useful for developing more complex, [...] [](https://langchain-ai.github.io/langgraph/tutorials/introduction/#__codelineno-21-6)   LangGraph is a library designed for building stateful, multi-actor applications with Large Language Models (LLMs). It\\'s particularly useful for creating agent and multi-agent workflows.\\\\n[](https://langchain-ai.github.io/langgraph/tutorials/introduction/#__codelineno-21-7)\\\\n[](https://langchain-ai.github.io/langgraph/tutorials/introduction/#__codelineno-21-8)2. Developer: [...] [](https://langchain-ai.github.io/langgraph/tutorials/introduction/#__codelineno-48-19)LangGraph is likely a framework or library designed specifically for creating AI agents with advanced capabilities. Here are a few points to consider based on this recommendation:\\\\n[](https://langchain-ai.github.io/langgraph/tutorials/introduction/#__codelineno-48-20)\", \"score\": 0.9328032, \"raw_content\": null}, {\"url\": \"https://github.com/langchain-ai/langgraph\", \"title\": \"langchain-ai/langgraph: Build resilient language agents as graphs.\", \"content\": \"LangGraph — used by Replit, Uber, LinkedIn, GitLab and more — is a low-level orchestration framework for building controllable agents. While langchain provides integrations and composable components to streamline LLM application development, the LangGraph library enables agent orchestration — offering customizable architectures, long-term memory, and human-in-the-loop to reliably handle complex tasks.\\\\n\\\\n```\\\\npip install -U langgraph\\\\n```\", \"score\": 0.8884594, \"raw_content\": null}], \"response_time\": 1.29}', name='tavily_search', id='49d7884d-772e-4d71-afe4-0459e28f16dd', tool_call_id='call_9Jq2My4eLVkvMcGLBrroUsW7')]}\n",
            "--------------\n",
            "Assistant: {\"query\": \"LangGraph\", \"follow_up_questions\": null, \"answer\": null, \"images\": [], \"results\": [{\"url\": \"https://langchain-ai.github.io/langgraph/tutorials/introduction/\", \"title\": \"LangGraph Quickstart - GitHub Pages\", \"content\": \"[](https://langchain-ai.github.io/langgraph/tutorials/introduction/#__codelineno-9-1)Assistant: LangGraph is a library designed to help build stateful multi-agent applications using language models. It provides tools for creating workflows and state machines to coordinate multiple AI agents or language model interactions. LangGraph is built on top of LangChain, leveraging its components while adding graph-based coordination capabilities. It's particularly useful for developing more complex, [...] [](https://langchain-ai.github.io/langgraph/tutorials/introduction/#__codelineno-21-6)   LangGraph is a library designed for building stateful, multi-actor applications with Large Language Models (LLMs). It's particularly useful for creating agent and multi-agent workflows.\\n[](https://langchain-ai.github.io/langgraph/tutorials/introduction/#__codelineno-21-7)\\n[](https://langchain-ai.github.io/langgraph/tutorials/introduction/#__codelineno-21-8)2. Developer: [...] [](https://langchain-ai.github.io/langgraph/tutorials/introduction/#__codelineno-48-19)LangGraph is likely a framework or library designed specifically for creating AI agents with advanced capabilities. Here are a few points to consider based on this recommendation:\\n[](https://langchain-ai.github.io/langgraph/tutorials/introduction/#__codelineno-48-20)\", \"score\": 0.9328032, \"raw_content\": null}, {\"url\": \"https://github.com/langchain-ai/langgraph\", \"title\": \"langchain-ai/langgraph: Build resilient language agents as graphs.\", \"content\": \"LangGraph — used by Replit, Uber, LinkedIn, GitLab and more — is a low-level orchestration framework for building controllable agents. While langchain provides integrations and composable components to streamline LLM application development, the LangGraph library enables agent orchestration — offering customizable architectures, long-term memory, and human-in-the-loop to reliably handle complex tasks.\\n\\n```\\npip install -U langgraph\\n```\", \"score\": 0.8884594, \"raw_content\": null}], \"response_time\": 1.29}\n",
            "EVENT\n",
            "{'chatbot': {'messages': [AIMessage(content='LangGraph is a library designed to help build stateful multi-agent applications using language models. It provides tools for creating workflows and state machines to coordinate multiple AI agents or language model interactions. LangGraph is built on top of LangChain, leveraging its', additional_kwargs={'refusal': None}, response_metadata={'token_usage': {'completion_tokens': 50, 'prompt_tokens': 1368, 'total_tokens': 1418, 'completion_tokens_details': {'accepted_prediction_tokens': 0, 'audio_tokens': 0, 'reasoning_tokens': 0, 'rejected_prediction_tokens': 0}, 'prompt_tokens_details': {'audio_tokens': 0, 'cached_tokens': 0}}, 'model_name': 'gpt-3.5-turbo-0125', 'system_fingerprint': None, 'id': 'chatcmpl-BSiy0zIJJkum3yWaUJGlhnsKEOWFL', 'finish_reason': 'length', 'logprobs': None}, id='run-8217a4f5-0bf6-46b3-9f32-4ba8c6b1a52f-0', usage_metadata={'input_tokens': 1368, 'output_tokens': 50, 'total_tokens': 1418, 'input_token_details': {'audio': 0, 'cache_read': 0}, 'output_token_details': {'audio': 0, 'reasoning': 0}})]}}\n",
            "--------------\n",
            "VALUE\n",
            "{'messages': [AIMessage(content='LangGraph is a library designed to help build stateful multi-agent applications using language models. It provides tools for creating workflows and state machines to coordinate multiple AI agents or language model interactions. LangGraph is built on top of LangChain, leveraging its', additional_kwargs={'refusal': None}, response_metadata={'token_usage': {'completion_tokens': 50, 'prompt_tokens': 1368, 'total_tokens': 1418, 'completion_tokens_details': {'accepted_prediction_tokens': 0, 'audio_tokens': 0, 'reasoning_tokens': 0, 'rejected_prediction_tokens': 0}, 'prompt_tokens_details': {'audio_tokens': 0, 'cached_tokens': 0}}, 'model_name': 'gpt-3.5-turbo-0125', 'system_fingerprint': None, 'id': 'chatcmpl-BSiy0zIJJkum3yWaUJGlhnsKEOWFL', 'finish_reason': 'length', 'logprobs': None}, id='run-8217a4f5-0bf6-46b3-9f32-4ba8c6b1a52f-0', usage_metadata={'input_tokens': 1368, 'output_tokens': 50, 'total_tokens': 1418, 'input_token_details': {'audio': 0, 'cache_read': 0}, 'output_token_details': {'audio': 0, 'reasoning': 0}})]}\n",
            "--------------\n",
            "Assistant: LangGraph is a library designed to help build stateful multi-agent applications using language models. It provides tools for creating workflows and state machines to coordinate multiple AI agents or language model interactions. LangGraph is built on top of LangChain, leveraging its\n",
            "User: my name is Tanvir, nice to meet you\n",
            "EVENT\n",
            "{'chatbot': {'messages': [AIMessage(content='Nice to meet you, Tanvir! How can I assist you today?', additional_kwargs={'refusal': None}, response_metadata={'token_usage': {'completion_tokens': 17, 'prompt_tokens': 1435, 'total_tokens': 1452, 'completion_tokens_details': {'accepted_prediction_tokens': 0, 'audio_tokens': 0, 'reasoning_tokens': 0, 'rejected_prediction_tokens': 0}, 'prompt_tokens_details': {'audio_tokens': 0, 'cached_tokens': 0}}, 'model_name': 'gpt-3.5-turbo-0125', 'system_fingerprint': None, 'id': 'chatcmpl-BSiyBeZreq8f6rIrxZyYtKcypPwXP', 'finish_reason': 'stop', 'logprobs': None}, id='run-1d27052e-399e-4749-a984-87249306d605-0', usage_metadata={'input_tokens': 1435, 'output_tokens': 17, 'total_tokens': 1452, 'input_token_details': {'audio': 0, 'cache_read': 0}, 'output_token_details': {'audio': 0, 'reasoning': 0}})]}}\n",
            "--------------\n",
            "VALUE\n",
            "{'messages': [AIMessage(content='Nice to meet you, Tanvir! How can I assist you today?', additional_kwargs={'refusal': None}, response_metadata={'token_usage': {'completion_tokens': 17, 'prompt_tokens': 1435, 'total_tokens': 1452, 'completion_tokens_details': {'accepted_prediction_tokens': 0, 'audio_tokens': 0, 'reasoning_tokens': 0, 'rejected_prediction_tokens': 0}, 'prompt_tokens_details': {'audio_tokens': 0, 'cached_tokens': 0}}, 'model_name': 'gpt-3.5-turbo-0125', 'system_fingerprint': None, 'id': 'chatcmpl-BSiyBeZreq8f6rIrxZyYtKcypPwXP', 'finish_reason': 'stop', 'logprobs': None}, id='run-1d27052e-399e-4749-a984-87249306d605-0', usage_metadata={'input_tokens': 1435, 'output_tokens': 17, 'total_tokens': 1452, 'input_token_details': {'audio': 0, 'cache_read': 0}, 'output_token_details': {'audio': 0, 'reasoning': 0}})]}\n",
            "--------------\n",
            "Assistant: Nice to meet you, Tanvir! How can I assist you today?\n",
            "User: what is my name?\n",
            "EVENT\n",
            "{'chatbot': {'messages': [AIMessage(content='Your name is Tanvir.', additional_kwargs={'refusal': None}, response_metadata={'token_usage': {'completion_tokens': 8, 'prompt_tokens': 1463, 'total_tokens': 1471, 'completion_tokens_details': {'accepted_prediction_tokens': 0, 'audio_tokens': 0, 'reasoning_tokens': 0, 'rejected_prediction_tokens': 0}, 'prompt_tokens_details': {'audio_tokens': 0, 'cached_tokens': 0}}, 'model_name': 'gpt-3.5-turbo-0125', 'system_fingerprint': None, 'id': 'chatcmpl-BSiyIXmA5VMvHTuhyRRo7oXr1RYVy', 'finish_reason': 'stop', 'logprobs': None}, id='run-9f69d698-d9f6-4a59-b378-ff877775f94e-0', usage_metadata={'input_tokens': 1463, 'output_tokens': 8, 'total_tokens': 1471, 'input_token_details': {'audio': 0, 'cache_read': 0}, 'output_token_details': {'audio': 0, 'reasoning': 0}})]}}\n",
            "--------------\n",
            "VALUE\n",
            "{'messages': [AIMessage(content='Your name is Tanvir.', additional_kwargs={'refusal': None}, response_metadata={'token_usage': {'completion_tokens': 8, 'prompt_tokens': 1463, 'total_tokens': 1471, 'completion_tokens_details': {'accepted_prediction_tokens': 0, 'audio_tokens': 0, 'reasoning_tokens': 0, 'rejected_prediction_tokens': 0}, 'prompt_tokens_details': {'audio_tokens': 0, 'cached_tokens': 0}}, 'model_name': 'gpt-3.5-turbo-0125', 'system_fingerprint': None, 'id': 'chatcmpl-BSiyIXmA5VMvHTuhyRRo7oXr1RYVy', 'finish_reason': 'stop', 'logprobs': None}, id='run-9f69d698-d9f6-4a59-b378-ff877775f94e-0', usage_metadata={'input_tokens': 1463, 'output_tokens': 8, 'total_tokens': 1471, 'input_token_details': {'audio': 0, 'cache_read': 0}, 'output_token_details': {'audio': 0, 'reasoning': 0}})]}\n",
            "--------------\n",
            "Assistant: Your name is Tanvir.\n",
            "User: search for ronaldo, what does it show?\n",
            "EVENT\n",
            "{'chatbot': {'messages': [AIMessage(content='', additional_kwargs={'tool_calls': [{'id': 'call_eTJrgor6ol3hZTX0krzgyLuH', 'function': {'arguments': '{\"query\":\"Ronaldo\"}', 'name': 'tavily_search'}, 'type': 'function'}], 'refusal': None}, response_metadata={'token_usage': {'completion_tokens': 19, 'prompt_tokens': 1488, 'total_tokens': 1507, 'completion_tokens_details': {'accepted_prediction_tokens': 0, 'audio_tokens': 0, 'reasoning_tokens': 0, 'rejected_prediction_tokens': 0}, 'prompt_tokens_details': {'audio_tokens': 0, 'cached_tokens': 0}}, 'model_name': 'gpt-3.5-turbo-0125', 'system_fingerprint': None, 'id': 'chatcmpl-BSj2bGRx2COfS2rNhHfzg9lu57OAl', 'finish_reason': 'tool_calls', 'logprobs': None}, id='run-2fcc7434-48ee-4e64-b021-974fa4f0760d-0', tool_calls=[{'name': 'tavily_search', 'args': {'query': 'Ronaldo'}, 'id': 'call_eTJrgor6ol3hZTX0krzgyLuH', 'type': 'tool_call'}], usage_metadata={'input_tokens': 1488, 'output_tokens': 19, 'total_tokens': 1507, 'input_token_details': {'audio': 0, 'cache_read': 0}, 'output_token_details': {'audio': 0, 'reasoning': 0}})]}}\n",
            "--------------\n",
            "VALUE\n",
            "{'messages': [AIMessage(content='', additional_kwargs={'tool_calls': [{'id': 'call_eTJrgor6ol3hZTX0krzgyLuH', 'function': {'arguments': '{\"query\":\"Ronaldo\"}', 'name': 'tavily_search'}, 'type': 'function'}], 'refusal': None}, response_metadata={'token_usage': {'completion_tokens': 19, 'prompt_tokens': 1488, 'total_tokens': 1507, 'completion_tokens_details': {'accepted_prediction_tokens': 0, 'audio_tokens': 0, 'reasoning_tokens': 0, 'rejected_prediction_tokens': 0}, 'prompt_tokens_details': {'audio_tokens': 0, 'cached_tokens': 0}}, 'model_name': 'gpt-3.5-turbo-0125', 'system_fingerprint': None, 'id': 'chatcmpl-BSj2bGRx2COfS2rNhHfzg9lu57OAl', 'finish_reason': 'tool_calls', 'logprobs': None}, id='run-2fcc7434-48ee-4e64-b021-974fa4f0760d-0', tool_calls=[{'name': 'tavily_search', 'args': {'query': 'Ronaldo'}, 'id': 'call_eTJrgor6ol3hZTX0krzgyLuH', 'type': 'tool_call'}], usage_metadata={'input_tokens': 1488, 'output_tokens': 19, 'total_tokens': 1507, 'input_token_details': {'audio': 0, 'cache_read': 0}, 'output_token_details': {'audio': 0, 'reasoning': 0}})]}\n",
            "--------------\n",
            "Assistant: \n",
            "EVENT\n",
            "{'tools': {'messages': [ToolMessage(content='{\"query\": \"Ronaldo\", \"follow_up_questions\": null, \"answer\": null, \"images\": [], \"results\": [{\"title\": \"Cristiano Ronaldo - Wikipedia\", \"url\": \"https://en.wikipedia.org/wiki/Cristiano_Ronaldo\", \"content\": \"Cristiano Ronaldo.mw-parser-output .nobold{font-weight:normal}GOIH ComMRonaldo with Al-Nassr in 2023Personal informationFull nameCristiano Ronaldo dos Santos Aveiro[1]Date of birth(1985-02-05) 5 February 1985 (age\\xa040)[2]Place of birthFunchal, Madeira, PortugalHeight1.87\\xa0m (6\\xa0ft 2\\xa0in)[note 1]Position(s)ForwardTeam informationCurrent teamAl-NassrNumber7Youth career1992–1995Andorinha1995–1997Nacional1997–2002Sporting CPSenior career*YearsTeamApps(Gls)2002–2003Sporting CP B2(0)2002–2003Sporting CP25(3)2003–2009Manchester United196(84)2009–2018Real Madrid292(311)2018–2021Juventus98(81)2021–2022Manchester United40(19)2023–Al-Nassr74(72)International career‡2001Portugal U159(7)2001–2002Portugal U177(5)2003Portugal U205(1)2002–2003Portugal U2110(3)2004Portugal U233(2)2003–Portugal219(136)Medal recordbody.skin-minerva .mw-parser-output .infobox table{display:table}body.skin-minerva .mw-parser-output .infobox caption{display:table-caption}Men\\'s footballRepresenting \\xa0PortugalUEFA European Championship2016 France2004 Portugal2012 Poland-Ukraine[note 2]UEFA Nations League2019 PortugalFIFA Confederations Cup2017 RussiaSignature*Club domestic league appearances and goals, correct as of 22:00, 18 April 2025 (UTC)‡ National team caps and goals, correct as of 23:30, 23 March 2025 (UTC)\", \"score\": 0.750937, \"raw_content\": null}, {\"title\": \"Cristiano Ronaldo | Biography, Football, & Facts | Britannica\", \"url\": \"https://www.britannica.com/biography/Cristiano-Ronaldo\", \"content\": \"Cristiano Ronaldo | Biography, Football, & Facts | Britannica Ronaldo helped United to a Champions League title in May 2008 and captured Fédération Internationale de Football Association (FIFA) World Player of the Year honours for his stellar 2007–08 season. After helping United to a Champions League title in May 2008, Ronaldo captured Fédération Internationale de Football Association (FIFA) World Player of the Year honors for his stellar 2007–08 season. Ronaldo scored 42 goals for Real across all competitions in 2016–17 and led his team to La Liga and Champions League titles that season, which resulted in a fifth career Ballon d’Or award. Cristiano Ronaldo Cristiano Ronaldo (right, with ball) playing for Real Madrid against FC Barcelona in a Copa del Rey quarterfinal match in Barcelona, Spain, on January 25, 2012.\", \"score\": 0.6816637, \"raw_content\": null}], \"response_time\": 1.49}', name='tavily_search', id='0513dc1f-c573-4bc6-90d4-913b6b2c848e', tool_call_id='call_eTJrgor6ol3hZTX0krzgyLuH')]}}\n",
            "--------------\n",
            "VALUE\n",
            "{'messages': [ToolMessage(content='{\"query\": \"Ronaldo\", \"follow_up_questions\": null, \"answer\": null, \"images\": [], \"results\": [{\"title\": \"Cristiano Ronaldo - Wikipedia\", \"url\": \"https://en.wikipedia.org/wiki/Cristiano_Ronaldo\", \"content\": \"Cristiano Ronaldo.mw-parser-output .nobold{font-weight:normal}GOIH ComMRonaldo with Al-Nassr in 2023Personal informationFull nameCristiano Ronaldo dos Santos Aveiro[1]Date of birth(1985-02-05) 5 February 1985 (age\\xa040)[2]Place of birthFunchal, Madeira, PortugalHeight1.87\\xa0m (6\\xa0ft 2\\xa0in)[note 1]Position(s)ForwardTeam informationCurrent teamAl-NassrNumber7Youth career1992–1995Andorinha1995–1997Nacional1997–2002Sporting CPSenior career*YearsTeamApps(Gls)2002–2003Sporting CP B2(0)2002–2003Sporting CP25(3)2003–2009Manchester United196(84)2009–2018Real Madrid292(311)2018–2021Juventus98(81)2021–2022Manchester United40(19)2023–Al-Nassr74(72)International career‡2001Portugal U159(7)2001–2002Portugal U177(5)2003Portugal U205(1)2002–2003Portugal U2110(3)2004Portugal U233(2)2003–Portugal219(136)Medal recordbody.skin-minerva .mw-parser-output .infobox table{display:table}body.skin-minerva .mw-parser-output .infobox caption{display:table-caption}Men\\'s footballRepresenting \\xa0PortugalUEFA European Championship2016 France2004 Portugal2012 Poland-Ukraine[note 2]UEFA Nations League2019 PortugalFIFA Confederations Cup2017 RussiaSignature*Club domestic league appearances and goals, correct as of 22:00, 18 April 2025 (UTC)‡ National team caps and goals, correct as of 23:30, 23 March 2025 (UTC)\", \"score\": 0.750937, \"raw_content\": null}, {\"title\": \"Cristiano Ronaldo | Biography, Football, & Facts | Britannica\", \"url\": \"https://www.britannica.com/biography/Cristiano-Ronaldo\", \"content\": \"Cristiano Ronaldo | Biography, Football, & Facts | Britannica Ronaldo helped United to a Champions League title in May 2008 and captured Fédération Internationale de Football Association (FIFA) World Player of the Year honours for his stellar 2007–08 season. After helping United to a Champions League title in May 2008, Ronaldo captured Fédération Internationale de Football Association (FIFA) World Player of the Year honors for his stellar 2007–08 season. Ronaldo scored 42 goals for Real across all competitions in 2016–17 and led his team to La Liga and Champions League titles that season, which resulted in a fifth career Ballon d’Or award. Cristiano Ronaldo Cristiano Ronaldo (right, with ball) playing for Real Madrid against FC Barcelona in a Copa del Rey quarterfinal match in Barcelona, Spain, on January 25, 2012.\", \"score\": 0.6816637, \"raw_content\": null}], \"response_time\": 1.49}', name='tavily_search', id='0513dc1f-c573-4bc6-90d4-913b6b2c848e', tool_call_id='call_eTJrgor6ol3hZTX0krzgyLuH')]}\n",
            "--------------\n",
            "Assistant: {\"query\": \"Ronaldo\", \"follow_up_questions\": null, \"answer\": null, \"images\": [], \"results\": [{\"title\": \"Cristiano Ronaldo - Wikipedia\", \"url\": \"https://en.wikipedia.org/wiki/Cristiano_Ronaldo\", \"content\": \"Cristiano Ronaldo.mw-parser-output .nobold{font-weight:normal}GOIH ComMRonaldo with Al-Nassr in 2023Personal informationFull nameCristiano Ronaldo dos Santos Aveiro[1]Date of birth(1985-02-05) 5 February 1985 (age 40)[2]Place of birthFunchal, Madeira, PortugalHeight1.87 m (6 ft 2 in)[note 1]Position(s)ForwardTeam informationCurrent teamAl-NassrNumber7Youth career1992–1995Andorinha1995–1997Nacional1997–2002Sporting CPSenior career*YearsTeamApps(Gls)2002–2003Sporting CP B2(0)2002–2003Sporting CP25(3)2003–2009Manchester United196(84)2009–2018Real Madrid292(311)2018–2021Juventus98(81)2021–2022Manchester United40(19)2023–Al-Nassr74(72)International career‡2001Portugal U159(7)2001–2002Portugal U177(5)2003Portugal U205(1)2002–2003Portugal U2110(3)2004Portugal U233(2)2003–Portugal219(136)Medal recordbody.skin-minerva .mw-parser-output .infobox table{display:table}body.skin-minerva .mw-parser-output .infobox caption{display:table-caption}Men's footballRepresenting  PortugalUEFA European Championship2016 France2004 Portugal2012 Poland-Ukraine[note 2]UEFA Nations League2019 PortugalFIFA Confederations Cup2017 RussiaSignature*Club domestic league appearances and goals, correct as of 22:00, 18 April 2025 (UTC)‡ National team caps and goals, correct as of 23:30, 23 March 2025 (UTC)\", \"score\": 0.750937, \"raw_content\": null}, {\"title\": \"Cristiano Ronaldo | Biography, Football, & Facts | Britannica\", \"url\": \"https://www.britannica.com/biography/Cristiano-Ronaldo\", \"content\": \"Cristiano Ronaldo | Biography, Football, & Facts | Britannica Ronaldo helped United to a Champions League title in May 2008 and captured Fédération Internationale de Football Association (FIFA) World Player of the Year honours for his stellar 2007–08 season. After helping United to a Champions League title in May 2008, Ronaldo captured Fédération Internationale de Football Association (FIFA) World Player of the Year honors for his stellar 2007–08 season. Ronaldo scored 42 goals for Real across all competitions in 2016–17 and led his team to La Liga and Champions League titles that season, which resulted in a fifth career Ballon d’Or award. Cristiano Ronaldo Cristiano Ronaldo (right, with ball) playing for Real Madrid against FC Barcelona in a Copa del Rey quarterfinal match in Barcelona, Spain, on January 25, 2012.\", \"score\": 0.6816637, \"raw_content\": null}], \"response_time\": 1.49}\n",
            "EVENT\n",
            "{'chatbot': {'messages': [AIMessage(content='Search results for \"Ronaldo\" show information about Cristiano Ronaldo, a renowned football player. Here are some of the top results:\\n\\n1. **Cristiano Ronaldo - Wikipedia**\\n   - Wikipedia page providing detailed information about Cristiano Ronaldo\\'s personal', additional_kwargs={'refusal': None}, response_metadata={'token_usage': {'completion_tokens': 50, 'prompt_tokens': 2272, 'total_tokens': 2322, 'completion_tokens_details': {'accepted_prediction_tokens': 0, 'audio_tokens': 0, 'reasoning_tokens': 0, 'rejected_prediction_tokens': 0}, 'prompt_tokens_details': {'audio_tokens': 0, 'cached_tokens': 0}}, 'model_name': 'gpt-3.5-turbo-0125', 'system_fingerprint': None, 'id': 'chatcmpl-BSj2dYcrzu7ZfcgsPtBsA2PBAnqeq', 'finish_reason': 'length', 'logprobs': None}, id='run-bf96dc6a-af35-4c74-a766-16dbdef81bb3-0', usage_metadata={'input_tokens': 2272, 'output_tokens': 50, 'total_tokens': 2322, 'input_token_details': {'audio': 0, 'cache_read': 0}, 'output_token_details': {'audio': 0, 'reasoning': 0}})]}}\n",
            "--------------\n",
            "VALUE\n",
            "{'messages': [AIMessage(content='Search results for \"Ronaldo\" show information about Cristiano Ronaldo, a renowned football player. Here are some of the top results:\\n\\n1. **Cristiano Ronaldo - Wikipedia**\\n   - Wikipedia page providing detailed information about Cristiano Ronaldo\\'s personal', additional_kwargs={'refusal': None}, response_metadata={'token_usage': {'completion_tokens': 50, 'prompt_tokens': 2272, 'total_tokens': 2322, 'completion_tokens_details': {'accepted_prediction_tokens': 0, 'audio_tokens': 0, 'reasoning_tokens': 0, 'rejected_prediction_tokens': 0}, 'prompt_tokens_details': {'audio_tokens': 0, 'cached_tokens': 0}}, 'model_name': 'gpt-3.5-turbo-0125', 'system_fingerprint': None, 'id': 'chatcmpl-BSj2dYcrzu7ZfcgsPtBsA2PBAnqeq', 'finish_reason': 'length', 'logprobs': None}, id='run-bf96dc6a-af35-4c74-a766-16dbdef81bb3-0', usage_metadata={'input_tokens': 2272, 'output_tokens': 50, 'total_tokens': 2322, 'input_token_details': {'audio': 0, 'cache_read': 0}, 'output_token_details': {'audio': 0, 'reasoning': 0}})]}\n",
            "--------------\n",
            "Assistant: Search results for \"Ronaldo\" show information about Cristiano Ronaldo, a renowned football player. Here are some of the top results:\n",
            "\n",
            "1. **Cristiano Ronaldo - Wikipedia**\n",
            "   - Wikipedia page providing detailed information about Cristiano Ronaldo's personal\n"
          ]
        }
      ]
    },
    {
      "cell_type": "code",
      "source": [],
      "metadata": {
        "id": "3fIecIo8u3uT"
      },
      "execution_count": null,
      "outputs": []
    }
  ]
}